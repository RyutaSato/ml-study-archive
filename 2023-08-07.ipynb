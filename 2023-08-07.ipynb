{
 "cells": [
  {
   "cell_type": "markdown",
   "source": [
    "\n",
    "## ロジスティック回帰モデルとlightGBMモデルを組み合わせる．\n",
    "\n",
    "### 背景\n",
    "- ロジスティック回帰モデルが高精度だった\n",
    "- 一般的により精度が高いとされるLightGBMモデルと組み合わせることで，より高い精度を出せる可能性がある．\n",
    "### 使用するデータセット\n",
    "- KDD99 10%\n",
    "### 手法\n",
    "### 結果\n",
    "### 考察"
   ],
   "metadata": {
    "collapsed": false
   }
  },
  {
   "cell_type": "code",
   "execution_count": null,
   "metadata": {
    "collapsed": true
   },
   "outputs": [],
   "source": [
    "from utils_kdd99 import *\n",
    "\n"
   ]
  }
 ],
 "metadata": {
  "kernelspec": {
   "display_name": "Python 3",
   "language": "python",
   "name": "python3"
  },
  "language_info": {
   "codemirror_mode": {
    "name": "ipython",
    "version": 2
   },
   "file_extension": ".py",
   "mimetype": "text/x-python",
   "name": "python",
   "nbconvert_exporter": "python",
   "pygments_lexer": "ipython2",
   "version": "2.7.6"
  }
 },
 "nbformat": 4,
 "nbformat_minor": 0
}
