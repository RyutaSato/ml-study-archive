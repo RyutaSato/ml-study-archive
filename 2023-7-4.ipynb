{
 "cells": [
  {
   "cell_type": "markdown",
   "source": [],
   "metadata": {
    "collapsed": false
   }
  },
  {
   "cell_type": "code",
   "execution_count": 61,
   "metadata": {
    "collapsed": true,
    "ExecuteTime": {
     "end_time": "2023-07-11T00:19:22.014292Z",
     "start_time": "2023-07-11T00:19:22.009346Z"
    }
   },
   "outputs": [
    {
     "name": "stdout",
     "output_type": "stream",
     "text": [
      "colab: False\n",
      "python:      3.10.11\n",
      "sklearn:     1.2.2\n",
      "tensorflow:  2.12.0\n",
      "keras:       2.12.0\n",
      "numpy:       1.23.5\n",
      "pandas:      1.5.3\n"
     ]
    }
   ],
   "source": [
    "# libraryの読み込み\n",
    "import platform\n",
    "import sklearn\n",
    "import tensorflow as tf\n",
    "import numpy as np\n",
    "import pandas as pd\n",
    "import seaborn as sns\n",
    "import keras\n",
    "import matplotlib.pyplot as plt\n",
    "\n",
    "\n",
    "try:\n",
    "    # colab環境上\n",
    "    from google.colab import drive\n",
    "    drive.mount('/content/drive')\n",
    "    pwd = '/content/drive/MyDrive/dataset/'\n",
    "    is_colab = True\n",
    "except ImportError:\n",
    "    import os\n",
    "    # ローカル環境\n",
    "    pwd = os.getcwd() + '/../dataset/'\n",
    "    is_colab = False\n",
    "\n",
    "\n",
    "# 環境出力\n",
    "print(f\"colab: {is_colab}\")\n",
    "print(f\"python:      {platform.python_version()}\")\n",
    "print(f\"sklearn:     {sklearn.__version__}\")\n",
    "print(f\"tensorflow:  {tf.__version__}\")\n",
    "print(f\"keras:       {keras.__version__}\")\n",
    "print(f\"numpy:       {np.__version__}\")\n",
    "print(f\"pandas:      {pd.__version__}\")\n",
    "\n",
    "# enable TPU\n",
    "# if is_colab:\n",
    "#     # detect TPU\n",
    "#     try:\n",
    "#         tpu = tf.distribute.cluster_resolver.TPUClusterResolver()\n",
    "#         print('Running on TPU ', tpu.cluster_spec().as_dict()['worker'])\n",
    "#     except ValueError:\n",
    "#         pass\n",
    "\n",
    "#     tf.config.experimental_connect_to_cluster(tpu)\n",
    "#     tf.tpu.experimental.initialize_tpu_system(tpu)\n",
    "#     tpu_strategy = tf.distribute.TPUStrategy(tpu)\n"
   ]
  },
  {
   "cell_type": "code",
   "execution_count": 66,
   "outputs": [],
   "source": [
    "def load_data():\n",
    "    \"\"\"\n",
    "    データの読み込み\n",
    "    :return:\n",
    "    \"\"\"\n",
    "    # 特徴量名の読み込み\n",
    "    with open(pwd + \"kddcup.names\") as fp:\n",
    "        # 一行目は不要なので無視\n",
    "        _ = fp.readline()\n",
    "        # `:`より手前がラベルなので，その部分を抽出してリストに追加\n",
    "        names = [line.split(':')[0] for line in fp]\n",
    "    print(f\"特徴量の数：{len(names)}\")\n",
    "    print(f\"各特徴量の名前：{', '.join(names)}\")\n",
    "    #　正解ラベルを追加\n",
    "    names.append(\"true_label\")\n",
    "    data = pd.read_csv(pwd + \"kddcup.data_10_percent\", names=names, index_col=False)\n",
    "    data_x = data.copy()\n",
    "    data_x = data_x.drop(columns=['protocol_type', 'service', 'flag'], axis=1)\n",
    "    true_label = data_x.pop('true_label')# 正解ラベルのピリオドを外す．\n",
    "    names = data_x.columns\n",
    "    from sklearn.preprocessing import StandardScaler\n",
    "    data_x = StandardScaler().fit_transform(data_x)\n",
    "    data_x = pd.DataFrame(data_x, columns=names)\n",
    "    true_label = true_label.map(lambda x: x.replace('.', ''))\n",
    "    print(true_label.value_counts())\n",
    "    return data_x, true_label\n",
    "\n",
    "# attack_class_labels -> key: class, value: list[label]\n",
    "attack_class_labels = {\n",
    "    'normal': ['normal'],\n",
    "    'dos': ['back', 'land', 'neptune', 'pod', 'smurf', 'teardrop'],\n",
    "    'u2r': ['buffer_overflow', 'loadmodule', 'perl', 'rootkit'],\n",
    "    'r2l': ['ftp_write', 'guess_passwd', 'imap', 'multihop', 'phf', 'spy', 'warezclient', 'warezmaster'],\n",
    "    'probe': ['ipsweep', 'nmap', 'portsweep', 'satan']\n",
    "}\n",
    "# attack_class_label -> key: label, value: class\n",
    "attack_label_class = {}\n",
    "for c, labels in attack_class_labels.items():\n",
    "    for label in labels:\n",
    "        attack_label_class[label] = c\n"
   ],
   "metadata": {
    "collapsed": false,
    "ExecuteTime": {
     "end_time": "2023-07-11T00:20:29.196453Z",
     "start_time": "2023-07-11T00:20:29.195240Z"
    }
   }
  },
  {
   "cell_type": "code",
   "execution_count": 67,
   "outputs": [
    {
     "name": "stdout",
     "output_type": "stream",
     "text": [
      "特徴量の数：41\n",
      "各特徴量の名前：duration, protocol_type, service, flag, src_bytes, dst_bytes, land, wrong_fragment, urgent, hot, num_failed_logins, logged_in, num_compromised, root_shell, su_attempted, num_root, num_file_creations, num_shells, num_access_files, num_outbound_cmds, is_host_login, is_guest_login, count, srv_count, serror_rate, srv_serror_rate, rerror_rate, srv_rerror_rate, same_srv_rate, diff_srv_rate, srv_diff_host_rate, dst_host_count, dst_host_srv_count, dst_host_same_srv_rate, dst_host_diff_srv_rate, dst_host_same_src_port_rate, dst_host_srv_diff_host_rate, dst_host_serror_rate, dst_host_srv_serror_rate, dst_host_rerror_rate, dst_host_srv_rerror_rate\n",
      "smurf              280790\n",
      "neptune            107201\n",
      "normal              97278\n",
      "back                 2203\n",
      "satan                1589\n",
      "ipsweep              1247\n",
      "portsweep            1040\n",
      "warezclient          1020\n",
      "teardrop              979\n",
      "pod                   264\n",
      "nmap                  231\n",
      "guess_passwd           53\n",
      "buffer_overflow        30\n",
      "land                   21\n",
      "warezmaster            20\n",
      "imap                   12\n",
      "rootkit                10\n",
      "loadmodule              9\n",
      "ftp_write               8\n",
      "multihop                7\n",
      "phf                     4\n",
      "perl                    3\n",
      "spy                     2\n",
      "Name: true_label, dtype: int64\n"
     ]
    },
    {
     "data": {
      "text/plain": "dos       391458\nnormal     97278\nprobe       4107\nr2l         1126\nu2r           52\nName: true_label, dtype: int64"
     },
     "execution_count": 67,
     "metadata": {},
     "output_type": "execute_result"
    }
   ],
   "source": [
    "data_x, data_y = load_data()\n",
    "\n",
    "# 4つのクラスラベルに変換する\n",
    "data_y = data_y.map(lambda x: attack_label_class[x])\n",
    "data_y.value_counts()\n"
   ],
   "metadata": {
    "collapsed": false,
    "ExecuteTime": {
     "end_time": "2023-07-11T00:20:33.606231Z",
     "start_time": "2023-07-11T00:20:31.912148Z"
    }
   }
  },
  {
   "cell_type": "code",
   "execution_count": 68,
   "outputs": [
    {
     "name": "stdout",
     "output_type": "stream",
     "text": [
      "x_train: 330994, x_test: 163027\n",
      "y_train\n",
      "dos       262277\n",
      "normal     65176\n",
      "probe       2752\n",
      "r2l          754\n",
      "u2r           35\n",
      "Name: true_label, dtype: int64\n",
      "y_test\n",
      "dos       129181\n",
      "normal     32102\n",
      "probe       1355\n",
      "r2l          372\n",
      "u2r           17\n",
      "Name: true_label, dtype: int64\n"
     ]
    }
   ],
   "source": [
    "from sklearn.model_selection import train_test_split\n",
    "# data_y = pd.get_dummies(data_y)\n",
    "# データを分割する。テストと，学習の比は1：2なるようにします。\n",
    "x_train, x_test, y_train, y_test = train_test_split(data_x, data_y, test_size=0.33,random_state=2018, stratify=data_y)\n",
    "print(f\"x_train: {len(x_train)}, x_test: {len(x_test)}\")\n",
    "print(f'y_train')\n",
    "print((y_train.value_counts()))\n",
    "print(f'y_test')\n",
    "print(y_test.value_counts())"
   ],
   "metadata": {
    "collapsed": false,
    "ExecuteTime": {
     "end_time": "2023-07-11T00:20:37.630577Z",
     "start_time": "2023-07-11T00:20:37.367129Z"
    }
   }
  },
  {
   "cell_type": "code",
   "execution_count": 69,
   "outputs": [
    {
     "data": {
      "text/plain": "38204     normal\n176442       dos\n384838       dos\n261369       dos\n17533     normal\nName: true_label, dtype: object"
     },
     "execution_count": 69,
     "metadata": {},
     "output_type": "execute_result"
    }
   ],
   "source": [
    "y_test.head()"
   ],
   "metadata": {
    "collapsed": false,
    "ExecuteTime": {
     "end_time": "2023-07-11T00:20:39.824813Z",
     "start_time": "2023-07-11T00:20:39.795077Z"
    }
   }
  },
  {
   "cell_type": "markdown",
   "source": [
    "### scikit-learnのLigisticRegressionによる多クラス分類"
   ],
   "metadata": {
    "collapsed": false
   }
  },
  {
   "cell_type": "code",
   "execution_count": 70,
   "outputs": [],
   "source": [
    "from sklearn.linear_model import LogisticRegression\n",
    "model = LogisticRegression(random_state=2018, solver='liblinear')\n",
    "\n",
    "model.fit(x_train, y_train)\n",
    "y_predict = model.predict(x_test)"
   ],
   "metadata": {
    "collapsed": false,
    "ExecuteTime": {
     "end_time": "2023-07-11T00:21:32.683570Z",
     "start_time": "2023-07-11T00:20:41.324479Z"
    }
   }
  },
  {
   "cell_type": "code",
   "execution_count": 71,
   "outputs": [
    {
     "name": "stdout",
     "output_type": "stream",
     "text": [
      "              precision    recall  f1-score   support\n",
      "\n",
      "         dos       1.00      1.00      1.00    129181\n",
      "      normal       0.99      0.99      0.99     32102\n",
      "       probe       0.93      0.86      0.89      1355\n",
      "         r2l       0.87      0.86      0.86       372\n",
      "         u2r       0.54      0.41      0.47        17\n",
      "\n",
      "    accuracy                           1.00    163027\n",
      "   macro avg       0.86      0.83      0.84    163027\n",
      "weighted avg       1.00      1.00      1.00    163027\n"
     ]
    }
   ],
   "source": [
    "from sklearn.metrics import accuracy_score,classification_report\n",
    "print(classification_report(y_test, y_predict))"
   ],
   "metadata": {
    "collapsed": false,
    "ExecuteTime": {
     "end_time": "2023-07-11T00:21:35.279080Z",
     "start_time": "2023-07-11T00:21:32.766277Z"
    }
   }
  },
  {
   "cell_type": "markdown",
   "source": [
    "## オートエンコーダを用いて，学習したモデルのエンコーダ部分を教師あり学習に用いる"
   ],
   "metadata": {
    "collapsed": false
   }
  },
  {
   "cell_type": "code",
   "execution_count": 72,
   "outputs": [
    {
     "name": "stdout",
     "output_type": "stream",
     "text": [
      "Model: \"sequential_8\"\n",
      "_________________________________________________________________\n",
      " Layer (type)                Output Shape              Param #   \n",
      "=================================================================\n",
      " encoder1 (Dense)            (None, 19)                741       \n",
      "                                                                 \n",
      " encoder2 (Dense)            (None, 10)                200       \n",
      "                                                                 \n",
      " dense_8 (Dense)             (None, 19)                209       \n",
      "                                                                 \n",
      " dense_9 (Dense)             (None, 38)                760       \n",
      "                                                                 \n",
      "=================================================================\n",
      "Total params: 1,910\n",
      "Trainable params: 1,910\n",
      "Non-trainable params: 0\n",
      "_________________________________________________________________\n"
     ]
    }
   ],
   "source": [
    "from keras.layers import Dense\n",
    "\n",
    "model = keras.Sequential([\n",
    "    Dense(units=19, activation='relu', input_dim=38, name='encoder1'),\n",
    "    Dense(units=10, activation='relu', name='encoder2'),\n",
    "    Dense(units=19, activation='relu'),\n",
    "    Dense(units=38, activation='relu'),\n",
    "])\n",
    "model.summary()\n"
   ],
   "metadata": {
    "collapsed": false,
    "ExecuteTime": {
     "end_time": "2023-07-11T00:21:35.332727Z",
     "start_time": "2023-07-11T00:21:35.290700Z"
    }
   }
  },
  {
   "cell_type": "code",
   "execution_count": 73,
   "outputs": [
    {
     "name": "stdout",
     "output_type": "stream",
     "text": [
      "10344/10344 [==============================] - 8s 754us/step - loss: 0.5500 - accuracy: 0.4027 - val_loss: 0.5302 - val_accuracy: 0.3937\n"
     ]
    },
    {
     "data": {
      "text/plain": "<keras.callbacks.History at 0x2820e8940>"
     },
     "execution_count": 73,
     "metadata": {},
     "output_type": "execute_result"
    }
   ],
   "source": [
    "model.compile(optimizer='adam', loss='mean_squared_error', metrics=['accuracy'])\n",
    "model.fit(x_train, x_train,\n",
    "          epochs=1, # データセットを使って学習する回数\n",
    "        batch_size=32,\n",
    "        shuffle=True, # データをシャッフルすることで，．\n",
    "        validation_data=(x_train, x_train), # 評価用データ（検証データ）の指定\n",
    "        verbose=1,\n",
    "        use_multiprocessing=True\n",
    "          )\n"
   ],
   "metadata": {
    "collapsed": false,
    "ExecuteTime": {
     "end_time": "2023-07-11T00:21:43.461599Z",
     "start_time": "2023-07-11T00:21:35.318546Z"
    }
   }
  },
  {
   "cell_type": "code",
   "execution_count": 74,
   "outputs": [
    {
     "name": "stdout",
     "output_type": "stream",
     "text": [
      "5095/5095 [==============================] - 1s 244us/step\n"
     ]
    }
   ],
   "source": [
    "x_predict = model.predict(x_test)\n",
    "def reconstruction_errors(original_df: pd.DataFrame, reconstructed_df: pd.DataFrame) -> np.ndarray:\n",
    "    \"\"\"\n",
    "    元の特徴量行列と，新たに再構成された特徴量行列の間の再構成誤差を計算する．\n",
    "    各特徴量ごとの再構成前後の誤差を二乗し，全ての特徴量を足し合わせる．正規化して0〜1に納める．\n",
    "    0に近いほど正常，１に近いほど異常\n",
    "    :param original_df: 元の特徴量の行列\n",
    "    :param reconstructed_df: 再構成された特徴量の行列\n",
    "    :param reversed:\n",
    "    :return:\n",
    "    \"\"\"\n",
    "    loss: np.ndarray = np.sum((np.array(original_df) - np.array(reconstructed_df)) ** 2, axis=1)\n",
    "    loss: pd.Series = pd.Series(loss, index=original_df.index)\n",
    "    loss: np.ndarray = (loss - np.min(loss)) / (np.max(loss) - np.min(loss))\n",
    "    return loss"
   ],
   "metadata": {
    "collapsed": false,
    "ExecuteTime": {
     "end_time": "2023-07-11T00:21:45.212868Z",
     "start_time": "2023-07-11T00:21:43.462659Z"
    }
   }
  },
  {
   "cell_type": "code",
   "execution_count": 75,
   "outputs": [],
   "source": [
    "encoder = keras.Sequential([model.get_layer('encoder1'),\n",
    "                            model.get_layer('encoder2')])\n"
   ],
   "metadata": {
    "collapsed": false,
    "ExecuteTime": {
     "end_time": "2023-07-11T00:21:45.222542Z",
     "start_time": "2023-07-11T00:21:45.215888Z"
    }
   }
  },
  {
   "cell_type": "code",
   "execution_count": 76,
   "outputs": [
    {
     "name": "stdout",
     "output_type": "stream",
     "text": [
      "10344/10344 [==============================] - 2s 228us/step\n",
      "5095/5095 [==============================] - 1s 223us/step\n"
     ]
    }
   ],
   "source": [
    "columns = list(map(lambda x: 'feature' + str(x), range(10)))\n",
    "x_train_encoded = pd.DataFrame(data=encoder.predict(x_train), index=x_train.index, columns=columns)\n",
    "x_test_encoded = pd.DataFrame(data=encoder.predict(x_test), index=x_test.index, columns=columns)\n",
    "x_train_new_feature = x_train.merge(x_train_encoded, right_index=True, left_index=True)\n",
    "x_test_new_feature = x_test.merge(x_test_encoded, right_index=True, left_index=True)\n"
   ],
   "metadata": {
    "collapsed": false,
    "ExecuteTime": {
     "end_time": "2023-07-11T00:21:50.203096Z",
     "start_time": "2023-07-11T00:21:45.222794Z"
    }
   }
  },
  {
   "cell_type": "code",
   "execution_count": 77,
   "outputs": [
    {
     "data": {
      "text/plain": "        duration  src_bytes  dst_bytes      land  wrong_fragment    urgent  \\\n212221 -0.067792  -0.002017  -0.026287 -0.006673        -0.04772 -0.002571   \n30903  -0.067792  -0.002774   0.472896 -0.006673        -0.04772 -0.002571   \n9739   -0.067792  -0.002017  -0.026287 -0.006673        -0.04772 -0.002571   \n37540  -0.067792  -0.002776  -0.014120 -0.006673        -0.04772 -0.002571   \n418638 -0.067792  -0.002535  -0.026287 -0.006673        -0.04772 -0.002571   \n...          ...        ...        ...       ...             ...       ...   \n443069 -0.067792  -0.002535  -0.026287 -0.006673        -0.04772 -0.002571   \n282911 -0.067792  -0.002017  -0.026287 -0.006673        -0.04772 -0.002571   \n156862 -0.067792  -0.002017  -0.026287 -0.006673        -0.04772 -0.002571   \n227651 -0.067792  -0.002017  -0.026287 -0.006673        -0.04772 -0.002571   \n396962 -0.067792  -0.002796   0.018810 -0.006673        -0.04772 -0.002571   \n\n             hot  num_failed_logins  logged_in  num_compromised  ...  \\\n212221 -0.044136          -0.009782  -0.417192        -0.005679  ...   \n30903  -0.044136          -0.009782   2.396980        -0.005679  ...   \n9739   -0.044136          -0.009782  -0.417192        -0.005679  ...   \n37540  -0.044136          -0.009782   2.396980        -0.005679  ...   \n418638 -0.044136          -0.009782  -0.417192        -0.005679  ...   \n...          ...                ...        ...              ...  ...   \n443069 -0.044136          -0.009782  -0.417192        -0.005679  ...   \n282911 -0.044136          -0.009782  -0.417192        -0.005679  ...   \n156862 -0.044136          -0.009782  -0.417192        -0.005679  ...   \n227651 -0.044136          -0.009782  -0.417192        -0.005679  ...   \n396962 -0.044136          -0.009782   2.396980        -0.005679  ...   \n\n        feature0  feature1  feature2  feature3  feature4  feature5  feature6  \\\n212221  0.000000  1.277205  0.000000  0.108720  0.422462  1.648855  0.077227   \n30903   1.958844  0.378546  6.753596  6.021462  0.000000  2.715844  2.443421   \n9739    0.000000  1.276137  0.000000  0.107538  0.423957  1.647022  0.075201   \n37540   2.131836  0.000000  6.723519  6.154136  0.000000  2.330154  2.873864   \n418638  0.000000  1.276377  0.000000  0.107716  0.424246  1.647340  0.075353   \n...          ...       ...       ...       ...       ...       ...       ...   \n443069  0.000000  1.276377  0.000000  0.107716  0.424246  1.647340  0.075353   \n282911  0.000000  1.276137  0.000000  0.107538  0.423957  1.647022  0.075201   \n156862  0.000000  1.277205  0.000000  0.108720  0.422462  1.648855  0.077227   \n227651  0.000000  1.276137  0.000000  0.107538  0.423957  1.647022  0.075201   \n396962  1.201900  0.000000  5.226502  4.604786  0.111258  2.614213  1.576504   \n\n        feature7  feature8  feature9  \n212221  0.175952  0.000000  1.477143  \n30903   0.000000  0.484922  2.399273  \n9739    0.175824  0.000000  1.477987  \n37540   0.000000  0.620295  2.420650  \n418638  0.176048  0.000000  1.477969  \n...          ...       ...       ...  \n443069  0.176048  0.000000  1.477969  \n282911  0.175824  0.000000  1.477987  \n156862  0.175952  0.000000  1.477143  \n227651  0.175824  0.000000  1.477987  \n396962  0.000000  0.217684  2.717103  \n\n[330994 rows x 48 columns]",
      "text/html": "<div>\n<style scoped>\n    .dataframe tbody tr th:only-of-type {\n        vertical-align: middle;\n    }\n\n    .dataframe tbody tr th {\n        vertical-align: top;\n    }\n\n    .dataframe thead th {\n        text-align: right;\n    }\n</style>\n<table border=\"1\" class=\"dataframe\">\n  <thead>\n    <tr style=\"text-align: right;\">\n      <th></th>\n      <th>duration</th>\n      <th>src_bytes</th>\n      <th>dst_bytes</th>\n      <th>land</th>\n      <th>wrong_fragment</th>\n      <th>urgent</th>\n      <th>hot</th>\n      <th>num_failed_logins</th>\n      <th>logged_in</th>\n      <th>num_compromised</th>\n      <th>...</th>\n      <th>feature0</th>\n      <th>feature1</th>\n      <th>feature2</th>\n      <th>feature3</th>\n      <th>feature4</th>\n      <th>feature5</th>\n      <th>feature6</th>\n      <th>feature7</th>\n      <th>feature8</th>\n      <th>feature9</th>\n    </tr>\n  </thead>\n  <tbody>\n    <tr>\n      <th>212221</th>\n      <td>-0.067792</td>\n      <td>-0.002017</td>\n      <td>-0.026287</td>\n      <td>-0.006673</td>\n      <td>-0.04772</td>\n      <td>-0.002571</td>\n      <td>-0.044136</td>\n      <td>-0.009782</td>\n      <td>-0.417192</td>\n      <td>-0.005679</td>\n      <td>...</td>\n      <td>0.000000</td>\n      <td>1.277205</td>\n      <td>0.000000</td>\n      <td>0.108720</td>\n      <td>0.422462</td>\n      <td>1.648855</td>\n      <td>0.077227</td>\n      <td>0.175952</td>\n      <td>0.000000</td>\n      <td>1.477143</td>\n    </tr>\n    <tr>\n      <th>30903</th>\n      <td>-0.067792</td>\n      <td>-0.002774</td>\n      <td>0.472896</td>\n      <td>-0.006673</td>\n      <td>-0.04772</td>\n      <td>-0.002571</td>\n      <td>-0.044136</td>\n      <td>-0.009782</td>\n      <td>2.396980</td>\n      <td>-0.005679</td>\n      <td>...</td>\n      <td>1.958844</td>\n      <td>0.378546</td>\n      <td>6.753596</td>\n      <td>6.021462</td>\n      <td>0.000000</td>\n      <td>2.715844</td>\n      <td>2.443421</td>\n      <td>0.000000</td>\n      <td>0.484922</td>\n      <td>2.399273</td>\n    </tr>\n    <tr>\n      <th>9739</th>\n      <td>-0.067792</td>\n      <td>-0.002017</td>\n      <td>-0.026287</td>\n      <td>-0.006673</td>\n      <td>-0.04772</td>\n      <td>-0.002571</td>\n      <td>-0.044136</td>\n      <td>-0.009782</td>\n      <td>-0.417192</td>\n      <td>-0.005679</td>\n      <td>...</td>\n      <td>0.000000</td>\n      <td>1.276137</td>\n      <td>0.000000</td>\n      <td>0.107538</td>\n      <td>0.423957</td>\n      <td>1.647022</td>\n      <td>0.075201</td>\n      <td>0.175824</td>\n      <td>0.000000</td>\n      <td>1.477987</td>\n    </tr>\n    <tr>\n      <th>37540</th>\n      <td>-0.067792</td>\n      <td>-0.002776</td>\n      <td>-0.014120</td>\n      <td>-0.006673</td>\n      <td>-0.04772</td>\n      <td>-0.002571</td>\n      <td>-0.044136</td>\n      <td>-0.009782</td>\n      <td>2.396980</td>\n      <td>-0.005679</td>\n      <td>...</td>\n      <td>2.131836</td>\n      <td>0.000000</td>\n      <td>6.723519</td>\n      <td>6.154136</td>\n      <td>0.000000</td>\n      <td>2.330154</td>\n      <td>2.873864</td>\n      <td>0.000000</td>\n      <td>0.620295</td>\n      <td>2.420650</td>\n    </tr>\n    <tr>\n      <th>418638</th>\n      <td>-0.067792</td>\n      <td>-0.002535</td>\n      <td>-0.026287</td>\n      <td>-0.006673</td>\n      <td>-0.04772</td>\n      <td>-0.002571</td>\n      <td>-0.044136</td>\n      <td>-0.009782</td>\n      <td>-0.417192</td>\n      <td>-0.005679</td>\n      <td>...</td>\n      <td>0.000000</td>\n      <td>1.276377</td>\n      <td>0.000000</td>\n      <td>0.107716</td>\n      <td>0.424246</td>\n      <td>1.647340</td>\n      <td>0.075353</td>\n      <td>0.176048</td>\n      <td>0.000000</td>\n      <td>1.477969</td>\n    </tr>\n    <tr>\n      <th>...</th>\n      <td>...</td>\n      <td>...</td>\n      <td>...</td>\n      <td>...</td>\n      <td>...</td>\n      <td>...</td>\n      <td>...</td>\n      <td>...</td>\n      <td>...</td>\n      <td>...</td>\n      <td>...</td>\n      <td>...</td>\n      <td>...</td>\n      <td>...</td>\n      <td>...</td>\n      <td>...</td>\n      <td>...</td>\n      <td>...</td>\n      <td>...</td>\n      <td>...</td>\n      <td>...</td>\n    </tr>\n    <tr>\n      <th>443069</th>\n      <td>-0.067792</td>\n      <td>-0.002535</td>\n      <td>-0.026287</td>\n      <td>-0.006673</td>\n      <td>-0.04772</td>\n      <td>-0.002571</td>\n      <td>-0.044136</td>\n      <td>-0.009782</td>\n      <td>-0.417192</td>\n      <td>-0.005679</td>\n      <td>...</td>\n      <td>0.000000</td>\n      <td>1.276377</td>\n      <td>0.000000</td>\n      <td>0.107716</td>\n      <td>0.424246</td>\n      <td>1.647340</td>\n      <td>0.075353</td>\n      <td>0.176048</td>\n      <td>0.000000</td>\n      <td>1.477969</td>\n    </tr>\n    <tr>\n      <th>282911</th>\n      <td>-0.067792</td>\n      <td>-0.002017</td>\n      <td>-0.026287</td>\n      <td>-0.006673</td>\n      <td>-0.04772</td>\n      <td>-0.002571</td>\n      <td>-0.044136</td>\n      <td>-0.009782</td>\n      <td>-0.417192</td>\n      <td>-0.005679</td>\n      <td>...</td>\n      <td>0.000000</td>\n      <td>1.276137</td>\n      <td>0.000000</td>\n      <td>0.107538</td>\n      <td>0.423957</td>\n      <td>1.647022</td>\n      <td>0.075201</td>\n      <td>0.175824</td>\n      <td>0.000000</td>\n      <td>1.477987</td>\n    </tr>\n    <tr>\n      <th>156862</th>\n      <td>-0.067792</td>\n      <td>-0.002017</td>\n      <td>-0.026287</td>\n      <td>-0.006673</td>\n      <td>-0.04772</td>\n      <td>-0.002571</td>\n      <td>-0.044136</td>\n      <td>-0.009782</td>\n      <td>-0.417192</td>\n      <td>-0.005679</td>\n      <td>...</td>\n      <td>0.000000</td>\n      <td>1.277205</td>\n      <td>0.000000</td>\n      <td>0.108720</td>\n      <td>0.422462</td>\n      <td>1.648855</td>\n      <td>0.077227</td>\n      <td>0.175952</td>\n      <td>0.000000</td>\n      <td>1.477143</td>\n    </tr>\n    <tr>\n      <th>227651</th>\n      <td>-0.067792</td>\n      <td>-0.002017</td>\n      <td>-0.026287</td>\n      <td>-0.006673</td>\n      <td>-0.04772</td>\n      <td>-0.002571</td>\n      <td>-0.044136</td>\n      <td>-0.009782</td>\n      <td>-0.417192</td>\n      <td>-0.005679</td>\n      <td>...</td>\n      <td>0.000000</td>\n      <td>1.276137</td>\n      <td>0.000000</td>\n      <td>0.107538</td>\n      <td>0.423957</td>\n      <td>1.647022</td>\n      <td>0.075201</td>\n      <td>0.175824</td>\n      <td>0.000000</td>\n      <td>1.477987</td>\n    </tr>\n    <tr>\n      <th>396962</th>\n      <td>-0.067792</td>\n      <td>-0.002796</td>\n      <td>0.018810</td>\n      <td>-0.006673</td>\n      <td>-0.04772</td>\n      <td>-0.002571</td>\n      <td>-0.044136</td>\n      <td>-0.009782</td>\n      <td>2.396980</td>\n      <td>-0.005679</td>\n      <td>...</td>\n      <td>1.201900</td>\n      <td>0.000000</td>\n      <td>5.226502</td>\n      <td>4.604786</td>\n      <td>0.111258</td>\n      <td>2.614213</td>\n      <td>1.576504</td>\n      <td>0.000000</td>\n      <td>0.217684</td>\n      <td>2.717103</td>\n    </tr>\n  </tbody>\n</table>\n<p>330994 rows × 48 columns</p>\n</div>"
     },
     "execution_count": 77,
     "metadata": {},
     "output_type": "execute_result"
    }
   ],
   "source": [
    "x_train_new_feature"
   ],
   "metadata": {
    "collapsed": false,
    "ExecuteTime": {
     "end_time": "2023-07-11T00:21:50.254757Z",
     "start_time": "2023-07-11T00:21:50.214995Z"
    }
   }
  },
  {
   "cell_type": "code",
   "execution_count": 78,
   "outputs": [
    {
     "name": "stderr",
     "output_type": "stream",
     "text": [
      "/Users/satun/anaconda3/lib/python3.10/site-packages/sklearn/svm/_base.py:1244: ConvergenceWarning: Liblinear failed to converge, increase the number of iterations.\n",
      "  warnings.warn(\n"
     ]
    },
    {
     "name": "stdout",
     "output_type": "stream",
     "text": [
      "              precision    recall  f1-score   support\n",
      "\n",
      "         dos       1.00      1.00      1.00    129181\n",
      "      normal       0.99      1.00      1.00     32102\n",
      "       probe       0.99      0.94      0.96      1355\n",
      "         r2l       0.90      0.80      0.85       372\n",
      "         u2r       0.54      0.41      0.47        17\n",
      "\n",
      "    accuracy                           1.00    163027\n",
      "   macro avg       0.88      0.83      0.85    163027\n",
      "weighted avg       1.00      1.00      1.00    163027\n"
     ]
    }
   ],
   "source": [
    "model = LogisticRegression(random_state=2018, solver='liblinear')\n",
    "\n",
    "model.fit(x_train_new_feature, y_train)\n",
    "y_predict = model.predict(x_test_new_feature)\n",
    "print(classification_report(y_test, y_predict))"
   ],
   "metadata": {
    "collapsed": false,
    "ExecuteTime": {
     "end_time": "2023-07-11T00:22:58.579856Z",
     "start_time": "2023-07-11T00:21:50.258444Z"
    }
   }
  },
  {
   "cell_type": "markdown",
   "source": [
    "## カテゴリデータを除いた３８次元の特徴量を入力に用いたロジスティック回帰分類\n",
    "              precision    recall  f1-score   support\n",
    "\n",
    "         dos       1.00      1.00      1.00    129181\n",
    "      normal       0.99      0.99      0.99     32102\n",
    "       probe       0.93      0.86      0.89      1355\n",
    "         r2l       0.87      0.86      0.86       372\n",
    "         u2r       0.54      0.41      0.47        17\n",
    "\n",
    "    accuracy                           1.00    163027\n",
    "   macro avg       0.86      0.83      0.84    163027\n",
    "weighted avg       1.00      1.00      1.00    163027\n",
    "\n",
    "\n",
    "\n",
    "\n",
    "## カテゴリデータを除いた３８次元の特徴量と，オートエンコーダで学習したエンコーダー部分の１０次元の特徴量を合わせた４８次元を入力に用いたロジスティック回帰分類\n",
    "              precision    recall  f1-score   support\n",
    "\n",
    "         dos       1.00      1.00      1.00    129181\n",
    "      normal       0.99      1.00      1.00     32102\n",
    "       probe       0.99      0.94      0.96      1355\n",
    "         r2l       0.90      0.80      0.85       372\n",
    "         u2r       0.54      0.41      0.47        17\n",
    "\n",
    "    accuracy                           1.00    163027\n",
    "   macro avg       0.88      0.83      0.85    163027\n",
    "weighted avg       1.00      1.00      1.00    163027"
   ],
   "metadata": {
    "collapsed": false
   }
  },
  {
   "cell_type": "markdown",
   "source": [
    "## エンコーダ部分の出力を10->5次元に圧縮して再度行う"
   ],
   "metadata": {
    "collapsed": false
   }
  },
  {
   "cell_type": "code",
   "execution_count": 79,
   "outputs": [
    {
     "name": "stdout",
     "output_type": "stream",
     "text": [
      "Model: \"sequential_10\"\n",
      "_________________________________________________________________\n",
      " Layer (type)                Output Shape              Param #   \n",
      "=================================================================\n",
      " encoder1 (Dense)            (None, 19)                741       \n",
      "                                                                 \n",
      " encoder2 (Dense)            (None, 5)                 100       \n",
      "                                                                 \n",
      " dense_10 (Dense)            (None, 19)                114       \n",
      "                                                                 \n",
      " dense_11 (Dense)            (None, 38)                760       \n",
      "                                                                 \n",
      "=================================================================\n",
      "Total params: 1,715\n",
      "Trainable params: 1,715\n",
      "Non-trainable params: 0\n",
      "_________________________________________________________________\n"
     ]
    }
   ],
   "source": [
    "model = keras.Sequential([\n",
    "    Dense(units=19, activation='relu', input_dim=38, name='encoder1'),\n",
    "    Dense(units=5, activation='relu', name='encoder2'),\n",
    "    Dense(units=19, activation='relu'),\n",
    "    Dense(units=38, activation='relu'),\n",
    "])\n",
    "model.summary()"
   ],
   "metadata": {
    "collapsed": false,
    "ExecuteTime": {
     "end_time": "2023-07-11T00:33:25.813891Z",
     "start_time": "2023-07-11T00:33:25.736581Z"
    }
   }
  },
  {
   "cell_type": "code",
   "execution_count": 81,
   "outputs": [
    {
     "name": "stdout",
     "output_type": "stream",
     "text": [
      "10344/10344 [==============================] - 8s 751us/step - loss: 0.5633 - accuracy: 0.8930 - val_loss: 0.5579 - val_accuracy: 0.8928\n",
      "5095/5095 [==============================] - 1s 240us/step\n",
      "10344/10344 [==============================] - 2s 219us/step\n",
      "5095/5095 [==============================] - 1s 230us/step\n"
     ]
    }
   ],
   "source": [
    "model.compile(optimizer='adam', loss='mean_squared_error', metrics=['accuracy'])\n",
    "model.fit(x_train, x_train,\n",
    "          epochs=1, # データセットを使って学習する回数\n",
    "        batch_size=32,\n",
    "        shuffle=True, # データをシャッフルすることで，．\n",
    "        validation_data=(x_train, x_train), # 評価用データ（検証データ）の指定\n",
    "        verbose=1,\n",
    "        use_multiprocessing=True\n",
    "          )\n",
    "x_predict = model.predict(x_test)\n",
    "encoder = keras.Sequential([model.get_layer('encoder1'),\n",
    "                            model.get_layer('encoder2')])\n",
    "columns = list(map(lambda x: 'feature' + str(x), range(5)))\n",
    "x_train_encoded = pd.DataFrame(data=encoder.predict(x_train), index=x_train.index, columns=columns)\n",
    "x_test_encoded = pd.DataFrame(data=encoder.predict(x_test), index=x_test.index, columns=columns)\n",
    "x_train_new_feature = x_train.merge(x_train_encoded, right_index=True, left_index=True)\n",
    "x_test_new_feature = x_test.merge(x_test_encoded, right_index=True, left_index=True)"
   ],
   "metadata": {
    "collapsed": false,
    "ExecuteTime": {
     "end_time": "2023-07-11T00:37:29.352165Z",
     "start_time": "2023-07-11T00:37:14.441296Z"
    }
   }
  },
  {
   "cell_type": "markdown",
   "source": [
    "## カテゴリデータを除いた３８次元の特徴量を入力に用いたロジスティック回帰分類\n",
    "              precision    recall  f1-score   support\n",
    "\n",
    "         dos       1.00      1.00      1.00    129181\n",
    "      normal       0.99      0.99      0.99     32102\n",
    "       probe       0.93      0.86      0.89      1355\n",
    "         r2l       0.87      0.86      0.86       372\n",
    "         u2r       0.54      0.41      0.47        17\n",
    "\n",
    "    accuracy                           1.00    163027\n",
    "   macro avg       0.86      0.83      0.84    163027\n",
    "weighted avg       1.00      1.00      1.00    163027\n",
    "\n",
    "\n",
    "## カテゴリデータを除いた３８次元の特徴量と，オートエンコーダで学習したエンコーダー部分の5次元の特徴量を合わせた４3次元を入力に用いたロジスティック回帰分類\n",
    "\n",
    "              precision    recall  f1-score   support\n",
    "\n",
    "         dos       1.00      1.00      1.00    129181\n",
    "      normal       0.99      1.00      0.99     32102\n",
    "       probe       0.98      0.91      0.94      1355\n",
    "         r2l       0.87      0.77      0.82       372\n",
    "         u2r       0.88      0.41      0.56        17\n",
    "\n",
    "    accuracy                           1.00    163027\n",
    "   macro avg       0.94      0.82      0.86    163027\n",
    "weighted avg       1.00      1.00      1.00    163027\n",
    "\n"
   ],
   "metadata": {
    "collapsed": false
   }
  },
  {
   "cell_type": "code",
   "execution_count": 82,
   "outputs": [
    {
     "name": "stderr",
     "output_type": "stream",
     "text": [
      "/Users/satun/anaconda3/lib/python3.10/site-packages/sklearn/svm/_base.py:1244: ConvergenceWarning: Liblinear failed to converge, increase the number of iterations.\n",
      "  warnings.warn(\n"
     ]
    },
    {
     "name": "stdout",
     "output_type": "stream",
     "text": [
      "              precision    recall  f1-score   support\n",
      "\n",
      "         dos       1.00      1.00      1.00    129181\n",
      "      normal       0.99      1.00      0.99     32102\n",
      "       probe       0.98      0.91      0.94      1355\n",
      "         r2l       0.87      0.77      0.82       372\n",
      "         u2r       0.88      0.41      0.56        17\n",
      "\n",
      "    accuracy                           1.00    163027\n",
      "   macro avg       0.94      0.82      0.86    163027\n",
      "weighted avg       1.00      1.00      1.00    163027\n"
     ]
    }
   ],
   "source": [
    "model = LogisticRegression(random_state=2018, solver='liblinear')\n",
    "model.fit(x_train_new_feature, y_train)\n",
    "y_predict = model.predict(x_test_new_feature)\n",
    "print(classification_report(y_test, y_predict))\n"
   ],
   "metadata": {
    "collapsed": false,
    "ExecuteTime": {
     "end_time": "2023-07-11T00:38:40.030670Z",
     "start_time": "2023-07-11T00:37:47.518887Z"
    }
   }
  },
  {
   "cell_type": "code",
   "execution_count": 83,
   "outputs": [
    {
     "name": "stderr",
     "output_type": "stream",
     "text": [
      "/Users/satun/anaconda3/lib/python3.10/site-packages/sklearn/metrics/_classification.py:1344: UndefinedMetricWarning: Precision and F-score are ill-defined and being set to 0.0 in labels with no predicted samples. Use `zero_division` parameter to control this behavior.\n",
      "  _warn_prf(average, modifier, msg_start, len(result))\n",
      "/Users/satun/anaconda3/lib/python3.10/site-packages/sklearn/metrics/_classification.py:1344: UndefinedMetricWarning: Precision and F-score are ill-defined and being set to 0.0 in labels with no predicted samples. Use `zero_division` parameter to control this behavior.\n",
      "  _warn_prf(average, modifier, msg_start, len(result))\n"
     ]
    },
    {
     "name": "stdout",
     "output_type": "stream",
     "text": [
      "              precision    recall  f1-score   support\n",
      "\n",
      "         dos       0.96      0.99      0.98    129181\n",
      "      normal       0.94      0.84      0.89     32102\n",
      "       probe       1.00      0.56      0.72      1355\n",
      "         r2l       0.00      0.00      0.00       372\n",
      "         u2r       0.00      0.00      0.00        17\n",
      "\n",
      "    accuracy                           0.96    163027\n",
      "   macro avg       0.58      0.48      0.52    163027\n",
      "weighted avg       0.96      0.96      0.96    163027\n"
     ]
    },
    {
     "name": "stderr",
     "output_type": "stream",
     "text": [
      "/Users/satun/anaconda3/lib/python3.10/site-packages/sklearn/metrics/_classification.py:1344: UndefinedMetricWarning: Precision and F-score are ill-defined and being set to 0.0 in labels with no predicted samples. Use `zero_division` parameter to control this behavior.\n",
      "  _warn_prf(average, modifier, msg_start, len(result))\n"
     ]
    }
   ],
   "source": [
    "model = LogisticRegression(random_state=2018, solver='liblinear')\n",
    "\n",
    "model.fit(x_train_encoded, y_train)\n",
    "y_predict = model.predict(x_test_encoded)\n",
    "print(classification_report(y_test, y_predict))\n"
   ],
   "metadata": {
    "collapsed": false,
    "ExecuteTime": {
     "end_time": "2023-07-11T00:47:08.665885Z",
     "start_time": "2023-07-11T00:47:03.803142Z"
    }
   }
  },
  {
   "cell_type": "markdown",
   "source": [
    "## エンコーダー部分の５次元の出力を入力としたロジスティック回帰分類\n",
    "\n",
    "              precision    recall  f1-score   support\n",
    "\n",
    "         dos       0.96      0.99      0.98    129181\n",
    "      normal       0.94      0.84      0.89     32102\n",
    "       probe       1.00      0.56      0.72      1355\n",
    "         r2l       0.00      0.00      0.00       372\n",
    "         u2r       0.00      0.00      0.00        17\n",
    "\n",
    "    accuracy                           0.96    163027\n",
    "   macro avg       0.58      0.48      0.52    163027\n",
    "weighted avg       0.96      0.96      0.96    163027\n"
   ],
   "metadata": {
    "collapsed": false
   }
  },
  {
   "cell_type": "code",
   "execution_count": null,
   "outputs": [],
   "source": [],
   "metadata": {
    "collapsed": false
   }
  }
 ],
 "metadata": {
  "kernelspec": {
   "display_name": "Python 3",
   "language": "python",
   "name": "python3"
  },
  "language_info": {
   "codemirror_mode": {
    "name": "ipython",
    "version": 2
   },
   "file_extension": ".py",
   "mimetype": "text/x-python",
   "name": "python",
   "nbconvert_exporter": "python",
   "pygments_lexer": "ipython2",
   "version": "2.7.6"
  }
 },
 "nbformat": 4,
 "nbformat_minor": 0
}
