{
 "cells": [
  {
   "cell_type": "code",
   "execution_count": 1,
   "metadata": {
    "collapsed": true,
    "ExecuteTime": {
     "end_time": "2023-10-06T00:40:44.964759Z",
     "start_time": "2023-10-06T00:40:25.737302Z"
    }
   },
   "outputs": [
    {
     "name": "stdout",
     "output_type": "stream",
     "text": [
      "特徴量の数：41\n",
      "各特徴量の名前：duration, protocol_type, service, flag, src_bytes, dst_bytes, land, wrong_fragment, urgent, hot, num_failed_logins, logged_in, num_compromised, root_shell, su_attempted, num_root, num_file_creations, num_shells, num_access_files, num_outbound_cmds, is_host_login, is_guest_login, count, srv_count, serror_rate, srv_serror_rate, rerror_rate, srv_rerror_rate, same_srv_rate, diff_srv_rate, srv_diff_host_rate, dst_host_count, dst_host_srv_count, dst_host_same_srv_rate, dst_host_diff_srv_rate, dst_host_same_src_port_rate, dst_host_srv_diff_host_rate, dst_host_serror_rate, dst_host_srv_serror_rate, dst_host_rerror_rate, dst_host_srv_rerror_rate\n",
      "smurf              2807886\n",
      "neptune            1072017\n",
      "normal              972781\n",
      "satan                15892\n",
      "ipsweep              12481\n",
      "portsweep            10413\n",
      "nmap                  2316\n",
      "back                  2203\n",
      "warezclient           1020\n",
      "teardrop               979\n",
      "pod                    264\n",
      "guess_passwd            53\n",
      "buffer_overflow         30\n",
      "land                    21\n",
      "warezmaster             20\n",
      "imap                    12\n",
      "rootkit                 10\n",
      "loadmodule               9\n",
      "ftp_write                8\n",
      "multihop                 7\n",
      "phf                      4\n",
      "perl                     3\n",
      "spy                      2\n",
      "Name: true_label, dtype: int64\n",
      "(4898431, 38)\n"
     ]
    },
    {
     "data": {
      "text/plain": "dos       3883370\nnormal     972781\nprobe       41102\nr2l          1126\nu2r            52\nName: true_label, dtype: int64"
     },
     "execution_count": 1,
     "metadata": {},
     "output_type": "execute_result"
    }
   ],
   "source": [
    "from utils_kdd99 import *\n",
    "data_x, data_y = load_data(use_full_dataset=True)\n",
    "\n",
    "# 4つのクラスラベルに変換する\n",
    "data_y = data_y.map(lambda x: attack_label_class[x])\n",
    "data_y.value_counts()\n"
   ]
  },
  {
   "cell_type": "code",
   "execution_count": 2,
   "outputs": [
    {
     "name": "stdout",
     "output_type": "stream",
     "text": [
      "x_train: 3281948, x_test: 1616483\n",
      "y_train\n"
     ]
    },
    {
     "data": {
      "text/plain": "dos       2601857\nnormal     651763\nprobe       27538\nr2l           755\nu2r            35\nName: true_label, dtype: int64"
     },
     "execution_count": 2,
     "metadata": {},
     "output_type": "execute_result"
    }
   ],
   "source": [
    "from sklearn.model_selection import train_test_split\n",
    "# data_y = pd.get_dummies(data_y)\n",
    "# データを分割する。テストと，学習の比は1：2なるようにします。\n",
    "x_train, x_test, y_train, y_test = train_test_split(data_x, data_y, test_size=0.33, random_state=RANDOM_SEED, stratify=data_y)\n",
    "print(f\"x_train: {len(x_train)}, x_test: {len(x_test)}\")\n",
    "print(f'y_train')\n",
    "y_train.value_counts()\n"
   ],
   "metadata": {
    "collapsed": false,
    "ExecuteTime": {
     "end_time": "2023-10-06T00:40:49.447594Z",
     "start_time": "2023-10-06T00:40:44.968971Z"
    }
   }
  },
  {
   "cell_type": "code",
   "execution_count": 3,
   "outputs": [
    {
     "name": "stdout",
     "output_type": "stream",
     "text": [
      "y_test\n"
     ]
    },
    {
     "data": {
      "text/plain": "dos       1281513\nnormal     321018\nprobe       13564\nr2l           371\nu2r            17\nName: true_label, dtype: int64"
     },
     "execution_count": 3,
     "metadata": {},
     "output_type": "execute_result"
    }
   ],
   "source": [
    "print(f'y_test')\n",
    "y_test.value_counts()\n"
   ],
   "metadata": {
    "collapsed": false,
    "ExecuteTime": {
     "end_time": "2023-10-06T00:40:49.527912Z",
     "start_time": "2023-10-06T00:40:49.442758Z"
    }
   }
  },
  {
   "cell_type": "code",
   "execution_count": 4,
   "outputs": [
    {
     "data": {
      "text/plain": "1537115    0\n4657510    0\n1894345    0\n1649777    0\n1634756    0\nName: true_label, dtype: int64"
     },
     "execution_count": 4,
     "metadata": {},
     "output_type": "execute_result"
    }
   ],
   "source": [
    "# 目的変数を数値に変換\n",
    "correspondences = {\n",
    "    'dos': 0,\n",
    "    'normal': 1,\n",
    "    'probe': 2,\n",
    "    'r2l': 3,\n",
    "    'u2r': 4\n",
    "}\n",
    "y_train = y_train.map(lambda x: correspondences[x])\n",
    "y_test = y_test.map(lambda x: correspondences[x])\n",
    "y_train.head()"
   ],
   "metadata": {
    "collapsed": false,
    "ExecuteTime": {
     "end_time": "2023-10-06T00:40:50.228458Z",
     "start_time": "2023-10-06T00:40:49.480074Z"
    }
   }
  },
  {
   "cell_type": "code",
   "execution_count": 5,
   "outputs": [
    {
     "name": "stderr",
     "output_type": "stream",
     "text": [
      "/Users/satun/anaconda3/lib/python3.10/site-packages/lightgbm/engine.py:177: UserWarning: Found `num_iteration` in params. Will use it instead of argument\n",
      "  _log_warning(f\"Found `{alias}` in params. Will use it instead of argument\")\n"
     ]
    },
    {
     "name": "stdout",
     "output_type": "stream",
     "text": [
      "[LightGBM] [Warning] Auto-choosing row-wise multi-threading, the overhead of testing was 0.143746 seconds.\n",
      "You can set `force_row_wise=true` to remove the overhead.\n",
      "And if memory is not enough, you can set `force_col_wise=true`.\n",
      "Training until validation scores don't improve for 100 rounds\n",
      "[LightGBM] [Warning] No further splits with positive gain, best gain: -inf\n",
      "[LightGBM] [Warning] No further splits with positive gain, best gain: -inf\n",
      "[LightGBM] [Warning] No further splits with positive gain, best gain: -inf\n",
      "[LightGBM] [Warning] No further splits with positive gain, best gain: -inf\n",
      "[LightGBM] [Warning] No further splits with positive gain, best gain: -inf\n",
      "[LightGBM] [Warning] No further splits with positive gain, best gain: -inf\n",
      "[LightGBM] [Warning] No further splits with positive gain, best gain: -inf\n",
      "[LightGBM] [Warning] No further splits with positive gain, best gain: -inf\n",
      "[LightGBM] [Warning] No further splits with positive gain, best gain: -inf\n",
      "[LightGBM] [Warning] No further splits with positive gain, best gain: -inf\n",
      "[LightGBM] [Warning] No further splits with positive gain, best gain: -inf\n",
      "[LightGBM] [Warning] No further splits with positive gain, best gain: -inf\n",
      "[LightGBM] [Warning] No further splits with positive gain, best gain: -inf\n",
      "[LightGBM] [Warning] No further splits with positive gain, best gain: -inf\n",
      "[LightGBM] [Warning] No further splits with positive gain, best gain: -inf\n",
      "[LightGBM] [Warning] No further splits with positive gain, best gain: -inf\n",
      "[LightGBM] [Warning] No further splits with positive gain, best gain: -inf\n",
      "[LightGBM] [Warning] No further splits with positive gain, best gain: -inf\n",
      "[LightGBM] [Warning] No further splits with positive gain, best gain: -inf\n",
      "[LightGBM] [Warning] No further splits with positive gain, best gain: -inf\n",
      "[LightGBM] [Warning] No further splits with positive gain, best gain: -inf\n",
      "[LightGBM] [Warning] No further splits with positive gain, best gain: -inf\n",
      "[LightGBM] [Warning] No further splits with positive gain, best gain: -inf\n",
      "[LightGBM] [Warning] No further splits with positive gain, best gain: -inf\n",
      "[LightGBM] [Warning] No further splits with positive gain, best gain: -inf\n",
      "[LightGBM] [Warning] No further splits with positive gain, best gain: -inf\n",
      "[LightGBM] [Warning] No further splits with positive gain, best gain: -inf\n",
      "[LightGBM] [Warning] No further splits with positive gain, best gain: -inf\n",
      "[LightGBM] [Warning] No further splits with positive gain, best gain: -inf\n",
      "[LightGBM] [Warning] No further splits with positive gain, best gain: -inf\n",
      "[LightGBM] [Warning] No further splits with positive gain, best gain: -inf\n",
      "[LightGBM] [Warning] No further splits with positive gain, best gain: -inf\n",
      "[LightGBM] [Warning] No further splits with positive gain, best gain: -inf\n",
      "[LightGBM] [Warning] No further splits with positive gain, best gain: -inf\n",
      "[LightGBM] [Warning] No further splits with positive gain, best gain: -inf\n",
      "[LightGBM] [Warning] No further splits with positive gain, best gain: -inf\n",
      "[LightGBM] [Warning] No further splits with positive gain, best gain: -inf\n",
      "[LightGBM] [Warning] No further splits with positive gain, best gain: -inf\n",
      "[LightGBM] [Warning] No further splits with positive gain, best gain: -inf\n",
      "[LightGBM] [Warning] No further splits with positive gain, best gain: -inf\n",
      "[LightGBM] [Warning] No further splits with positive gain, best gain: -inf\n",
      "[LightGBM] [Warning] No further splits with positive gain, best gain: -inf\n",
      "[LightGBM] [Warning] No further splits with positive gain, best gain: -inf\n",
      "[LightGBM] [Warning] No further splits with positive gain, best gain: -inf\n",
      "[LightGBM] [Warning] No further splits with positive gain, best gain: -inf\n",
      "[LightGBM] [Warning] No further splits with positive gain, best gain: -inf\n",
      "[LightGBM] [Warning] No further splits with positive gain, best gain: -inf\n",
      "[LightGBM] [Warning] No further splits with positive gain, best gain: -inf\n",
      "[LightGBM] [Warning] No further splits with positive gain, best gain: -inf\n",
      "[LightGBM] [Warning] No further splits with positive gain, best gain: -inf\n",
      "[LightGBM] [Warning] No further splits with positive gain, best gain: -inf\n",
      "[LightGBM] [Warning] No further splits with positive gain, best gain: -inf\n",
      "[LightGBM] [Warning] No further splits with positive gain, best gain: -inf\n",
      "[LightGBM] [Warning] No further splits with positive gain, best gain: -inf\n",
      "[LightGBM] [Warning] No further splits with positive gain, best gain: -inf\n",
      "[LightGBM] [Warning] No further splits with positive gain, best gain: -inf\n",
      "[LightGBM] [Warning] No further splits with positive gain, best gain: -inf\n",
      "[LightGBM] [Warning] No further splits with positive gain, best gain: -inf\n",
      "[LightGBM] [Warning] No further splits with positive gain, best gain: -inf\n",
      "[LightGBM] [Warning] No further splits with positive gain, best gain: -inf\n",
      "[LightGBM] [Warning] No further splits with positive gain, best gain: -inf\n",
      "[LightGBM] [Warning] No further splits with positive gain, best gain: -inf\n",
      "[LightGBM] [Warning] No further splits with positive gain, best gain: -inf\n",
      "[LightGBM] [Warning] No further splits with positive gain, best gain: -inf\n",
      "[LightGBM] [Warning] No further splits with positive gain, best gain: -inf\n",
      "[LightGBM] [Warning] No further splits with positive gain, best gain: -inf\n",
      "[LightGBM] [Warning] No further splits with positive gain, best gain: -inf\n",
      "[LightGBM] [Warning] No further splits with positive gain, best gain: -inf\n",
      "[LightGBM] [Warning] No further splits with positive gain, best gain: -inf\n",
      "[LightGBM] [Warning] No further splits with positive gain, best gain: -inf\n",
      "[LightGBM] [Warning] No further splits with positive gain, best gain: -inf\n",
      "[LightGBM] [Warning] No further splits with positive gain, best gain: -inf\n",
      "[LightGBM] [Warning] No further splits with positive gain, best gain: -inf\n",
      "[LightGBM] [Warning] No further splits with positive gain, best gain: -inf\n",
      "[LightGBM] [Warning] No further splits with positive gain, best gain: -inf\n",
      "[LightGBM] [Warning] No further splits with positive gain, best gain: -inf\n",
      "[LightGBM] [Warning] No further splits with positive gain, best gain: -inf\n",
      "[LightGBM] [Warning] No further splits with positive gain, best gain: -inf\n",
      "[LightGBM] [Warning] No further splits with positive gain, best gain: -inf\n",
      "[LightGBM] [Warning] No further splits with positive gain, best gain: -inf\n",
      "[LightGBM] [Warning] No further splits with positive gain, best gain: -inf\n",
      "[LightGBM] [Warning] No further splits with positive gain, best gain: -inf\n",
      "[LightGBM] [Warning] No further splits with positive gain, best gain: -inf\n",
      "[LightGBM] [Warning] No further splits with positive gain, best gain: -inf\n",
      "[LightGBM] [Warning] No further splits with positive gain, best gain: -inf\n",
      "[LightGBM] [Warning] No further splits with positive gain, best gain: -inf\n",
      "[LightGBM] [Warning] No further splits with positive gain, best gain: -inf\n",
      "[LightGBM] [Warning] No further splits with positive gain, best gain: -inf\n",
      "[LightGBM] [Warning] No further splits with positive gain, best gain: -inf\n",
      "[LightGBM] [Warning] No further splits with positive gain, best gain: -inf\n",
      "[LightGBM] [Warning] No further splits with positive gain, best gain: -inf\n",
      "[LightGBM] [Warning] No further splits with positive gain, best gain: -inf\n",
      "[LightGBM] [Warning] No further splits with positive gain, best gain: -inf\n",
      "[LightGBM] [Warning] No further splits with positive gain, best gain: -inf\n",
      "[LightGBM] [Warning] No further splits with positive gain, best gain: -inf\n",
      "[LightGBM] [Warning] No further splits with positive gain, best gain: -inf\n",
      "[LightGBM] [Warning] No further splits with positive gain, best gain: -inf\n",
      "[LightGBM] [Warning] No further splits with positive gain, best gain: -inf\n",
      "[LightGBM] [Warning] No further splits with positive gain, best gain: -inf\n",
      "[LightGBM] [Warning] No further splits with positive gain, best gain: -inf\n",
      "[LightGBM] [Warning] No further splits with positive gain, best gain: -inf\n",
      "[LightGBM] [Warning] No further splits with positive gain, best gain: -inf\n",
      "[LightGBM] [Warning] No further splits with positive gain, best gain: -inf\n",
      "[LightGBM] [Warning] No further splits with positive gain, best gain: -inf\n",
      "[LightGBM] [Warning] No further splits with positive gain, best gain: -inf\n",
      "[LightGBM] [Warning] No further splits with positive gain, best gain: -inf\n",
      "[LightGBM] [Warning] No further splits with positive gain, best gain: -inf\n",
      "[LightGBM] [Warning] No further splits with positive gain, best gain: -inf\n",
      "[LightGBM] [Warning] No further splits with positive gain, best gain: -inf\n",
      "[LightGBM] [Warning] No further splits with positive gain, best gain: -inf\n",
      "[LightGBM] [Warning] No further splits with positive gain, best gain: -inf\n",
      "[LightGBM] [Warning] No further splits with positive gain, best gain: -inf\n",
      "[LightGBM] [Warning] No further splits with positive gain, best gain: -inf\n",
      "[LightGBM] [Warning] No further splits with positive gain, best gain: -inf\n",
      "[LightGBM] [Warning] No further splits with positive gain, best gain: -inf\n",
      "[LightGBM] [Warning] No further splits with positive gain, best gain: -inf\n",
      "[LightGBM] [Warning] No further splits with positive gain, best gain: -inf\n",
      "[LightGBM] [Warning] No further splits with positive gain, best gain: -inf\n",
      "[LightGBM] [Warning] No further splits with positive gain, best gain: -inf\n",
      "[LightGBM] [Warning] No further splits with positive gain, best gain: -inf\n",
      "[LightGBM] [Warning] No further splits with positive gain, best gain: -inf\n",
      "Early stopping, best iteration is:\n",
      "[15]\tvalid_0's multi_error: 0.000460258\n"
     ]
    },
    {
     "data": {
      "text/plain": "0    1281353\n1     320899\n2      13510\n3        482\n4        239\ndtype: int64"
     },
     "execution_count": 5,
     "metadata": {},
     "output_type": "execute_result"
    }
   ],
   "source": [
    "lgb_train = lgb.Dataset(x_train, y_train)\n",
    "lgb_eval = lgb.Dataset(x_test, y_test, reference=lgb_train)\n",
    "\n",
    "# LightGBM parameters\n",
    "params = {\n",
    "        'task': 'train',\n",
    "        'boosting_type': 'gbdt',\n",
    "        'objective': 'multiclass',\n",
    "        'num_class': 5,\n",
    "        'metric': {'multi_error'}, # 評価指標 : 誤り率(= 1-正答率)  another multi_logloss\n",
    "        'learning_rate': 0.1,\n",
    "        'num_leaves': 23,\n",
    "        'min_data_in_leaf': 1,\n",
    "        'num_iteration': 1000, #1000回学習\n",
    "        'verbose': 0\n",
    "}\n",
    "\n",
    "# モデルの学習\n",
    "model = lgb.train(params, # パラメータ\n",
    "            train_set=lgb_train, # トレーニングデータの指定\n",
    "            valid_sets=lgb_eval, # 検証データの指定\n",
    "            callbacks=[lgb.early_stopping(100)]\n",
    "               )\n",
    "\n",
    "# テストデータの予測 (クラス1の予測確率(クラス1である確率)を返す)\n",
    "y_pred_prob = model.predict(x_test)\n",
    "# テストデータの予測 (予測クラスを返す)\n",
    "y_pred = np.argmax(y_pred_prob, axis=1) # 一番大きい予測確率のクラスを予測クラスに\n",
    "y_pred = pd.Series(y_pred)\n",
    "y_pred.value_counts()"
   ],
   "metadata": {
    "collapsed": false,
    "ExecuteTime": {
     "end_time": "2023-10-06T00:41:21.838079Z",
     "start_time": "2023-10-06T00:40:50.232066Z"
    }
   }
  },
  {
   "cell_type": "code",
   "execution_count": 6,
   "outputs": [
    {
     "name": "stdout",
     "output_type": "stream",
     "text": [
      "              precision    recall  f1-score   support\n",
      "\n",
      "         dos       1.00      1.00      1.00   1281513\n",
      "      normal       1.00      1.00      1.00    321018\n",
      "       probe       1.00      0.99      0.99     13564\n",
      "         r2l       0.73      0.95      0.83       371\n",
      "         u2r       0.00      0.00      0.00        17\n",
      "\n",
      "    accuracy                           1.00   1616483\n",
      "   macro avg       0.75      0.79      0.76   1616483\n",
      "weighted avg       1.00      1.00      1.00   1616483\n"
     ]
    }
   ],
   "source": [
    "print(classification_report(y_test, y_pred, target_names=correspondences.keys()))"
   ],
   "metadata": {
    "collapsed": false,
    "ExecuteTime": {
     "end_time": "2023-10-06T00:41:23.067806Z",
     "start_time": "2023-10-06T00:41:21.841294Z"
    }
   }
  },
  {
   "cell_type": "code",
   "execution_count": 7,
   "outputs": [
    {
     "name": "stdout",
     "output_type": "stream",
     "text": [
      "dos    TP: 1281328, TN: 334945, FP: 185, FN: 25\n",
      "normal    TP: 320603, TN: 1295169, FP: 415, FN: 296\n",
      "probe    TP: 13454, TN: 1602863, FP: 110, FN: 56\n",
      "r2l    TP: 354, TN: 1615984, FP: 17, FN: 128\n",
      "u2r    TP: 0, TN: 1616227, FP: 17, FN: 239\n"
     ]
    }
   ],
   "source": [
    "for key, confusion_matrix in zip(correspondences.keys(), multilabel_confusion_matrix(y_test, y_pred)):\n",
    "    print(f\"{key}    TP: {confusion_matrix[1][1]}, TN: {confusion_matrix[0][0]}, FP: {confusion_matrix[1][0]}, FN: {confusion_matrix[0][1]}\")\n"
   ],
   "metadata": {
    "collapsed": false,
    "ExecuteTime": {
     "end_time": "2023-10-06T00:41:23.250974Z",
     "start_time": "2023-10-06T00:41:23.067438Z"
    }
   }
  },
  {
   "cell_type": "code",
   "execution_count": 8,
   "outputs": [
    {
     "name": "stdout",
     "output_type": "stream",
     "text": [
      "Model: \"sequential\"\n",
      "_________________________________________________________________\n",
      " Layer (type)                Output Shape              Param #   \n",
      "=================================================================\n",
      " encoder1 (Dense)            (None, 19)                741       \n",
      "                                                                 \n",
      " encoder2 (Dense)            (None, 10)                200       \n",
      "                                                                 \n",
      " dense (Dense)               (None, 19)                209       \n",
      "                                                                 \n",
      " dense_1 (Dense)             (None, 38)                760       \n",
      "                                                                 \n",
      "=================================================================\n",
      "Total params: 1,910\n",
      "Trainable params: 1,910\n",
      "Non-trainable params: 0\n",
      "_________________________________________________________________\n"
     ]
    }
   ],
   "source": [
    "model = keras.Sequential([\n",
    "    Dense(units=19, activation='relu', input_dim=38, name='encoder1'),\n",
    "    Dense(units=10, activation='relu', name='encoder2'),\n",
    "    Dense(units=19, activation='relu'),\n",
    "    Dense(units=38, activation='relu'),\n",
    "])\n",
    "model.summary()\n"
   ],
   "metadata": {
    "collapsed": false,
    "ExecuteTime": {
     "end_time": "2023-10-06T00:41:23.400764Z",
     "start_time": "2023-10-06T00:41:23.268231Z"
    }
   }
  },
  {
   "cell_type": "code",
   "execution_count": 9,
   "outputs": [
    {
     "name": "stderr",
     "output_type": "stream",
     "text": [
      "2023-10-06 09:41:24.877665: W tensorflow/tsl/platform/profile_utils/cpu_utils.cc:128] Failed to get CPU frequency: 0 Hz\n"
     ]
    },
    {
     "name": "stdout",
     "output_type": "stream",
     "text": [
      "102561/102561 [==============================] - 84s 813us/step - loss: 0.6162 - accuracy: 0.8737 - val_loss: 0.6147 - val_accuracy: 0.7843\n"
     ]
    },
    {
     "data": {
      "text/plain": "<keras.callbacks.History at 0x16ae7f850>"
     },
     "execution_count": 9,
     "metadata": {},
     "output_type": "execute_result"
    }
   ],
   "source": [
    "model.compile(optimizer='adam', loss='mean_squared_error', metrics=['accuracy'])\n",
    "model.fit(x_train, x_train,\n",
    "          epochs=1, # データセットを使って学習する回数\n",
    "        batch_size=32,\n",
    "        shuffle=True, # データをシャッフルすることで，．\n",
    "        validation_data=(x_train, x_train), # 評価用データ（検証データ）の指定\n",
    "        verbose=1,\n",
    "        use_multiprocessing=True\n",
    "          )\n"
   ],
   "metadata": {
    "collapsed": false,
    "ExecuteTime": {
     "end_time": "2023-10-06T00:42:48.983897Z",
     "start_time": "2023-10-06T00:41:23.390810Z"
    }
   }
  },
  {
   "cell_type": "code",
   "execution_count": 10,
   "outputs": [
    {
     "name": "stdout",
     "output_type": "stream",
     "text": [
      "50516/50516 [==============================] - 12s 239us/step\n"
     ]
    }
   ],
   "source": [
    "x_pred = model.predict(x_test)\n"
   ],
   "metadata": {
    "collapsed": false,
    "ExecuteTime": {
     "end_time": "2023-10-06T00:43:10.502321Z",
     "start_time": "2023-10-06T00:42:48.982387Z"
    }
   }
  },
  {
   "cell_type": "code",
   "execution_count": 11,
   "outputs": [],
   "source": [
    "encoder = keras.Sequential([model.get_layer('encoder1'),\n",
    "                            model.get_layer('encoder2')])\n"
   ],
   "metadata": {
    "collapsed": false,
    "ExecuteTime": {
     "end_time": "2023-10-06T00:43:10.516122Z",
     "start_time": "2023-10-06T00:43:10.501231Z"
    }
   }
  },
  {
   "cell_type": "code",
   "execution_count": 12,
   "outputs": [
    {
     "name": "stdout",
     "output_type": "stream",
     "text": [
      "102561/102561 [==============================] - 24s 230us/step\n",
      "50516/50516 [==============================] - 12s 231us/step\n"
     ]
    },
    {
     "data": {
      "text/plain": "         duration  src_bytes  dst_bytes      land  wrong_fragment    urgent  \\\n1537115 -0.066833  -0.000853  -0.001696 -0.002391       -0.015139 -0.001103   \n4657510 -0.066833  -0.001949  -0.001696 -0.002391       -0.015139 -0.001103   \n1894345 -0.066833  -0.000853  -0.001696 -0.002391       -0.015139 -0.001103   \n1649777 -0.066833  -0.000853  -0.001696 -0.002391       -0.015139 -0.001103   \n1634756 -0.066833  -0.000853  -0.001696 -0.002391       -0.015139 -0.001103   \n...           ...        ...        ...       ...             ...       ...   \n2391255 -0.066833  -0.000853  -0.001696 -0.002391       -0.015139 -0.001103   \n2471385 -0.066833  -0.000853  -0.001696 -0.002391       -0.015139 -0.001103   \n2676542 -0.066833  -0.000853  -0.001696 -0.002391       -0.015139 -0.001103   \n1475808 -0.066833  -0.000853  -0.001696 -0.002391       -0.015139 -0.001103   \n910575  -0.066833  -0.000853  -0.001696 -0.002391       -0.015139 -0.001103   \n\n              hot  num_failed_logins  logged_in  num_compromised  ...  \\\n1537115 -0.026521          -0.004391  -0.409368        -0.002097  ...   \n4657510 -0.026521          -0.004391  -0.409368        -0.002097  ...   \n1894345 -0.026521          -0.004391  -0.409368        -0.002097  ...   \n1649777 -0.026521          -0.004391  -0.409368        -0.002097  ...   \n1634756 -0.026521          -0.004391  -0.409368        -0.002097  ...   \n...           ...                ...        ...              ...  ...   \n2391255 -0.026521          -0.004391  -0.409368        -0.002097  ...   \n2471385 -0.026521          -0.004391  -0.409368        -0.002097  ...   \n2676542 -0.026521          -0.004391  -0.409368        -0.002097  ...   \n1475808 -0.026521          -0.004391  -0.409368        -0.002097  ...   \n910575  -0.026521          -0.004391  -0.409368        -0.002097  ...   \n\n         feature0  feature1  feature2  feature3  feature4  feature5  feature6  \\\n1537115  1.028105  0.110158  0.529881  1.444781  0.000000  0.000000       0.0   \n4657510  0.000000  0.000000  3.237976  2.261624  1.220788  7.342192       0.0   \n1894345  1.026836  0.110327  0.531820  1.442347  0.000000  0.000000       0.0   \n1649777  1.028105  0.110158  0.529881  1.444781  0.000000  0.000000       0.0   \n1634756  1.028105  0.110158  0.529881  1.444781  0.000000  0.000000       0.0   \n...           ...       ...       ...       ...       ...       ...       ...   \n2391255  1.028105  0.110158  0.529881  1.444781  0.000000  0.000000       0.0   \n2471385  1.026836  0.110327  0.531820  1.442347  0.000000  0.000000       0.0   \n2676542  1.028105  0.110158  0.529880  1.444781  0.000000  0.000000       0.0   \n1475808  1.028105  0.110158  0.529880  1.444781  0.000000  0.000000       0.0   \n910575   1.028105  0.110158  0.529880  1.444781  0.000000  0.000000       0.0   \n\n         feature7  feature8  feature9  \n1537115       0.0  0.000000  1.023580  \n4657510       0.0  7.568164  2.122621  \n1894345       0.0  0.000000  1.021293  \n1649777       0.0  0.000000  1.023580  \n1634756       0.0  0.000000  1.023580  \n...           ...       ...       ...  \n2391255       0.0  0.000000  1.023580  \n2471385       0.0  0.000000  1.021293  \n2676542       0.0  0.000000  1.023580  \n1475808       0.0  0.000000  1.023580  \n910575        0.0  0.000000  1.023580  \n\n[3281948 rows x 48 columns]",
      "text/html": "<div>\n<style scoped>\n    .dataframe tbody tr th:only-of-type {\n        vertical-align: middle;\n    }\n\n    .dataframe tbody tr th {\n        vertical-align: top;\n    }\n\n    .dataframe thead th {\n        text-align: right;\n    }\n</style>\n<table border=\"1\" class=\"dataframe\">\n  <thead>\n    <tr style=\"text-align: right;\">\n      <th></th>\n      <th>duration</th>\n      <th>src_bytes</th>\n      <th>dst_bytes</th>\n      <th>land</th>\n      <th>wrong_fragment</th>\n      <th>urgent</th>\n      <th>hot</th>\n      <th>num_failed_logins</th>\n      <th>logged_in</th>\n      <th>num_compromised</th>\n      <th>...</th>\n      <th>feature0</th>\n      <th>feature1</th>\n      <th>feature2</th>\n      <th>feature3</th>\n      <th>feature4</th>\n      <th>feature5</th>\n      <th>feature6</th>\n      <th>feature7</th>\n      <th>feature8</th>\n      <th>feature9</th>\n    </tr>\n  </thead>\n  <tbody>\n    <tr>\n      <th>1537115</th>\n      <td>-0.066833</td>\n      <td>-0.000853</td>\n      <td>-0.001696</td>\n      <td>-0.002391</td>\n      <td>-0.015139</td>\n      <td>-0.001103</td>\n      <td>-0.026521</td>\n      <td>-0.004391</td>\n      <td>-0.409368</td>\n      <td>-0.002097</td>\n      <td>...</td>\n      <td>1.028105</td>\n      <td>0.110158</td>\n      <td>0.529881</td>\n      <td>1.444781</td>\n      <td>0.000000</td>\n      <td>0.000000</td>\n      <td>0.0</td>\n      <td>0.0</td>\n      <td>0.000000</td>\n      <td>1.023580</td>\n    </tr>\n    <tr>\n      <th>4657510</th>\n      <td>-0.066833</td>\n      <td>-0.001949</td>\n      <td>-0.001696</td>\n      <td>-0.002391</td>\n      <td>-0.015139</td>\n      <td>-0.001103</td>\n      <td>-0.026521</td>\n      <td>-0.004391</td>\n      <td>-0.409368</td>\n      <td>-0.002097</td>\n      <td>...</td>\n      <td>0.000000</td>\n      <td>0.000000</td>\n      <td>3.237976</td>\n      <td>2.261624</td>\n      <td>1.220788</td>\n      <td>7.342192</td>\n      <td>0.0</td>\n      <td>0.0</td>\n      <td>7.568164</td>\n      <td>2.122621</td>\n    </tr>\n    <tr>\n      <th>1894345</th>\n      <td>-0.066833</td>\n      <td>-0.000853</td>\n      <td>-0.001696</td>\n      <td>-0.002391</td>\n      <td>-0.015139</td>\n      <td>-0.001103</td>\n      <td>-0.026521</td>\n      <td>-0.004391</td>\n      <td>-0.409368</td>\n      <td>-0.002097</td>\n      <td>...</td>\n      <td>1.026836</td>\n      <td>0.110327</td>\n      <td>0.531820</td>\n      <td>1.442347</td>\n      <td>0.000000</td>\n      <td>0.000000</td>\n      <td>0.0</td>\n      <td>0.0</td>\n      <td>0.000000</td>\n      <td>1.021293</td>\n    </tr>\n    <tr>\n      <th>1649777</th>\n      <td>-0.066833</td>\n      <td>-0.000853</td>\n      <td>-0.001696</td>\n      <td>-0.002391</td>\n      <td>-0.015139</td>\n      <td>-0.001103</td>\n      <td>-0.026521</td>\n      <td>-0.004391</td>\n      <td>-0.409368</td>\n      <td>-0.002097</td>\n      <td>...</td>\n      <td>1.028105</td>\n      <td>0.110158</td>\n      <td>0.529881</td>\n      <td>1.444781</td>\n      <td>0.000000</td>\n      <td>0.000000</td>\n      <td>0.0</td>\n      <td>0.0</td>\n      <td>0.000000</td>\n      <td>1.023580</td>\n    </tr>\n    <tr>\n      <th>1634756</th>\n      <td>-0.066833</td>\n      <td>-0.000853</td>\n      <td>-0.001696</td>\n      <td>-0.002391</td>\n      <td>-0.015139</td>\n      <td>-0.001103</td>\n      <td>-0.026521</td>\n      <td>-0.004391</td>\n      <td>-0.409368</td>\n      <td>-0.002097</td>\n      <td>...</td>\n      <td>1.028105</td>\n      <td>0.110158</td>\n      <td>0.529881</td>\n      <td>1.444781</td>\n      <td>0.000000</td>\n      <td>0.000000</td>\n      <td>0.0</td>\n      <td>0.0</td>\n      <td>0.000000</td>\n      <td>1.023580</td>\n    </tr>\n    <tr>\n      <th>...</th>\n      <td>...</td>\n      <td>...</td>\n      <td>...</td>\n      <td>...</td>\n      <td>...</td>\n      <td>...</td>\n      <td>...</td>\n      <td>...</td>\n      <td>...</td>\n      <td>...</td>\n      <td>...</td>\n      <td>...</td>\n      <td>...</td>\n      <td>...</td>\n      <td>...</td>\n      <td>...</td>\n      <td>...</td>\n      <td>...</td>\n      <td>...</td>\n      <td>...</td>\n      <td>...</td>\n    </tr>\n    <tr>\n      <th>2391255</th>\n      <td>-0.066833</td>\n      <td>-0.000853</td>\n      <td>-0.001696</td>\n      <td>-0.002391</td>\n      <td>-0.015139</td>\n      <td>-0.001103</td>\n      <td>-0.026521</td>\n      <td>-0.004391</td>\n      <td>-0.409368</td>\n      <td>-0.002097</td>\n      <td>...</td>\n      <td>1.028105</td>\n      <td>0.110158</td>\n      <td>0.529881</td>\n      <td>1.444781</td>\n      <td>0.000000</td>\n      <td>0.000000</td>\n      <td>0.0</td>\n      <td>0.0</td>\n      <td>0.000000</td>\n      <td>1.023580</td>\n    </tr>\n    <tr>\n      <th>2471385</th>\n      <td>-0.066833</td>\n      <td>-0.000853</td>\n      <td>-0.001696</td>\n      <td>-0.002391</td>\n      <td>-0.015139</td>\n      <td>-0.001103</td>\n      <td>-0.026521</td>\n      <td>-0.004391</td>\n      <td>-0.409368</td>\n      <td>-0.002097</td>\n      <td>...</td>\n      <td>1.026836</td>\n      <td>0.110327</td>\n      <td>0.531820</td>\n      <td>1.442347</td>\n      <td>0.000000</td>\n      <td>0.000000</td>\n      <td>0.0</td>\n      <td>0.0</td>\n      <td>0.000000</td>\n      <td>1.021293</td>\n    </tr>\n    <tr>\n      <th>2676542</th>\n      <td>-0.066833</td>\n      <td>-0.000853</td>\n      <td>-0.001696</td>\n      <td>-0.002391</td>\n      <td>-0.015139</td>\n      <td>-0.001103</td>\n      <td>-0.026521</td>\n      <td>-0.004391</td>\n      <td>-0.409368</td>\n      <td>-0.002097</td>\n      <td>...</td>\n      <td>1.028105</td>\n      <td>0.110158</td>\n      <td>0.529880</td>\n      <td>1.444781</td>\n      <td>0.000000</td>\n      <td>0.000000</td>\n      <td>0.0</td>\n      <td>0.0</td>\n      <td>0.000000</td>\n      <td>1.023580</td>\n    </tr>\n    <tr>\n      <th>1475808</th>\n      <td>-0.066833</td>\n      <td>-0.000853</td>\n      <td>-0.001696</td>\n      <td>-0.002391</td>\n      <td>-0.015139</td>\n      <td>-0.001103</td>\n      <td>-0.026521</td>\n      <td>-0.004391</td>\n      <td>-0.409368</td>\n      <td>-0.002097</td>\n      <td>...</td>\n      <td>1.028105</td>\n      <td>0.110158</td>\n      <td>0.529880</td>\n      <td>1.444781</td>\n      <td>0.000000</td>\n      <td>0.000000</td>\n      <td>0.0</td>\n      <td>0.0</td>\n      <td>0.000000</td>\n      <td>1.023580</td>\n    </tr>\n    <tr>\n      <th>910575</th>\n      <td>-0.066833</td>\n      <td>-0.000853</td>\n      <td>-0.001696</td>\n      <td>-0.002391</td>\n      <td>-0.015139</td>\n      <td>-0.001103</td>\n      <td>-0.026521</td>\n      <td>-0.004391</td>\n      <td>-0.409368</td>\n      <td>-0.002097</td>\n      <td>...</td>\n      <td>1.028105</td>\n      <td>0.110158</td>\n      <td>0.529880</td>\n      <td>1.444781</td>\n      <td>0.000000</td>\n      <td>0.000000</td>\n      <td>0.0</td>\n      <td>0.0</td>\n      <td>0.000000</td>\n      <td>1.023580</td>\n    </tr>\n  </tbody>\n</table>\n<p>3281948 rows × 48 columns</p>\n</div>"
     },
     "execution_count": 12,
     "metadata": {},
     "output_type": "execute_result"
    }
   ],
   "source": [
    "columns = list(map(lambda x: 'feature' + str(x), range(10)))\n",
    "x_train_encoded = pd.DataFrame(data=encoder.predict(x_train), index=x_train.index, columns=columns)\n",
    "x_test_encoded = pd.DataFrame(data=encoder.predict(x_test), index=x_test.index, columns=columns)\n",
    "x_train_new_feature = x_train.merge(x_train_encoded, right_index=True, left_index=True)\n",
    "x_test_new_feature = x_test.merge(x_test_encoded, right_index=True, left_index=True)\n",
    "x_train_new_feature\n"
   ],
   "metadata": {
    "collapsed": false,
    "ExecuteTime": {
     "end_time": "2023-10-06T00:44:10.742030Z",
     "start_time": "2023-10-06T00:43:10.517236Z"
    }
   }
  },
  {
   "cell_type": "code",
   "execution_count": 13,
   "outputs": [
    {
     "name": "stderr",
     "output_type": "stream",
     "text": [
      "/Users/satun/anaconda3/lib/python3.10/site-packages/lightgbm/engine.py:177: UserWarning: Found `num_iteration` in params. Will use it instead of argument\n",
      "  _log_warning(f\"Found `{alias}` in params. Will use it instead of argument\")\n"
     ]
    },
    {
     "name": "stdout",
     "output_type": "stream",
     "text": [
      "[LightGBM] [Warning] Auto-choosing row-wise multi-threading, the overhead of testing was 0.155884 seconds.\n",
      "You can set `force_row_wise=true` to remove the overhead.\n",
      "And if memory is not enough, you can set `force_col_wise=true`.\n",
      "Training until validation scores don't improve for 100 rounds\n",
      "[LightGBM] [Warning] No further splits with positive gain, best gain: -inf\n",
      "[LightGBM] [Warning] No further splits with positive gain, best gain: -inf\n",
      "[LightGBM] [Warning] No further splits with positive gain, best gain: -inf\n",
      "[LightGBM] [Warning] No further splits with positive gain, best gain: -inf\n",
      "[LightGBM] [Warning] No further splits with positive gain, best gain: -inf\n",
      "[LightGBM] [Warning] No further splits with positive gain, best gain: -inf\n",
      "[LightGBM] [Warning] No further splits with positive gain, best gain: -inf\n",
      "[LightGBM] [Warning] No further splits with positive gain, best gain: -inf\n",
      "[LightGBM] [Warning] No further splits with positive gain, best gain: -inf\n",
      "[LightGBM] [Warning] No further splits with positive gain, best gain: -inf\n",
      "[LightGBM] [Warning] No further splits with positive gain, best gain: -inf\n",
      "[LightGBM] [Warning] No further splits with positive gain, best gain: -inf\n",
      "[LightGBM] [Warning] No further splits with positive gain, best gain: -inf\n",
      "[LightGBM] [Warning] No further splits with positive gain, best gain: -inf\n",
      "[LightGBM] [Warning] No further splits with positive gain, best gain: -inf\n",
      "[LightGBM] [Warning] No further splits with positive gain, best gain: -inf\n",
      "[LightGBM] [Warning] No further splits with positive gain, best gain: -inf\n",
      "[LightGBM] [Warning] No further splits with positive gain, best gain: -inf\n",
      "[LightGBM] [Warning] No further splits with positive gain, best gain: -inf\n",
      "[LightGBM] [Warning] No further splits with positive gain, best gain: -inf\n",
      "[LightGBM] [Warning] No further splits with positive gain, best gain: -inf\n",
      "[LightGBM] [Warning] No further splits with positive gain, best gain: -inf\n",
      "[LightGBM] [Warning] No further splits with positive gain, best gain: -inf\n",
      "[LightGBM] [Warning] No further splits with positive gain, best gain: -inf\n",
      "[LightGBM] [Warning] No further splits with positive gain, best gain: -inf\n",
      "[LightGBM] [Warning] No further splits with positive gain, best gain: -inf\n",
      "[LightGBM] [Warning] No further splits with positive gain, best gain: -inf\n",
      "[LightGBM] [Warning] No further splits with positive gain, best gain: -inf\n",
      "[LightGBM] [Warning] No further splits with positive gain, best gain: -inf\n",
      "[LightGBM] [Warning] No further splits with positive gain, best gain: -inf\n",
      "[LightGBM] [Warning] No further splits with positive gain, best gain: -inf\n",
      "[LightGBM] [Warning] No further splits with positive gain, best gain: -inf\n",
      "[LightGBM] [Warning] No further splits with positive gain, best gain: -inf\n",
      "[LightGBM] [Warning] No further splits with positive gain, best gain: -inf\n",
      "[LightGBM] [Warning] No further splits with positive gain, best gain: -inf\n",
      "[LightGBM] [Warning] No further splits with positive gain, best gain: -inf\n",
      "[LightGBM] [Warning] No further splits with positive gain, best gain: -inf\n",
      "[LightGBM] [Warning] No further splits with positive gain, best gain: -inf\n",
      "[LightGBM] [Warning] No further splits with positive gain, best gain: -inf\n",
      "[LightGBM] [Warning] No further splits with positive gain, best gain: -inf\n",
      "[LightGBM] [Warning] No further splits with positive gain, best gain: -inf\n",
      "[LightGBM] [Warning] No further splits with positive gain, best gain: -inf\n",
      "[LightGBM] [Warning] No further splits with positive gain, best gain: -inf\n",
      "[LightGBM] [Warning] No further splits with positive gain, best gain: -inf\n",
      "[LightGBM] [Warning] No further splits with positive gain, best gain: -inf\n",
      "[LightGBM] [Warning] No further splits with positive gain, best gain: -inf\n",
      "[LightGBM] [Warning] No further splits with positive gain, best gain: -inf\n",
      "[LightGBM] [Warning] No further splits with positive gain, best gain: -inf\n",
      "[LightGBM] [Warning] No further splits with positive gain, best gain: -inf\n",
      "[LightGBM] [Warning] No further splits with positive gain, best gain: -inf\n",
      "[LightGBM] [Warning] No further splits with positive gain, best gain: -inf\n",
      "[LightGBM] [Warning] No further splits with positive gain, best gain: -inf\n",
      "[LightGBM] [Warning] No further splits with positive gain, best gain: -inf\n",
      "[LightGBM] [Warning] No further splits with positive gain, best gain: -inf\n",
      "[LightGBM] [Warning] No further splits with positive gain, best gain: -inf\n",
      "[LightGBM] [Warning] No further splits with positive gain, best gain: -inf\n",
      "[LightGBM] [Warning] No further splits with positive gain, best gain: -inf\n",
      "[LightGBM] [Warning] No further splits with positive gain, best gain: -inf\n",
      "[LightGBM] [Warning] No further splits with positive gain, best gain: -inf\n",
      "[LightGBM] [Warning] No further splits with positive gain, best gain: -inf\n",
      "[LightGBM] [Warning] No further splits with positive gain, best gain: -inf\n",
      "[LightGBM] [Warning] No further splits with positive gain, best gain: -inf\n",
      "[LightGBM] [Warning] No further splits with positive gain, best gain: -inf\n",
      "[LightGBM] [Warning] No further splits with positive gain, best gain: -inf\n",
      "[LightGBM] [Warning] No further splits with positive gain, best gain: -inf\n",
      "[LightGBM] [Warning] No further splits with positive gain, best gain: -inf\n",
      "[LightGBM] [Warning] No further splits with positive gain, best gain: -inf\n",
      "[LightGBM] [Warning] No further splits with positive gain, best gain: -inf\n",
      "[LightGBM] [Warning] No further splits with positive gain, best gain: -inf\n",
      "[LightGBM] [Warning] No further splits with positive gain, best gain: -inf\n",
      "[LightGBM] [Warning] No further splits with positive gain, best gain: -inf\n",
      "[LightGBM] [Warning] No further splits with positive gain, best gain: -inf\n",
      "[LightGBM] [Warning] No further splits with positive gain, best gain: -inf\n",
      "[LightGBM] [Warning] No further splits with positive gain, best gain: -inf\n",
      "[LightGBM] [Warning] No further splits with positive gain, best gain: -inf\n",
      "[LightGBM] [Warning] No further splits with positive gain, best gain: -inf\n",
      "[LightGBM] [Warning] No further splits with positive gain, best gain: -inf\n",
      "[LightGBM] [Warning] No further splits with positive gain, best gain: -inf\n",
      "[LightGBM] [Warning] No further splits with positive gain, best gain: -inf\n",
      "[LightGBM] [Warning] No further splits with positive gain, best gain: -inf\n",
      "[LightGBM] [Warning] No further splits with positive gain, best gain: -inf\n",
      "[LightGBM] [Warning] No further splits with positive gain, best gain: -inf\n",
      "[LightGBM] [Warning] No further splits with positive gain, best gain: -inf\n",
      "[LightGBM] [Warning] No further splits with positive gain, best gain: -inf\n",
      "[LightGBM] [Warning] No further splits with positive gain, best gain: -inf\n",
      "[LightGBM] [Warning] No further splits with positive gain, best gain: -inf\n",
      "[LightGBM] [Warning] No further splits with positive gain, best gain: -inf\n",
      "[LightGBM] [Warning] No further splits with positive gain, best gain: -inf\n",
      "[LightGBM] [Warning] No further splits with positive gain, best gain: -inf\n",
      "[LightGBM] [Warning] No further splits with positive gain, best gain: -inf\n",
      "[LightGBM] [Warning] No further splits with positive gain, best gain: -inf\n",
      "[LightGBM] [Warning] No further splits with positive gain, best gain: -inf\n",
      "[LightGBM] [Warning] No further splits with positive gain, best gain: -inf\n",
      "[LightGBM] [Warning] No further splits with positive gain, best gain: -inf\n",
      "[LightGBM] [Warning] No further splits with positive gain, best gain: -inf\n",
      "[LightGBM] [Warning] No further splits with positive gain, best gain: -inf\n",
      "[LightGBM] [Warning] No further splits with positive gain, best gain: -inf\n",
      "[LightGBM] [Warning] No further splits with positive gain, best gain: -inf\n",
      "[LightGBM] [Warning] No further splits with positive gain, best gain: -inf\n",
      "[LightGBM] [Warning] No further splits with positive gain, best gain: -inf\n",
      "[LightGBM] [Warning] No further splits with positive gain, best gain: -inf\n",
      "[LightGBM] [Warning] No further splits with positive gain, best gain: -inf\n",
      "[LightGBM] [Warning] No further splits with positive gain, best gain: -inf\n",
      "[LightGBM] [Warning] No further splits with positive gain, best gain: -inf\n",
      "[LightGBM] [Warning] No further splits with positive gain, best gain: -inf\n",
      "[LightGBM] [Warning] No further splits with positive gain, best gain: -inf\n",
      "[LightGBM] [Warning] No further splits with positive gain, best gain: -inf\n",
      "[LightGBM] [Warning] No further splits with positive gain, best gain: -inf\n",
      "[LightGBM] [Warning] No further splits with positive gain, best gain: -inf\n",
      "[LightGBM] [Warning] No further splits with positive gain, best gain: -inf\n",
      "[LightGBM] [Warning] No further splits with positive gain, best gain: -inf\n",
      "[LightGBM] [Warning] No further splits with positive gain, best gain: -inf\n",
      "[LightGBM] [Warning] No further splits with positive gain, best gain: -inf\n",
      "[LightGBM] [Warning] No further splits with positive gain, best gain: -inf\n",
      "[LightGBM] [Warning] No further splits with positive gain, best gain: -inf\n",
      "[LightGBM] [Warning] No further splits with positive gain, best gain: -inf\n",
      "[LightGBM] [Warning] No further splits with positive gain, best gain: -inf\n",
      "[LightGBM] [Warning] No further splits with positive gain, best gain: -inf\n",
      "[LightGBM] [Warning] No further splits with positive gain, best gain: -inf\n",
      "[LightGBM] [Warning] No further splits with positive gain, best gain: -inf\n",
      "[LightGBM] [Warning] No further splits with positive gain, best gain: -inf\n",
      "[LightGBM] [Warning] No further splits with positive gain, best gain: -inf\n",
      "[LightGBM] [Warning] No further splits with positive gain, best gain: -inf\n",
      "[LightGBM] [Warning] No further splits with positive gain, best gain: -inf\n",
      "[LightGBM] [Warning] No further splits with positive gain, best gain: -inf\n",
      "[LightGBM] [Warning] No further splits with positive gain, best gain: -inf\n",
      "[LightGBM] [Warning] No further splits with positive gain, best gain: -inf\n",
      "[LightGBM] [Warning] No further splits with positive gain, best gain: -inf\n",
      "[LightGBM] [Warning] No further splits with positive gain, best gain: -inf\n",
      "[LightGBM] [Warning] No further splits with positive gain, best gain: -inf\n",
      "[LightGBM] [Warning] No further splits with positive gain, best gain: -inf\n",
      "[LightGBM] [Warning] No further splits with positive gain, best gain: -inf\n",
      "[LightGBM] [Warning] No further splits with positive gain, best gain: -inf\n",
      "[LightGBM] [Warning] No further splits with positive gain, best gain: -inf\n",
      "[LightGBM] [Warning] No further splits with positive gain, best gain: -inf\n",
      "[LightGBM] [Warning] No further splits with positive gain, best gain: -inf\n",
      "[LightGBM] [Warning] No further splits with positive gain, best gain: -inf\n",
      "[LightGBM] [Warning] No further splits with positive gain, best gain: -inf\n",
      "[LightGBM] [Warning] No further splits with positive gain, best gain: -inf\n",
      "[LightGBM] [Warning] No further splits with positive gain, best gain: -inf\n",
      "[LightGBM] [Warning] No further splits with positive gain, best gain: -inf\n",
      "[LightGBM] [Warning] No further splits with positive gain, best gain: -inf\n",
      "Early stopping, best iteration is:\n",
      "[17]\tvalid_0's multi_error: 0.000355711\n"
     ]
    },
    {
     "data": {
      "text/plain": "0    1281418\n1     320947\n2      13629\n3        461\n4         28\ndtype: int64"
     },
     "execution_count": 13,
     "metadata": {},
     "output_type": "execute_result"
    }
   ],
   "source": [
    "lgb_train = lgb.Dataset(x_train_new_feature, y_train)\n",
    "lgb_eval = lgb.Dataset(x_test_new_feature, y_test, reference=lgb_train)\n",
    "\n",
    "# LightGBM parameters\n",
    "params = {\n",
    "        'task': 'train',\n",
    "        'boosting_type': 'gbdt',\n",
    "        'objective': 'multiclass',\n",
    "        'num_class': 5,\n",
    "        'metric': {'multi_error'}, # 評価指標 : 誤り率(= 1-正答率)  another multi_logloss\n",
    "        'learning_rate': 0.1,\n",
    "        'num_leaves': 23,\n",
    "        'min_data_in_leaf': 1,\n",
    "        'num_iteration': 1000, #1000回学習\n",
    "        'verbose': 0\n",
    "}\n",
    "\n",
    "# モデルの学習\n",
    "model = lgb.train(params, # パラメータ\n",
    "            train_set=lgb_train, # トレーニングデータの指定\n",
    "            valid_sets=lgb_eval, # 検証データの指定\n",
    "            callbacks=[lgb.early_stopping(100)]\n",
    "               )\n",
    "\n",
    "# テストデータの予測 (クラス1の予測確率(クラス1である確率)を返す)\n",
    "y_pred_prob = model.predict(x_test_new_feature)\n",
    "# テストデータの予測 (予測クラス(0 or 1 or 2)を返す)\n",
    "y_pred = np.argmax(y_pred_prob, axis=1) # 一番大きい予測確率のクラスを予測クラスに\n",
    "y_pred = pd.Series(y_pred)\n",
    "y_pred.value_counts()\n"
   ],
   "metadata": {
    "collapsed": false,
    "ExecuteTime": {
     "end_time": "2023-10-06T00:44:48.784826Z",
     "start_time": "2023-10-06T00:44:10.721131Z"
    }
   }
  },
  {
   "cell_type": "code",
   "execution_count": 14,
   "outputs": [
    {
     "name": "stdout",
     "output_type": "stream",
     "text": [
      "              precision    recall  f1-score   support\n",
      "\n",
      "         dos       1.00      1.00      1.00   1281513\n",
      "      normal       1.00      1.00      1.00    321018\n",
      "       probe       0.99      0.99      0.99     13564\n",
      "         r2l       0.67      0.83      0.74       371\n",
      "         u2r       0.00      0.00      0.00        17\n",
      "\n",
      "    accuracy                           1.00   1616483\n",
      "   macro avg       0.73      0.76      0.75   1616483\n",
      "weighted avg       1.00      1.00      1.00   1616483\n"
     ]
    }
   ],
   "source": [
    "print(classification_report(y_test, y_pred, target_names=correspondences.keys()))\n"
   ],
   "metadata": {
    "collapsed": false,
    "ExecuteTime": {
     "end_time": "2023-10-06T00:44:50.071581Z",
     "start_time": "2023-10-06T00:44:48.797349Z"
    }
   }
  },
  {
   "cell_type": "code",
   "execution_count": 15,
   "outputs": [
    {
     "name": "stdout",
     "output_type": "stream",
     "text": [
      "dos    TP: 1281397, TN: 334949, FP: 116, FN: 21\n",
      "normal    TP: 320714, TN: 1295232, FP: 304, FN: 233\n",
      "probe    TP: 13489, TN: 1602779, FP: 75, FN: 140\n",
      "r2l    TP: 308, TN: 1615959, FP: 63, FN: 153\n",
      "u2r    TP: 0, TN: 1616438, FP: 17, FN: 28\n"
     ]
    }
   ],
   "source": [
    "for key, confusion_matrix in zip(correspondences.keys(), multilabel_confusion_matrix(y_test, y_pred)):\n",
    "    print(f\"{key}    TP: {confusion_matrix[1][1]}, TN: {confusion_matrix[0][0]}, FP: {confusion_matrix[1][0]}, FN: {confusion_matrix[0][1]}\")\n"
   ],
   "metadata": {
    "collapsed": false,
    "ExecuteTime": {
     "end_time": "2023-10-06T00:44:50.257046Z",
     "start_time": "2023-10-06T00:44:50.072608Z"
    }
   }
  },
  {
   "cell_type": "markdown",
   "source": [],
   "metadata": {
    "collapsed": false
   }
  },
  {
   "cell_type": "code",
   "execution_count": 16,
   "outputs": [
    {
     "name": "stdout",
     "output_type": "stream",
     "text": [
      "Model: \"sequential_2\"\n",
      "_________________________________________________________________\n",
      " Layer (type)                Output Shape              Param #   \n",
      "=================================================================\n",
      " encoder1 (Dense)            (None, 10)                390       \n",
      "                                                                 \n",
      " encoder2 (Dense)            (None, 5)                 55        \n",
      "                                                                 \n",
      " dense_2 (Dense)             (None, 10)                60        \n",
      "                                                                 \n",
      " dense_3 (Dense)             (None, 38)                418       \n",
      "                                                                 \n",
      "=================================================================\n",
      "Total params: 923\n",
      "Trainable params: 923\n",
      "Non-trainable params: 0\n",
      "_________________________________________________________________\n"
     ]
    }
   ],
   "source": [
    "model = keras.Sequential([\n",
    "    Dense(units=10, activation='relu', input_dim=38, name='encoder1'),\n",
    "    Dense(units=5, activation='relu', name='encoder2'),\n",
    "    Dense(units=10, activation='relu'),\n",
    "    Dense(units=38, activation='relu'),\n",
    "])\n",
    "model.summary()"
   ],
   "metadata": {
    "collapsed": false,
    "ExecuteTime": {
     "end_time": "2023-10-06T00:44:50.357250Z",
     "start_time": "2023-10-06T00:44:50.291009Z"
    }
   }
  },
  {
   "cell_type": "code",
   "execution_count": 17,
   "outputs": [
    {
     "name": "stdout",
     "output_type": "stream",
     "text": [
      "102561/102561 [==============================] - 84s 813us/step - loss: 0.6712 - accuracy: 0.8338 - val_loss: 0.6521 - val_accuracy: 0.8539\n"
     ]
    },
    {
     "data": {
      "text/plain": "<keras.callbacks.History at 0x16adc5c90>"
     },
     "execution_count": 17,
     "metadata": {},
     "output_type": "execute_result"
    }
   ],
   "source": [
    "model.compile(optimizer='adam', loss='mean_squared_error', metrics=['accuracy'])\n",
    "model.fit(x_train, x_train,\n",
    "          epochs=1, # データセットを使って学習する回数\n",
    "        batch_size=32,\n",
    "        shuffle=True, # データをシャッフルすることで，．\n",
    "        validation_data=(x_train, x_train), # 評価用データ（検証データ）の指定\n",
    "        verbose=1,\n",
    "        use_multiprocessing=True\n",
    "          )\n"
   ],
   "metadata": {
    "collapsed": false,
    "ExecuteTime": {
     "end_time": "2023-10-06T00:46:15.771556Z",
     "start_time": "2023-10-06T00:44:50.351443Z"
    }
   }
  },
  {
   "cell_type": "code",
   "execution_count": 18,
   "outputs": [],
   "source": [
    "encoder = keras.Sequential([model.get_layer('encoder1'),\n",
    "                            model.get_layer('encoder2')])\n"
   ],
   "metadata": {
    "collapsed": false,
    "ExecuteTime": {
     "end_time": "2023-10-06T00:46:16.278631Z",
     "start_time": "2023-10-06T00:46:15.760039Z"
    }
   }
  },
  {
   "cell_type": "code",
   "execution_count": 19,
   "outputs": [
    {
     "name": "stdout",
     "output_type": "stream",
     "text": [
      "102561/102561 [==============================] - 29s 278us/step\n",
      "50516/50516 [==============================] - 12s 229us/step\n"
     ]
    },
    {
     "data": {
      "text/plain": "         duration  src_bytes  dst_bytes      land  wrong_fragment    urgent  \\\n1537115 -0.066833  -0.000853  -0.001696 -0.002391       -0.015139 -0.001103   \n4657510 -0.066833  -0.001949  -0.001696 -0.002391       -0.015139 -0.001103   \n1894345 -0.066833  -0.000853  -0.001696 -0.002391       -0.015139 -0.001103   \n1649777 -0.066833  -0.000853  -0.001696 -0.002391       -0.015139 -0.001103   \n1634756 -0.066833  -0.000853  -0.001696 -0.002391       -0.015139 -0.001103   \n...           ...        ...        ...       ...             ...       ...   \n2391255 -0.066833  -0.000853  -0.001696 -0.002391       -0.015139 -0.001103   \n2471385 -0.066833  -0.000853  -0.001696 -0.002391       -0.015139 -0.001103   \n2676542 -0.066833  -0.000853  -0.001696 -0.002391       -0.015139 -0.001103   \n1475808 -0.066833  -0.000853  -0.001696 -0.002391       -0.015139 -0.001103   \n910575  -0.066833  -0.000853  -0.001696 -0.002391       -0.015139 -0.001103   \n\n              hot  num_failed_logins  logged_in  num_compromised  ...  \\\n1537115 -0.026521          -0.004391  -0.409368        -0.002097  ...   \n4657510 -0.026521          -0.004391  -0.409368        -0.002097  ...   \n1894345 -0.026521          -0.004391  -0.409368        -0.002097  ...   \n1649777 -0.026521          -0.004391  -0.409368        -0.002097  ...   \n1634756 -0.026521          -0.004391  -0.409368        -0.002097  ...   \n...           ...                ...        ...              ...  ...   \n2391255 -0.026521          -0.004391  -0.409368        -0.002097  ...   \n2471385 -0.026521          -0.004391  -0.409368        -0.002097  ...   \n2676542 -0.026521          -0.004391  -0.409368        -0.002097  ...   \n1475808 -0.026521          -0.004391  -0.409368        -0.002097  ...   \n910575  -0.026521          -0.004391  -0.409368        -0.002097  ...   \n\n         dst_host_srv_diff_host_rate  dst_host_serror_rate  \\\n1537115                    -0.156668             -0.466405   \n4657510                    -0.156668             -0.466405   \n1894345                    -0.156668             -0.466405   \n1649777                    -0.156668             -0.466405   \n1634756                    -0.156668             -0.466405   \n...                              ...                   ...   \n2391255                    -0.156668             -0.466405   \n2471385                    -0.156668             -0.466405   \n2676542                    -0.156668             -0.466405   \n1475808                    -0.156668             -0.466405   \n910575                     -0.156668             -0.466405   \n\n         dst_host_srv_serror_rate  dst_host_rerror_rate  \\\n1537115                 -0.465454             -0.250832   \n4657510                 -0.465454              4.079245   \n1894345                 -0.465454             -0.250832   \n1649777                 -0.465454             -0.250832   \n1634756                 -0.465454             -0.250832   \n...                           ...                   ...   \n2391255                 -0.465454             -0.250832   \n2471385                 -0.465454             -0.250832   \n2676542                 -0.465454             -0.250832   \n1475808                 -0.465454             -0.250832   \n910575                  -0.465454             -0.250832   \n\n         dst_host_srv_rerror_rate  feature0   feature1  feature2   feature3  \\\n1537115                 -0.249632  1.280124   2.577109  0.765228   1.692235   \n4657510                  4.079791  7.773819  16.201263  0.000000  11.077011   \n1894345                 -0.249632  1.282330   2.582716  0.764655   1.692574   \n1649777                 -0.249632  1.280124   2.577109  0.765228   1.692235   \n1634756                 -0.249632  1.280124   2.577109  0.765228   1.692235   \n...                           ...       ...        ...       ...        ...   \n2391255                 -0.249632  1.280124   2.577109  0.765228   1.692235   \n2471385                 -0.249632  1.282330   2.582716  0.764656   1.692574   \n2676542                 -0.249632  1.280124   2.577109  0.765228   1.692235   \n1475808                 -0.249632  1.280124   2.577109  0.765228   1.692235   \n910575                  -0.249632  1.280124   2.577109  0.765228   1.692235   \n\n         feature4  \n1537115       0.0  \n4657510       0.0  \n1894345       0.0  \n1649777       0.0  \n1634756       0.0  \n...           ...  \n2391255       0.0  \n2471385       0.0  \n2676542       0.0  \n1475808       0.0  \n910575        0.0  \n\n[3281948 rows x 43 columns]",
      "text/html": "<div>\n<style scoped>\n    .dataframe tbody tr th:only-of-type {\n        vertical-align: middle;\n    }\n\n    .dataframe tbody tr th {\n        vertical-align: top;\n    }\n\n    .dataframe thead th {\n        text-align: right;\n    }\n</style>\n<table border=\"1\" class=\"dataframe\">\n  <thead>\n    <tr style=\"text-align: right;\">\n      <th></th>\n      <th>duration</th>\n      <th>src_bytes</th>\n      <th>dst_bytes</th>\n      <th>land</th>\n      <th>wrong_fragment</th>\n      <th>urgent</th>\n      <th>hot</th>\n      <th>num_failed_logins</th>\n      <th>logged_in</th>\n      <th>num_compromised</th>\n      <th>...</th>\n      <th>dst_host_srv_diff_host_rate</th>\n      <th>dst_host_serror_rate</th>\n      <th>dst_host_srv_serror_rate</th>\n      <th>dst_host_rerror_rate</th>\n      <th>dst_host_srv_rerror_rate</th>\n      <th>feature0</th>\n      <th>feature1</th>\n      <th>feature2</th>\n      <th>feature3</th>\n      <th>feature4</th>\n    </tr>\n  </thead>\n  <tbody>\n    <tr>\n      <th>1537115</th>\n      <td>-0.066833</td>\n      <td>-0.000853</td>\n      <td>-0.001696</td>\n      <td>-0.002391</td>\n      <td>-0.015139</td>\n      <td>-0.001103</td>\n      <td>-0.026521</td>\n      <td>-0.004391</td>\n      <td>-0.409368</td>\n      <td>-0.002097</td>\n      <td>...</td>\n      <td>-0.156668</td>\n      <td>-0.466405</td>\n      <td>-0.465454</td>\n      <td>-0.250832</td>\n      <td>-0.249632</td>\n      <td>1.280124</td>\n      <td>2.577109</td>\n      <td>0.765228</td>\n      <td>1.692235</td>\n      <td>0.0</td>\n    </tr>\n    <tr>\n      <th>4657510</th>\n      <td>-0.066833</td>\n      <td>-0.001949</td>\n      <td>-0.001696</td>\n      <td>-0.002391</td>\n      <td>-0.015139</td>\n      <td>-0.001103</td>\n      <td>-0.026521</td>\n      <td>-0.004391</td>\n      <td>-0.409368</td>\n      <td>-0.002097</td>\n      <td>...</td>\n      <td>-0.156668</td>\n      <td>-0.466405</td>\n      <td>-0.465454</td>\n      <td>4.079245</td>\n      <td>4.079791</td>\n      <td>7.773819</td>\n      <td>16.201263</td>\n      <td>0.000000</td>\n      <td>11.077011</td>\n      <td>0.0</td>\n    </tr>\n    <tr>\n      <th>1894345</th>\n      <td>-0.066833</td>\n      <td>-0.000853</td>\n      <td>-0.001696</td>\n      <td>-0.002391</td>\n      <td>-0.015139</td>\n      <td>-0.001103</td>\n      <td>-0.026521</td>\n      <td>-0.004391</td>\n      <td>-0.409368</td>\n      <td>-0.002097</td>\n      <td>...</td>\n      <td>-0.156668</td>\n      <td>-0.466405</td>\n      <td>-0.465454</td>\n      <td>-0.250832</td>\n      <td>-0.249632</td>\n      <td>1.282330</td>\n      <td>2.582716</td>\n      <td>0.764655</td>\n      <td>1.692574</td>\n      <td>0.0</td>\n    </tr>\n    <tr>\n      <th>1649777</th>\n      <td>-0.066833</td>\n      <td>-0.000853</td>\n      <td>-0.001696</td>\n      <td>-0.002391</td>\n      <td>-0.015139</td>\n      <td>-0.001103</td>\n      <td>-0.026521</td>\n      <td>-0.004391</td>\n      <td>-0.409368</td>\n      <td>-0.002097</td>\n      <td>...</td>\n      <td>-0.156668</td>\n      <td>-0.466405</td>\n      <td>-0.465454</td>\n      <td>-0.250832</td>\n      <td>-0.249632</td>\n      <td>1.280124</td>\n      <td>2.577109</td>\n      <td>0.765228</td>\n      <td>1.692235</td>\n      <td>0.0</td>\n    </tr>\n    <tr>\n      <th>1634756</th>\n      <td>-0.066833</td>\n      <td>-0.000853</td>\n      <td>-0.001696</td>\n      <td>-0.002391</td>\n      <td>-0.015139</td>\n      <td>-0.001103</td>\n      <td>-0.026521</td>\n      <td>-0.004391</td>\n      <td>-0.409368</td>\n      <td>-0.002097</td>\n      <td>...</td>\n      <td>-0.156668</td>\n      <td>-0.466405</td>\n      <td>-0.465454</td>\n      <td>-0.250832</td>\n      <td>-0.249632</td>\n      <td>1.280124</td>\n      <td>2.577109</td>\n      <td>0.765228</td>\n      <td>1.692235</td>\n      <td>0.0</td>\n    </tr>\n    <tr>\n      <th>...</th>\n      <td>...</td>\n      <td>...</td>\n      <td>...</td>\n      <td>...</td>\n      <td>...</td>\n      <td>...</td>\n      <td>...</td>\n      <td>...</td>\n      <td>...</td>\n      <td>...</td>\n      <td>...</td>\n      <td>...</td>\n      <td>...</td>\n      <td>...</td>\n      <td>...</td>\n      <td>...</td>\n      <td>...</td>\n      <td>...</td>\n      <td>...</td>\n      <td>...</td>\n      <td>...</td>\n    </tr>\n    <tr>\n      <th>2391255</th>\n      <td>-0.066833</td>\n      <td>-0.000853</td>\n      <td>-0.001696</td>\n      <td>-0.002391</td>\n      <td>-0.015139</td>\n      <td>-0.001103</td>\n      <td>-0.026521</td>\n      <td>-0.004391</td>\n      <td>-0.409368</td>\n      <td>-0.002097</td>\n      <td>...</td>\n      <td>-0.156668</td>\n      <td>-0.466405</td>\n      <td>-0.465454</td>\n      <td>-0.250832</td>\n      <td>-0.249632</td>\n      <td>1.280124</td>\n      <td>2.577109</td>\n      <td>0.765228</td>\n      <td>1.692235</td>\n      <td>0.0</td>\n    </tr>\n    <tr>\n      <th>2471385</th>\n      <td>-0.066833</td>\n      <td>-0.000853</td>\n      <td>-0.001696</td>\n      <td>-0.002391</td>\n      <td>-0.015139</td>\n      <td>-0.001103</td>\n      <td>-0.026521</td>\n      <td>-0.004391</td>\n      <td>-0.409368</td>\n      <td>-0.002097</td>\n      <td>...</td>\n      <td>-0.156668</td>\n      <td>-0.466405</td>\n      <td>-0.465454</td>\n      <td>-0.250832</td>\n      <td>-0.249632</td>\n      <td>1.282330</td>\n      <td>2.582716</td>\n      <td>0.764656</td>\n      <td>1.692574</td>\n      <td>0.0</td>\n    </tr>\n    <tr>\n      <th>2676542</th>\n      <td>-0.066833</td>\n      <td>-0.000853</td>\n      <td>-0.001696</td>\n      <td>-0.002391</td>\n      <td>-0.015139</td>\n      <td>-0.001103</td>\n      <td>-0.026521</td>\n      <td>-0.004391</td>\n      <td>-0.409368</td>\n      <td>-0.002097</td>\n      <td>...</td>\n      <td>-0.156668</td>\n      <td>-0.466405</td>\n      <td>-0.465454</td>\n      <td>-0.250832</td>\n      <td>-0.249632</td>\n      <td>1.280124</td>\n      <td>2.577109</td>\n      <td>0.765228</td>\n      <td>1.692235</td>\n      <td>0.0</td>\n    </tr>\n    <tr>\n      <th>1475808</th>\n      <td>-0.066833</td>\n      <td>-0.000853</td>\n      <td>-0.001696</td>\n      <td>-0.002391</td>\n      <td>-0.015139</td>\n      <td>-0.001103</td>\n      <td>-0.026521</td>\n      <td>-0.004391</td>\n      <td>-0.409368</td>\n      <td>-0.002097</td>\n      <td>...</td>\n      <td>-0.156668</td>\n      <td>-0.466405</td>\n      <td>-0.465454</td>\n      <td>-0.250832</td>\n      <td>-0.249632</td>\n      <td>1.280124</td>\n      <td>2.577109</td>\n      <td>0.765228</td>\n      <td>1.692235</td>\n      <td>0.0</td>\n    </tr>\n    <tr>\n      <th>910575</th>\n      <td>-0.066833</td>\n      <td>-0.000853</td>\n      <td>-0.001696</td>\n      <td>-0.002391</td>\n      <td>-0.015139</td>\n      <td>-0.001103</td>\n      <td>-0.026521</td>\n      <td>-0.004391</td>\n      <td>-0.409368</td>\n      <td>-0.002097</td>\n      <td>...</td>\n      <td>-0.156668</td>\n      <td>-0.466405</td>\n      <td>-0.465454</td>\n      <td>-0.250832</td>\n      <td>-0.249632</td>\n      <td>1.280124</td>\n      <td>2.577109</td>\n      <td>0.765228</td>\n      <td>1.692235</td>\n      <td>0.0</td>\n    </tr>\n  </tbody>\n</table>\n<p>3281948 rows × 43 columns</p>\n</div>"
     },
     "execution_count": 19,
     "metadata": {},
     "output_type": "execute_result"
    }
   ],
   "source": [
    "columns = list(map(lambda x: 'feature' + str(x), range(5)))\n",
    "x_train_encoded = pd.DataFrame(data=encoder.predict(x_train), index=x_train.index, columns=columns)\n",
    "x_test_encoded = pd.DataFrame(data=encoder.predict(x_test), index=x_test.index, columns=columns)\n",
    "x_train_new_feature = x_train.merge(x_train_encoded, right_index=True, left_index=True)\n",
    "x_test_new_feature = x_test.merge(x_test_encoded, right_index=True, left_index=True)\n",
    "x_train_new_feature\n"
   ],
   "metadata": {
    "collapsed": false,
    "ExecuteTime": {
     "end_time": "2023-10-06T00:47:13.781071Z",
     "start_time": "2023-10-06T00:46:15.819210Z"
    }
   }
  },
  {
   "cell_type": "code",
   "execution_count": 20,
   "outputs": [
    {
     "name": "stderr",
     "output_type": "stream",
     "text": [
      "/Users/satun/anaconda3/lib/python3.10/site-packages/lightgbm/engine.py:177: UserWarning: Found `num_iteration` in params. Will use it instead of argument\n",
      "  _log_warning(f\"Found `{alias}` in params. Will use it instead of argument\")\n"
     ]
    },
    {
     "name": "stdout",
     "output_type": "stream",
     "text": [
      "[LightGBM] [Warning] Auto-choosing row-wise multi-threading, the overhead of testing was 0.141651 seconds.\n",
      "You can set `force_row_wise=true` to remove the overhead.\n",
      "And if memory is not enough, you can set `force_col_wise=true`.\n",
      "Training until validation scores don't improve for 100 rounds\n",
      "[LightGBM] [Warning] No further splits with positive gain, best gain: -inf\n",
      "[LightGBM] [Warning] No further splits with positive gain, best gain: -inf\n",
      "[LightGBM] [Warning] No further splits with positive gain, best gain: -inf\n",
      "[LightGBM] [Warning] No further splits with positive gain, best gain: -inf\n",
      "[LightGBM] [Warning] No further splits with positive gain, best gain: -inf\n",
      "[LightGBM] [Warning] No further splits with positive gain, best gain: -inf\n",
      "[LightGBM] [Warning] No further splits with positive gain, best gain: -inf\n",
      "[LightGBM] [Warning] No further splits with positive gain, best gain: -inf\n",
      "[LightGBM] [Warning] No further splits with positive gain, best gain: -inf\n",
      "[LightGBM] [Warning] No further splits with positive gain, best gain: -inf\n",
      "[LightGBM] [Warning] No further splits with positive gain, best gain: -inf\n",
      "[LightGBM] [Warning] No further splits with positive gain, best gain: -inf\n",
      "[LightGBM] [Warning] No further splits with positive gain, best gain: -inf\n",
      "[LightGBM] [Warning] No further splits with positive gain, best gain: -inf\n",
      "[LightGBM] [Warning] No further splits with positive gain, best gain: -inf\n",
      "[LightGBM] [Warning] No further splits with positive gain, best gain: -inf\n",
      "[LightGBM] [Warning] No further splits with positive gain, best gain: -inf\n",
      "[LightGBM] [Warning] No further splits with positive gain, best gain: -inf\n",
      "[LightGBM] [Warning] No further splits with positive gain, best gain: -inf\n",
      "[LightGBM] [Warning] No further splits with positive gain, best gain: -inf\n",
      "[LightGBM] [Warning] No further splits with positive gain, best gain: -inf\n",
      "[LightGBM] [Warning] No further splits with positive gain, best gain: -inf\n",
      "[LightGBM] [Warning] No further splits with positive gain, best gain: -inf\n",
      "[LightGBM] [Warning] No further splits with positive gain, best gain: -inf\n",
      "[LightGBM] [Warning] No further splits with positive gain, best gain: -inf\n",
      "[LightGBM] [Warning] No further splits with positive gain, best gain: -inf\n",
      "[LightGBM] [Warning] No further splits with positive gain, best gain: -inf\n",
      "[LightGBM] [Warning] No further splits with positive gain, best gain: -inf\n",
      "[LightGBM] [Warning] No further splits with positive gain, best gain: -inf\n",
      "[LightGBM] [Warning] No further splits with positive gain, best gain: -inf\n",
      "[LightGBM] [Warning] No further splits with positive gain, best gain: -inf\n",
      "[LightGBM] [Warning] No further splits with positive gain, best gain: -inf\n",
      "[LightGBM] [Warning] No further splits with positive gain, best gain: -inf\n",
      "[LightGBM] [Warning] No further splits with positive gain, best gain: -inf\n",
      "[LightGBM] [Warning] No further splits with positive gain, best gain: -inf\n",
      "[LightGBM] [Warning] No further splits with positive gain, best gain: -inf\n",
      "[LightGBM] [Warning] No further splits with positive gain, best gain: -inf\n",
      "[LightGBM] [Warning] No further splits with positive gain, best gain: -inf\n",
      "[LightGBM] [Warning] No further splits with positive gain, best gain: -inf\n",
      "[LightGBM] [Warning] No further splits with positive gain, best gain: -inf\n",
      "[LightGBM] [Warning] No further splits with positive gain, best gain: -inf\n",
      "[LightGBM] [Warning] No further splits with positive gain, best gain: -inf\n",
      "[LightGBM] [Warning] No further splits with positive gain, best gain: -inf\n",
      "[LightGBM] [Warning] No further splits with positive gain, best gain: -inf\n",
      "[LightGBM] [Warning] No further splits with positive gain, best gain: -inf\n",
      "[LightGBM] [Warning] No further splits with positive gain, best gain: -inf\n",
      "[LightGBM] [Warning] No further splits with positive gain, best gain: -inf\n",
      "[LightGBM] [Warning] No further splits with positive gain, best gain: -inf\n",
      "[LightGBM] [Warning] No further splits with positive gain, best gain: -inf\n",
      "[LightGBM] [Warning] No further splits with positive gain, best gain: -inf\n",
      "[LightGBM] [Warning] No further splits with positive gain, best gain: -inf\n",
      "[LightGBM] [Warning] No further splits with positive gain, best gain: -inf\n",
      "[LightGBM] [Warning] No further splits with positive gain, best gain: -inf\n",
      "[LightGBM] [Warning] No further splits with positive gain, best gain: -inf\n",
      "[LightGBM] [Warning] No further splits with positive gain, best gain: -inf\n",
      "[LightGBM] [Warning] No further splits with positive gain, best gain: -inf\n",
      "Early stopping, best iteration is:\n",
      "[24]\tvalid_0's multi_error: 0.000490571\n"
     ]
    },
    {
     "data": {
      "text/plain": "0    1281283\n1     321225\n2      13485\n3        446\n4         44\ndtype: int64"
     },
     "execution_count": 20,
     "metadata": {},
     "output_type": "execute_result"
    }
   ],
   "source": [
    "lgb_train = lgb.Dataset(x_train_new_feature, y_train)\n",
    "lgb_eval = lgb.Dataset(x_test_new_feature, y_test, reference=lgb_train)\n",
    "# モデルの学習\n",
    "model = lgb.train(params, # パラメータ\n",
    "            train_set=lgb_train, # トレーニングデータの指定\n",
    "            valid_sets=lgb_eval, # 検証データの指定\n",
    "            callbacks=[lgb.early_stopping(100)]\n",
    "               )\n",
    "\n",
    "# テストデータの予測 (クラス1の予測確率(クラス1である確率)を返す)\n",
    "y_pred_prob = model.predict(x_test_new_feature)\n",
    "# テストデータの予測 (予測クラス(0 or 1 or 2)を返す)\n",
    "y_pred = np.argmax(y_pred_prob, axis=1) # 一番大きい予測確率のクラスを予測クラスに\n",
    "y_pred = pd.Series(y_pred)\n",
    "y_pred.value_counts()"
   ],
   "metadata": {
    "collapsed": false,
    "ExecuteTime": {
     "end_time": "2023-10-06T00:48:13.389435Z",
     "start_time": "2023-10-06T00:47:13.564455Z"
    }
   }
  },
  {
   "cell_type": "code",
   "execution_count": 21,
   "outputs": [
    {
     "name": "stdout",
     "output_type": "stream",
     "text": [
      "              precision    recall  f1-score   support\n",
      "\n",
      "         dos       1.00      1.00      1.00   1281513\n",
      "      normal       1.00      1.00      1.00    321018\n",
      "       probe       0.99      0.99      0.99     13564\n",
      "         r2l       0.72      0.87      0.79       371\n",
      "         u2r       0.00      0.00      0.00        17\n",
      "\n",
      "    accuracy                           1.00   1616483\n",
      "   macro avg       0.74      0.77      0.75   1616483\n",
      "weighted avg       1.00      1.00      1.00   1616483\n"
     ]
    }
   ],
   "source": [
    "print(classification_report(y_test, y_pred, target_names=correspondences.keys()))\n"
   ],
   "metadata": {
    "collapsed": false,
    "ExecuteTime": {
     "end_time": "2023-10-06T00:48:15.002202Z",
     "start_time": "2023-10-06T00:48:13.381737Z"
    }
   }
  },
  {
   "cell_type": "code",
   "execution_count": 22,
   "outputs": [
    {
     "name": "stdout",
     "output_type": "stream",
     "text": [
      "dos    TP: 1281246, TN: 334933, FP: 267, FN: 37\n",
      "normal    TP: 320743, TN: 1294983, FP: 275, FN: 482\n",
      "probe    TP: 13380, TN: 1602814, FP: 184, FN: 105\n",
      "r2l    TP: 321, TN: 1615987, FP: 50, FN: 125\n",
      "u2r    TP: 0, TN: 1616422, FP: 17, FN: 44\n"
     ]
    }
   ],
   "source": [
    "for key, confusion_matrix in zip(correspondences.keys(), multilabel_confusion_matrix(y_test, y_pred)):\n",
    "    print(f\"{key}    TP: {confusion_matrix[1][1]}, TN: {confusion_matrix[0][0]}, FP: {confusion_matrix[1][0]}, FN: {confusion_matrix[0][1]}\")\n"
   ],
   "metadata": {
    "collapsed": false,
    "ExecuteTime": {
     "end_time": "2023-10-06T00:48:15.230732Z",
     "start_time": "2023-10-06T00:48:14.998232Z"
    }
   }
  },
  {
   "cell_type": "markdown",
   "source": [
    "# 10％データを使用した場合\n",
    "## 数値入力データのみ（38次元）の場合\n",
    "dos    TP: 129147, TN: 33829, FP: 34, FN: 17\n",
    "normal TP: 32045,  TN: 130870, FP: 57, FN: 55\n",
    "probe  TP: 1338,   TN: 161666, FP: 17, FN: 6\n",
    "r2l    TP: 353,    TN: 162637, FP: 19, FN: 18\n",
    "u2r    TP: 5,      TN: 162967, FP: 12, FN: 43\n",
    "\n",
    "\n",
    "## 数値入力データ+AEで学習した特徴量(10次元)（48次元）の場合\n",
    "dos    TP: 129168, TN: 33813,  FP: 13, FN: 33\n",
    "normal TP: 32001,  TN: 130864, FP: 101, FN: 61\n",
    "probe  TP: 1334,   TN: 161658, FP: 21, FN: 14\n",
    "r2l    TP: 342,    TN: 162630, FP: 30, FN: 25\n",
    "u2r    TP: 4,      TN: 162965, FP: 13, FN: 45\n",
    "\n",
    "## 数値入力データ+AEで学習した特徴量(5次元)（43次元）の場合\n",
    "dos    TP: 129173, TN: 33781, FP: 8, FN: 65\n",
    "normal    TP: 32018, TN: 130880, FP: 84, FN: 45\n",
    "probe    TP: 1324, TN: 161659, FP: 31, FN: 13\n",
    "r2l    TP: 349, TN: 162622, FP: 23, FN: 33\n",
    "u2r    TP: 1, TN: 163004, FP: 16, FN: 6\n"
   ],
   "metadata": {
    "collapsed": false
   }
  },
  {
   "cell_type": "code",
   "execution_count": 22,
   "outputs": [],
   "source": [],
   "metadata": {
    "collapsed": false,
    "ExecuteTime": {
     "end_time": "2023-10-06T00:48:15.231671Z",
     "start_time": "2023-10-06T00:48:15.222792Z"
    }
   }
  }
 ],
 "metadata": {
  "kernelspec": {
   "display_name": "Python 3",
   "language": "python",
   "name": "python3"
  },
  "language_info": {
   "codemirror_mode": {
    "name": "ipython",
    "version": 2
   },
   "file_extension": ".py",
   "mimetype": "text/x-python",
   "name": "python",
   "nbconvert_exporter": "python",
   "pygments_lexer": "ipython2",
   "version": "2.7.6"
  }
 },
 "nbformat": 4,
 "nbformat_minor": 0
}
