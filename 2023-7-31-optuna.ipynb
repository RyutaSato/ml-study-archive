{
 "cells": [
  {
   "cell_type": "markdown",
   "source": [
    "\n",
    "## ハイパーパラメータチューニング（optuna）を試す。\n",
    "\n",
    "### 背景\n",
    "- パラメータによって、`u2r`の学習率に大きく影響があると考えられるため。\n",
    "### 目的\n",
    "- 最適なパラメータを知ること\n",
    "### 使用するデータセット\n",
    "- KDD99 10%\n",
    "### 手法\n",
    "### 結果\n",
    "### 考察"
   ],
   "metadata": {
    "collapsed": false
   },
   "id": "42e0e73af718494a"
  },
  {
   "cell_type": "code",
   "execution_count": 2,
   "id": "initial_id",
   "metadata": {
    "collapsed": true,
    "ExecuteTime": {
     "end_time": "2023-07-31T13:48:35.023194700Z",
     "start_time": "2023-07-31T13:48:34.616871Z"
    }
   },
   "outputs": [
    {
     "name": "stdout",
     "output_type": "stream",
     "text": [
      "python:      3.10.5\n",
      "sklearn:     1.2.2\n",
      "tensorflow:  2.13.0-rc0\n",
      "keras:       2.13.1rc0\n",
      "numpy:       1.23.5\n",
      "pandas:      1.5.3\n"
     ]
    }
   ],
   "source": [
    "import lightgbm\n",
    "\n",
    "from utils_kdd99 import *\n",
    "print_version()"
   ]
  },
  {
   "cell_type": "code",
   "execution_count": 4,
   "outputs": [
    {
     "data": {
      "text/plain": "0    391458\n1     97278\n2      4107\n3      1126\n4        52\nName: true_label, dtype: int64"
     },
     "execution_count": 4,
     "metadata": {},
     "output_type": "execute_result"
    }
   ],
   "source": [
    "# データの読み込み\n",
    "X, y = load_data(use_full_dataset=False, standard_scale=True, verbose=0, )\n",
    "# 分類モデルによっては数値ラベルしか対応していないため、目的変数を分類クラスから数値へ変換\n",
    "y = y.map(lambda x: attack_label_class[x]).map(lambda x: correspondences[x])\n",
    "y.value_counts()"
   ],
   "metadata": {
    "collapsed": false,
    "ExecuteTime": {
     "end_time": "2023-07-31T14:20:59.100277900Z",
     "start_time": "2023-07-31T14:20:56.308606700Z"
    }
   },
   "id": "a095d7df79514d5e"
  },
  {
   "cell_type": "code",
   "execution_count": 6,
   "outputs": [],
   "source": [
    "x_train, x_test, y_train, y_test = train_test_split(X, y, test_size=0.33, random_state=RANDOM_SEED, stratify=y)"
   ],
   "metadata": {
    "collapsed": false,
    "ExecuteTime": {
     "end_time": "2023-07-31T14:32:44.809267700Z",
     "start_time": "2023-07-31T14:32:44.531245600Z"
    }
   },
   "id": "bf5619978d22c04c"
  },
  {
   "cell_type": "markdown",
   "source": [
    "### Dosのみを学習したオートエンコーダの作成\n",
    "- 隠れ層の次元数(38->10->5->10->38)\n",
    "- 活性化関数：ReLU\n",
    "- 最適化関数：adam\n",
    "- 損失関数：平均二乗誤差\n",
    "- エポック数：5\n",
    "- バッチサイズ：32"
   ],
   "metadata": {
    "collapsed": false
   },
   "id": "d776cca5aad065b6"
  },
  {
   "cell_type": "code",
   "execution_count": 10,
   "outputs": [
    {
     "name": "stdout",
     "output_type": "stream",
     "text": [
      "Model: \"sequential_1\"\n",
      "_________________________________________________________________\n",
      " Layer (type)                Output Shape              Param #   \n",
      "=================================================================\n",
      " encoder1 (Dense)            (None, 10)                390       \n",
      "                                                                 \n",
      " encoder2 (Dense)            (None, 5)                 55        \n",
      "                                                                 \n",
      " dense_2 (Dense)             (None, 10)                60        \n",
      "                                                                 \n",
      " dense_3 (Dense)             (None, 38)                418       \n",
      "                                                                 \n",
      "=================================================================\n",
      "Total params: 923 (3.61 KB)\n",
      "Trainable params: 923 (3.61 KB)\n",
      "Non-trainable params: 0 (0.00 Byte)\n",
      "_________________________________________________________________\n"
     ]
    }
   ],
   "source": [
    "ae_model = keras.Sequential([\n",
    "    Dense(units=10, activation='relu', input_dim=38, name='encoder1'),\n",
    "    Dense(units=5, activation='relu', name='encoder2'),\n",
    "    Dense(units=10, activation='relu'),\n",
    "    Dense(units=38, activation='relu'),\n",
    "])\n",
    "ae_model.compile(optimizer='adam', loss='mean_squared_error', metrics=['accuracy'])\n",
    "ae_model.summary()"
   ],
   "metadata": {
    "collapsed": false,
    "ExecuteTime": {
     "end_time": "2023-07-31T14:35:02.170599100Z",
     "start_time": "2023-07-31T14:35:02.105737300Z"
    }
   },
   "id": "4c4d5ecf7fd0bc33"
  },
  {
   "cell_type": "code",
   "execution_count": 11,
   "outputs": [],
   "source": [
    "# Dosのみのデータセットを作成\n",
    "dos_x_train = x_train[y_train == correspondences['dos']]"
   ],
   "metadata": {
    "collapsed": false,
    "ExecuteTime": {
     "end_time": "2023-07-31T14:35:02.209406200Z",
     "start_time": "2023-07-31T14:35:02.156454Z"
    }
   },
   "id": "11497b669c0fd920"
  },
  {
   "cell_type": "code",
   "execution_count": 12,
   "outputs": [
    {
     "name": "stdout",
     "output_type": "stream",
     "text": [
      "Epoch 1/5\n",
      "8197/8197 [==============================] - 7s 740us/step - loss: 0.2577 - accuracy: 0.8032\n",
      "Epoch 2/5\n",
      "8197/8197 [==============================] - 7s 799us/step - loss: 0.2538 - accuracy: 0.8323\n",
      "Epoch 3/5\n",
      "8197/8197 [==============================] - 6s 781us/step - loss: 0.2212 - accuracy: 0.8192\n",
      "Epoch 4/5\n",
      "8197/8197 [==============================] - 7s 858us/step - loss: 0.2207 - accuracy: 0.8290\n",
      "Epoch 5/5\n",
      "8197/8197 [==============================] - 6s 763us/step - loss: 0.2206 - accuracy: 0.8362\n"
     ]
    },
    {
     "data": {
      "text/plain": "<keras.src.callbacks.History at 0x10a049f1630>"
     },
     "execution_count": 12,
     "metadata": {},
     "output_type": "execute_result"
    }
   ],
   "source": [
    "ae_model.fit(dos_x_train, dos_x_train,\n",
    "            epochs=5, # データセットを使って学習する回数\n",
    "            batch_size=32,\n",
    "            shuffle=True,\n",
    "            verbose=1,\n",
    "            use_multiprocessing=True\n",
    "          )"
   ],
   "metadata": {
    "collapsed": false,
    "ExecuteTime": {
     "end_time": "2023-07-31T14:35:35.295163900Z",
     "start_time": "2023-07-31T14:35:02.209406200Z"
    }
   },
   "id": "4100f2b92c02e6e4"
  },
  {
   "cell_type": "code",
   "execution_count": 14,
   "outputs": [
    {
     "data": {
      "text/plain": "['dos0', 'dos1', 'dos2', 'dos3', 'dos4']"
     },
     "execution_count": 14,
     "metadata": {},
     "output_type": "execute_result"
    }
   ],
   "source": [
    "# エンコーダー部分を抜き取る\n",
    "encoder = keras.Sequential([ae_model.get_layer('encoder1'),\n",
    "                            ae_model.get_layer('encoder2')])\n",
    "# DOSエンコーダを用いた特徴量に命名\n",
    "dos_columns = list(map(lambda x: 'dos' + str(x), range(5)))\n",
    "dos_columns"
   ],
   "metadata": {
    "collapsed": false,
    "ExecuteTime": {
     "end_time": "2023-07-31T14:39:40.554463900Z",
     "start_time": "2023-07-31T14:39:40.523523500Z"
    }
   },
   "id": "c90ea97000cb72d6"
  },
  {
   "cell_type": "code",
   "execution_count": 15,
   "outputs": [
    {
     "name": "stdout",
     "output_type": "stream",
     "text": [
      "10344/10344 [==============================] - 6s 531us/step\n",
      "5095/5095 [==============================] - 3s 544us/step\n"
     ]
    },
    {
     "data": {
      "text/plain": "        duration  src_bytes  dst_bytes      land  wrong_fragment    urgent  \\\n212221 -0.067792  -0.002017  -0.026287 -0.006673        -0.04772 -0.002571   \n30903  -0.067792  -0.002774   0.472896 -0.006673        -0.04772 -0.002571   \n9739   -0.067792  -0.002017  -0.026287 -0.006673        -0.04772 -0.002571   \n37540  -0.067792  -0.002776  -0.014120 -0.006673        -0.04772 -0.002571   \n418638 -0.067792  -0.002535  -0.026287 -0.006673        -0.04772 -0.002571   \n\n             hot  num_failed_logins  logged_in  num_compromised  ...  \\\n212221 -0.044136          -0.009782  -0.417192        -0.005679  ...   \n30903  -0.044136          -0.009782   2.396980        -0.005679  ...   \n9739   -0.044136          -0.009782  -0.417192        -0.005679  ...   \n37540  -0.044136          -0.009782   2.396980        -0.005679  ...   \n418638 -0.044136          -0.009782  -0.417192        -0.005679  ...   \n\n        dst_host_srv_diff_host_rate  dst_host_serror_rate  \\\n212221                    -0.158629             -0.464418   \n30903                      0.553404             -0.464418   \n9739                      -0.158629             -0.464418   \n37540                      0.790749             -0.464418   \n418638                    -0.158629             -0.464418   \n\n        dst_host_srv_serror_rate  dst_host_rerror_rate  \\\n212221                 -0.463202              -0.25204   \n30903                  -0.463202              -0.25204   \n9739                   -0.463202              -0.25204   \n37540                  -0.463202              -0.25204   \n418638                 -0.463202              -0.25204   \n\n        dst_host_srv_rerror_rate      dos0      dos1      dos2      dos3  \\\n212221                 -0.249464  0.971426  3.588529  0.000000  1.988687   \n30903                  -0.249464  1.204473  0.534857  1.009054  0.000000   \n9739                   -0.249464  0.970986  3.588720  0.000000  1.990658   \n37540                  -0.249464  0.947306  0.529504  0.977704  0.000000   \n418638                 -0.249464  0.971012  3.588875  0.000000  1.990835   \n\n            dos4  \n212221  1.143270  \n30903   0.000000  \n9739    1.145948  \n37540   0.000000  \n418638  1.146163  \n\n[5 rows x 43 columns]",
      "text/html": "<div>\n<style scoped>\n    .dataframe tbody tr th:only-of-type {\n        vertical-align: middle;\n    }\n\n    .dataframe tbody tr th {\n        vertical-align: top;\n    }\n\n    .dataframe thead th {\n        text-align: right;\n    }\n</style>\n<table border=\"1\" class=\"dataframe\">\n  <thead>\n    <tr style=\"text-align: right;\">\n      <th></th>\n      <th>duration</th>\n      <th>src_bytes</th>\n      <th>dst_bytes</th>\n      <th>land</th>\n      <th>wrong_fragment</th>\n      <th>urgent</th>\n      <th>hot</th>\n      <th>num_failed_logins</th>\n      <th>logged_in</th>\n      <th>num_compromised</th>\n      <th>...</th>\n      <th>dst_host_srv_diff_host_rate</th>\n      <th>dst_host_serror_rate</th>\n      <th>dst_host_srv_serror_rate</th>\n      <th>dst_host_rerror_rate</th>\n      <th>dst_host_srv_rerror_rate</th>\n      <th>dos0</th>\n      <th>dos1</th>\n      <th>dos2</th>\n      <th>dos3</th>\n      <th>dos4</th>\n    </tr>\n  </thead>\n  <tbody>\n    <tr>\n      <th>212221</th>\n      <td>-0.067792</td>\n      <td>-0.002017</td>\n      <td>-0.026287</td>\n      <td>-0.006673</td>\n      <td>-0.04772</td>\n      <td>-0.002571</td>\n      <td>-0.044136</td>\n      <td>-0.009782</td>\n      <td>-0.417192</td>\n      <td>-0.005679</td>\n      <td>...</td>\n      <td>-0.158629</td>\n      <td>-0.464418</td>\n      <td>-0.463202</td>\n      <td>-0.25204</td>\n      <td>-0.249464</td>\n      <td>0.971426</td>\n      <td>3.588529</td>\n      <td>0.000000</td>\n      <td>1.988687</td>\n      <td>1.143270</td>\n    </tr>\n    <tr>\n      <th>30903</th>\n      <td>-0.067792</td>\n      <td>-0.002774</td>\n      <td>0.472896</td>\n      <td>-0.006673</td>\n      <td>-0.04772</td>\n      <td>-0.002571</td>\n      <td>-0.044136</td>\n      <td>-0.009782</td>\n      <td>2.396980</td>\n      <td>-0.005679</td>\n      <td>...</td>\n      <td>0.553404</td>\n      <td>-0.464418</td>\n      <td>-0.463202</td>\n      <td>-0.25204</td>\n      <td>-0.249464</td>\n      <td>1.204473</td>\n      <td>0.534857</td>\n      <td>1.009054</td>\n      <td>0.000000</td>\n      <td>0.000000</td>\n    </tr>\n    <tr>\n      <th>9739</th>\n      <td>-0.067792</td>\n      <td>-0.002017</td>\n      <td>-0.026287</td>\n      <td>-0.006673</td>\n      <td>-0.04772</td>\n      <td>-0.002571</td>\n      <td>-0.044136</td>\n      <td>-0.009782</td>\n      <td>-0.417192</td>\n      <td>-0.005679</td>\n      <td>...</td>\n      <td>-0.158629</td>\n      <td>-0.464418</td>\n      <td>-0.463202</td>\n      <td>-0.25204</td>\n      <td>-0.249464</td>\n      <td>0.970986</td>\n      <td>3.588720</td>\n      <td>0.000000</td>\n      <td>1.990658</td>\n      <td>1.145948</td>\n    </tr>\n    <tr>\n      <th>37540</th>\n      <td>-0.067792</td>\n      <td>-0.002776</td>\n      <td>-0.014120</td>\n      <td>-0.006673</td>\n      <td>-0.04772</td>\n      <td>-0.002571</td>\n      <td>-0.044136</td>\n      <td>-0.009782</td>\n      <td>2.396980</td>\n      <td>-0.005679</td>\n      <td>...</td>\n      <td>0.790749</td>\n      <td>-0.464418</td>\n      <td>-0.463202</td>\n      <td>-0.25204</td>\n      <td>-0.249464</td>\n      <td>0.947306</td>\n      <td>0.529504</td>\n      <td>0.977704</td>\n      <td>0.000000</td>\n      <td>0.000000</td>\n    </tr>\n    <tr>\n      <th>418638</th>\n      <td>-0.067792</td>\n      <td>-0.002535</td>\n      <td>-0.026287</td>\n      <td>-0.006673</td>\n      <td>-0.04772</td>\n      <td>-0.002571</td>\n      <td>-0.044136</td>\n      <td>-0.009782</td>\n      <td>-0.417192</td>\n      <td>-0.005679</td>\n      <td>...</td>\n      <td>-0.158629</td>\n      <td>-0.464418</td>\n      <td>-0.463202</td>\n      <td>-0.25204</td>\n      <td>-0.249464</td>\n      <td>0.971012</td>\n      <td>3.588875</td>\n      <td>0.000000</td>\n      <td>1.990835</td>\n      <td>1.146163</td>\n    </tr>\n  </tbody>\n</table>\n<p>5 rows × 43 columns</p>\n</div>"
     },
     "execution_count": 15,
     "metadata": {},
     "output_type": "execute_result"
    }
   ],
   "source": [
    "# 特徴量抽出し、マージする。\n",
    "x_train_encoded = pd.DataFrame(data=encoder.predict(x_train), index=x_train.index, columns=dos_columns)\n",
    "x_test_encoded = pd.DataFrame(data=encoder.predict(x_test), index=x_test.index, columns=dos_columns)\n",
    "x_train_encoded = x_train.merge(x_train_encoded, right_index=True, left_index=True)\n",
    "x_test_encoded = x_test.merge(x_test_encoded, right_index=True, left_index=True)\n",
    "x_train_encoded.head()"
   ],
   "metadata": {
    "collapsed": false,
    "ExecuteTime": {
     "end_time": "2023-07-31T14:39:54.626050700Z",
     "start_time": "2023-07-31T14:39:41.104733100Z"
    }
   },
   "id": "7a58b465211b4134"
  },
  {
   "cell_type": "markdown",
   "source": [
    "### optuna＋lightGBMを用いた学習\n",
    "- 元の特徴量のみを使う。\n",
    "- "
   ],
   "metadata": {
    "collapsed": false
   },
   "id": "a850b61acfb56afa"
  },
  {
   "cell_type": "code",
   "execution_count": 49,
   "outputs": [
    {
     "name": "stderr",
     "output_type": "stream",
     "text": [
      "[I 2023-08-01 08:18:54,825] A new study created in memory with name: no-name-7e363df8-0665-45a9-aed3-8880889c0848\n",
      "feature_fraction, val_score: inf:   0%|          | 0/7 [00:00<?, ?it/s]"
     ]
    },
    {
     "name": "stdout",
     "output_type": "stream",
     "text": [
      "[LightGBM] [Warning] min_data_in_leaf is set=1, min_child_samples=20 will be ignored. Current value: min_data_in_leaf=1\n"
     ]
    },
    {
     "name": "stderr",
     "output_type": "stream",
     "text": [
      "feature_fraction, val_score: 0.000480:  14%|#4        | 1/7 [00:03<00:21,  3.59s/it][I 2023-08-01 08:18:58,417] Trial 0 finished with value: 0.00048037124540021875 and parameters: {'feature_fraction': 0.7}. Best is trial 0 with value: 0.00048037124540021875.\n",
      "feature_fraction, val_score: 0.000396:  29%|##8       | 2/7 [00:06<00:16,  3.25s/it][I 2023-08-01 08:19:01,430] Trial 1 finished with value: 0.0003957775669649601 and parameters: {'feature_fraction': 1.0}. Best is trial 1 with value: 0.0003957775669649601.\n",
      "feature_fraction, val_score: 0.000396:  43%|####2     | 3/7 [00:09<00:13,  3.30s/it][I 2023-08-01 08:19:04,789] Trial 2 finished with value: 0.0003957775669649601 and parameters: {'feature_fraction': 0.5}. Best is trial 1 with value: 0.0003957775669649601.\n",
      "feature_fraction, val_score: 0.000396:  57%|#####7    | 4/7 [00:12<00:09,  3.18s/it][I 2023-08-01 08:19:07,780] Trial 3 finished with value: 0.0003957775669649601 and parameters: {'feature_fraction': 0.8}. Best is trial 1 with value: 0.0003957775669649601.\n",
      "feature_fraction, val_score: 0.000396:  71%|#######1  | 5/7 [00:16<00:06,  3.15s/it][I 2023-08-01 08:19:10,886] Trial 4 finished with value: 0.0003957775669649601 and parameters: {'feature_fraction': 0.6}. Best is trial 1 with value: 0.0003957775669649601.\n",
      "feature_fraction, val_score: 0.000396:  86%|########5 | 6/7 [00:19<00:03,  3.28s/it][I 2023-08-01 08:19:14,407] Trial 5 finished with value: 0.0003957775669649601 and parameters: {'feature_fraction': 0.4}. Best is trial 1 with value: 0.0003957775669649601.\n",
      "feature_fraction, val_score: 0.000384: 100%|##########| 7/7 [00:23<00:00,  3.35s/it][I 2023-08-01 08:19:17,899] Trial 6 finished with value: 0.00038369275575992316 and parameters: {'feature_fraction': 0.8999999999999999}. Best is trial 6 with value: 0.00038369275575992316.\n",
      "feature_fraction, val_score: 0.000384: 100%|##########| 7/7 [00:23<00:00,  3.30s/it]\n",
      "num_leaves, val_score: 0.000344:   5%|5         | 1/20 [00:04<01:26,  4.58s/it][I 2023-08-01 08:19:22,482] Trial 7 finished with value: 0.00034441711934355307 and parameters: {'num_leaves': 46}. Best is trial 7 with value: 0.00034441711934355307.\n",
      "num_leaves, val_score: 0.000344:  10%|#         | 2/20 [00:06<00:54,  3.05s/it][I 2023-08-01 08:19:24,457] Trial 8 finished with value: 0.00034441711934355307 and parameters: {'num_leaves': 3}. Best is trial 7 with value: 0.00034441711934355307.\n",
      "num_leaves, val_score: 0.000344:  15%|#5        | 3/20 [00:12<01:13,  4.30s/it][I 2023-08-01 08:19:30,248] Trial 9 finished with value: 0.00034441711934355307 and parameters: {'num_leaves': 174}. Best is trial 7 with value: 0.00034441711934355307.\n",
      "num_leaves, val_score: 0.000344:  20%|##        | 4/20 [00:15<01:03,  3.99s/it][I 2023-08-01 08:19:33,774] Trial 10 finished with value: 0.00034441711934355307 and parameters: {'num_leaves': 35}. Best is trial 7 with value: 0.00034441711934355307.\n",
      "num_leaves, val_score: 0.000344:  25%|##5       | 5/20 [00:18<00:52,  3.52s/it][I 2023-08-01 08:19:36,449] Trial 11 finished with value: 0.00034441711934355307 and parameters: {'num_leaves': 13}. Best is trial 7 with value: 0.00034441711934355307.\n",
      "num_leaves, val_score: 0.000335:  30%|###       | 6/20 [00:23<00:55,  3.95s/it][I 2023-08-01 08:19:41,227] Trial 12 finished with value: 0.00033535351093977534 and parameters: {'num_leaves': 69}. Best is trial 12 with value: 0.00033535351093977534.\n",
      "num_leaves, val_score: 0.000335:  35%|###5      | 7/20 [00:27<00:53,  4.15s/it][I 2023-08-01 08:19:45,802] Trial 13 finished with value: 0.00033535351093977534 and parameters: {'num_leaves': 94}. Best is trial 12 with value: 0.00033535351093977534.\n",
      "num_leaves, val_score: 0.000335:  40%|####      | 8/20 [00:33<00:53,  4.49s/it][I 2023-08-01 08:19:51,020] Trial 14 finished with value: 0.00033535351093977534 and parameters: {'num_leaves': 124}. Best is trial 12 with value: 0.00033535351093977534.\n",
      "num_leaves, val_score: 0.000335:  45%|####5     | 9/20 [00:38<00:51,  4.69s/it][I 2023-08-01 08:19:56,147] Trial 15 finished with value: 0.00033535351093977534 and parameters: {'num_leaves': 106}. Best is trial 12 with value: 0.00033535351093977534.\n",
      "num_leaves, val_score: 0.000335:  50%|#####     | 10/20 [00:45<00:54,  5.42s/it][I 2023-08-01 08:20:03,206] Trial 16 finished with value: 0.00033535351093977534 and parameters: {'num_leaves': 246}. Best is trial 12 with value: 0.00033535351093977534.\n",
      "num_leaves, val_score: 0.000335:  55%|#####5    | 11/20 [00:50<00:47,  5.24s/it][I 2023-08-01 08:20:08,046] Trial 17 finished with value: 0.00033535351093977534 and parameters: {'num_leaves': 83}. Best is trial 12 with value: 0.00033535351093977534.\n",
      "num_leaves, val_score: 0.000335:  60%|######    | 12/20 [00:56<00:43,  5.44s/it][I 2023-08-01 08:20:13,934] Trial 18 finished with value: 0.00033535351093977534 and parameters: {'num_leaves': 166}. Best is trial 12 with value: 0.00033535351093977534.\n",
      "num_leaves, val_score: 0.000335:  65%|######5   | 13/20 [01:00<00:35,  5.14s/it][I 2023-08-01 08:20:18,378] Trial 19 finished with value: 0.00033535351093977534 and parameters: {'num_leaves': 73}. Best is trial 12 with value: 0.00033535351093977534.\n",
      "num_leaves, val_score: 0.000335:  70%|#######   | 14/20 [01:06<00:32,  5.38s/it][I 2023-08-01 08:20:24,314] Trial 20 finished with value: 0.00033535351093977534 and parameters: {'num_leaves': 170}. Best is trial 12 with value: 0.00033535351093977534.\n",
      "num_leaves, val_score: 0.000335:  75%|#######5  | 15/20 [01:11<00:26,  5.33s/it][I 2023-08-01 08:20:29,537] Trial 21 finished with value: 0.00033535351093977534 and parameters: {'num_leaves': 131}. Best is trial 12 with value: 0.00033535351093977534.\n",
      "num_leaves, val_score: 0.000335:  80%|########  | 16/20 [01:17<00:21,  5.49s/it][I 2023-08-01 08:20:35,401] Trial 22 finished with value: 0.00033535351093977534 and parameters: {'num_leaves': 126}. Best is trial 12 with value: 0.00033535351093977534.\n",
      "num_leaves, val_score: 0.000335:  85%|########5 | 17/20 [01:21<00:15,  5.08s/it][I 2023-08-01 08:20:39,536] Trial 23 finished with value: 0.00033535351093977534 and parameters: {'num_leaves': 72}. Best is trial 12 with value: 0.00033535351093977534.\n",
      "num_leaves, val_score: 0.000335:  90%|######### | 18/20 [01:26<00:10,  5.06s/it][I 2023-08-01 08:20:44,534] Trial 24 finished with value: 0.00033535351093977534 and parameters: {'num_leaves': 107}. Best is trial 12 with value: 0.00033535351093977534.\n",
      "num_leaves, val_score: 0.000335:  95%|#########5| 19/20 [01:31<00:05,  5.13s/it][I 2023-08-01 08:20:49,845] Trial 25 finished with value: 0.00033535351093977534 and parameters: {'num_leaves': 144}. Best is trial 12 with value: 0.00033535351093977534.\n",
      "num_leaves, val_score: 0.000335: 100%|##########| 20/20 [01:36<00:00,  4.99s/it][I 2023-08-01 08:20:54,507] Trial 26 finished with value: 0.00033535351093977534 and parameters: {'num_leaves': 96}. Best is trial 12 with value: 0.00033535351093977534.\n",
      "num_leaves, val_score: 0.000335: 100%|##########| 20/20 [01:36<00:00,  4.83s/it]\n",
      "bagging, val_score: 0.000335:  10%|#         | 1/10 [00:04<00:40,  4.51s/it][I 2023-08-01 08:20:59,022] Trial 27 finished with value: 0.00033535351093977534 and parameters: {'bagging_fraction': 0.4585401548042136, 'bagging_freq': 1}. Best is trial 27 with value: 0.00033535351093977534.\n",
      "bagging, val_score: 0.000317:  20%|##        | 2/10 [00:09<00:39,  4.92s/it][I 2023-08-01 08:21:04,224] Trial 28 finished with value: 0.0003172262941322199 and parameters: {'bagging_fraction': 0.9554052830148927, 'bagging_freq': 7}. Best is trial 28 with value: 0.0003172262941322199.\n",
      "bagging, val_score: 0.000317:  30%|###       | 3/10 [00:14<00:34,  4.97s/it][I 2023-08-01 08:21:09,254] Trial 29 finished with value: 0.0003172262941322199 and parameters: {'bagging_fraction': 0.999709242883582, 'bagging_freq': 7}. Best is trial 28 with value: 0.0003172262941322199.\n",
      "bagging, val_score: 0.000317:  40%|####      | 4/10 [00:20<00:30,  5.16s/it][I 2023-08-01 08:21:14,715] Trial 30 finished with value: 0.0003172262941322199 and parameters: {'bagging_fraction': 0.9980780786219837, 'bagging_freq': 7}. Best is trial 28 with value: 0.0003172262941322199.\n",
      "bagging, val_score: 0.000317:  50%|#####     | 5/10 [00:25<00:26,  5.24s/it][I 2023-08-01 08:21:20,100] Trial 31 finished with value: 0.0003172262941322199 and parameters: {'bagging_fraction': 0.9958266470836534, 'bagging_freq': 7}. Best is trial 28 with value: 0.0003172262941322199.\n",
      "bagging, val_score: 0.000317:  60%|######    | 6/10 [00:31<00:21,  5.33s/it][I 2023-08-01 08:21:25,585] Trial 32 finished with value: 0.0003172262941322199 and parameters: {'bagging_fraction': 0.9969022047117319, 'bagging_freq': 7}. Best is trial 28 with value: 0.0003172262941322199.\n",
      "bagging, val_score: 0.000317:  70%|#######   | 7/10 [00:37<00:16,  5.58s/it][I 2023-08-01 08:21:31,691] Trial 33 finished with value: 0.0003172262941322199 and parameters: {'bagging_fraction': 0.99779583959691, 'bagging_freq': 7}. Best is trial 28 with value: 0.0003172262941322199.\n",
      "bagging, val_score: 0.000317:  80%|########  | 8/10 [00:43<00:11,  5.73s/it][I 2023-08-01 08:21:37,751] Trial 34 finished with value: 0.0003172262941322199 and parameters: {'bagging_fraction': 0.9896655000750688, 'bagging_freq': 7}. Best is trial 28 with value: 0.0003172262941322199.\n",
      "bagging, val_score: 0.000317:  90%|######### | 9/10 [00:48<00:05,  5.51s/it][I 2023-08-01 08:21:42,757] Trial 35 finished with value: 0.0003172262941322199 and parameters: {'bagging_fraction': 0.9993928365763378, 'bagging_freq': 7}. Best is trial 28 with value: 0.0003172262941322199.\n",
      "bagging, val_score: 0.000317: 100%|##########| 10/10 [00:53<00:00,  5.45s/it][I 2023-08-01 08:21:48,084] Trial 36 finished with value: 0.0003172262941322199 and parameters: {'bagging_fraction': 0.8802040177970587, 'bagging_freq': 5}. Best is trial 28 with value: 0.0003172262941322199.\n",
      "bagging, val_score: 0.000317: 100%|##########| 10/10 [00:53<00:00,  5.36s/it]\n",
      "feature_fraction_stage2, val_score: 0.000317:  17%|#6        | 1/6 [00:04<00:24,  4.95s/it][I 2023-08-01 08:21:53,037] Trial 37 finished with value: 0.0003172262941322199 and parameters: {'feature_fraction': 0.82}. Best is trial 37 with value: 0.0003172262941322199.\n",
      "feature_fraction_stage2, val_score: 0.000317:  33%|###3      | 2/6 [00:10<00:21,  5.45s/it][I 2023-08-01 08:21:58,834] Trial 38 finished with value: 0.0003172262941322199 and parameters: {'feature_fraction': 0.948}. Best is trial 37 with value: 0.0003172262941322199.\n",
      "feature_fraction_stage2, val_score: 0.000317:  50%|#####     | 3/6 [00:16<00:16,  5.44s/it][I 2023-08-01 08:22:04,267] Trial 39 finished with value: 0.0003172262941322199 and parameters: {'feature_fraction': 0.8839999999999999}. Best is trial 37 with value: 0.0003172262941322199.\n",
      "feature_fraction_stage2, val_score: 0.000302:  67%|######6   | 4/6 [00:22<00:11,  5.79s/it][I 2023-08-01 08:22:10,587] Trial 40 finished with value: 0.0003021202801259237 and parameters: {'feature_fraction': 0.9799999999999999}. Best is trial 40 with value: 0.0003021202801259237.\n",
      "feature_fraction_stage2, val_score: 0.000302:  83%|########3 | 5/6 [00:28<00:05,  5.94s/it][I 2023-08-01 08:22:16,790] Trial 41 finished with value: 0.0003021202801259237 and parameters: {'feature_fraction': 0.852}. Best is trial 40 with value: 0.0003021202801259237.\n",
      "feature_fraction_stage2, val_score: 0.000302: 100%|##########| 6/6 [00:34<00:00,  5.75s/it][I 2023-08-01 08:22:22,184] Trial 42 finished with value: 0.0003021202801259237 and parameters: {'feature_fraction': 0.9159999999999999}. Best is trial 40 with value: 0.0003021202801259237.\n",
      "feature_fraction_stage2, val_score: 0.000302: 100%|##########| 6/6 [00:34<00:00,  5.68s/it]\n",
      "regularization_factors, val_score: 0.000266:   5%|5         | 1/20 [00:05<01:41,  5.36s/it][I 2023-08-01 08:22:27,547] Trial 43 finished with value: 0.0002658658465108129 and parameters: {'lambda_l1': 0.0017153631585965171, 'lambda_l2': 0.0007049010587477967}. Best is trial 43 with value: 0.0002658658465108129.\n",
      "regularization_factors, val_score: 0.000266:  10%|#         | 2/20 [00:10<01:30,  5.03s/it][I 2023-08-01 08:22:32,345] Trial 44 finished with value: 0.0002658658465108129 and parameters: {'lambda_l1': 0.0012495645337746864, 'lambda_l2': 0.0008929895981662815}. Best is trial 43 with value: 0.0002658658465108129.\n",
      "regularization_factors, val_score: 0.000266:  15%|#5        | 3/20 [00:15<01:31,  5.39s/it][I 2023-08-01 08:22:38,164] Trial 45 finished with value: 0.0002658658465108129 and parameters: {'lambda_l1': 0.0014092269903794928, 'lambda_l2': 0.001500907770653825}. Best is trial 43 with value: 0.0002658658465108129.\n",
      "regularization_factors, val_score: 0.000266:  20%|##        | 4/20 [00:21<01:25,  5.35s/it][I 2023-08-01 08:22:43,456] Trial 46 finished with value: 0.0002658658465108129 and parameters: {'lambda_l1': 0.0016034690889066999, 'lambda_l2': 0.0009867077833670666}. Best is trial 43 with value: 0.0002658658465108129.\n",
      "regularization_factors, val_score: 0.000190:  25%|##5       | 5/20 [00:26<01:20,  5.39s/it][I 2023-08-01 08:22:48,915] Trial 47 finished with value: 0.00019033577647933195 and parameters: {'lambda_l1': 0.0024693818501721307, 'lambda_l2': 0.0006688073497728086}. Best is trial 47 with value: 0.00019033577647933195.\n",
      "regularization_factors, val_score: 0.000190:  30%|###       | 6/20 [00:31<01:12,  5.15s/it][I 2023-08-01 08:22:53,602] Trial 48 finished with value: 0.00019033577647933195 and parameters: {'lambda_l1': 0.0014389308076160625, 'lambda_l2': 0.0006115103412891575}. Best is trial 47 with value: 0.00019033577647933195.\n",
      "regularization_factors, val_score: 0.000190:  35%|###5      | 7/20 [00:36<01:05,  5.03s/it][I 2023-08-01 08:22:58,387] Trial 49 finished with value: 0.00019033577647933195 and parameters: {'lambda_l1': 0.0014640436110442202, 'lambda_l2': 0.0008253360047137308}. Best is trial 47 with value: 0.00019033577647933195.\n",
      "regularization_factors, val_score: 0.000190:  40%|####      | 8/20 [00:41<01:00,  5.00s/it][I 2023-08-01 08:23:03,331] Trial 50 finished with value: 0.00019033577647933195 and parameters: {'lambda_l1': 0.001429990744801132, 'lambda_l2': 0.00071442694582967}. Best is trial 47 with value: 0.00019033577647933195.\n",
      "regularization_factors, val_score: 0.000190:  45%|####5     | 9/20 [00:45<00:53,  4.88s/it][I 2023-08-01 08:23:07,954] Trial 51 finished with value: 0.00019033577647933195 and parameters: {'lambda_l1': 0.0020109975972534312, 'lambda_l2': 0.0007674877665924195}. Best is trial 47 with value: 0.00019033577647933195.\n",
      "regularization_factors, val_score: 0.000190:  50%|#####     | 10/20 [00:50<00:48,  4.82s/it][I 2023-08-01 08:23:12,620] Trial 52 finished with value: 0.00019033577647933195 and parameters: {'lambda_l1': 0.0018882691320564545, 'lambda_l2': 0.0005550344959576798}. Best is trial 47 with value: 0.00019033577647933195.\n",
      "regularization_factors, val_score: 0.000190:  55%|#####5    | 11/20 [00:55<00:43,  4.79s/it][I 2023-08-01 08:23:17,365] Trial 53 finished with value: 0.00019033577647933195 and parameters: {'lambda_l1': 0.0019382643557789778, 'lambda_l2': 0.00047939452447043286}. Best is trial 47 with value: 0.00019033577647933195.\n",
      "regularization_factors, val_score: 0.000190:  60%|######    | 12/20 [00:59<00:37,  4.74s/it][I 2023-08-01 08:23:21,983] Trial 54 finished with value: 0.00019033577647933195 and parameters: {'lambda_l1': 0.0022818735849753167, 'lambda_l2': 0.000433179306545471}. Best is trial 47 with value: 0.00019033577647933195.\n",
      "regularization_factors, val_score: 0.000190:  65%|######5   | 13/20 [01:04<00:34,  4.88s/it][I 2023-08-01 08:23:27,186] Trial 55 finished with value: 0.00019033577647933195 and parameters: {'lambda_l1': 0.08687765258811755, 'lambda_l2': 4.7168356852020244e-05}. Best is trial 47 with value: 0.00019033577647933195.\n",
      "regularization_factors, val_score: 0.000000:  70%|#######   | 14/20 [01:10<00:29,  4.94s/it][I 2023-08-01 08:23:32,262] Trial 56 finished with value: 0.0 and parameters: {'lambda_l1': 8.236356257390715e-05, 'lambda_l2': 0.08105453758970475}. Best is trial 56 with value: 0.0.\n",
      "regularization_factors, val_score: 0.000000:  75%|#######5  | 15/20 [01:14<00:24,  4.93s/it][I 2023-08-01 08:23:37,167] Trial 57 finished with value: 0.0 and parameters: {'lambda_l1': 6.118919915728904e-07, 'lambda_l2': 0.17099754188449212}. Best is trial 56 with value: 0.0.\n",
      "regularization_factors, val_score: 0.000000:  80%|########  | 16/20 [01:19<00:19,  4.90s/it][I 2023-08-01 08:23:41,989] Trial 58 finished with value: 0.0 and parameters: {'lambda_l1': 1.2699564030462108e-06, 'lambda_l2': 0.1365025419445442}. Best is trial 56 with value: 0.0.\n",
      "regularization_factors, val_score: 0.000000:  85%|########5 | 17/20 [01:24<00:14,  4.88s/it][I 2023-08-01 08:23:46,836] Trial 59 finished with value: 0.0 and parameters: {'lambda_l1': 6.405954213050851e-07, 'lambda_l2': 0.11425734529750481}. Best is trial 56 with value: 0.0.\n",
      "regularization_factors, val_score: 0.000000:  90%|######### | 18/20 [01:29<00:09,  4.88s/it][I 2023-08-01 08:23:51,711] Trial 60 finished with value: 0.0 and parameters: {'lambda_l1': 6.631104626554583e-07, 'lambda_l2': 0.13283928752459706}. Best is trial 56 with value: 0.0.\n",
      "regularization_factors, val_score: 0.000000:  95%|#########5| 19/20 [01:34<00:04,  4.88s/it][I 2023-08-01 08:23:56,577] Trial 61 finished with value: 0.0 and parameters: {'lambda_l1': 5.88539739332812e-07, 'lambda_l2': 0.13235701026948596}. Best is trial 56 with value: 0.0.\n",
      "regularization_factors, val_score: 0.000000: 100%|##########| 20/20 [01:39<00:00,  4.91s/it][I 2023-08-01 08:24:01,568] Trial 62 finished with value: 0.0 and parameters: {'lambda_l1': 4.999228783829156e-07, 'lambda_l2': 0.13893050572239932}. Best is trial 56 with value: 0.0.\n",
      "regularization_factors, val_score: 0.000000: 100%|##########| 20/20 [01:39<00:00,  4.97s/it]\n",
      "min_data_in_leaf, val_score: 0.000000:  20%|##        | 1/5 [00:04<00:19,  4.87s/it][I 2023-08-01 08:24:06,441] Trial 63 finished with value: 0.0 and parameters: {'min_child_samples': 100}. Best is trial 63 with value: 0.0.\n",
      "min_data_in_leaf, val_score: 0.000000:  40%|####      | 2/5 [00:09<00:14,  4.90s/it][I 2023-08-01 08:24:11,359] Trial 64 finished with value: 0.0 and parameters: {'min_child_samples': 50}. Best is trial 63 with value: 0.0.\n",
      "min_data_in_leaf, val_score: 0.000000:  60%|######    | 3/5 [00:14<00:09,  4.86s/it][I 2023-08-01 08:24:16,168] Trial 65 finished with value: 0.0 and parameters: {'min_child_samples': 10}. Best is trial 63 with value: 0.0.\n",
      "min_data_in_leaf, val_score: 0.000000:  80%|########  | 4/5 [00:19<00:04,  4.87s/it][I 2023-08-01 08:24:21,056] Trial 66 finished with value: 0.0 and parameters: {'min_child_samples': 5}. Best is trial 63 with value: 0.0.\n",
      "min_data_in_leaf, val_score: 0.000000: 100%|##########| 5/5 [00:24<00:00,  4.85s/it][I 2023-08-01 08:24:25,863] Trial 67 finished with value: 0.0 and parameters: {'min_child_samples': 25}. Best is trial 63 with value: 0.0.\n",
      "min_data_in_leaf, val_score: 0.000000: 100%|##########| 5/5 [00:24<00:00,  4.86s/it]\n"
     ]
    }
   ],
   "source": [
    "import optuna.integration.lightgbm as lgb\n",
    "lgb_train = lgb.Dataset(x_train, y_train)\n",
    "lgb_eval = lgb.Dataset(x_test, y_test, reference=lgb_train)\n",
    "# LightGBM parameters\n",
    "params = {\n",
    "        'task': 'train',\n",
    "        'boosting_type': 'gbdt',\n",
    "        'objective': 'multiclass',\n",
    "        'num_class': 5,\n",
    "        'metric': 'multi_error', # 評価指標 : 誤り率(= 1-正答率)  another multi_logloss\n",
    "        'learning_rate': 0.1,\n",
    "        'num_leaves': 23,\n",
    "        'min_data_in_leaf': 1,\n",
    "        'verbose': -1,\n",
    "        'random_state': RANDOM_SEED, \n",
    "}\n",
    "\n",
    "# モデルの学習\n",
    "model = lgb.train(params, # パラメータ\n",
    "                  lgb_train, # トレーニングデータの指定\n",
    "                  valid_sets=[lgb_train], # 検証データの指定\n",
    "                  callbacks=[lgb.early_stopping(50, verbose=False)],\n",
    "               )\n"
   ],
   "metadata": {
    "collapsed": false,
    "ExecuteTime": {
     "end_time": "2023-07-31T23:24:25.886015700Z",
     "start_time": "2023-07-31T23:18:54.824940Z"
    }
   },
   "id": "f627893ef828e629"
  },
  {
   "cell_type": "code",
   "execution_count": 52,
   "outputs": [
    {
     "data": {
      "text/plain": "0    129187\n1     32118\n2      1339\n3       371\n4        12\ndtype: int64"
     },
     "execution_count": 52,
     "metadata": {},
     "output_type": "execute_result"
    }
   ],
   "source": [
    "y_pred_prob = model.predict(x_test)\n",
    "# テストデータの予測 (予測クラス(0 or 1 or...)を返す)\n",
    "y_pred = np.argmax(y_pred_prob, axis=1) # 一番大きい予測確率のクラスを予測クラスに\n",
    "y_pred = pd.Series(y_pred)\n",
    "y_pred.value_counts()"
   ],
   "metadata": {
    "collapsed": false,
    "ExecuteTime": {
     "end_time": "2023-08-01T00:25:10.525171600Z",
     "start_time": "2023-08-01T00:25:10.337300100Z"
    }
   },
   "id": "a7e2bd2e0ebffe0a"
  },
  {
   "cell_type": "code",
   "execution_count": 53,
   "outputs": [
    {
     "name": "stdout",
     "output_type": "stream",
     "text": [
      "              precision    recall  f1-score   support\n",
      "\n",
      "         dos       1.00      1.00      1.00    129181\n",
      "      normal       1.00      1.00      1.00     32102\n",
      "       probe       1.00      0.99      0.99      1355\n",
      "         r2l       0.96      0.96      0.96       372\n",
      "         u2r       0.75      0.53      0.62        17\n",
      "\n",
      "    accuracy                           1.00    163027\n",
      "   macro avg       0.94      0.90      0.92    163027\n",
      "weighted avg       1.00      1.00      1.00    163027\n"
     ]
    }
   ],
   "source": [
    "print(classification_report(y_test, y_pred, target_names=correspondences.keys()))"
   ],
   "metadata": {
    "collapsed": false,
    "ExecuteTime": {
     "end_time": "2023-08-01T00:25:13.160591400Z",
     "start_time": "2023-08-01T00:25:13.003990800Z"
    }
   },
   "id": "8df2499b5a54cca4"
  },
  {
   "cell_type": "code",
   "execution_count": 54,
   "outputs": [
    {
     "data": {
      "text/plain": "{'task': 'train',\n 'boosting_type': 'gbdt',\n 'objective': 'multiclass',\n 'num_class': 5,\n 'metric': 'multi_error',\n 'learning_rate': 0.1,\n 'num_leaves': 69,\n 'min_data_in_leaf': 1,\n 'verbose': -1,\n 'random_state': 2018,\n 'feature_pre_filter': False,\n 'lambda_l1': 8.236356257390715e-05,\n 'lambda_l2': 0.08105453758970475,\n 'feature_fraction': 0.9799999999999999,\n 'bagging_fraction': 0.9554052830148927,\n 'bagging_freq': 7,\n 'min_child_samples': 20,\n 'num_iterations': 1000,\n 'early_stopping_round': None}"
     },
     "execution_count": 54,
     "metadata": {},
     "output_type": "execute_result"
    }
   ],
   "source": [
    "# \n",
    "model.params"
   ],
   "metadata": {
    "collapsed": false,
    "ExecuteTime": {
     "end_time": "2023-08-01T00:25:35.926642600Z",
     "start_time": "2023-08-01T00:25:35.922638600Z"
    }
   },
   "id": "b9657c540f005b38"
  },
  {
   "cell_type": "code",
   "execution_count": 55,
   "outputs": [
    {
     "name": "stdout",
     "output_type": "stream",
     "text": [
      "dos    TP: 129176, TN: 33835, FP: 11, FN: 5\n",
      "normal    TP: 32084, TN: 130891, FP: 34, FN: 18\n",
      "probe    TP: 1339, TN: 161672, FP: 0, FN: 16\n",
      "r2l    TP: 358, TN: 162642, FP: 13, FN: 14\n",
      "u2r    TP: 9, TN: 163007, FP: 3, FN: 8\n"
     ]
    }
   ],
   "source": [
    "for key, confusion_matrix in zip(correspondences.keys(), multilabel_confusion_matrix(y_test, y_pred)):\n",
    "    print(f\"{key}    TP: {confusion_matrix[1][1]}, TN: {confusion_matrix[0][0]}, FP: {confusion_matrix[0][1]}, FN: {confusion_matrix[1][0]}\")"
   ],
   "metadata": {
    "collapsed": false,
    "ExecuteTime": {
     "end_time": "2023-08-01T00:25:41.450227900Z",
     "start_time": "2023-08-01T00:25:41.398315600Z"
    }
   },
   "id": "c701e7a4f38bdb84"
  },
  {
   "cell_type": "code",
   "execution_count": 56,
   "outputs": [],
   "source": [
    "lgb_train_encoded = lgb.Dataset(x_train_encoded, y_train)\n",
    "lgb_eval_encoded = lgb.Dataset(x_test_encoded, y_test, reference=lgb_train_encoded)"
   ],
   "metadata": {
    "collapsed": false,
    "ExecuteTime": {
     "end_time": "2023-08-01T00:25:43.303800Z",
     "start_time": "2023-08-01T00:25:43.276803600Z"
    }
   },
   "id": "438b52f96e94929c"
  },
  {
   "cell_type": "code",
   "execution_count": 57,
   "outputs": [
    {
     "name": "stderr",
     "output_type": "stream",
     "text": [
      "[I 2023-08-01 09:25:44,649] A new study created in memory with name: no-name-47a7342f-080f-4ab2-b674-a645e65eee27\n",
      "feature_fraction, val_score: inf:   0%|          | 0/7 [00:00<?, ?it/s]"
     ]
    },
    {
     "name": "stdout",
     "output_type": "stream",
     "text": [
      "[LightGBM] [Warning] min_data_in_leaf is set=1, min_child_samples=20 will be ignored. Current value: min_data_in_leaf=1\n"
     ]
    },
    {
     "name": "stderr",
     "output_type": "stream",
     "text": [
      "feature_fraction, val_score: 0.000447:  14%|#4        | 1/7 [00:06<00:41,  6.86s/it][I 2023-08-01 09:25:51,514] Trial 0 finished with value: 0.00044713801458636714 and parameters: {'feature_fraction': 0.4}. Best is trial 0 with value: 0.00044713801458636714.\n",
      "feature_fraction, val_score: 0.000447:  29%|##8       | 2/7 [00:11<00:27,  5.57s/it][I 2023-08-01 09:25:56,176] Trial 1 finished with value: 0.00044713801458636714 and parameters: {'feature_fraction': 0.8}. Best is trial 0 with value: 0.00044713801458636714.\n",
      "feature_fraction, val_score: 0.000447:  43%|####2     | 3/7 [00:16<00:21,  5.32s/it][I 2023-08-01 09:26:01,203] Trial 2 finished with value: 0.00044713801458636714 and parameters: {'feature_fraction': 0.8999999999999999}. Best is trial 0 with value: 0.00044713801458636714.\n",
      "feature_fraction, val_score: 0.000287:  57%|#####7    | 4/7 [00:19<00:13,  4.53s/it][I 2023-08-01 09:26:04,529] Trial 3 finished with value: 0.00028701426611962757 and parameters: {'feature_fraction': 1.0}. Best is trial 3 with value: 0.00028701426611962757.\n",
      "feature_fraction, val_score: 0.000287:  71%|#######1  | 5/7 [00:23<00:08,  4.03s/it][I 2023-08-01 09:26:07,663] Trial 4 finished with value: 0.00028701426611962757 and parameters: {'feature_fraction': 0.7}. Best is trial 3 with value: 0.00028701426611962757.\n",
      "feature_fraction, val_score: 0.000287:  86%|########5 | 6/7 [00:26<00:03,  3.73s/it][I 2023-08-01 09:26:10,799] Trial 5 finished with value: 0.00028701426611962757 and parameters: {'feature_fraction': 0.6}. Best is trial 3 with value: 0.00028701426611962757.\n",
      "feature_fraction, val_score: 0.000287: 100%|##########| 7/7 [00:29<00:00,  3.61s/it][I 2023-08-01 09:26:14,170] Trial 6 finished with value: 0.00028701426611962757 and parameters: {'feature_fraction': 0.5}. Best is trial 3 with value: 0.00028701426611962757.\n",
      "feature_fraction, val_score: 0.000287: 100%|##########| 7/7 [00:29<00:00,  4.22s/it]\n",
      "num_leaves, val_score: 0.000287:   5%|5         | 1/20 [00:03<01:00,  3.19s/it][I 2023-08-01 09:26:17,362] Trial 7 finished with value: 0.00028701426611962757 and parameters: {'num_leaves': 25}. Best is trial 7 with value: 0.00028701426611962757.\n",
      "num_leaves, val_score: 0.000221:  10%|#         | 2/20 [00:09<01:26,  4.80s/it][I 2023-08-01 09:26:23,288] Trial 8 finished with value: 0.00022054780449192433 and parameters: {'num_leaves': 143}. Best is trial 8 with value: 0.00022054780449192433.\n",
      "num_leaves, val_score: 0.000221:  15%|#5        | 3/20 [00:13<01:16,  4.52s/it][I 2023-08-01 09:26:27,473] Trial 9 finished with value: 0.00022054780449192433 and parameters: {'num_leaves': 61}. Best is trial 8 with value: 0.00022054780449192433.\n",
      "num_leaves, val_score: 0.000218:  20%|##        | 4/20 [00:20<01:28,  5.53s/it][I 2023-08-01 09:26:34,564] Trial 10 finished with value: 0.0002175266016906651 and parameters: {'num_leaves': 226}. Best is trial 10 with value: 0.0002175266016906651.\n",
      "num_leaves, val_score: 0.000218:  25%|##5       | 5/20 [00:27<01:31,  6.12s/it][I 2023-08-01 09:26:41,716] Trial 11 finished with value: 0.0002175266016906651 and parameters: {'num_leaves': 238}. Best is trial 10 with value: 0.0002175266016906651.\n",
      "num_leaves, val_score: 0.000218:  30%|###       | 6/20 [00:34<01:30,  6.50s/it][I 2023-08-01 09:26:48,951] Trial 12 finished with value: 0.0002175266016906651 and parameters: {'num_leaves': 239}. Best is trial 10 with value: 0.0002175266016906651.\n",
      "num_leaves, val_score: 0.000218:  35%|###5      | 7/20 [00:42<01:28,  6.85s/it][I 2023-08-01 09:26:56,514] Trial 13 finished with value: 0.0002175266016906651 and parameters: {'num_leaves': 254}. Best is trial 10 with value: 0.0002175266016906651.\n",
      "num_leaves, val_score: 0.000218:  40%|####      | 8/20 [00:48<01:20,  6.73s/it][I 2023-08-01 09:27:03,009] Trial 14 finished with value: 0.0002175266016906651 and parameters: {'num_leaves': 182}. Best is trial 10 with value: 0.0002175266016906651.\n",
      "num_leaves, val_score: 0.000218:  45%|####5     | 9/20 [00:55<01:13,  6.70s/it][I 2023-08-01 09:27:09,641] Trial 15 finished with value: 0.0002175266016906651 and parameters: {'num_leaves': 201}. Best is trial 10 with value: 0.0002175266016906651.\n",
      "num_leaves, val_score: 0.000218:  50%|#####     | 10/20 [01:01<01:06,  6.63s/it][I 2023-08-01 09:27:16,113] Trial 16 finished with value: 0.0002175266016906651 and parameters: {'num_leaves': 198}. Best is trial 10 with value: 0.0002175266016906651.\n",
      "num_leaves, val_score: 0.000178:  55%|#####5    | 11/20 [01:07<00:56,  6.26s/it][I 2023-08-01 09:27:21,528] Trial 17 finished with value: 0.000178250965274295 and parameters: {'num_leaves': 116}. Best is trial 17 with value: 0.000178250965274295.\n",
      "num_leaves, val_score: 0.000178:  60%|######    | 12/20 [01:12<00:47,  5.89s/it][I 2023-08-01 09:27:26,560] Trial 18 finished with value: 0.000178250965274295 and parameters: {'num_leaves': 95}. Best is trial 17 with value: 0.000178250965274295.\n",
      "num_leaves, val_score: 0.000178:  65%|######5   | 13/20 [01:17<00:39,  5.60s/it][I 2023-08-01 09:27:31,508] Trial 19 finished with value: 0.000178250965274295 and parameters: {'num_leaves': 93}. Best is trial 17 with value: 0.000178250965274295.\n",
      "num_leaves, val_score: 0.000178:  70%|#######   | 14/20 [01:22<00:33,  5.60s/it][I 2023-08-01 09:27:37,105] Trial 20 finished with value: 0.000178250965274295 and parameters: {'num_leaves': 123}. Best is trial 17 with value: 0.000178250965274295.\n",
      "num_leaves, val_score: 0.000178:  75%|#######5  | 15/20 [01:27<00:26,  5.40s/it][I 2023-08-01 09:27:42,027] Trial 21 finished with value: 0.000178250965274295 and parameters: {'num_leaves': 93}. Best is trial 17 with value: 0.000178250965274295.\n",
      "num_leaves, val_score: 0.000178:  80%|########  | 16/20 [01:32<00:21,  5.28s/it][I 2023-08-01 09:27:47,024] Trial 22 finished with value: 0.000178250965274295 and parameters: {'num_leaves': 88}. Best is trial 17 with value: 0.000178250965274295.\n",
      "num_leaves, val_score: 0.000178:  85%|########5 | 17/20 [01:38<00:16,  5.35s/it][I 2023-08-01 09:27:52,543] Trial 23 finished with value: 0.000178250965274295 and parameters: {'num_leaves': 123}. Best is trial 17 with value: 0.000178250965274295.\n",
      "num_leaves, val_score: 0.000178:  90%|######### | 18/20 [01:42<00:10,  5.03s/it][I 2023-08-01 09:27:56,826] Trial 24 finished with value: 0.000178250965274295 and parameters: {'num_leaves': 64}. Best is trial 17 with value: 0.000178250965274295.\n",
      "num_leaves, val_score: 0.000178:  95%|#########5| 19/20 [01:48<00:05,  5.29s/it][I 2023-08-01 09:28:02,717] Trial 25 finished with value: 0.000178250965274295 and parameters: {'num_leaves': 151}. Best is trial 17 with value: 0.000178250965274295.\n",
      "num_leaves, val_score: 0.000175: 100%|##########| 20/20 [01:53<00:00,  5.21s/it][I 2023-08-01 09:28:07,738] Trial 26 finished with value: 0.00017522976247303577 and parameters: {'num_leaves': 91}. Best is trial 26 with value: 0.00017522976247303577.\n",
      "num_leaves, val_score: 0.000175: 100%|##########| 20/20 [01:53<00:00,  5.68s/it]\n",
      "bagging, val_score: 0.000175:  10%|#         | 1/10 [00:05<00:51,  5.75s/it][I 2023-08-01 09:28:13,493] Trial 27 finished with value: 0.00017522976247303577 and parameters: {'bagging_fraction': 0.8040076281070043, 'bagging_freq': 6}. Best is trial 27 with value: 0.00017522976247303577.\n",
      "bagging, val_score: 0.000175:  20%|##        | 2/10 [00:11<00:47,  5.99s/it][I 2023-08-01 09:28:19,645] Trial 28 finished with value: 0.00017522976247303577 and parameters: {'bagging_fraction': 0.8099199727780365, 'bagging_freq': 6}. Best is trial 27 with value: 0.00017522976247303577.\n",
      "bagging, val_score: 0.000175:  30%|###       | 3/10 [00:17<00:41,  5.98s/it][I 2023-08-01 09:28:25,607] Trial 29 finished with value: 0.00017522976247303577 and parameters: {'bagging_fraction': 0.8449796079792798, 'bagging_freq': 6}. Best is trial 27 with value: 0.00017522976247303577.\n",
      "bagging, val_score: 0.000175:  40%|####      | 4/10 [00:23<00:35,  5.87s/it][I 2023-08-01 09:28:31,312] Trial 30 finished with value: 0.00017522976247303577 and parameters: {'bagging_fraction': 0.7917607928171945, 'bagging_freq': 6}. Best is trial 27 with value: 0.00017522976247303577.\n",
      "bagging, val_score: 0.000175:  50%|#####     | 5/10 [00:29<00:29,  5.83s/it][I 2023-08-01 09:28:37,061] Trial 31 finished with value: 0.00017522976247303577 and parameters: {'bagging_fraction': 0.838171709967767, 'bagging_freq': 6}. Best is trial 27 with value: 0.00017522976247303577.\n",
      "bagging, val_score: 0.000175:  60%|######    | 6/10 [00:34<00:23,  5.77s/it][I 2023-08-01 09:28:42,731] Trial 32 finished with value: 0.00017522976247303577 and parameters: {'bagging_fraction': 0.8515012292736673, 'bagging_freq': 6}. Best is trial 27 with value: 0.00017522976247303577.\n",
      "bagging, val_score: 0.000175:  70%|#######   | 7/10 [00:40<00:17,  5.71s/it][I 2023-08-01 09:28:48,320] Trial 33 finished with value: 0.00017522976247303577 and parameters: {'bagging_fraction': 0.6880329784728909, 'bagging_freq': 6}. Best is trial 27 with value: 0.00017522976247303577.\n",
      "bagging, val_score: 0.000175:  80%|########  | 8/10 [00:46<00:11,  5.90s/it][I 2023-08-01 09:28:54,615] Trial 34 finished with value: 0.00017522976247303577 and parameters: {'bagging_fraction': 0.9896960326365328, 'bagging_freq': 3}. Best is trial 27 with value: 0.00017522976247303577.\n",
      "bagging, val_score: 0.000175:  90%|######### | 9/10 [00:52<00:05,  5.67s/it][I 2023-08-01 09:28:59,784] Trial 35 finished with value: 0.00017522976247303577 and parameters: {'bagging_fraction': 0.42887719987463185, 'bagging_freq': 7}. Best is trial 27 with value: 0.00017522976247303577.\n",
      "bagging, val_score: 0.000175: 100%|##########| 10/10 [00:57<00:00,  5.67s/it][I 2023-08-01 09:29:05,470] Trial 36 finished with value: 0.00017522976247303577 and parameters: {'bagging_fraction': 0.7657537823216176, 'bagging_freq': 4}. Best is trial 27 with value: 0.00017522976247303577.\n",
      "bagging, val_score: 0.000175: 100%|##########| 10/10 [00:57<00:00,  5.77s/it]\n",
      "feature_fraction_stage2, val_score: 0.000175:  33%|###3      | 1/3 [00:05<00:10,  5.04s/it][I 2023-08-01 09:29:10,517] Trial 37 finished with value: 0.00017522976247303577 and parameters: {'feature_fraction': 0.9840000000000001}. Best is trial 37 with value: 0.00017522976247303577.\n",
      "feature_fraction_stage2, val_score: 0.000175:  67%|######6   | 2/3 [00:09<00:04,  4.95s/it][I 2023-08-01 09:29:15,412] Trial 38 finished with value: 0.00017522976247303577 and parameters: {'feature_fraction': 0.92}. Best is trial 37 with value: 0.00017522976247303577.\n",
      "feature_fraction_stage2, val_score: 0.000157: 100%|##########| 3/3 [00:14<00:00,  4.95s/it][I 2023-08-01 09:29:20,363] Trial 39 finished with value: 0.00015710254566548033 and parameters: {'feature_fraction': 0.9520000000000001}. Best is trial 39 with value: 0.00015710254566548033.\n",
      "feature_fraction_stage2, val_score: 0.000157: 100%|##########| 3/3 [00:14<00:00,  4.96s/it]\n",
      "regularization_factors, val_score: 0.000157:   5%|5         | 1/20 [00:04<01:26,  4.53s/it][I 2023-08-01 09:29:24,896] Trial 40 finished with value: 0.00015710254566548033 and parameters: {'lambda_l1': 0.0001236019155978646, 'lambda_l2': 7.606965026955853e-05}. Best is trial 40 with value: 0.00015710254566548033.\n",
      "regularization_factors, val_score: 0.000157:  10%|#         | 2/20 [00:09<01:22,  4.61s/it][I 2023-08-01 09:29:29,561] Trial 41 finished with value: 0.00015710254566548033 and parameters: {'lambda_l1': 0.00012217835534717586, 'lambda_l2': 8.390928301894732e-05}. Best is trial 40 with value: 0.00015710254566548033.\n",
      "regularization_factors, val_score: 0.000157:  15%|#5        | 3/20 [00:13<01:16,  4.53s/it][I 2023-08-01 09:29:33,995] Trial 42 finished with value: 0.00015710254566548033 and parameters: {'lambda_l1': 0.0001305182555690668, 'lambda_l2': 4.579062324026135e-05}. Best is trial 40 with value: 0.00015710254566548033.\n",
      "regularization_factors, val_score: 0.000157:  20%|##        | 4/20 [00:18<01:12,  4.56s/it][I 2023-08-01 09:29:38,600] Trial 43 finished with value: 0.00015710254566548033 and parameters: {'lambda_l1': 0.00010723920336808787, 'lambda_l2': 6.970971532929593e-05}. Best is trial 40 with value: 0.00015710254566548033.\n",
      "regularization_factors, val_score: 0.000157:  25%|##5       | 5/20 [00:22<01:08,  4.58s/it][I 2023-08-01 09:29:43,228] Trial 44 finished with value: 0.00015710254566548033 and parameters: {'lambda_l1': 0.00011035054458952484, 'lambda_l2': 6.029771923625803e-05}. Best is trial 40 with value: 0.00015710254566548033.\n",
      "regularization_factors, val_score: 0.000157:  30%|###       | 6/20 [00:27<01:03,  4.52s/it][I 2023-08-01 09:29:47,626] Trial 45 finished with value: 0.00015710254566548033 and parameters: {'lambda_l1': 0.00012011532560404131, 'lambda_l2': 6.993100004065726e-05}. Best is trial 40 with value: 0.00015710254566548033.\n",
      "regularization_factors, val_score: 0.000157:  35%|###5      | 7/20 [00:31<00:58,  4.52s/it][I 2023-08-01 09:29:52,159] Trial 46 finished with value: 0.00015710254566548033 and parameters: {'lambda_l1': 0.00012008591344396339, 'lambda_l2': 7.423519537448254e-05}. Best is trial 40 with value: 0.00015710254566548033.\n",
      "regularization_factors, val_score: 0.000157:  40%|####      | 8/20 [00:36<00:54,  4.56s/it][I 2023-08-01 09:29:56,785] Trial 47 finished with value: 0.00015710254566548033 and parameters: {'lambda_l1': 0.0001319137417956489, 'lambda_l2': 7.007552223090004e-05}. Best is trial 40 with value: 0.00015710254566548033.\n",
      "regularization_factors, val_score: 0.000157:  45%|####5     | 9/20 [00:40<00:49,  4.52s/it][I 2023-08-01 09:30:01,218] Trial 48 finished with value: 0.00015710254566548033 and parameters: {'lambda_l1': 0.00701265300365592, 'lambda_l2': 5.436830092269991e-07}. Best is trial 40 with value: 0.00015710254566548033.\n",
      "regularization_factors, val_score: 0.000000:  50%|#####     | 10/20 [00:44<00:42,  4.23s/it][I 2023-08-01 09:30:04,788] Trial 49 finished with value: 0.0 and parameters: {'lambda_l1': 4.278332719939832e-07, 'lambda_l2': 0.014688909679206469}. Best is trial 49 with value: 0.0.\n",
      "regularization_factors, val_score: 0.000000:  55%|#####5    | 11/20 [00:48<00:36,  4.05s/it][I 2023-08-01 09:30:08,426] Trial 50 finished with value: 0.0 and parameters: {'lambda_l1': 1.8426901182251254e-07, 'lambda_l2': 0.08872423528507566}. Best is trial 49 with value: 0.0.\n",
      "regularization_factors, val_score: 0.000000:  60%|######    | 12/20 [00:51<00:31,  3.91s/it][I 2023-08-01 09:30:12,037] Trial 51 finished with value: 0.0 and parameters: {'lambda_l1': 9.434815641561961e-08, 'lambda_l2': 0.11008753667932383}. Best is trial 49 with value: 0.0.\n",
      "regularization_factors, val_score: 0.000000:  65%|######5   | 13/20 [00:55<00:26,  3.81s/it][I 2023-08-01 09:30:15,618] Trial 52 finished with value: 0.0 and parameters: {'lambda_l1': 1.7861868395552226e-07, 'lambda_l2': 0.2452567590589039}. Best is trial 49 with value: 0.0.\n",
      "regularization_factors, val_score: 0.000000:  70%|#######   | 14/20 [00:58<00:22,  3.75s/it][I 2023-08-01 09:30:19,225] Trial 53 finished with value: 0.0 and parameters: {'lambda_l1': 7.995186247487227e-08, 'lambda_l2': 0.12291452485301448}. Best is trial 49 with value: 0.0.\n",
      "regularization_factors, val_score: 0.000000:  75%|#######5  | 15/20 [01:02<00:18,  3.72s/it][I 2023-08-01 09:30:22,873] Trial 54 finished with value: 0.0 and parameters: {'lambda_l1': 9.303073673309697e-08, 'lambda_l2': 0.24289992258708326}. Best is trial 49 with value: 0.0.\n",
      "regularization_factors, val_score: 0.000000:  80%|########  | 16/20 [01:06<00:14,  3.68s/it][I 2023-08-01 09:30:26,455] Trial 55 finished with value: 0.0 and parameters: {'lambda_l1': 1.134716729585661e-07, 'lambda_l2': 0.2496381207589772}. Best is trial 49 with value: 0.0.\n",
      "regularization_factors, val_score: 0.000000:  85%|########5 | 17/20 [01:09<00:11,  3.67s/it][I 2023-08-01 09:30:30,111] Trial 56 finished with value: 0.0 and parameters: {'lambda_l1': 8.99640835141519e-08, 'lambda_l2': 0.1933479733593118}. Best is trial 49 with value: 0.0.\n",
      "regularization_factors, val_score: 0.000000:  90%|######### | 18/20 [01:13<00:07,  3.69s/it][I 2023-08-01 09:30:33,836] Trial 57 finished with value: 0.0 and parameters: {'lambda_l1': 1.281681844084196e-07, 'lambda_l2': 0.05948083487985456}. Best is trial 49 with value: 0.0.\n",
      "regularization_factors, val_score: 0.000000:  95%|#########5| 19/20 [01:17<00:03,  3.73s/it][I 2023-08-01 09:30:37,660] Trial 58 finished with value: 0.0 and parameters: {'lambda_l1': 1.1803633540368062e-08, 'lambda_l2': 0.024964782661314588}. Best is trial 49 with value: 0.0.\n",
      "regularization_factors, val_score: 0.000000: 100%|##########| 20/20 [01:20<00:00,  3.72s/it][I 2023-08-01 09:30:41,345] Trial 59 finished with value: 0.0 and parameters: {'lambda_l1': 8.988035296570416e-07, 'lambda_l2': 5.522872453950277}. Best is trial 49 with value: 0.0.\n",
      "regularization_factors, val_score: 0.000000: 100%|##########| 20/20 [01:20<00:00,  4.05s/it]\n",
      "min_data_in_leaf, val_score: 0.000000:  20%|##        | 1/5 [00:03<00:14,  3.59s/it][I 2023-08-01 09:30:44,942] Trial 60 finished with value: 0.0 and parameters: {'min_child_samples': 10}. Best is trial 60 with value: 0.0.\n",
      "min_data_in_leaf, val_score: 0.000000:  40%|####      | 2/5 [00:07<00:10,  3.66s/it][I 2023-08-01 09:30:48,642] Trial 61 finished with value: 0.0 and parameters: {'min_child_samples': 100}. Best is trial 60 with value: 0.0.\n",
      "min_data_in_leaf, val_score: 0.000000:  60%|######    | 3/5 [00:10<00:07,  3.63s/it][I 2023-08-01 09:30:52,237] Trial 62 finished with value: 0.0 and parameters: {'min_child_samples': 50}. Best is trial 60 with value: 0.0.\n",
      "min_data_in_leaf, val_score: 0.000000:  80%|########  | 4/5 [00:14<00:03,  3.61s/it][I 2023-08-01 09:30:55,826] Trial 63 finished with value: 0.0 and parameters: {'min_child_samples': 5}. Best is trial 60 with value: 0.0.\n",
      "min_data_in_leaf, val_score: 0.000000: 100%|##########| 5/5 [00:18<00:00,  3.61s/it][I 2023-08-01 09:30:59,428] Trial 64 finished with value: 0.0 and parameters: {'min_child_samples': 25}. Best is trial 60 with value: 0.0.\n",
      "min_data_in_leaf, val_score: 0.000000: 100%|##########| 5/5 [00:18<00:00,  3.62s/it]\n"
     ]
    }
   ],
   "source": [
    "params = {\n",
    "        'task': 'train',\n",
    "        'boosting_type': 'gbdt',\n",
    "        'objective': 'multiclass',\n",
    "        'num_class': 5,\n",
    "        'metric': 'multi_error', # 評価指標 : 誤り率(= 1-正答率)  another multi_logloss\n",
    "        'learning_rate': 0.1,\n",
    "        'num_leaves': 23,\n",
    "        'min_data_in_leaf': 1,\n",
    "        'verbose': -1,\n",
    "        'random_state': RANDOM_SEED, \n",
    "}\n",
    "\n",
    "# モデルの学習\n",
    "model_encoded = lgb.train(params, # パラメータ\n",
    "                  lgb_train_encoded, # トレーニングデータの指定\n",
    "                  valid_sets=[lgb_train_encoded], # 検証データの指定\n",
    "                  callbacks=[lgb.early_stopping(50, verbose=False)],\n",
    "               )"
   ],
   "metadata": {
    "collapsed": false,
    "ExecuteTime": {
     "end_time": "2023-08-01T00:30:59.439387700Z",
     "start_time": "2023-08-01T00:25:44.650029300Z"
    }
   },
   "id": "96ecabb675c8ecc5"
  },
  {
   "cell_type": "code",
   "execution_count": 60,
   "outputs": [
    {
     "data": {
      "text/plain": "0    129186\n1     32102\n2      1354\n3       370\n4        15\ndtype: int64"
     },
     "execution_count": 60,
     "metadata": {},
     "output_type": "execute_result"
    }
   ],
   "source": [
    "y_pred_prob = model_encoded.predict(x_test_encoded)\n",
    "# テストデータの予測 (予測クラス(0 or 1 or...)を返す)\n",
    "y_pred_encoded = np.argmax(y_pred_prob, axis=1) # 一番大きい予測確率のクラスを予測クラスに\n",
    "y_pred_encoded = pd.Series(y_pred_encoded)\n",
    "y_pred_encoded.value_counts()"
   ],
   "metadata": {
    "collapsed": false,
    "ExecuteTime": {
     "end_time": "2023-08-01T00:46:12.286985900Z",
     "start_time": "2023-08-01T00:46:12.130139100Z"
    }
   },
   "id": "8c1e910c83ecae00"
  },
  {
   "cell_type": "code",
   "execution_count": 61,
   "outputs": [
    {
     "name": "stdout",
     "output_type": "stream",
     "text": [
      "              precision    recall  f1-score   support\n",
      "\n",
      "         dos       1.00      1.00      1.00    129181\n",
      "      normal       1.00      1.00      1.00     32102\n",
      "       probe       0.99      0.99      0.99      1355\n",
      "         r2l       0.95      0.95      0.95       372\n",
      "         u2r       0.47      0.41      0.44        17\n",
      "\n",
      "    accuracy                           1.00    163027\n",
      "   macro avg       0.88      0.87      0.88    163027\n",
      "weighted avg       1.00      1.00      1.00    163027\n"
     ]
    }
   ],
   "source": [
    "print(classification_report(y_test, y_pred_encoded, target_names=correspondences.keys()))"
   ],
   "metadata": {
    "collapsed": false,
    "ExecuteTime": {
     "end_time": "2023-08-01T00:46:13.884628200Z",
     "start_time": "2023-08-01T00:46:13.735631500Z"
    }
   },
   "id": "12875d52f1f519ea"
  },
  {
   "cell_type": "code",
   "execution_count": 62,
   "outputs": [
    {
     "data": {
      "text/plain": "{'task': 'train',\n 'boosting_type': 'gbdt',\n 'objective': 'multiclass',\n 'num_class': 5,\n 'metric': 'multi_error',\n 'learning_rate': 0.1,\n 'num_leaves': 91,\n 'min_data_in_leaf': 1,\n 'verbose': -1,\n 'random_state': 2018,\n 'feature_pre_filter': False,\n 'lambda_l1': 4.278332719939832e-07,\n 'lambda_l2': 0.014688909679206469,\n 'feature_fraction': 0.9520000000000001,\n 'bagging_fraction': 1.0,\n 'bagging_freq': 0,\n 'min_child_samples': 20,\n 'num_iterations': 1000,\n 'early_stopping_round': None}"
     },
     "execution_count": 62,
     "metadata": {},
     "output_type": "execute_result"
    }
   ],
   "source": [
    "model_encoded.params"
   ],
   "metadata": {
    "collapsed": false,
    "ExecuteTime": {
     "end_time": "2023-08-01T00:46:23.662330500Z",
     "start_time": "2023-08-01T00:46:23.639199100Z"
    }
   },
   "id": "ee2734bc9e17c0ba"
  },
  {
   "cell_type": "code",
   "execution_count": 63,
   "outputs": [
    {
     "name": "stdout",
     "output_type": "stream",
     "text": [
      "dos    TP: 129176, TN: 33835, FP: 11, FN: 5\n",
      "normal    TP: 32084, TN: 130891, FP: 34, FN: 18\n",
      "probe    TP: 1339, TN: 161672, FP: 0, FN: 16\n",
      "r2l    TP: 358, TN: 162642, FP: 13, FN: 14\n",
      "u2r    TP: 9, TN: 163007, FP: 3, FN: 8\n"
     ]
    }
   ],
   "source": [
    "for key, confusion_matrix in zip(correspondences.keys(), multilabel_confusion_matrix(y_test, y_pred)):\n",
    "    print(f\"{key}    TP: {confusion_matrix[1][1]}, TN: {confusion_matrix[0][0]}, FP: {confusion_matrix[0][1]}, FN: {confusion_matrix[1][0]}\")"
   ],
   "metadata": {
    "collapsed": false,
    "ExecuteTime": {
     "end_time": "2023-08-01T00:46:24.436968500Z",
     "start_time": "2023-08-01T00:46:24.397968200Z"
    }
   },
   "id": "e2fd8c728c372ae8"
  },
  {
   "cell_type": "code",
   "execution_count": null,
   "outputs": [],
   "source": [],
   "metadata": {
    "collapsed": false
   },
   "id": "36d8a0a45183909b"
  }
 ],
 "metadata": {
  "kernelspec": {
   "display_name": "Python 3",
   "language": "python",
   "name": "python3"
  },
  "language_info": {
   "codemirror_mode": {
    "name": "ipython",
    "version": 2
   },
   "file_extension": ".py",
   "mimetype": "text/x-python",
   "name": "python",
   "nbconvert_exporter": "python",
   "pygments_lexer": "ipython2",
   "version": "2.7.6"
  }
 },
 "nbformat": 4,
 "nbformat_minor": 5
}
