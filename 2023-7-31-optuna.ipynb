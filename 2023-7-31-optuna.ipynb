{
 "cells": [
  {
   "cell_type": "markdown",
   "source": [
    "\n",
    "## ハイパーパラメータチューニング（optuna）を試す。\n",
    "\n",
    "### 背景\n",
    "- パラメータによって、`u2r`の学習率に大きく影響があると考えられるため。\n",
    "### 目的\n",
    "- 最適なパラメータを知ること\n",
    "### 使用するデータセット\n",
    "- KDD99 10%\n",
    "### 手法\n",
    "### 結果\n",
    "### 考察"
   ],
   "metadata": {
    "collapsed": false
   },
   "id": "42e0e73af718494a"
  },
  {
   "cell_type": "code",
   "execution_count": 2,
   "id": "initial_id",
   "metadata": {
    "collapsed": true,
    "ExecuteTime": {
     "end_time": "2023-07-31T13:48:35.023194700Z",
     "start_time": "2023-07-31T13:48:34.616871Z"
    }
   },
   "outputs": [
    {
     "name": "stdout",
     "output_type": "stream",
     "text": [
      "python:      3.10.5\n",
      "sklearn:     1.2.2\n",
      "tensorflow:  2.13.0-rc0\n",
      "keras:       2.13.1rc0\n",
      "numpy:       1.23.5\n",
      "pandas:      1.5.3\n"
     ]
    }
   ],
   "source": [
    "from utils_kdd99 import *\n",
    "print_version()"
   ]
  },
  {
   "cell_type": "code",
   "execution_count": 4,
   "outputs": [
    {
     "data": {
      "text/plain": "0    391458\n1     97278\n2      4107\n3      1126\n4        52\nName: true_label, dtype: int64"
     },
     "execution_count": 4,
     "metadata": {},
     "output_type": "execute_result"
    }
   ],
   "source": [
    "# データの読み込み\n",
    "X, y = load_data(use_full_dataset=False, standard_scale=True, verbose=0, )\n",
    "# 分類モデルによっては数値ラベルしか対応していないため、目的変数を分類クラスから数値へ変換\n",
    "y = y.map(lambda x: attack_label_class[x]).map(lambda x: correspondences[x])\n",
    "y.value_counts()"
   ],
   "metadata": {
    "collapsed": false,
    "ExecuteTime": {
     "end_time": "2023-07-31T14:20:59.100277900Z",
     "start_time": "2023-07-31T14:20:56.308606700Z"
    }
   },
   "id": "a095d7df79514d5e"
  },
  {
   "cell_type": "code",
   "execution_count": 6,
   "outputs": [],
   "source": [
    "x_train, x_test, y_train, y_test = train_test_split(X, y, test_size=0.33, random_state=RANDOM_SEED, stratify=y)"
   ],
   "metadata": {
    "collapsed": false,
    "ExecuteTime": {
     "end_time": "2023-07-31T14:32:44.809267700Z",
     "start_time": "2023-07-31T14:32:44.531245600Z"
    }
   },
   "id": "bf5619978d22c04c"
  },
  {
   "cell_type": "markdown",
   "source": [
    "### Dosのみを学習したオートエンコーダの作成\n",
    "- 隠れ層の次元数(38->10->5->10->38)\n",
    "- 活性化関数：ReLU\n",
    "- 最適化関数：adam\n",
    "- 損失関数：平均二乗誤差\n",
    "- エポック数：5\n",
    "- バッチサイズ：32"
   ],
   "metadata": {
    "collapsed": false
   },
   "id": "d776cca5aad065b6"
  },
  {
   "cell_type": "code",
   "execution_count": 10,
   "outputs": [
    {
     "name": "stdout",
     "output_type": "stream",
     "text": [
      "Model: \"sequential_1\"\n",
      "_________________________________________________________________\n",
      " Layer (type)                Output Shape              Param #   \n",
      "=================================================================\n",
      " encoder1 (Dense)            (None, 10)                390       \n",
      "                                                                 \n",
      " encoder2 (Dense)            (None, 5)                 55        \n",
      "                                                                 \n",
      " dense_2 (Dense)             (None, 10)                60        \n",
      "                                                                 \n",
      " dense_3 (Dense)             (None, 38)                418       \n",
      "                                                                 \n",
      "=================================================================\n",
      "Total params: 923 (3.61 KB)\n",
      "Trainable params: 923 (3.61 KB)\n",
      "Non-trainable params: 0 (0.00 Byte)\n",
      "_________________________________________________________________\n"
     ]
    }
   ],
   "source": [
    "ae_model = keras.Sequential([\n",
    "    Dense(units=10, activation='relu', input_dim=38, name='encoder1'),\n",
    "    Dense(units=5, activation='relu', name='encoder2'),\n",
    "    Dense(units=10, activation='relu'),\n",
    "    Dense(units=38, activation='relu'),\n",
    "])\n",
    "ae_model.compile(optimizer='adam', loss='mean_squared_error', metrics=['accuracy'])\n",
    "ae_model.summary()"
   ],
   "metadata": {
    "collapsed": false,
    "ExecuteTime": {
     "end_time": "2023-07-31T14:35:02.170599100Z",
     "start_time": "2023-07-31T14:35:02.105737300Z"
    }
   },
   "id": "4c4d5ecf7fd0bc33"
  },
  {
   "cell_type": "code",
   "execution_count": 11,
   "outputs": [],
   "source": [
    "# Dosのみのデータセットを作成\n",
    "dos_x_train = x_train[y_train == correspondences['dos']]"
   ],
   "metadata": {
    "collapsed": false,
    "ExecuteTime": {
     "end_time": "2023-07-31T14:35:02.209406200Z",
     "start_time": "2023-07-31T14:35:02.156454Z"
    }
   },
   "id": "11497b669c0fd920"
  },
  {
   "cell_type": "code",
   "execution_count": 12,
   "outputs": [
    {
     "name": "stdout",
     "output_type": "stream",
     "text": [
      "Epoch 1/5\n",
      "8197/8197 [==============================] - 7s 740us/step - loss: 0.2577 - accuracy: 0.8032\n",
      "Epoch 2/5\n",
      "8197/8197 [==============================] - 7s 799us/step - loss: 0.2538 - accuracy: 0.8323\n",
      "Epoch 3/5\n",
      "8197/8197 [==============================] - 6s 781us/step - loss: 0.2212 - accuracy: 0.8192\n",
      "Epoch 4/5\n",
      "8197/8197 [==============================] - 7s 858us/step - loss: 0.2207 - accuracy: 0.8290\n",
      "Epoch 5/5\n",
      "8197/8197 [==============================] - 6s 763us/step - loss: 0.2206 - accuracy: 0.8362\n"
     ]
    },
    {
     "data": {
      "text/plain": "<keras.src.callbacks.History at 0x10a049f1630>"
     },
     "execution_count": 12,
     "metadata": {},
     "output_type": "execute_result"
    }
   ],
   "source": [
    "ae_model.fit(dos_x_train, dos_x_train,\n",
    "            epochs=5, # データセットを使って学習する回数\n",
    "            batch_size=32,\n",
    "            shuffle=True,\n",
    "            verbose=1,\n",
    "            use_multiprocessing=True\n",
    "          )"
   ],
   "metadata": {
    "collapsed": false,
    "ExecuteTime": {
     "end_time": "2023-07-31T14:35:35.295163900Z",
     "start_time": "2023-07-31T14:35:02.209406200Z"
    }
   },
   "id": "4100f2b92c02e6e4"
  },
  {
   "cell_type": "code",
   "execution_count": 14,
   "outputs": [
    {
     "data": {
      "text/plain": "['dos0', 'dos1', 'dos2', 'dos3', 'dos4']"
     },
     "execution_count": 14,
     "metadata": {},
     "output_type": "execute_result"
    }
   ],
   "source": [
    "# エンコーダー部分を抜き取る\n",
    "encoder = keras.Sequential([ae_model.get_layer('encoder1'),\n",
    "                            ae_model.get_layer('encoder2')])\n",
    "# DOSエンコーダを用いた特徴量に命名\n",
    "dos_columns = list(map(lambda x: 'dos' + str(x), range(5)))\n",
    "dos_columns"
   ],
   "metadata": {
    "collapsed": false,
    "ExecuteTime": {
     "end_time": "2023-07-31T14:39:40.554463900Z",
     "start_time": "2023-07-31T14:39:40.523523500Z"
    }
   },
   "id": "c90ea97000cb72d6"
  },
  {
   "cell_type": "code",
   "execution_count": 15,
   "outputs": [
    {
     "name": "stdout",
     "output_type": "stream",
     "text": [
      "10344/10344 [==============================] - 6s 531us/step\n",
      "5095/5095 [==============================] - 3s 544us/step\n"
     ]
    },
    {
     "data": {
      "text/plain": "        duration  src_bytes  dst_bytes      land  wrong_fragment    urgent  \\\n212221 -0.067792  -0.002017  -0.026287 -0.006673        -0.04772 -0.002571   \n30903  -0.067792  -0.002774   0.472896 -0.006673        -0.04772 -0.002571   \n9739   -0.067792  -0.002017  -0.026287 -0.006673        -0.04772 -0.002571   \n37540  -0.067792  -0.002776  -0.014120 -0.006673        -0.04772 -0.002571   \n418638 -0.067792  -0.002535  -0.026287 -0.006673        -0.04772 -0.002571   \n\n             hot  num_failed_logins  logged_in  num_compromised  ...  \\\n212221 -0.044136          -0.009782  -0.417192        -0.005679  ...   \n30903  -0.044136          -0.009782   2.396980        -0.005679  ...   \n9739   -0.044136          -0.009782  -0.417192        -0.005679  ...   \n37540  -0.044136          -0.009782   2.396980        -0.005679  ...   \n418638 -0.044136          -0.009782  -0.417192        -0.005679  ...   \n\n        dst_host_srv_diff_host_rate  dst_host_serror_rate  \\\n212221                    -0.158629             -0.464418   \n30903                      0.553404             -0.464418   \n9739                      -0.158629             -0.464418   \n37540                      0.790749             -0.464418   \n418638                    -0.158629             -0.464418   \n\n        dst_host_srv_serror_rate  dst_host_rerror_rate  \\\n212221                 -0.463202              -0.25204   \n30903                  -0.463202              -0.25204   \n9739                   -0.463202              -0.25204   \n37540                  -0.463202              -0.25204   \n418638                 -0.463202              -0.25204   \n\n        dst_host_srv_rerror_rate      dos0      dos1      dos2      dos3  \\\n212221                 -0.249464  0.971426  3.588529  0.000000  1.988687   \n30903                  -0.249464  1.204473  0.534857  1.009054  0.000000   \n9739                   -0.249464  0.970986  3.588720  0.000000  1.990658   \n37540                  -0.249464  0.947306  0.529504  0.977704  0.000000   \n418638                 -0.249464  0.971012  3.588875  0.000000  1.990835   \n\n            dos4  \n212221  1.143270  \n30903   0.000000  \n9739    1.145948  \n37540   0.000000  \n418638  1.146163  \n\n[5 rows x 43 columns]",
      "text/html": "<div>\n<style scoped>\n    .dataframe tbody tr th:only-of-type {\n        vertical-align: middle;\n    }\n\n    .dataframe tbody tr th {\n        vertical-align: top;\n    }\n\n    .dataframe thead th {\n        text-align: right;\n    }\n</style>\n<table border=\"1\" class=\"dataframe\">\n  <thead>\n    <tr style=\"text-align: right;\">\n      <th></th>\n      <th>duration</th>\n      <th>src_bytes</th>\n      <th>dst_bytes</th>\n      <th>land</th>\n      <th>wrong_fragment</th>\n      <th>urgent</th>\n      <th>hot</th>\n      <th>num_failed_logins</th>\n      <th>logged_in</th>\n      <th>num_compromised</th>\n      <th>...</th>\n      <th>dst_host_srv_diff_host_rate</th>\n      <th>dst_host_serror_rate</th>\n      <th>dst_host_srv_serror_rate</th>\n      <th>dst_host_rerror_rate</th>\n      <th>dst_host_srv_rerror_rate</th>\n      <th>dos0</th>\n      <th>dos1</th>\n      <th>dos2</th>\n      <th>dos3</th>\n      <th>dos4</th>\n    </tr>\n  </thead>\n  <tbody>\n    <tr>\n      <th>212221</th>\n      <td>-0.067792</td>\n      <td>-0.002017</td>\n      <td>-0.026287</td>\n      <td>-0.006673</td>\n      <td>-0.04772</td>\n      <td>-0.002571</td>\n      <td>-0.044136</td>\n      <td>-0.009782</td>\n      <td>-0.417192</td>\n      <td>-0.005679</td>\n      <td>...</td>\n      <td>-0.158629</td>\n      <td>-0.464418</td>\n      <td>-0.463202</td>\n      <td>-0.25204</td>\n      <td>-0.249464</td>\n      <td>0.971426</td>\n      <td>3.588529</td>\n      <td>0.000000</td>\n      <td>1.988687</td>\n      <td>1.143270</td>\n    </tr>\n    <tr>\n      <th>30903</th>\n      <td>-0.067792</td>\n      <td>-0.002774</td>\n      <td>0.472896</td>\n      <td>-0.006673</td>\n      <td>-0.04772</td>\n      <td>-0.002571</td>\n      <td>-0.044136</td>\n      <td>-0.009782</td>\n      <td>2.396980</td>\n      <td>-0.005679</td>\n      <td>...</td>\n      <td>0.553404</td>\n      <td>-0.464418</td>\n      <td>-0.463202</td>\n      <td>-0.25204</td>\n      <td>-0.249464</td>\n      <td>1.204473</td>\n      <td>0.534857</td>\n      <td>1.009054</td>\n      <td>0.000000</td>\n      <td>0.000000</td>\n    </tr>\n    <tr>\n      <th>9739</th>\n      <td>-0.067792</td>\n      <td>-0.002017</td>\n      <td>-0.026287</td>\n      <td>-0.006673</td>\n      <td>-0.04772</td>\n      <td>-0.002571</td>\n      <td>-0.044136</td>\n      <td>-0.009782</td>\n      <td>-0.417192</td>\n      <td>-0.005679</td>\n      <td>...</td>\n      <td>-0.158629</td>\n      <td>-0.464418</td>\n      <td>-0.463202</td>\n      <td>-0.25204</td>\n      <td>-0.249464</td>\n      <td>0.970986</td>\n      <td>3.588720</td>\n      <td>0.000000</td>\n      <td>1.990658</td>\n      <td>1.145948</td>\n    </tr>\n    <tr>\n      <th>37540</th>\n      <td>-0.067792</td>\n      <td>-0.002776</td>\n      <td>-0.014120</td>\n      <td>-0.006673</td>\n      <td>-0.04772</td>\n      <td>-0.002571</td>\n      <td>-0.044136</td>\n      <td>-0.009782</td>\n      <td>2.396980</td>\n      <td>-0.005679</td>\n      <td>...</td>\n      <td>0.790749</td>\n      <td>-0.464418</td>\n      <td>-0.463202</td>\n      <td>-0.25204</td>\n      <td>-0.249464</td>\n      <td>0.947306</td>\n      <td>0.529504</td>\n      <td>0.977704</td>\n      <td>0.000000</td>\n      <td>0.000000</td>\n    </tr>\n    <tr>\n      <th>418638</th>\n      <td>-0.067792</td>\n      <td>-0.002535</td>\n      <td>-0.026287</td>\n      <td>-0.006673</td>\n      <td>-0.04772</td>\n      <td>-0.002571</td>\n      <td>-0.044136</td>\n      <td>-0.009782</td>\n      <td>-0.417192</td>\n      <td>-0.005679</td>\n      <td>...</td>\n      <td>-0.158629</td>\n      <td>-0.464418</td>\n      <td>-0.463202</td>\n      <td>-0.25204</td>\n      <td>-0.249464</td>\n      <td>0.971012</td>\n      <td>3.588875</td>\n      <td>0.000000</td>\n      <td>1.990835</td>\n      <td>1.146163</td>\n    </tr>\n  </tbody>\n</table>\n<p>5 rows × 43 columns</p>\n</div>"
     },
     "execution_count": 15,
     "metadata": {},
     "output_type": "execute_result"
    }
   ],
   "source": [
    "# 特徴量抽出し、マージする。\n",
    "x_train_encoded = pd.DataFrame(data=encoder.predict(x_train), index=x_train.index, columns=dos_columns)\n",
    "x_test_encoded = pd.DataFrame(data=encoder.predict(x_test), index=x_test.index, columns=dos_columns)\n",
    "x_train_encoded = x_train.merge(x_train_encoded, right_index=True, left_index=True)\n",
    "x_test_encoded = x_test.merge(x_test_encoded, right_index=True, left_index=True)\n",
    "x_train_encoded.head()"
   ],
   "metadata": {
    "collapsed": false,
    "ExecuteTime": {
     "end_time": "2023-07-31T14:39:54.626050700Z",
     "start_time": "2023-07-31T14:39:41.104733100Z"
    }
   },
   "id": "7a58b465211b4134"
  },
  {
   "cell_type": "markdown",
   "source": [
    "### optuna＋lightGBMを用いた学習\n",
    "- 元の特徴量のみを使う。\n",
    "- "
   ],
   "metadata": {
    "collapsed": false
   },
   "id": "a850b61acfb56afa"
  },
  {
   "cell_type": "code",
   "execution_count": 31,
   "outputs": [
    {
     "name": "stderr",
     "output_type": "stream",
     "text": [
      "[I 2023-08-01 06:57:04,200] A new study created in memory with name: no-name-d1de0070-58f3-492c-89bc-242f87a029a6\n",
      "feature_fraction, val_score: inf:   0%|          | 0/7 [00:00<?, ?it/s]"
     ]
    },
    {
     "name": "stdout",
     "output_type": "stream",
     "text": [
      "Training until validation scores don't improve for 50 rounds\n"
     ]
    },
    {
     "name": "stderr",
     "output_type": "stream",
     "text": [
      "feature_fraction, val_score: 0.001055:  14%|#4        | 1/7 [00:02<00:16,  2.69s/it][I 2023-08-01 06:57:06,893] Trial 0 finished with value: 0.0010550399627055642 and parameters: {'feature_fraction': 0.4}. Best is trial 0 with value: 0.0010550399627055642.\n",
      "feature_fraction, val_score: 0.001055:  14%|#4        | 1/7 [00:02<00:16,  2.69s/it]"
     ]
    },
    {
     "name": "stdout",
     "output_type": "stream",
     "text": [
      "Early stopping, best iteration is:\n",
      "[6]\tvalid_0's multi_error: 0.00105504\n"
     ]
    },
    {
     "name": "stderr",
     "output_type": "stream",
     "text": [
      "feature_fraction, val_score: 0.000810:  29%|##8       | 2/7 [00:05<00:13,  2.77s/it][I 2023-08-01 06:57:09,717] Trial 1 finished with value: 0.000809681831843805 and parameters: {'feature_fraction': 0.5}. Best is trial 1 with value: 0.000809681831843805.\n",
      "feature_fraction, val_score: 0.000810:  29%|##8       | 2/7 [00:05<00:13,  2.77s/it]"
     ]
    },
    {
     "name": "stdout",
     "output_type": "stream",
     "text": [
      "Early stopping, best iteration is:\n",
      "[6]\tvalid_0's multi_error: 0.000809682\n"
     ]
    },
    {
     "name": "stderr",
     "output_type": "stream",
     "text": [
      "feature_fraction, val_score: 0.000810:  43%|####2     | 3/7 [00:07<00:10,  2.58s/it][I 2023-08-01 06:57:12,081] Trial 2 finished with value: 0.000809681831843805 and parameters: {'feature_fraction': 0.8}. Best is trial 1 with value: 0.000809681831843805.\n",
      "feature_fraction, val_score: 0.000810:  43%|####2     | 3/7 [00:07<00:10,  2.58s/it]"
     ]
    },
    {
     "name": "stdout",
     "output_type": "stream",
     "text": [
      "Early stopping, best iteration is:\n",
      "[6]\tvalid_0's multi_error: 0.000809682\n"
     ]
    },
    {
     "name": "stderr",
     "output_type": "stream",
     "text": [
      "feature_fraction, val_score: 0.000779:  57%|#####7    | 4/7 [00:10<00:07,  2.46s/it][I 2023-08-01 06:57:14,346] Trial 3 finished with value: 0.0007790120654860851 and parameters: {'feature_fraction': 1.0}. Best is trial 3 with value: 0.0007790120654860851.\n",
      "feature_fraction, val_score: 0.000779:  57%|#####7    | 4/7 [00:10<00:07,  2.46s/it]"
     ]
    },
    {
     "name": "stdout",
     "output_type": "stream",
     "text": [
      "Early stopping, best iteration is:\n",
      "[7]\tvalid_0's multi_error: 0.000779012\n"
     ]
    },
    {
     "name": "stderr",
     "output_type": "stream",
     "text": [
      "feature_fraction, val_score: 0.000779:  71%|#######1  | 5/7 [00:12<00:04,  2.39s/it][I 2023-08-01 06:57:16,605] Trial 4 finished with value: 0.0007790120654860851 and parameters: {'feature_fraction': 0.8999999999999999}. Best is trial 3 with value: 0.0007790120654860851.\n",
      "feature_fraction, val_score: 0.000779:  71%|#######1  | 5/7 [00:12<00:04,  2.39s/it]"
     ]
    },
    {
     "name": "stdout",
     "output_type": "stream",
     "text": [
      "Early stopping, best iteration is:\n",
      "[7]\tvalid_0's multi_error: 0.000779012\n"
     ]
    },
    {
     "name": "stderr",
     "output_type": "stream",
     "text": [
      "feature_fraction, val_score: 0.000779:  86%|########5 | 6/7 [00:14<00:02,  2.36s/it][I 2023-08-01 06:57:18,923] Trial 5 finished with value: 0.0007790120654860851 and parameters: {'feature_fraction': 0.7}. Best is trial 3 with value: 0.0007790120654860851.\n",
      "feature_fraction, val_score: 0.000779:  86%|########5 | 6/7 [00:14<00:02,  2.36s/it]"
     ]
    },
    {
     "name": "stdout",
     "output_type": "stream",
     "text": [
      "Early stopping, best iteration is:\n",
      "[7]\tvalid_0's multi_error: 0.000779012\n"
     ]
    },
    {
     "name": "stderr",
     "output_type": "stream",
     "text": [
      "feature_fraction, val_score: 0.000779: 100%|##########| 7/7 [00:17<00:00,  2.41s/it][I 2023-08-01 06:57:21,415] Trial 6 finished with value: 0.0007790120654860851 and parameters: {'feature_fraction': 0.6}. Best is trial 3 with value: 0.0007790120654860851.\n",
      "feature_fraction, val_score: 0.000779: 100%|##########| 7/7 [00:17<00:00,  2.46s/it]\n"
     ]
    },
    {
     "name": "stdout",
     "output_type": "stream",
     "text": [
      "Early stopping, best iteration is:\n",
      "[7]\tvalid_0's multi_error: 0.000779012\n"
     ]
    },
    {
     "name": "stderr",
     "output_type": "stream",
     "text": [
      "num_leaves, val_score: 0.000779:   5%|5         | 1/20 [00:03<01:04,  3.40s/it][I 2023-08-01 06:57:24,820] Trial 7 finished with value: 0.0007790120654860851 and parameters: {'num_leaves': 79}. Best is trial 7 with value: 0.0007790120654860851.\n",
      "num_leaves, val_score: 0.000779:   5%|5         | 1/20 [00:03<01:04,  3.40s/it]"
     ]
    },
    {
     "name": "stdout",
     "output_type": "stream",
     "text": [
      "Early stopping, best iteration is:\n",
      "[7]\tvalid_0's multi_error: 0.000779012\n"
     ]
    },
    {
     "name": "stderr",
     "output_type": "stream",
     "text": [
      "num_leaves, val_score: 0.000779:  10%|#         | 2/20 [00:05<00:48,  2.68s/it][I 2023-08-01 06:57:27,000] Trial 8 finished with value: 0.0007790120654860851 and parameters: {'num_leaves': 14}. Best is trial 7 with value: 0.0007790120654860851.\n",
      "num_leaves, val_score: 0.000779:  10%|#         | 2/20 [00:05<00:48,  2.68s/it]"
     ]
    },
    {
     "name": "stdout",
     "output_type": "stream",
     "text": [
      "Early stopping, best iteration is:\n",
      "[7]\tvalid_0's multi_error: 0.000779012\n"
     ]
    },
    {
     "name": "stderr",
     "output_type": "stream",
     "text": [
      "num_leaves, val_score: 0.000779:  15%|#5        | 3/20 [00:11<01:07,  3.96s/it][I 2023-08-01 06:57:32,474] Trial 9 finished with value: 0.0007790120654860851 and parameters: {'num_leaves': 219}. Best is trial 7 with value: 0.0007790120654860851.\n",
      "num_leaves, val_score: 0.000779:  15%|#5        | 3/20 [00:11<01:07,  3.96s/it]"
     ]
    },
    {
     "name": "stdout",
     "output_type": "stream",
     "text": [
      "Early stopping, best iteration is:\n",
      "[7]\tvalid_0's multi_error: 0.000779012\n"
     ]
    },
    {
     "name": "stderr",
     "output_type": "stream",
     "text": [
      "num_leaves, val_score: 0.000779:  20%|##        | 4/20 [00:16<01:15,  4.69s/it][I 2023-08-01 06:57:38,283] Trial 10 finished with value: 0.0007790120654860851 and parameters: {'num_leaves': 247}. Best is trial 7 with value: 0.0007790120654860851.\n",
      "num_leaves, val_score: 0.000779:  20%|##        | 4/20 [00:16<01:15,  4.69s/it]"
     ]
    },
    {
     "name": "stdout",
     "output_type": "stream",
     "text": [
      "Early stopping, best iteration is:\n",
      "[7]\tvalid_0's multi_error: 0.000779012\n"
     ]
    },
    {
     "name": "stderr",
     "output_type": "stream",
     "text": [
      "num_leaves, val_score: 0.000736:  25%|##5       | 5/20 [00:21<01:08,  4.60s/it][I 2023-08-01 06:57:42,721] Trial 11 finished with value: 0.0007360743925852773 and parameters: {'num_leaves': 141}. Best is trial 11 with value: 0.0007360743925852773.\n",
      "num_leaves, val_score: 0.000736:  25%|##5       | 5/20 [00:21<01:08,  4.60s/it]"
     ]
    },
    {
     "name": "stdout",
     "output_type": "stream",
     "text": [
      "Early stopping, best iteration is:\n",
      "[4]\tvalid_0's multi_error: 0.000736074\n"
     ]
    },
    {
     "name": "stderr",
     "output_type": "stream",
     "text": [
      "num_leaves, val_score: 0.000736:  30%|###       | 6/20 [00:25<01:03,  4.55s/it][I 2023-08-01 06:57:47,179] Trial 12 finished with value: 0.0007360743925852773 and parameters: {'num_leaves': 146}. Best is trial 11 with value: 0.0007360743925852773.\n",
      "num_leaves, val_score: 0.000736:  30%|###       | 6/20 [00:25<01:03,  4.55s/it]"
     ]
    },
    {
     "name": "stdout",
     "output_type": "stream",
     "text": [
      "Early stopping, best iteration is:\n",
      "[4]\tvalid_0's multi_error: 0.000736074\n"
     ]
    },
    {
     "name": "stderr",
     "output_type": "stream",
     "text": [
      "num_leaves, val_score: 0.000687:  35%|###5      | 7/20 [00:30<00:58,  4.54s/it][I 2023-08-01 06:57:51,691] Trial 13 finished with value: 0.0006870027664129255 and parameters: {'num_leaves': 148}. Best is trial 13 with value: 0.0006870027664129255.\n",
      "num_leaves, val_score: 0.000687:  35%|###5      | 7/20 [00:30<00:58,  4.54s/it]"
     ]
    },
    {
     "name": "stdout",
     "output_type": "stream",
     "text": [
      "Early stopping, best iteration is:\n",
      "[6]\tvalid_0's multi_error: 0.000687003\n"
     ]
    },
    {
     "name": "stderr",
     "output_type": "stream",
     "text": [
      "num_leaves, val_score: 0.000687:  40%|####      | 8/20 [00:34<00:53,  4.47s/it][I 2023-08-01 06:57:56,030] Trial 14 finished with value: 0.0006870027664129255 and parameters: {'num_leaves': 147}. Best is trial 13 with value: 0.0006870027664129255.\n",
      "num_leaves, val_score: 0.000687:  40%|####      | 8/20 [00:34<00:53,  4.47s/it]"
     ]
    },
    {
     "name": "stdout",
     "output_type": "stream",
     "text": [
      "Early stopping, best iteration is:\n",
      "[6]\tvalid_0's multi_error: 0.000687003\n"
     ]
    },
    {
     "name": "stderr",
     "output_type": "stream",
     "text": [
      "num_leaves, val_score: 0.000687:  45%|####5     | 9/20 [00:39<00:50,  4.63s/it][I 2023-08-01 06:58:00,992] Trial 15 finished with value: 0.0006870027664129255 and parameters: {'num_leaves': 175}. Best is trial 13 with value: 0.0006870027664129255.\n",
      "num_leaves, val_score: 0.000687:  45%|####5     | 9/20 [00:39<00:50,  4.63s/it]"
     ]
    },
    {
     "name": "stdout",
     "output_type": "stream",
     "text": [
      "Early stopping, best iteration is:\n",
      "[6]\tvalid_0's multi_error: 0.000687003\n"
     ]
    },
    {
     "name": "stderr",
     "output_type": "stream",
     "text": [
      "num_leaves, val_score: 0.000687:  50%|#####     | 10/20 [00:43<00:42,  4.28s/it][I 2023-08-01 06:58:04,504] Trial 16 finished with value: 0.0006870027664129255 and parameters: {'num_leaves': 80}. Best is trial 13 with value: 0.0006870027664129255.\n",
      "num_leaves, val_score: 0.000687:  50%|#####     | 10/20 [00:43<00:42,  4.28s/it]"
     ]
    },
    {
     "name": "stdout",
     "output_type": "stream",
     "text": [
      "Early stopping, best iteration is:\n",
      "[6]\tvalid_0's multi_error: 0.000687003\n"
     ]
    },
    {
     "name": "stderr",
     "output_type": "stream",
     "text": [
      "num_leaves, val_score: 0.000687:  55%|#####5    | 11/20 [00:48<00:40,  4.48s/it][I 2023-08-01 06:58:09,445] Trial 17 finished with value: 0.0006870027664129255 and parameters: {'num_leaves': 191}. Best is trial 13 with value: 0.0006870027664129255.\n",
      "num_leaves, val_score: 0.000687:  55%|#####5    | 11/20 [00:48<00:40,  4.48s/it]"
     ]
    },
    {
     "name": "stdout",
     "output_type": "stream",
     "text": [
      "Early stopping, best iteration is:\n",
      "[6]\tvalid_0's multi_error: 0.000687003\n"
     ]
    },
    {
     "name": "stderr",
     "output_type": "stream",
     "text": [
      "num_leaves, val_score: 0.000687:  60%|######    | 12/20 [00:51<00:33,  4.25s/it][I 2023-08-01 06:58:13,146] Trial 18 finished with value: 0.0006870027664129255 and parameters: {'num_leaves': 85}. Best is trial 13 with value: 0.0006870027664129255.\n",
      "num_leaves, val_score: 0.000687:  60%|######    | 12/20 [00:51<00:33,  4.25s/it]"
     ]
    },
    {
     "name": "stdout",
     "output_type": "stream",
     "text": [
      "Early stopping, best iteration is:\n",
      "[6]\tvalid_0's multi_error: 0.000687003\n"
     ]
    },
    {
     "name": "stderr",
     "output_type": "stream",
     "text": [
      "num_leaves, val_score: 0.000687:  65%|######5   | 13/20 [00:56<00:30,  4.33s/it][I 2023-08-01 06:58:17,664] Trial 19 finished with value: 0.0006870027664129255 and parameters: {'num_leaves': 116}. Best is trial 13 with value: 0.0006870027664129255.\n",
      "num_leaves, val_score: 0.000687:  65%|######5   | 13/20 [00:56<00:30,  4.33s/it]"
     ]
    },
    {
     "name": "stdout",
     "output_type": "stream",
     "text": [
      "Early stopping, best iteration is:\n",
      "[6]\tvalid_0's multi_error: 0.000687003\n"
     ]
    },
    {
     "name": "stderr",
     "output_type": "stream",
     "text": [
      "num_leaves, val_score: 0.000687:  70%|#######   | 14/20 [01:02<00:28,  4.76s/it][I 2023-08-01 06:58:23,432] Trial 20 finished with value: 0.0006870027664129255 and parameters: {'num_leaves': 179}. Best is trial 13 with value: 0.0006870027664129255.\n",
      "num_leaves, val_score: 0.000687:  70%|#######   | 14/20 [01:02<00:28,  4.76s/it]"
     ]
    },
    {
     "name": "stdout",
     "output_type": "stream",
     "text": [
      "Early stopping, best iteration is:\n",
      "[6]\tvalid_0's multi_error: 0.000687003\n"
     ]
    },
    {
     "name": "stderr",
     "output_type": "stream",
     "text": [
      "num_leaves, val_score: 0.000687:  75%|#######5  | 15/20 [01:06<00:24,  4.80s/it][I 2023-08-01 06:58:28,317] Trial 21 finished with value: 0.0006870027664129255 and parameters: {'num_leaves': 174}. Best is trial 13 with value: 0.0006870027664129255.\n",
      "num_leaves, val_score: 0.000687:  75%|#######5  | 15/20 [01:06<00:24,  4.80s/it]"
     ]
    },
    {
     "name": "stdout",
     "output_type": "stream",
     "text": [
      "Early stopping, best iteration is:\n",
      "[6]\tvalid_0's multi_error: 0.000687003\n"
     ]
    },
    {
     "name": "stderr",
     "output_type": "stream",
     "text": [
      "num_leaves, val_score: 0.000687:  80%|########  | 16/20 [01:10<00:18,  4.58s/it][I 2023-08-01 06:58:32,393] Trial 22 finished with value: 0.0006870027664129255 and parameters: {'num_leaves': 128}. Best is trial 13 with value: 0.0006870027664129255.\n",
      "num_leaves, val_score: 0.000687:  80%|########  | 16/20 [01:10<00:18,  4.58s/it]"
     ]
    },
    {
     "name": "stdout",
     "output_type": "stream",
     "text": [
      "Early stopping, best iteration is:\n",
      "[6]\tvalid_0's multi_error: 0.000687003\n"
     ]
    },
    {
     "name": "stderr",
     "output_type": "stream",
     "text": [
      "num_leaves, val_score: 0.000687:  85%|########5 | 17/20 [01:15<00:13,  4.57s/it][I 2023-08-01 06:58:36,942] Trial 23 finished with value: 0.0006870027664129255 and parameters: {'num_leaves': 163}. Best is trial 13 with value: 0.0006870027664129255.\n",
      "num_leaves, val_score: 0.000687:  85%|########5 | 17/20 [01:15<00:13,  4.57s/it]"
     ]
    },
    {
     "name": "stdout",
     "output_type": "stream",
     "text": [
      "Early stopping, best iteration is:\n",
      "[6]\tvalid_0's multi_error: 0.000687003\n"
     ]
    },
    {
     "name": "stderr",
     "output_type": "stream",
     "text": [
      "num_leaves, val_score: 0.000687:  90%|######### | 18/20 [01:21<00:09,  4.85s/it][I 2023-08-01 06:58:42,435] Trial 24 finished with value: 0.0006870027664129255 and parameters: {'num_leaves': 208}. Best is trial 13 with value: 0.0006870027664129255.\n",
      "num_leaves, val_score: 0.000687:  90%|######### | 18/20 [01:21<00:09,  4.85s/it]"
     ]
    },
    {
     "name": "stdout",
     "output_type": "stream",
     "text": [
      "Early stopping, best iteration is:\n",
      "[6]\tvalid_0's multi_error: 0.000687003\n"
     ]
    },
    {
     "name": "stderr",
     "output_type": "stream",
     "text": [
      "num_leaves, val_score: 0.000687:  95%|#########5| 19/20 [01:24<00:04,  4.59s/it][I 2023-08-01 06:58:46,413] Trial 25 finished with value: 0.0006870027664129255 and parameters: {'num_leaves': 109}. Best is trial 13 with value: 0.0006870027664129255.\n",
      "num_leaves, val_score: 0.000687:  95%|#########5| 19/20 [01:24<00:04,  4.59s/it]"
     ]
    },
    {
     "name": "stdout",
     "output_type": "stream",
     "text": [
      "Early stopping, best iteration is:\n",
      "[6]\tvalid_0's multi_error: 0.000687003\n"
     ]
    },
    {
     "name": "stderr",
     "output_type": "stream",
     "text": [
      "num_leaves, val_score: 0.000687: 100%|##########| 20/20 [01:29<00:00,  4.65s/it][I 2023-08-01 06:58:51,225] Trial 26 finished with value: 0.0006870027664129255 and parameters: {'num_leaves': 154}. Best is trial 13 with value: 0.0006870027664129255.\n",
      "num_leaves, val_score: 0.000687: 100%|##########| 20/20 [01:29<00:00,  4.49s/it]\n"
     ]
    },
    {
     "name": "stdout",
     "output_type": "stream",
     "text": [
      "Early stopping, best iteration is:\n",
      "[6]\tvalid_0's multi_error: 0.000687003\n"
     ]
    },
    {
     "name": "stderr",
     "output_type": "stream",
     "text": [
      "bagging, val_score: 0.000687:  10%|#         | 1/10 [00:05<00:49,  5.49s/it][I 2023-08-01 06:58:56,718] Trial 27 finished with value: 0.0006870027664129255 and parameters: {'bagging_fraction': 0.8912269381781016, 'bagging_freq': 5}. Best is trial 27 with value: 0.0006870027664129255.\n",
      "bagging, val_score: 0.000687:  10%|#         | 1/10 [00:05<00:49,  5.49s/it]"
     ]
    },
    {
     "name": "stdout",
     "output_type": "stream",
     "text": [
      "Early stopping, best iteration is:\n",
      "[6]\tvalid_0's multi_error: 0.000687003\n"
     ]
    },
    {
     "name": "stderr",
     "output_type": "stream",
     "text": [
      "bagging, val_score: 0.000687:  20%|##        | 2/10 [00:09<00:38,  4.82s/it][I 2023-08-01 06:59:01,078] Trial 28 finished with value: 0.0006870027664129255 and parameters: {'bagging_fraction': 0.40353455216217776, 'bagging_freq': 1}. Best is trial 27 with value: 0.0006870027664129255.\n",
      "bagging, val_score: 0.000687:  20%|##        | 2/10 [00:09<00:38,  4.82s/it]"
     ]
    },
    {
     "name": "stdout",
     "output_type": "stream",
     "text": [
      "Early stopping, best iteration is:\n",
      "[6]\tvalid_0's multi_error: 0.000687003\n"
     ]
    },
    {
     "name": "stderr",
     "output_type": "stream",
     "text": [
      "bagging, val_score: 0.000687:  30%|###       | 3/10 [00:15<00:37,  5.30s/it][I 2023-08-01 06:59:06,949] Trial 29 finished with value: 0.0006870027664129255 and parameters: {'bagging_fraction': 0.9497800988935022, 'bagging_freq': 7}. Best is trial 27 with value: 0.0006870027664129255.\n",
      "bagging, val_score: 0.000687:  30%|###       | 3/10 [00:15<00:37,  5.30s/it]"
     ]
    },
    {
     "name": "stdout",
     "output_type": "stream",
     "text": [
      "Early stopping, best iteration is:\n",
      "[6]\tvalid_0's multi_error: 0.000687003\n"
     ]
    },
    {
     "name": "stderr",
     "output_type": "stream",
     "text": [
      "bagging, val_score: 0.000687:  40%|####      | 4/10 [00:20<00:30,  5.03s/it][I 2023-08-01 06:59:11,557] Trial 30 finished with value: 0.0006870027664129255 and parameters: {'bagging_fraction': 0.6052745915969244, 'bagging_freq': 1}. Best is trial 27 with value: 0.0006870027664129255.\n",
      "bagging, val_score: 0.000687:  40%|####      | 4/10 [00:20<00:30,  5.03s/it]"
     ]
    },
    {
     "name": "stdout",
     "output_type": "stream",
     "text": [
      "Early stopping, best iteration is:\n",
      "[6]\tvalid_0's multi_error: 0.000687003\n"
     ]
    },
    {
     "name": "stderr",
     "output_type": "stream",
     "text": [
      "bagging, val_score: 0.000687:  50%|#####     | 5/10 [00:25<00:25,  5.07s/it][I 2023-08-01 06:59:16,702] Trial 31 finished with value: 0.0006870027664129255 and parameters: {'bagging_fraction': 0.7381236546090373, 'bagging_freq': 4}. Best is trial 27 with value: 0.0006870027664129255.\n",
      "bagging, val_score: 0.000687:  50%|#####     | 5/10 [00:25<00:25,  5.07s/it]"
     ]
    },
    {
     "name": "stdout",
     "output_type": "stream",
     "text": [
      "Early stopping, best iteration is:\n",
      "[6]\tvalid_0's multi_error: 0.000687003\n"
     ]
    },
    {
     "name": "stderr",
     "output_type": "stream",
     "text": [
      "bagging, val_score: 0.000687:  60%|######    | 6/10 [00:29<00:19,  4.84s/it][I 2023-08-01 06:59:21,089] Trial 32 finished with value: 0.0006870027664129255 and parameters: {'bagging_fraction': 0.43860156053127425, 'bagging_freq': 3}. Best is trial 27 with value: 0.0006870027664129255.\n",
      "bagging, val_score: 0.000687:  60%|######    | 6/10 [00:29<00:19,  4.84s/it]"
     ]
    },
    {
     "name": "stdout",
     "output_type": "stream",
     "text": [
      "Early stopping, best iteration is:\n",
      "[6]\tvalid_0's multi_error: 0.000687003\n"
     ]
    },
    {
     "name": "stderr",
     "output_type": "stream",
     "text": [
      "bagging, val_score: 0.000687:  70%|#######   | 7/10 [00:35<00:15,  5.15s/it][I 2023-08-01 06:59:26,886] Trial 33 finished with value: 0.0006870027664129255 and parameters: {'bagging_fraction': 0.9976019913201992, 'bagging_freq': 7}. Best is trial 27 with value: 0.0006870027664129255.\n",
      "bagging, val_score: 0.000687:  70%|#######   | 7/10 [00:35<00:15,  5.15s/it]"
     ]
    },
    {
     "name": "stdout",
     "output_type": "stream",
     "text": [
      "Early stopping, best iteration is:\n",
      "[6]\tvalid_0's multi_error: 0.000687003\n"
     ]
    },
    {
     "name": "stderr",
     "output_type": "stream",
     "text": [
      "bagging, val_score: 0.000687:  80%|########  | 8/10 [00:40<00:10,  5.18s/it][I 2023-08-01 06:59:32,131] Trial 34 finished with value: 0.0006870027664129255 and parameters: {'bagging_fraction': 0.7811807818252131, 'bagging_freq': 3}. Best is trial 27 with value: 0.0006870027664129255.\n",
      "bagging, val_score: 0.000687:  80%|########  | 8/10 [00:40<00:10,  5.18s/it]"
     ]
    },
    {
     "name": "stdout",
     "output_type": "stream",
     "text": [
      "Early stopping, best iteration is:\n",
      "[6]\tvalid_0's multi_error: 0.000687003\n"
     ]
    },
    {
     "name": "stderr",
     "output_type": "stream",
     "text": [
      "bagging, val_score: 0.000687:  90%|######### | 9/10 [00:45<00:05,  5.08s/it][I 2023-08-01 06:59:36,995] Trial 35 finished with value: 0.0006870027664129255 and parameters: {'bagging_fraction': 0.6003572734581141, 'bagging_freq': 5}. Best is trial 27 with value: 0.0006870027664129255.\n",
      "bagging, val_score: 0.000687:  90%|######### | 9/10 [00:45<00:05,  5.08s/it]"
     ]
    },
    {
     "name": "stdout",
     "output_type": "stream",
     "text": [
      "Early stopping, best iteration is:\n",
      "[6]\tvalid_0's multi_error: 0.000687003\n"
     ]
    },
    {
     "name": "stderr",
     "output_type": "stream",
     "text": [
      "bagging, val_score: 0.000687: 100%|##########| 10/10 [00:51<00:00,  5.29s/it][I 2023-08-01 06:59:42,751] Trial 36 finished with value: 0.0006870027664129255 and parameters: {'bagging_fraction': 0.8523346697883871, 'bagging_freq': 2}. Best is trial 27 with value: 0.0006870027664129255.\n",
      "bagging, val_score: 0.000687: 100%|##########| 10/10 [00:51<00:00,  5.15s/it]\n"
     ]
    },
    {
     "name": "stdout",
     "output_type": "stream",
     "text": [
      "Early stopping, best iteration is:\n",
      "[6]\tvalid_0's multi_error: 0.000687003\n"
     ]
    },
    {
     "name": "stderr",
     "output_type": "stream",
     "text": [
      "feature_fraction_stage2, val_score: 0.000687:  33%|###3      | 1/3 [00:04<00:08,  4.37s/it][I 2023-08-01 06:59:47,130] Trial 37 finished with value: 0.0006870027664129255 and parameters: {'feature_fraction': 0.92}. Best is trial 37 with value: 0.0006870027664129255.\n",
      "feature_fraction_stage2, val_score: 0.000687:  33%|###3      | 1/3 [00:04<00:08,  4.37s/it]"
     ]
    },
    {
     "name": "stdout",
     "output_type": "stream",
     "text": [
      "Early stopping, best iteration is:\n",
      "[6]\tvalid_0's multi_error: 0.000687003\n"
     ]
    },
    {
     "name": "stderr",
     "output_type": "stream",
     "text": [
      "feature_fraction_stage2, val_score: 0.000687:  67%|######6   | 2/3 [00:08<00:04,  4.43s/it][I 2023-08-01 06:59:51,594] Trial 38 finished with value: 0.0006870027664129255 and parameters: {'feature_fraction': 0.9520000000000001}. Best is trial 37 with value: 0.0006870027664129255.\n",
      "feature_fraction_stage2, val_score: 0.000687:  67%|######6   | 2/3 [00:08<00:04,  4.43s/it]"
     ]
    },
    {
     "name": "stdout",
     "output_type": "stream",
     "text": [
      "Early stopping, best iteration is:\n",
      "[6]\tvalid_0's multi_error: 0.000687003\n"
     ]
    },
    {
     "name": "stderr",
     "output_type": "stream",
     "text": [
      "feature_fraction_stage2, val_score: 0.000687: 100%|##########| 3/3 [00:13<00:00,  4.75s/it][I 2023-08-01 06:59:56,724] Trial 39 finished with value: 0.0006870027664129255 and parameters: {'feature_fraction': 0.9840000000000001}. Best is trial 37 with value: 0.0006870027664129255.\n",
      "feature_fraction_stage2, val_score: 0.000687: 100%|##########| 3/3 [00:13<00:00,  4.66s/it]\n"
     ]
    },
    {
     "name": "stdout",
     "output_type": "stream",
     "text": [
      "Early stopping, best iteration is:\n",
      "[6]\tvalid_0's multi_error: 0.000687003\n"
     ]
    },
    {
     "name": "stderr",
     "output_type": "stream",
     "text": [
      "regularization_factors, val_score: 0.000687:   5%|5         | 1/20 [00:02<00:51,  2.73s/it][I 2023-08-01 06:59:59,455] Trial 40 finished with value: 0.0006870027664129255 and parameters: {'lambda_l1': 1.5567494941696047, 'lambda_l2': 3.230672386309174e-07}. Best is trial 40 with value: 0.0006870027664129255.\n",
      "regularization_factors, val_score: 0.000687:   5%|5         | 1/20 [00:02<00:51,  2.73s/it]"
     ]
    },
    {
     "name": "stdout",
     "output_type": "stream",
     "text": [
      "Early stopping, best iteration is:\n",
      "[6]\tvalid_0's multi_error: 0.000687003\n"
     ]
    },
    {
     "name": "stderr",
     "output_type": "stream",
     "text": [
      "regularization_factors, val_score: 0.000270:  10%|#         | 2/20 [00:09<01:28,  4.94s/it][I 2023-08-01 07:00:05,947] Trial 41 finished with value: 0.000269893943947935 and parameters: {'lambda_l1': 1.1052047345281341e-08, 'lambda_l2': 5.318307788626882}. Best is trial 41 with value: 0.000269893943947935.\n",
      "regularization_factors, val_score: 0.000270:  10%|#         | 2/20 [00:09<01:28,  4.94s/it]"
     ]
    },
    {
     "name": "stdout",
     "output_type": "stream",
     "text": [
      "Early stopping, best iteration is:\n",
      "[120]\tvalid_0's multi_error: 0.000269894\n"
     ]
    },
    {
     "name": "stderr",
     "output_type": "stream",
     "text": [
      "regularization_factors, val_score: 0.000270:  15%|#5        | 3/20 [00:15<01:35,  5.65s/it][I 2023-08-01 07:00:12,432] Trial 42 finished with value: 0.000269893943947935 and parameters: {'lambda_l1': 1.3662441974883361e-08, 'lambda_l2': 6.9231520324100835}. Best is trial 41 with value: 0.000269893943947935.\n",
      "regularization_factors, val_score: 0.000270:  15%|#5        | 3/20 [00:15<01:35,  5.65s/it]"
     ]
    },
    {
     "name": "stdout",
     "output_type": "stream",
     "text": [
      "Early stopping, best iteration is:\n",
      "[120]\tvalid_0's multi_error: 0.000269894\n"
     ]
    },
    {
     "name": "stderr",
     "output_type": "stream",
     "text": [
      "regularization_factors, val_score: 0.000270:  20%|##        | 4/20 [00:22<01:35,  5.97s/it][I 2023-08-01 07:00:18,892] Trial 43 finished with value: 0.000269893943947935 and parameters: {'lambda_l1': 1.558445785641092e-08, 'lambda_l2': 6.221304395721906}. Best is trial 41 with value: 0.000269893943947935.\n",
      "regularization_factors, val_score: 0.000270:  20%|##        | 4/20 [00:22<01:35,  5.97s/it]"
     ]
    },
    {
     "name": "stdout",
     "output_type": "stream",
     "text": [
      "Early stopping, best iteration is:\n",
      "[120]\tvalid_0's multi_error: 0.000269894\n"
     ]
    },
    {
     "name": "stderr",
     "output_type": "stream",
     "text": [
      "regularization_factors, val_score: 0.000270:  25%|##5       | 5/20 [00:28<01:32,  6.19s/it][I 2023-08-01 07:00:25,477] Trial 44 finished with value: 0.000269893943947935 and parameters: {'lambda_l1': 1.0962488187373397e-08, 'lambda_l2': 9.24869640919352}. Best is trial 41 with value: 0.000269893943947935.\n",
      "regularization_factors, val_score: 0.000270:  25%|##5       | 5/20 [00:28<01:32,  6.19s/it]"
     ]
    },
    {
     "name": "stdout",
     "output_type": "stream",
     "text": [
      "Early stopping, best iteration is:\n",
      "[120]\tvalid_0's multi_error: 0.000269894\n"
     ]
    },
    {
     "name": "stderr",
     "output_type": "stream",
     "text": [
      "regularization_factors, val_score: 0.000270:  30%|###       | 6/20 [00:35<01:28,  6.30s/it][I 2023-08-01 07:00:31,994] Trial 45 finished with value: 0.000269893943947935 and parameters: {'lambda_l1': 1.6950451919215518e-08, 'lambda_l2': 9.681727148862432}. Best is trial 41 with value: 0.000269893943947935.\n",
      "regularization_factors, val_score: 0.000270:  30%|###       | 6/20 [00:35<01:28,  6.30s/it]"
     ]
    },
    {
     "name": "stdout",
     "output_type": "stream",
     "text": [
      "Early stopping, best iteration is:\n",
      "[120]\tvalid_0's multi_error: 0.000269894\n"
     ]
    },
    {
     "name": "stderr",
     "output_type": "stream",
     "text": [
      "regularization_factors, val_score: 0.000270:  35%|###5      | 7/20 [00:41<01:22,  6.36s/it][I 2023-08-01 07:00:38,475] Trial 46 finished with value: 0.000269893943947935 and parameters: {'lambda_l1': 1.3150868005702281e-08, 'lambda_l2': 9.630181297405345}. Best is trial 41 with value: 0.000269893943947935.\n",
      "regularization_factors, val_score: 0.000270:  35%|###5      | 7/20 [00:41<01:22,  6.36s/it]"
     ]
    },
    {
     "name": "stdout",
     "output_type": "stream",
     "text": [
      "Early stopping, best iteration is:\n",
      "[120]\tvalid_0's multi_error: 0.000269894\n"
     ]
    },
    {
     "name": "stderr",
     "output_type": "stream",
     "text": [
      "regularization_factors, val_score: 0.000270:  40%|####      | 8/20 [00:48<01:17,  6.45s/it][I 2023-08-01 07:00:45,132] Trial 47 finished with value: 0.000269893943947935 and parameters: {'lambda_l1': 1.1764069481798252e-08, 'lambda_l2': 7.361824463895732}. Best is trial 41 with value: 0.000269893943947935.\n",
      "regularization_factors, val_score: 0.000270:  40%|####      | 8/20 [00:48<01:17,  6.45s/it]"
     ]
    },
    {
     "name": "stdout",
     "output_type": "stream",
     "text": [
      "Early stopping, best iteration is:\n",
      "[120]\tvalid_0's multi_error: 0.000269894\n"
     ]
    },
    {
     "name": "stderr",
     "output_type": "stream",
     "text": [
      "regularization_factors, val_score: 0.000270:  45%|####5     | 9/20 [00:54<01:11,  6.46s/it][I 2023-08-01 07:00:51,604] Trial 48 finished with value: 0.000269893943947935 and parameters: {'lambda_l1': 1.5816358367123752e-08, 'lambda_l2': 7.167107668263824}. Best is trial 41 with value: 0.000269893943947935.\n",
      "regularization_factors, val_score: 0.000270:  45%|####5     | 9/20 [00:54<01:11,  6.46s/it]"
     ]
    },
    {
     "name": "stdout",
     "output_type": "stream",
     "text": [
      "Early stopping, best iteration is:\n",
      "[120]\tvalid_0's multi_error: 0.000269894\n"
     ]
    },
    {
     "name": "stderr",
     "output_type": "stream",
     "text": [
      "regularization_factors, val_score: 0.000270:  50%|#####     | 10/20 [01:01<01:04,  6.46s/it][I 2023-08-01 07:00:58,052] Trial 49 finished with value: 0.000269893943947935 and parameters: {'lambda_l1': 1.0261742629975995e-08, 'lambda_l2': 7.306385585314022}. Best is trial 41 with value: 0.000269893943947935.\n",
      "regularization_factors, val_score: 0.000270:  50%|#####     | 10/20 [01:01<01:04,  6.46s/it]"
     ]
    },
    {
     "name": "stdout",
     "output_type": "stream",
     "text": [
      "Early stopping, best iteration is:\n",
      "[120]\tvalid_0's multi_error: 0.000269894\n"
     ]
    },
    {
     "name": "stderr",
     "output_type": "stream",
     "text": [
      "regularization_factors, val_score: 0.000270:  55%|#####5    | 11/20 [01:07<00:58,  6.52s/it][I 2023-08-01 07:01:04,706] Trial 50 finished with value: 0.000269893943947935 and parameters: {'lambda_l1': 1.557727127220928e-08, 'lambda_l2': 8.335279170364611}. Best is trial 41 with value: 0.000269893943947935.\n",
      "regularization_factors, val_score: 0.000270:  55%|#####5    | 11/20 [01:07<00:58,  6.52s/it]"
     ]
    },
    {
     "name": "stdout",
     "output_type": "stream",
     "text": [
      "Early stopping, best iteration is:\n",
      "[120]\tvalid_0's multi_error: 0.000269894\n"
     ]
    },
    {
     "name": "stderr",
     "output_type": "stream",
     "text": [
      "regularization_factors, val_score: 0.000270:  60%|######    | 12/20 [01:14<00:52,  6.53s/it][I 2023-08-01 07:01:11,263] Trial 51 finished with value: 0.000269893943947935 and parameters: {'lambda_l1': 1.1337406450551889e-08, 'lambda_l2': 8.056257183162769}. Best is trial 41 with value: 0.000269893943947935.\n",
      "regularization_factors, val_score: 0.000270:  60%|######    | 12/20 [01:14<00:52,  6.53s/it]"
     ]
    },
    {
     "name": "stdout",
     "output_type": "stream",
     "text": [
      "Early stopping, best iteration is:\n",
      "[120]\tvalid_0's multi_error: 0.000269894\n"
     ]
    },
    {
     "name": "stderr",
     "output_type": "stream",
     "text": [
      "regularization_factors, val_score: 0.000270:  65%|######5   | 13/20 [01:21<00:45,  6.53s/it][I 2023-08-01 07:01:17,810] Trial 52 finished with value: 0.000269893943947935 and parameters: {'lambda_l1': 2.019281100729572e-08, 'lambda_l2': 8.188133192513936}. Best is trial 41 with value: 0.000269893943947935.\n",
      "regularization_factors, val_score: 0.000270:  65%|######5   | 13/20 [01:21<00:45,  6.53s/it]"
     ]
    },
    {
     "name": "stdout",
     "output_type": "stream",
     "text": [
      "Early stopping, best iteration is:\n",
      "[120]\tvalid_0's multi_error: 0.000269894\n"
     ]
    },
    {
     "name": "stderr",
     "output_type": "stream",
     "text": [
      "regularization_factors, val_score: 0.000270:  70%|#######   | 14/20 [01:27<00:38,  6.40s/it][I 2023-08-01 07:01:23,890] Trial 53 finished with value: 0.000269893943947935 and parameters: {'lambda_l1': 5.886611283768599e-07, 'lambda_l2': 0.22590371032847295}. Best is trial 41 with value: 0.000269893943947935.\n",
      "regularization_factors, val_score: 0.000270:  70%|#######   | 14/20 [01:27<00:38,  6.40s/it]"
     ]
    },
    {
     "name": "stdout",
     "output_type": "stream",
     "text": [
      "Early stopping, best iteration is:\n",
      "[120]\tvalid_0's multi_error: 0.000269894\n"
     ]
    },
    {
     "name": "stderr",
     "output_type": "stream",
     "text": [
      "regularization_factors, val_score: 0.000270:  75%|#######5  | 15/20 [01:33<00:31,  6.32s/it][I 2023-08-01 07:01:30,022] Trial 54 finished with value: 0.000269893943947935 and parameters: {'lambda_l1': 9.60052678638952e-07, 'lambda_l2': 0.2215924216373986}. Best is trial 41 with value: 0.000269893943947935.\n",
      "regularization_factors, val_score: 0.000270:  75%|#######5  | 15/20 [01:33<00:31,  6.32s/it]"
     ]
    },
    {
     "name": "stdout",
     "output_type": "stream",
     "text": [
      "Early stopping, best iteration is:\n",
      "[120]\tvalid_0's multi_error: 0.000269894\n"
     ]
    },
    {
     "name": "stderr",
     "output_type": "stream",
     "text": [
      "regularization_factors, val_score: 0.000270:  80%|########  | 16/20 [01:39<00:24,  6.24s/it][I 2023-08-01 07:01:36,089] Trial 55 finished with value: 0.000269893943947935 and parameters: {'lambda_l1': 2.557251385675423e-07, 'lambda_l2': 0.37546011563474035}. Best is trial 41 with value: 0.000269893943947935.\n",
      "regularization_factors, val_score: 0.000270:  80%|########  | 16/20 [01:39<00:24,  6.24s/it]"
     ]
    },
    {
     "name": "stdout",
     "output_type": "stream",
     "text": [
      "Early stopping, best iteration is:\n",
      "[120]\tvalid_0's multi_error: 0.000269894\n"
     ]
    },
    {
     "name": "stderr",
     "output_type": "stream",
     "text": [
      "regularization_factors, val_score: 0.000270:  85%|########5 | 17/20 [01:45<00:18,  6.24s/it][I 2023-08-01 07:01:42,315] Trial 56 finished with value: 0.000269893943947935 and parameters: {'lambda_l1': 1.6364273955992725e-07, 'lambda_l2': 0.46794490809275885}. Best is trial 41 with value: 0.000269893943947935.\n",
      "regularization_factors, val_score: 0.000270:  85%|########5 | 17/20 [01:45<00:18,  6.24s/it]"
     ]
    },
    {
     "name": "stdout",
     "output_type": "stream",
     "text": [
      "Early stopping, best iteration is:\n",
      "[120]\tvalid_0's multi_error: 0.000269894\n"
     ]
    },
    {
     "name": "stderr",
     "output_type": "stream",
     "text": [
      "regularization_factors, val_score: 0.000270:  90%|######### | 18/20 [01:51<00:12,  6.28s/it][I 2023-08-01 07:01:48,699] Trial 57 finished with value: 0.000269893943947935 and parameters: {'lambda_l1': 2.006079319741042e-07, 'lambda_l2': 0.7758768589895395}. Best is trial 41 with value: 0.000269893943947935.\n",
      "regularization_factors, val_score: 0.000270:  90%|######### | 18/20 [01:51<00:12,  6.28s/it]"
     ]
    },
    {
     "name": "stdout",
     "output_type": "stream",
     "text": [
      "Early stopping, best iteration is:\n",
      "[120]\tvalid_0's multi_error: 0.000269894\n"
     ]
    },
    {
     "name": "stderr",
     "output_type": "stream",
     "text": [
      "regularization_factors, val_score: 0.000270:  95%|#########5| 19/20 [02:00<00:06,  6.91s/it][I 2023-08-01 07:01:57,089] Trial 58 finished with value: 0.000269893943947935 and parameters: {'lambda_l1': 7.452076024237545e-08, 'lambda_l2': 0.0035775214336155204}. Best is trial 41 with value: 0.000269893943947935.\n",
      "regularization_factors, val_score: 0.000270:  95%|#########5| 19/20 [02:00<00:06,  6.91s/it]"
     ]
    },
    {
     "name": "stdout",
     "output_type": "stream",
     "text": [
      "Early stopping, best iteration is:\n",
      "[120]\tvalid_0's multi_error: 0.000269894\n"
     ]
    },
    {
     "name": "stderr",
     "output_type": "stream",
     "text": [
      "regularization_factors, val_score: 0.000270: 100%|##########| 20/20 [02:06<00:00,  6.77s/it][I 2023-08-01 07:02:03,526] Trial 59 finished with value: 0.000269893943947935 and parameters: {'lambda_l1': 3.2605916771158563e-06, 'lambda_l2': 1.314762739210139}. Best is trial 41 with value: 0.000269893943947935.\n",
      "regularization_factors, val_score: 0.000270: 100%|##########| 20/20 [02:06<00:00,  6.34s/it]\n"
     ]
    },
    {
     "name": "stdout",
     "output_type": "stream",
     "text": [
      "Early stopping, best iteration is:\n",
      "[120]\tvalid_0's multi_error: 0.000269894\n"
     ]
    },
    {
     "name": "stderr",
     "output_type": "stream",
     "text": [
      "min_data_in_leaf, val_score: 0.000270:  20%|##        | 1/5 [00:06<00:26,  6.55s/it][I 2023-08-01 07:02:10,087] Trial 60 finished with value: 0.000269893943947935 and parameters: {'min_child_samples': 10}. Best is trial 60 with value: 0.000269893943947935.\n",
      "min_data_in_leaf, val_score: 0.000270:  20%|##        | 1/5 [00:06<00:26,  6.55s/it]"
     ]
    },
    {
     "name": "stdout",
     "output_type": "stream",
     "text": [
      "Early stopping, best iteration is:\n",
      "[120]\tvalid_0's multi_error: 0.000269894\n"
     ]
    },
    {
     "name": "stderr",
     "output_type": "stream",
     "text": [
      "min_data_in_leaf, val_score: 0.000270:  40%|####      | 2/5 [00:13<00:19,  6.55s/it][I 2023-08-01 07:02:16,642] Trial 61 finished with value: 0.000269893943947935 and parameters: {'min_child_samples': 100}. Best is trial 60 with value: 0.000269893943947935.\n",
      "min_data_in_leaf, val_score: 0.000270:  40%|####      | 2/5 [00:13<00:19,  6.55s/it]"
     ]
    },
    {
     "name": "stdout",
     "output_type": "stream",
     "text": [
      "Early stopping, best iteration is:\n",
      "[120]\tvalid_0's multi_error: 0.000269894\n"
     ]
    },
    {
     "name": "stderr",
     "output_type": "stream",
     "text": [
      "min_data_in_leaf, val_score: 0.000270:  60%|######    | 3/5 [00:19<00:13,  6.54s/it][I 2023-08-01 07:02:23,175] Trial 62 finished with value: 0.000269893943947935 and parameters: {'min_child_samples': 50}. Best is trial 60 with value: 0.000269893943947935.\n",
      "min_data_in_leaf, val_score: 0.000270:  60%|######    | 3/5 [00:19<00:13,  6.54s/it]"
     ]
    },
    {
     "name": "stdout",
     "output_type": "stream",
     "text": [
      "Early stopping, best iteration is:\n",
      "[120]\tvalid_0's multi_error: 0.000269894\n"
     ]
    },
    {
     "name": "stderr",
     "output_type": "stream",
     "text": [
      "min_data_in_leaf, val_score: 0.000270:  80%|########  | 4/5 [00:26<00:06,  6.50s/it][I 2023-08-01 07:02:29,619] Trial 63 finished with value: 0.000269893943947935 and parameters: {'min_child_samples': 5}. Best is trial 60 with value: 0.000269893943947935.\n",
      "min_data_in_leaf, val_score: 0.000270:  80%|########  | 4/5 [00:26<00:06,  6.50s/it]"
     ]
    },
    {
     "name": "stdout",
     "output_type": "stream",
     "text": [
      "Early stopping, best iteration is:\n",
      "[120]\tvalid_0's multi_error: 0.000269894\n"
     ]
    },
    {
     "name": "stderr",
     "output_type": "stream",
     "text": [
      "min_data_in_leaf, val_score: 0.000270: 100%|##########| 5/5 [00:32<00:00,  6.56s/it][I 2023-08-01 07:02:36,275] Trial 64 finished with value: 0.000269893943947935 and parameters: {'min_child_samples': 25}. Best is trial 60 with value: 0.000269893943947935.\n",
      "min_data_in_leaf, val_score: 0.000270: 100%|##########| 5/5 [00:32<00:00,  6.55s/it]"
     ]
    },
    {
     "name": "stdout",
     "output_type": "stream",
     "text": [
      "Early stopping, best iteration is:\n",
      "[120]\tvalid_0's multi_error: 0.000269894\n"
     ]
    },
    {
     "name": "stderr",
     "output_type": "stream",
     "text": [
      "\n"
     ]
    }
   ],
   "source": [
    "import optuna.integration.lightgbm as lgb\n",
    "lgb_train = lgb.Dataset(x_train, y_train)\n",
    "lgb_eval = lgb.Dataset(x_test, y_test, reference=lgb_train)\n",
    "# LightGBM parameters\n",
    "params = {\n",
    "        'task': 'train',\n",
    "        'boosting_type': 'gbdt',\n",
    "        'objective': 'multiclass',\n",
    "        'num_class': 5,\n",
    "        'metric': 'multi_error', # 評価指標 : 誤り率(= 1-正答率)  another multi_logloss\n",
    "        'learning_rate': 0.1,\n",
    "        'num_leaves': 23,\n",
    "        'min_data_in_leaf': 1,\n",
    "        'verbose': -1,\n",
    "        'random_state': RANDOM_SEED, \n",
    "}\n",
    "\n",
    "# モデルの学習\n",
    "model = lgb.train(params, # パラメータ\n",
    "                   lgb_train, # トレーニングデータの指定\n",
    "                    valid_sets=[lgb_eval], # 検証データの指定\n",
    "                    callbacks=[lgb.early_stopping(50)],\n",
    "               )\n"
   ],
   "metadata": {
    "collapsed": false,
    "ExecuteTime": {
     "end_time": "2023-07-31T22:02:36.299173200Z",
     "start_time": "2023-07-31T21:57:04.199219100Z"
    }
   },
   "id": "f627893ef828e629"
  },
  {
   "cell_type": "code",
   "execution_count": 41,
   "outputs": [
    {
     "data": {
      "text/plain": "0    129185\n1     32118\n2      1346\n3       362\n4        16\ndtype: int64"
     },
     "execution_count": 41,
     "metadata": {},
     "output_type": "execute_result"
    }
   ],
   "source": [
    "y_pred_prob = params.predict(x_test)\n",
    "# テストデータの予測 (予測クラス(0 or 1 or...)を返す)\n",
    "y_pred = np.argmax(y_pred_prob, axis=1) # 一番大きい予測確率のクラスを予測クラスに\n",
    "y_pred = pd.Series(y_pred)\n",
    "y_pred.value_counts()"
   ],
   "metadata": {
    "collapsed": false,
    "ExecuteTime": {
     "end_time": "2023-07-31T22:12:05.835148700Z",
     "start_time": "2023-07-31T22:12:04.753229500Z"
    }
   },
   "id": "a7e2bd2e0ebffe0a"
  },
  {
   "cell_type": "code",
   "execution_count": 42,
   "outputs": [
    {
     "name": "stdout",
     "output_type": "stream",
     "text": [
      "              precision    recall  f1-score   support\n",
      "\n",
      "         dos       1.00      1.00      1.00    129181\n",
      "      normal       1.00      1.00      1.00     32102\n",
      "       probe       1.00      0.99      0.99      1355\n",
      "         r2l       1.00      0.97      0.98       372\n",
      "         u2r       0.75      0.71      0.73        17\n",
      "\n",
      "    accuracy                           1.00    163027\n",
      "   macro avg       0.95      0.93      0.94    163027\n",
      "weighted avg       1.00      1.00      1.00    163027\n"
     ]
    }
   ],
   "source": [
    "print(classification_report(y_test, y_pred, target_names=correspondences.keys()))"
   ],
   "metadata": {
    "collapsed": false,
    "ExecuteTime": {
     "end_time": "2023-07-31T22:12:29.859173200Z",
     "start_time": "2023-07-31T22:12:29.720935100Z"
    }
   },
   "id": "8df2499b5a54cca4"
  },
  {
   "cell_type": "code",
   "execution_count": 46,
   "outputs": [
    {
     "data": {
      "text/plain": "{'task': 'train',\n 'boosting_type': 'gbdt',\n 'objective': 'multiclass',\n 'num_class': 5,\n 'metric': 'multi_error',\n 'learning_rate': 0.1,\n 'num_leaves': 148,\n 'min_data_in_leaf': 1,\n 'verbose': -1,\n 'random_state': 2018,\n 'feature_pre_filter': False,\n 'lambda_l1': 1.1052047345281341e-08,\n 'lambda_l2': 5.318307788626882,\n 'feature_fraction': 1.0,\n 'bagging_fraction': 1.0,\n 'bagging_freq': 0,\n 'min_child_samples': 20,\n 'num_iterations': 1000,\n 'early_stopping_round': None}"
     },
     "execution_count": 46,
     "metadata": {},
     "output_type": "execute_result"
    }
   ],
   "source": [
    "# \n",
    "model.params"
   ],
   "metadata": {
    "collapsed": false,
    "ExecuteTime": {
     "end_time": "2023-07-31T22:53:45.923962800Z",
     "start_time": "2023-07-31T22:53:45.877304700Z"
    }
   },
   "id": "b9657c540f005b38"
  },
  {
   "cell_type": "code",
   "execution_count": 47,
   "outputs": [
    {
     "name": "stdout",
     "output_type": "stream",
     "text": [
      "dos    TP: 129177, TN: 33838, FP: 8, FN: 4\n",
      "normal    TP: 32090, TN: 130897, FP: 28, FN: 12\n",
      "probe    TP: 1343, TN: 161669, FP: 3, FN: 12\n",
      "r2l    TP: 361, TN: 162654, FP: 1, FN: 11\n",
      "u2r    TP: 12, TN: 163006, FP: 4, FN: 5\n"
     ]
    }
   ],
   "source": [
    "for key, confusion_matrix in zip(correspondences.keys(), multilabel_confusion_matrix(y_test, y_pred)):\n",
    "    print(f\"{key}    TP: {confusion_matrix[1][1]}, TN: {confusion_matrix[0][0]}, FP: {confusion_matrix[0][1]}, FN: {confusion_matrix[1][0]}\")"
   ],
   "metadata": {
    "collapsed": false,
    "ExecuteTime": {
     "end_time": "2023-07-31T22:56:44.649071900Z",
     "start_time": "2023-07-31T22:56:44.609279400Z"
    }
   },
   "id": "c701e7a4f38bdb84"
  },
  {
   "cell_type": "code",
   "execution_count": null,
   "outputs": [],
   "source": [],
   "metadata": {
    "collapsed": false
   },
   "id": "438b52f96e94929c"
  }
 ],
 "metadata": {
  "kernelspec": {
   "display_name": "Python 3",
   "language": "python",
   "name": "python3"
  },
  "language_info": {
   "codemirror_mode": {
    "name": "ipython",
    "version": 2
   },
   "file_extension": ".py",
   "mimetype": "text/x-python",
   "name": "python",
   "nbconvert_exporter": "python",
   "pygments_lexer": "ipython2",
   "version": "2.7.6"
  }
 },
 "nbformat": 4,
 "nbformat_minor": 5
}
