{
 "cells": [
  {
   "cell_type": "code",
   "execution_count": 1,
   "metadata": {},
   "outputs": [],
   "source": [
    "import base64\n",
    "import json\n",
    "import pandas as pd\n",
    "import numpy as np\n",
    "preprocesses = (\n",
    "    'none',\n",
    "    'ae_standardization',\n",
    "    'ae_normalization',\n",
    "    'standardization',\n",
    "    'normalization'\n",
    ")\n",
    "layers = (\n",
    "    [0],\n",
    "    [20, 10, 5],\n",
    "    [20, 15, 10],\n",
    "    [20, 15, 10, 5]\n",
    ")\n",
    "models = ('lr', 'svm', 'rf', 'mp', 'lgb')\n",
    "mdl_dict = {\n",
    "    'lr': 'Logistic Regression',\n",
    "    'svm': 'SVM',\n",
    "    'rf': 'Random Forest',\n",
    "    'mp': 'Multi Perceptron',\n",
    "    'lgb': 'LightGBM'\n",
    "}\n",
    "\n",
    "datasets = ('kdd99', 'kdd99_dropped', 'creditcardfraud', 'ecoli', 'optical_digits', 'satimage', 'pen_digits', 'abalone', 'sick_euthyroid',\n",
    "              'spectrometer', 'car_eval_34', 'isolet', 'us_crime', 'yeast_ml8', 'scene', 'libras_move', 'thyroid_sick', 'coil_2000',\n",
    "              'arrhythmia', 'solar_flare_m0', 'oil', 'car_eval_4', 'wine_quality', 'letter_img', 'yeast_me2', 'webpage',\n",
    "              'ozone_level', 'mammography', 'protein_homo', 'abalone_19')\n",
    "\n",
    "used_classes = ('all', 'minority', 'majority')\n",
    "\n",
    "\n",
    "def gen_hash(preprocess, layer, model, dataset, used_class, optuna) -> str:\n",
    "    return base64.b64encode(\"\".join([\n",
    "        str(preprocess),\n",
    "        str(layer),\n",
    "        str(model),\n",
    "        str(dataset),\n",
    "        str(used_class),\n",
    "        str(optuna)\n",
    "    ]).encode()).decode()"
   ]
  },
  {
   "cell_type": "code",
   "execution_count": 2,
   "metadata": {},
   "outputs": [],
   "source": [
    "def macro_f1(l: list):\n",
    "    return np.mean([item['result']['macro']['f1'] for item in l])\n",
    "def minority_f1(l: list):\n",
    "    return np.mean([item['result']['minority']['f1'] for item in l])"
   ]
  },
  {
   "cell_type": "code",
   "execution_count": 3,
   "metadata": {},
   "outputs": [],
   "source": [
    "with open(\"results/results.json\") as f:\n",
    "        data = json.load(f)\n",
    "results = dict()\n",
    "for result in data:\n",
    "    results[result['hash']] = result"
   ]
  },
  {
   "cell_type": "code",
   "execution_count": 4,
   "metadata": {},
   "outputs": [
    {
     "data": {
      "text/plain": [
       "959"
      ]
     },
     "execution_count": 4,
     "metadata": {},
     "output_type": "execute_result"
    }
   ],
   "source": [
    "results_op_f = list()\n",
    "for _h in results:\n",
    "    if results[_h]['ae']['layers'] == [0] and results[_h]['ae']['used_class'] != 'all':\n",
    "        continue\n",
    "    if results[_h]['model']['optuna']:\n",
    "        results_op_f.append(results[_h])\n",
    "len(results_op_f)"
   ]
  },
  {
   "cell_type": "code",
   "execution_count": 5,
   "metadata": {},
   "outputs": [
    {
     "data": {
      "text/plain": [
       "(875, 40)"
      ]
     },
     "execution_count": 5,
     "metadata": {},
     "output_type": "execute_result"
    }
   ],
   "source": [
    "results_op_f_ae_none = list()\n",
    "results_op_f_ae = list()\n",
    "for item in results_op_f:\n",
    "    if item['ae']['layers'] == [0]:\n",
    "        if not item['ae'][\"standardization\"] and not item['ae'][\"normalization\"]:\n",
    "            results_op_f_ae_none.append(item)\n",
    "    else:\n",
    "        results_op_f_ae.append(item)\n",
    "len(results_op_f_ae), len(results_op_f_ae_none)"
   ]
  },
  {
   "cell_type": "code",
   "execution_count": 6,
   "metadata": {},
   "outputs": [
    {
     "name": "stdout",
     "output_type": "stream",
     "text": [
      "minority_f1_ae_none_avg: 0.5756\n",
      "minority_f1_ae_avg: 0.5199\n",
      "macro_f1_ae_none_avg: 0.8133\n",
      "macro_f1_ae_avg: 0.7558\n"
     ]
    }
   ],
   "source": [
    "minority_f1_ae_none_avg = minority_f1(results_op_f_ae_none)\n",
    "minority_f1_ae_avg = minority_f1(results_op_f_ae)\n",
    "\n",
    "macro_f1_ae_none_avg = macro_f1(results_op_f_ae_none)\n",
    "macro_f1_ae_avg = macro_f1(results_op_f_ae)\n",
    "print(f\"minority_f1_ae_none_avg: {minority_f1_ae_none_avg:.4f}\")\n",
    "print(f\"minority_f1_ae_avg: {minority_f1_ae_avg:.4f}\")\n",
    "print(f\"macro_f1_ae_none_avg: {macro_f1_ae_none_avg:.4f}\")\n",
    "print(f\"macro_f1_ae_avg: {macro_f1_ae_avg:.4f}\")"
   ]
  },
  {
   "cell_type": "code",
   "execution_count": 7,
   "metadata": {},
   "outputs": [
    {
     "data": {
      "text/plain": [
       "(245, 21, 609)"
      ]
     },
     "execution_count": 7,
     "metadata": {},
     "output_type": "execute_result"
    }
   ],
   "source": [
    "results_aeclass_all = list()\n",
    "results_aeclass_minority = list()\n",
    "results_aeclass_majority = list()\n",
    "for item in results_op_f_ae:\n",
    "    if item['ae']['used_class'] == 'all':\n",
    "        results_aeclass_all.append(item)\n",
    "    elif item['ae']['used_class'] == 'minority':\n",
    "        results_aeclass_minority.append(item)\n",
    "    elif item['ae']['used_class'] == 'majority':\n",
    "        results_aeclass_majority.append(item)\n",
    "len(results_aeclass_all), len(results_aeclass_minority), len(results_aeclass_majority)"
   ]
  },
  {
   "cell_type": "code",
   "execution_count": 8,
   "metadata": {},
   "outputs": [
    {
     "data": {
      "text/plain": [
       "(0.7555404081632654, 0.754404105090312, 0.798895238095238)"
      ]
     },
     "execution_count": 8,
     "metadata": {},
     "output_type": "execute_result"
    }
   ],
   "source": [
    "macro_f1(results_aeclass_all), macro_f1(results_aeclass_majority), macro_f1(results_aeclass_minority)"
   ]
  },
  {
   "cell_type": "code",
   "execution_count": 9,
   "metadata": {},
   "outputs": [
    {
     "data": {
      "text/plain": [
       "(0.5199057142857143, 0.5178307060755337, 0.5811285714285713)"
      ]
     },
     "execution_count": 9,
     "metadata": {},
     "output_type": "execute_result"
    }
   ],
   "source": [
    "minority_f1(results_aeclass_all), minority_f1(results_aeclass_majority), minority_f1(results_aeclass_minority)"
   ]
  },
  {
   "cell_type": "code",
   "execution_count": 10,
   "metadata": {},
   "outputs": [
    {
     "data": {
      "text/plain": [
       "(84, 250, 181, 444)"
      ]
     },
     "execution_count": 10,
     "metadata": {},
     "output_type": "execute_result"
    }
   ],
   "source": [
    "results_0 = []\n",
    "results_20_10_5 = []\n",
    "results_20_15_10 = []\n",
    "results_20_15_10_5 = []\n",
    "for item in results_op_f:\n",
    "    if item['ae']['layers'] == [0]:\n",
    "        results_0.append(item)\n",
    "    elif item['ae']['layers'] == [20, 10, 5]:\n",
    "        results_20_10_5.append(item)\n",
    "    elif item['ae']['layers'] == [20, 15, 10]:\n",
    "        results_20_15_10.append(item)\n",
    "    elif item['ae']['layers'] == [20, 15, 10, 5]:\n",
    "        results_20_15_10_5.append(item)\n",
    "len(results_0), len(results_20_10_5), len(results_20_15_10), len(results_20_15_10_5)"
   ]
  },
  {
   "cell_type": "code",
   "execution_count": 11,
   "metadata": {},
   "outputs": [
    {
     "data": {
      "text/plain": [
       "(0.5487476190476192, 0.5254052, 0.5299497237569061, 0.5127641891891892)"
      ]
     },
     "execution_count": 11,
     "metadata": {},
     "output_type": "execute_result"
    }
   ],
   "source": [
    "minority_f1(results_0), minority_f1(results_20_10_5), minority_f1(results_20_15_10), minority_f1(results_20_15_10_5)"
   ]
  },
  {
   "cell_type": "code",
   "execution_count": 12,
   "metadata": {},
   "outputs": [
    {
     "data": {
      "text/plain": [
       "(0.7823380952380953, 0.762338, 0.7592790055248617, 0.7506808558558559)"
      ]
     },
     "execution_count": 12,
     "metadata": {},
     "output_type": "execute_result"
    }
   ],
   "source": [
    "macro_f1(results_0), macro_f1(results_20_10_5), macro_f1(results_20_15_10), macro_f1(results_20_15_10_5)"
   ]
  },
  {
   "cell_type": "code",
   "execution_count": 13,
   "metadata": {},
   "outputs": [
    {
     "data": {
      "text/plain": [
       "(48, 297, 0, 530, 0)"
      ]
     },
     "execution_count": 13,
     "metadata": {},
     "output_type": "execute_result"
    }
   ],
   "source": [
    "results_ae_none = []\n",
    "results_ae_s = []\n",
    "results_ae_n = []\n",
    "results_ae_aes = []\n",
    "results_ae_aen = []\n",
    "for item in results_op_f_ae:\n",
    "    if not item['dataset']['standardization'] and not item['dataset']['normalization']:\n",
    "        results_ae_none.append(item)\n",
    "    elif item['dataset']['standardization'] and not item['ae']['standardization']:\n",
    "        results_ae_s.append(item)\n",
    "    elif item['dataset']['normalization'] and not item['ae']['normalization']:\n",
    "        results_ae_n.append(item)\n",
    "    elif item['dataset']['standardization'] and item['ae']['standardization']:\n",
    "        results_ae_aes.append(item)\n",
    "    elif item['dataset']['normalization'] and item['ae']['normalization']:\n",
    "        results_ae_aen.append(item)\n",
    "len(results_ae_none), len(results_ae_s), len(results_ae_n), len(results_ae_aes), len(results_ae_aen)"
   ]
  },
  {
   "cell_type": "code",
   "execution_count": 14,
   "metadata": {},
   "outputs": [
    {
     "name": "stdout",
     "output_type": "stream",
     "text": [
      "minority_f1_none_avg: 0.5559\n",
      "minority_f1_s_avg: 0.5083\n",
      "minority_f1_aes_avg: 0.5232\n",
      "minority_f1_n_avg: nan\n",
      "minority_f1_aen_avg: nan\n"
     ]
    },
    {
     "name": "stderr",
     "output_type": "stream",
     "text": [
      "/Users/rsato/ml/.venv/lib/python3.9/site-packages/numpy/core/fromnumeric.py:3504: RuntimeWarning: Mean of empty slice.\n",
      "  return _methods._mean(a, axis=axis, dtype=dtype,\n",
      "/Users/rsato/ml/.venv/lib/python3.9/site-packages/numpy/core/_methods.py:129: RuntimeWarning: invalid value encountered in scalar divide\n",
      "  ret = ret.dtype.type(ret / rcount)\n"
     ]
    }
   ],
   "source": [
    "print(f\"minority_f1_none_avg: {minority_f1(results_ae_none):.4f}\")\n",
    "print(f\"minority_f1_s_avg: {minority_f1(results_ae_s):.4f}\")\n",
    "print(f\"minority_f1_aes_avg: {minority_f1(results_ae_aes):.4f}\")\n",
    "print(f\"minority_f1_n_avg: {minority_f1(results_ae_n):.4f}\")\n",
    "print(f\"minority_f1_aen_avg: {minority_f1(results_ae_aen):.4f}\")"
   ]
  },
  {
   "cell_type": "code",
   "execution_count": 15,
   "metadata": {},
   "outputs": [
    {
     "name": "stdout",
     "output_type": "stream",
     "text": [
      "macro_f1_none_avg: 0.7643\n",
      "macro_f1_s_avg: 0.7502\n",
      "macro_f1_aes_avg: 0.7581\n",
      "macro_f1_n_avg: nan\n",
      "macro_f1_aen_avg: nan\n"
     ]
    }
   ],
   "source": [
    "print(f\"macro_f1_none_avg: {macro_f1(results_ae_none):.4f}\")\n",
    "print(f\"macro_f1_s_avg: {macro_f1(results_ae_s):.4f}\")\n",
    "print(f\"macro_f1_aes_avg: {macro_f1(results_ae_aes):.4f}\")\n",
    "print(f\"macro_f1_n_avg: {macro_f1(results_ae_n):.4f}\")\n",
    "print(f\"macro_f1_aen_avg: {macro_f1(results_ae_aen):.4f}\")"
   ]
  },
  {
   "cell_type": "code",
   "execution_count": 16,
   "metadata": {},
   "outputs": [
    {
     "data": {
      "text/plain": [
       "(27, 13, 0)"
      ]
     },
     "execution_count": 16,
     "metadata": {},
     "output_type": "execute_result"
    }
   ],
   "source": [
    "results_none = []\n",
    "results_s = []\n",
    "results_n = []\n",
    "for item in results_op_f_ae_none:\n",
    "    if not item['dataset']['standardization'] and not item['dataset']['normalization']:\n",
    "        results_none.append(item)\n",
    "    elif item['dataset']['standardization']:\n",
    "        results_s.append(item)\n",
    "    elif item['dataset']['normalization']:\n",
    "        results_n.append(item)\n",
    "len(results_none), len(results_s), len(results_n)"
   ]
  },
  {
   "cell_type": "code",
   "execution_count": 17,
   "metadata": {},
   "outputs": [
    {
     "data": {
      "text/plain": [
       "40"
      ]
     },
     "execution_count": 17,
     "metadata": {},
     "output_type": "execute_result"
    }
   ],
   "source": [
    "len(results_op_f_ae_none)"
   ]
  },
  {
   "cell_type": "code",
   "execution_count": 18,
   "metadata": {},
   "outputs": [
    {
     "name": "stdout",
     "output_type": "stream",
     "text": [
      "minority_f1_none_avg: 0.5566\n",
      "minority_f1_s_avg: 0.6151\n",
      "minority_f1_n_avg: nan\n"
     ]
    }
   ],
   "source": [
    "print(f\"minority_f1_none_avg: {minority_f1(results_none):.4f}\")\n",
    "print(f\"minority_f1_s_avg: {minority_f1(results_s):.4f}\")\n",
    "print(f\"minority_f1_n_avg: {minority_f1(results_n):.4f}\")\n"
   ]
  },
  {
   "cell_type": "code",
   "execution_count": 19,
   "metadata": {},
   "outputs": [
    {
     "name": "stdout",
     "output_type": "stream",
     "text": [
      "macro_f1_none_avg: 0.7849\n",
      "macro_f1_s_avg: 0.8724\n",
      "macro_f1_n_avg: nan\n"
     ]
    }
   ],
   "source": [
    "print(f\"macro_f1_none_avg: {macro_f1(results_none):.4f}\")\n",
    "print(f\"macro_f1_s_avg: {macro_f1(results_s):.4f}\")\n",
    "print(f\"macro_f1_n_avg: {macro_f1(results_n):.4f}\")"
   ]
  },
  {
   "cell_type": "code",
   "execution_count": 20,
   "metadata": {},
   "outputs": [
    {
     "data": {
      "text/plain": [
       "(0.7243972222222221,\n",
       " 0.7601666666666668,\n",
       " 0.7414132530120481,\n",
       " 0.7444932584269663)"
      ]
     },
     "execution_count": 20,
     "metadata": {},
     "output_type": "execute_result"
    }
   ],
   "source": [
    "lr_0 = [item['result']['macro']['f1'] for item in results_0 if item['model']['name'] == 'lr']\n",
    "lr_20_10_5 = [item['result']['macro']['f1'] for item in results_20_10_5 if item['model']['name'] == 'lr']\n",
    "lr_20_15_10 = [item['result']['macro']['f1'] for item in results_20_15_10 if item['model']['name'] == 'lr']\n",
    "lr_20_15_10_5 = [item['result']['macro']['f1'] for item in results_20_15_10_5 if item['model']['name'] == 'lr']\n",
    "np.mean(lr_0), np.mean(lr_20_10_5), np.mean(lr_20_15_10), np.mean(lr_20_15_10_5)"
   ]
  },
  {
   "cell_type": "code",
   "execution_count": 21,
   "metadata": {},
   "outputs": [
    {
     "data": {
      "text/plain": [
       "(0.7962848484848485, nan, 0.7912052631578946, 0.7616693693693695)"
      ]
     },
     "execution_count": 21,
     "metadata": {},
     "output_type": "execute_result"
    }
   ],
   "source": [
    "svm_0 = [item['result']['macro']['f1'] for item in results_0 if item['model']['name'] == 'svm']\n",
    "svm_20_10_5 = [item['result']['macro']['f1'] for item in results_20_10_5 if item['model']['name'] == 'svm']\n",
    "svm_20_15_10 = [item['result']['macro']['f1'] for item in results_20_15_10 if item['model']['name'] == 'svm']\n",
    "svm_20_15_10_5 = [item['result']['macro']['f1'] for item in results_20_15_10_5 if item['model']['name'] == 'svm']\n",
    "np.mean(svm_0), np.mean(svm_20_10_5), np.mean(svm_20_15_10), np.mean(svm_20_15_10_5)\n"
   ]
  },
  {
   "cell_type": "code",
   "execution_count": 22,
   "metadata": {},
   "outputs": [
    {
     "data": {
      "text/plain": [
       "(0.9201666666666668, 0.7422085714285714, nan, 0.7031807228915662)"
      ]
     },
     "execution_count": 22,
     "metadata": {},
     "output_type": "execute_result"
    }
   ],
   "source": [
    "rf_0 = [item['result']['macro']['f1'] for item in results_0 if item['model']['name'] == 'rf']\n",
    "rf_20_10_5 = [item['result']['macro']['f1'] for item in results_20_10_5 if item['model']['name'] == 'rf']\n",
    "rf_20_15_10 = [item['result']['macro']['f1'] for item in results_20_15_10 if item['model']['name'] == 'rf']\n",
    "rf_20_15_10_5 = [item['result']['macro']['f1'] for item in results_20_15_10_5 if item['model']['name'] == 'rf']\n",
    "np.mean(rf_0), np.mean(rf_20_10_5), np.mean(rf_20_15_10), np.mean(rf_20_15_10_5)"
   ]
  },
  {
   "cell_type": "code",
   "execution_count": 23,
   "metadata": {},
   "outputs": [
    {
     "data": {
      "text/plain": [
       "(0.8873000000000001,\n",
       " 0.7742662921348314,\n",
       " 0.7683800000000001,\n",
       " 0.7743374999999998)"
      ]
     },
     "execution_count": 23,
     "metadata": {},
     "output_type": "execute_result"
    }
   ],
   "source": [
    "lgb_0 = [item['result']['macro']['f1'] for item in results_0 if item['model']['name'] == 'lgb']\n",
    "lgb_20_10_5 = [item['result']['macro']['f1'] for item in results_20_10_5 if item['model']['name'] == 'lgb']\n",
    "lgb_20_15_10 = [item['result']['macro']['f1'] for item in results_20_15_10 if item['model']['name'] == 'lgb']\n",
    "lgb_20_15_10_5 = [item['result']['macro']['f1'] for item in results_20_15_10_5 if item['model']['name'] == 'lgb']\n",
    "np.mean(lgb_0), np.mean(lgb_20_10_5), np.mean(lgb_20_15_10), np.mean(lgb_20_15_10_5)"
   ]
  },
  {
   "cell_type": "code",
   "execution_count": 24,
   "metadata": {},
   "outputs": [
    {
     "data": {
      "text/plain": [
       "(0.8386333333333335,\n",
       " 0.7590533333333334,\n",
       " 0.7591666666666668,\n",
       " 0.7670054794520549)"
      ]
     },
     "execution_count": 24,
     "metadata": {},
     "output_type": "execute_result"
    }
   ],
   "source": [
    "mp_0 = [item['result']['macro']['f1'] for item in results_0 if item['model']['name'] == 'mp']\n",
    "mp_20_10_5 = [item['result']['macro']['f1'] for item in results_20_10_5 if item['model']['name'] == 'mp']\n",
    "mp_20_15_10 = [item['result']['macro']['f1'] for item in results_20_15_10 if item['model']['name'] == 'mp']\n",
    "mp_20_15_10_5 = [item['result']['macro']['f1'] for item in results_20_15_10_5 if item['model']['name'] == 'mp']\n",
    "np.mean(mp_0), np.mean(mp_20_10_5), np.mean(mp_20_15_10), np.mean(mp_20_15_10_5)"
   ]
  },
  {
   "cell_type": "code",
   "execution_count": 25,
   "metadata": {},
   "outputs": [
    {
     "data": {
      "text/plain": [
       "30"
      ]
     },
     "execution_count": 25,
     "metadata": {},
     "output_type": "execute_result"
    }
   ],
   "source": [
    "results_datasets = dict()\n",
    "for dataset in results_op_f:\n",
    "    if dataset['dataset']['name'] not in results_datasets:\n",
    "        results_datasets[dataset['dataset']['name']] = list()\n",
    "    results_datasets[dataset['dataset']['name']].append(dataset)\n",
    "len(results_datasets)"
   ]
  },
  {
   "cell_type": "code",
   "execution_count": 26,
   "metadata": {},
   "outputs": [],
   "source": [
    "best_macro = dict()\n",
    "for item in results_op_f:\n",
    "    if best_macro.get(item['dataset']['name']) is None or best_macro[item['dataset']['name']]['result']['macro']['f1'] < item['result']['macro']['f1']:\n",
    "        best_macro[item['dataset']['name']] = item"
   ]
  },
  {
   "cell_type": "code",
   "execution_count": 28,
   "metadata": {},
   "outputs": [
    {
     "name": "stdout",
     "output_type": "stream",
     "text": [
      "libras_move & 標準化 & 標準化 & [20, 15, 10, 5] & Multi Perceptron & 0.9217\\\\\n",
      "arrhythmia & 標準化 & 標準化 & [20, 15, 10, 5] & LightGBM & 0.7506\\\\\n",
      "oil & 標準化 & 標準化 & [20, 15, 10, 5] & SVM & 0.7913\\\\\n",
      "solar_flare_m0 & なし & なし & [0] & SVM & 0.6062\\\\\n",
      "car_eval_4 & 標準化 & 標準化 & [20, 15, 10, 5] & SVM & 1.0000\\\\\n",
      "yeast_ml8 & 標準化 & 標準化 & [20, 15, 10, 5] & Multi Perceptron & 0.5325\\\\\n",
      "thyroid_sick & 標準化 & なし & [20, 10, 5] & LightGBM & 0.9377\\\\\n",
      "yeast_me2 & 標準化 & 標準化 & [20, 15, 10, 5] & LightGBM & 0.6828\\\\\n",
      "ozone_level & 標準化 & なし & [20, 10, 5] & Multi Perceptron & 0.6311\\\\\n",
      "wine_quality & 標準化 & なし & [20, 10, 5] & Multi Perceptron & 0.6346\\\\\n",
      "scene & 標準化 & なし & [20, 10, 5] & Multi Perceptron & 0.6004\\\\\n",
      "coil_2000 & 標準化 & 標準化 & [20, 15, 10, 5] & Multi Perceptron & 0.5439\\\\\n",
      "abalone_19 & 標準化 & なし & [20, 15, 10, 5] & Multi Perceptron & 0.5187\\\\\n",
      "mammography & 標準化 & なし & [20, 10, 5] & LightGBM & 0.8485\\\\\n",
      "letter_img & 標準化 & なし & [20, 15, 10, 5] & SVM & 0.9889\\\\\n",
      "ecoli & 標準化 & 標準化 & [20, 15, 10, 5] & Multi Perceptron & 0.8262\\\\\n",
      "webpage & 標準化 & 標準化 & [20, 15, 10, 5] & Multi Perceptron & 0.8948\\\\\n",
      "protein_homo & 標準化 & 標準化 & [20, 15, 10, 5] & SVM & 0.9290\\\\\n",
      "satimage & 標準化 & なし & [20, 10, 5] & LightGBM & 0.8350\\\\\n",
      "optical_digits & 標準化 & 標準化 & [0] & SVM & 0.9853\\\\\n",
      "pen_digits & 標準化 & なし & [20, 15, 10] & SVM & 0.9971\\\\\n",
      "spectrometer & 標準化 & なし & [20, 10, 5] & Logistic Regression & 0.9315\\\\\n",
      "creditcardfraud & 標準化 & なし & [20, 10, 5] & Random Forest & 0.9279\\\\\n",
      "sick_euthyroid & 標準化 & 標準化 & [20, 10, 5] & LightGBM & 0.9301\\\\\n",
      "abalone & 標準化 & 標準化 & [20, 15, 10, 5] & LightGBM & 0.5822\\\\\n",
      "car_eval_34 & なし & なし & [20, 15, 10, 5] & SVM & 0.9980\\\\\n",
      "us_crime & 標準化 & なし & [20, 15, 10] & Logistic Regression & 0.7355\\\\\n",
      "isolet & なし & なし & [20, 15, 10] & SVM & 0.9618\\\\\n",
      "kdd99_dropped & 標準化 & なし & [20, 15, 10, 5] & LightGBM & 0.9375\\\\\n",
      "kdd99 & 標準化 & 標準化 & [20, 10, 5] & LightGBM & 0.9339\\\\\n"
     ]
    }
   ],
   "source": [
    "for k in best_macro:\n",
    "    if best_macro[k]['dataset']['standardization']:\n",
    "        pp = \"標準化\"\n",
    "        if best_macro[k]['ae']['standardization']:\n",
    "            aepp = \"標準化\"\n",
    "        else:\n",
    "            aepp = \"なし\"\n",
    "    elif best_macro[k]['dataset']['normalization']:\n",
    "        pp = \"正規化\"\n",
    "        if best_macro[k]['ae']['normalization']:\n",
    "            aepp = \"正規化\"\n",
    "        else:\n",
    "            aepp = \"なし\"\n",
    "    else:\n",
    "        pp = \"なし\"\n",
    "        aepp = \"なし\"\n",
    "    print(f\"{k} & {pp} & {aepp} & {best_macro[k]['ae']['layers']} & {mdl_dict[best_macro[k]['model']['name']]} & {best_macro[k]['result']['macro']['f1']:.4f}\\\\\\\\\")\n",
    "    # _mi_s = best_macro[k]['result']['minority']['support']\n",
    "    # _ma_s = best_macro[k]['result']['majority']['support']\n",
    "    # _all_s = best_macro[k]['dataset']['sample_num']\n",
    "    # print(f\"{k} feature: {best_macro[k]['dataset']['default_feature_num']} sample: {_all_s}, minority: {_mi_s}({100*_mi_s/_all_s:.4f}), majority: {_ma_s}({100*_ma_s/_all_s:.4f})\")"
   ]
  },
  {
   "cell_type": "code",
   "execution_count": 99,
   "metadata": {},
   "outputs": [
    {
     "data": {
      "image/png": "[encoded data removed]",
      "text/plain": [
       "<Figure size 3000x600 with 1 Axes>"
      ]
     },
     "metadata": {},
     "output_type": "display_data"
    }
   ],
   "source": [
    "import matplotlib.pyplot as plt\n",
    "import seaborn as sns\n",
    "\n",
    "# x軸：サンプル数　data['dataset']['sample_num']\n",
    "# y軸：F1値　data['result']['macro']['f1']\n",
    "# 描画の開始\n",
    "data = dict()\n",
    "for item in results_op_f:\n",
    "    data[item['hash']] = dict(x=item['dataset']['name'], y=item['result']['minority']['f1'], z=str(item['ae']['layers']))\n",
    "sns.barplot(x='x', y='y', hue='z',data=pd.DataFrame(data).T, dodge=True)\n",
    "plt.show()\n"
   ]
  },
  {
   "cell_type": "code",
   "execution_count": 127,
   "metadata": {},
   "outputs": [
    {
     "data": {
      "image/png": "[encoded data removed]",
      "text/plain": [
       "<Figure size 1000x1500 with 30 Axes>"
      ]
     },
     "metadata": {},
     "output_type": "display_data"
    }
   ],
   "source": [
    "fig, axes = plt.subplots(6, 5, figsize=(10, 15))\n",
    "axes = axes.ravel()\n",
    "\n",
    "for i, dataset in enumerate(datasets):\n",
    "    data = dict()\n",
    "    for item in results_ae_aes:\n",
    "        if item['dataset']['name'] == dataset:\n",
    "            data[item['hash']] = dict(x=item['dataset']['name'], y=item['result']['minority']['f1'], z=str(item['ae']['layers']))\n",
    "    for item in results_ae_s:\n",
    "        if item['dataset']['name'] == dataset:\n",
    "            data[item['hash']] = dict(x=item['dataset']['name'], y=item['result']['minority']['f1'], z=str(item['ae']['layers']))\n",
    "    for item in results_s:\n",
    "        if item['dataset']['name'] == dataset:\n",
    "            data[item['hash']] = dict(x=item['dataset']['name'], y=item['result']['minority']['f1'], z=str(item['ae']['layers']))\n",
    "    sns.barplot(x='x', y='y', hue='z',data=pd.DataFrame(data).T, dodge=True, ax=axes[i])\n",
    "    axes[i].set_ylim(0, 1.0)\n",
    "    # axes[i].set_title(dataset)\n",
    "    axes[i].set_xlabel('')\n",
    "    axes[i].set_ylabel('')\n",
    "    # axes[i].set_xticklabels([])\n",
    "    # axes[i].set_yticklabels([0, 0.2 ,0.4, 0.6, 0.8, 1.0])\n",
    "    axes[i].legend_.remove()\n",
    "plt.tight_layout()\n",
    "plt.show()"
   ]
  },
  {
   "cell_type": "code",
   "execution_count": 69,
   "metadata": {},
   "outputs": [
    {
     "data": {
      "text/plain": [
       "{'_id': '65a14811b329f447172e2fca',\n",
       " 'hash': 'bm9uZVswXWxya2RkOTlhbGxGYWxzZQ==',\n",
       " 'dataset': {'name': 'kdd99',\n",
       "  'default_feature_num': 38,\n",
       "  'ae_feature_num': 0,\n",
       "  'total_feature_num': 38,\n",
       "  'sample_num': 494021,\n",
       "  'standardization': False,\n",
       "  'normalization': False},\n",
       " 'model': {'name': 'lr',\n",
       "  'optuna': False,\n",
       "  'params': {'C': 1.0,\n",
       "   'class_weight': None,\n",
       "   'dual': False,\n",
       "   'fit_intercept': True,\n",
       "   'intercept_scaling': 1,\n",
       "   'l1_ratio': None,\n",
       "   'max_iter': 100,\n",
       "   'multi_class': 'auto',\n",
       "   'n_jobs': None,\n",
       "   'penalty': 'l2',\n",
       "   'random_state': 2023,\n",
       "   'solver': 'lbfgs',\n",
       "   'tol': 0.0001,\n",
       "   'verbose': 0,\n",
       "   'warm_start': False},\n",
       "  'best_params_list': []},\n",
       " 'ae': {'layers': [0],\n",
       "  'used_class': 'all',\n",
       "  'epochs': 10,\n",
       "  'activation': 'relu',\n",
       "  'batch_size': 32,\n",
       "  'standardization': False,\n",
       "  'normalization': False},\n",
       " 'env': {'version': '2.0.0',\n",
       "  'datetime': '2024-01-12T23:09:21.138031',\n",
       "  'elapsed_time': 115.298487},\n",
       " 'result': {'majority': {'precision': 0.9511,\n",
       "   'recall': 0.9567,\n",
       "   'f1': 0.9538,\n",
       "   'support': 97278},\n",
       "  'minority': {'precision': 0.0, 'recall': 0.0, 'f1': 0.0, 'support': 52},\n",
       "  'macro': {'precision': 0.5198,\n",
       "   'recall': 0.3975,\n",
       "   'f1': 0.4017,\n",
       "   'support': 494021},\n",
       "  'importances': {}}}"
      ]
     },
     "execution_count": 69,
     "metadata": {},
     "output_type": "execute_result"
    }
   ],
   "source": [
    "results_0[0]"
   ]
  },
  {
   "cell_type": "code",
   "execution_count": 3,
   "metadata": {},
   "outputs": [
    {
     "data": {
      "text/plain": [
       "{'minority': 0.0, 'macro': 0.4017}"
      ]
     },
     "execution_count": 3,
     "metadata": {},
     "output_type": "execute_result"
    }
   ],
   "source": [
    "# results[gen_hash('none', [0], 'lr','kdd99', 'all', False)]"
   ]
  },
  {
   "cell_type": "code",
   "execution_count": 4,
   "metadata": {},
   "outputs": [],
   "source": [
    "pp = preprocesses[0]\n",
    "mdl = models[0]\n",
    "aeclass = used_classes[0]\n",
    "minority_df = pd.DataFrame({\n",
    "    dataset: {\n",
    "        str(layer): results[gen_hash(pp, layer, mdl, dataset, aeclass, False)]['minority']\n",
    "        for layer in layers\n",
    "    } for dataset in datasets\n",
    "})\n",
    "macro_df = pd.DataFrame({\n",
    "    dataset: {\n",
    "        str(layer): results[gen_hash(pp, layer, mdl, dataset, aeclass, False)]['macro']\n",
    "        for layer in layers\n",
    "    } for dataset in datasets\n",
    "})"
   ]
  },
  {
   "cell_type": "code",
   "execution_count": 5,
   "metadata": {},
   "outputs": [
    {
     "data": {
      "text/html": [
       "<div>\n",
       "<style scoped>\n",
       "    .dataframe tbody tr th:only-of-type {\n",
       "        vertical-align: middle;\n",
       "    }\n",
       "\n",
       "    .dataframe tbody tr th {\n",
       "        vertical-align: top;\n",
       "    }\n",
       "\n",
       "    .dataframe thead th {\n",
       "        text-align: right;\n",
       "    }\n",
       "</style>\n",
       "<table border=\"1\" class=\"dataframe\">\n",
       "  <thead>\n",
       "    <tr style=\"text-align: right;\">\n",
       "      <th></th>\n",
       "      <th>[0]</th>\n",
       "      <th>[20, 10, 5]</th>\n",
       "      <th>[20, 15, 10]</th>\n",
       "      <th>[20, 15, 10, 5]</th>\n",
       "    </tr>\n",
       "  </thead>\n",
       "  <tbody>\n",
       "    <tr>\n",
       "      <th>kdd99</th>\n",
       "      <td>0.0000</td>\n",
       "      <td>0.0000</td>\n",
       "      <td>0.0000</td>\n",
       "      <td>0.0000</td>\n",
       "    </tr>\n",
       "    <tr>\n",
       "      <th>kdd99_dropped</th>\n",
       "      <td>0.0000</td>\n",
       "      <td>0.0000</td>\n",
       "      <td>0.0000</td>\n",
       "      <td>0.0000</td>\n",
       "    </tr>\n",
       "    <tr>\n",
       "      <th>creditcardfraud</th>\n",
       "      <td>0.6807</td>\n",
       "      <td>0.6828</td>\n",
       "      <td>0.7014</td>\n",
       "      <td>0.6759</td>\n",
       "    </tr>\n",
       "    <tr>\n",
       "      <th>ecoli</th>\n",
       "      <td>0.0556</td>\n",
       "      <td>0.0556</td>\n",
       "      <td>0.0556</td>\n",
       "      <td>0.0556</td>\n",
       "    </tr>\n",
       "    <tr>\n",
       "      <th>optical_digits</th>\n",
       "      <td>0.8256</td>\n",
       "      <td>0.8355</td>\n",
       "      <td>0.8338</td>\n",
       "      <td>0.8415</td>\n",
       "    </tr>\n",
       "    <tr>\n",
       "      <th>satimage</th>\n",
       "      <td>0.0427</td>\n",
       "      <td>0.0516</td>\n",
       "      <td>0.0427</td>\n",
       "      <td>0.0512</td>\n",
       "    </tr>\n",
       "    <tr>\n",
       "      <th>pen_digits</th>\n",
       "      <td>0.7800</td>\n",
       "      <td>0.8067</td>\n",
       "      <td>0.7965</td>\n",
       "      <td>0.8251</td>\n",
       "    </tr>\n",
       "    <tr>\n",
       "      <th>abalone</th>\n",
       "      <td>0.0000</td>\n",
       "      <td>0.0000</td>\n",
       "      <td>0.0000</td>\n",
       "      <td>0.0000</td>\n",
       "    </tr>\n",
       "    <tr>\n",
       "      <th>sick_euthyroid</th>\n",
       "      <td>0.6900</td>\n",
       "      <td>0.7042</td>\n",
       "      <td>0.7179</td>\n",
       "      <td>0.6722</td>\n",
       "    </tr>\n",
       "    <tr>\n",
       "      <th>spectrometer</th>\n",
       "      <td>0.8335</td>\n",
       "      <td>0.8214</td>\n",
       "      <td>0.7885</td>\n",
       "      <td>0.7574</td>\n",
       "    </tr>\n",
       "    <tr>\n",
       "      <th>car_eval_34</th>\n",
       "      <td>0.8626</td>\n",
       "      <td>0.8698</td>\n",
       "      <td>0.8801</td>\n",
       "      <td>0.8609</td>\n",
       "    </tr>\n",
       "    <tr>\n",
       "      <th>isolet</th>\n",
       "      <td>0.8336</td>\n",
       "      <td>0.8352</td>\n",
       "      <td>0.8222</td>\n",
       "      <td>0.8253</td>\n",
       "    </tr>\n",
       "    <tr>\n",
       "      <th>us_crime</th>\n",
       "      <td>0.4957</td>\n",
       "      <td>0.4996</td>\n",
       "      <td>0.4960</td>\n",
       "      <td>0.5139</td>\n",
       "    </tr>\n",
       "    <tr>\n",
       "      <th>yeast_ml8</th>\n",
       "      <td>0.0000</td>\n",
       "      <td>0.0000</td>\n",
       "      <td>0.0000</td>\n",
       "      <td>0.0000</td>\n",
       "    </tr>\n",
       "    <tr>\n",
       "      <th>scene</th>\n",
       "      <td>0.1156</td>\n",
       "      <td>0.1244</td>\n",
       "      <td>0.1158</td>\n",
       "      <td>0.1162</td>\n",
       "    </tr>\n",
       "    <tr>\n",
       "      <th>libras_move</th>\n",
       "      <td>0.4345</td>\n",
       "      <td>0.4345</td>\n",
       "      <td>0.4345</td>\n",
       "      <td>0.4345</td>\n",
       "    </tr>\n",
       "    <tr>\n",
       "      <th>thyroid_sick</th>\n",
       "      <td>0.6593</td>\n",
       "      <td>0.6192</td>\n",
       "      <td>0.6411</td>\n",
       "      <td>0.6646</td>\n",
       "    </tr>\n",
       "    <tr>\n",
       "      <th>coil_2000</th>\n",
       "      <td>0.0164</td>\n",
       "      <td>0.0232</td>\n",
       "      <td>0.0232</td>\n",
       "      <td>0.0199</td>\n",
       "    </tr>\n",
       "    <tr>\n",
       "      <th>arrhythmia</th>\n",
       "      <td>0.3225</td>\n",
       "      <td>0.2885</td>\n",
       "      <td>0.3091</td>\n",
       "      <td>0.3359</td>\n",
       "    </tr>\n",
       "    <tr>\n",
       "      <th>solar_flare_m0</th>\n",
       "      <td>0.0739</td>\n",
       "      <td>0.1003</td>\n",
       "      <td>0.0726</td>\n",
       "      <td>0.0476</td>\n",
       "    </tr>\n",
       "    <tr>\n",
       "      <th>oil</th>\n",
       "      <td>0.1781</td>\n",
       "      <td>0.1181</td>\n",
       "      <td>0.1821</td>\n",
       "      <td>0.1448</td>\n",
       "    </tr>\n",
       "    <tr>\n",
       "      <th>car_eval_4</th>\n",
       "      <td>0.7972</td>\n",
       "      <td>0.7796</td>\n",
       "      <td>0.7988</td>\n",
       "      <td>0.7969</td>\n",
       "    </tr>\n",
       "    <tr>\n",
       "      <th>wine_quality</th>\n",
       "      <td>0.0211</td>\n",
       "      <td>0.0408</td>\n",
       "      <td>0.0571</td>\n",
       "      <td>0.0517</td>\n",
       "    </tr>\n",
       "    <tr>\n",
       "      <th>letter_img</th>\n",
       "      <td>0.7434</td>\n",
       "      <td>0.7371</td>\n",
       "      <td>0.7361</td>\n",
       "      <td>0.7440</td>\n",
       "    </tr>\n",
       "    <tr>\n",
       "      <th>yeast_me2</th>\n",
       "      <td>0.0000</td>\n",
       "      <td>0.0000</td>\n",
       "      <td>0.0000</td>\n",
       "      <td>0.0000</td>\n",
       "    </tr>\n",
       "    <tr>\n",
       "      <th>webpage</th>\n",
       "      <td>0.7192</td>\n",
       "      <td>0.7273</td>\n",
       "      <td>0.7248</td>\n",
       "      <td>0.7212</td>\n",
       "    </tr>\n",
       "    <tr>\n",
       "      <th>ozone_level</th>\n",
       "      <td>0.1001</td>\n",
       "      <td>0.0238</td>\n",
       "      <td>0.0715</td>\n",
       "      <td>0.0435</td>\n",
       "    </tr>\n",
       "    <tr>\n",
       "      <th>mammography</th>\n",
       "      <td>0.5312</td>\n",
       "      <td>0.5465</td>\n",
       "      <td>0.5521</td>\n",
       "      <td>0.5671</td>\n",
       "    </tr>\n",
       "    <tr>\n",
       "      <th>protein_homo</th>\n",
       "      <td>0.7848</td>\n",
       "      <td>0.7786</td>\n",
       "      <td>0.7700</td>\n",
       "      <td>0.7787</td>\n",
       "    </tr>\n",
       "    <tr>\n",
       "      <th>abalone_19</th>\n",
       "      <td>0.0000</td>\n",
       "      <td>0.0000</td>\n",
       "      <td>0.0000</td>\n",
       "      <td>0.0000</td>\n",
       "    </tr>\n",
       "  </tbody>\n",
       "</table>\n",
       "</div>"
      ],
      "text/plain": [
       "                    [0]  [20, 10, 5]  [20, 15, 10]  [20, 15, 10, 5]\n",
       "kdd99            0.0000       0.0000        0.0000           0.0000\n",
       "kdd99_dropped    0.0000       0.0000        0.0000           0.0000\n",
       "creditcardfraud  0.6807       0.6828        0.7014           0.6759\n",
       "ecoli            0.0556       0.0556        0.0556           0.0556\n",
       "optical_digits   0.8256       0.8355        0.8338           0.8415\n",
       "satimage         0.0427       0.0516        0.0427           0.0512\n",
       "pen_digits       0.7800       0.8067        0.7965           0.8251\n",
       "abalone          0.0000       0.0000        0.0000           0.0000\n",
       "sick_euthyroid   0.6900       0.7042        0.7179           0.6722\n",
       "spectrometer     0.8335       0.8214        0.7885           0.7574\n",
       "car_eval_34      0.8626       0.8698        0.8801           0.8609\n",
       "isolet           0.8336       0.8352        0.8222           0.8253\n",
       "us_crime         0.4957       0.4996        0.4960           0.5139\n",
       "yeast_ml8        0.0000       0.0000        0.0000           0.0000\n",
       "scene            0.1156       0.1244        0.1158           0.1162\n",
       "libras_move      0.4345       0.4345        0.4345           0.4345\n",
       "thyroid_sick     0.6593       0.6192        0.6411           0.6646\n",
       "coil_2000        0.0164       0.0232        0.0232           0.0199\n",
       "arrhythmia       0.3225       0.2885        0.3091           0.3359\n",
       "solar_flare_m0   0.0739       0.1003        0.0726           0.0476\n",
       "oil              0.1781       0.1181        0.1821           0.1448\n",
       "car_eval_4       0.7972       0.7796        0.7988           0.7969\n",
       "wine_quality     0.0211       0.0408        0.0571           0.0517\n",
       "letter_img       0.7434       0.7371        0.7361           0.7440\n",
       "yeast_me2        0.0000       0.0000        0.0000           0.0000\n",
       "webpage          0.7192       0.7273        0.7248           0.7212\n",
       "ozone_level      0.1001       0.0238        0.0715           0.0435\n",
       "mammography      0.5312       0.5465        0.5521           0.5671\n",
       "protein_homo     0.7848       0.7786        0.7700           0.7787\n",
       "abalone_19       0.0000       0.0000        0.0000           0.0000"
      ]
     },
     "execution_count": 5,
     "metadata": {},
     "output_type": "execute_result"
    }
   ],
   "source": [
    "minority_df.T"
   ]
  },
  {
   "cell_type": "code",
   "execution_count": 8,
   "metadata": {},
   "outputs": [
    {
     "data": {
      "text/plain": [
       "'lr|none|all|0'"
      ]
     },
     "execution_count": 8,
     "metadata": {},
     "output_type": "execute_result"
    }
   ],
   "source": [
    "from visualization.result_table import ResultTable\n",
    "t = ResultTable('lr', False, 'なし', 'なし', 'all',1)\n",
    "t.aggregate_results()\n",
    "with open(f\"thesis/tables/{t.label}.tex\", \"w\") as f:\n",
    "    f.write(t.compile())\n",
    "t.label"
   ]
  },
  {
   "cell_type": "code",
   "execution_count": 128,
   "metadata": {},
   "outputs": [
    {
     "data": {
      "text/plain": [
       "136"
      ]
     },
     "execution_count": 128,
     "metadata": {},
     "output_type": "execute_result"
    }
   ],
   "source": [
    "11+4+6+115"
   ]
  },
  {
   "cell_type": "code",
   "execution_count": null,
   "metadata": {},
   "outputs": [],
   "source": []
  }
 ],
 "metadata": {
  "kernelspec": {
   "display_name": ".venv",
   "language": "python",
   "name": "python3"
  },
  "language_info": {
   "codemirror_mode": {
    "name": "ipython",
    "version": 3
   },
   "file_extension": ".py",
   "mimetype": "text/x-python",
   "name": "python",
   "nbconvert_exporter": "python",
   "pygments_lexer": "ipython3",
   "version": "3.9.6"
  }
 },
 "nbformat": 4,
 "nbformat_minor": 2
}
