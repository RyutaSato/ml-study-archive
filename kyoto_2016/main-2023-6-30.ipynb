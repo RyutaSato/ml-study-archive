{
 "cells": [
  {
   "cell_type": "markdown",
   "source": [
    "# Traffic Data from Kyoto University's Honeypotsに関する調査\n",
    "## 特徴量の確認"
   ],
   "metadata": {
    "collapsed": false
   }
  },
  {
   "cell_type": "code",
   "execution_count": 1,
   "metadata": {
    "collapsed": true,
    "ExecuteTime": {
     "end_time": "2023-07-03T08:36:03.006108Z",
     "start_time": "2023-07-03T08:35:59.372103Z"
    }
   },
   "outputs": [
    {
     "name": "stdout",
     "output_type": "stream",
     "text": [
      "python:      3.10.11\n",
      "sklearn:     1.2.2\n",
      "tensorflow:  2.13.0-rc0\n",
      "keras:       2.13.1rc0\n",
      "numpy:       1.24.3\n",
      "pandas:      1.5.3\n"
     ]
    }
   ],
   "source": [
    "from utils import *\n",
    "print_version()"
   ]
  },
  {
   "cell_type": "code",
   "execution_count": 2,
   "outputs": [],
   "source": [
    "# 特徴量名を定義する．\n",
    "names = ['duration', # the length (number of seconds) of the connection\n",
    "         'service',\n",
    "         'source_bytes',\n",
    "         'destination_bytes',\n",
    "         'count',\n",
    "         'same_srv_rate',\n",
    "         'serror_rate',\n",
    "         'dst_host_count',\n",
    "         'dst_host_srv_count',\n",
    "         'dst_host_same_src_port_rate',\n",
    "         'dst_host_serror_rate',\n",
    "         'dst_host_srv_serror_rate',\n",
    "         'flag'\n",
    "         ]"
   ],
   "metadata": {
    "collapsed": false,
    "ExecuteTime": {
     "end_time": "2023-07-03T08:36:03.009372Z",
     "start_time": "2023-07-03T08:36:03.007872Z"
    }
   }
  },
  {
   "cell_type": "code",
   "execution_count": 4,
   "outputs": [
    {
     "data": {
      "text/plain": "                                                           duration service  \\\n86279.23 other 1      0   0.0 0.0 0.0 0.0 0.0 0.0 0.0 0.0       0.0     OTH   \n27.56    smtp  3179   175 0.0 0.0 0.0 0.0 0.0 0.0 0.0 0.0       0.0      SF   \n0.31     other 4      0   0.0 0.0 0.0 0.0 0.0 0.0 0.0 0.0       0.0     OTH   \n0.00     other 0      0   0.0 0.0 0.0 0.0 0.0 0.0 0.0 0.0       0.0      S0   \n86366.25 other 244776 0   0.0 0.0 0.0 0.0 0.0 0.0 0.0 0.0       0.0      S0   \n\n                                                          source_bytes  \\\n86279.23 other 1      0   0.0 0.0 0.0 0.0 0.0 0.0 0.0 0.0            0   \n27.56    smtp  3179   175 0.0 0.0 0.0 0.0 0.0 0.0 0.0 0.0            0   \n0.31     other 4      0   0.0 0.0 0.0 0.0 0.0 0.0 0.0 0.0            0   \n0.00     other 0      0   0.0 0.0 0.0 0.0 0.0 0.0 0.0 0.0            0   \n86366.25 other 244776 0   0.0 0.0 0.0 0.0 0.0 0.0 0.0 0.0            0   \n\n                                                          destination_bytes  \\\n86279.23 other 1      0   0.0 0.0 0.0 0.0 0.0 0.0 0.0 0.0                 0   \n27.56    smtp  3179   175 0.0 0.0 0.0 0.0 0.0 0.0 0.0 0.0                 0   \n0.31     other 4      0   0.0 0.0 0.0 0.0 0.0 0.0 0.0 0.0                 0   \n0.00     other 0      0   0.0 0.0 0.0 0.0 0.0 0.0 0.0 0.0                 0   \n86366.25 other 244776 0   0.0 0.0 0.0 0.0 0.0 0.0 0.0 0.0                 0   \n\n                                                          count  \\\n86279.23 other 1      0   0.0 0.0 0.0 0.0 0.0 0.0 0.0 0.0     0   \n27.56    smtp  3179   175 0.0 0.0 0.0 0.0 0.0 0.0 0.0 0.0     0   \n0.31     other 4      0   0.0 0.0 0.0 0.0 0.0 0.0 0.0 0.0     0   \n0.00     other 0      0   0.0 0.0 0.0 0.0 0.0 0.0 0.0 0.0     0   \n86366.25 other 244776 0   0.0 0.0 0.0 0.0 0.0 0.0 0.0 0.0     0   \n\n                                                           same_srv_rate  \\\n86279.23 other 1      0   0.0 0.0 0.0 0.0 0.0 0.0 0.0 0.0             -1   \n27.56    smtp  3179   175 0.0 0.0 0.0 0.0 0.0 0.0 0.0 0.0              1   \n0.31     other 4      0   0.0 0.0 0.0 0.0 0.0 0.0 0.0 0.0             -1   \n0.00     other 0      0   0.0 0.0 0.0 0.0 0.0 0.0 0.0 0.0             -1   \n86366.25 other 244776 0   0.0 0.0 0.0 0.0 0.0 0.0 0.0 0.0             -1   \n\n                                                                                       serror_rate  \\\n86279.23 other 1      0   0.0 0.0 0.0 0.0 0.0 0.0 0.0 0.0  fd4c:ff67:cea4:276b:7dce:27c1:0f3a:1583   \n27.56    smtp  3179   175 0.0 0.0 0.0 0.0 0.0 0.0 0.0 0.0  fd4c:ff67:cea4:70b8:13b6:277d:3f06:42ea   \n0.31     other 4      0   0.0 0.0 0.0 0.0 0.0 0.0 0.0 0.0  fd4c:ff67:cea4:c649:7db6:27b4:07f1:0507   \n0.00     other 0      0   0.0 0.0 0.0 0.0 0.0 0.0 0.0 0.0  fd4c:ff67:cea4:e8fa:3f33:57d4:ff94:00d4   \n86366.25 other 244776 0   0.0 0.0 0.0 0.0 0.0 0.0 0.0 0.0  fd4c:ff67:cea4:b428:7daf:2705:0761:288d   \n\n                                                           dst_host_count  \\\n86279.23 other 1      0   0.0 0.0 0.0 0.0 0.0 0.0 0.0 0.0             445   \n27.56    smtp  3179   175 0.0 0.0 0.0 0.0 0.0 0.0 0.0 0.0            2161   \n0.31     other 4      0   0.0 0.0 0.0 0.0 0.0 0.0 0.0 0.0             445   \n0.00     other 0      0   0.0 0.0 0.0 0.0 0.0 0.0 0.0 0.0             138   \n86366.25 other 244776 0   0.0 0.0 0.0 0.0 0.0 0.0 0.0 0.0           32770   \n\n                                                                                dst_host_srv_count  \\\n86279.23 other 1      0   0.0 0.0 0.0 0.0 0.0 0.0 0.0 0.0  fd4c:ff67:cea4:d54b:7da1:0890:1b90:036f   \n27.56    smtp  3179   175 0.0 0.0 0.0 0.0 0.0 0.0 0.0 0.0  fd4c:ff67:cea4:d671:7d5a:2725:07e0:0fe0   \n0.31     other 4      0   0.0 0.0 0.0 0.0 0.0 0.0 0.0 0.0  fd4c:ff67:cea4:333b:68a7:1385:53a5:317c   \n0.00     other 0      0   0.0 0.0 0.0 0.0 0.0 0.0 0.0 0.0  fd4c:ff67:cea4:3839:3fce:574a:ff82:0047   \n86366.25 other 244776 0   0.0 0.0 0.0 0.0 0.0 0.0 0.0 0.0  fd4c:ff67:cea4:023b:1054:0118:02e2:2a7e   \n\n                                                           dst_host_same_src_port_rate  \\\n86279.23 other 1      0   0.0 0.0 0.0 0.0 0.0 0.0 0.0 0.0                        15009   \n27.56    smtp  3179   175 0.0 0.0 0.0 0.0 0.0 0.0 0.0 0.0                           25   \n0.31     other 4      0   0.0 0.0 0.0 0.0 0.0 0.0 0.0 0.0                         2028   \n0.00     other 0      0   0.0 0.0 0.0 0.0 0.0 0.0 0.0 0.0                          138   \n86366.25 other 244776 0   0.0 0.0 0.0 0.0 0.0 0.0 0.0 0.0                         8649   \n\n                                                          dst_host_serror_rate  \\\n86279.23 other 1      0   0.0 0.0 0.0 0.0 0.0 0.0 0.0 0.0             00:00:06   \n27.56    smtp  3179   175 0.0 0.0 0.0 0.0 0.0 0.0 0.0 0.0             00:00:09   \n0.31     other 4      0   0.0 0.0 0.0 0.0 0.0 0.0 0.0 0.0             00:00:12   \n0.00     other 0      0   0.0 0.0 0.0 0.0 0.0 0.0 0.0 0.0             00:00:14   \n86366.25 other 244776 0   0.0 0.0 0.0 0.0 0.0 0.0 0.0 0.0             00:00:15   \n\n                                                           dst_host_srv_serror_rate  \\\n86279.23 other 1      0   0.0 0.0 0.0 0.0 0.0 0.0 0.0 0.0              86279.225125   \n27.56    smtp  3179   175 0.0 0.0 0.0 0.0 0.0 0.0 0.0 0.0                 27.561208   \n0.31     other 4      0   0.0 0.0 0.0 0.0 0.0 0.0 0.0 0.0                  0.308286   \n0.00     other 0      0   0.0 0.0 0.0 0.0 0.0 0.0 0.0 0.0                  0.000000   \n86366.25 other 244776 0   0.0 0.0 0.0 0.0 0.0 0.0 0.0 0.0              86366.249616   \n\n                                                          flag  \n86279.23 other 1      0   0.0 0.0 0.0 0.0 0.0 0.0 0.0 0.0  tcp  \n27.56    smtp  3179   175 0.0 0.0 0.0 0.0 0.0 0.0 0.0 0.0  tcp  \n0.31     other 4      0   0.0 0.0 0.0 0.0 0.0 0.0 0.0 0.0  tcp  \n0.00     other 0      0   0.0 0.0 0.0 0.0 0.0 0.0 0.0 0.0  udp  \n86366.25 other 244776 0   0.0 0.0 0.0 0.0 0.0 0.0 0.0 0.0  udp  ",
      "text/html": "<div>\n<style scoped>\n    .dataframe tbody tr th:only-of-type {\n        vertical-align: middle;\n    }\n\n    .dataframe tbody tr th {\n        vertical-align: top;\n    }\n\n    .dataframe thead th {\n        text-align: right;\n    }\n</style>\n<table border=\"1\" class=\"dataframe\">\n  <thead>\n    <tr style=\"text-align: right;\">\n      <th></th>\n      <th></th>\n      <th></th>\n      <th></th>\n      <th></th>\n      <th></th>\n      <th></th>\n      <th></th>\n      <th></th>\n      <th></th>\n      <th></th>\n      <th></th>\n      <th>duration</th>\n      <th>service</th>\n      <th>source_bytes</th>\n      <th>destination_bytes</th>\n      <th>count</th>\n      <th>same_srv_rate</th>\n      <th>serror_rate</th>\n      <th>dst_host_count</th>\n      <th>dst_host_srv_count</th>\n      <th>dst_host_same_src_port_rate</th>\n      <th>dst_host_serror_rate</th>\n      <th>dst_host_srv_serror_rate</th>\n      <th>flag</th>\n    </tr>\n  </thead>\n  <tbody>\n    <tr>\n      <th>86279.23</th>\n      <th>other</th>\n      <th>1</th>\n      <th>0</th>\n      <th>0.0</th>\n      <th>0.0</th>\n      <th>0.0</th>\n      <th>0.0</th>\n      <th>0.0</th>\n      <th>0.0</th>\n      <th>0.0</th>\n      <th>0.0</th>\n      <td>0.0</td>\n      <td>OTH</td>\n      <td>0</td>\n      <td>0</td>\n      <td>0</td>\n      <td>-1</td>\n      <td>fd4c:ff67:cea4:276b:7dce:27c1:0f3a:1583</td>\n      <td>445</td>\n      <td>fd4c:ff67:cea4:d54b:7da1:0890:1b90:036f</td>\n      <td>15009</td>\n      <td>00:00:06</td>\n      <td>86279.225125</td>\n      <td>tcp</td>\n    </tr>\n    <tr>\n      <th>27.56</th>\n      <th>smtp</th>\n      <th>3179</th>\n      <th>175</th>\n      <th>0.0</th>\n      <th>0.0</th>\n      <th>0.0</th>\n      <th>0.0</th>\n      <th>0.0</th>\n      <th>0.0</th>\n      <th>0.0</th>\n      <th>0.0</th>\n      <td>0.0</td>\n      <td>SF</td>\n      <td>0</td>\n      <td>0</td>\n      <td>0</td>\n      <td>1</td>\n      <td>fd4c:ff67:cea4:70b8:13b6:277d:3f06:42ea</td>\n      <td>2161</td>\n      <td>fd4c:ff67:cea4:d671:7d5a:2725:07e0:0fe0</td>\n      <td>25</td>\n      <td>00:00:09</td>\n      <td>27.561208</td>\n      <td>tcp</td>\n    </tr>\n    <tr>\n      <th>0.31</th>\n      <th>other</th>\n      <th>4</th>\n      <th>0</th>\n      <th>0.0</th>\n      <th>0.0</th>\n      <th>0.0</th>\n      <th>0.0</th>\n      <th>0.0</th>\n      <th>0.0</th>\n      <th>0.0</th>\n      <th>0.0</th>\n      <td>0.0</td>\n      <td>OTH</td>\n      <td>0</td>\n      <td>0</td>\n      <td>0</td>\n      <td>-1</td>\n      <td>fd4c:ff67:cea4:c649:7db6:27b4:07f1:0507</td>\n      <td>445</td>\n      <td>fd4c:ff67:cea4:333b:68a7:1385:53a5:317c</td>\n      <td>2028</td>\n      <td>00:00:12</td>\n      <td>0.308286</td>\n      <td>tcp</td>\n    </tr>\n    <tr>\n      <th>0.00</th>\n      <th>other</th>\n      <th>0</th>\n      <th>0</th>\n      <th>0.0</th>\n      <th>0.0</th>\n      <th>0.0</th>\n      <th>0.0</th>\n      <th>0.0</th>\n      <th>0.0</th>\n      <th>0.0</th>\n      <th>0.0</th>\n      <td>0.0</td>\n      <td>S0</td>\n      <td>0</td>\n      <td>0</td>\n      <td>0</td>\n      <td>-1</td>\n      <td>fd4c:ff67:cea4:e8fa:3f33:57d4:ff94:00d4</td>\n      <td>138</td>\n      <td>fd4c:ff67:cea4:3839:3fce:574a:ff82:0047</td>\n      <td>138</td>\n      <td>00:00:14</td>\n      <td>0.000000</td>\n      <td>udp</td>\n    </tr>\n    <tr>\n      <th>86366.25</th>\n      <th>other</th>\n      <th>244776</th>\n      <th>0</th>\n      <th>0.0</th>\n      <th>0.0</th>\n      <th>0.0</th>\n      <th>0.0</th>\n      <th>0.0</th>\n      <th>0.0</th>\n      <th>0.0</th>\n      <th>0.0</th>\n      <td>0.0</td>\n      <td>S0</td>\n      <td>0</td>\n      <td>0</td>\n      <td>0</td>\n      <td>-1</td>\n      <td>fd4c:ff67:cea4:b428:7daf:2705:0761:288d</td>\n      <td>32770</td>\n      <td>fd4c:ff67:cea4:023b:1054:0118:02e2:2a7e</td>\n      <td>8649</td>\n      <td>00:00:15</td>\n      <td>86366.249616</td>\n      <td>udp</td>\n    </tr>\n  </tbody>\n</table>\n</div>"
     },
     "execution_count": 4,
     "metadata": {},
     "output_type": "execute_result"
    }
   ],
   "source": [
    "# まずは1つのデータのみで特徴量を確認する\n",
    "data = pd.read_csv(\"../dataset/kyoto_2016/2006/11/20061101.txt\", names=names, sep='\\t')\n",
    "data.head()"
   ],
   "metadata": {
    "collapsed": false,
    "ExecuteTime": {
     "end_time": "2023-07-03T08:36:42.484548Z",
     "start_time": "2023-07-03T08:36:42.443802Z"
    }
   }
  },
  {
   "cell_type": "code",
   "execution_count": 3,
   "outputs": [],
   "source": [],
   "metadata": {
    "collapsed": false,
    "ExecuteTime": {
     "end_time": "2023-07-03T08:36:03.052398Z",
     "start_time": "2023-07-03T08:36:03.044134Z"
    }
   }
  }
 ],
 "metadata": {
  "kernelspec": {
   "display_name": "Python 3",
   "language": "python",
   "name": "python3"
  },
  "language_info": {
   "codemirror_mode": {
    "name": "ipython",
    "version": 2
   },
   "file_extension": ".py",
   "mimetype": "text/x-python",
   "name": "python",
   "nbconvert_exporter": "python",
   "pygments_lexer": "ipython2",
   "version": "2.7.6"
  }
 },
 "nbformat": 4,
 "nbformat_minor": 0
}
