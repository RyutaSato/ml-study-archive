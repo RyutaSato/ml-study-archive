{
 "cells": [
  {
   "cell_type": "markdown",
   "source": [
    "# Traffic Data from Kyoto University's Honeypotsに関する調査\n",
    "## 特徴量の確認"
   ],
   "metadata": {
    "collapsed": false
   }
  },
  {
   "cell_type": "code",
   "execution_count": 1,
   "metadata": {
    "collapsed": true,
    "ExecuteTime": {
     "end_time": "2023-07-04T00:41:19.025855Z",
     "start_time": "2023-07-04T00:41:15.400787Z"
    }
   },
   "outputs": [
    {
     "name": "stdout",
     "output_type": "stream",
     "text": [
      "python:      3.10.11\n",
      "sklearn:     1.2.2\n",
      "tensorflow:  2.12.0\n",
      "keras:       2.12.0\n",
      "numpy:       1.23.5\n",
      "pandas:      1.5.3\n"
     ]
    }
   ],
   "source": [
    "from utils_kyoto2016 import *\n",
    "print_version()"
   ]
  },
  {
   "cell_type": "markdown",
   "source": [
    "1. 継続時間：接続の長さ（秒数\n",
    "2. サービス：接続のサービス・タイプ（http、telnetなど）。\n",
    "3. ソース・バイト数：ソースIPアドレスから送信されたデータ・バイト数\n",
    "4. 宛先バイト数：宛先IPアドレスが送信したデータバイト数。\n",
    "アドレスによって送信されたデータ・バイト数。\n",
    "5. カウント：ソースIPアドレスと宛先IPアドレスが現在の接続と同じである接続の数。\n",
    "カウント：過去2秒間で、送信元IPアドレスと宛先IPアドレスが現在の接続と同じであった接続の数。\n",
    "過去2秒間\n",
    "6. 同一sr率：Count機能における同一サービスへの接続率\n",
    "7. Serror率：Count機能で \"SYN \"エラーが発生したコネクションの割合\n",
    "8. Srv-serror率: Srvカウントで \"SYN \"エラーを持つコネクションの割合(サービスタイプがSrvと同じコネクション数)。\n",
    "カウント(過去2秒間で、サービスタイプが現在のコネクションと同じコネクションの数)。\n",
    "において、\"SYN \"エラーが発生したコネクションの割合。\n",
    "9. Dst host_count: 過去100個のコネクションのうち、宛先IPアドレスが現在のコネクションのIPアドレスと同じもの。\n",
    "Dst host_count: 送信先 IP アドレスが現在のコネクションと同じであるコネクションの数。\n",
    "Dst host_count: 送信元 IP アドレスが現在のコネクションの IP アドレスと同じであるコネクションの数。\n",
    "接続の数。\n",
    "10. Dst host sr count: 過去 100 個のコネクションのうち、宛先 IP アドレスが現在のコネクションの IP アドレスと同じコネクションの数。\n",
    "Dst host sr count: 宛先IPアドレスが現在の接続と同じである過去100個の接続のうち、 サービスタイプも現在の接続と同じである接続の数。\n",
    "Dst host sr count: 宛先IPアドレスが現在の接続のものと同じである過去100個の接続のうち、 サービスタイプも現在の接続のものと同じである接続の数。\n",
    "接続の数。\n",
    "\n",
    "11. Dst host_same_src_port rate: 送信元ポートが現在の接続と同じである接続の %。\n",
    "Dst host_same_src_port率: Dst host_count機能の中で、送信元ポートが現在のコネクションのものと 同じであるコネクションの割合。\n",
    "12. Dst_host_serror rate: Dstホストで \"SYN \"エラーが発生したコネクションの割合。\n",
    "カウント機能\n",
    "13. Dst _host_srv _serror rate: Dstホストで \"SYN \"エラーが発生した接続の割合。\n",
    "srv_count 機能\n",
    "14. フラグ: サマリーが書かれた時点での接続の状態。\n",
    "15. IDS_detection: IDS (Intrusion Detection System) が接続に対してアラートをトリガーしたかどうかを反映します。\n",
    "0」は、アラートがトリガされなかったことを意味します、\n",
    "0」はアラートが発生しなかったことを意味し、アラビア数字（「0」を除く）はアラートの種類を意味する。\n",
    "括弧は、接続中に観測された同じアラートの数を示す。\n",
    "を示す。この機能の抽出には Symantec IDS 3 を使用した。\n",
    "16. Malware_detection: 接続中にマルウェア（悪意のあるソフトウェアとしても知られる）が観測されたかどうかを示す。\n",
    "0」はマルウェアが検出されなかったことを意味し、文字列は対応するマルウェアを示す。\n",
    "文字列は、接続時に観測されたマルウェアを示します。\n",
    "文字列は、接続時に観測された対応するマルウェアを示す。マルウェアの検出には「clamav」ソフトウェアを使用した。パーレン\n",
    "は、接続中に観測された同じマルウェアの数を示す。\n",
    "を示す。\n",
    "17. Ashula_detection：専用ソフトウェア[4]を用いた接続において、シェルコードやエクスプロイトコードが使用されたかどうかを意味する。\n",
    "0」はシェルコードやエクスプロイトコードが観測されなかったことを意味する。\n",
    "アラビア数字(「0」を除く)は、シェルコードとエクスプロイトコードの種類を意味する。\n",
    "はシェルコードやエクスプロイトコードの種類を意味する。括弧\n",
    "は、接続中に観測された同じシェルコードやエクスプロイトコードの数を示す。\n",
    "の数を示す。\n",
    "18. ラベル: セッションが攻撃されたかどうかを示す。\n",
    "I」はセッションが正常であったことを意味し、「-1」は既知の攻撃が観測されたことを意味する、\n",
    "I」はセッションが正常であることを意味し、「-1」はセッション中に既知の攻撃が観測されたことを、「-2」はセッション中に未知の攻撃が観測されたことを意味する。\n",
    "19. 送信元 IP アドレス：セッションで使用された送信元 IP アドレスを示す。\n",
    "セキュリティ上の懸念から、IPv4上の元のIPアドレスは、プロパテ\n",
    "にサニタイズされている。\n",
    "IPアドレス)(5)の1つにサニタイズされた。また、同じプライベートIPアドレスは同じ月にのみ有効である。\n",
    "また、同じプライベートIPアドレスは同じ月にのみ有効である。\n",
    "2つのプライベートIPアドレスが同じ月内に同じであれば、IPv4上のIPアドレスも同じであることを意味する、\n",
    "しかし、2つのプライベートIPアドレスが異なる月に同じであれば、IPv4上のIPアドレスも同じであることを意味する、\n",
    "IPv4上のIPアドレスも異なる。\n",
    "20. 送信元ポート番号(Source_Port _Number)：セッションで使用された送信元ポート番号を示す。\n",
    "ションで使用される送信元ポート番号を示す。\n",
    "21. 宛先 IP アドレス(Destination IP Address): セッションで使用された送信元 IP アドレスを示します。\n",
    "ションで使用された送信元 IP アドレスを示します。セキュリティ上の懸念から、IPv4上の元のIPアドレスは適切にサニタイズされている。\n",
    "に適切にサニタイズされている。\n",
    "(プライベートIPアドレス5）。また、同じプライベートIPアドレスは同じ月にのみ有効である。\n",
    "また、同じプライベートIPアドレスは同じ月にのみ有効である。\n",
    "また、同じプライベートIPアドレスは同じ月にのみ有効で、同じ月内に2つのプライベートIPアドレスが同じであれば、IPv4上のIPアドレスも同じということになる、\n",
    "しかし、2つのプライベートIPアドレスが異なる月に同じであれば、IPv4上のIPアドレスも同じであることを意味する、\n",
    "IPv4上のIPアドレスも異なる。\n",
    "22. destination_port_number：セッションで使用された宛先ポート番号を示す。\n",
    "セッションで使用される宛先ポート番号。\n",
    "23. Start_Time: セッションが開始された時刻。\n",
    "24. Protocol: 接続で使用されているプロトコルを示します。\n",
    "接続状態の要約"
   ],
   "metadata": {
    "collapsed": false
   }
  },
  {
   "cell_type": "code",
   "execution_count": 2,
   "outputs": [
    {
     "name": "stdout",
     "output_type": "stream",
     "text": [
      "25\n"
     ]
    }
   ],
   "source": [
    "# 特徴量名を定義する．\n",
    "names = ['duration', # the length (number of seconds) of the connection\n",
    "         'service',\n",
    "         'source_bytes',\n",
    "         'destination_bytes',\n",
    "         'count',\n",
    "         'same_srv_rate',\n",
    "         'serror_rate',\n",
    "         'srv_serror_rate',\n",
    "         'dst_host_count',\n",
    "         'dst_host_srv_count',\n",
    "         'dst_host_same_src_port_rate',\n",
    "         'dst_host_serror_rate',\n",
    "         'dst_host_srv_serror_rate',\n",
    "         'flag',\n",
    "         'ids_detection',\n",
    "         'malware_detection',\n",
    "         'ashula_detection',\n",
    "         'label',\n",
    "         'source_ip_address',\n",
    "         'source_port_number',\n",
    "         'destination_ip_address',\n",
    "         'destination_port_number',\n",
    "         'start_time',\n",
    "         'duration?',\n",
    "         'protocol'\n",
    "         ]\n",
    "print(len(names))"
   ],
   "metadata": {
    "collapsed": false,
    "ExecuteTime": {
     "end_time": "2023-07-04T00:41:19.031579Z",
     "start_time": "2023-07-04T00:41:19.029114Z"
    }
   }
  },
  {
   "cell_type": "code",
   "execution_count": 3,
   "outputs": [
    {
     "data": {
      "text/plain": "    duration service  source_bytes  destination_bytes  count  same_srv_rate  \\\n0   86279.23   other             1                  0    0.0            0.0   \n1      27.56    smtp          3179                175    0.0            0.0   \n2       0.31   other             4                  0    0.0            0.0   \n3       0.00   other             0                  0    0.0            0.0   \n4   86366.25   other        244776                  0    0.0            0.0   \n..       ...     ...           ...                ...    ...            ...   \n95     70.07    http           338                530    0.0            0.0   \n96     74.06     ssl         54431               7357    0.0            0.0   \n97      0.26   other             4                  0    0.0            0.0   \n98      0.34   other             4                  0    0.0            0.0   \n99      0.00   other             0                  0    0.0            0.0   \n\n    serror_rate  srv_serror_rate  dst_host_count  dst_host_srv_count  ...  \\\n0           0.0              0.0             0.0                 0.0  ...   \n1           0.0              0.0             0.0                 0.0  ...   \n2           0.0              0.0             0.0                 0.0  ...   \n3           0.0              0.0             0.0                 0.0  ...   \n4           0.0              0.0             0.0                 0.0  ...   \n..          ...              ...             ...                 ...  ...   \n95          0.0              0.0             0.0                 0.0  ...   \n96          0.0              0.0             0.0                 0.0  ...   \n97          0.0              0.0             0.0                 0.0  ...   \n98          0.0              0.0             0.0                 0.0  ...   \n99          0.0              0.0             0.0                 0.0  ...   \n\n    malware_detection  ashula_detection  label  \\\n0                   0                 0     -1   \n1                   0                 0      1   \n2                   0                 0     -1   \n3                   0                 0     -1   \n4                   0                 0     -1   \n..                ...               ...    ...   \n95                  0                 0     -1   \n96                  0                 0     -1   \n97                  0                 0     -1   \n98                  0                 0     -1   \n99                  0                 0     -1   \n\n                          source_ip_address source_port_number  \\\n0   fd4c:ff67:cea4:276b:7dce:27c1:0f3a:1583                445   \n1   fd4c:ff67:cea4:70b8:13b6:277d:3f06:42ea               2161   \n2   fd4c:ff67:cea4:c649:7db6:27b4:07f1:0507                445   \n3   fd4c:ff67:cea4:e8fa:3f33:57d4:ff94:00d4                138   \n4   fd4c:ff67:cea4:b428:7daf:2705:0761:288d              32770   \n..                                      ...                ...   \n95  fd4c:ff67:cea4:276b:7dce:27c1:0f3a:1583               1101   \n96  fd4c:ff67:cea4:276b:7dce:27c1:0f3a:1583               1102   \n97  fd4c:ff67:cea4:66e3:7d0b:2767:0fb4:1b92                445   \n98  fd4c:ff67:cea4:c649:7db6:27b4:07f1:0507                445   \n99  fd4c:ff67:cea4:e8fa:3f33:57d4:ff94:00d4                138   \n\n                     destination_ip_address destination_port_number  \\\n0   fd4c:ff67:cea4:d54b:7da1:0890:1b90:036f                   15009   \n1   fd4c:ff67:cea4:d671:7d5a:2725:07e0:0fe0                      25   \n2   fd4c:ff67:cea4:333b:68a7:1385:53a5:317c                    2028   \n3   fd4c:ff67:cea4:3839:3fce:574a:ff82:0047                     138   \n4   fd4c:ff67:cea4:023b:1054:0118:02e2:2a7e                    8649   \n..                                      ...                     ...   \n95  fd4c:ff67:cea4:2d01:3fbd:03f2:0285:41ba                      80   \n96  fd4c:ff67:cea4:2d01:3fbd:03f2:0285:41ba                     443   \n97  fd4c:ff67:cea4:d54b:7da1:0890:1b90:036f                    1457   \n98  fd4c:ff67:cea4:333b:68a7:1385:53a5:317c                    2028   \n99  fd4c:ff67:cea4:3839:3fce:574a:ff82:0047                     138   \n\n    start_time     duration?  protocol  \n0     00:00:06  86279.225125       tcp  \n1     00:00:09     27.561208       tcp  \n2     00:00:12      0.308286       tcp  \n3     00:00:14      0.000000       udp  \n4     00:00:15  86366.249616       udp  \n..         ...           ...       ...  \n95    00:11:36     70.070740       tcp  \n96    00:11:39     74.063326       tcp  \n97    00:11:40      0.260942       tcp  \n98    00:12:12      0.337270       tcp  \n99    00:12:17      0.000000       udp  \n\n[100 rows x 25 columns]",
      "text/html": "<div>\n<style scoped>\n    .dataframe tbody tr th:only-of-type {\n        vertical-align: middle;\n    }\n\n    .dataframe tbody tr th {\n        vertical-align: top;\n    }\n\n    .dataframe thead th {\n        text-align: right;\n    }\n</style>\n<table border=\"1\" class=\"dataframe\">\n  <thead>\n    <tr style=\"text-align: right;\">\n      <th></th>\n      <th>duration</th>\n      <th>service</th>\n      <th>source_bytes</th>\n      <th>destination_bytes</th>\n      <th>count</th>\n      <th>same_srv_rate</th>\n      <th>serror_rate</th>\n      <th>srv_serror_rate</th>\n      <th>dst_host_count</th>\n      <th>dst_host_srv_count</th>\n      <th>...</th>\n      <th>malware_detection</th>\n      <th>ashula_detection</th>\n      <th>label</th>\n      <th>source_ip_address</th>\n      <th>source_port_number</th>\n      <th>destination_ip_address</th>\n      <th>destination_port_number</th>\n      <th>start_time</th>\n      <th>duration?</th>\n      <th>protocol</th>\n    </tr>\n  </thead>\n  <tbody>\n    <tr>\n      <th>0</th>\n      <td>86279.23</td>\n      <td>other</td>\n      <td>1</td>\n      <td>0</td>\n      <td>0.0</td>\n      <td>0.0</td>\n      <td>0.0</td>\n      <td>0.0</td>\n      <td>0.0</td>\n      <td>0.0</td>\n      <td>...</td>\n      <td>0</td>\n      <td>0</td>\n      <td>-1</td>\n      <td>fd4c:ff67:cea4:276b:7dce:27c1:0f3a:1583</td>\n      <td>445</td>\n      <td>fd4c:ff67:cea4:d54b:7da1:0890:1b90:036f</td>\n      <td>15009</td>\n      <td>00:00:06</td>\n      <td>86279.225125</td>\n      <td>tcp</td>\n    </tr>\n    <tr>\n      <th>1</th>\n      <td>27.56</td>\n      <td>smtp</td>\n      <td>3179</td>\n      <td>175</td>\n      <td>0.0</td>\n      <td>0.0</td>\n      <td>0.0</td>\n      <td>0.0</td>\n      <td>0.0</td>\n      <td>0.0</td>\n      <td>...</td>\n      <td>0</td>\n      <td>0</td>\n      <td>1</td>\n      <td>fd4c:ff67:cea4:70b8:13b6:277d:3f06:42ea</td>\n      <td>2161</td>\n      <td>fd4c:ff67:cea4:d671:7d5a:2725:07e0:0fe0</td>\n      <td>25</td>\n      <td>00:00:09</td>\n      <td>27.561208</td>\n      <td>tcp</td>\n    </tr>\n    <tr>\n      <th>2</th>\n      <td>0.31</td>\n      <td>other</td>\n      <td>4</td>\n      <td>0</td>\n      <td>0.0</td>\n      <td>0.0</td>\n      <td>0.0</td>\n      <td>0.0</td>\n      <td>0.0</td>\n      <td>0.0</td>\n      <td>...</td>\n      <td>0</td>\n      <td>0</td>\n      <td>-1</td>\n      <td>fd4c:ff67:cea4:c649:7db6:27b4:07f1:0507</td>\n      <td>445</td>\n      <td>fd4c:ff67:cea4:333b:68a7:1385:53a5:317c</td>\n      <td>2028</td>\n      <td>00:00:12</td>\n      <td>0.308286</td>\n      <td>tcp</td>\n    </tr>\n    <tr>\n      <th>3</th>\n      <td>0.00</td>\n      <td>other</td>\n      <td>0</td>\n      <td>0</td>\n      <td>0.0</td>\n      <td>0.0</td>\n      <td>0.0</td>\n      <td>0.0</td>\n      <td>0.0</td>\n      <td>0.0</td>\n      <td>...</td>\n      <td>0</td>\n      <td>0</td>\n      <td>-1</td>\n      <td>fd4c:ff67:cea4:e8fa:3f33:57d4:ff94:00d4</td>\n      <td>138</td>\n      <td>fd4c:ff67:cea4:3839:3fce:574a:ff82:0047</td>\n      <td>138</td>\n      <td>00:00:14</td>\n      <td>0.000000</td>\n      <td>udp</td>\n    </tr>\n    <tr>\n      <th>4</th>\n      <td>86366.25</td>\n      <td>other</td>\n      <td>244776</td>\n      <td>0</td>\n      <td>0.0</td>\n      <td>0.0</td>\n      <td>0.0</td>\n      <td>0.0</td>\n      <td>0.0</td>\n      <td>0.0</td>\n      <td>...</td>\n      <td>0</td>\n      <td>0</td>\n      <td>-1</td>\n      <td>fd4c:ff67:cea4:b428:7daf:2705:0761:288d</td>\n      <td>32770</td>\n      <td>fd4c:ff67:cea4:023b:1054:0118:02e2:2a7e</td>\n      <td>8649</td>\n      <td>00:00:15</td>\n      <td>86366.249616</td>\n      <td>udp</td>\n    </tr>\n    <tr>\n      <th>...</th>\n      <td>...</td>\n      <td>...</td>\n      <td>...</td>\n      <td>...</td>\n      <td>...</td>\n      <td>...</td>\n      <td>...</td>\n      <td>...</td>\n      <td>...</td>\n      <td>...</td>\n      <td>...</td>\n      <td>...</td>\n      <td>...</td>\n      <td>...</td>\n      <td>...</td>\n      <td>...</td>\n      <td>...</td>\n      <td>...</td>\n      <td>...</td>\n      <td>...</td>\n      <td>...</td>\n    </tr>\n    <tr>\n      <th>95</th>\n      <td>70.07</td>\n      <td>http</td>\n      <td>338</td>\n      <td>530</td>\n      <td>0.0</td>\n      <td>0.0</td>\n      <td>0.0</td>\n      <td>0.0</td>\n      <td>0.0</td>\n      <td>0.0</td>\n      <td>...</td>\n      <td>0</td>\n      <td>0</td>\n      <td>-1</td>\n      <td>fd4c:ff67:cea4:276b:7dce:27c1:0f3a:1583</td>\n      <td>1101</td>\n      <td>fd4c:ff67:cea4:2d01:3fbd:03f2:0285:41ba</td>\n      <td>80</td>\n      <td>00:11:36</td>\n      <td>70.070740</td>\n      <td>tcp</td>\n    </tr>\n    <tr>\n      <th>96</th>\n      <td>74.06</td>\n      <td>ssl</td>\n      <td>54431</td>\n      <td>7357</td>\n      <td>0.0</td>\n      <td>0.0</td>\n      <td>0.0</td>\n      <td>0.0</td>\n      <td>0.0</td>\n      <td>0.0</td>\n      <td>...</td>\n      <td>0</td>\n      <td>0</td>\n      <td>-1</td>\n      <td>fd4c:ff67:cea4:276b:7dce:27c1:0f3a:1583</td>\n      <td>1102</td>\n      <td>fd4c:ff67:cea4:2d01:3fbd:03f2:0285:41ba</td>\n      <td>443</td>\n      <td>00:11:39</td>\n      <td>74.063326</td>\n      <td>tcp</td>\n    </tr>\n    <tr>\n      <th>97</th>\n      <td>0.26</td>\n      <td>other</td>\n      <td>4</td>\n      <td>0</td>\n      <td>0.0</td>\n      <td>0.0</td>\n      <td>0.0</td>\n      <td>0.0</td>\n      <td>0.0</td>\n      <td>0.0</td>\n      <td>...</td>\n      <td>0</td>\n      <td>0</td>\n      <td>-1</td>\n      <td>fd4c:ff67:cea4:66e3:7d0b:2767:0fb4:1b92</td>\n      <td>445</td>\n      <td>fd4c:ff67:cea4:d54b:7da1:0890:1b90:036f</td>\n      <td>1457</td>\n      <td>00:11:40</td>\n      <td>0.260942</td>\n      <td>tcp</td>\n    </tr>\n    <tr>\n      <th>98</th>\n      <td>0.34</td>\n      <td>other</td>\n      <td>4</td>\n      <td>0</td>\n      <td>0.0</td>\n      <td>0.0</td>\n      <td>0.0</td>\n      <td>0.0</td>\n      <td>0.0</td>\n      <td>0.0</td>\n      <td>...</td>\n      <td>0</td>\n      <td>0</td>\n      <td>-1</td>\n      <td>fd4c:ff67:cea4:c649:7db6:27b4:07f1:0507</td>\n      <td>445</td>\n      <td>fd4c:ff67:cea4:333b:68a7:1385:53a5:317c</td>\n      <td>2028</td>\n      <td>00:12:12</td>\n      <td>0.337270</td>\n      <td>tcp</td>\n    </tr>\n    <tr>\n      <th>99</th>\n      <td>0.00</td>\n      <td>other</td>\n      <td>0</td>\n      <td>0</td>\n      <td>0.0</td>\n      <td>0.0</td>\n      <td>0.0</td>\n      <td>0.0</td>\n      <td>0.0</td>\n      <td>0.0</td>\n      <td>...</td>\n      <td>0</td>\n      <td>0</td>\n      <td>-1</td>\n      <td>fd4c:ff67:cea4:e8fa:3f33:57d4:ff94:00d4</td>\n      <td>138</td>\n      <td>fd4c:ff67:cea4:3839:3fce:574a:ff82:0047</td>\n      <td>138</td>\n      <td>00:12:17</td>\n      <td>0.000000</td>\n      <td>udp</td>\n    </tr>\n  </tbody>\n</table>\n<p>100 rows × 25 columns</p>\n</div>"
     },
     "execution_count": 3,
     "metadata": {},
     "output_type": "execute_result"
    }
   ],
   "source": [
    "# まずは1つのデータのみで特徴量を確認する\n",
    "data = pd.read_csv(\"../dataset/kyoto_2016/2006/11/20061101.txt\", names=names, sep='\\t', index_col=False)\n",
    "data.head(100)"
   ],
   "metadata": {
    "collapsed": false,
    "ExecuteTime": {
     "end_time": "2023-07-04T00:41:19.084995Z",
     "start_time": "2023-07-04T00:41:19.033039Z"
    }
   }
  },
  {
   "cell_type": "code",
   "execution_count": 4,
   "outputs": [
    {
     "data": {
      "text/plain": "-1    8615\n 1    1046\nName: label, dtype: int64"
     },
     "execution_count": 4,
     "metadata": {},
     "output_type": "execute_result"
    }
   ],
   "source": [
    "data['label'].value_counts()"
   ],
   "metadata": {
    "collapsed": false,
    "ExecuteTime": {
     "end_time": "2023-07-04T00:41:19.086562Z",
     "start_time": "2023-07-04T00:41:19.076486Z"
    }
   }
  },
  {
   "cell_type": "markdown",
   "source": [
    "不正ラベル：8615件\n",
    "正常ラベル：1046件\n"
   ],
   "metadata": {
    "collapsed": false
   }
  },
  {
   "cell_type": "code",
   "execution_count": 5,
   "outputs": [
    {
     "data": {
      "text/plain": "(9661, 25)"
     },
     "execution_count": 5,
     "metadata": {},
     "output_type": "execute_result"
    }
   ],
   "source": [
    "data.shape"
   ],
   "metadata": {
    "collapsed": false,
    "ExecuteTime": {
     "end_time": "2023-07-04T00:41:19.088001Z",
     "start_time": "2023-07-04T00:41:19.081910Z"
    }
   }
  },
  {
   "cell_type": "code",
   "execution_count": 6,
   "outputs": [],
   "source": [
    "# 特徴量とラベルに分割\n",
    "data_x = data.copy().drop('label', axis=1)\n",
    "# 正常ラベルを0，不正ラベルを1とする\n",
    "data_y = data['label'].copy().apply(lambda x: 0 if x > 0 else 1)"
   ],
   "metadata": {
    "collapsed": false,
    "ExecuteTime": {
     "end_time": "2023-07-04T00:41:19.091949Z",
     "start_time": "2023-07-04T00:41:19.087736Z"
    }
   }
  },
  {
   "cell_type": "code",
   "execution_count": 7,
   "outputs": [
    {
     "data": {
      "text/plain": "duration                       float64\nservice                         object\nsource_bytes                     int64\ndestination_bytes                int64\ncount                          float64\nsame_srv_rate                  float64\nserror_rate                    float64\nsrv_serror_rate                float64\ndst_host_count                 float64\ndst_host_srv_count             float64\ndst_host_same_src_port_rate    float64\ndst_host_serror_rate           float64\ndst_host_srv_serror_rate       float64\nflag                            object\nids_detection                   object\nmalware_detection               object\nashula_detection                object\nlabel                            int64\nsource_ip_address               object\nsource_port_number               int64\ndestination_ip_address          object\ndestination_port_number          int64\nstart_time                      object\nduration?                      float64\nprotocol                        object\ndtype: object"
     },
     "execution_count": 7,
     "metadata": {},
     "output_type": "execute_result"
    }
   ],
   "source": [
    "# カテゴリデータを削除\n",
    "data.dtypes"
   ],
   "metadata": {
    "collapsed": false,
    "ExecuteTime": {
     "end_time": "2023-07-04T00:41:19.096211Z",
     "start_time": "2023-07-04T00:41:19.094262Z"
    }
   }
  },
  {
   "cell_type": "code",
   "execution_count": 8,
   "outputs": [
    {
     "data": {
      "text/plain": "   duration  source_bytes  destination_bytes  count  same_srv_rate  \\\n0  86279.23             1                  0    0.0            0.0   \n1     27.56          3179                175    0.0            0.0   \n2      0.31             4                  0    0.0            0.0   \n3      0.00             0                  0    0.0            0.0   \n4  86366.25        244776                  0    0.0            0.0   \n\n   serror_rate  srv_serror_rate  dst_host_count  dst_host_srv_count  \\\n0          0.0              0.0             0.0                 0.0   \n1          0.0              0.0             0.0                 0.0   \n2          0.0              0.0             0.0                 0.0   \n3          0.0              0.0             0.0                 0.0   \n4          0.0              0.0             0.0                 0.0   \n\n   dst_host_same_src_port_rate  dst_host_serror_rate  \\\n0                          0.0                   0.0   \n1                          0.0                   0.0   \n2                          0.0                   0.0   \n3                          0.0                   0.0   \n4                          0.0                   0.0   \n\n   dst_host_srv_serror_rate  source_port_number  destination_port_number  \n0                       0.0                 445                    15009  \n1                       0.0                2161                       25  \n2                       0.0                 445                     2028  \n3                       0.0                 138                      138  \n4                       0.0               32770                     8649  ",
      "text/html": "<div>\n<style scoped>\n    .dataframe tbody tr th:only-of-type {\n        vertical-align: middle;\n    }\n\n    .dataframe tbody tr th {\n        vertical-align: top;\n    }\n\n    .dataframe thead th {\n        text-align: right;\n    }\n</style>\n<table border=\"1\" class=\"dataframe\">\n  <thead>\n    <tr style=\"text-align: right;\">\n      <th></th>\n      <th>duration</th>\n      <th>source_bytes</th>\n      <th>destination_bytes</th>\n      <th>count</th>\n      <th>same_srv_rate</th>\n      <th>serror_rate</th>\n      <th>srv_serror_rate</th>\n      <th>dst_host_count</th>\n      <th>dst_host_srv_count</th>\n      <th>dst_host_same_src_port_rate</th>\n      <th>dst_host_serror_rate</th>\n      <th>dst_host_srv_serror_rate</th>\n      <th>source_port_number</th>\n      <th>destination_port_number</th>\n    </tr>\n  </thead>\n  <tbody>\n    <tr>\n      <th>0</th>\n      <td>86279.23</td>\n      <td>1</td>\n      <td>0</td>\n      <td>0.0</td>\n      <td>0.0</td>\n      <td>0.0</td>\n      <td>0.0</td>\n      <td>0.0</td>\n      <td>0.0</td>\n      <td>0.0</td>\n      <td>0.0</td>\n      <td>0.0</td>\n      <td>445</td>\n      <td>15009</td>\n    </tr>\n    <tr>\n      <th>1</th>\n      <td>27.56</td>\n      <td>3179</td>\n      <td>175</td>\n      <td>0.0</td>\n      <td>0.0</td>\n      <td>0.0</td>\n      <td>0.0</td>\n      <td>0.0</td>\n      <td>0.0</td>\n      <td>0.0</td>\n      <td>0.0</td>\n      <td>0.0</td>\n      <td>2161</td>\n      <td>25</td>\n    </tr>\n    <tr>\n      <th>2</th>\n      <td>0.31</td>\n      <td>4</td>\n      <td>0</td>\n      <td>0.0</td>\n      <td>0.0</td>\n      <td>0.0</td>\n      <td>0.0</td>\n      <td>0.0</td>\n      <td>0.0</td>\n      <td>0.0</td>\n      <td>0.0</td>\n      <td>0.0</td>\n      <td>445</td>\n      <td>2028</td>\n    </tr>\n    <tr>\n      <th>3</th>\n      <td>0.00</td>\n      <td>0</td>\n      <td>0</td>\n      <td>0.0</td>\n      <td>0.0</td>\n      <td>0.0</td>\n      <td>0.0</td>\n      <td>0.0</td>\n      <td>0.0</td>\n      <td>0.0</td>\n      <td>0.0</td>\n      <td>0.0</td>\n      <td>138</td>\n      <td>138</td>\n    </tr>\n    <tr>\n      <th>4</th>\n      <td>86366.25</td>\n      <td>244776</td>\n      <td>0</td>\n      <td>0.0</td>\n      <td>0.0</td>\n      <td>0.0</td>\n      <td>0.0</td>\n      <td>0.0</td>\n      <td>0.0</td>\n      <td>0.0</td>\n      <td>0.0</td>\n      <td>0.0</td>\n      <td>32770</td>\n      <td>8649</td>\n    </tr>\n  </tbody>\n</table>\n</div>"
     },
     "execution_count": 8,
     "metadata": {},
     "output_type": "execute_result"
    }
   ],
   "source": [
    "data_x = data_x.drop(['service', 'flag', 'ids_detection', 'malware_detection', 'ashula_detection', 'source_ip_address', 'destination_ip_address', 'start_time', 'duration?', 'protocol'], axis=1)\n",
    "data_x.head()\n"
   ],
   "metadata": {
    "collapsed": false,
    "ExecuteTime": {
     "end_time": "2023-07-04T00:41:19.138308Z",
     "start_time": "2023-07-04T00:41:19.103122Z"
    }
   }
  },
  {
   "cell_type": "code",
   "execution_count": 9,
   "outputs": [],
   "source": [
    "# 標準化\n",
    "from sklearn.preprocessing import StandardScaler\n",
    "data_x = pd.DataFrame(StandardScaler().fit_transform(data_x))"
   ],
   "metadata": {
    "collapsed": false,
    "ExecuteTime": {
     "end_time": "2023-07-04T00:41:19.139049Z",
     "start_time": "2023-07-04T00:41:19.105342Z"
    }
   }
  },
  {
   "cell_type": "code",
   "execution_count": 10,
   "outputs": [],
   "source": [
    "# 学習データと，検証データを2：1に分ける．\n",
    "x_train, x_test, y_train, y_test = train_test_split(data_x, data_y, stratify=data_y, test_size=0.33, random_state=2018)"
   ],
   "metadata": {
    "collapsed": false,
    "ExecuteTime": {
     "end_time": "2023-07-04T00:41:19.230334Z",
     "start_time": "2023-07-04T00:41:19.122289Z"
    }
   }
  },
  {
   "cell_type": "code",
   "execution_count": 11,
   "outputs": [
    {
     "name": "stdout",
     "output_type": "stream",
     "text": [
      "学習・正常ラベル：701，学習・不正ラベル：5771\n",
      "検証・正常ラベル：345，検証・不正ラベル：2844\n"
     ]
    }
   ],
   "source": [
    "print(f\"学習・正常ラベル：{np.sum(y_train == 0)}，学習・不正ラベル：{np.sum(y_train   == 1)}\")\n",
    "print(f\"検証・正常ラベル：{np.sum(y_test == 0)}，検証・不正ラベル：{np.sum(y_test == 1)}\")"
   ],
   "metadata": {
    "collapsed": false,
    "ExecuteTime": {
     "end_time": "2023-07-04T00:41:19.231851Z",
     "start_time": "2023-07-04T00:41:19.134194Z"
    }
   }
  },
  {
   "cell_type": "code",
   "execution_count": 12,
   "outputs": [],
   "source": [
    "params = {\n",
    "    'task': 'train', # default\n",
    "    'boosting': 'gbdt', #  default\n",
    "    'objective': 'binary', # 2値分類：binary, 他クラス分類：multiclass\n",
    "    'metric': 'binary_logloss', # 交差エントロピー誤差\n",
    "    'learning_rate': 0.1,\n",
    "    'num_leaves': 31, # ノードの数\n",
    "    'verbose': -1,\n",
    "    'seed': RANDOM_SEED\n",
    "}\n",
    "# k分割交差検証\n",
    "#　`StratifiedKFold`は，，y_trainのラベル分布が近くなるように分割する．\n",
    "k_fold = StratifiedKFold(n_splits=5, shuffle=True, random_state=RANDOM_SEED)\n",
    "predictions_based_on_k_folds = pd.DataFrame(\n",
    "    data=[], index=y_train.index, columns=['prediction']\n",
    ")\n",
    "# 学習\n",
    "training_scores = [] # 学習率\n",
    "validation_scores = [] # 検証スコア\n"
   ],
   "metadata": {
    "collapsed": false,
    "ExecuteTime": {
     "end_time": "2023-07-04T00:41:19.231994Z",
     "start_time": "2023-07-04T00:41:19.142978Z"
    }
   }
  },
  {
   "cell_type": "code",
   "execution_count": 13,
   "outputs": [
    {
     "name": "stdout",
     "output_type": "stream",
     "text": [
      "Training until validation scores don't improve for 200 rounds\n",
      "Early stopping, best iteration is:\n",
      "[67]\tvalid_0's binary_logloss: 0.0341123\n",
      "Training until validation scores don't improve for 200 rounds\n",
      "Early stopping, best iteration is:\n",
      "[43]\tvalid_0's binary_logloss: 0.0403104\n",
      "Training until validation scores don't improve for 200 rounds\n",
      "Early stopping, best iteration is:\n",
      "[68]\tvalid_0's binary_logloss: 0.0177022\n",
      "Training until validation scores don't improve for 200 rounds\n",
      "Early stopping, best iteration is:\n",
      "[73]\tvalid_0's binary_logloss: 0.0374659\n",
      "Training until validation scores don't improve for 200 rounds\n",
      "Early stopping, best iteration is:\n",
      "[36]\tvalid_0's binary_logloss: 0.0479826\n"
     ]
    }
   ],
   "source": [
    "for t_idx, v_idx in k_fold.split(np.zeros(len(x_train)), y_train.ravel()):\n",
    "    x_train_fold, x_validation_fold = x_train.iloc[t_idx, :], x_train.iloc[v_idx, :] # 2次元配列\n",
    "    y_train_fold, y_validation_fold = y_train.iloc[t_idx], y_train.iloc[v_idx] # １次元配列\n",
    "\n",
    "    lgb_train = lgb.Dataset(x_train_fold, y_train_fold)\n",
    "    lgb_eval = lgb.Dataset(x_validation_fold, y_validation_fold, reference=lgb_train)\n",
    "    gbm = lgb.train(params, lgb_train,\n",
    "                    num_boost_round=1000, # 2000->1000\n",
    "                    valid_sets=lgb_eval,\n",
    "                    callbacks=[lgb.early_stopping(200)]\n",
    "                    )\n",
    "    y_train_pred = gbm.predict(x_train_fold, num_iteration=gbm.best_iteration)\n",
    "    training_score = log_loss(y_train_fold, y_train_pred)\n",
    "\n",
    "    y_validation_predict = gbm.predict(x_validation_fold, num_iteration=gbm.best_iteration)\n",
    "    predictions_based_on_k_folds.loc[x_validation_fold.index, 'prediction'] = y_validation_predict\n",
    "    validation_score = log_loss(y_validation_fold, y_validation_predict)\n",
    "\n",
    "    training_scores.append(training_score)\n",
    "    validation_scores.append(validation_score)\n"
   ],
   "metadata": {
    "collapsed": false,
    "ExecuteTime": {
     "end_time": "2023-07-04T00:41:35.154073Z",
     "start_time": "2023-07-04T00:41:19.153577Z"
    }
   }
  },
  {
   "cell_type": "code",
   "execution_count": 14,
   "outputs": [
    {
     "data": {
      "text/plain": "5260    0.997097\n114     0.997058\n8015    0.990514\n7045    0.997058\n6979    0.997058\n          ...   \n4648    0.997097\n4635    0.020206\n9060    0.996607\n8128    0.996952\n9649    0.997097\nLength: 3189, dtype: float64"
     },
     "execution_count": 14,
     "metadata": {},
     "output_type": "execute_result"
    }
   ],
   "source": [
    "# Evaluate on Test Set\n",
    "predictions = pd.Series(data=gbm.predict(x_test,\n",
    "                                         num_iteration=gbm.best_iteration), index=x_test.index)\n",
    "predictions\n"
   ],
   "metadata": {
    "collapsed": false,
    "ExecuteTime": {
     "end_time": "2023-07-04T00:41:35.204614Z",
     "start_time": "2023-07-04T00:41:35.169435Z"
    }
   }
  },
  {
   "cell_type": "code",
   "execution_count": 15,
   "outputs": [
    {
     "data": {
      "text/plain": "array([1, 1, 1, ..., 1, 1, 1])"
     },
     "execution_count": 15,
     "metadata": {},
     "output_type": "execute_result"
    }
   ],
   "source": [
    "# 閾値を0.5とする．\n",
    "y_pred = np.where(predictions < 0.5, 0, 1)\n",
    "y_pred\n"
   ],
   "metadata": {
    "collapsed": false,
    "ExecuteTime": {
     "end_time": "2023-07-04T00:41:35.215288Z",
     "start_time": "2023-07-04T00:41:35.209078Z"
    }
   }
  },
  {
   "cell_type": "code",
   "execution_count": 16,
   "outputs": [
    {
     "name": "stdout",
     "output_type": "stream",
     "text": [
      "Accuracy score: 0.9902790843524616\n",
      "Light GBM Gradient Boosting Log loss: 0.0423082605414367\n",
      "AUC: 0.9918083328237428\n",
      "precision score (micro): 0.9902790843524616\n",
      "precision score (macro): 0.9918048408614446\n"
     ]
    }
   ],
   "source": [
    "from sklearn.metrics import accuracy_score, roc_auc_score, precision_score\n",
    "\n",
    "# モデルの評価\n",
    "# acc: 正答率\n",
    "acc = accuracy_score(y_test, y_pred)\n",
    "print(f\"Accuracy score: {acc}\")\n",
    "\n",
    "\n",
    "# log loss\n",
    "log_loss_light_gbm_gradient_boosting = log_loss(y_test, predictions)\n",
    "print(f'Light GBM Gradient Boosting Log loss: {log_loss_light_gbm_gradient_boosting}')\n",
    "\n",
    "# AUC\n",
    "auc = roc_auc_score(y_test, predictions)\n",
    "print(f\"AUC: {auc}\")\n",
    "\n",
    "# precision score\n",
    "print(f\"precision score (micro): {precision_score(y_test, y_pred, average='micro')}\")\n",
    "print(f\"precision score (macro): {precision_score(y_test, y_pred, average='macro')}\")\n"
   ],
   "metadata": {
    "collapsed": false,
    "ExecuteTime": {
     "end_time": "2023-07-04T00:41:35.259743Z",
     "start_time": "2023-07-04T00:41:35.220433Z"
    }
   }
  },
  {
   "cell_type": "code",
   "execution_count": 17,
   "outputs": [
    {
     "name": "stdout",
     "output_type": "stream",
     "text": [
      "precision score (macro): 0.9918048408614446\n",
      "              precision    recall  f1-score   support\n",
      "\n",
      "           0   0.993711  0.915942  0.953243       345\n",
      "           1   0.989899  0.999297  0.994576      2844\n",
      "\n",
      "    accuracy                       0.990279      3189\n",
      "   macro avg   0.991805  0.957619  0.973909      3189\n",
      "weighted avg   0.990311  0.990279  0.990104      3189\n",
      "\n",
      "[[ 316   29]\n",
      " [   2 2842]]\n",
      "正常ラベルを正常と判断：316\n",
      "正常ラベルを不正と判断：29\n",
      "不正ラベルを正常と判断：2\n",
      "不正ラベルを不正と判断：2842\n",
      "正常ラベルを正常と予測した割合(正常ラベルの正解率，再現率): 0.9159420289855073\n",
      "不正ラベルを不正と予測した割合(不正ラベルの正解率): 0.9992967651195499\n",
      "適合率(マイクロ平均): 0.9902790843524616\n",
      "適合率(マクロ平均): 0.9576193970525286\n"
     ]
    }
   ],
   "source": [
    "print(f\"precision score (macro): {precision_score(y_test, y_pred, average='macro')}\")\n",
    "# 混合行列で表示\n",
    "from sklearn.metrics import classification_report, confusion_matrix\n",
    "\n",
    "print(classification_report(y_test, y_pred, digits=6))\n",
    "print(confusion_matrix(y_test, y_pred, labels=[0, 1]))\n",
    "tn, tp, fn, fp = confusion_matrix(y_test, y_pred).flatten()\n",
    "print(f'正常ラベルを正常と判断：{tn}')\n",
    "print(f'正常ラベルを不正と判断：{tp}')\n",
    "print(f'不正ラベルを正常と判断：{fn}')\n",
    "print(f'不正ラベルを不正と判断：{fp}')\n",
    "print(f'正常ラベルを正常と予測した割合(正常ラベルの正解率，再現率): {tn / (tn + tp)}')\n",
    "print(f'不正ラベルを不正と予測した割合(不正ラベルの正解率): {fp / (fn + fp)}')\n",
    "total = tn + tp + fn + fp\n",
    "print(f\"適合率(マイクロ平均): {(tn + tp) / total * (tn / (tn + tp)) + (fn + fp) / total * (fp / (fn + fp))}\")\n",
    "print(f\"適合率(マクロ平均): {0.5 * (tn / (tn + tp)) + 0.5 * (fp / (fn + fp))}\")\n",
    "\n"
   ],
   "metadata": {
    "collapsed": false,
    "ExecuteTime": {
     "end_time": "2023-07-04T00:41:35.264725Z",
     "start_time": "2023-07-04T00:41:35.247754Z"
    }
   }
  },
  {
   "cell_type": "markdown",
   "source": [
    "### 不正ラベルの方が多いので正解率も不正の方が高い．"
   ],
   "metadata": {
    "collapsed": false
   }
  },
  {
   "cell_type": "code",
   "execution_count": 17,
   "outputs": [],
   "source": [],
   "metadata": {
    "collapsed": false,
    "ExecuteTime": {
     "end_time": "2023-07-04T00:41:35.268952Z",
     "start_time": "2023-07-04T00:41:35.265089Z"
    }
   }
  }
 ],
 "metadata": {
  "kernelspec": {
   "display_name": "Python 3",
   "language": "python",
   "name": "python3"
  },
  "language_info": {
   "codemirror_mode": {
    "name": "ipython",
    "version": 2
   },
   "file_extension": ".py",
   "mimetype": "text/x-python",
   "name": "python",
   "nbconvert_exporter": "python",
   "pygments_lexer": "ipython2",
   "version": "2.7.6"
  }
 },
 "nbformat": 4,
 "nbformat_minor": 0
}
