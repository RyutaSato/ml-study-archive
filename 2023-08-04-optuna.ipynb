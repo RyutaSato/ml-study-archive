{
 "cells": [
  {
   "cell_type": "markdown",
   "source": [
    "\n",
    "## ハイパーパラメータチューニング（optuna）を試す。(再検証)\n",
    "\n",
    "### 目的\n",
    "- `2023-7-31`に行った実験の各クラスごとの混合行列も表示する。\n",
    "### 使用するデータセット\n",
    "- KDD99 10%\n",
    "### 手法\n",
    "### 結果\n",
    "### 考察"
   ],
   "metadata": {
    "collapsed": false
   },
   "id": "42e0e73af718494a"
  },
  {
   "cell_type": "code",
   "execution_count": 1,
   "id": "initial_id",
   "metadata": {
    "collapsed": true,
    "ExecuteTime": {
     "end_time": "2023-08-07T17:37:55.847394100Z",
     "start_time": "2023-08-07T17:37:50.260323800Z"
    }
   },
   "outputs": [
    {
     "name": "stdout",
     "output_type": "stream",
     "text": [
      "python:      3.10.5\n",
      "sklearn:     1.2.2\n",
      "tensorflow:  2.13.0-rc0\n",
      "keras:       2.13.1rc0\n",
      "numpy:       1.23.5\n",
      "pandas:      1.5.3\n"
     ]
    }
   ],
   "source": [
    "import pandas as pd\n",
    "\n",
    "from utils_kdd99 import *\n",
    "print_version()"
   ]
  },
  {
   "cell_type": "code",
   "execution_count": 2,
   "outputs": [
    {
     "data": {
      "text/plain": "0    391458\n1     97278\n2      4107\n3      1126\n4        52\nName: true_label, dtype: int64"
     },
     "execution_count": 2,
     "metadata": {},
     "output_type": "execute_result"
    }
   ],
   "source": [
    "# データの読み込み\n",
    "X, y = load_data(use_full_dataset=False, standard_scale=True, verbose=0, )\n",
    "# 分類モデルによっては数値ラベルしか対応していないため、目的変数を分類クラスから数値へ変換\n",
    "y = y.map(lambda x: attack_label_class[x]).map(lambda x: correspondences[x])\n",
    "y.value_counts()"
   ],
   "metadata": {
    "collapsed": false,
    "ExecuteTime": {
     "end_time": "2023-08-07T17:37:58.349712400Z",
     "start_time": "2023-08-07T17:37:55.840394400Z"
    }
   },
   "id": "a095d7df79514d5e"
  },
  {
   "cell_type": "code",
   "execution_count": 3,
   "outputs": [],
   "source": [
    "x_train, x_test, y_train, y_test = train_test_split(X, y, test_size=0.33, random_state=RANDOM_SEED, stratify=y)"
   ],
   "metadata": {
    "collapsed": false,
    "ExecuteTime": {
     "end_time": "2023-08-07T17:37:58.919095900Z",
     "start_time": "2023-08-07T17:37:58.350707100Z"
    }
   },
   "id": "bf5619978d22c04c"
  },
  {
   "cell_type": "markdown",
   "source": [
    "### Dosのみを学習したオートエンコーダの作成\n",
    "- 隠れ層の次元数(38->10->5->10->38)\n",
    "- 活性化関数：ReLU\n",
    "- 最適化関数：adam\n",
    "- 損失関数：平均二乗誤差\n",
    "- エポック数：5\n",
    "- バッチサイズ：32"
   ],
   "metadata": {
    "collapsed": false
   },
   "id": "d776cca5aad065b6"
  },
  {
   "cell_type": "code",
   "execution_count": 4,
   "outputs": [
    {
     "name": "stdout",
     "output_type": "stream",
     "text": [
      "Model: \"sequential\"\n",
      "_________________________________________________________________\n",
      " Layer (type)                Output Shape              Param #   \n",
      "=================================================================\n",
      " encoder1 (Dense)            (None, 10)                390       \n",
      "                                                                 \n",
      " encoder2 (Dense)            (None, 5)                 55        \n",
      "                                                                 \n",
      " dense (Dense)               (None, 10)                60        \n",
      "                                                                 \n",
      " dense_1 (Dense)             (None, 38)                418       \n",
      "                                                                 \n",
      "=================================================================\n",
      "Total params: 923 (3.61 KB)\n",
      "Trainable params: 923 (3.61 KB)\n",
      "Non-trainable params: 0 (0.00 Byte)\n",
      "_________________________________________________________________\n"
     ]
    }
   ],
   "source": [
    "ae_model = keras.Sequential([\n",
    "    Dense(units=10, activation='relu', input_dim=38, name='encoder1'),\n",
    "    Dense(units=5, activation='relu', name='encoder2'),\n",
    "    Dense(units=10, activation='relu'),\n",
    "    Dense(units=38, activation='relu'),\n",
    "])\n",
    "ae_model.compile(optimizer='adam', loss='mean_squared_error', metrics=['accuracy'])\n",
    "ae_model.summary()"
   ],
   "metadata": {
    "collapsed": false,
    "ExecuteTime": {
     "end_time": "2023-08-07T17:37:59.075635500Z",
     "start_time": "2023-08-07T17:37:58.922094700Z"
    }
   },
   "id": "4c4d5ecf7fd0bc33"
  },
  {
   "cell_type": "code",
   "execution_count": 5,
   "outputs": [],
   "source": [
    "# Dosのみのデータセットを作成\n",
    "dos_x_train = x_train[y_train == correspondences['dos']]"
   ],
   "metadata": {
    "collapsed": false,
    "ExecuteTime": {
     "end_time": "2023-08-07T17:37:59.136149900Z",
     "start_time": "2023-08-07T17:37:59.062620200Z"
    }
   },
   "id": "11497b669c0fd920"
  },
  {
   "cell_type": "code",
   "execution_count": 6,
   "outputs": [
    {
     "name": "stdout",
     "output_type": "stream",
     "text": [
      "Epoch 1/5\n",
      "8197/8197 [==============================] - 14s 2ms/step - loss: 0.2190 - accuracy: 0.8300\n",
      "Epoch 2/5\n",
      "8197/8197 [==============================] - 13s 2ms/step - loss: 0.1928 - accuracy: 0.8559\n",
      "Epoch 3/5\n",
      "8197/8197 [==============================] - 13s 2ms/step - loss: 0.1922 - accuracy: 0.8499\n",
      "Epoch 4/5\n",
      "8197/8197 [==============================] - 14s 2ms/step - loss: 0.1919 - accuracy: 0.8583\n",
      "Epoch 5/5\n",
      "8197/8197 [==============================] - 14s 2ms/step - loss: 0.1919 - accuracy: 0.8539\n"
     ]
    },
    {
     "data": {
      "text/plain": "<keras.src.callbacks.History at 0x226807e0520>"
     },
     "execution_count": 6,
     "metadata": {},
     "output_type": "execute_result"
    }
   ],
   "source": [
    "ae_model.fit(dos_x_train, dos_x_train,\n",
    "            epochs=5, # データセットを使って学習する回数\n",
    "            batch_size=32,\n",
    "            shuffle=True,\n",
    "            verbose=1,\n",
    "            use_multiprocessing=True\n",
    "          )"
   ],
   "metadata": {
    "collapsed": false,
    "ExecuteTime": {
     "end_time": "2023-08-07T17:39:22.104594400Z",
     "start_time": "2023-08-07T17:37:59.110167300Z"
    }
   },
   "id": "4100f2b92c02e6e4"
  },
  {
   "cell_type": "code",
   "execution_count": 7,
   "outputs": [
    {
     "data": {
      "text/plain": "['dos0', 'dos1', 'dos2', 'dos3', 'dos4']"
     },
     "execution_count": 7,
     "metadata": {},
     "output_type": "execute_result"
    }
   ],
   "source": [
    "# エンコーダー部分を抜き取る\n",
    "encoder = keras.Sequential([ae_model.get_layer('encoder1'),\n",
    "                            ae_model.get_layer('encoder2')])\n",
    "# DOSエンコーダを用いた特徴量に命名\n",
    "dos_columns = list(map(lambda x: 'dos' + str(x), range(5)))\n",
    "dos_columns"
   ],
   "metadata": {
    "collapsed": false,
    "ExecuteTime": {
     "end_time": "2023-08-07T17:39:22.105594300Z",
     "start_time": "2023-08-07T17:39:07.273686300Z"
    }
   },
   "id": "c90ea97000cb72d6"
  },
  {
   "cell_type": "code",
   "execution_count": 8,
   "outputs": [
    {
     "name": "stdout",
     "output_type": "stream",
     "text": [
      "10344/10344 [==============================] - 9s 895us/step\n",
      "5095/5095 [==============================] - 6s 1ms/step\n"
     ]
    },
    {
     "data": {
      "text/plain": "        duration  src_bytes  dst_bytes      land  wrong_fragment    urgent  \\\n212221 -0.067792  -0.002017  -0.026287 -0.006673        -0.04772 -0.002571   \n30903  -0.067792  -0.002774   0.472896 -0.006673        -0.04772 -0.002571   \n9739   -0.067792  -0.002017  -0.026287 -0.006673        -0.04772 -0.002571   \n37540  -0.067792  -0.002776  -0.014120 -0.006673        -0.04772 -0.002571   \n418638 -0.067792  -0.002535  -0.026287 -0.006673        -0.04772 -0.002571   \n\n             hot  num_failed_logins  logged_in  num_compromised  ...  \\\n212221 -0.044136          -0.009782  -0.417192        -0.005679  ...   \n30903  -0.044136          -0.009782   2.396980        -0.005679  ...   \n9739   -0.044136          -0.009782  -0.417192        -0.005679  ...   \n37540  -0.044136          -0.009782   2.396980        -0.005679  ...   \n418638 -0.044136          -0.009782  -0.417192        -0.005679  ...   \n\n        dst_host_srv_diff_host_rate  dst_host_serror_rate  \\\n212221                    -0.158629             -0.464418   \n30903                      0.553404             -0.464418   \n9739                      -0.158629             -0.464418   \n37540                      0.790749             -0.464418   \n418638                    -0.158629             -0.464418   \n\n        dst_host_srv_serror_rate  dst_host_rerror_rate  \\\n212221                 -0.463202              -0.25204   \n30903                  -0.463202              -0.25204   \n9739                   -0.463202              -0.25204   \n37540                  -0.463202              -0.25204   \n418638                 -0.463202              -0.25204   \n\n        dst_host_srv_rerror_rate      dos0      dos1      dos2      dos3  \\\n212221                 -0.249464  0.000000  2.195888  1.095266  0.448647   \n30903                  -0.249464  2.079610  0.410976  0.466956  0.835854   \n9739                   -0.249464  0.000000  2.198084  1.093214  0.446404   \n37540                  -0.249464  2.003659  0.624644  0.726423  0.977872   \n418638                 -0.249464  0.000000  2.198297  1.093663  0.446661   \n\n            dos4  \n212221  0.000000  \n30903   0.248984  \n9739    0.000000  \n37540   0.048583  \n418638  0.000000  \n\n[5 rows x 43 columns]",
      "text/html": "<div>\n<style scoped>\n    .dataframe tbody tr th:only-of-type {\n        vertical-align: middle;\n    }\n\n    .dataframe tbody tr th {\n        vertical-align: top;\n    }\n\n    .dataframe thead th {\n        text-align: right;\n    }\n</style>\n<table border=\"1\" class=\"dataframe\">\n  <thead>\n    <tr style=\"text-align: right;\">\n      <th></th>\n      <th>duration</th>\n      <th>src_bytes</th>\n      <th>dst_bytes</th>\n      <th>land</th>\n      <th>wrong_fragment</th>\n      <th>urgent</th>\n      <th>hot</th>\n      <th>num_failed_logins</th>\n      <th>logged_in</th>\n      <th>num_compromised</th>\n      <th>...</th>\n      <th>dst_host_srv_diff_host_rate</th>\n      <th>dst_host_serror_rate</th>\n      <th>dst_host_srv_serror_rate</th>\n      <th>dst_host_rerror_rate</th>\n      <th>dst_host_srv_rerror_rate</th>\n      <th>dos0</th>\n      <th>dos1</th>\n      <th>dos2</th>\n      <th>dos3</th>\n      <th>dos4</th>\n    </tr>\n  </thead>\n  <tbody>\n    <tr>\n      <th>212221</th>\n      <td>-0.067792</td>\n      <td>-0.002017</td>\n      <td>-0.026287</td>\n      <td>-0.006673</td>\n      <td>-0.04772</td>\n      <td>-0.002571</td>\n      <td>-0.044136</td>\n      <td>-0.009782</td>\n      <td>-0.417192</td>\n      <td>-0.005679</td>\n      <td>...</td>\n      <td>-0.158629</td>\n      <td>-0.464418</td>\n      <td>-0.463202</td>\n      <td>-0.25204</td>\n      <td>-0.249464</td>\n      <td>0.000000</td>\n      <td>2.195888</td>\n      <td>1.095266</td>\n      <td>0.448647</td>\n      <td>0.000000</td>\n    </tr>\n    <tr>\n      <th>30903</th>\n      <td>-0.067792</td>\n      <td>-0.002774</td>\n      <td>0.472896</td>\n      <td>-0.006673</td>\n      <td>-0.04772</td>\n      <td>-0.002571</td>\n      <td>-0.044136</td>\n      <td>-0.009782</td>\n      <td>2.396980</td>\n      <td>-0.005679</td>\n      <td>...</td>\n      <td>0.553404</td>\n      <td>-0.464418</td>\n      <td>-0.463202</td>\n      <td>-0.25204</td>\n      <td>-0.249464</td>\n      <td>2.079610</td>\n      <td>0.410976</td>\n      <td>0.466956</td>\n      <td>0.835854</td>\n      <td>0.248984</td>\n    </tr>\n    <tr>\n      <th>9739</th>\n      <td>-0.067792</td>\n      <td>-0.002017</td>\n      <td>-0.026287</td>\n      <td>-0.006673</td>\n      <td>-0.04772</td>\n      <td>-0.002571</td>\n      <td>-0.044136</td>\n      <td>-0.009782</td>\n      <td>-0.417192</td>\n      <td>-0.005679</td>\n      <td>...</td>\n      <td>-0.158629</td>\n      <td>-0.464418</td>\n      <td>-0.463202</td>\n      <td>-0.25204</td>\n      <td>-0.249464</td>\n      <td>0.000000</td>\n      <td>2.198084</td>\n      <td>1.093214</td>\n      <td>0.446404</td>\n      <td>0.000000</td>\n    </tr>\n    <tr>\n      <th>37540</th>\n      <td>-0.067792</td>\n      <td>-0.002776</td>\n      <td>-0.014120</td>\n      <td>-0.006673</td>\n      <td>-0.04772</td>\n      <td>-0.002571</td>\n      <td>-0.044136</td>\n      <td>-0.009782</td>\n      <td>2.396980</td>\n      <td>-0.005679</td>\n      <td>...</td>\n      <td>0.790749</td>\n      <td>-0.464418</td>\n      <td>-0.463202</td>\n      <td>-0.25204</td>\n      <td>-0.249464</td>\n      <td>2.003659</td>\n      <td>0.624644</td>\n      <td>0.726423</td>\n      <td>0.977872</td>\n      <td>0.048583</td>\n    </tr>\n    <tr>\n      <th>418638</th>\n      <td>-0.067792</td>\n      <td>-0.002535</td>\n      <td>-0.026287</td>\n      <td>-0.006673</td>\n      <td>-0.04772</td>\n      <td>-0.002571</td>\n      <td>-0.044136</td>\n      <td>-0.009782</td>\n      <td>-0.417192</td>\n      <td>-0.005679</td>\n      <td>...</td>\n      <td>-0.158629</td>\n      <td>-0.464418</td>\n      <td>-0.463202</td>\n      <td>-0.25204</td>\n      <td>-0.249464</td>\n      <td>0.000000</td>\n      <td>2.198297</td>\n      <td>1.093663</td>\n      <td>0.446661</td>\n      <td>0.000000</td>\n    </tr>\n  </tbody>\n</table>\n<p>5 rows × 43 columns</p>\n</div>"
     },
     "execution_count": 8,
     "metadata": {},
     "output_type": "execute_result"
    }
   ],
   "source": [
    "# 特徴量抽出し、マージする。\n",
    "x_train_encoded = pd.DataFrame(data=encoder.predict(x_train), index=x_train.index, columns=dos_columns)\n",
    "x_test_encoded = pd.DataFrame(data=encoder.predict(x_test), index=x_test.index, columns=dos_columns)\n",
    "x_train_encoded = x_train.merge(x_train_encoded, right_index=True, left_index=True)\n",
    "x_test_encoded = x_test.merge(x_test_encoded, right_index=True, left_index=True)\n",
    "x_train_encoded.head()"
   ],
   "metadata": {
    "collapsed": false,
    "ExecuteTime": {
     "end_time": "2023-08-07T17:39:30.207048900Z",
     "start_time": "2023-08-07T17:39:07.308696700Z"
    }
   },
   "id": "7a58b465211b4134"
  },
  {
   "cell_type": "markdown",
   "source": [
    "### optuna＋lightGBMを用いた学習\n",
    "- 元の特徴量のみを使う。\n",
    "- "
   ],
   "metadata": {
    "collapsed": false
   },
   "id": "a850b61acfb56afa"
  },
  {
   "cell_type": "code",
   "execution_count": 9,
   "outputs": [
    {
     "name": "stderr",
     "output_type": "stream",
     "text": [
      "[I 2023-08-08 02:39:30,213] A new study created in memory with name: no-name-9166f064-6ea1-4f17-bd0e-af3871a023b8\n",
      "feature_fraction, val_score: inf:   0%|          | 0/7 [00:00<?, ?it/s]"
     ]
    },
    {
     "name": "stdout",
     "output_type": "stream",
     "text": [
      "[LightGBM] [Warning] min_data_in_leaf is set=1, min_child_samples=20 will be ignored. Current value: min_data_in_leaf=1\n"
     ]
    },
    {
     "name": "stderr",
     "output_type": "stream",
     "text": [
      "feature_fraction, val_score: 0.000571:  14%|#4        | 1/7 [00:05<00:34,  5.75s/it][I 2023-08-08 02:39:35,971] Trial 0 finished with value: 0.0005710073294379959 and parameters: {'feature_fraction': 0.4}. Best is trial 0 with value: 0.0005710073294379959.\n",
      "feature_fraction, val_score: 0.000396:  29%|##8       | 2/7 [00:09<00:23,  4.75s/it][I 2023-08-08 02:39:40,024] Trial 1 finished with value: 0.0003957775669649601 and parameters: {'feature_fraction': 1.0}. Best is trial 1 with value: 0.0003957775669649601.\n",
      "feature_fraction, val_score: 0.000396:  43%|####2     | 3/7 [00:13<00:17,  4.32s/it][I 2023-08-08 02:39:43,838] Trial 2 finished with value: 0.0003957775669649601 and parameters: {'feature_fraction': 0.7}. Best is trial 1 with value: 0.0003957775669649601.\n",
      "feature_fraction, val_score: 0.000396:  57%|#####7    | 4/7 [00:17<00:12,  4.31s/it][I 2023-08-08 02:39:48,142] Trial 3 finished with value: 0.0003957775669649601 and parameters: {'feature_fraction': 0.6}. Best is trial 1 with value: 0.0003957775669649601.\n",
      "feature_fraction, val_score: 0.000396:  71%|#######1  | 5/7 [00:21<00:08,  4.20s/it][I 2023-08-08 02:39:52,125] Trial 4 finished with value: 0.0003957775669649601 and parameters: {'feature_fraction': 0.8}. Best is trial 1 with value: 0.0003957775669649601.\n",
      "feature_fraction, val_score: 0.000396:  86%|########5 | 6/7 [00:26<00:04,  4.28s/it][I 2023-08-08 02:39:56,576] Trial 5 finished with value: 0.0003957775669649601 and parameters: {'feature_fraction': 0.5}. Best is trial 1 with value: 0.0003957775669649601.\n",
      "feature_fraction, val_score: 0.000384: 100%|##########| 7/7 [00:30<00:00,  4.09s/it][I 2023-08-08 02:40:00,277] Trial 6 finished with value: 0.00038369275575992316 and parameters: {'feature_fraction': 0.8999999999999999}. Best is trial 6 with value: 0.00038369275575992316.\n",
      "feature_fraction, val_score: 0.000384: 100%|##########| 7/7 [00:30<00:00,  4.29s/it]\n",
      "num_leaves, val_score: 0.000384:   5%|5         | 1/20 [00:03<01:06,  3.49s/it][I 2023-08-08 02:40:03,781] Trial 7 finished with value: 0.00038369275575992316 and parameters: {'num_leaves': 19}. Best is trial 7 with value: 0.00038369275575992316.\n",
      "num_leaves, val_score: 0.000384:  10%|#         | 2/20 [00:12<01:56,  6.45s/it][I 2023-08-08 02:40:12,298] Trial 8 finished with value: 0.00038369275575992316 and parameters: {'num_leaves': 210}. Best is trial 7 with value: 0.00038369275575992316.\n",
      "num_leaves, val_score: 0.000384:  15%|#5        | 3/20 [00:19<01:58,  6.95s/it][I 2023-08-08 02:40:19,837] Trial 9 finished with value: 0.00038369275575992316 and parameters: {'num_leaves': 165}. Best is trial 7 with value: 0.00038369275575992316.\n",
      "num_leaves, val_score: 0.000384:  20%|##        | 4/20 [00:24<01:37,  6.07s/it][I 2023-08-08 02:40:24,571] Trial 10 finished with value: 0.00038369275575992316 and parameters: {'num_leaves': 36}. Best is trial 7 with value: 0.00038369275575992316.\n",
      "num_leaves, val_score: 0.000384:  25%|##5       | 5/20 [00:27<01:13,  4.87s/it][I 2023-08-08 02:40:27,313] Trial 11 finished with value: 0.00038369275575992316 and parameters: {'num_leaves': 3}. Best is trial 7 with value: 0.00038369275575992316.\n",
      "num_leaves, val_score: 0.000384:  30%|###       | 6/20 [00:33<01:14,  5.31s/it][I 2023-08-08 02:40:33,469] Trial 12 finished with value: 0.00038369275575992316 and parameters: {'num_leaves': 89}. Best is trial 7 with value: 0.00038369275575992316.\n",
      "num_leaves, val_score: 0.000384:  35%|###5      | 7/20 [00:39<01:14,  5.69s/it][I 2023-08-08 02:40:39,959] Trial 13 finished with value: 0.00038369275575992316 and parameters: {'num_leaves': 96}. Best is trial 7 with value: 0.00038369275575992316.\n",
      "num_leaves, val_score: 0.000296:  40%|####      | 8/20 [00:44<01:06,  5.57s/it][I 2023-08-08 02:40:45,264] Trial 14 finished with value: 0.00029607787452340525 and parameters: {'num_leaves': 61}. Best is trial 14 with value: 0.00029607787452340525.\n",
      "num_leaves, val_score: 0.000296:  45%|####5     | 9/20 [00:52<01:06,  6.08s/it][I 2023-08-08 02:40:52,479] Trial 15 finished with value: 0.00029607787452340525 and parameters: {'num_leaves': 132}. Best is trial 14 with value: 0.00029607787452340525.\n",
      "num_leaves, val_score: 0.000296:  50%|#####     | 10/20 [00:59<01:04,  6.50s/it][I 2023-08-08 02:40:59,906] Trial 16 finished with value: 0.00029607787452340525 and parameters: {'num_leaves': 142}. Best is trial 14 with value: 0.00029607787452340525.\n",
      "num_leaves, val_score: 0.000296:  55%|#####5    | 11/20 [01:05<00:56,  6.29s/it][I 2023-08-08 02:41:05,715] Trial 17 finished with value: 0.00029607787452340525 and parameters: {'num_leaves': 81}. Best is trial 14 with value: 0.00029607787452340525.\n",
      "num_leaves, val_score: 0.000296:  60%|######    | 12/20 [01:13<00:54,  6.77s/it][I 2023-08-08 02:41:13,581] Trial 18 finished with value: 0.00029607787452340525 and parameters: {'num_leaves': 188}. Best is trial 14 with value: 0.00029607787452340525.\n",
      "num_leaves, val_score: 0.000296:  65%|######5   | 13/20 [01:20<00:48,  6.87s/it][I 2023-08-08 02:41:20,676] Trial 19 finished with value: 0.00029607787452340525 and parameters: {'num_leaves': 122}. Best is trial 14 with value: 0.00029607787452340525.\n",
      "num_leaves, val_score: 0.000296:  70%|#######   | 14/20 [01:25<00:37,  6.26s/it][I 2023-08-08 02:41:25,545] Trial 20 finished with value: 0.00029607787452340525 and parameters: {'num_leaves': 47}. Best is trial 14 with value: 0.00029607787452340525.\n",
      "num_leaves, val_score: 0.000296:  75%|#######5  | 15/20 [01:33<00:33,  6.72s/it][I 2023-08-08 02:41:33,311] Trial 21 finished with value: 0.00029607787452340525 and parameters: {'num_leaves': 147}. Best is trial 14 with value: 0.00029607787452340525.\n",
      "num_leaves, val_score: 0.000296:  80%|########  | 16/20 [01:42<00:30,  7.64s/it][I 2023-08-08 02:41:43,089] Trial 22 finished with value: 0.00029607787452340525 and parameters: {'num_leaves': 248}. Best is trial 14 with value: 0.00029607787452340525.\n",
      "num_leaves, val_score: 0.000296:  85%|########5 | 17/20 [01:50<00:23,  7.69s/it][I 2023-08-08 02:41:50,893] Trial 23 finished with value: 0.00029607787452340525 and parameters: {'num_leaves': 116}. Best is trial 14 with value: 0.00029607787452340525.\n",
      "num_leaves, val_score: 0.000296:  90%|######### | 18/20 [01:58<00:15,  7.69s/it][I 2023-08-08 02:41:58,597] Trial 24 finished with value: 0.00029607787452340525 and parameters: {'num_leaves': 157}. Best is trial 14 with value: 0.00029607787452340525.\n",
      "num_leaves, val_score: 0.000284:  95%|#########5| 19/20 [02:03<00:06,  6.99s/it][I 2023-08-08 02:42:03,940] Trial 25 finished with value: 0.0002839930633183683 and parameters: {'num_leaves': 65}. Best is trial 25 with value: 0.0002839930633183683.\n",
      "num_leaves, val_score: 0.000284: 100%|##########| 20/20 [02:10<00:00,  6.90s/it][I 2023-08-08 02:42:10,649] Trial 26 finished with value: 0.0002839930633183683 and parameters: {'num_leaves': 79}. Best is trial 25 with value: 0.0002839930633183683.\n",
      "num_leaves, val_score: 0.000284: 100%|##########| 20/20 [02:10<00:00,  6.52s/it]\n",
      "bagging, val_score: 0.000284:  10%|#         | 1/10 [00:07<01:04,  7.12s/it][I 2023-08-08 02:42:17,771] Trial 27 finished with value: 0.0002839930633183683 and parameters: {'bagging_fraction': 0.7021739483779159, 'bagging_freq': 4}. Best is trial 27 with value: 0.0002839930633183683.\n",
      "bagging, val_score: 0.000284:  20%|##        | 2/10 [00:13<00:52,  6.54s/it][I 2023-08-08 02:42:23,913] Trial 28 finished with value: 0.0002839930633183683 and parameters: {'bagging_fraction': 0.7084419141408973, 'bagging_freq': 4}. Best is trial 27 with value: 0.0002839930633183683.\n",
      "bagging, val_score: 0.000284:  30%|###       | 3/10 [00:19<00:43,  6.21s/it][I 2023-08-08 02:42:29,737] Trial 29 finished with value: 0.0002839930633183683 and parameters: {'bagging_fraction': 0.4511528904935982, 'bagging_freq': 2}. Best is trial 27 with value: 0.0002839930633183683.\n",
      "bagging, val_score: 0.000284:  40%|####      | 4/10 [00:27<00:42,  7.00s/it][I 2023-08-08 02:42:37,945] Trial 30 finished with value: 0.0002839930633183683 and parameters: {'bagging_fraction': 0.9547932898321803, 'bagging_freq': 7}. Best is trial 27 with value: 0.0002839930633183683.\n",
      "bagging, val_score: 0.000284:  50%|#####     | 5/10 [00:33<00:33,  6.79s/it][I 2023-08-08 02:42:44,347] Trial 31 finished with value: 0.0002839930633183683 and parameters: {'bagging_fraction': 0.7067780884703418, 'bagging_freq': 4}. Best is trial 27 with value: 0.0002839930633183683.\n",
      "bagging, val_score: 0.000284:  60%|######    | 6/10 [00:40<00:26,  6.66s/it][I 2023-08-08 02:42:50,753] Trial 32 finished with value: 0.0002839930633183683 and parameters: {'bagging_fraction': 0.6897568272107479, 'bagging_freq': 4}. Best is trial 27 with value: 0.0002839930633183683.\n",
      "bagging, val_score: 0.000284:  70%|#######   | 7/10 [00:46<00:19,  6.50s/it][I 2023-08-08 02:42:56,930] Trial 33 finished with value: 0.0002839930633183683 and parameters: {'bagging_fraction': 0.7149808729249424, 'bagging_freq': 5}. Best is trial 27 with value: 0.0002839930633183683.\n",
      "bagging, val_score: 0.000284:  80%|########  | 8/10 [00:52<00:12,  6.47s/it][I 2023-08-08 02:43:03,337] Trial 34 finished with value: 0.0002839930633183683 and parameters: {'bagging_fraction': 0.6553842587582215, 'bagging_freq': 2}. Best is trial 27 with value: 0.0002839930633183683.\n",
      "bagging, val_score: 0.000284:  90%|######### | 9/10 [00:59<00:06,  6.53s/it][I 2023-08-08 02:43:09,992] Trial 35 finished with value: 0.0002839930633183683 and parameters: {'bagging_fraction': 0.8190002644024361, 'bagging_freq': 5}. Best is trial 27 with value: 0.0002839930633183683.\n",
      "bagging, val_score: 0.000284: 100%|##########| 10/10 [01:05<00:00,  6.40s/it][I 2023-08-08 02:43:16,109] Trial 36 finished with value: 0.0002839930633183683 and parameters: {'bagging_fraction': 0.5735800703002414, 'bagging_freq': 3}. Best is trial 27 with value: 0.0002839930633183683.\n",
      "bagging, val_score: 0.000284: 100%|##########| 10/10 [01:05<00:00,  6.55s/it]\n",
      "feature_fraction_stage2, val_score: 0.000284:  17%|#6        | 1/6 [00:05<00:26,  5.29s/it][I 2023-08-08 02:43:21,408] Trial 37 finished with value: 0.0002839930633183683 and parameters: {'feature_fraction': 0.8839999999999999}. Best is trial 37 with value: 0.0002839930633183683.\n",
      "feature_fraction_stage2, val_score: 0.000284:  33%|###3      | 2/6 [00:10<00:21,  5.41s/it][I 2023-08-08 02:43:26,909] Trial 38 finished with value: 0.0002839930633183683 and parameters: {'feature_fraction': 0.9159999999999999}. Best is trial 37 with value: 0.0002839930633183683.\n",
      "feature_fraction_stage2, val_score: 0.000221:  50%|#####     | 3/6 [00:16<00:16,  5.39s/it][I 2023-08-08 02:43:32,263] Trial 39 finished with value: 0.00022054780449192433 and parameters: {'feature_fraction': 0.948}. Best is trial 39 with value: 0.00022054780449192433.\n",
      "feature_fraction_stage2, val_score: 0.000221:  67%|######6   | 4/6 [00:21<00:10,  5.40s/it][I 2023-08-08 02:43:37,678] Trial 40 finished with value: 0.00022054780449192433 and parameters: {'feature_fraction': 0.9799999999999999}. Best is trial 39 with value: 0.00022054780449192433.\n",
      "feature_fraction_stage2, val_score: 0.000221:  83%|########3 | 5/6 [00:26<00:05,  5.30s/it][I 2023-08-08 02:43:42,794] Trial 41 finished with value: 0.00022054780449192433 and parameters: {'feature_fraction': 0.852}. Best is trial 39 with value: 0.00022054780449192433.\n",
      "feature_fraction_stage2, val_score: 0.000221: 100%|##########| 6/6 [00:32<00:00,  5.48s/it][I 2023-08-08 02:43:48,638] Trial 42 finished with value: 0.00022054780449192433 and parameters: {'feature_fraction': 0.82}. Best is trial 39 with value: 0.00022054780449192433.\n",
      "feature_fraction_stage2, val_score: 0.000221: 100%|##########| 6/6 [00:32<00:00,  5.42s/it]\n",
      "regularization_factors, val_score: 0.000196:   5%|5         | 1/20 [00:05<01:44,  5.48s/it][I 2023-08-08 02:43:54,128] Trial 43 finished with value: 0.00019637818208185042 and parameters: {'lambda_l1': 4.985548755130231e-05, 'lambda_l2': 4.260780739441129e-05}. Best is trial 43 with value: 0.00019637818208185042.\n",
      "regularization_factors, val_score: 0.000178:  10%|#         | 2/20 [00:11<01:39,  5.51s/it][I 2023-08-08 02:43:59,662] Trial 44 finished with value: 0.000178250965274295 and parameters: {'lambda_l1': 2.7433208737842745e-05, 'lambda_l2': 3.862327575202993e-05}. Best is trial 44 with value: 0.000178250965274295.\n",
      "regularization_factors, val_score: 0.000178:  15%|#5        | 3/20 [00:16<01:29,  5.28s/it][I 2023-08-08 02:44:04,669] Trial 45 finished with value: 0.000178250965274295 and parameters: {'lambda_l1': 1.619234712728399e-05, 'lambda_l2': 2.517713320113061e-05}. Best is trial 44 with value: 0.000178250965274295.\n",
      "regularization_factors, val_score: 0.000178:  20%|##        | 4/20 [00:21<01:23,  5.20s/it][I 2023-08-08 02:44:09,738] Trial 46 finished with value: 0.000178250965274295 and parameters: {'lambda_l1': 4.8415746686438194e-05, 'lambda_l2': 3.6701210399924364e-05}. Best is trial 44 with value: 0.000178250965274295.\n",
      "regularization_factors, val_score: 0.000178:  25%|##5       | 5/20 [00:26<01:18,  5.21s/it][I 2023-08-08 02:44:14,971] Trial 47 finished with value: 0.000178250965274295 and parameters: {'lambda_l1': 3.4239147959500556e-05, 'lambda_l2': 3.050341511613861e-05}. Best is trial 44 with value: 0.000178250965274295.\n",
      "regularization_factors, val_score: 0.000178:  30%|###       | 6/20 [00:31<01:13,  5.23s/it][I 2023-08-08 02:44:20,246] Trial 48 finished with value: 0.000178250965274295 and parameters: {'lambda_l1': 6.87761473521209e-05, 'lambda_l2': 4.662875744607293e-05}. Best is trial 44 with value: 0.000178250965274295.\n",
      "regularization_factors, val_score: 0.000178:  35%|###5      | 7/20 [00:36<01:06,  5.15s/it][I 2023-08-08 02:44:25,213] Trial 49 finished with value: 0.000178250965274295 and parameters: {'lambda_l1': 3.313647332259548e-05, 'lambda_l2': 3.476501013049486e-05}. Best is trial 44 with value: 0.000178250965274295.\n",
      "regularization_factors, val_score: 0.000178:  40%|####      | 8/20 [00:41<01:02,  5.24s/it][I 2023-08-08 02:44:30,643] Trial 50 finished with value: 0.000178250965274295 and parameters: {'lambda_l1': 2.981822341038344e-05, 'lambda_l2': 3.475815703485064e-05}. Best is trial 44 with value: 0.000178250965274295.\n",
      "regularization_factors, val_score: 0.000178:  45%|####5     | 9/20 [00:47<00:58,  5.31s/it][I 2023-08-08 02:44:36,111] Trial 51 finished with value: 0.000178250965274295 and parameters: {'lambda_l1': 4.630937097054727e-05, 'lambda_l2': 3.667300443489994e-05}. Best is trial 44 with value: 0.000178250965274295.\n",
      "regularization_factors, val_score: 0.000178:  50%|#####     | 10/20 [00:52<00:52,  5.24s/it][I 2023-08-08 02:44:41,205] Trial 52 finished with value: 0.000178250965274295 and parameters: {'lambda_l1': 2.6430286518994446e-05, 'lambda_l2': 3.0517925556996475e-05}. Best is trial 44 with value: 0.000178250965274295.\n",
      "regularization_factors, val_score: 0.000178:  55%|#####5    | 11/20 [00:57<00:46,  5.18s/it][I 2023-08-08 02:44:46,235] Trial 53 finished with value: 0.000178250965274295 and parameters: {'lambda_l1': 3.4609777853090967e-05, 'lambda_l2': 2.5092445602826464e-05}. Best is trial 44 with value: 0.000178250965274295.\n",
      "regularization_factors, val_score: 0.000178:  60%|######    | 12/20 [01:02<00:41,  5.19s/it][I 2023-08-08 02:44:51,443] Trial 54 finished with value: 0.000178250965274295 and parameters: {'lambda_l1': 2.8950999581759123e-05, 'lambda_l2': 3.7615651534478805e-05}. Best is trial 44 with value: 0.000178250965274295.\n",
      "regularization_factors, val_score: 0.000142:  65%|######5   | 13/20 [01:08<00:36,  5.27s/it][I 2023-08-08 02:44:56,892] Trial 55 finished with value: 0.00014199653165918415 and parameters: {'lambda_l1': 5.369801424325407e-07, 'lambda_l2': 0.001620556780903534}. Best is trial 55 with value: 0.00014199653165918415.\n",
      "regularization_factors, val_score: 0.000000:  70%|#######   | 14/20 [01:13<00:30,  5.13s/it][I 2023-08-08 02:45:01,706] Trial 56 finished with value: 0.0 and parameters: {'lambda_l1': 1.1738879225826304e-07, 'lambda_l2': 0.01079234421922761}. Best is trial 56 with value: 0.0.\n",
      "regularization_factors, val_score: 0.000000:  75%|#######5  | 15/20 [01:17<00:24,  4.98s/it][I 2023-08-08 02:45:06,352] Trial 57 finished with value: 0.0 and parameters: {'lambda_l1': 1.0746541040361531e-07, 'lambda_l2': 0.027437513450558136}. Best is trial 56 with value: 0.0.\n",
      "regularization_factors, val_score: 0.000000:  80%|########  | 16/20 [01:23<00:20,  5.10s/it][I 2023-08-08 02:45:11,725] Trial 58 finished with value: 0.0 and parameters: {'lambda_l1': 6.690621343042261e-08, 'lambda_l2': 0.010830541826174487}. Best is trial 56 with value: 0.0.\n",
      "regularization_factors, val_score: 0.000000:  85%|########5 | 17/20 [01:29<00:16,  5.49s/it][I 2023-08-08 02:45:18,121] Trial 59 finished with value: 0.0 and parameters: {'lambda_l1': 9.187339998011271e-08, 'lambda_l2': 0.003355078662208347}. Best is trial 56 with value: 0.0.\n",
      "regularization_factors, val_score: 0.000000:  90%|######### | 18/20 [01:34<00:10,  5.38s/it][I 2023-08-08 02:45:23,260] Trial 60 finished with value: 0.0 and parameters: {'lambda_l1': 1.2963790063584343e-07, 'lambda_l2': 0.009070427150737423}. Best is trial 56 with value: 0.0.\n",
      "regularization_factors, val_score: 0.000000:  95%|#########5| 19/20 [01:39<00:05,  5.18s/it][I 2023-08-08 02:45:27,978] Trial 61 finished with value: 0.0 and parameters: {'lambda_l1': 5.029261119807354e-08, 'lambda_l2': 0.008894374761452585}. Best is trial 56 with value: 0.0.\n",
      "regularization_factors, val_score: 0.000000: 100%|##########| 20/20 [01:43<00:00,  5.01s/it][I 2023-08-08 02:45:32,578] Trial 62 finished with value: 0.0 and parameters: {'lambda_l1': 7.81732794065918e-08, 'lambda_l2': 0.010377174221491894}. Best is trial 56 with value: 0.0.\n",
      "regularization_factors, val_score: 0.000000: 100%|##########| 20/20 [01:43<00:00,  5.20s/it]\n",
      "min_data_in_leaf, val_score: 0.000000:  20%|##        | 1/5 [00:04<00:18,  4.58s/it][I 2023-08-08 02:45:37,168] Trial 63 finished with value: 0.0 and parameters: {'min_child_samples': 50}. Best is trial 63 with value: 0.0.\n",
      "min_data_in_leaf, val_score: 0.000000:  40%|####      | 2/5 [00:09<00:13,  4.63s/it][I 2023-08-08 02:45:41,827] Trial 64 finished with value: 0.0 and parameters: {'min_child_samples': 5}. Best is trial 63 with value: 0.0.\n",
      "min_data_in_leaf, val_score: 0.000000:  60%|######    | 3/5 [00:13<00:09,  4.65s/it][I 2023-08-08 02:45:46,495] Trial 65 finished with value: 0.0 and parameters: {'min_child_samples': 25}. Best is trial 63 with value: 0.0.\n",
      "min_data_in_leaf, val_score: 0.000000:  80%|########  | 4/5 [00:18<00:04,  4.62s/it][I 2023-08-08 02:45:51,072] Trial 66 finished with value: 0.0 and parameters: {'min_child_samples': 10}. Best is trial 63 with value: 0.0.\n",
      "min_data_in_leaf, val_score: 0.000000: 100%|##########| 5/5 [00:23<00:00,  4.74s/it][I 2023-08-08 02:45:56,016] Trial 67 finished with value: 0.0 and parameters: {'min_child_samples': 100}. Best is trial 63 with value: 0.0.\n",
      "min_data_in_leaf, val_score: 0.000000: 100%|##########| 5/5 [00:23<00:00,  4.69s/it]\n"
     ]
    }
   ],
   "source": [
    "import optuna.integration.lightgbm as lgb\n",
    "lgb_train = lgb.Dataset(x_train, y_train)\n",
    "lgb_eval = lgb.Dataset(x_test, y_test, reference=lgb_train)\n",
    "# LightGBM parameters\n",
    "params = {\n",
    "        'task': 'train',\n",
    "        'boosting_type': 'gbdt',\n",
    "        'objective': 'multiclass',\n",
    "        'num_class': 5,\n",
    "        'metric': 'multi_error', # 評価指標 : 誤り率(= 1-正答率)  another multi_logloss\n",
    "        'learning_rate': 0.1,\n",
    "        'num_leaves': 23,\n",
    "        'min_data_in_leaf': 1,\n",
    "        'verbose': -1,\n",
    "        'random_state': RANDOM_SEED, \n",
    "}\n",
    "import lightgbm\n",
    "# モデルの学習\n",
    "model:lightgbm.Booster = lgb.train(params, # パラメータ\n",
    "                  lgb_train, # トレーニングデータの指定\n",
    "                  valid_sets=[lgb_train], # 検証データの指定\n",
    "                  callbacks=[lgb.early_stopping(50, verbose=False)],\n",
    "               )\n"
   ],
   "metadata": {
    "collapsed": false,
    "ExecuteTime": {
     "end_time": "2023-08-07T17:45:56.041311800Z",
     "start_time": "2023-08-07T17:39:30.200057100Z"
    }
   },
   "id": "f627893ef828e629"
  },
  {
   "cell_type": "code",
   "execution_count": 10,
   "outputs": [
    {
     "data": {
      "text/plain": "0    129191\n1     32100\n2      1346\n3       369\n4        21\ndtype: int64"
     },
     "execution_count": 10,
     "metadata": {},
     "output_type": "execute_result"
    }
   ],
   "source": [
    "y_pred_prob = model.predict(x_test)\n",
    "# テストデータの予測 (予測クラス(0 or 1 or...)を返す)\n",
    "y_pred = np.argmax(y_pred_prob, axis=1) # 一番大きい予測確率のクラスを予測クラスに\n",
    "y_pred = pd.Series(y_pred)\n",
    "y_pred.value_counts()"
   ],
   "metadata": {
    "collapsed": false,
    "ExecuteTime": {
     "end_time": "2023-08-07T17:45:56.204391700Z",
     "start_time": "2023-08-07T17:45:56.028318700Z"
    }
   },
   "id": "a7e2bd2e0ebffe0a"
  },
  {
   "cell_type": "code",
   "execution_count": 11,
   "outputs": [
    {
     "name": "stdout",
     "output_type": "stream",
     "text": [
      "              precision    recall  f1-score   support\n",
      "\n",
      "         dos       1.00      1.00      1.00    129181\n",
      "      normal       1.00      1.00      1.00     32102\n",
      "       probe       0.99      0.99      0.99      1355\n",
      "         r2l       0.97      0.97      0.97       372\n",
      "         u2r       0.62      0.76      0.68        17\n",
      "\n",
      "    accuracy                           1.00    163027\n",
      "   macro avg       0.92      0.94      0.93    163027\n",
      "weighted avg       1.00      1.00      1.00    163027\n"
     ]
    }
   ],
   "source": [
    "print(classification_report(y_test, y_pred, target_names=correspondences.keys()))"
   ],
   "metadata": {
    "collapsed": false,
    "ExecuteTime": {
     "end_time": "2023-08-07T17:45:56.389471700Z",
     "start_time": "2023-08-07T17:45:56.202391800Z"
    }
   },
   "id": "8df2499b5a54cca4"
  },
  {
   "cell_type": "code",
   "execution_count": 13,
   "outputs": [
    {
     "name": "stdout",
     "output_type": "stream",
     "text": [
      "[[[ 33831     15]\n",
      "  [     5 129176]]\n",
      "\n",
      " [[130895     30]\n",
      "  [    32  32070]]\n",
      "\n",
      " [[161664      8]\n",
      "  [    17   1338]]\n",
      "\n",
      " [[162645     10]\n",
      "  [    13    359]]\n",
      "\n",
      " [[163002      8]\n",
      "  [     4     13]]]\n"
     ]
    }
   ],
   "source": [
    "print(multilabel_confusion_matrix(y_test, y_pred))"
   ],
   "metadata": {
    "collapsed": false,
    "ExecuteTime": {
     "end_time": "2023-08-07T17:46:29.721521700Z",
     "start_time": "2023-08-07T17:46:29.647982600Z"
    }
   },
   "id": "a7f3028ff431a865"
  },
  {
   "cell_type": "code",
   "execution_count": 25,
   "outputs": [
    {
     "name": "stdout",
     "output_type": "stream",
     "text": [
      "           dos  normal  probe  r2l  u2r\n",
      "dos     129176       4      0    1    0\n",
      "normal      10   32070      8    9    5\n",
      "probe        4      13   1338    0    0\n",
      "r2l          1       9      0  359    3\n",
      "u2r          0       4      0    0   13\n"
     ]
    },
    {
     "data": {
      "text/plain": "dict_keys(['dos', 'normal', 'probe', 'r2l', 'u2r'])"
     },
     "execution_count": 25,
     "metadata": {},
     "output_type": "execute_result"
    }
   ],
   "source": [
    "from sklearn.metrics import confusion_matrix\n",
    "print(pd.DataFrame(confusion_matrix(y_test, y_pred), index=correspondences.keys(), columns=correspondences.keys()))\n",
    "correspondences.keys()"
   ],
   "metadata": {
    "collapsed": false,
    "ExecuteTime": {
     "end_time": "2023-08-07T17:51:03.856029400Z",
     "start_time": "2023-08-07T17:51:03.812500200Z"
    }
   },
   "id": "ea75fbbfa5668bda"
  },
  {
   "cell_type": "code",
   "execution_count": 26,
   "outputs": [
    {
     "data": {
      "text/plain": "{'task': 'train',\n 'boosting_type': 'gbdt',\n 'objective': 'multiclass',\n 'num_class': 5,\n 'metric': 'multi_error',\n 'learning_rate': 0.1,\n 'num_leaves': 65,\n 'min_data_in_leaf': 1,\n 'verbose': -1,\n 'random_state': 2018,\n 'feature_pre_filter': False,\n 'lambda_l1': 1.1738879225826304e-07,\n 'lambda_l2': 0.01079234421922761,\n 'feature_fraction': 0.948,\n 'bagging_fraction': 1.0,\n 'bagging_freq': 0,\n 'min_child_samples': 20,\n 'num_iterations': 1000,\n 'early_stopping_round': None}"
     },
     "execution_count": 26,
     "metadata": {},
     "output_type": "execute_result"
    }
   ],
   "source": [
    "# \n",
    "model.params"
   ],
   "metadata": {
    "collapsed": false,
    "ExecuteTime": {
     "end_time": "2023-08-07T17:51:04.367412200Z",
     "start_time": "2023-08-07T17:51:04.341413800Z"
    }
   },
   "id": "b9657c540f005b38"
  },
  {
   "cell_type": "code",
   "execution_count": null,
   "outputs": [],
   "source": [
    "model"
   ],
   "metadata": {
    "collapsed": false
   },
   "id": "33e5bc9d33262a0e"
  },
  {
   "cell_type": "code",
   "execution_count": 27,
   "outputs": [
    {
     "name": "stdout",
     "output_type": "stream",
     "text": [
      "dos    TP: 129176, TN: 33831, FP: 15, FN: 5\n",
      "normal    TP: 32070, TN: 130895, FP: 30, FN: 32\n",
      "probe    TP: 1338, TN: 161664, FP: 8, FN: 17\n",
      "r2l    TP: 359, TN: 162645, FP: 10, FN: 13\n",
      "u2r    TP: 13, TN: 163002, FP: 8, FN: 4\n"
     ]
    }
   ],
   "source": [
    "for key, confusion_matrix in zip(correspondences.keys(), multilabel_confusion_matrix(y_test, y_pred)):\n",
    "    print(f\"{key}    TP: {confusion_matrix[1][1]}, TN: {confusion_matrix[0][0]}, FP: {confusion_matrix[0][1]}, FN: {confusion_matrix[1][0]}\")"
   ],
   "metadata": {
    "collapsed": false,
    "ExecuteTime": {
     "end_time": "2023-08-07T17:51:04.621012500Z",
     "start_time": "2023-08-07T17:51:04.580493200Z"
    }
   },
   "id": "c701e7a4f38bdb84"
  },
  {
   "cell_type": "code",
   "execution_count": 28,
   "outputs": [],
   "source": [
    "lgb_train_encoded = lgb.Dataset(x_train_encoded, y_train)\n",
    "lgb_eval_encoded = lgb.Dataset(x_test_encoded, y_test, reference=lgb_train_encoded)"
   ],
   "metadata": {
    "collapsed": false,
    "ExecuteTime": {
     "end_time": "2023-08-07T17:51:05.494266Z",
     "start_time": "2023-08-07T17:51:05.470262800Z"
    }
   },
   "id": "438b52f96e94929c"
  },
  {
   "cell_type": "code",
   "execution_count": 29,
   "outputs": [
    {
     "name": "stderr",
     "output_type": "stream",
     "text": [
      "[I 2023-08-08 02:51:06,047] A new study created in memory with name: no-name-069ec59e-f54e-43d6-b98b-f7f3251b645e\n",
      "feature_fraction, val_score: inf:   0%|          | 0/7 [00:00<?, ?it/s]"
     ]
    },
    {
     "name": "stdout",
     "output_type": "stream",
     "text": [
      "[LightGBM] [Warning] min_data_in_leaf is set=1, min_child_samples=20 will be ignored. Current value: min_data_in_leaf=1\n"
     ]
    },
    {
     "name": "stderr",
     "output_type": "stream",
     "text": [
      "feature_fraction, val_score: 0.000622:  14%|#4        | 1/7 [00:05<00:31,  5.24s/it][I 2023-08-08 02:51:11,293] Trial 0 finished with value: 0.0006223677770594029 and parameters: {'feature_fraction': 0.8999999999999999}. Best is trial 0 with value: 0.0006223677770594029.\n",
      "feature_fraction, val_score: 0.000622:  29%|##8       | 2/7 [00:11<00:28,  5.64s/it][I 2023-08-08 02:51:17,209] Trial 1 finished with value: 0.0006223677770594029 and parameters: {'feature_fraction': 0.6}. Best is trial 0 with value: 0.0006223677770594029.\n",
      "feature_fraction, val_score: 0.000372:  43%|####2     | 3/7 [00:16<00:21,  5.44s/it][I 2023-08-08 02:51:22,411] Trial 2 finished with value: 0.00037160794455488616 and parameters: {'feature_fraction': 0.5}. Best is trial 2 with value: 0.00037160794455488616.\n",
      "feature_fraction, val_score: 0.000372:  57%|#####7    | 4/7 [00:20<00:15,  5.07s/it][I 2023-08-08 02:51:26,907] Trial 3 finished with value: 0.00037160794455488616 and parameters: {'feature_fraction': 0.7}. Best is trial 2 with value: 0.00037160794455488616.\n",
      "feature_fraction, val_score: 0.000372:  71%|#######1  | 5/7 [00:25<00:09,  4.90s/it][I 2023-08-08 02:51:31,519] Trial 4 finished with value: 0.00037160794455488616 and parameters: {'feature_fraction': 1.0}. Best is trial 2 with value: 0.00037160794455488616.\n",
      "feature_fraction, val_score: 0.000287:  86%|########5 | 6/7 [00:31<00:05,  5.17s/it][I 2023-08-08 02:51:37,204] Trial 5 finished with value: 0.00028701426611962757 and parameters: {'feature_fraction': 0.4}. Best is trial 5 with value: 0.00028701426611962757.\n",
      "feature_fraction, val_score: 0.000287: 100%|##########| 7/7 [00:35<00:00,  5.04s/it][I 2023-08-08 02:51:41,994] Trial 6 finished with value: 0.00028701426611962757 and parameters: {'feature_fraction': 0.8}. Best is trial 5 with value: 0.00028701426611962757.\n",
      "feature_fraction, val_score: 0.000287: 100%|##########| 7/7 [00:35<00:00,  5.13s/it]\n",
      "num_leaves, val_score: 0.000157:   5%|5         | 1/20 [00:07<02:16,  7.19s/it][I 2023-08-08 02:51:49,194] Trial 7 finished with value: 0.00015710254566548033 and parameters: {'num_leaves': 134}. Best is trial 7 with value: 0.00015710254566548033.\n",
      "num_leaves, val_score: 0.000148:  10%|#         | 2/20 [00:16<02:29,  8.30s/it][I 2023-08-08 02:51:58,260] Trial 8 finished with value: 0.00014803893726170262 and parameters: {'num_leaves': 242}. Best is trial 8 with value: 0.00014803893726170262.\n",
      "num_leaves, val_score: 0.000076:  15%|#5        | 3/20 [00:25<02:31,  8.94s/it][I 2023-08-08 02:52:07,962] Trial 9 finished with value: 7.553007003148093e-05 and parameters: {'num_leaves': 236}. Best is trial 9 with value: 7.553007003148093e-05.\n",
      "num_leaves, val_score: 0.000076:  20%|##        | 4/20 [00:35<02:27,  9.24s/it][I 2023-08-08 02:52:17,657] Trial 10 finished with value: 7.553007003148093e-05 and parameters: {'num_leaves': 255}. Best is trial 9 with value: 7.553007003148093e-05.\n",
      "num_leaves, val_score: 0.000076:  25%|##5       | 5/20 [00:45<02:20,  9.39s/it][I 2023-08-08 02:52:27,330] Trial 11 finished with value: 7.553007003148093e-05 and parameters: {'num_leaves': 256}. Best is trial 9 with value: 7.553007003148093e-05.\n",
      "num_leaves, val_score: 0.000076:  30%|###       | 6/20 [00:54<02:08,  9.20s/it][I 2023-08-08 02:52:36,140] Trial 12 finished with value: 7.553007003148093e-05 and parameters: {'num_leaves': 181}. Best is trial 9 with value: 7.553007003148093e-05.\n",
      "num_leaves, val_score: 0.000076:  35%|###5      | 7/20 [00:58<01:38,  7.61s/it][I 2023-08-08 02:52:40,488] Trial 13 finished with value: 7.553007003148093e-05 and parameters: {'num_leaves': 7}. Best is trial 9 with value: 7.553007003148093e-05.\n",
      "num_leaves, val_score: 0.000076:  40%|####      | 8/20 [01:07<01:36,  8.07s/it][I 2023-08-08 02:52:49,530] Trial 14 finished with value: 7.553007003148093e-05 and parameters: {'num_leaves': 200}. Best is trial 9 with value: 7.553007003148093e-05.\n",
      "num_leaves, val_score: 0.000076:  45%|####5     | 9/20 [01:14<01:24,  7.69s/it][I 2023-08-08 02:52:56,385] Trial 15 finished with value: 7.553007003148093e-05 and parameters: {'num_leaves': 71}. Best is trial 9 with value: 7.553007003148093e-05.\n",
      "num_leaves, val_score: 0.000076:  50%|#####     | 10/20 [01:23<01:20,  8.05s/it][I 2023-08-08 02:53:05,258] Trial 16 finished with value: 7.553007003148093e-05 and parameters: {'num_leaves': 202}. Best is trial 9 with value: 7.553007003148093e-05.\n",
      "num_leaves, val_score: 0.000076:  55%|#####5    | 11/20 [01:33<01:17,  8.60s/it][I 2023-08-08 02:53:15,099] Trial 17 finished with value: 7.553007003148093e-05 and parameters: {'num_leaves': 253}. Best is trial 9 with value: 7.553007003148093e-05.\n",
      "num_leaves, val_score: 0.000073:  60%|######    | 12/20 [01:41<01:07,  8.39s/it][I 2023-08-08 02:53:23,008] Trial 18 finished with value: 7.25088672302217e-05 and parameters: {'num_leaves': 149}. Best is trial 18 with value: 7.25088672302217e-05.\n",
      "num_leaves, val_score: 0.000073:  65%|######5   | 13/20 [01:48<00:56,  8.09s/it][I 2023-08-08 02:53:30,420] Trial 19 finished with value: 7.25088672302217e-05 and parameters: {'num_leaves': 131}. Best is trial 18 with value: 7.25088672302217e-05.\n",
      "num_leaves, val_score: 0.000073:  70%|#######   | 14/20 [01:56<00:47,  7.99s/it][I 2023-08-08 02:53:38,159] Trial 20 finished with value: 7.25088672302217e-05 and parameters: {'num_leaves': 126}. Best is trial 18 with value: 7.25088672302217e-05.\n",
      "num_leaves, val_score: 0.000073:  75%|#######5  | 15/20 [02:03<00:39,  7.94s/it][I 2023-08-08 02:53:45,986] Trial 21 finished with value: 7.25088672302217e-05 and parameters: {'num_leaves': 118}. Best is trial 18 with value: 7.25088672302217e-05.\n",
      "num_leaves, val_score: 0.000073:  80%|########  | 16/20 [02:11<00:31,  7.88s/it][I 2023-08-08 02:53:53,724] Trial 22 finished with value: 7.25088672302217e-05 and parameters: {'num_leaves': 127}. Best is trial 18 with value: 7.25088672302217e-05.\n",
      "num_leaves, val_score: 0.000073:  85%|########5 | 17/20 [02:18<00:22,  7.61s/it][I 2023-08-08 02:54:00,710] Trial 23 finished with value: 7.25088672302217e-05 and parameters: {'num_leaves': 85}. Best is trial 18 with value: 7.25088672302217e-05.\n",
      "num_leaves, val_score: 0.000073:  90%|######### | 18/20 [02:26<00:15,  7.79s/it][I 2023-08-08 02:54:08,927] Trial 24 finished with value: 7.25088672302217e-05 and parameters: {'num_leaves': 155}. Best is trial 18 with value: 7.25088672302217e-05.\n",
      "num_leaves, val_score: 0.000073:  95%|#########5| 19/20 [02:33<00:07,  7.44s/it][I 2023-08-08 02:54:15,546] Trial 25 finished with value: 7.25088672302217e-05 and parameters: {'num_leaves': 88}. Best is trial 18 with value: 7.25088672302217e-05.\n",
      "num_leaves, val_score: 0.000073: 100%|##########| 20/20 [02:42<00:00,  7.80s/it][I 2023-08-08 02:54:24,190] Trial 26 finished with value: 7.25088672302217e-05 and parameters: {'num_leaves': 160}. Best is trial 18 with value: 7.25088672302217e-05.\n",
      "num_leaves, val_score: 0.000073: 100%|##########| 20/20 [02:42<00:00,  8.11s/it]\n",
      "bagging, val_score: 0.000073:  10%|#         | 1/10 [00:08<01:14,  8.29s/it][I 2023-08-08 02:54:32,494] Trial 27 finished with value: 7.25088672302217e-05 and parameters: {'bagging_fraction': 0.5737522955638993, 'bagging_freq': 4}. Best is trial 27 with value: 7.25088672302217e-05.\n",
      "bagging, val_score: 0.000073:  20%|##        | 2/10 [00:17<01:12,  9.11s/it][I 2023-08-08 02:54:42,168] Trial 28 finished with value: 7.25088672302217e-05 and parameters: {'bagging_fraction': 0.9790751579951856, 'bagging_freq': 7}. Best is trial 27 with value: 7.25088672302217e-05.\n",
      "bagging, val_score: 0.000073:  30%|###       | 3/10 [00:25<00:57,  8.19s/it][I 2023-08-08 02:54:49,271] Trial 29 finished with value: 7.25088672302217e-05 and parameters: {'bagging_fraction': 0.43876616730188117, 'bagging_freq': 1}. Best is trial 27 with value: 7.25088672302217e-05.\n",
      "bagging, val_score: 0.000073:  40%|####      | 4/10 [00:33<00:48,  8.14s/it][I 2023-08-08 02:54:57,342] Trial 30 finished with value: 7.25088672302217e-05 and parameters: {'bagging_fraction': 0.795726708267145, 'bagging_freq': 1}. Best is trial 27 with value: 7.25088672302217e-05.\n",
      "bagging, val_score: 0.000073:  50%|#####     | 5/10 [00:43<00:44,  8.93s/it][I 2023-08-08 02:55:07,671] Trial 31 finished with value: 7.25088672302217e-05 and parameters: {'bagging_fraction': 0.7182421488607318, 'bagging_freq': 7}. Best is trial 27 with value: 7.25088672302217e-05.\n",
      "bagging, val_score: 0.000073:  60%|######    | 6/10 [00:53<00:37,  9.38s/it][I 2023-08-08 02:55:17,907] Trial 32 finished with value: 7.25088672302217e-05 and parameters: {'bagging_fraction': 0.9827348389778054, 'bagging_freq': 4}. Best is trial 27 with value: 7.25088672302217e-05.\n",
      "bagging, val_score: 0.000073:  70%|#######   | 7/10 [01:01<00:26,  8.78s/it][I 2023-08-08 02:55:25,463] Trial 33 finished with value: 7.25088672302217e-05 and parameters: {'bagging_fraction': 0.4088615452743537, 'bagging_freq': 5}. Best is trial 27 with value: 7.25088672302217e-05.\n",
      "bagging, val_score: 0.000073:  80%|########  | 8/10 [01:08<00:16,  8.43s/it][I 2023-08-08 02:55:33,152] Trial 34 finished with value: 7.25088672302217e-05 and parameters: {'bagging_fraction': 0.5653109473366942, 'bagging_freq': 3}. Best is trial 27 with value: 7.25088672302217e-05.\n",
      "bagging, val_score: 0.000073:  90%|######### | 9/10 [01:17<00:08,  8.60s/it][I 2023-08-08 02:55:42,110] Trial 35 finished with value: 7.25088672302217e-05 and parameters: {'bagging_fraction': 0.8421668546161313, 'bagging_freq': 6}. Best is trial 27 with value: 7.25088672302217e-05.\n",
      "bagging, val_score: 0.000073: 100%|##########| 10/10 [01:26<00:00,  8.47s/it][I 2023-08-08 02:55:50,303] Trial 36 finished with value: 7.25088672302217e-05 and parameters: {'bagging_fraction': 0.6061842959478305, 'bagging_freq': 2}. Best is trial 27 with value: 7.25088672302217e-05.\n",
      "bagging, val_score: 0.000073: 100%|##########| 10/10 [01:26<00:00,  8.61s/it]\n",
      "feature_fraction_stage2, val_score: 0.000073:  33%|###3      | 1/3 [00:07<00:15,  7.97s/it][I 2023-08-08 02:55:58,278] Trial 37 finished with value: 7.25088672302217e-05 and parameters: {'feature_fraction': 0.41600000000000004}. Best is trial 37 with value: 7.25088672302217e-05.\n",
      "feature_fraction_stage2, val_score: 0.000073:  67%|######6   | 2/3 [00:17<00:09,  9.15s/it][I 2023-08-08 02:56:08,256] Trial 38 finished with value: 7.25088672302217e-05 and parameters: {'feature_fraction': 0.48000000000000004}. Best is trial 37 with value: 7.25088672302217e-05.\n",
      "feature_fraction_stage2, val_score: 0.000073: 100%|##########| 3/3 [00:27<00:00,  9.18s/it][I 2023-08-08 02:56:17,472] Trial 39 finished with value: 7.25088672302217e-05 and parameters: {'feature_fraction': 0.44800000000000006}. Best is trial 37 with value: 7.25088672302217e-05.\n",
      "feature_fraction_stage2, val_score: 0.000073: 100%|##########| 3/3 [00:27<00:00,  9.06s/it]\n",
      "regularization_factors, val_score: 0.000000:   5%|5         | 1/20 [00:08<02:37,  8.28s/it][I 2023-08-08 02:56:25,761] Trial 40 finished with value: 0.0 and parameters: {'lambda_l1': 9.90562677232788e-07, 'lambda_l2': 0.005704129889078178}. Best is trial 40 with value: 0.0.\n",
      "regularization_factors, val_score: 0.000000:  10%|#         | 2/20 [00:17<02:39,  8.86s/it][I 2023-08-08 02:56:35,017] Trial 41 finished with value: 0.0 and parameters: {'lambda_l1': 4.879610465646044e-07, 'lambda_l2': 0.006682302532719888}. Best is trial 40 with value: 0.0.\n",
      "regularization_factors, val_score: 0.000000:  15%|#5        | 3/20 [00:30<02:59, 10.55s/it][I 2023-08-08 02:56:47,580] Trial 42 finished with value: 0.0 and parameters: {'lambda_l1': 4.0088990395678635e-07, 'lambda_l2': 0.003694742251243635}. Best is trial 40 with value: 0.0.\n",
      "regularization_factors, val_score: 0.000000:  20%|##        | 4/20 [00:39<02:41, 10.09s/it][I 2023-08-08 02:56:56,960] Trial 43 finished with value: 0.0 and parameters: {'lambda_l1': 3.005439959898908e-07, 'lambda_l2': 0.007196351643044245}. Best is trial 40 with value: 0.0.\n",
      "regularization_factors, val_score: 0.000000:  25%|##5       | 5/20 [00:47<02:22,  9.48s/it][I 2023-08-08 02:57:05,359] Trial 44 finished with value: 0.0 and parameters: {'lambda_l1': 2.2322417750590424e-07, 'lambda_l2': 0.005567608007915581}. Best is trial 40 with value: 0.0.\n",
      "regularization_factors, val_score: 0.000000:  30%|###       | 6/20 [00:56<02:07,  9.12s/it][I 2023-08-08 02:57:13,782] Trial 45 finished with value: 0.0 and parameters: {'lambda_l1': 2.8637373852250323e-07, 'lambda_l2': 0.006617610630455822}. Best is trial 40 with value: 0.0.\n",
      "regularization_factors, val_score: 0.000000:  35%|###5      | 7/20 [01:05<01:57,  9.07s/it][I 2023-08-08 02:57:22,757] Trial 46 finished with value: 0.0 and parameters: {'lambda_l1': 3.271539438261136e-07, 'lambda_l2': 0.006156975011019919}. Best is trial 40 with value: 0.0.\n",
      "regularization_factors, val_score: 0.000000:  40%|####      | 8/20 [01:14<01:47,  8.96s/it][I 2023-08-08 02:57:31,485] Trial 47 finished with value: 0.0 and parameters: {'lambda_l1': 3.373748519037174e-07, 'lambda_l2': 0.0054172078372090905}. Best is trial 40 with value: 0.0.\n",
      "regularization_factors, val_score: 0.000000:  45%|####5     | 9/20 [01:22<01:36,  8.76s/it][I 2023-08-08 02:57:39,807] Trial 48 finished with value: 0.0 and parameters: {'lambda_l1': 3.5016130354389285e-07, 'lambda_l2': 0.004544215671863465}. Best is trial 40 with value: 0.0.\n",
      "regularization_factors, val_score: 0.000000:  50%|#####     | 10/20 [01:32<01:30,  9.05s/it][I 2023-08-08 02:57:49,508] Trial 49 finished with value: 0.0 and parameters: {'lambda_l1': 5.596267109778442e-07, 'lambda_l2': 0.006509399240983434}. Best is trial 40 with value: 0.0.\n",
      "regularization_factors, val_score: 0.000000:  55%|#####5    | 11/20 [01:44<01:30, 10.05s/it][I 2023-08-08 02:58:01,834] Trial 50 finished with value: 0.0 and parameters: {'lambda_l1': 2.0179221963477432e-05, 'lambda_l2': 0.00011339066924548996}. Best is trial 40 with value: 0.0.\n",
      "regularization_factors, val_score: 0.000000:  60%|######    | 12/20 [01:52<01:15,  9.42s/it][I 2023-08-08 02:58:09,816] Trial 51 finished with value: 0.0 and parameters: {'lambda_l1': 6.108436614286003e-08, 'lambda_l2': 0.00997163045766598}. Best is trial 40 with value: 0.0.\n",
      "regularization_factors, val_score: 0.000000:  65%|######5   | 13/20 [02:00<01:02,  8.99s/it][I 2023-08-08 02:58:17,805] Trial 52 finished with value: 0.0 and parameters: {'lambda_l1': 6.789828942088336e-07, 'lambda_l2': 0.012622706836676796}. Best is trial 40 with value: 0.0.\n",
      "regularization_factors, val_score: 0.000000:  70%|#######   | 14/20 [02:08<00:52,  8.79s/it][I 2023-08-08 02:58:26,138] Trial 53 finished with value: 0.0 and parameters: {'lambda_l1': 2.2457151936454658e-08, 'lambda_l2': 0.7407388856273301}. Best is trial 40 with value: 0.0.\n",
      "regularization_factors, val_score: 0.000000:  75%|#######5  | 15/20 [02:19<00:47,  9.42s/it][I 2023-08-08 02:58:37,020] Trial 54 finished with value: 0.0 and parameters: {'lambda_l1': 6.41458095710052e-06, 'lambda_l2': 0.0008454477400817384}. Best is trial 40 with value: 0.0.\n",
      "regularization_factors, val_score: 0.000000:  80%|########  | 16/20 [02:29<00:38,  9.50s/it][I 2023-08-08 02:58:46,719] Trial 55 finished with value: 0.0 and parameters: {'lambda_l1': 1.0450076303466805e-08, 'lambda_l2': 1.6398776193495813e-06}. Best is trial 40 with value: 0.0.\n",
      "regularization_factors, val_score: 0.000000:  85%|########5 | 17/20 [02:37<00:27,  9.02s/it][I 2023-08-08 02:58:54,593] Trial 56 finished with value: 0.0 and parameters: {'lambda_l1': 0.009384378441443764, 'lambda_l2': 0.09000883297476105}. Best is trial 40 with value: 0.0.\n",
      "regularization_factors, val_score: 0.000000:  90%|######### | 18/20 [02:47<00:18,  9.38s/it][I 2023-08-08 02:59:04,830] Trial 57 finished with value: 0.0 and parameters: {'lambda_l1': 5.846188671448567e-06, 'lambda_l2': 0.00037004179340841686}. Best is trial 40 with value: 0.0.\n",
      "regularization_factors, val_score: 0.000000:  95%|#########5| 19/20 [02:55<00:08,  9.00s/it][I 2023-08-08 02:59:12,938] Trial 58 finished with value: 0.0 and parameters: {'lambda_l1': 1.3688595684796995e-06, 'lambda_l2': 0.07596266556460038}. Best is trial 40 with value: 0.0.\n",
      "regularization_factors, val_score: 0.000000: 100%|##########| 20/20 [03:05<00:00,  9.46s/it][I 2023-08-08 02:59:23,469] Trial 59 finished with value: 0.0 and parameters: {'lambda_l1': 7.818282619101383e-08, 'lambda_l2': 0.0007424636635784817}. Best is trial 40 with value: 0.0.\n",
      "regularization_factors, val_score: 0.000000: 100%|##########| 20/20 [03:05<00:00,  9.30s/it]\n",
      "min_data_in_leaf, val_score: 0.000000:  20%|##        | 1/5 [00:08<00:34,  8.67s/it][I 2023-08-08 02:59:32,142] Trial 60 finished with value: 0.0 and parameters: {'min_child_samples': 25}. Best is trial 60 with value: 0.0.\n",
      "min_data_in_leaf, val_score: 0.000000:  40%|####      | 2/5 [00:16<00:25,  8.46s/it][I 2023-08-08 02:59:40,458] Trial 61 finished with value: 0.0 and parameters: {'min_child_samples': 5}. Best is trial 60 with value: 0.0.\n",
      "min_data_in_leaf, val_score: 0.000000:  60%|######    | 3/5 [00:25<00:16,  8.39s/it][I 2023-08-08 02:59:48,763] Trial 62 finished with value: 0.0 and parameters: {'min_child_samples': 50}. Best is trial 60 with value: 0.0.\n",
      "min_data_in_leaf, val_score: 0.000000:  80%|########  | 4/5 [00:34<00:08,  8.62s/it][I 2023-08-08 02:59:57,745] Trial 63 finished with value: 0.0 and parameters: {'min_child_samples': 10}. Best is trial 60 with value: 0.0.\n",
      "min_data_in_leaf, val_score: 0.000000: 100%|##########| 5/5 [00:43<00:00,  8.94s/it][I 2023-08-08 03:00:07,247] Trial 64 finished with value: 0.0 and parameters: {'min_child_samples': 100}. Best is trial 60 with value: 0.0.\n",
      "min_data_in_leaf, val_score: 0.000000: 100%|##########| 5/5 [00:43<00:00,  8.76s/it]\n"
     ]
    }
   ],
   "source": [
    "params = {\n",
    "        'task': 'train',\n",
    "        'boosting_type': 'gbdt',\n",
    "        'objective': 'multiclass',\n",
    "        'num_class': 5,\n",
    "        'metric': 'multi_error', # 評価指標 : 誤り率(= 1-正答率)  another multi_logloss\n",
    "        'learning_rate': 0.1,\n",
    "        'num_leaves': 23,\n",
    "        'min_data_in_leaf': 1,\n",
    "        'verbose': -1,\n",
    "        'random_state': RANDOM_SEED, \n",
    "}\n",
    "\n",
    "# モデルの学習\n",
    "model_encoded = lgb.train(params, # パラメータ\n",
    "                  lgb_train_encoded, # トレーニングデータの指定\n",
    "                  valid_sets=[lgb_train_encoded], # 検証データの指定\n",
    "                  callbacks=[lgb.early_stopping(50, verbose=False)],\n",
    "               )"
   ],
   "metadata": {
    "collapsed": false,
    "ExecuteTime": {
     "end_time": "2023-08-07T18:00:07.261321300Z",
     "start_time": "2023-08-07T17:51:06.049501100Z"
    }
   },
   "id": "96ecabb675c8ecc5"
  },
  {
   "cell_type": "code",
   "execution_count": 30,
   "outputs": [
    {
     "data": {
      "text/plain": "0    129182\n1     32086\n2      1342\n3       381\n4        36\ndtype: int64"
     },
     "execution_count": 30,
     "metadata": {},
     "output_type": "execute_result"
    }
   ],
   "source": [
    "y_pred_prob = model_encoded.predict(x_test_encoded)\n",
    "# テストデータの予測 (予測クラス(0 or 1 or...)を返す)\n",
    "y_pred_encoded = np.argmax(y_pred_prob, axis=1) # 一番大きい予測確率のクラスを予測クラスに\n",
    "y_pred_encoded = pd.Series(y_pred_encoded)\n",
    "y_pred_encoded.value_counts()"
   ],
   "metadata": {
    "collapsed": false,
    "ExecuteTime": {
     "end_time": "2023-08-07T18:00:07.679460400Z",
     "start_time": "2023-08-07T18:00:07.263326200Z"
    }
   },
   "id": "8c1e910c83ecae00"
  },
  {
   "cell_type": "code",
   "execution_count": 31,
   "outputs": [
    {
     "name": "stdout",
     "output_type": "stream",
     "text": [
      "              precision    recall  f1-score   support\n",
      "\n",
      "         dos       1.00      1.00      1.00    129181\n",
      "      normal       1.00      1.00      1.00     32102\n",
      "       probe       0.99      0.99      0.99      1355\n",
      "         r2l       0.92      0.94      0.93       372\n",
      "         u2r       0.25      0.53      0.34        17\n",
      "\n",
      "    accuracy                           1.00    163027\n",
      "   macro avg       0.83      0.89      0.85    163027\n",
      "weighted avg       1.00      1.00      1.00    163027\n"
     ]
    }
   ],
   "source": [
    "print(classification_report(y_test, y_pred_encoded, target_names=correspondences.keys()))"
   ],
   "metadata": {
    "collapsed": false,
    "ExecuteTime": {
     "end_time": "2023-08-07T18:00:07.897162100Z",
     "start_time": "2023-08-07T18:00:07.675461500Z"
    }
   },
   "id": "12875d52f1f519ea"
  },
  {
   "cell_type": "code",
   "execution_count": 37,
   "outputs": [
    {
     "name": "stdout",
     "output_type": "stream",
     "text": [
      "           dos  normal  probe  r2l  u2r\n",
      "dos     129175       3      0    2    1\n",
      "normal       5   32046      6   24   21\n",
      "probe        0      15   1335    5    0\n",
      "r2l          0      17      1  349    5\n",
      "u2r          2       5      0    1    9\n"
     ]
    },
    {
     "data": {
      "text/plain": "dict_keys(['dos', 'normal', 'probe', 'r2l', 'u2r'])"
     },
     "execution_count": 37,
     "metadata": {},
     "output_type": "execute_result"
    }
   ],
   "source": [
    "from sklearn.metrics import confusion_matrix\n",
    "print(pd.DataFrame(confusion_matrix(y_test, y_pred_encoded), index=correspondences.keys(), columns=correspondences.keys()))\n",
    "correspondences.keys()"
   ],
   "metadata": {
    "collapsed": false,
    "ExecuteTime": {
     "end_time": "2023-08-07T18:16:08.150563Z",
     "start_time": "2023-08-07T18:16:08.086366800Z"
    }
   },
   "id": "ac63fa8bebd1433e"
  },
  {
   "cell_type": "code",
   "execution_count": null,
   "outputs": [],
   "source": [],
   "metadata": {
    "collapsed": false
   },
   "id": "400bff77a0abb628"
  },
  {
   "cell_type": "code",
   "execution_count": 33,
   "outputs": [
    {
     "data": {
      "text/plain": "{'task': 'train',\n 'boosting_type': 'gbdt',\n 'objective': 'multiclass',\n 'num_class': 5,\n 'metric': 'multi_error',\n 'learning_rate': 0.1,\n 'num_leaves': 149,\n 'min_data_in_leaf': 1,\n 'verbose': -1,\n 'random_state': 2018,\n 'feature_pre_filter': False,\n 'lambda_l1': 9.90562677232788e-07,\n 'lambda_l2': 0.005704129889078178,\n 'feature_fraction': 0.4,\n 'bagging_fraction': 1.0,\n 'bagging_freq': 0,\n 'min_child_samples': 20,\n 'num_iterations': 1000,\n 'early_stopping_round': None}"
     },
     "execution_count": 33,
     "metadata": {},
     "output_type": "execute_result"
    }
   ],
   "source": [
    "model_encoded.params"
   ],
   "metadata": {
    "collapsed": false,
    "ExecuteTime": {
     "end_time": "2023-08-07T18:00:07.973277300Z",
     "start_time": "2023-08-07T18:00:07.941286300Z"
    }
   },
   "id": "ee2734bc9e17c0ba"
  },
  {
   "cell_type": "code",
   "execution_count": 34,
   "outputs": [
    {
     "name": "stdout",
     "output_type": "stream",
     "text": [
      "dos    TP: 129176, TN: 33831, FP: 15, FN: 5\n",
      "normal    TP: 32070, TN: 130895, FP: 30, FN: 32\n",
      "probe    TP: 1338, TN: 161664, FP: 8, FN: 17\n",
      "r2l    TP: 359, TN: 162645, FP: 10, FN: 13\n",
      "u2r    TP: 13, TN: 163002, FP: 8, FN: 4\n"
     ]
    }
   ],
   "source": [
    "for key, confusion_matrix in zip(correspondences.keys(), multilabel_confusion_matrix(y_test, y_pred)):\n",
    "    print(f\"{key}    TP: {confusion_matrix[1][1]}, TN: {confusion_matrix[0][0]}, FP: {confusion_matrix[0][1]}, FN: {confusion_matrix[1][0]}\")"
   ],
   "metadata": {
    "collapsed": false,
    "ExecuteTime": {
     "end_time": "2023-08-07T18:00:08.078356900Z",
     "start_time": "2023-08-07T18:00:07.957283200Z"
    }
   },
   "id": "e2fd8c728c372ae8"
  },
  {
   "cell_type": "code",
   "execution_count": 35,
   "outputs": [],
   "source": [
    "import pickle\n",
    "with open(\"models/lightgbm/lgb_param_tuned_booster.pkl\", 'wb') as fp:\n",
    "    pickle.dump(model.dump_model(), fp)"
   ],
   "metadata": {
    "collapsed": false,
    "ExecuteTime": {
     "end_time": "2023-08-07T18:04:21.449602300Z",
     "start_time": "2023-08-07T18:04:21.277809900Z"
    }
   },
   "id": "36d8a0a45183909b"
  },
  {
   "cell_type": "code",
   "execution_count": 36,
   "outputs": [],
   "source": [
    "with open(\"models/lightgbm/lgb+ae_param_tuned_booster.pkl\", 'wb') as fp:\n",
    "    pickle.dump(model_encoded.dump_model(), fp)"
   ],
   "metadata": {
    "collapsed": false,
    "ExecuteTime": {
     "end_time": "2023-08-07T18:05:14.149780900Z",
     "start_time": "2023-08-07T18:05:13.369018600Z"
    }
   },
   "id": "7d0648127a09c1d5"
  },
  {
   "cell_type": "code",
   "execution_count": 38,
   "outputs": [
    {
     "data": {
      "text/plain": "<lightgbm.basic.Booster at 0x226974ec5b0>"
     },
     "execution_count": 38,
     "metadata": {},
     "output_type": "execute_result"
    }
   ],
   "source": [
    "model.save_model('models/lightgbm/lgb_tuned_booster.model')\n",
    "model_encoded.save_model('models/lightgbm/lgb+ae_tuned_booster.model')"
   ],
   "metadata": {
    "collapsed": false,
    "ExecuteTime": {
     "end_time": "2023-08-08T01:04:43.385863200Z",
     "start_time": "2023-08-08T01:04:43.277352200Z"
    }
   },
   "id": "cbb7d909853f5dd"
  },
  {
   "cell_type": "code",
   "execution_count": null,
   "outputs": [],
   "source": [],
   "metadata": {
    "collapsed": false
   },
   "id": "759714cd23f5ccc8"
  }
 ],
 "metadata": {
  "kernelspec": {
   "display_name": "Python 3",
   "language": "python",
   "name": "python3"
  },
  "language_info": {
   "codemirror_mode": {
    "name": "ipython",
    "version": 2
   },
   "file_extension": ".py",
   "mimetype": "text/x-python",
   "name": "python",
   "nbconvert_exporter": "python",
   "pygments_lexer": "ipython2",
   "version": "2.7.6"
  }
 },
 "nbformat": 4,
 "nbformat_minor": 5
}
