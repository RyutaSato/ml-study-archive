{
 "cells": [
  {
   "cell_type": "code",
   "execution_count": 1,
   "metadata": {
    "collapsed": true,
    "ExecuteTime": {
     "end_time": "2023-06-25T17:36:02.680982600Z",
     "start_time": "2023-06-25T17:35:59.217315100Z"
    }
   },
   "outputs": [
    {
     "name": "stdout",
     "output_type": "stream",
     "text": [
      "python:      3.10.5\n",
      "sklearn:     1.2.2\n",
      "tensorflow:  2.13.0-rc0\n",
      "keras:       2.13.1rc0\n",
      "numpy:       1.23.5\n",
      "pandas:      1.5.3\n"
     ]
    }
   ],
   "source": [
    "from utils import *\n",
    "print_version()"
   ]
  },
  {
   "cell_type": "markdown",
   "source": [
    "# 特徴量名の読み込み"
   ],
   "metadata": {
    "collapsed": false
   }
  },
  {
   "cell_type": "code",
   "execution_count": 2,
   "outputs": [
    {
     "name": "stdout",
     "output_type": "stream",
     "text": [
      "特徴量の数：41\n",
      "各特徴量の名前：duration, protocol_type, service, flag, src_bytes, dst_bytes, land, wrong_fragment, urgent, hot, num_failed_logins, logged_in, num_compromised, root_shell, su_attempted, num_root, num_file_creations, num_shells, num_access_files, num_outbound_cmds, is_host_login, is_guest_login, count, srv_count, serror_rate, srv_serror_rate, rerror_rate, srv_rerror_rate, same_srv_rate, diff_srv_rate, srv_diff_host_rate, dst_host_count, dst_host_srv_count, dst_host_same_srv_rate, dst_host_diff_srv_rate, dst_host_same_src_port_rate, dst_host_srv_diff_host_rate, dst_host_serror_rate, dst_host_srv_serror_rate, dst_host_rerror_rate, dst_host_srv_rerror_rate\n"
     ]
    }
   ],
   "source": [
    "with open(\"../dataset/kddcup.names\") as fp:\n",
    "    # 一行目はラベルでは無いので無視\n",
    "    _ = fp.readline()\n",
    "    # `:`より手前がラベルなので，その部分を抽出してリストに追加\n",
    "    names = [line.split(':')[0] for line in fp]\n",
    "print(f\"特徴量の数：{len(names)}\")\n",
    "print(f\"各特徴量の名前：{', '.join(names)}\")"
   ],
   "metadata": {
    "collapsed": false,
    "ExecuteTime": {
     "end_time": "2023-06-25T17:36:02.683014300Z",
     "start_time": "2023-06-25T17:36:02.679979400Z"
    }
   }
  },
  {
   "cell_type": "code",
   "execution_count": 3,
   "outputs": [],
   "source": [
    "#　正解ラベルを追加\n",
    "names.append(\"true_label\")\n",
    "data = pd.read_csv(\"../dataset/kddcup.data\", names=names, index_col=False)\n",
    "true_label = data.pop('true_label')"
   ],
   "metadata": {
    "collapsed": false,
    "ExecuteTime": {
     "end_time": "2023-06-25T17:36:11.995188200Z",
     "start_time": "2023-06-25T17:36:02.680982600Z"
    }
   }
  },
  {
   "cell_type": "markdown",
   "source": [
    "# データの把握"
   ],
   "metadata": {
    "collapsed": false
   }
  },
  {
   "cell_type": "code",
   "execution_count": 4,
   "outputs": [
    {
     "data": {
      "text/plain": "duration                         int64\nprotocol_type                   object\nservice                         object\nflag                            object\nsrc_bytes                        int64\ndst_bytes                        int64\nland                             int64\nwrong_fragment                   int64\nurgent                           int64\nhot                              int64\nnum_failed_logins                int64\nlogged_in                        int64\nnum_compromised                  int64\nroot_shell                       int64\nsu_attempted                     int64\nnum_root                         int64\nnum_file_creations               int64\nnum_shells                       int64\nnum_access_files                 int64\nnum_outbound_cmds                int64\nis_host_login                    int64\nis_guest_login                   int64\ncount                            int64\nsrv_count                        int64\nserror_rate                    float64\nsrv_serror_rate                float64\nrerror_rate                    float64\nsrv_rerror_rate                float64\nsame_srv_rate                  float64\ndiff_srv_rate                  float64\nsrv_diff_host_rate             float64\ndst_host_count                   int64\ndst_host_srv_count               int64\ndst_host_same_srv_rate         float64\ndst_host_diff_srv_rate         float64\ndst_host_same_src_port_rate    float64\ndst_host_srv_diff_host_rate    float64\ndst_host_serror_rate           float64\ndst_host_srv_serror_rate       float64\ndst_host_rerror_rate           float64\ndst_host_srv_rerror_rate       float64\ndtype: object"
     },
     "execution_count": 4,
     "metadata": {},
     "output_type": "execute_result"
    }
   ],
   "source": [
    "data.dtypes"
   ],
   "metadata": {
    "collapsed": false,
    "ExecuteTime": {
     "end_time": "2023-06-25T17:36:12.014039500Z",
     "start_time": "2023-06-25T17:36:11.997192900Z"
    }
   }
  },
  {
   "cell_type": "markdown",
   "source": [
    "`protocol_type`, `service`, `flag` が連続値ではないので，ワンホットエンコーディングする必要がある．"
   ],
   "metadata": {
    "collapsed": false
   }
  },
  {
   "cell_type": "code",
   "execution_count": 5,
   "outputs": [
    {
     "data": {
      "text/plain": "smurf.              2807886\nneptune.            1072017\nnormal.              972781\nsatan.                15892\nipsweep.              12481\nportsweep.            10413\nnmap.                  2316\nback.                  2203\nwarezclient.           1020\nteardrop.               979\npod.                    264\nguess_passwd.            53\nbuffer_overflow.         30\nland.                    21\nwarezmaster.             20\nimap.                    12\nrootkit.                 10\nloadmodule.               9\nftp_write.                8\nmultihop.                 7\nphf.                      4\nperl.                     3\nspy.                      2\nName: true_label, dtype: int64"
     },
     "execution_count": 5,
     "metadata": {},
     "output_type": "execute_result"
    }
   ],
   "source": [
    "true_label.value_counts()"
   ],
   "metadata": {
    "collapsed": false,
    "ExecuteTime": {
     "end_time": "2023-06-25T17:36:12.255763400Z",
     "start_time": "2023-06-25T17:36:12.011515600Z"
    }
   }
  },
  {
   "cell_type": "code",
   "execution_count": 6,
   "outputs": [
    {
     "data": {
      "text/plain": "4898431"
     },
     "execution_count": 6,
     "metadata": {},
     "output_type": "execute_result"
    }
   ],
   "source": [
    "print(f\"データの総数：{len(data)}\")"
   ],
   "metadata": {
    "collapsed": false,
    "ExecuteTime": {
     "end_time": "2023-06-25T17:36:12.321934300Z",
     "start_time": "2023-06-25T17:36:12.257763800Z"
    }
   }
  },
  {
   "cell_type": "code",
   "execution_count": 6,
   "outputs": [],
   "source": [],
   "metadata": {
    "collapsed": false,
    "ExecuteTime": {
     "end_time": "2023-06-25T17:36:12.323502600Z",
     "start_time": "2023-06-25T17:36:12.271289900Z"
    }
   }
  },
  {
   "cell_type": "code",
   "execution_count": 6,
   "outputs": [],
   "source": [],
   "metadata": {
    "collapsed": false,
    "ExecuteTime": {
     "end_time": "2023-06-25T17:36:12.323502600Z",
     "start_time": "2023-06-25T17:36:12.288861200Z"
    }
   }
  }
 ],
 "metadata": {
  "kernelspec": {
   "display_name": "Python 3",
   "language": "python",
   "name": "python3"
  },
  "language_info": {
   "codemirror_mode": {
    "name": "ipython",
    "version": 2
   },
   "file_extension": ".py",
   "mimetype": "text/x-python",
   "name": "python",
   "nbconvert_exporter": "python",
   "pygments_lexer": "ipython2",
   "version": "2.7.6"
  }
 },
 "nbformat": 4,
 "nbformat_minor": 0
}
