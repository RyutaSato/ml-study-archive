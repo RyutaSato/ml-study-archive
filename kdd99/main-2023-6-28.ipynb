{
 "cells": [
  {
   "cell_type": "code",
   "execution_count": null,
   "outputs": [],
   "source": [],
   "metadata": {
    "collapsed": false
   }
  },
  {
   "cell_type": "markdown",
   "source": [
    "## カテゴリデータを削除して実装する．\n",
    "## 全てのデータを含むデータセットで試す．\n",
    "## Accuracyや混合行列など他の指標で評価する．\n",
    "## macro, microについても理解する．"
   ],
   "metadata": {
    "collapsed": false
   }
  },
  {
   "cell_type": "markdown",
   "source": [],
   "metadata": {
    "collapsed": false
   }
  },
  {
   "cell_type": "code",
   "execution_count": 2,
   "metadata": {
    "collapsed": true,
    "ExecuteTime": {
     "end_time": "2023-07-03T07:05:18.496874Z",
     "start_time": "2023-07-03T07:05:14.278249Z"
    }
   },
   "outputs": [
    {
     "name": "stdout",
     "output_type": "stream",
     "text": [
      "python:      3.10.11\n",
      "sklearn:     1.2.2\n",
      "tensorflow:  2.13.0-rc0\n",
      "keras:       2.13.1rc0\n",
      "numpy:       1.24.3\n",
      "pandas:      1.5.3\n"
     ]
    }
   ],
   "source": [
    "from utils import *\n",
    "print_version()"
   ]
  },
  {
   "cell_type": "code",
   "execution_count": 3,
   "outputs": [
    {
     "name": "stdout",
     "output_type": "stream",
     "text": [
      "特徴量の数：41\n",
      "各特徴量の名前：duration, protocol_type, service, flag, src_bytes, dst_bytes, land, wrong_fragment, urgent, hot, num_failed_logins, logged_in, num_compromised, root_shell, su_attempted, num_root, num_file_creations, num_shells, num_access_files, num_outbound_cmds, is_host_login, is_guest_login, count, srv_count, serror_rate, srv_serror_rate, rerror_rate, srv_rerror_rate, same_srv_rate, diff_srv_rate, srv_diff_host_rate, dst_host_count, dst_host_srv_count, dst_host_same_srv_rate, dst_host_diff_srv_rate, dst_host_same_src_port_rate, dst_host_srv_diff_host_rate, dst_host_serror_rate, dst_host_srv_serror_rate, dst_host_rerror_rate, dst_host_srv_rerror_rate\n"
     ]
    }
   ],
   "source": [
    "# 特徴量名の読み込み\n",
    "with open(\"../dataset/kddcup.names\") as fp:\n",
    "    # 一行目は不要なので無視\n",
    "    _ = fp.readline()\n",
    "    # `:`より手前がラベルなので，その部分を抽出してリストに追加\n",
    "    names = [line.split(':')[0] for line in fp]\n",
    "print(f\"特徴量の数：{len(names)}\")\n",
    "print(f\"各特徴量の名前：{', '.join(names)}\")"
   ],
   "metadata": {
    "collapsed": false,
    "ExecuteTime": {
     "end_time": "2023-07-03T07:05:18.502781Z",
     "start_time": "2023-07-03T07:05:18.497576Z"
    }
   }
  },
  {
   "cell_type": "code",
   "execution_count": 4,
   "outputs": [],
   "source": [
    "# データの読み込み\n",
    "#　正解ラベルを追加\n",
    "names.append(\"true_label\")\n",
    "data = pd.read_csv(\"../dataset/kddcup.data\", names=names, index_col=False)\n",
    "true_label = data.pop('true_label')"
   ],
   "metadata": {
    "collapsed": false,
    "ExecuteTime": {
     "end_time": "2023-07-03T07:05:25.440413Z",
     "start_time": "2023-07-03T07:05:18.499522Z"
    }
   }
  },
  {
   "cell_type": "code",
   "execution_count": 5,
   "outputs": [
    {
     "data": {
      "text/plain": "smurf.              2807886\nneptune.            1072017\nnormal.              972781\nsatan.                15892\nipsweep.              12481\nportsweep.            10413\nnmap.                  2316\nback.                  2203\nwarezclient.           1020\nteardrop.               979\npod.                    264\nguess_passwd.            53\nbuffer_overflow.         30\nland.                    21\nwarezmaster.             20\nimap.                    12\nrootkit.                 10\nloadmodule.               9\nftp_write.                8\nmultihop.                 7\nphf.                      4\nperl.                     3\nspy.                      2\nName: true_label, dtype: int64"
     },
     "execution_count": 5,
     "metadata": {},
     "output_type": "execute_result"
    }
   ],
   "source": [
    "true_label_counts = true_label.value_counts()\n",
    "true_label_counts"
   ],
   "metadata": {
    "collapsed": false,
    "ExecuteTime": {
     "end_time": "2023-07-03T07:05:25.599364Z",
     "start_time": "2023-07-03T07:05:25.592330Z"
    }
   }
  },
  {
   "cell_type": "code",
   "execution_count": 6,
   "outputs": [
    {
     "data": {
      "text/plain": "0          normal\n1          normal\n2          normal\n3          normal\n4          normal\n            ...  \n4898426    normal\n4898427    normal\n4898428    normal\n4898429    normal\n4898430    normal\nName: true_label, Length: 4898431, dtype: object"
     },
     "execution_count": 6,
     "metadata": {},
     "output_type": "execute_result"
    }
   ],
   "source": [
    "# 正解ラベルのピリオドを外す．\n",
    "true_label = true_label.map(lambda x: x.replace('.', ''))\n",
    "true_label"
   ],
   "metadata": {
    "collapsed": false,
    "ExecuteTime": {
     "end_time": "2023-07-03T07:05:26.165106Z",
     "start_time": "2023-07-03T07:05:25.599590Z"
    }
   }
  },
  {
   "cell_type": "markdown",
   "source": [
    "### 攻撃の種類は，大まかに４種類(`Dos`, `U2R`, `R2L`, `Probe`)\n",
    "### 後の学習プログラムのために，予め各クラスを定義しておく，\n",
    "### class -> `Dos`, `U2R`, `R2L`, `Probe`\n",
    "### label -> `duration`, `protocol_type`, `service`, `flag`, `src_bytes`, `dst_bytes`, `land`, `wrong_fragment`, `urgent`, `hot`, `num_failed_logins`, `logged_in`, `num_compromised`, `root_shell`, `su_attempted`, `num_root`, `num_file_creations`, `num_shells`, `num_access_files`, `num_outbound_cmds`, `is_host_login`, `is_guest_login`, `count`, `srv_count`, `serror_rate`, `srv_serror_rate`, `rerror_rate`, `srv_rerror_rate`, `same_srv_rate`, `diff_srv_rate`, `srv_diff_host_rate`, `dst_host_count`, `dst_host_srv_count`, `dst_host_same_srv_rate`, `dst_host_diff_srv_rate`, `dst_host_same_src_port_rate`, `dst_host_srv_diff_host_rate`, `dst_host_serror_rate`, `dst_host_srv_serror_rate`, `dst_host_rerror_rate`"
   ],
   "metadata": {
    "collapsed": false
   }
  },
  {
   "cell_type": "code",
   "execution_count": 7,
   "outputs": [
    {
     "data": {
      "text/plain": "{'normal': 'normal',\n 'back': 'dos',\n 'land': 'dos',\n 'neptune': 'dos',\n 'pod': 'dos',\n 'smurf': 'dos',\n 'teardrop': 'dos',\n 'buffer_overflow': 'u2r',\n 'loadmodule': 'u2r',\n 'perl': 'u2r',\n 'rootkit': 'u2r',\n 'ftp_write': 'r2l',\n 'guess_passwd': 'r2l',\n 'imap': 'r2l',\n 'multihop': 'r2l',\n 'phf': 'r2l',\n 'spy': 'r2l',\n 'warezclient': 'r2l',\n 'warezmaster': 'r2l',\n 'ipsweep': 'probe',\n 'nmap': 'probe',\n 'portsweep': 'probe',\n 'satan': 'probe'}"
     },
     "execution_count": 7,
     "metadata": {},
     "output_type": "execute_result"
    }
   ],
   "source": [
    "# attack_class_labels -> key: class, value: list[label]\n",
    "attack_class_labels = {\n",
    "    'normal': ['normal'],\n",
    "    'dos': ['back', 'land', 'neptune', 'pod', 'smurf', 'teardrop'],\n",
    "    'u2r': ['buffer_overflow', 'loadmodule', 'perl', 'rootkit'],\n",
    "    'r2l': ['ftp_write', 'guess_passwd', 'imap', 'multihop', 'phf', 'spy', 'warezclient', 'warezmaster'],\n",
    "    'probe': ['ipsweep', 'nmap', 'portsweep', 'satan']\n",
    "}\n",
    "# attack_class_label -> key: label, value: class\n",
    "attack_label_class = {}\n",
    "for c, labels in attack_class_labels.items():\n",
    "    for label in labels:\n",
    "        attack_label_class[label] = c\n",
    "attack_label_class"
   ],
   "metadata": {
    "collapsed": false,
    "ExecuteTime": {
     "end_time": "2023-07-03T07:05:26.170247Z",
     "start_time": "2023-07-03T07:05:26.166580Z"
    }
   }
  },
  {
   "cell_type": "code",
   "execution_count": 8,
   "outputs": [],
   "source": [
    "# データの定義\n",
    "data_x = data.copy()\n",
    "true_labels = pd.DataFrame({\n",
    "    'class': [attack_label_class[label] for label in true_label],\n",
    "    'name': true_label,\n",
    "    'label': [int(t_or_f) for t_or_f in true_label != 'normal']\n",
    "})\n",
    "data_y = true_labels['label'].copy()"
   ],
   "metadata": {
    "collapsed": false,
    "ExecuteTime": {
     "end_time": "2023-07-03T07:05:29.468792Z",
     "start_time": "2023-07-03T07:05:26.168878Z"
    }
   }
  },
  {
   "cell_type": "markdown",
   "source": [
    "### カテゴリーデータを削除\n",
    "カテゴリデータは，ワンホットエンコーディングすると学習に大きく影響を受けてしまうため，特徴量から外す．"
   ],
   "metadata": {
    "collapsed": false
   }
  },
  {
   "cell_type": "code",
   "execution_count": 9,
   "outputs": [],
   "source": [
    "data_x = data_x.drop(columns=['protocol_type', 'service', 'flag'], axis=1)"
   ],
   "metadata": {
    "collapsed": false,
    "ExecuteTime": {
     "end_time": "2023-07-03T07:05:30.199541Z",
     "start_time": "2023-07-03T07:05:29.467422Z"
    }
   }
  },
  {
   "cell_type": "code",
   "execution_count": 10,
   "outputs": [
    {
     "name": "stdout",
     "output_type": "stream",
     "text": [
      "データの総数：4898431\n",
      "normal: 972781\n",
      "   normal: 972781\n",
      "dos: 3883370\n",
      "   back: 2203\n",
      "   land: 21\n",
      "   neptune: 1072017\n",
      "   pod: 264\n",
      "   smurf: 2807886\n",
      "   teardrop: 979\n",
      "u2r: 52\n",
      "   buffer_overflow: 30\n",
      "   loadmodule: 9\n",
      "   perl: 3\n",
      "   rootkit: 10\n",
      "r2l: 1126\n",
      "   ftp_write: 8\n",
      "   guess_passwd: 53\n",
      "   imap: 12\n",
      "   multihop: 7\n",
      "   phf: 4\n",
      "   spy: 2\n",
      "   warezclient: 1020\n",
      "   warezmaster: 20\n",
      "probe: 41102\n",
      "   ipsweep: 12481\n",
      "   nmap: 2316\n",
      "   portsweep: 10413\n",
      "   satan: 15892\n"
     ]
    }
   ],
   "source": [
    "print(f\"データの総数：{len(data)}\")\n",
    "# 各クラスとそのクラスに属するラベルのデータ数\n",
    "for c, labels in attack_class_labels.items():\n",
    "    print(f\"{c}: {len(true_label[true_labels['class'] == c])}\")\n",
    "    for l in labels:\n",
    "        print(f\"   {l}: {len(true_label[true_labels['name'] == l])}\")"
   ],
   "metadata": {
    "collapsed": false,
    "ExecuteTime": {
     "end_time": "2023-07-03T07:05:34.025998Z",
     "start_time": "2023-07-03T07:05:30.332957Z"
    }
   }
  },
  {
   "cell_type": "code",
   "execution_count": 11,
   "outputs": [
    {
     "name": "stdout",
     "output_type": "stream",
     "text": [
      "正常ラベル：972781\n",
      "異常ラベル：3925650\n"
     ]
    }
   ],
   "source": [
    "print(f\"正常ラベル：{len(true_label[true_labels['label'] == 0])}\")\n",
    "print(f\"異常ラベル：{len(true_label[true_labels['label'] == 1])}\")"
   ],
   "metadata": {
    "collapsed": false,
    "ExecuteTime": {
     "end_time": "2023-07-03T07:05:34.080246Z",
     "start_time": "2023-07-03T07:05:34.029737Z"
    }
   }
  },
  {
   "cell_type": "code",
   "execution_count": 12,
   "outputs": [],
   "source": [
    "# 標準化\n",
    "from sklearn.preprocessing import StandardScaler\n",
    "data_x = pd.DataFrame(StandardScaler().fit_transform(data_x))"
   ],
   "metadata": {
    "collapsed": false,
    "ExecuteTime": {
     "end_time": "2023-07-03T07:05:38.587005Z",
     "start_time": "2023-07-03T07:05:34.083221Z"
    }
   }
  },
  {
   "cell_type": "code",
   "execution_count": 13,
   "outputs": [],
   "source": [
    "# 学習データと，検証データを2：1に分ける．\n",
    "x_train, x_test, y_train, y_test = train_test_split(data_x, data_y, stratify=data_y, test_size=0.33, random_state=2018)"
   ],
   "metadata": {
    "collapsed": false,
    "ExecuteTime": {
     "end_time": "2023-07-03T07:05:41.255059Z",
     "start_time": "2023-07-03T07:05:38.588543Z"
    }
   }
  },
  {
   "cell_type": "code",
   "execution_count": 14,
   "outputs": [
    {
     "name": "stdout",
     "output_type": "stream",
     "text": [
      "学習・正常ラベル：651763，学習・不正ラベル：2630185\n",
      "検証・正常ラベル：321018，検証・不正ラベル：1295465\n"
     ]
    }
   ],
   "source": [
    "print(f\"学習・正常ラベル：{np.sum(y_train == 0)}，学習・不正ラベル：{np.sum(y_train   == 1)}\")\n",
    "print(f\"検証・正常ラベル：{np.sum(y_test == 0)}，検証・不正ラベル：{np.sum(y_test == 1)}\")"
   ],
   "metadata": {
    "collapsed": false,
    "ExecuteTime": {
     "end_time": "2023-07-03T07:05:41.397172Z",
     "start_time": "2023-07-03T07:05:41.388575Z"
    }
   }
  },
  {
   "cell_type": "code",
   "execution_count": 15,
   "outputs": [],
   "source": [
    "params = {\n",
    "    'task': 'train', # default\n",
    "    'boosting': 'gbdt', #  default\n",
    "    'objective': 'binary', # 2値分類：binary, 他クラス分類：multiclass\n",
    "    'metric': 'binary_logloss', # 交差エントロピー誤差\n",
    "    'learning_rate': 0.1,\n",
    "    'num_leaves': 31, # ノードの数\n",
    "    'verbose': -1,\n",
    "    'seed': RANDOM_SEED\n",
    "}"
   ],
   "metadata": {
    "collapsed": false,
    "ExecuteTime": {
     "end_time": "2023-07-03T07:05:41.400542Z",
     "start_time": "2023-07-03T07:05:41.398836Z"
    }
   }
  },
  {
   "cell_type": "code",
   "execution_count": 16,
   "outputs": [],
   "source": [
    "# k分割交差検証\n",
    "#　`StratifiedKFold`は，，y_trainのラベル分布が近くなるように分割する．\n",
    "k_fold = StratifiedKFold(n_splits=5, shuffle=True, random_state=RANDOM_SEED)\n",
    "predictions_based_on_k_folds = pd.DataFrame(\n",
    "    data=[], index=y_train.index, columns=['prediction']\n",
    ")\n",
    "# 学習\n",
    "training_scores = [] # 学習率\n",
    "validation_scores = [] # 検証スコア\n"
   ],
   "metadata": {
    "collapsed": false,
    "ExecuteTime": {
     "end_time": "2023-07-03T07:05:41.464198Z",
     "start_time": "2023-07-03T07:05:41.400178Z"
    }
   }
  },
  {
   "cell_type": "code",
   "execution_count": 17,
   "outputs": [
    {
     "name": "stdout",
     "output_type": "stream",
     "text": [
      "Training until validation scores don't improve for 200 rounds\n",
      "Early stopping, best iteration is:\n",
      "[100]\tvalid_0's binary_logloss: 0.000257404\n",
      "Training until validation scores don't improve for 200 rounds\n",
      "Early stopping, best iteration is:\n",
      "[284]\tvalid_0's binary_logloss: 0.000170135\n",
      "Training until validation scores don't improve for 200 rounds\n",
      "Early stopping, best iteration is:\n",
      "[95]\tvalid_0's binary_logloss: 0.000251176\n",
      "Training until validation scores don't improve for 200 rounds\n",
      "Early stopping, best iteration is:\n",
      "[93]\tvalid_0's binary_logloss: 0.000248926\n",
      "Training until validation scores don't improve for 200 rounds\n",
      "Early stopping, best iteration is:\n",
      "[93]\tvalid_0's binary_logloss: 0.000293408\n"
     ]
    }
   ],
   "source": [
    "for t_idx, v_idx in k_fold.split(np.zeros(len(x_train)), y_train.ravel()):\n",
    "    x_train_fold, x_validation_fold = x_train.iloc[t_idx, :], x_train.iloc[v_idx, :] # 2次元配列\n",
    "    y_train_fold, y_validation_fold = y_train.iloc[t_idx], y_train.iloc[v_idx] # １次元配列\n",
    "\n",
    "    lgb_train = lgb.Dataset(x_train_fold, y_train_fold)\n",
    "    lgb_eval = lgb.Dataset(x_validation_fold, y_validation_fold, reference=lgb_train)\n",
    "    gbm = lgb.train(params, lgb_train,\n",
    "                    num_boost_round=2000,\n",
    "                    valid_sets=lgb_eval,\n",
    "                    callbacks=[lgb.early_stopping(200)]\n",
    "                    )\n",
    "    y_train_pred = gbm.predict(x_train_fold, num_iteration=gbm.best_iteration)\n",
    "    training_score = log_loss(y_train_fold, y_train_pred)\n",
    "\n",
    "    y_validation_predict = gbm.predict(x_validation_fold, num_iteration=gbm.best_iteration)\n",
    "    predictions_based_on_k_folds.loc[x_validation_fold.index, 'prediction'] = y_validation_predict\n",
    "    validation_score = log_loss(y_validation_fold, y_validation_predict)\n",
    "\n",
    "    training_scores.append(training_score)\n",
    "    validation_scores.append(validation_score)"
   ],
   "metadata": {
    "collapsed": false,
    "ExecuteTime": {
     "end_time": "2023-07-03T07:07:25.551481Z",
     "start_time": "2023-07-03T07:05:41.466663Z"
    }
   }
  },
  {
   "cell_type": "code",
   "execution_count": 18,
   "outputs": [],
   "source": [
    "# Evaluate on Test Set\n",
    "predictions = pd.Series(data=gbm.predict(x_test,\n",
    "                                         num_iteration=gbm.best_iteration), index=x_test.index)"
   ],
   "metadata": {
    "collapsed": false,
    "ExecuteTime": {
     "end_time": "2023-07-03T07:07:27.185938Z",
     "start_time": "2023-07-03T07:07:25.553307Z"
    }
   }
  },
  {
   "cell_type": "code",
   "execution_count": 19,
   "outputs": [
    {
     "data": {
      "text/plain": "array([1, 0, 1, ..., 1, 1, 1])"
     },
     "execution_count": 19,
     "metadata": {},
     "output_type": "execute_result"
    }
   ],
   "source": [
    "y_pred = np.where(predictions < 0.5, 0, 1)\n",
    "y_pred"
   ],
   "metadata": {
    "collapsed": false,
    "ExecuteTime": {
     "end_time": "2023-07-03T07:07:27.200141Z",
     "start_time": "2023-07-03T07:07:27.189037Z"
    }
   }
  },
  {
   "cell_type": "code",
   "execution_count": 20,
   "outputs": [
    {
     "name": "stdout",
     "output_type": "stream",
     "text": [
      "Accuracy score: 0.9999300951510162\n",
      "Light GBM Gradient Boosting Log loss: 0.00028903618874890204\n",
      "AUC: 0.9999981129618384\n",
      "precision score (micro): 0.9999300951510162\n",
      "precision score (macro): 0.9998685306157578\n"
     ]
    }
   ],
   "source": [
    "from sklearn.metrics import accuracy_score, roc_auc_score, precision_score\n",
    "\n",
    "# モデルの評価\n",
    "# acc: 正答率\n",
    "acc = accuracy_score(y_test, y_pred)\n",
    "print(f\"Accuracy score: {acc}\")\n",
    "\n",
    "\n",
    "# log loss\n",
    "log_loss_light_gbm_gradient_boosting = log_loss(y_test, predictions)\n",
    "print(f'Light GBM Gradient Boosting Log loss: {log_loss_light_gbm_gradient_boosting}')\n",
    "\n",
    "# AUC\n",
    "auc = roc_auc_score(y_test, predictions)\n",
    "print(f\"AUC: {auc}\")\n",
    "\n",
    "# precision score\n",
    "print(f\"precision score (micro): {precision_score(y_test, y_pred, average='micro')}\")\n",
    "print(f\"precision score (macro): {precision_score(y_test, y_pred, average='macro')}\")"
   ],
   "metadata": {
    "collapsed": false,
    "ExecuteTime": {
     "end_time": "2023-07-03T07:07:28.481863Z",
     "start_time": "2023-07-03T07:07:27.193601Z"
    }
   }
  },
  {
   "cell_type": "code",
   "execution_count": 21,
   "outputs": [
    {
     "name": "stdout",
     "output_type": "stream",
     "text": [
      "              precision    recall  f1-score   support\n",
      "\n",
      "           0   0.999766  0.999882  0.999824    321018\n",
      "           1   0.999971  0.999942  0.999956   1295465\n",
      "\n",
      "    accuracy                       0.999930   1616483\n",
      "   macro avg   0.999869  0.999912  0.999890   1616483\n",
      "weighted avg   0.999930  0.999930  0.999930   1616483\n",
      "\n"
     ]
    }
   ],
   "source": [
    "# 混合行列で表示\n",
    "from sklearn.metrics import classification_report\n",
    "print(classification_report(y_test, y_pred, digits=6))"
   ],
   "metadata": {
    "collapsed": false,
    "ExecuteTime": {
     "end_time": "2023-07-03T07:07:30.020262Z",
     "start_time": "2023-07-03T07:07:28.478194Z"
    }
   }
  },
  {
   "cell_type": "code",
   "execution_count": 22,
   "outputs": [
    {
     "data": {
      "text/plain": "(4898431, 38)"
     },
     "execution_count": 22,
     "metadata": {},
     "output_type": "execute_result"
    }
   ],
   "source": [
    "data_x.shape"
   ],
   "metadata": {
    "collapsed": false,
    "ExecuteTime": {
     "end_time": "2023-07-03T07:07:30.031692Z",
     "start_time": "2023-07-03T07:07:30.019630Z"
    }
   }
  },
  {
   "cell_type": "code",
   "execution_count": 23,
   "outputs": [
    {
     "data": {
      "text/plain": "normal    38\nprobe     38\nr2l       20\nu2r        9\ndos        8\nName: class, dtype: int64"
     },
     "execution_count": 23,
     "metadata": {},
     "output_type": "execute_result"
    }
   ],
   "source": [
    "true_labels.iloc[y_test.index[y_test != y_pred]]['class'].value_counts()"
   ],
   "metadata": {
    "collapsed": false,
    "ExecuteTime": {
     "end_time": "2023-07-03T07:07:30.081493Z",
     "start_time": "2023-07-03T07:07:30.024247Z"
    }
   }
  },
  {
   "cell_type": "markdown",
   "source": [
    "### Accuracy(正解率)が異常に高い\n",
    "### Accuracyがこれほど高くなる原因はわからない．\n",
    "### r2lは，20/1126, u2rは，9/52間違えている．\n",
    "### 全体のデータ量が489万件で，そのうちDOSの異常データが388万件のため，これによって正解率が上がっている可能性"
   ],
   "metadata": {
    "collapsed": false
   }
  },
  {
   "cell_type": "code",
   "execution_count": 23,
   "outputs": [],
   "source": [],
   "metadata": {
    "collapsed": false,
    "ExecuteTime": {
     "end_time": "2023-07-03T07:07:30.081622Z",
     "start_time": "2023-07-03T07:07:30.064856Z"
    }
   }
  },
  {
   "cell_type": "code",
   "execution_count": 23,
   "outputs": [],
   "source": [],
   "metadata": {
    "collapsed": false,
    "ExecuteTime": {
     "end_time": "2023-07-03T07:07:30.081651Z",
     "start_time": "2023-07-03T07:07:30.065026Z"
    }
   }
  },
  {
   "cell_type": "markdown",
   "source": [],
   "metadata": {
    "collapsed": false
   }
  }
 ],
 "metadata": {
  "kernelspec": {
   "display_name": "Python 3",
   "language": "python",
   "name": "python3"
  },
  "language_info": {
   "codemirror_mode": {
    "name": "ipython",
    "version": 2
   },
   "file_extension": ".py",
   "mimetype": "text/x-python",
   "name": "python",
   "nbconvert_exporter": "python",
   "pygments_lexer": "ipython2",
   "version": "2.7.6"
  }
 },
 "nbformat": 4,
 "nbformat_minor": 0
}
