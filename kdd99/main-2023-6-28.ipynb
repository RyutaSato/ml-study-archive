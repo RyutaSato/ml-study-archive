{
 "cells": [
  {
   "cell_type": "code",
   "execution_count": null,
   "outputs": [],
   "source": [],
   "metadata": {
    "collapsed": false
   }
  },
  {
   "cell_type": "markdown",
   "source": [
    "## カテゴリデータを削除して実装する．\n",
    "## 全てのデータを含むデータセットで試す．\n",
    "## Accuracyや混合行列など他の指標で評価する．\n",
    "## macro, microについても理解する．"
   ],
   "metadata": {
    "collapsed": false
   }
  },
  {
   "cell_type": "markdown",
   "source": [],
   "metadata": {
    "collapsed": false
   }
  },
  {
   "cell_type": "code",
   "execution_count": 1,
   "metadata": {
    "collapsed": true,
    "ExecuteTime": {
     "end_time": "2023-07-04T00:40:56.290950Z",
     "start_time": "2023-07-04T00:40:53.044449Z"
    }
   },
   "outputs": [
    {
     "name": "stdout",
     "output_type": "stream",
     "text": [
      "python:      3.10.11\n",
      "sklearn:     1.2.2\n",
      "tensorflow:  2.12.0\n",
      "keras:       2.12.0\n",
      "numpy:       1.23.5\n",
      "pandas:      1.5.3\n"
     ]
    }
   ],
   "source": [
    "from utils import *\n",
    "print_version()"
   ]
  },
  {
   "cell_type": "code",
   "execution_count": 2,
   "outputs": [
    {
     "name": "stdout",
     "output_type": "stream",
     "text": [
      "特徴量の数：41\n",
      "各特徴量の名前：duration, protocol_type, service, flag, src_bytes, dst_bytes, land, wrong_fragment, urgent, hot, num_failed_logins, logged_in, num_compromised, root_shell, su_attempted, num_root, num_file_creations, num_shells, num_access_files, num_outbound_cmds, is_host_login, is_guest_login, count, srv_count, serror_rate, srv_serror_rate, rerror_rate, srv_rerror_rate, same_srv_rate, diff_srv_rate, srv_diff_host_rate, dst_host_count, dst_host_srv_count, dst_host_same_srv_rate, dst_host_diff_srv_rate, dst_host_same_src_port_rate, dst_host_srv_diff_host_rate, dst_host_serror_rate, dst_host_srv_serror_rate, dst_host_rerror_rate, dst_host_srv_rerror_rate\n"
     ]
    }
   ],
   "source": [
    "# 特徴量名の読み込み\n",
    "with open(\"../dataset/kddcup.names\") as fp:\n",
    "    # 一行目は不要なので無視\n",
    "    _ = fp.readline()\n",
    "    # `:`より手前がラベルなので，その部分を抽出してリストに追加\n",
    "    names = [line.split(':')[0] for line in fp]\n",
    "print(f\"特徴量の数：{len(names)}\")\n",
    "print(f\"各特徴量の名前：{', '.join(names)}\")"
   ],
   "metadata": {
    "collapsed": false,
    "ExecuteTime": {
     "end_time": "2023-07-04T00:40:56.294585Z",
     "start_time": "2023-07-04T00:40:56.292548Z"
    }
   }
  },
  {
   "cell_type": "code",
   "execution_count": 3,
   "outputs": [],
   "source": [
    "# データの読み込み\n",
    "#　正解ラベルを追加\n",
    "names.append(\"true_label\")\n",
    "data = pd.read_csv(\"../dataset/kddcup.data\", names=names, index_col=False)\n",
    "true_label = data.pop('true_label')"
   ],
   "metadata": {
    "collapsed": false,
    "ExecuteTime": {
     "end_time": "2023-07-04T00:41:03.331068Z",
     "start_time": "2023-07-04T00:40:56.296344Z"
    }
   }
  },
  {
   "cell_type": "code",
   "execution_count": 4,
   "outputs": [
    {
     "data": {
      "text/plain": "smurf.              2807886\nneptune.            1072017\nnormal.              972781\nsatan.                15892\nipsweep.              12481\nportsweep.            10413\nnmap.                  2316\nback.                  2203\nwarezclient.           1020\nteardrop.               979\npod.                    264\nguess_passwd.            53\nbuffer_overflow.         30\nland.                    21\nwarezmaster.             20\nimap.                    12\nrootkit.                 10\nloadmodule.               9\nftp_write.                8\nmultihop.                 7\nphf.                      4\nperl.                     3\nspy.                      2\nName: true_label, dtype: int64"
     },
     "execution_count": 4,
     "metadata": {},
     "output_type": "execute_result"
    }
   ],
   "source": [
    "true_label_counts = true_label.value_counts()\n",
    "true_label_counts"
   ],
   "metadata": {
    "collapsed": false,
    "ExecuteTime": {
     "end_time": "2023-07-04T00:41:03.484414Z",
     "start_time": "2023-07-04T00:41:03.329649Z"
    }
   }
  },
  {
   "cell_type": "code",
   "execution_count": 5,
   "outputs": [
    {
     "data": {
      "text/plain": "0          normal\n1          normal\n2          normal\n3          normal\n4          normal\n            ...  \n4898426    normal\n4898427    normal\n4898428    normal\n4898429    normal\n4898430    normal\nName: true_label, Length: 4898431, dtype: object"
     },
     "execution_count": 5,
     "metadata": {},
     "output_type": "execute_result"
    }
   ],
   "source": [
    "# 正解ラベルのピリオドを外す．\n",
    "true_label = true_label.map(lambda x: x.replace('.', ''))\n",
    "true_label"
   ],
   "metadata": {
    "collapsed": false,
    "ExecuteTime": {
     "end_time": "2023-07-04T00:41:03.995418Z",
     "start_time": "2023-07-04T00:41:03.485473Z"
    }
   }
  },
  {
   "cell_type": "markdown",
   "source": [
    "### 攻撃の種類は，大まかに４種類(`Dos`, `U2R`, `R2L`, `Probe`)\n",
    "### 後の学習プログラムのために，予め各クラスを定義しておく，\n",
    "### class -> `Dos`, `U2R`, `R2L`, `Probe`\n",
    "### label -> `duration`, `protocol_type`, `service`, `flag`, `src_bytes`, `dst_bytes`, `land`, `wrong_fragment`, `urgent`, `hot`, `num_failed_logins`, `logged_in`, `num_compromised`, `root_shell`, `su_attempted`, `num_root`, `num_file_creations`, `num_shells`, `num_access_files`, `num_outbound_cmds`, `is_host_login`, `is_guest_login`, `count`, `srv_count`, `serror_rate`, `srv_serror_rate`, `rerror_rate`, `srv_rerror_rate`, `same_srv_rate`, `diff_srv_rate`, `srv_diff_host_rate`, `dst_host_count`, `dst_host_srv_count`, `dst_host_same_srv_rate`, `dst_host_diff_srv_rate`, `dst_host_same_src_port_rate`, `dst_host_srv_diff_host_rate`, `dst_host_serror_rate`, `dst_host_srv_serror_rate`, `dst_host_rerror_rate`"
   ],
   "metadata": {
    "collapsed": false
   }
  },
  {
   "cell_type": "code",
   "execution_count": 6,
   "outputs": [
    {
     "data": {
      "text/plain": "{'normal': 'normal',\n 'back': 'dos',\n 'land': 'dos',\n 'neptune': 'dos',\n 'pod': 'dos',\n 'smurf': 'dos',\n 'teardrop': 'dos',\n 'buffer_overflow': 'u2r',\n 'loadmodule': 'u2r',\n 'perl': 'u2r',\n 'rootkit': 'u2r',\n 'ftp_write': 'r2l',\n 'guess_passwd': 'r2l',\n 'imap': 'r2l',\n 'multihop': 'r2l',\n 'phf': 'r2l',\n 'spy': 'r2l',\n 'warezclient': 'r2l',\n 'warezmaster': 'r2l',\n 'ipsweep': 'probe',\n 'nmap': 'probe',\n 'portsweep': 'probe',\n 'satan': 'probe'}"
     },
     "execution_count": 6,
     "metadata": {},
     "output_type": "execute_result"
    }
   ],
   "source": [
    "# attack_class_labels -> key: class, value: list[label]\n",
    "attack_class_labels = {\n",
    "    'normal': ['normal'],\n",
    "    'dos': ['back', 'land', 'neptune', 'pod', 'smurf', 'teardrop'],\n",
    "    'u2r': ['buffer_overflow', 'loadmodule', 'perl', 'rootkit'],\n",
    "    'r2l': ['ftp_write', 'guess_passwd', 'imap', 'multihop', 'phf', 'spy', 'warezclient', 'warezmaster'],\n",
    "    'probe': ['ipsweep', 'nmap', 'portsweep', 'satan']\n",
    "}\n",
    "# attack_class_label -> key: label, value: class\n",
    "attack_label_class = {}\n",
    "for c, labels in attack_class_labels.items():\n",
    "    for label in labels:\n",
    "        attack_label_class[label] = c\n",
    "attack_label_class"
   ],
   "metadata": {
    "collapsed": false,
    "ExecuteTime": {
     "end_time": "2023-07-04T00:41:03.995756Z",
     "start_time": "2023-07-04T00:41:03.990473Z"
    }
   }
  },
  {
   "cell_type": "code",
   "execution_count": 7,
   "outputs": [],
   "source": [
    "# データの定義\n",
    "data_x = data.copy()\n",
    "true_labels = pd.DataFrame({\n",
    "    'class': [attack_label_class[label] for label in true_label],\n",
    "    'name': true_label,\n",
    "    'label': [int(t_or_f) for t_or_f in true_label != 'normal']\n",
    "})\n",
    "data_y = true_labels['label'].copy()"
   ],
   "metadata": {
    "collapsed": false,
    "ExecuteTime": {
     "end_time": "2023-07-04T00:41:08.471797Z",
     "start_time": "2023-07-04T00:41:03.994466Z"
    }
   }
  },
  {
   "cell_type": "markdown",
   "source": [
    "### カテゴリーデータを削除\n",
    "カテゴリデータは，ワンホットエンコーディングすると学習に大きく影響を受けてしまうため，特徴量から外す．"
   ],
   "metadata": {
    "collapsed": false
   }
  },
  {
   "cell_type": "code",
   "execution_count": 8,
   "outputs": [],
   "source": [
    "data_x = data_x.drop(columns=['protocol_type', 'service', 'flag'], axis=1)"
   ],
   "metadata": {
    "collapsed": false,
    "ExecuteTime": {
     "end_time": "2023-07-04T00:41:09.271511Z",
     "start_time": "2023-07-04T00:41:09.195393Z"
    }
   }
  },
  {
   "cell_type": "code",
   "execution_count": 9,
   "outputs": [
    {
     "name": "stdout",
     "output_type": "stream",
     "text": [
      "データの総数：4898431\n",
      "normal: 972781\n",
      "   normal: 972781\n",
      "dos: 3883370\n",
      "   back: 2203\n",
      "   land: 21\n",
      "   neptune: 1072017\n",
      "   pod: 264\n",
      "   smurf: 2807886\n",
      "   teardrop: 979\n",
      "u2r: 52\n",
      "   buffer_overflow: 30\n",
      "   loadmodule: 9\n",
      "   perl: 3\n",
      "   rootkit: 10\n",
      "r2l: 1126\n",
      "   ftp_write: 8\n",
      "   guess_passwd: 53\n",
      "   imap: 12\n",
      "   multihop: 7\n",
      "   phf: 4\n",
      "   spy: 2\n",
      "   warezclient: 1020\n",
      "   warezmaster: 20\n",
      "probe: 41102\n",
      "   ipsweep: 12481\n",
      "   nmap: 2316\n",
      "   portsweep: 10413\n",
      "   satan: 15892\n"
     ]
    }
   ],
   "source": [
    "print(f\"データの総数：{len(data)}\")\n",
    "# 各クラスとそのクラスに属するラベルのデータ数\n",
    "for c, labels in attack_class_labels.items():\n",
    "    print(f\"{c}: {len(true_label[true_labels['class'] == c])}\")\n",
    "    for l in labels:\n",
    "        print(f\"   {l}: {len(true_label[true_labels['name'] == l])}\")"
   ],
   "metadata": {
    "collapsed": false,
    "ExecuteTime": {
     "end_time": "2023-07-04T00:41:13.093709Z",
     "start_time": "2023-07-04T00:41:09.407184Z"
    }
   }
  },
  {
   "cell_type": "code",
   "execution_count": 10,
   "outputs": [
    {
     "name": "stdout",
     "output_type": "stream",
     "text": [
      "正常ラベル：972781\n",
      "異常ラベル：3925650\n"
     ]
    }
   ],
   "source": [
    "print(f\"正常ラベル：{len(true_label[true_labels['label'] == 0])}\")\n",
    "print(f\"異常ラベル：{len(true_label[true_labels['label'] == 1])}\")"
   ],
   "metadata": {
    "collapsed": false,
    "ExecuteTime": {
     "end_time": "2023-07-04T00:41:13.154006Z",
     "start_time": "2023-07-04T00:41:13.096860Z"
    }
   }
  },
  {
   "cell_type": "code",
   "execution_count": 11,
   "outputs": [],
   "source": [
    "# 標準化\n",
    "from sklearn.preprocessing import StandardScaler\n",
    "data_x = pd.DataFrame(StandardScaler().fit_transform(data_x))"
   ],
   "metadata": {
    "collapsed": false,
    "ExecuteTime": {
     "end_time": "2023-07-04T00:41:18.167228Z",
     "start_time": "2023-07-04T00:41:13.158098Z"
    }
   }
  },
  {
   "cell_type": "code",
   "execution_count": 12,
   "outputs": [],
   "source": [
    "# 学習データと，検証データを2：1に分ける．\n",
    "x_train, x_test, y_train, y_test = train_test_split(data_x, data_y, stratify=data_y, test_size=0.33, random_state=2018)"
   ],
   "metadata": {
    "collapsed": false,
    "ExecuteTime": {
     "end_time": "2023-07-04T00:41:22.990133Z",
     "start_time": "2023-07-04T00:41:18.164529Z"
    }
   }
  },
  {
   "cell_type": "code",
   "execution_count": 13,
   "outputs": [
    {
     "name": "stdout",
     "output_type": "stream",
     "text": [
      "学習・正常ラベル：651763，学習・不正ラベル：2630185\n",
      "検証・正常ラベル：321018，検証・不正ラベル：1295465\n"
     ]
    }
   ],
   "source": [
    "print(f\"学習・正常ラベル：{np.sum(y_train == 0)}，学習・不正ラベル：{np.sum(y_train   == 1)}\")\n",
    "print(f\"検証・正常ラベル：{np.sum(y_test == 0)}，検証・不正ラベル：{np.sum(y_test == 1)}\")"
   ],
   "metadata": {
    "collapsed": false,
    "ExecuteTime": {
     "end_time": "2023-07-04T00:41:23.077082Z",
     "start_time": "2023-07-04T00:41:23.027414Z"
    }
   }
  },
  {
   "cell_type": "code",
   "execution_count": 14,
   "outputs": [],
   "source": [
    "params = {\n",
    "    'task': 'train', # default\n",
    "    'boosting': 'gbdt', #  default\n",
    "    'objective': 'binary', # 2値分類：binary, 他クラス分類：multiclass\n",
    "    'metric': 'binary_logloss', # 交差エントロピー誤差\n",
    "    'learning_rate': 0.1,\n",
    "    'num_leaves': 31, # ノードの数\n",
    "    'verbose': -1,\n",
    "    'seed': RANDOM_SEED\n",
    "}"
   ],
   "metadata": {
    "collapsed": false,
    "ExecuteTime": {
     "end_time": "2023-07-04T00:41:23.077982Z",
     "start_time": "2023-07-04T00:41:23.066914Z"
    }
   }
  },
  {
   "cell_type": "code",
   "execution_count": 15,
   "outputs": [],
   "source": [
    "# k分割交差検証\n",
    "#　`StratifiedKFold`は，，y_trainのラベル分布が近くなるように分割する．\n",
    "k_fold = StratifiedKFold(n_splits=5, shuffle=True, random_state=RANDOM_SEED)\n",
    "predictions_based_on_k_folds = pd.DataFrame(\n",
    "    data=[], index=y_train.index, columns=['prediction']\n",
    ")\n",
    "# 学習\n",
    "training_scores = [] # 学習率\n",
    "validation_scores = [] # 検証スコア\n"
   ],
   "metadata": {
    "collapsed": false,
    "ExecuteTime": {
     "end_time": "2023-07-04T00:41:23.324833Z",
     "start_time": "2023-07-04T00:41:23.105886Z"
    }
   }
  },
  {
   "cell_type": "code",
   "execution_count": 16,
   "outputs": [
    {
     "name": "stdout",
     "output_type": "stream",
     "text": [
      "Training until validation scores don't improve for 50 rounds\n",
      "Early stopping, best iteration is:\n",
      "[100]\tvalid_0's binary_logloss: 0.000257404\n",
      "Training until validation scores don't improve for 50 rounds\n",
      "Early stopping, best iteration is:\n",
      "[284]\tvalid_0's binary_logloss: 0.000170135\n",
      "Training until validation scores don't improve for 50 rounds\n",
      "Early stopping, best iteration is:\n",
      "[95]\tvalid_0's binary_logloss: 0.000251176\n",
      "Training until validation scores don't improve for 50 rounds\n",
      "Early stopping, best iteration is:\n",
      "[93]\tvalid_0's binary_logloss: 0.000248926\n",
      "Training until validation scores don't improve for 50 rounds\n",
      "Early stopping, best iteration is:\n",
      "[93]\tvalid_0's binary_logloss: 0.000293408\n"
     ]
    }
   ],
   "source": [
    "for t_idx, v_idx in k_fold.split(np.zeros(len(x_train)), y_train.ravel()):\n",
    "    x_train_fold, x_validation_fold = x_train.iloc[t_idx, :], x_train.iloc[v_idx, :] # 2次元配列\n",
    "    y_train_fold, y_validation_fold = y_train.iloc[t_idx], y_train.iloc[v_idx] # １次元配列\n",
    "\n",
    "    lgb_train = lgb.Dataset(x_train_fold, y_train_fold)\n",
    "    lgb_eval = lgb.Dataset(x_validation_fold, y_validation_fold, reference=lgb_train)\n",
    "    gbm = lgb.train(params, lgb_train,\n",
    "                    num_boost_round=1000, # 2000->1000\n",
    "                    valid_sets=lgb_eval,\n",
    "                    callbacks=[lgb.early_stopping(50)]\n",
    "                    # 200-> 50\n",
    "                    )\n",
    "    y_train_pred = gbm.predict(x_train_fold, num_iteration=gbm.best_iteration)\n",
    "    training_score = log_loss(y_train_fold, y_train_pred)\n",
    "\n",
    "    y_validation_predict = gbm.predict(x_validation_fold, num_iteration=gbm.best_iteration)\n",
    "    predictions_based_on_k_folds.loc[x_validation_fold.index, 'prediction'] = y_validation_predict\n",
    "    validation_score = log_loss(y_validation_fold, y_validation_predict)\n",
    "\n",
    "    training_scores.append(training_score)\n",
    "    validation_scores.append(validation_score)"
   ],
   "metadata": {
    "collapsed": false,
    "ExecuteTime": {
     "end_time": "2023-07-04T00:42:43.749974Z",
     "start_time": "2023-07-04T00:41:23.328204Z"
    }
   }
  },
  {
   "cell_type": "code",
   "execution_count": 17,
   "outputs": [
    {
     "data": {
      "text/plain": "2828660    0.999981\n4825191    0.000072\n4735908    0.999981\n2100416    0.999981\n1274026    0.999981\n             ...   \n3406297    0.000077\n2682103    0.999981\n3010182    0.999981\n1495098    0.999981\n2356085    0.999981\nLength: 1616483, dtype: float64"
     },
     "execution_count": 17,
     "metadata": {},
     "output_type": "execute_result"
    }
   ],
   "source": [
    "# Evaluate on Test Set\n",
    "predictions = pd.Series(data=gbm.predict(x_test,\n",
    "                                         num_iteration=gbm.best_iteration), index=x_test.index)\n",
    "predictions"
   ],
   "metadata": {
    "collapsed": false,
    "ExecuteTime": {
     "end_time": "2023-07-04T00:42:45.451893Z",
     "start_time": "2023-07-04T00:42:43.757044Z"
    }
   }
  },
  {
   "cell_type": "code",
   "execution_count": 18,
   "outputs": [
    {
     "data": {
      "text/plain": "array([1, 0, 1, ..., 1, 1, 1])"
     },
     "execution_count": 18,
     "metadata": {},
     "output_type": "execute_result"
    }
   ],
   "source": [
    "# 閾値を0.5とする．\n",
    "y_pred = np.where(predictions < 0.5, 0, 1)\n",
    "y_pred"
   ],
   "metadata": {
    "collapsed": false,
    "ExecuteTime": {
     "end_time": "2023-07-04T00:42:45.462855Z",
     "start_time": "2023-07-04T00:42:45.455933Z"
    }
   }
  },
  {
   "cell_type": "code",
   "execution_count": 19,
   "outputs": [
    {
     "name": "stdout",
     "output_type": "stream",
     "text": [
      "Accuracy score: 0.9999300951510162\n",
      "Light GBM Gradient Boosting Log loss: 0.00028903618874890204\n",
      "AUC: 0.9999981129618384\n",
      "precision score (micro): 0.9999300951510162\n",
      "precision score (macro): 0.9998685306157578\n"
     ]
    }
   ],
   "source": [
    "from sklearn.metrics import accuracy_score, roc_auc_score, precision_score\n",
    "\n",
    "# モデルの評価\n",
    "# acc: 正答率\n",
    "acc = accuracy_score(y_test, y_pred)\n",
    "print(f\"Accuracy score: {acc}\")\n",
    "\n",
    "\n",
    "# log loss\n",
    "log_loss_light_gbm_gradient_boosting = log_loss(y_test, predictions)\n",
    "print(f'Light GBM Gradient Boosting Log loss: {log_loss_light_gbm_gradient_boosting}')\n",
    "\n",
    "# AUC\n",
    "auc = roc_auc_score(y_test, predictions)\n",
    "print(f\"AUC: {auc}\")\n",
    "\n",
    "# precision score\n",
    "print(f\"precision score (micro): {precision_score(y_test, y_pred, average='micro')}\")\n",
    "print(f\"precision score (macro): {precision_score(y_test, y_pred, average='macro')}\")"
   ],
   "metadata": {
    "collapsed": false,
    "ExecuteTime": {
     "end_time": "2023-07-04T00:42:46.788478Z",
     "start_time": "2023-07-04T00:42:45.467286Z"
    }
   }
  },
  {
   "cell_type": "code",
   "execution_count": 20,
   "outputs": [
    {
     "name": "stdout",
     "output_type": "stream",
     "text": [
      "              precision    recall  f1-score   support\n",
      "\n",
      "           0   0.999766  0.999882  0.999824    321018\n",
      "           1   0.999971  0.999942  0.999956   1295465\n",
      "\n",
      "    accuracy                       0.999930   1616483\n",
      "   macro avg   0.999869  0.999912  0.999890   1616483\n",
      "weighted avg   0.999930  0.999930  0.999930   1616483\n",
      "\n",
      "[[ 320980      38]\n",
      " [     75 1295390]]\n",
      "正常ラベルを正常と判断：320980\n",
      "正常ラベルを不正と判断：38\n",
      "不正ラベルを正常と判断：75\n",
      "不正ラベルを不正と判断：1295390\n",
      "正常ラベルを正常と予測した割合(正常ラベルの正解率，再現率): 0.9998816265754569\n",
      "不正ラベルを不正と予測した割合(不正ラベルの正解率): 0.9999421057303748\n",
      "適合率(マイクロ平均): 0.9999300951510162\n",
      "適合率(マクロ平均): 0.9999118661529158\n"
     ]
    }
   ],
   "source": [
    "# 混合行列で表示\n",
    "from sklearn.metrics import classification_report, confusion_matrix\n",
    "print(classification_report(y_test, y_pred, digits=6))\n",
    "print(confusion_matrix(y_test, y_pred, labels=[0, 1]))\n",
    "tn, tp, fn, fp = confusion_matrix(y_test, y_pred).flatten()\n",
    "print(f'正常ラベルを正常と判断：{tn}')\n",
    "print(f'正常ラベルを不正と判断：{tp}')\n",
    "print(f'不正ラベルを正常と判断：{fn}')\n",
    "print(f'不正ラベルを不正と判断：{fp}')\n",
    "print(f'正常ラベルを正常と予測した割合(正常ラベルの正解率，再現率): {tn / (tn + tp)}')\n",
    "print(f'不正ラベルを不正と予測した割合(不正ラベルの正解率): {fp / (fn + fp)}')\n",
    "total = tn + tp + fn + fp\n",
    "print(f\"適合率(マイクロ平均): { (tn + tp) / total * (tn/(tn+tp)) + (fn + fp) / total * (fp / (fn + fp))}\")\n",
    "print(f\"適合率(マクロ平均): {0.5 * (tn/(tn+tp)) + 0.5 * (fp / (fn + fp))}\")\n",
    "\n"
   ],
   "metadata": {
    "collapsed": false,
    "ExecuteTime": {
     "end_time": "2023-07-04T00:42:48.617899Z",
     "start_time": "2023-07-04T00:42:46.792469Z"
    }
   }
  },
  {
   "cell_type": "code",
   "execution_count": 21,
   "outputs": [
    {
     "data": {
      "text/plain": "(4898431, 38)"
     },
     "execution_count": 21,
     "metadata": {},
     "output_type": "execute_result"
    }
   ],
   "source": [
    "data_x.shape"
   ],
   "metadata": {
    "collapsed": false,
    "ExecuteTime": {
     "end_time": "2023-07-04T00:42:48.621738Z",
     "start_time": "2023-07-04T00:42:48.619719Z"
    }
   }
  },
  {
   "cell_type": "code",
   "execution_count": 22,
   "outputs": [
    {
     "data": {
      "text/plain": "409161     normal\n264363      probe\n1381890    normal\n808418      probe\n4511467    normal\n            ...  \n396614        r2l\n406612      probe\n1381089    normal\n1461036     probe\n894866      probe\nName: class, Length: 113, dtype: object"
     },
     "execution_count": 22,
     "metadata": {},
     "output_type": "execute_result"
    }
   ],
   "source": [
    "incorrect_data = true_labels.iloc[y_test.index[y_test != y_pred]]['class']\n",
    "incorrect_data"
   ],
   "metadata": {
    "collapsed": false,
    "ExecuteTime": {
     "end_time": "2023-07-04T00:42:48.664361Z",
     "start_time": "2023-07-04T00:42:48.624102Z"
    }
   }
  },
  {
   "cell_type": "code",
   "execution_count": 23,
   "outputs": [
    {
     "data": {
      "text/plain": "normal    38\nprobe     38\nr2l       20\nu2r        9\ndos        8\nName: class, dtype: int64"
     },
     "execution_count": 23,
     "metadata": {},
     "output_type": "execute_result"
    }
   ],
   "source": [
    "incorrect_data.value_counts()"
   ],
   "metadata": {
    "collapsed": false,
    "ExecuteTime": {
     "end_time": "2023-07-04T00:42:48.670676Z",
     "start_time": "2023-07-04T00:42:48.668059Z"
    }
   }
  },
  {
   "cell_type": "code",
   "execution_count": 24,
   "outputs": [
    {
     "data": {
      "text/plain": "dos       3883370\nnormal     972781\nprobe       41102\nr2l          1126\nu2r            52\nName: class, dtype: int64"
     },
     "execution_count": 24,
     "metadata": {},
     "output_type": "execute_result"
    }
   ],
   "source": [
    "true_labels['class'].value_counts()"
   ],
   "metadata": {
    "collapsed": false,
    "ExecuteTime": {
     "end_time": "2023-07-04T00:42:48.797509Z",
     "start_time": "2023-07-04T00:42:48.795287Z"
    }
   }
  },
  {
   "cell_type": "markdown",
   "source": [
    "### Accuracyがこれほど高くなる理由はわからない．\n",
    "### r2lは，20/1126, u2rは，9/52と比較的誤った結果の割合が多い．\n",
    "### 全体のデータ量が489万件で，そのうちDOSの異常データが388万件のため，DOSのデータに引っ張られている？\n",
    "###"
   ],
   "metadata": {
    "collapsed": false
   }
  },
  {
   "cell_type": "markdown",
   "source": [
    "## 未完備オートエンコーダで試す．\n",
    "- 未完備オートエンコーダで，正常なラベルデータのみを用いて学習する．\n",
    "- 入力は，38次元\n",
    "- 隠れ層は，38 -> 19 -> 10 -> 19 -> 38　とする．\n",
    "- 活性化関数は，ReLU\n",
    "- 最適化器は．adam\n",
    "- 誤差関数は，平均二乗誤差(mean_squared_error)"
   ],
   "metadata": {
    "collapsed": false
   }
  },
  {
   "cell_type": "code",
   "execution_count": 25,
   "outputs": [
    {
     "name": "stdout",
     "output_type": "stream",
     "text": [
      "Model: \"sequential\"\n",
      "_________________________________________________________________\n",
      " Layer (type)                Output Shape              Param #   \n",
      "=================================================================\n",
      " dense (Dense)               (None, 19)                741       \n",
      "                                                                 \n",
      " dense_1 (Dense)             (None, 10)                200       \n",
      "                                                                 \n",
      " dense_2 (Dense)             (None, 19)                209       \n",
      "                                                                 \n",
      " dense_3 (Dense)             (None, 38)                760       \n",
      "                                                                 \n",
      "=================================================================\n",
      "Total params: 1,910\n",
      "Trainable params: 1,910\n",
      "Non-trainable params: 0\n",
      "_________________________________________________________________\n"
     ]
    }
   ],
   "source": [
    "model = keras.Sequential([\n",
    "    Dense(units=19, activation='relu', input_dim=38),\n",
    "    Dense(units=10, activation='relu'),\n",
    "    Dense(units=19, activation='relu'),\n",
    "    Dense(units=38, activation='relu'),\n",
    "])\n",
    "model.summary()"
   ],
   "metadata": {
    "collapsed": false,
    "ExecuteTime": {
     "end_time": "2023-07-04T00:42:49.007879Z",
     "start_time": "2023-07-04T00:42:48.803934Z"
    }
   }
  },
  {
   "cell_type": "code",
   "execution_count": 26,
   "outputs": [],
   "source": [
    "model.compile(optimizer='adam', loss='mean_squared_error', metrics=['accuracy'])"
   ],
   "metadata": {
    "collapsed": false,
    "ExecuteTime": {
     "end_time": "2023-07-04T00:42:49.015729Z",
     "start_time": "2023-07-04T00:42:49.011412Z"
    }
   }
  },
  {
   "cell_type": "code",
   "execution_count": 27,
   "outputs": [
    {
     "name": "stdout",
     "output_type": "stream",
     "text": [
      "Epoch 1/5\n"
     ]
    },
    {
     "name": "stderr",
     "output_type": "stream",
     "text": [
      "2023-07-04 09:42:49.524876: W tensorflow/tsl/platform/profile_utils/cpu_utils.cc:128] Failed to get CPU frequency: 0 Hz\n"
     ]
    },
    {
     "name": "stdout",
     "output_type": "stream",
     "text": [
      "16295/16295 [==============================] - 9s 518us/step - loss: 1.5363 - accuracy: 0.9248 - val_loss: 1.2164 - val_accuracy: 0.9320\n",
      "Epoch 2/5\n",
      "16295/16295 [==============================] - 9s 533us/step - loss: 1.5024 - accuracy: 0.9418 - val_loss: 1.1944 - val_accuracy: 0.9555\n",
      "Epoch 3/5\n",
      "16295/16295 [==============================] - 9s 524us/step - loss: 1.4959 - accuracy: 0.9409 - val_loss: 1.1947 - val_accuracy: 0.9392\n",
      "Epoch 4/5\n",
      "16295/16295 [==============================] - 8s 512us/step - loss: 1.4957 - accuracy: 0.9410 - val_loss: 1.1967 - val_accuracy: 0.9587\n",
      "Epoch 5/5\n",
      "16295/16295 [==============================] - 9s 531us/step - loss: 1.4908 - accuracy: 0.9484 - val_loss: 1.1843 - val_accuracy: 0.9598\n"
     ]
    },
    {
     "data": {
      "text/plain": "<keras.callbacks.History at 0x32a939990>"
     },
     "execution_count": 27,
     "metadata": {},
     "output_type": "execute_result"
    }
   ],
   "source": [
    "# AutoEncoder用に，正常ラベルのみのDataFrameを定義\n",
    "x_train_ae = x_train[y_train == 0]\n",
    "y_train_ae = y_train[y_train == 0]\n",
    "model.fit(x=x_train_ae, y=x_train_ae, epochs=5, batch_size=32, shuffle=True, validation_split=0.20)"
   ],
   "metadata": {
    "collapsed": false,
    "ExecuteTime": {
     "end_time": "2023-07-04T00:43:32.711403Z",
     "start_time": "2023-07-04T00:42:49.022149Z"
    }
   }
  },
  {
   "cell_type": "code",
   "execution_count": 28,
   "outputs": [
    {
     "name": "stdout",
     "output_type": "stream",
     "text": [
      "50516/50516 [==============================] - 13s 248us/step\n"
     ]
    }
   ],
   "source": [
    "# 検証データの特徴量を再現したデータ\n",
    "predicted_x_test = model.predict(x_test)"
   ],
   "metadata": {
    "collapsed": false,
    "ExecuteTime": {
     "end_time": "2023-07-04T00:43:53.511124Z",
     "start_time": "2023-07-04T00:43:32.716686Z"
    }
   }
  },
  {
   "cell_type": "code",
   "execution_count": 29,
   "outputs": [],
   "source": [
    "# TODO: バグあり 19行目で`KeyError`が発生\n",
    "def precision_by_recall(data_y_: pd.Series, threshold: float):\n",
    "    \"\"\"\n",
    "    あるレベルの再現率(Recall)に対する適合率(Precision)を求める．\n",
    "    再現率 = 真陽性 / (真陽性 + 偽陰性)\n",
    "    適合率 = 真陽性　/ (真陽性 + 偽陽性)\n",
    "    不正ラベルのうち，実際に検出できた不正の割合（再現率）が\n",
    "    :param df:\n",
    "    :param column:\n",
    "    :param threshold:\n",
    "    :return:\n",
    "    Example:\n",
    "        threshold = 0.4の場合，40％の再現率を達成した際の適合率\n",
    "    \"\"\"\n",
    "    threshold_value = threshold * data_y_.sum()  # 不正ラベルの個数\n",
    "    i = 0\n",
    "    j = 0\n",
    "    while i <= threshold_value:\n",
    "        if data_y_[j] == 1:\n",
    "            i += 1\n",
    "        j += 1\n",
    "    return i / j\n"
   ],
   "metadata": {
    "collapsed": false,
    "ExecuteTime": {
     "end_time": "2023-07-04T00:43:53.521848Z",
     "start_time": "2023-07-04T00:43:53.509454Z"
    }
   }
  },
  {
   "cell_type": "code",
   "execution_count": 30,
   "outputs": [
    {
     "name": "stdout",
     "output_type": "stream",
     "text": [
      "[2.00000000e+00 1.00000000e+00 6.22292698e-02 ... 8.82000147e-08\n",
      " 8.40813050e-08 0.00000000e+00]\n"
     ]
    },
    {
     "data": {
      "text/plain": "<Figure size 640x480 with 1 Axes>",
      "image/png": "[encoded data removed]"
     },
     "metadata": {},
     "output_type": "display_data"
    },
    {
     "data": {
      "text/plain": "<Figure size 640x480 with 1 Axes>",
      "image/png": "[encoded data removed]"
     },
     "metadata": {},
     "output_type": "display_data"
    }
   ],
   "source": [
    "errors = reconstruction_errors(x_test, predicted_x_test)\n",
    "plot_results(y_test, errors)\n",
    "# precision = precision_by_recall(y_test, 0.75)\n",
    "# print(f'Precision at 75% recall {round(precision, 4)}')"
   ],
   "metadata": {
    "collapsed": false,
    "ExecuteTime": {
     "end_time": "2023-07-04T00:43:55.869730Z",
     "start_time": "2023-07-04T00:43:53.522195Z"
    }
   }
  },
  {
   "cell_type": "code",
   "execution_count": 31,
   "outputs": [
    {
     "name": "stdout",
     "output_type": "stream",
     "text": [
      "\n",
      "threshold:1e-06 tn: 1604 tp: 319414 fn: 976051 fp: 369392\n",
      "正常ラベルを正常と予測した割合(正常ラベルの正解率，再現率): 0.004996604551769683\n",
      "不正ラベルを不正と予測した割合(不正ラベルの正解率): 0.27455046404790096\n",
      "適合率(マイクロ平均): 0.22262507193387665\n",
      "適合率(マクロ平均): 0.13977353429983533\n",
      "\n",
      "threshold:2e-06 tn: 124774 tp: 196244 fn: 1099221 fp: 368964\n",
      "正常ラベルを正常と予測した割合(正常ラベルの正解率，再現率): 0.38868225457762495\n",
      "不正ラベルを不正と予測した割合(不正ラベルの正解率): 0.2513062045995566\n",
      "適合率(マイクロ平均): 0.27595415388863087\n",
      "適合率(マクロ平均): 0.3199942295885908\n",
      "\n",
      "threshold:3e-06 tn: 153955 tp: 167063 fn: 1128402 fp: 368818\n",
      "正常ラベルを正常と予測した割合(正常ラベルの正解率，再現率): 0.47958369935642237\n",
      "不正ラベルを不正と予測した割合(不正ラベルの正解率): 0.24633520791867594\n",
      "適合率(マイクロ平均): 0.2875162657473884\n",
      "適合率(マクロ平均): 0.36295945363754917\n",
      "\n",
      "threshold:4e-06 tn: 199731 tp: 121287 fn: 1174178 fp: 368594\n",
      "正常ラベルを正常と予測した割合(正常ラベルの正解率，再現率): 0.6221800646692709\n",
      "不正ラベルを不正と予測した割合(不正ラベルの正解率): 0.2389167031810274\n",
      "適合率(マイクロ平均): 0.3049297399385124\n",
      "適合率(マクロ平均): 0.43054838392514916\n",
      "\n",
      "threshold:5e-06 tn: 235526 tp: 85492 fn: 1209973 fp: 367826\n",
      "正常ラベルを正常と予測した割合(正常ラベルの正解率，再現率): 0.7336847154988194\n",
      "不正ラベルを不正と予測した割合(不正ラベルの正解率): 0.2331260192204457\n",
      "適合率(マイクロ平均): 0.3177515263450875\n",
      "適合率(マクロ平均): 0.4834053673596326\n",
      "\n",
      "threshold:6e-06 tn: 301814 tp: 19204 fn: 1276261 fp: 330403\n",
      "正常ラベルを正常と予測した割合(正常ラベルの正解率，再現率): 0.9401778093440243\n",
      "不正ラベルを不正と予測した割合(不正ラベルの正解率): 0.205645362066991\n",
      "適合率(マイクロ平均): 0.3279674759633591\n",
      "適合率(マクロ平均): 0.5729115857055076\n",
      "\n",
      "threshold:7e-06 tn: 315411 tp: 5607 fn: 1289858 fp: 296177\n",
      "正常ラベルを正常と予測した割合(正常ラベルの正解率，再現率): 0.982533689699643\n",
      "不正ラベルを不正と予測した割合(不正ラベルの正解率): 0.18674051959761293\n",
      "適合率(マイクロ平均): 0.32069795648049637\n",
      "適合率(マクロ平均): 0.584637104648628\n",
      "\n",
      "threshold:8e-06 tn: 317230 tp: 3788 fn: 1291677 fp: 294251\n",
      "正常ラベルを正常と予測した割合(正常ラベルの正解率，再現率): 0.9882000386271175\n",
      "不正ラベルを不正と予測した割合(不正ラベルの正解率): 0.185538687758839\n",
      "適合率(マイクロ平均): 0.3206598403940122\n",
      "適合率(マクロ平均): 0.5868693631929782\n",
      "\n",
      "threshold:9e-06 tn: 317523 tp: 3495 fn: 1291970 fp: 293656\n",
      "正常ラベルを正常と予測した割合(正常ラベルの正解率，再現率): 0.9891127600321478\n",
      "不正ラベルを不正と予測した割合(不正ラベルの正解率): 0.18519877953565342\n",
      "適合率(マイクロ平均): 0.32055223733428995\n",
      "適合率(マクロ平均): 0.5871557697839006\n",
      "\n",
      "threshold:1e-05 tn: 317636 tp: 3382 fn: 1292083 fp: 293314\n",
      "正常ラベルを正常と予測した割合(正常ラベルの正解率，再現率): 0.9894647652156577\n",
      "不正ラベルを不正と予測した割合(不正ラベルの正解率): 0.1850098114226279\n",
      "適合率(マイクロ平均): 0.3204706215593142\n",
      "適合率(マクロ平均): 0.5872372883191428\n",
      "\n",
      "threshold:1.1e-05 tn: 317711 tp: 3307 fn: 1292158 fp: 289844\n",
      "正常ラベルを正常と予測した割合(正常ラベルの正解率，再現率): 0.9896983969746245\n",
      "不正ラベルを不正と予測した割合(不正ラベルの正解率): 0.1832134219805032\n",
      "適合率(マイクロ平均): 0.319258336748957\n",
      "適合率(マクロ平均): 0.5864559094775639\n",
      "\n",
      "threshold:1.2e-05 tn: 317773 tp: 3245 fn: 1292220 fp: 151277\n",
      "正常ラベルを正常と予測した割合(正常ラベルの正解率，再現率): 0.989891532562037\n",
      "不正ラベルを不正と予測した割合(不正ラベルの正解率): 0.10479897083263769\n",
      "適合率(マイクロ平均): 0.26582375326931196\n",
      "適合率(マクロ平均): 0.5473452516973374\n",
      "\n",
      "threshold:1.3e-05 tn: 317870 tp: 3148 fn: 1292317 fp: 5669\n",
      "正常ラベルを正常と予測した割合(正常ラベルの正解率，再現率): 0.9901936963036341\n",
      "不正ラベルを不正と予測した割合(不正ラベルの正解率): 0.004367535551230907\n",
      "適合率(マイクロ平均): 0.1998382956434944\n",
      "適合率(マクロ平均): 0.4972806159274325\n",
      "\n",
      "threshold:1.4e-05 tn: 317893 tp: 3125 fn: 1292340 fp: 5155\n",
      "正常ラベルを正常と予測した割合(正常ラベルの正解率，再現率): 0.9902653433763838\n",
      "不正ラベルを不正と予測した割合(不正ラベルの正解率): 0.003973040358537027\n",
      "適合率(マイクロ平均): 0.19959555468507204\n",
      "適合率(マクロ平均): 0.49711919186746045\n",
      "\n",
      "threshold:1.5e-05 tn: 317906 tp: 3112 fn: 1292353 fp: 4694\n",
      "正常ラベルを正常と予測した割合(正常ラベルの正解率，再現率): 0.9903058395479382\n",
      "不正ラベルを不正と予測した割合(不正ラベルの正解率): 0.003618989905531565\n",
      "適合率(マイクロ平均): 0.19937394356839805\n",
      "適合率(マクロ平均): 0.49696241472673486\n",
      "\n",
      "threshold:1.6e-05 tn: 317921 tp: 3097 fn: 1292368 fp: 3793\n",
      "正常ラベルを正常と予測した割合(正常ラベルの正解率，再現率): 0.9903525658997315\n",
      "不正ラベルを不正と予測した割合(不正ラベルの正解率): 0.002926333997088325\n",
      "適合率(マイクロ平均): 0.19893530648122443\n",
      "適合率(マクロ平均): 0.4966394499484099\n",
      "\n",
      "threshold:1.7e-05 tn: 317937 tp: 3081 fn: 1292384 fp: 1595\n",
      "正常ラベルを正常と予測した割合(正常ラベルの正解率，再現率): 0.9904024073416444\n",
      "不正ラベルを不正と予測した割合(不正ラベルの正解率): 0.0012326320597165796\n",
      "適合率(マイクロ平均): 0.19785299910773826\n",
      "適合率(マクロ平均): 0.4958175197006805\n",
      "\n",
      "threshold:1.8e-05 tn: 317950 tp: 3068 fn: 1292397 fp: 585\n",
      "正常ラベルを正常と予測した割合(正常ラベルの正解率，再現率): 0.9904429035131986\n",
      "不正ラベルを不正と予測した割合(不正ラベルの正解率): 0.00045244249339898004\n",
      "適合率(マイクロ平均): 0.19735749690210655\n",
      "適合率(マクロ平均): 0.4954476730032988\n",
      "\n",
      "threshold:1.9e-05 tn: 317958 tp: 3060 fn: 1292405 fp: 584\n",
      "正常ラベルを正常と予測した割合(正常ラベルの正解率，再現率): 0.9904678242341551\n",
      "不正ラベルを不正と予測した割合(不正ラベルの正解率): 0.00045166664217561014\n",
      "適合率(マイクロ平均): 0.19736097798832347\n",
      "適合率(マクロ平均): 0.4954597454381654\n",
      "\n",
      "threshold:2e-05 tn: 317963 tp: 3055 fn: 1292410 fp: 581\n",
      "正常ラベルを正常と予測した割合(正常ラベルの正解率，再現率): 0.9904833996847529\n",
      "不正ラベルを不正と予測した割合(不正ラベルの正解率): 0.0004493457417723712\n",
      "適合率(マイクロ平均): 0.19736197257883942\n",
      "適合率(マクロ平均): 0.4954663727132626\n",
      "\n",
      "threshold:2.1e-05 tn: 317969 tp: 3049 fn: 1292416 fp: 579\n",
      "正常ラベルを正常と予測した割合(正常ラベルの正解率，再現率): 0.9905020902254702\n",
      "不正ラベルを不正と予測した割合(不正ラベルの正解率): 0.0004477975552883035\n",
      "適合率(マイクロ平均): 0.1973639617524766\n",
      "適合率(マクロ平均): 0.49547494389037927\n",
      "\n",
      "threshold:2.2e-05 tn: 317970 tp: 3048 fn: 1292417 fp: 574\n",
      "正常ラベルを正常と予測した割合(正常ラベルの正解率，再現率): 0.9905052053155898\n",
      "不正ラベルを不正と予測した割合(不正ラベルの正解率): 0.0004439319376546318\n",
      "適合率(マイクロ平均): 0.19736197257883942\n",
      "適合率(マクロ平均): 0.49547456862662226\n",
      "\n",
      "threshold:2.3e-05 tn: 317972 tp: 3046 fn: 1292419 fp: 574\n",
      "正常ラベルを正常と予測した割合(正常ラベルの正解率，再現率): 0.9905114354958289\n",
      "不正ラベルを不正と予測した割合(不正ラベルの正解率): 0.0004439312509812505\n",
      "適合率(マイクロ平均): 0.19736296716689042\n",
      "適合率(マクロ平均): 0.4954776833734051\n",
      "\n",
      "threshold:2.4e-05 tn: 317972 tp: 3046 fn: 1292419 fp: 574\n",
      "正常ラベルを正常と予測した割合(正常ラベルの正解率，再現率): 0.9905114354958289\n",
      "不正ラベルを不正と予測した割合(不正ラベルの正解率): 0.0004439312509812505\n",
      "適合率(マイクロ平均): 0.19736296716689042\n",
      "適合率(マクロ平均): 0.4954776833734051\n",
      "\n",
      "threshold:2.5e-05 tn: 317972 tp: 3046 fn: 1292419 fp: 574\n",
      "正常ラベルを正常と予測した割合(正常ラベルの正解率，再現率): 0.9905114354958289\n",
      "不正ラベルを不正と予測した割合(不正ラベルの正解率): 0.0004439312509812505\n",
      "適合率(マイクロ平均): 0.19736296716689042\n",
      "適合率(マクロ平均): 0.4954776833734051\n",
      "\n",
      "threshold:2.6e-05 tn: 317972 tp: 3046 fn: 1292419 fp: 574\n",
      "正常ラベルを正常と予測した割合(正常ラベルの正解率，再現率): 0.9905114354958289\n",
      "不正ラベルを不正と予測した割合(不正ラベルの正解率): 0.0004439312509812505\n",
      "適合率(マイクロ平均): 0.19736296716689042\n",
      "適合率(マクロ平均): 0.4954776833734051\n",
      "\n",
      "threshold:2.7e-05 tn: 317974 tp: 3044 fn: 1292421 fp: 572\n",
      "正常ラベルを正常と予測した割合(正常ラベルの正解率，再現率): 0.990517665676068\n",
      "不正ラベルを不正と予測した割合(不正ラベルの正解率): 0.0004423844521973437\n",
      "適合率(マイクロ平均): 0.19736296716689045\n",
      "適合率(マクロ平均): 0.4954800250641327\n",
      "\n",
      "threshold:2.8e-05 tn: 317978 tp: 3040 fn: 1292425 fp: 572\n",
      "正常ラベルを正常と予測した割合(正常ラベルの正解率，再現率): 0.9905301260365462\n",
      "不正ラベルを不正と予測した割合(不正ラベルの正解率): 0.0004423830836421121\n",
      "適合率(マイクロ平均): 0.19736495633559786\n",
      "適合率(マクロ平均): 0.49548625456009415\n",
      "\n",
      "threshold:2.9e-05 tn: 317978 tp: 3040 fn: 1292425 fp: 570\n",
      "正常ラベルを正常と予測した割合(正常ラベルの正解率，再現率): 0.9905301260365462\n",
      "不正ラベルを不正と予測した割合(不正ラベルの正解率): 0.00044083697152734545\n",
      "適合率(マイクロ平均): 0.19736396175247659\n",
      "適合率(マクロ平均): 0.49548548150403676\n",
      "\n",
      "threshold:3e-05 tn: 317982 tp: 3036 fn: 1292429 fp: 566\n",
      "正常ラベルを正常と予測した割合(正常ラベルの正解率，再現率): 0.9905425863970244\n",
      "不正ラベルを不正と予測した割合(不正ラベルの正解率): 0.0004377433787446974\n",
      "適合率(マイクロ平均): 0.19736396175247659\n",
      "適合率(マクロ平均): 0.49549016488788455\n",
      "\n",
      "threshold:3.1e-05 tn: 317985 tp: 3033 fn: 1292432 fp: 565\n",
      "正常ラベルを正常と予測した割合(正常ラベルの正解率，再現率): 0.9905519316673831\n",
      "不正ラベルを不正と予測した割合(不正ラベルの正解率): 0.00043696930464649184\n",
      "適合率(マイクロ平均): 0.1973649563355979\n",
      "適合率(マクロ平均): 0.4954944504860148\n",
      "\n",
      "threshold:3.2e-05 tn: 317988 tp: 3030 fn: 1292435 fp: 565\n",
      "正常ラベルを正常と予測した割合(正常ラベルの正解率，再現率): 0.9905612769377418\n",
      "不正ラベルを不正と予測した割合(不正ラベルの正解率): 0.00043696829079659707\n",
      "適合率(マイクロ平均): 0.19736644820565816\n",
      "適合率(マクロ平均): 0.4954991226142692\n",
      "\n",
      "threshold:3.3e-05 tn: 317989 tp: 3029 fn: 1292436 fp: 565\n",
      "正常ラベルを正常と予測した割合(正常ラベルの正解率，再現率): 0.9905643920278614\n",
      "不正ラベルを不正と予測した割合(不正ラベルの正解率): 0.0004369679528476776\n",
      "適合率(マイクロ平均): 0.19736694549444583\n",
      "適合率(マクロ平均): 0.4955006799903545\n",
      "\n",
      "threshold:3.4e-05 tn: 317989 tp: 3029 fn: 1292436 fp: 563\n",
      "正常ラベルを正常と予測した割合(正常ラベルの正解率，再現率): 0.9905643920278614\n",
      "不正ラベルを不正と予測した割合(不正ラベルの正解率): 0.0004354218371398586\n",
      "適合率(マイクロ平均): 0.1973659509162543\n",
      "適合率(マクロ平均): 0.4954999069325006\n",
      "\n",
      "threshold:3.5e-05 tn: 317989 tp: 3029 fn: 1292436 fp: 563\n",
      "正常ラベルを正常と予測した割合(正常ラベルの正解率，再現率): 0.9905643920278614\n",
      "不正ラベルを不正と予測した割合(不正ラベルの正解率): 0.0004354218371398586\n",
      "適合率(マイクロ平均): 0.1973659509162543\n",
      "適合率(マクロ平均): 0.4954999069325006\n",
      "\n",
      "threshold:3.6e-05 tn: 317991 tp: 3027 fn: 1292438 fp: 563\n",
      "正常ラベルを正常と予測した割合(正常ラベルの正解率，再現率): 0.9905706222081004\n",
      "不正ラベルを不正と予測した割合(不正ラベルの正解率): 0.0004354211636340575\n",
      "適合率(マイクロ平均): 0.19736694549444583\n",
      "適合率(マクロ平均): 0.49550302168586724\n",
      "\n",
      "threshold:3.7e-05 tn: 317991 tp: 3027 fn: 1292438 fp: 563\n",
      "正常ラベルを正常と予測した割合(正常ラベルの正解率，再現率): 0.9905706222081004\n",
      "不正ラベルを不正と予測した割合(不正ラベルの正解率): 0.0004354211636340575\n",
      "適合率(マイクロ平均): 0.19736694549444583\n",
      "適合率(マクロ平均): 0.49550302168586724\n",
      "\n",
      "threshold:3.8e-05 tn: 317991 tp: 3027 fn: 1292438 fp: 563\n",
      "正常ラベルを正常と予測した割合(正常ラベルの正解率，再現率): 0.9905706222081004\n",
      "不正ラベルを不正と予測した割合(不正ラベルの正解率): 0.0004354211636340575\n",
      "適合率(マイクロ平均): 0.19736694549444583\n",
      "適合率(マクロ平均): 0.49550302168586724\n",
      "\n",
      "threshold:3.9e-05 tn: 317991 tp: 3027 fn: 1292438 fp: 563\n",
      "正常ラベルを正常と予測した割合(正常ラベルの正解率，再現率): 0.9905706222081004\n",
      "不正ラベルを不正と予測した割合(不正ラベルの正解率): 0.0004354211636340575\n",
      "適合率(マイクロ平均): 0.19736694549444583\n",
      "適合率(マクロ平均): 0.49550302168586724\n",
      "\n",
      "threshold:4e-05 tn: 317991 tp: 3027 fn: 1292438 fp: 563\n",
      "正常ラベルを正常と予測した割合(正常ラベルの正解率，再現率): 0.9905706222081004\n",
      "不正ラベルを不正と予測した割合(不正ラベルの正解率): 0.0004354211636340575\n",
      "適合率(マイクロ平均): 0.19736694549444583\n",
      "適合率(マクロ平均): 0.49550302168586724\n",
      "\n",
      "threshold:4.1e-05 tn: 317991 tp: 3027 fn: 1292438 fp: 563\n",
      "正常ラベルを正常と予測した割合(正常ラベルの正解率，再現率): 0.9905706222081004\n",
      "不正ラベルを不正と予測した割合(不正ラベルの正解率): 0.0004354211636340575\n",
      "適合率(マイクロ平均): 0.19736694549444583\n",
      "適合率(マクロ平均): 0.49550302168586724\n",
      "\n",
      "threshold:4.2e-05 tn: 317991 tp: 3027 fn: 1292438 fp: 561\n",
      "正常ラベルを正常と予測した割合(正常ラベルの正解率，再現率): 0.9905706222081004\n",
      "不正ラベルを不正と予測した割合(不正ラベルの正解率): 0.0004338750455336779\n",
      "適合率(マイクロ平均): 0.19736595091625428\n",
      "適合率(マクロ平均): 0.4955022486268171\n",
      "\n",
      "threshold:4.3e-05 tn: 317991 tp: 3027 fn: 1292438 fp: 561\n",
      "正常ラベルを正常と予測した割合(正常ラベルの正解率，再現率): 0.9905706222081004\n",
      "不正ラベルを不正と予測した割合(不正ラベルの正解率): 0.0004338750455336779\n",
      "適合率(マイクロ平均): 0.19736595091625428\n",
      "適合率(マクロ平均): 0.4955022486268171\n",
      "\n",
      "threshold:4.4e-05 tn: 317992 tp: 3026 fn: 1292439 fp: 561\n",
      "正常ラベルを正常と予測した割合(正常ラベルの正解率，再現率): 0.9905737372982201\n",
      "不正ラベルを不正と予測した割合(不正ラベルの正解率): 0.00043387470997679816\n",
      "適合率(マイクロ平均): 0.19736644820565818\n",
      "適合率(マクロ平均): 0.49550380600409843\n",
      "\n",
      "threshold:4.5e-05 tn: 317992 tp: 3026 fn: 1292439 fp: 560\n",
      "正常ラベルを正常と予測した割合(正常ラベルの正解率，再現率): 0.9905737372982201\n",
      "不正ラベルを不正と予測した割合(不正ラベルの正解率): 0.00043310164973058755\n",
      "適合率(マイクロ平均): 0.1973659509162543\n",
      "適合率(マクロ平均): 0.4955034194739753\n",
      "\n",
      "threshold:4.6e-05 tn: 317993 tp: 3025 fn: 1292440 fp: 559\n",
      "正常ラベルを正常と予測した割合(正常ラベルの正解率，再現率): 0.9905768523883396\n",
      "不正ラベルを不正と予測した割合(不正ラベルの正解率): 0.00043232825392749725\n",
      "適合率(マイクロ平均): 0.19736595091625428\n",
      "適合率(マクロ平均): 0.49550459032113353\n",
      "\n",
      "threshold:4.7e-05 tn: 317993 tp: 3025 fn: 1292440 fp: 559\n",
      "正常ラベルを正常と予測した割合(正常ラベルの正解率，再現率): 0.9905768523883396\n",
      "不正ラベルを不正と予測した割合(不正ラベルの正解率): 0.00043232825392749725\n",
      "適合率(マイクロ平均): 0.19736595091625428\n",
      "適合率(マクロ平均): 0.49550459032113353\n",
      "\n",
      "threshold:4.8e-05 tn: 317994 tp: 3024 fn: 1292441 fp: 559\n",
      "正常ラベルを正常と予測した割合(正常ラベルの正解率，再現率): 0.9905799674784591\n",
      "不正ラベルを不正と予測した割合(不正ラベルの正解率): 0.0004323279195668987\n",
      "適合率(マイクロ平均): 0.19736644820565816\n",
      "適合率(マクロ平均): 0.495506147699013\n",
      "\n",
      "threshold:4.9e-05 tn: 317994 tp: 3024 fn: 1292441 fp: 559\n",
      "正常ラベルを正常と予測した割合(正常ラベルの正解率，再現率): 0.9905799674784591\n",
      "不正ラベルを不正と予測した割合(不正ラベルの正解率): 0.0004323279195668987\n",
      "適合率(マイクロ平均): 0.19736644820565816\n",
      "適合率(マクロ平均): 0.495506147699013\n",
      "\n",
      "threshold:5e-05 tn: 317994 tp: 3024 fn: 1292441 fp: 559\n",
      "正常ラベルを正常と予測した割合(正常ラベルの正解率，再現率): 0.9905799674784591\n",
      "不正ラベルを不正と予測した割合(不正ラベルの正解率): 0.0004323279195668987\n",
      "適合率(マイクロ平均): 0.19736644820565816\n",
      "適合率(マクロ平均): 0.495506147699013\n",
      "\n",
      "threshold:5.1e-05 tn: 317994 tp: 3024 fn: 1292441 fp: 559\n",
      "正常ラベルを正常と予測した割合(正常ラベルの正解率，再現率): 0.9905799674784591\n",
      "不正ラベルを不正と予測した割合(不正ラベルの正解率): 0.0004323279195668987\n",
      "適合率(マイクロ平均): 0.19736644820565816\n",
      "適合率(マクロ平均): 0.495506147699013\n",
      "\n",
      "threshold:5.2e-05 tn: 317994 tp: 3024 fn: 1292441 fp: 559\n",
      "正常ラベルを正常と予測した割合(正常ラベルの正解率，再現率): 0.9905799674784591\n",
      "不正ラベルを不正と予測した割合(不正ラベルの正解率): 0.0004323279195668987\n",
      "適合率(マイクロ平均): 0.19736644820565816\n",
      "適合率(マクロ平均): 0.495506147699013\n",
      "\n",
      "threshold:5.3e-05 tn: 317994 tp: 3024 fn: 1292441 fp: 559\n",
      "正常ラベルを正常と予測した割合(正常ラベルの正解率，再現率): 0.9905799674784591\n",
      "不正ラベルを不正と予測した割合(不正ラベルの正解率): 0.0004323279195668987\n",
      "適合率(マイクロ平均): 0.19736644820565816\n",
      "適合率(マクロ平均): 0.495506147699013\n",
      "\n",
      "threshold:5.4e-05 tn: 317994 tp: 3024 fn: 1292441 fp: 559\n",
      "正常ラベルを正常と予測した割合(正常ラベルの正解率，再現率): 0.9905799674784591\n",
      "不正ラベルを不正と予測した割合(不正ラベルの正解率): 0.0004323279195668987\n",
      "適合率(マイクロ平均): 0.19736644820565816\n",
      "適合率(マクロ平均): 0.495506147699013\n",
      "\n",
      "threshold:5.5e-05 tn: 317994 tp: 3024 fn: 1292441 fp: 559\n",
      "正常ラベルを正常と予測した割合(正常ラベルの正解率，再現率): 0.9905799674784591\n",
      "不正ラベルを不正と予測した割合(不正ラベルの正解率): 0.0004323279195668987\n",
      "適合率(マイクロ平均): 0.19736644820565816\n",
      "適合率(マクロ平均): 0.495506147699013\n",
      "\n",
      "threshold:5.6e-05 tn: 317994 tp: 3024 fn: 1292441 fp: 557\n",
      "正常ラベルを正常と予測した割合(正常ラベルの正解率，再現率): 0.9905799674784591\n",
      "不正ラベルを不正と予測した割合(不正ラベルの正解率): 0.00043078179548614926\n",
      "適合率(マイクロ平均): 0.19736545362623417\n",
      "適合率(マクロ平均): 0.49550537463697264\n",
      "\n",
      "threshold:5.7e-05 tn: 317994 tp: 3024 fn: 1292441 fp: 557\n",
      "正常ラベルを正常と予測した割合(正常ラベルの正解率，再現率): 0.9905799674784591\n",
      "不正ラベルを不正と予測した割合(不正ラベルの正解率): 0.00043078179548614926\n",
      "適合率(マイクロ平均): 0.19736545362623417\n",
      "適合率(マクロ平均): 0.49550537463697264\n",
      "\n",
      "threshold:5.8e-05 tn: 317995 tp: 3023 fn: 1292442 fp: 557\n",
      "正常ラベルを正常と予測した割合(正常ラベルの正解率，再現率): 0.9905830825685787\n",
      "不正ラベルを不正と予測した割合(不正ラベルの正解率): 0.0004307814623213166\n",
      "適合率(マイクロ平均): 0.1973659509162543\n",
      "適合率(マクロ平均): 0.49550693201545004\n",
      "\n",
      "threshold:5.9e-05 tn: 317995 tp: 3023 fn: 1292442 fp: 557\n",
      "正常ラベルを正常と予測した割合(正常ラベルの正解率，再現率): 0.9905830825685787\n",
      "不正ラベルを不正と予測した割合(不正ラベルの正解率): 0.0004307814623213166\n",
      "適合率(マイクロ平均): 0.1973659509162543\n",
      "適合率(マクロ平均): 0.49550693201545004\n",
      "\n",
      "threshold:6e-05 tn: 317995 tp: 3023 fn: 1292442 fp: 555\n",
      "正常ラベルを正常と予測した割合(正常ラベルの正解率，再現率): 0.9905830825685787\n",
      "不正ラベルを不正と予測した割合(不正ラベルの正解率): 0.00042923533465274863\n",
      "適合率(マイクロ平均): 0.1973649563355979\n",
      "適合率(マクロ平均): 0.49550615895161576\n",
      "\n",
      "threshold:6.1e-05 tn: 317995 tp: 3023 fn: 1292442 fp: 554\n",
      "正常ラベルを正常と予測した割合(正常ラベルの正解率，再現率): 0.9905830825685787\n",
      "不正ラベルを不正と予測した割合(不正ラベルの正解率): 0.0004284622690248075\n",
      "適合率(マイクロ平均): 0.19736445904434535\n",
      "適合率(マクロ平均): 0.4955057724188018\n",
      "\n",
      "threshold:6.2e-05 tn: 317996 tp: 3022 fn: 1292443 fp: 554\n",
      "正常ラベルを正常と予測した割合(正常ラベルの正解率，再現率): 0.9905861976586983\n",
      "不正ラベルを不正と予測した割合(不正ラベルの正解率): 0.0004284619376533743\n",
      "適合率(マイクロ平均): 0.1973649563355979\n",
      "適合率(マクロ平均): 0.4955073297981758\n",
      "\n",
      "threshold:6.3e-05 tn: 317996 tp: 3022 fn: 1292443 fp: 554\n",
      "正常ラベルを正常と予測した割合(正常ラベルの正解率，再現率): 0.9905861976586983\n",
      "不正ラベルを不正と予測した割合(不正ラベルの正解率): 0.0004284619376533743\n",
      "適合率(マイクロ平均): 0.1973649563355979\n",
      "適合率(マクロ平均): 0.4955073297981758\n",
      "\n",
      "threshold:6.4e-05 tn: 317997 tp: 3021 fn: 1292444 fp: 554\n",
      "正常ラベルを正常と予測した割合(正常ラベルの正解率，再現率): 0.9905893127488178\n",
      "不正ラベルを不正と予測した割合(不正ラベルの正解率): 0.00042846160628245365\n",
      "適合率(マイクロ平均): 0.19736545362623417\n",
      "適合率(マクロ平均): 0.4955088871775501\n",
      "\n",
      "threshold:6.5e-05 tn: 317998 tp: 3020 fn: 1292445 fp: 553\n",
      "正常ラベルを正常と予測した割合(正常ラベルの正解率，再現率): 0.9905924278389374\n",
      "不正ラベルを不正と予測した割合(不正ラベルの正解率): 0.0004276882098812218\n",
      "適合率(マイクロ平均): 0.19736545362623417\n",
      "適合率(マクロ平均): 0.49551005802440934\n",
      "\n",
      "threshold:6.6e-05 tn: 317999 tp: 3019 fn: 1292446 fp: 553\n",
      "正常ラベルを正常と予測した割合(正常ラベルの正解率，再現率): 0.9905955429290569\n",
      "不正ラベルを不正と予測した割合(不正ラベルの正解率): 0.00042768787910895523\n",
      "適合率(マイクロ平均): 0.19736595091625428\n",
      "適合率(マクロ平均): 0.49551161540408295\n",
      "\n",
      "threshold:6.7e-05 tn: 317999 tp: 3019 fn: 1292446 fp: 553\n",
      "正常ラベルを正常と予測した割合(正常ラベルの正解率，再現率): 0.9905955429290569\n",
      "不正ラベルを不正と予測した割合(不正ラベルの正解率): 0.00042768787910895523\n",
      "適合率(マイクロ平均): 0.19736595091625428\n",
      "適合率(マクロ平均): 0.49551161540408295\n",
      "\n",
      "threshold:6.8e-05 tn: 317999 tp: 3019 fn: 1292446 fp: 553\n",
      "正常ラベルを正常と予測した割合(正常ラベルの正解率，再現率): 0.9905955429290569\n",
      "不正ラベルを不正と予測した割合(不正ラベルの正解率): 0.00042768787910895523\n",
      "適合率(マイクロ平均): 0.19736595091625428\n",
      "適合率(マクロ平均): 0.49551161540408295\n",
      "\n",
      "threshold:6.9e-05 tn: 317999 tp: 3019 fn: 1292446 fp: 553\n",
      "正常ラベルを正常と予測した割合(正常ラベルの正解率，再現率): 0.9905955429290569\n",
      "不正ラベルを不正と予測した割合(不正ラベルの正解率): 0.00042768787910895523\n",
      "適合率(マイクロ平均): 0.19736595091625428\n",
      "適合率(マクロ平均): 0.49551161540408295\n",
      "\n",
      "threshold:7e-05 tn: 317999 tp: 3019 fn: 1292446 fp: 553\n",
      "正常ラベルを正常と予測した割合(正常ラベルの正解率，再現率): 0.9905955429290569\n",
      "不正ラベルを不正と予測した割合(不正ラベルの正解率): 0.00042768787910895523\n",
      "適合率(マイクロ平均): 0.19736595091625428\n",
      "適合率(マクロ平均): 0.49551161540408295\n",
      "\n",
      "threshold:7.1e-05 tn: 317999 tp: 3019 fn: 1292446 fp: 553\n",
      "正常ラベルを正常と予測した割合(正常ラベルの正解率，再現率): 0.9905955429290569\n",
      "不正ラベルを不正と予測した割合(不正ラベルの正解率): 0.00042768787910895523\n",
      "適合率(マイクロ平均): 0.19736595091625428\n",
      "適合率(マクロ平均): 0.49551161540408295\n",
      "\n",
      "threshold:7.2e-05 tn: 317999 tp: 3019 fn: 1292446 fp: 553\n",
      "正常ラベルを正常と予測した割合(正常ラベルの正解率，再現率): 0.9905955429290569\n",
      "不正ラベルを不正と予測した割合(不正ラベルの正解率): 0.00042768787910895523\n",
      "適合率(マイクロ平均): 0.19736595091625428\n",
      "適合率(マクロ平均): 0.49551161540408295\n",
      "\n",
      "threshold:7.3e-05 tn: 317999 tp: 3019 fn: 1292446 fp: 553\n",
      "正常ラベルを正常と予測した割合(正常ラベルの正解率，再現率): 0.9905955429290569\n",
      "不正ラベルを不正と予測した割合(不正ラベルの正解率): 0.00042768787910895523\n",
      "適合率(マイクロ平均): 0.19736595091625428\n",
      "適合率(マクロ平均): 0.49551161540408295\n",
      "\n",
      "threshold:7.4e-05 tn: 318000 tp: 3018 fn: 1292447 fp: 553\n",
      "正常ラベルを正常と予測した割合(正常ラベルの正解率，再現率): 0.9905986580191765\n",
      "不正ラベルを不正と予測した割合(不正ラベルの正解率): 0.0004276875483372003\n",
      "適合率(マイクロ平均): 0.19736644820565816\n",
      "適合率(マクロ平均): 0.49551317278375684\n",
      "\n",
      "threshold:7.5e-05 tn: 318000 tp: 3018 fn: 1292447 fp: 553\n",
      "正常ラベルを正常と予測した割合(正常ラベルの正解率，再現率): 0.9905986580191765\n",
      "不正ラベルを不正と予測した割合(不正ラベルの正解率): 0.0004276875483372003\n",
      "適合率(マイクロ平均): 0.19736644820565816\n",
      "適合率(マクロ平均): 0.49551317278375684\n",
      "\n",
      "threshold:7.6e-05 tn: 318000 tp: 3018 fn: 1292447 fp: 553\n",
      "正常ラベルを正常と予測した割合(正常ラベルの正解率，再現率): 0.9905986580191765\n",
      "不正ラベルを不正と予測した割合(不正ラベルの正解率): 0.0004276875483372003\n",
      "適合率(マイクロ平均): 0.19736644820565816\n",
      "適合率(マクロ平均): 0.49551317278375684\n",
      "\n",
      "threshold:7.7e-05 tn: 318000 tp: 3018 fn: 1292447 fp: 553\n",
      "正常ラベルを正常と予測した割合(正常ラベルの正解率，再現率): 0.9905986580191765\n",
      "不正ラベルを不正と予測した割合(不正ラベルの正解率): 0.0004276875483372003\n",
      "適合率(マイクロ平均): 0.19736644820565816\n",
      "適合率(マクロ平均): 0.49551317278375684\n",
      "\n",
      "threshold:7.8e-05 tn: 318000 tp: 3018 fn: 1292447 fp: 553\n",
      "正常ラベルを正常と予測した割合(正常ラベルの正解率，再現率): 0.9905986580191765\n",
      "不正ラベルを不正と予測した割合(不正ラベルの正解率): 0.0004276875483372003\n",
      "適合率(マイクロ平均): 0.19736644820565816\n",
      "適合率(マクロ平均): 0.49551317278375684\n",
      "\n",
      "threshold:7.9e-05 tn: 318000 tp: 3018 fn: 1292447 fp: 553\n",
      "正常ラベルを正常と予測した割合(正常ラベルの正解率，再現率): 0.9905986580191765\n",
      "不正ラベルを不正と予測した割合(不正ラベルの正解率): 0.0004276875483372003\n",
      "適合率(マイクロ平均): 0.19736644820565816\n",
      "適合率(マクロ平均): 0.49551317278375684\n",
      "\n",
      "threshold:8e-05 tn: 318000 tp: 3018 fn: 1292447 fp: 553\n",
      "正常ラベルを正常と予測した割合(正常ラベルの正解率，再現率): 0.9905986580191765\n",
      "不正ラベルを不正と予測した割合(不正ラベルの正解率): 0.0004276875483372003\n",
      "適合率(マイクロ平均): 0.19736644820565816\n",
      "適合率(マクロ平均): 0.49551317278375684\n",
      "\n",
      "threshold:8.1e-05 tn: 318000 tp: 3018 fn: 1292447 fp: 553\n",
      "正常ラベルを正常と予測した割合(正常ラベルの正解率，再現率): 0.9905986580191765\n",
      "不正ラベルを不正と予測した割合(不正ラベルの正解率): 0.0004276875483372003\n",
      "適合率(マイクロ平均): 0.19736644820565816\n",
      "適合率(マクロ平均): 0.49551317278375684\n",
      "\n",
      "threshold:8.2e-05 tn: 318000 tp: 3018 fn: 1292447 fp: 553\n",
      "正常ラベルを正常と予測した割合(正常ラベルの正解率，再現率): 0.9905986580191765\n",
      "不正ラベルを不正と予測した割合(不正ラベルの正解率): 0.0004276875483372003\n",
      "適合率(マイクロ平均): 0.19736644820565816\n",
      "適合率(マクロ平均): 0.49551317278375684\n",
      "\n",
      "threshold:8.3e-05 tn: 318000 tp: 3018 fn: 1292447 fp: 553\n",
      "正常ラベルを正常と予測した割合(正常ラベルの正解率，再現率): 0.9905986580191765\n",
      "不正ラベルを不正と予測した割合(不正ラベルの正解率): 0.0004276875483372003\n",
      "適合率(マイクロ平均): 0.19736644820565816\n",
      "適合率(マクロ平均): 0.49551317278375684\n",
      "\n",
      "threshold:8.4e-05 tn: 318001 tp: 3017 fn: 1292448 fp: 553\n",
      "正常ラベルを正常と予測した割合(正常ラベルの正解率，再現率): 0.9906017731092961\n",
      "不正ラベルを不正と予測した割合(不正ラベルの正解率): 0.000427687217565957\n",
      "適合率(マイクロ平均): 0.19736694549444586\n",
      "適合率(マクロ平均): 0.495514730163431\n",
      "\n",
      "threshold:8.5e-05 tn: 318001 tp: 3017 fn: 1292448 fp: 553\n",
      "正常ラベルを正常と予測した割合(正常ラベルの正解率，再現率): 0.9906017731092961\n",
      "不正ラベルを不正と予測した割合(不正ラベルの正解率): 0.000427687217565957\n",
      "適合率(マイクロ平均): 0.19736694549444586\n",
      "適合率(マクロ平均): 0.495514730163431\n",
      "\n",
      "threshold:8.6e-05 tn: 318001 tp: 3017 fn: 1292448 fp: 553\n",
      "正常ラベルを正常と予測した割合(正常ラベルの正解率，再現率): 0.9906017731092961\n",
      "不正ラベルを不正と予測した割合(不正ラベルの正解率): 0.000427687217565957\n",
      "適合率(マイクロ平均): 0.19736694549444586\n",
      "適合率(マクロ平均): 0.495514730163431\n",
      "\n",
      "threshold:8.7e-05 tn: 318001 tp: 3017 fn: 1292448 fp: 553\n",
      "正常ラベルを正常と予測した割合(正常ラベルの正解率，再現率): 0.9906017731092961\n",
      "不正ラベルを不正と予測した割合(不正ラベルの正解率): 0.000427687217565957\n",
      "適合率(マイクロ平均): 0.19736694549444586\n",
      "適合率(マクロ平均): 0.495514730163431\n",
      "\n",
      "threshold:8.8e-05 tn: 318002 tp: 3016 fn: 1292449 fp: 553\n",
      "正常ラベルを正常と予測した割合(正常ラベルの正解率，再現率): 0.9906048881994156\n",
      "不正ラベルを不正と予測した割合(不正ラベルの正解率): 0.0004276868867952254\n",
      "適合率(マイクロ平均): 0.1973674427826173\n",
      "適合率(マクロ平均): 0.4955162875431054\n",
      "\n",
      "threshold:8.9e-05 tn: 318002 tp: 3016 fn: 1292449 fp: 552\n",
      "正常ラベルを正常と予測した割合(正常ラベルの正解率，再現率): 0.9906048881994156\n",
      "不正ラベルを不正と予測した割合(不正ラベルの正解率): 0.00042691382295914697\n",
      "適合率(マイクロ平均): 0.19736694549444583\n",
      "適合率(マクロ平均): 0.49551590101118737\n",
      "\n",
      "threshold:9e-05 tn: 318003 tp: 3015 fn: 1292450 fp: 552\n",
      "正常ラベルを正常と予測した割合(正常ラベルの正解率，再現率): 0.9906080032895351\n",
      "不正ラベルを不正と予測した割合(不正ラベルの正解率): 0.0004269134927865541\n",
      "適合率(マイクロ平均): 0.1973674427826173\n",
      "適合率(マクロ平均): 0.49551745839116085\n",
      "\n",
      "threshold:9.1e-05 tn: 318004 tp: 3014 fn: 1292451 fp: 552\n",
      "正常ラベルを正常と予測した割合(正常ラベルの正解率，再現率): 0.9906111183796548\n",
      "不正ラベルを不正と予測した割合(不正ラベルの正解率): 0.00042691316261447187\n",
      "適合率(マイクロ平均): 0.19736794007017258\n",
      "適合率(マクロ平均): 0.4955190157711346\n",
      "\n",
      "threshold:9.2e-05 tn: 318004 tp: 3014 fn: 1292451 fp: 552\n",
      "正常ラベルを正常と予測した割合(正常ラベルの正解率，再現率): 0.9906111183796548\n",
      "不正ラベルを不正と予測した割合(不正ラベルの正解率): 0.00042691316261447187\n",
      "適合率(マイクロ平均): 0.19736794007017258\n",
      "適合率(マクロ平均): 0.4955190157711346\n",
      "\n",
      "threshold:9.3e-05 tn: 318004 tp: 3014 fn: 1292451 fp: 552\n",
      "正常ラベルを正常と予測した割合(正常ラベルの正解率，再現率): 0.9906111183796548\n",
      "不正ラベルを不正と予測した割合(不正ラベルの正解率): 0.00042691316261447187\n",
      "適合率(マイクロ平均): 0.19736794007017258\n",
      "適合率(マクロ平均): 0.4955190157711346\n",
      "\n",
      "threshold:9.4e-05 tn: 318004 tp: 3014 fn: 1292451 fp: 552\n",
      "正常ラベルを正常と予測した割合(正常ラベルの正解率，再現率): 0.9906111183796548\n",
      "不正ラベルを不正と予測した割合(不正ラベルの正解率): 0.00042691316261447187\n",
      "適合率(マイクロ平均): 0.19736794007017258\n",
      "適合率(マクロ平均): 0.4955190157711346\n",
      "\n",
      "threshold:9.5e-05 tn: 318004 tp: 3014 fn: 1292451 fp: 552\n",
      "正常ラベルを正常と予測した割合(正常ラベルの正解率，再現率): 0.9906111183796548\n",
      "不正ラベルを不正と予測した割合(不正ラベルの正解率): 0.00042691316261447187\n",
      "適合率(マイクロ平均): 0.19736794007017258\n",
      "適合率(マクロ平均): 0.4955190157711346\n",
      "\n",
      "threshold:9.6e-05 tn: 318004 tp: 3014 fn: 1292451 fp: 552\n",
      "正常ラベルを正常と予測した割合(正常ラベルの正解率，再現率): 0.9906111183796548\n",
      "不正ラベルを不正と予測した割合(不正ラベルの正解率): 0.00042691316261447187\n",
      "適合率(マイクロ平均): 0.19736794007017258\n",
      "適合率(マクロ平均): 0.4955190157711346\n",
      "\n",
      "threshold:9.7e-05 tn: 318004 tp: 3014 fn: 1292451 fp: 552\n",
      "正常ラベルを正常と予測した割合(正常ラベルの正解率，再現率): 0.9906111183796548\n",
      "不正ラベルを不正と予測した割合(不正ラベルの正解率): 0.00042691316261447187\n",
      "適合率(マイクロ平均): 0.19736794007017258\n",
      "適合率(マクロ平均): 0.4955190157711346\n",
      "\n",
      "threshold:9.8e-05 tn: 318004 tp: 3014 fn: 1292451 fp: 552\n",
      "正常ラベルを正常と予測した割合(正常ラベルの正解率，再現率): 0.9906111183796548\n",
      "不正ラベルを不正と予測した割合(不正ラベルの正解率): 0.00042691316261447187\n",
      "適合率(マイクロ平均): 0.19736794007017258\n",
      "適合率(マクロ平均): 0.4955190157711346\n",
      "\n",
      "threshold:9.9e-05 tn: 318004 tp: 3014 fn: 1292451 fp: 552\n",
      "正常ラベルを正常と予測した割合(正常ラベルの正解率，再現率): 0.9906111183796548\n",
      "不正ラベルを不正と予測した割合(不正ラベルの正解率): 0.00042691316261447187\n",
      "適合率(マイクロ平均): 0.19736794007017258\n",
      "適合率(マクロ平均): 0.4955190157711346\n",
      "\n",
      "threshold:0.0001 tn: 318004 tp: 3014 fn: 1292451 fp: 552\n",
      "正常ラベルを正常と予測した割合(正常ラベルの正解率，再現率): 0.9906111183796548\n",
      "不正ラベルを不正と予測した割合(不正ラベルの正解率): 0.00042691316261447187\n",
      "適合率(マイクロ平均): 0.19736794007017258\n",
      "適合率(マクロ平均): 0.4955190157711346\n"
     ]
    }
   ],
   "source": [
    "# 再構成誤差の閾値を変化させて，不正ラベルの適合率を調べる．\n",
    "thresholds = np.arange(0.000001, 0.0001, 0.000001)\n",
    "for threshold in thresholds:\n",
    "    # 閾値よりも大きい再構成誤差のデータ（不正と判断したデータ）のインデックスと正解ラベル\n",
    "    y_pred_as_abnormal = y_test[errors[errors > threshold].index]\n",
    "    # 不正のうち不正と判断したもの\n",
    "    fp = len(y_test[y_pred_as_abnormal[y_pred_as_abnormal == 1].index])\n",
    "    # 正常のうち不正と判断したもの\n",
    "    tp = len(y_test[y_pred_as_abnormal[y_pred_as_abnormal == 0].index])\n",
    "    # 正常のうち正常と判断したもの\n",
    "    tn = len(y_test[y_test == 0]) - tp\n",
    "    # 不正のうち正常と判断したもの\n",
    "    fn = len(y_test[y_test == 1]) - tp\n",
    "    print()\n",
    "    print(f\"threshold:{round(threshold, 7)} tn: {tn} tp: {tp} fn: {fn} fp: {fp}\")\n",
    "    print(f'正常ラベルを正常と予測した割合(正常ラベルの正解率，再現率): {tn / (tn + tp)}')\n",
    "    print(f'不正ラベルを不正と予測した割合(不正ラベルの正解率): {fp / (fn + fp)}')\n",
    "    total = tn + tp + fn + fp\n",
    "    print(f\"適合率(マイクロ平均): { (tn + tp) / total * (tn/(tn+tp)) + (fn + fp) / total * (fp / (fn + fp))}\")\n",
    "    print(f\"適合率(マクロ平均): {0.5 * (tn/(tn+tp)) + 0.5 * (fp / (fn + fp))}\")\n"
   ],
   "metadata": {
    "collapsed": false,
    "ExecuteTime": {
     "end_time": "2023-07-04T00:43:58.928350Z",
     "start_time": "2023-07-04T00:43:55.826911Z"
    }
   }
  },
  {
   "cell_type": "code",
   "execution_count": 31,
   "outputs": [],
   "source": [],
   "metadata": {
    "collapsed": false,
    "ExecuteTime": {
     "end_time": "2023-07-04T00:43:58.930018Z",
     "start_time": "2023-07-04T00:43:58.928591Z"
    }
   }
  },
  {
   "cell_type": "markdown",
   "source": [
    "threshold:3e-06 tn: 200471 tp: 120547 fn: 1174918 fp: 368082\n",
    "正常ラベルを正常と予測した割合(正常ラベルの適合率): 0.6244852313577431\n",
    "不正ラベルを不正と予測した割合(不正ラベルの適合率): 0.23854957874270902\n",
    "適合率(マイクロ平均): 0.30501475844117387\n",
    "適合率(マクロ平均): 0.43151740505022607\n",
    "\n",
    "threshold:4e-06 tn: 252148 tp: 68870 fn: 1226595 fp: 342977\n",
    "正常ラベルを正常と予測した割合(正常ラベルの適合率): 0.7854637434660985\n",
    "不正ラベルを不正と予測した割合(不正ラベルの適合率): 0.21851625793528426\n",
    "適合率(マイクロ平均): 0.31478268688610433\n",
    "適合率(マクロ平均): 0.5019900007006913\n",
    "\n",
    "threshold:5e-06 tn: 314581 tp: 6437 fn: 1289028 fp: 297488\n",
    "正常ラベルを正常と予測した割合(正常ラベルの適合率): 0.9799481649004106\n",
    "不正ラベルを不正と予測した割合(不正ラベルの適合率): 0.18751024256925236\n",
    "適合率(マイクロ平均): 0.3208692479400105\n",
    "適合率(マクロ平均): 0.5837292037348315\n",
    "\n",
    "threshold:6e-06 tn: 318383 tp: 2635 fn: 1292830 fp: 295601\n",
    "正常ラベルを正常と予測した割合(正常ラベルの適合率): 0.9917917375349669\n",
    "不正ラベルを不正と予測した割合(不正ラベルの適合率): 0.18609621695874734\n",
    "適合率(マイクロ平均): 0.3215503530075954\n",
    "適合率(マクロ平均): 0.5889439772468571\n",
    "\n",
    "threshold:7e-06 tn: 318690 tp: 2328 fn: 1293137 fp: 295294\n",
    "正常ラベルを正常と予測した割合(正常ラベルの適合率): 0.9927480702016709\n",
    "不正ラベルを不正と予測した割合(不正ラベルの適合率): 0.18590294447791564\n",
    "適合率(マイクロ平均): 0.3215503530075954\n",
    "適合率(マクロ平均): 0.5893255073397933\n",
    "\n",
    "threshold:8e-06 tn: 318771 tp: 2247 fn: 1293218 fp: 275805\n",
    "正常ラベルを正常と予測した割合(正常ラベルの適合率): 0.9930003925013551\n",
    "不正ラベルを不正と予測した割合(不正ラベルの適合率): 0.17578136203229652\n",
    "適合率(マイクロ平均): 0.3145836518890331\n",
    "適合率(マクロ平均): 0.5843908772668258\n",
    "\n",
    "threshold:9e-06 tn: 318807 tp: 2211 fn: 1293254 fp: 8776\n",
    "正常ラベルを正常と予測した割合(正常ラベルの適合率): 0.9931125357456592\n",
    "不正ラベルを不正と予測した割合(不正ラベルの適合率): 0.006740244080397533\n",
    "適合率(マイクロ平均): 0.20183198525243864\n",
    "適合率(マクロ平均): 0.49992638991302835"
   ],
   "metadata": {
    "collapsed": false
   }
  },
  {
   "cell_type": "markdown",
   "source": [],
   "metadata": {
    "collapsed": false
   }
  },
  {
   "cell_type": "markdown",
   "source": [
    "## オートエンコーダによる再構成誤差を用いた不正検知結果\n",
    "#### 78.5％を正しく正常と判断し，不正を検知できた割合は21.8%\n",
    "#### 98%を正しく正常と判断し，不正を検知できた割合は18.6%\n",
    "\n",
    "## 考察\n",
    "#### 再構成誤差が小さすぎる -> 隠れ層の次元数を大幅に減らすことで，誤差を大きくできるのでは？\n"
   ],
   "metadata": {
    "collapsed": false
   }
  },
  {
   "cell_type": "code",
   "execution_count": 34,
   "outputs": [
    {
     "name": "stdout",
     "output_type": "stream",
     "text": [
      "Model: \"sequential_3\"\n",
      "_________________________________________________________________\n",
      " Layer (type)                Output Shape              Param #   \n",
      "=================================================================\n",
      " dense_12 (Dense)            (None, 10)                390       \n",
      "                                                                 \n",
      " dense_13 (Dense)            (None, 5)                 55        \n",
      "                                                                 \n",
      " dense_14 (Dense)            (None, 10)                60        \n",
      "                                                                 \n",
      " dense_15 (Dense)            (None, 38)                418       \n",
      "                                                                 \n",
      "=================================================================\n",
      "Total params: 923\n",
      "Trainable params: 923\n",
      "Non-trainable params: 0\n",
      "_________________________________________________________________\n"
     ]
    }
   ],
   "source": [
    "model_2 = keras.Sequential([\n",
    "    Dense(units=10, activation='relu', input_dim=38),\n",
    "    Dense(units=5, activation='relu'),\n",
    "    Dense(units=10, activation='relu'),\n",
    "    Dense(units=38, activation='relu'),\n",
    "])\n",
    "model_2.summary()\n"
   ],
   "metadata": {
    "collapsed": false,
    "ExecuteTime": {
     "end_time": "2023-07-04T00:46:12.784312Z",
     "start_time": "2023-07-04T00:46:12.759318Z"
    }
   }
  },
  {
   "cell_type": "code",
   "execution_count": 35,
   "outputs": [
    {
     "name": "stdout",
     "output_type": "stream",
     "text": [
      "Epoch 1/5\n",
      "16295/16295 [==============================] - 8s 505us/step - loss: 1.6855 - accuracy: 0.8434 - val_loss: 1.2381 - val_accuracy: 0.8600\n",
      "Epoch 2/5\n",
      "16295/16295 [==============================] - 8s 467us/step - loss: 1.5401 - accuracy: 0.8575 - val_loss: 1.0840 - val_accuracy: 0.8599\n",
      "Epoch 3/5\n",
      "16295/16295 [==============================] - 8s 464us/step - loss: 1.5033 - accuracy: 0.8574 - val_loss: 1.0826 - val_accuracy: 0.8590\n",
      "Epoch 4/5\n",
      "16295/16295 [==============================] - 8s 493us/step - loss: 1.5013 - accuracy: 0.8581 - val_loss: 1.0835 - val_accuracy: 0.8604\n",
      "Epoch 5/5\n",
      "16295/16295 [==============================] - 8s 480us/step - loss: 1.5005 - accuracy: 0.8573 - val_loss: 1.0809 - val_accuracy: 0.8604\n"
     ]
    },
    {
     "data": {
      "text/plain": "<keras.callbacks.History at 0x33b3d9b70>"
     },
     "execution_count": 35,
     "metadata": {},
     "output_type": "execute_result"
    }
   ],
   "source": [
    "model.compile(optimizer='adam', loss='mean_squared_error', metrics=['accuracy'])\n",
    "# AutoEncoder用に，正常ラベルのみのDataFrameを定義\n",
    "x_train_ae = x_train[y_train == 0]\n",
    "y_train_ae = y_train[y_train == 0]\n",
    "model.fit(x=x_train_ae, y=x_train_ae, epochs=5, batch_size=32, shuffle=True, validation_split=0.20)\n"
   ],
   "metadata": {
    "collapsed": false,
    "ExecuteTime": {
     "end_time": "2023-07-04T00:47:26.577651Z",
     "start_time": "2023-07-04T00:46:45.960166Z"
    }
   }
  },
  {
   "cell_type": "code",
   "execution_count": 40,
   "outputs": [
    {
     "name": "stdout",
     "output_type": "stream",
     "text": [
      "50516/50516 [==============================] - 13s 252us/step\n"
     ]
    }
   ],
   "source": [
    "# 検証データの特徴量を再現したデータ\n",
    "predicted_x_test = model_2.predict(x_test)\n"
   ],
   "metadata": {
    "collapsed": false,
    "ExecuteTime": {
     "end_time": "2023-07-04T00:51:32.259850Z",
     "start_time": "2023-07-04T00:51:14.561874Z"
    }
   }
  },
  {
   "cell_type": "code",
   "execution_count": 41,
   "outputs": [
    {
     "name": "stdout",
     "output_type": "stream",
     "text": [
      "[2.00000000e+00 1.00000000e+00 4.96552310e-02 ... 1.21339874e-07\n",
      " 9.99085444e-08 0.00000000e+00]\n"
     ]
    },
    {
     "data": {
      "text/plain": "<Figure size 640x480 with 1 Axes>",
      "image/png": "[encoded data removed]"
     },
     "metadata": {},
     "output_type": "display_data"
    },
    {
     "data": {
      "text/plain": "<Figure size 640x480 with 1 Axes>",
      "image/png": "[encoded data removed]"
     },
     "metadata": {},
     "output_type": "display_data"
    }
   ],
   "source": [
    "errors = reconstruction_errors(x_test, predicted_x_test)\n",
    "plot_results(y_test, errors)\n"
   ],
   "metadata": {
    "collapsed": false,
    "ExecuteTime": {
     "end_time": "2023-07-04T00:51:34.474095Z",
     "start_time": "2023-07-04T00:51:32.258379Z"
    }
   }
  },
  {
   "cell_type": "code",
   "execution_count": 46,
   "outputs": [
    {
     "name": "stdout",
     "output_type": "stream",
     "text": [
      "\n",
      "threshold:5e-06 tn: 152990 tp: 168028 fn: 1127437 fp: 368607\n",
      "正常ラベルを正常と予測した割合(正常ラベルの正解率，再現率): 0.47657763739104975\n",
      "不正ラベルを不正と予測した割合(不正ラベルの正解率): 0.24638780677573655\n",
      "適合率(マイクロ平均): 0.28705514726520065\n",
      "適合率(マクロ平均): 0.36148272208339316\n",
      "\n",
      "threshold:1e-05 tn: 252521 tp: 68497 fn: 1226968 fp: 83026\n",
      "正常ラベルを正常と予測した割合(正常ラベルの正解率，再現率): 0.7866256720806933\n",
      "不正ラベルを不正と予測した割合(不正ラベルの正解率): 0.06337891623931102\n",
      "適合率(マイクロ平均): 0.205729326332363\n",
      "適合率(マクロ平均): 0.4250022941600022\n",
      "\n",
      "threshold:1.5e-05 tn: 262001 tp: 59017 fn: 1236448 fp: 81363\n",
      "正常ラベルを正常と予測した割合(正常ラベルの正解率，再現率): 0.8161567264140952\n",
      "不正ラベルを不正と予測した割合(不正ラベルの正解率): 0.06174102356104176\n",
      "適合率(マイクロ平均): 0.2095178935691277\n",
      "適合率(マクロ平均): 0.43894887498756846\n",
      "\n",
      "threshold:2e-05 tn: 283431 tp: 37587 fn: 1257878 fp: 80815\n",
      "正常ラベルを正常と予測した割合(正常ラベルの正解率，再現率): 0.8829131076762051\n",
      "不正ラベルを不正と予測した割合(不正ラベルの正解率): 0.06036858338693039\n",
      "適合率(マイクロ平均): 0.21946350900849607\n",
      "適合率(マクロ平均): 0.47164084553156777\n",
      "\n",
      "threshold:2.5e-05 tn: 298541 tp: 22477 fn: 1272988 fp: 12834\n",
      "正常ラベルを正常と予測した割合(正常ラベルの正解率，再現率): 0.9299821193827137\n",
      "不正ラベルを不正と予測した割合(不正ラベルの正解率): 0.009981163800277177\n",
      "適合率(マイクロ平均): 0.1937809613900575\n",
      "適合率(マクロ平均): 0.4699816415914954\n",
      "\n",
      "threshold:3e-05 tn: 304892 tp: 16126 fn: 1279339 fp: 11796\n",
      "正常ラベルを正常と予測した割合(正常ラベルの正解率，再現率): 0.9497660567320213\n",
      "不正ラベルを不正と予測した割合(不正ラベルの正解率): 0.00913614765303396\n",
      "適合率(マイクロ平均): 0.19643793113929015\n",
      "適合率(マクロ平均): 0.4794511021925276\n",
      "\n",
      "threshold:3.5e-05 tn: 308790 tp: 12228 fn: 1283237 fp: 11341\n",
      "正常ラベルを正常と予測した割合(正常ラベルの正解率，再現率): 0.961908678018055\n",
      "不正ラベルを不正と予測した割合(不正ラベルの正解率): 0.008760383692600987\n",
      "適合率(マイクロ平均): 0.19815040393761807\n",
      "適合率(マクロ平均): 0.485334530855328\n",
      "\n",
      "threshold:4e-05 tn: 312129 tp: 8889 fn: 1286576 fp: 11178\n",
      "正常ラベルを正常と予測した割合(正常ラベルの正解率，再現率): 0.9723099639272564\n",
      "不正ラベルを不正と予測した割合(不正ラベルの正解率): 0.008613342744464668\n",
      "適合率(マイクロ平均): 0.19972361765585273\n",
      "適合率(マクロ平均): 0.49046165333586056\n",
      "\n",
      "threshold:4.5e-05 tn: 313862 tp: 7156 fn: 1288309 fp: 9791\n",
      "正常ラベルを正常と予測した割合(正常ラベルの正解率，再現率): 0.977708415104449\n",
      "不正ラベルを不正と予測した割合(不正ラベルの正解率): 0.007542562206301518\n",
      "適合率(マイクロ平均): 0.19989463399208704\n",
      "適合率(マクロ平均): 0.49262548865537525\n",
      "\n",
      "threshold:5e-05 tn: 314574 tp: 6444 fn: 1289021 fp: 7577\n",
      "正常ラベルを正常と予測した割合(正常ラベルの正解率，再現率): 0.9799263592695737\n",
      "不正ラベルを不正と予測した割合(不正ラベルの正解率): 0.005843754193666811\n",
      "適合率(マイクロ平均): 0.19915171462201167\n",
      "適合率(マクロ平均): 0.49288505673162025\n",
      "\n",
      "threshold:5.5e-05 tn: 315225 tp: 5793 fn: 1289672 fp: 7084\n",
      "正常ラベルを正常と予測した割合(正常ラベルの正解率，再現率): 0.9819542829374054\n",
      "不正ラベルを不正と予測した割合(不正ラベルの正解率): 0.005462862712800249\n",
      "適合率(マイクロ平均): 0.1992299295204398\n",
      "適合率(マクロ平均): 0.49370857282510283\n",
      "\n",
      "threshold:6e-05 tn: 315615 tp: 5403 fn: 1290062 fp: 6913\n",
      "正常ラベルを正常と予測した割合(正常ラベルの正解率，再現率): 0.9831691680840327\n",
      "不正ラベルを不正と予測した割合(不正ラベルの正解率): 0.0053300950288170555\n",
      "適合率(マイクロ平均): 0.199338316049575\n",
      "適合率(マクロ平均): 0.4942496315564249\n",
      "\n",
      "threshold:6.5e-05 tn: 315891 tp: 5127 fn: 1290338 fp: 6823\n",
      "正常ラベルを正常と予測した割合(正常ラベルの正解率，再現率): 0.9840289329570304\n",
      "不正ラベルを不正と予測した割合(不正ラベルの正解率): 0.005259948456668062\n",
      "適合率(マイクロ平均): 0.199430347322515\n",
      "適合率(マクロ平均): 0.49464444070684926\n",
      "\n",
      "threshold:7e-05 tn: 316180 tp: 4838 fn: 1290627 fp: 6496\n",
      "正常ラベルを正常と予測した割合(正常ラベルの正解率，再現率): 0.9849291940015825\n",
      "不正ラベルを不正と予測した割合(不正ラベルの正解率): 0.005008006179830286\n",
      "適合率(マイクロ平均): 0.19941154695419006\n",
      "適合率(マクロ平均): 0.4949686000907064\n",
      "\n",
      "threshold:7.5e-05 tn: 316360 tp: 4658 fn: 1290807 fp: 5539\n",
      "正常ラベルを正常と予測した割合(正常ラベルの正解率，再現率): 0.9854899102231027\n",
      "不正ラベルを不正と予測した割合(不正ラベルの正解率): 0.004272779026587038\n",
      "適合率(マイクロ平均): 0.19902693518589507\n",
      "適合率(マクロ平均): 0.4948813446248449\n",
      "\n",
      "threshold:8e-05 tn: 316492 tp: 4526 fn: 1290939 fp: 1797\n",
      "正常ラベルを正常と予測した割合(正常ラベルの正解率，再現率): 0.9859011021188843\n",
      "不正ラベルを不正と予測した割合(不正ラベルの正解率): 0.0013900750037130552\n",
      "適合率(マイクロ平均): 0.19723514240708312\n",
      "適合率(マクロ平均): 0.49364558856129864\n",
      "\n",
      "threshold:8.5e-05 tn: 316574 tp: 4444 fn: 1291021 fp: 1795\n",
      "正常ラベルを正常と予測した割合(正常ラベルの正解率，再現率): 0.986156539508688\n",
      "不正ラベルを不正と予測した割合(不正ラベルの正解率): 0.0013884419747280355\n",
      "適合率(マイクロ平均): 0.19727493657959863\n",
      "適合率(マクロ平均): 0.493772490741708\n",
      "\n",
      "threshold:9e-05 tn: 316664 tp: 4354 fn: 1291111 fp: 1795\n",
      "正常ラベルを正常と予測した割合(正常ラベルの正解率，再現率): 0.9864368976194481\n",
      "不正ラベルを不正と予測した割合(不正ラベルの正解率): 0.0013883453244087351\n",
      "適合率(マイクロ平均): 0.19731970030806903\n",
      "適合率(マクロ平均): 0.4939126214719284\n",
      "\n",
      "threshold:9.5e-05 tn: 316738 tp: 4280 fn: 1291185 fp: 1793\n",
      "正常ラベルを正常と予測した割合(正常ラベルの正解率，再現率): 0.9866674142882954\n",
      "不正ラベルを不正と予測した割合(不正ラベルの正解率): 0.0013867211971124026\n",
      "適合率(マイクロ平均): 0.19735550769642554\n",
      "適合率(マクロ平均): 0.4940270677427039\n",
      "\n",
      "threshold:0.0001 tn: 316804 tp: 4214 fn: 1291251 fp: 1792\n",
      "正常ラベルを正常と予測した割合(正常ラベルの正解率，再現率): 0.9868730102361861\n",
      "不正ラベルを不正と予測した割合(不正ラベルの正解率): 0.0013858781185157802\n",
      "適合率(マイクロ平均): 0.1973878310671034\n",
      "適合率(マクロ平均): 0.49412944417735094\n",
      "\n",
      "threshold:0.000105 tn: 316963 tp: 4055 fn: 1291410 fp: 1790\n",
      "正常ラベルを正常と予測した割合(正常ラベルの正解率，再現率): 0.9873683095651957\n",
      "不正ラベルを不正と予測した割合(不正ラベルの正解率): 0.0013841633158057532\n",
      "適合率(マイクロ平均): 0.19746589370208978\n",
      "適合率(マクロ平均): 0.4943762364405007\n",
      "\n",
      "threshold:0.00011 tn: 316995 tp: 4023 fn: 1291442 fp: 1786\n",
      "正常ラベルを正常と予測した割合(正常ラベルの正解率，再現率): 0.9874679924490215\n",
      "不正ラベルを不正と予測した割合(不正ラベルの正解率): 0.0013810403115305267\n",
      "適合率(マイクロ平均): 0.19747981410516116\n",
      "適合率(マクロ平均): 0.494424516380276\n",
      "\n",
      "threshold:0.000115 tn: 317024 tp: 3994 fn: 1291471 fp: 1782\n",
      "正常ラベルを正常と予測した割合(正常ラベルの正解率，再現率): 0.9875583300624887\n",
      "不正ラベルを不正と予測した割合(不正ラベルの正解率): 0.0013779206388850442\n",
      "適合率(マイクロ平均): 0.19749224262840626\n",
      "適合率(マクロ平均): 0.4944681253506869\n",
      "\n",
      "threshold:0.00012 tn: 317065 tp: 3953 fn: 1291512 fp: 1780\n",
      "正常ラベルを正常と予測した割合(正常ラベルの正解率，再現率): 0.9876860487573905\n",
      "不正ラベルを不正と予測した割合(不正ラベルの正解率): 0.0013763326456824908\n",
      "適合率(マイクロ平均): 0.1975116303560035\n",
      "適合率(マクロ平均): 0.4945311907015365\n",
      "\n",
      "threshold:0.000125 tn: 317110 tp: 3908 fn: 1291557 fp: 1775\n",
      "正常ラベルを正常と予測した割合(正常ラベルの正解率，再現率): 0.9878262278127706\n",
      "不正ラベルを不正と予測した割合(不正ラベルの正解率): 0.0013724240952825725\n",
      "適合率(マイクロ平均): 0.19753151423173412\n",
      "適合率(マクロ平均): 0.4945993259540266\n",
      "\n",
      "threshold:0.00013 tn: 317135 tp: 3883 fn: 1291582 fp: 1770\n",
      "正常ラベルを正常と予測した割合(正常ラベルの正解率，再現率): 0.9879041050657595\n",
      "不正ラベルを不正と予測した割合(不正ラベルの正解率): 0.0013685369489512523\n",
      "適合率(マイクロ平均): 0.19754145580009538\n",
      "適合率(マクロ平均): 0.4946363210073554\n",
      "\n",
      "threshold:0.000135 tn: 317161 tp: 3857 fn: 1291608 fp: 1766\n",
      "正常ラベルを正常と予測した割合(正常ラベルの正解率，再現率): 0.9879850974088681\n",
      "不正ラベルを不正と予測した割合(不正ラベルの正解率): 0.0013654209841855488\n",
      "適合率(マイクロ平均): 0.1975523912407891\n",
      "適合率(マクロ平均): 0.49467525919652683\n",
      "\n",
      "threshold:0.00014 tn: 317231 tp: 3787 fn: 1291678 fp: 1762\n",
      "正常ラベルを正常と予測した割合(正常ラベルの正解率，再現率): 0.988203153717237\n",
      "不正ラベルを不正と予測した割合(不正ラベルの正解率): 0.0013622587827808016\n",
      "適合率(マイクロ平均): 0.19758519577468103\n",
      "適合率(マクロ平均): 0.4947827062500089\n",
      "\n",
      "threshold:0.000145 tn: 317323 tp: 3695 fn: 1291770 fp: 981\n",
      "正常ラベルを正常と予測した割合(正常ラベルの正解率，再現率): 0.9884897420082362\n",
      "不正ラベルを不正と予測した割合(不正ラベルの正解率): 0.000758846831292337\n",
      "適合率(マイクロ平均): 0.19724260411496317\n",
      "適合率(マクロ平均): 0.4946242944197643\n",
      "\n",
      "threshold:0.00015 tn: 317368 tp: 3650 fn: 1291815 fp: 975\n",
      "正常ラベルを正常と予測した割合(正常ラベルの正解率，再現率): 0.9886299210636164\n",
      "不正ラベルを不正と予測した割合(不正ラベルの正解率): 0.0007541828139140927\n",
      "適合率(マイクロ平均): 0.19726200390628873\n",
      "適合率(マクロ平均): 0.4946920519387652\n",
      "\n",
      "threshold:0.000155 tn: 317406 tp: 3612 fn: 1291853 fp: 951\n",
      "正常ラベルを正常と予測した割合(正常ラベルの正解率，再現率): 0.9887482944881596\n",
      "不正ラベルを不正と予測した割合(不正ラベルの正解率): 0.0007356103477402607\n",
      "適合率(マイクロ平均): 0.1972689677052364\n",
      "適合率(マクロ平均): 0.49474195241794994\n",
      "\n",
      "threshold:0.00016 tn: 317434 tp: 3584 fn: 1291881 fp: 934\n",
      "正常ラベルを正常と予測した割合(正常ラベルの正解率，再現率): 0.9888355170115072\n",
      "不正ラベルを不正と予測した割合(不正ラベルの正解率): 0.000722454488847979\n",
      "適合率(マイクロ平均): 0.19727443917679213\n",
      "適合率(マクロ平均): 0.4947789857501776\n",
      "\n",
      "threshold:0.000165 tn: 317498 tp: 3520 fn: 1291945 fp: 919\n",
      "正常ラベルを正常と予測した割合(正常ラベルの正解率，再現率): 0.9890348827791589\n",
      "不正ラベルを不正と予測した割合(不正ラベルの正解率): 0.0007108249591604376\n",
      "適合率(マイクロ平均): 0.19729881118941783\n",
      "適合率(マクロ平均): 0.49487285386915963\n",
      "\n",
      "threshold:0.00017 tn: 317573 tp: 3445 fn: 1292020 fp: 906\n",
      "正常ラベルを正常と予測した割合(正常ラベルの正解率，再現率): 0.9892685145381256\n",
      "不正ラベルを不正と予測した割合(不正ラベルの正解率): 0.0007007361596874067\n",
      "適合率(マイクロ平均): 0.19732964712530296\n",
      "適合率(マクロ平均): 0.49498462534890647\n",
      "\n",
      "threshold:0.000175 tn: 317594 tp: 3424 fn: 1292041 fp: 903\n",
      "正常ラベルを正常と予測した割合(正常ラベルの正解率，再現率): 0.9893339314306363\n",
      "不正ラベルを不正と予測した割合(不正ラベルの正解率): 0.0006984061181304062\n",
      "適合率(マイクロ平均): 0.1973385990500396\n",
      "適合率(マクロ平均): 0.49501616877438337\n",
      "\n",
      "threshold:0.00018 tn: 317650 tp: 3368 fn: 1292097 fp: 688\n",
      "正常ラベルを正常と予測した割合(正常ラベルの正解率，再現率): 0.9895083764773315\n",
      "不正ラベルを不正と予測した割合(不正ラベルの正解率): 0.0005321843926097534\n",
      "適合率(マイクロ平均): 0.19725951680595463\n",
      "適合率(マクロ平均): 0.4950202804349706\n",
      "\n",
      "threshold:0.000185 tn: 317654 tp: 3364 fn: 1292101 fp: 664\n",
      "正常ラベルを正常と予測した割合(正常ラベルの正解率，再現率): 0.9895208368378097\n",
      "不正ラベルを不正と予測した割合(不正ラベルの正解率): 0.0005136277668408412\n",
      "適合率(マイクロ平均): 0.19724956825050205\n",
      "適合率(マクロ平均): 0.49501723230232525\n",
      "\n",
      "threshold:0.00019 tn: 317666 tp: 3352 fn: 1292113 fp: 653\n",
      "正常ラベルを正常と予測した割合(正常ラベルの正解率，再現率): 0.9895582179192444\n",
      "不正ラベルを不正と予測した割合(不正ラベルの正解率): 0.0005051184823858301\n",
      "適合率(マイクロ平均): 0.1972500656841312\n",
      "適合率(マクロ平均): 0.4950316682008151\n",
      "\n",
      "threshold:0.000195 tn: 317676 tp: 3342 fn: 1292123 fp: 646\n",
      "正常ラベルを正常と予測した割合(正常ラベルの正解率，再現率): 0.98958936882044\n",
      "不正ラベルを不正と予測した割合(不正ラベルの正解率): 0.0004997025764076954\n",
      "適合率(マイクロ平均): 0.19725155798131974\n",
      "適合率(マクロ平均): 0.4950445356984239\n",
      "\n",
      "threshold:0.0002 tn: 317809 tp: 3209 fn: 1292256 fp: 640\n",
      "正常ラベルを正常と予測した割合(正常ラベルの正解率，再現率): 0.9900036758063411\n",
      "不正ラベルを不正と予測した割合(不正ラベルの正解率): 0.0004950127465782243\n",
      "適合率(マイクロ平均): 0.1973147268070046\n",
      "適合率(マクロ平均): 0.49524934427645967\n",
      "\n",
      "threshold:0.000205 tn: 318911 tp: 2107 fn: 1293358 fp: 637\n",
      "正常ラベルを正常と予測した割合(正常ラベルの正解率，再現率): 0.9934365051180931\n",
      "不正ラベルを不正と予測した割合(不正ラベルの正解率): 0.0004922739268698875\n",
      "適合率(マイクロ平均): 0.19786094601096094\n",
      "適合率(マクロ平均): 0.4969643895224815\n",
      "\n",
      "threshold:0.00021 tn: 319005 tp: 2013 fn: 1293452 fp: 634\n",
      "正常ラベルを正常と予測した割合(正常ラベルの正解率，再現率): 0.9937293235893314\n",
      "不正ラベルを不正と予測した割合(不正ラベルの正解率): 0.0004899210717062081\n",
      "適合率(マイクロ平均): 0.19790614102868917\n",
      "適合率(マクロ平均): 0.4971096223305188\n",
      "\n",
      "threshold:0.000215 tn: 319028 tp: 1990 fn: 1293475 fp: 634\n",
      "正常ラベルを正常と予測した割合(正常ラベルの正解率，再現率): 0.9938009706620813\n",
      "不正ラベルを不正と予測した割合(不正ラベルの正解率): 0.0004899123644144349\n",
      "適合率(マイクロ平均): 0.19791756313899775\n",
      "適合率(マクロ平均): 0.49714544151324785\n",
      "\n",
      "threshold:0.00022 tn: 319170 tp: 1848 fn: 1293617 fp: 632\n",
      "正常ラベルを正常と予測した割合(正常ラベルの正解率，再現率): 0.9942433134590584\n",
      "不正ラベルを不正と予測した割合(不正ラベルの正解率): 0.0004883140724852791\n",
      "適合率(マイクロ平均): 0.1979870820118284\n",
      "適合率(マクロ平均): 0.4973658137657718\n",
      "\n",
      "threshold:0.000225 tn: 319185 tp: 1833 fn: 1293632 fp: 632\n",
      "正常ラベルを正常と予測した割合(正常ラベルの正解率，再現率): 0.9942900398108517\n",
      "不正ラベルを不正と予測した割合(不正ラベルの正解率): 0.0004883084131212797\n",
      "適合率(マイクロ平均): 0.19799452974774684\n",
      "適合率(マクロ平均): 0.4973891741119865\n",
      "\n",
      "threshold:0.00023 tn: 319251 tp: 1767 fn: 1293698 fp: 632\n",
      "正常ラベルを正常と予測した割合(正常ラベルの正解率，再現率): 0.9944956357587424\n",
      "不正ラベルを不正と予測した割合(不正ラベルの正解率): 0.0004882835134780157\n",
      "適合率(マイクロ平均): 0.19802729814256742\n",
      "適合率(マクロ平均): 0.4974919596361102\n",
      "\n",
      "threshold:0.000235 tn: 319256 tp: 1762 fn: 1293703 fp: 632\n",
      "正常ラベルを正常と予測した割合(正常ラベルの正解率，再現率): 0.9945112112093403\n",
      "不正ラベルを不正と予測した割合(不正ラベルの正解率): 0.0004882816272448787\n",
      "適合率(マイクロ平均): 0.1980297804876086\n",
      "適合率(マクロ平均): 0.4974997464182926\n",
      "\n",
      "threshold:0.00024 tn: 319272 tp: 1746 fn: 1293719 fp: 632\n",
      "正常ラベルを正常と予測した割合(正常ラベルの正解率，再現率): 0.9945610526512532\n",
      "不正ラベルを不正と予測した割合(不正ラベルの正解率): 0.0004882755913967695\n",
      "適合率(マイクロ平均): 0.19803772388847377\n",
      "適合率(マクロ平均): 0.49752466412132496\n",
      "\n",
      "threshold:0.000245 tn: 319277 tp: 1741 fn: 1293724 fp: 632\n",
      "正常ラベルを正常と予測した割合(正常ラベルの正解率，再現率): 0.994576628101851\n",
      "不正ラベルを不正と予測した割合(不正ラベルの正解率): 0.0004882737052248377\n",
      "適合率(マイクロ平均): 0.19804020616897386\n",
      "適合率(マクロ平均): 0.4975324509035379\n",
      "\n",
      "threshold:0.00025 tn: 319290 tp: 1728 fn: 1293737 fp: 632\n",
      "正常ラベルを正常と予測した割合(正常ラベルの正解率，再現率): 0.9946171242734052\n",
      "不正ラベルを不正と予測した割合(不正ラベルの正解率): 0.00048826880124601255\n",
      "適合率(マイクロ平均): 0.198046660026359\n",
      "適合率(マクロ平均): 0.4975526965373256\n",
      "\n",
      "threshold:0.000255 tn: 319292 tp: 1726 fn: 1293739 fp: 631\n",
      "正常ラベルを正常と予測した割合(正常ラベルの正解率，再現率): 0.9946233544536444\n",
      "不正ラベルを不正と予測した割合(不正ラベルの正解率): 0.000487495847400666\n",
      "適合率(マイクロ平均): 0.19804715647262452\n",
      "適合率(マクロ平均): 0.49755542515052253\n",
      "\n",
      "threshold:0.00026 tn: 319299 tp: 1719 fn: 1293746 fp: 630\n",
      "正常ラベルを正常と予測した割合(正常ラベルの正解率，再現率): 0.9946451600844812\n",
      "不正ラベルを不正と予測した割合(不正ラベルの正解率): 0.0004867210146047207\n",
      "適合率(マイクロ平均): 0.19805013513731015\n",
      "適合率(マクロ平均): 0.49756594054954295\n",
      "\n",
      "threshold:0.000265 tn: 319302 tp: 1716 fn: 1293749 fp: 627\n",
      "正常ラベルを正常と予測した割合(正常ラベルの正解率，再現率): 0.9946545053548399\n",
      "不正ラベルを不正と予測した割合(不正ラベルの正解率): 0.0004844032954875554\n",
      "適合率(マイクロ平均): 0.19805013513731015\n",
      "適合率(マクロ平均): 0.49756945432516375\n",
      "\n",
      "threshold:0.00027 tn: 319303 tp: 1715 fn: 1293750 fp: 624\n",
      "正常ラベルを正常と予測した割合(正常ラベルの正解率，再現率): 0.9946576204449594\n",
      "不正ラベルを不正と予測した割合(不正ラベルの正解率): 0.0004820863212641787\n",
      "適合率(マイクロ平均): 0.1980491422515402\n",
      "適合率(マクロ平均): 0.4975698533831118\n",
      "\n",
      "threshold:0.000275 tn: 319312 tp: 1706 fn: 1293759 fp: 620\n",
      "正常ラベルを正常と予測した割合(正常ラベルの正解率，再現率): 0.9946856562560354\n",
      "不正ラベルを不正と予測した割合(不正ラベルの正解率): 0.0004789941740402154\n",
      "適合率(マイクロ平均): 0.1980516244613553\n",
      "適合率(マクロ平均): 0.4975823252150378\n",
      "\n",
      "threshold:0.00028 tn: 319319 tp: 1699 fn: 1293766 fp: 617\n",
      "正常ラベルを正常と予測した割合(正常ラベルの正解率，再現率): 0.9947074618868724\n",
      "不正ラベルを不正と予測した割合(不正ラベルの正解率): 0.00047667498723329957\n",
      "適合率(マイクロ平均): 0.19805361021814397\n",
      "適合率(マクロ平均): 0.49759206843705284\n",
      "\n",
      "threshold:0.000285 tn: 319322 tp: 1696 fn: 1293769 fp: 612\n",
      "正常ラベルを正常と予測した割合(正常ラベルの正解率，再現率): 0.9947168071572311\n",
      "不正ラベルを不正と予測した割合(不正ラベルの正解率): 0.00047281287348933585\n",
      "適合率(マイクロ平均): 0.19805261734097893\n",
      "適合率(マクロ平均): 0.4975948100153602\n",
      "\n",
      "threshold:0.00029 tn: 319325 tp: 1693 fn: 1293772 fp: 611\n",
      "正常ラベルを正常と予測した割合(正常ラベルの正解率，再現率): 0.9947261524275898\n",
      "不正ラベルを不正と予測した割合(不正ラベルの正解率): 0.00047203957406733555\n",
      "適合率(マイクロ平均): 0.198053610218144\n",
      "適合率(マクロ平均): 0.4975990960008286\n",
      "\n",
      "threshold:0.000295 tn: 319326 tp: 1692 fn: 1293773 fp: 608\n",
      "正常ラベルを正常と予測した割合(正常ラベルの正解率，再現率): 0.9947292675177093\n",
      "不正ラベルを不正と予測した割合(不正ラベルの正解率): 0.00046972259327045127\n",
      "適合率(マイクロ平均): 0.1980526173409789\n",
      "適合率(マクロ平均): 0.4975994950554899\n"
     ]
    }
   ],
   "source": [
    "# 再構成誤差の閾値を変化させて，不正ラベルの適合率を調べる．\n",
    "thresholds = np.arange(0.000005, 0.0003, 0.000005)\n",
    "for threshold in thresholds:\n",
    "    # 閾値よりも大きい再構成誤差のデータ（不正と判断したデータ）のインデックスと正解ラベル\n",
    "    y_pred_as_abnormal = y_test[errors[errors > threshold].index]\n",
    "    # 不正のうち不正と判断したもの\n",
    "    fp = len(y_test[y_pred_as_abnormal[y_pred_as_abnormal == 1].index])\n",
    "    # 正常のうち不正と判断したもの\n",
    "    tp = len(y_test[y_pred_as_abnormal[y_pred_as_abnormal == 0].index])\n",
    "    # 正常のうち正常と判断したもの\n",
    "    tn = len(y_test[y_test == 0]) - tp\n",
    "    # 不正のうち正常と判断したもの\n",
    "    fn = len(y_test[y_test == 1]) - tp\n",
    "    print()\n",
    "    print(f\"threshold:{round(threshold, 7)} tn: {tn} tp: {tp} fn: {fn} fp: {fp}\")\n",
    "    print(f'正常ラベルを正常と予測した割合(正常ラベルの正解率，再現率): {tn / (tn + tp)}')\n",
    "    print(f'不正ラベルを不正と予測した割合(不正ラベルの正解率): {fp / (fn + fp)}')\n",
    "    total = tn + tp + fn + fp\n",
    "    print(f\"適合率(マイクロ平均): { (tn + tp) / total * (tn/(tn+tp)) + (fn + fp) / total * (fp / (fn + fp))}\")\n",
    "    print(f\"適合率(マクロ平均): {0.5 * (tn/(tn+tp)) + 0.5 * (fp / (fn + fp))}\")\n"
   ],
   "metadata": {
    "collapsed": false,
    "ExecuteTime": {
     "end_time": "2023-07-04T00:53:08.561378Z",
     "start_time": "2023-07-04T00:53:06.840732Z"
    }
   }
  },
  {
   "cell_type": "markdown",
   "source": [
    "#### 隠れ層を小さくすると逆に精度は下がった"
   ],
   "metadata": {
    "collapsed": false
   }
  },
  {
   "cell_type": "code",
   "execution_count": 50,
   "outputs": [
    {
     "name": "stdout",
     "output_type": "stream",
     "text": [
      "/Users/satun/DataspellProjects/ml/kdd99\n"
     ]
    }
   ],
   "source": [
    "\n"
   ],
   "metadata": {
    "collapsed": false,
    "ExecuteTime": {
     "end_time": "2023-07-04T05:12:04.877129Z",
     "start_time": "2023-07-04T05:12:04.872806Z"
    }
   }
  },
  {
   "cell_type": "code",
   "execution_count": null,
   "outputs": [],
   "source": [],
   "metadata": {
    "collapsed": false
   }
  }
 ],
 "metadata": {
  "kernelspec": {
   "display_name": "Python 3",
   "language": "python",
   "name": "python3"
  },
  "language_info": {
   "codemirror_mode": {
    "name": "ipython",
    "version": 2
   },
   "file_extension": ".py",
   "mimetype": "text/x-python",
   "name": "python",
   "nbconvert_exporter": "python",
   "pygments_lexer": "ipython2",
   "version": "2.7.6"
  }
 },
 "nbformat": 4,
 "nbformat_minor": 0
}
