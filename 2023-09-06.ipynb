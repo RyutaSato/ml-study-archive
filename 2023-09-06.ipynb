{
 "cells": [
  {
   "cell_type": "code",
   "execution_count": 1,
   "metadata": {
    "collapsed": true,
    "ExecuteTime": {
     "end_time": "2023-09-06T04:18:48.770991Z",
     "start_time": "2023-09-06T04:18:45.191176Z"
    }
   },
   "outputs": [
    {
     "name": "stdout",
     "output_type": "stream",
     "text": [
      "python:      3.10.11\n",
      "sklearn:     1.2.2\n",
      "tensorflow:  2.12.0\n",
      "keras:       2.12.0\n",
      "numpy:       1.23.5\n",
      "pandas:      1.5.3\n"
     ]
    }
   ],
   "source": [
    "from two_step_classification import *\n",
    "print_version()\n"
   ]
  },
  {
   "cell_type": "code",
   "execution_count": null,
   "outputs": [],
   "source": [
    "print_version()\n",
    "# load data\n",
    "x_train: pd.DataFrame = pd.read_pickle(\"models/kdd99_features/x_train_df.pkl\")\n",
    "x_test: pd.DataFrame = pd.read_pickle(\"models/kdd99_features/x_test_df.pkl\")\n",
    "y_train: pd.Series = pd.read_pickle(\"models/kdd99_features/y_train_df.pkl\")\n",
    "y_test: pd.Series = pd.read_pickle(\"models/kdd99_features/y_test_df.pkl\")\n",
    "x_train_ae_48: pd.DataFrame = pd.read_pickle(\n",
    "    \"models/kdd99_features/x_train+ae_48_df&activation=relu&epochs=5&batch_size=32.pkl\")\n",
    "x_test_ae_48: pd.DataFrame = pd.read_pickle(\n",
    "    \"models/kdd99_features/x_test+ae_48_df&activation=relu&epochs=5&batch_size=32.pkl\")\n"
   ],
   "metadata": {
    "collapsed": false
   }
  }
 ],
 "metadata": {
  "kernelspec": {
   "display_name": "Python 3",
   "language": "python",
   "name": "python3"
  },
  "language_info": {
   "codemirror_mode": {
    "name": "ipython",
    "version": 2
   },
   "file_extension": ".py",
   "mimetype": "text/x-python",
   "name": "python",
   "nbconvert_exporter": "python",
   "pygments_lexer": "ipython2",
   "version": "2.7.6"
  }
 },
 "nbformat": 4,
 "nbformat_minor": 0
}
