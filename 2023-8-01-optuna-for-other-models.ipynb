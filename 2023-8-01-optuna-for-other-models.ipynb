{
 "cells": [
  {
   "cell_type": "code",
   "execution_count": 1,
   "metadata": {
    "collapsed": true,
    "ExecuteTime": {
     "end_time": "2023-08-01T01:14:08.248702Z",
     "start_time": "2023-08-01T01:14:05.137576600Z"
    }
   },
   "outputs": [
    {
     "name": "stdout",
     "output_type": "stream",
     "text": [
      "python:      3.10.5\n",
      "sklearn:     1.2.2\n",
      "tensorflow:  2.13.0-rc0\n",
      "keras:       2.13.1rc0\n",
      "numpy:       1.23.5\n",
      "pandas:      1.5.3\n"
     ]
    }
   ],
   "source": [
    "import optuna\n",
    "\n",
    "from utils_kdd99 import *\n",
    "print_version()\n"
   ]
  },
  {
   "cell_type": "code",
   "execution_count": 2,
   "outputs": [
    {
     "data": {
      "text/plain": "0    391458\n1     97278\n2      4107\n3      1126\n4        52\nName: true_label, dtype: int64"
     },
     "execution_count": 2,
     "metadata": {},
     "output_type": "execute_result"
    }
   ],
   "source": [
    "# データの読み込み\n",
    "X, y = load_data(use_full_dataset=False, standard_scale=True, verbose=0, )\n",
    "# 分類モデルによっては数値ラベルしか対応していないため、目的変数を分類クラスから数値へ変換\n",
    "y = y.map(lambda x: attack_label_class[x]).map(lambda x: correspondences[x])\n",
    "y.value_counts()\n"
   ],
   "metadata": {
    "collapsed": false,
    "ExecuteTime": {
     "end_time": "2023-08-01T01:14:09.642899300Z",
     "start_time": "2023-08-01T01:14:08.250703200Z"
    }
   }
  },
  {
   "cell_type": "code",
   "execution_count": 3,
   "outputs": [],
   "source": [
    "x_train, x_test, y_train, y_test = train_test_split(X, y, test_size=0.33, random_state=RANDOM_SEED, stratify=y)"
   ],
   "metadata": {
    "collapsed": false,
    "ExecuteTime": {
     "end_time": "2023-08-01T01:14:09.895709900Z",
     "start_time": "2023-08-01T01:14:09.644462500Z"
    }
   }
  },
  {
   "cell_type": "code",
   "execution_count": 4,
   "outputs": [],
   "source": [
    "k_fold = StratifiedKFold(n_splits=5, shuffle=True, random_state=RANDOM_SEED)"
   ],
   "metadata": {
    "collapsed": false,
    "ExecuteTime": {
     "end_time": "2023-08-01T01:14:09.910734300Z",
     "start_time": "2023-08-01T01:14:09.897707Z"
    }
   }
  },
  {
   "cell_type": "code",
   "execution_count": 5,
   "outputs": [],
   "source": [
    "from sklearn.svm import SVC\n",
    "from sklearn.linear_model import LogisticRegression\n",
    "from sklearn.model_selection import cross_val_score"
   ],
   "metadata": {
    "collapsed": false,
    "ExecuteTime": {
     "end_time": "2023-08-01T01:14:09.929459100Z",
     "start_time": "2023-08-01T01:14:09.913134200Z"
    }
   }
  },
  {
   "cell_type": "code",
   "execution_count": null,
   "outputs": [
    {
     "name": "stderr",
     "output_type": "stream",
     "text": [
      "[I 2023-08-01 10:14:09,928] A new study created in memory with name: no-name-03729157-af8b-4a9d-84f1-a1c3c8e514ce\n"
     ]
    },
    {
     "name": "stdout",
     "output_type": "stream",
     "text": [
      "score calculating\n"
     ]
    }
   ],
   "source": [
    "def objective_svm(trial: optuna.Trial):\n",
    "    C = trial.suggest_float('C', 1e-5, 1e5)\n",
    "    gamma = trial.suggest_float('gamma', 1e-5, 1e5)\n",
    "    svm = SVC(C=C, gamma=gamma, class_weight='balanced', )\n",
    "    # 各交差検証における各クラスの正解率の平均\n",
    "    print('score calculating')\n",
    "    scores = cross_val_score(svm, x_train, y_train, cv=k_fold, n_jobs=-1)\n",
    "    return 1 - scores.mean()\n",
    "\n",
    "study = optuna.create_study()\n",
    "study.optimize(objective_svm, n_trials=1, timeout=60*5, n_jobs=-1)\n"
   ],
   "metadata": {
    "collapsed": false,
    "is_executing": true,
    "ExecuteTime": {
     "start_time": "2023-08-01T01:14:09.928464600Z"
    }
   }
  },
  {
   "cell_type": "code",
   "execution_count": null,
   "outputs": [],
   "source": [
    "study.best_params\n"
   ],
   "metadata": {
    "collapsed": false,
    "is_executing": true
   }
  },
  {
   "cell_type": "code",
   "execution_count": null,
   "outputs": [],
   "source": [
    "model_svm = SVC(**study.best_params, class_weight='balanced')\n",
    "model_svm.fit(x_train)\n",
    "y_pred = model_svm.predict(x_test)\n"
   ],
   "metadata": {
    "collapsed": false,
    "is_executing": true
   }
  },
  {
   "cell_type": "code",
   "execution_count": null,
   "outputs": [],
   "source": [],
   "metadata": {
    "collapsed": false,
    "is_executing": true
   }
  },
  {
   "cell_type": "code",
   "execution_count": null,
   "outputs": [],
   "source": [],
   "metadata": {
    "collapsed": false,
    "is_executing": true
   }
  }
 ],
 "metadata": {
  "kernelspec": {
   "display_name": "Python 3",
   "language": "python",
   "name": "python3"
  },
  "language_info": {
   "codemirror_mode": {
    "name": "ipython",
    "version": 2
   },
   "file_extension": ".py",
   "mimetype": "text/x-python",
   "name": "python",
   "nbconvert_exporter": "python",
   "pygments_lexer": "ipython2",
   "version": "2.7.6"
  }
 },
 "nbformat": 4,
 "nbformat_minor": 0
}
