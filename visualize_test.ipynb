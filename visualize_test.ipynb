{
 "cells": [
  {
   "cell_type": "code",
   "execution_count": 1,
   "metadata": {},
   "outputs": [],
   "source": [
    "import pandas as pd"
   ]
  },
  {
   "cell_type": "code",
   "execution_count": 2,
   "metadata": {},
   "outputs": [
    {
     "data": {
      "text/plain": [
       "30"
      ]
     },
     "execution_count": 2,
     "metadata": {},
     "output_type": "execute_result"
    }
   ],
   "source": [
    "datasets = [ 'kdd99', 'kdd_dropped', 'creditcardfraud', 'ecoli', 'optical_digits', 'satimage', 'pen_digits', 'abalone', 'sick_euthyroid',\n",
    "              'spectrometer', 'car_eval_34', 'isolet', 'us_crime', 'yeast_ml8', 'scene', 'libras_move', 'thyroid_sick', 'coil_2000',\n",
    "              'arrhythmia', 'solar_flare_m0', 'oil', 'car_eval_4', 'wine_quality', 'letter_img', 'yeast_me2', 'webpage',\n",
    "              'ozone_level', 'mammography', 'protein_homo', 'abalone_19' ]\n",
    "len(datasets)"
   ]
  },
  {
   "cell_type": "code",
   "execution_count": 3,
   "metadata": {},
   "outputs": [],
   "source": [
    "# latex用のため，`_`を`\\_`に置き換え\n",
    "datasets_replaced_ = [c.replace('_', r'\\_') for c in datasets]"
   ]
  },
  {
   "cell_type": "code",
   "execution_count": 7,
   "metadata": {},
   "outputs": [],
   "source": [
    "from visualization.latex_table import LatexTable, MultiColumn"
   ]
  },
  {
   "cell_type": "code",
   "execution_count": 21,
   "metadata": {},
   "outputs": [],
   "source": [
    "_optuna = False\n",
    "_preprocessing = 'none'  # none, ss, nl\n",
    "_ae_preprocessing = 'none'\n",
    "layers = [\n",
    "    [0],\n",
    "    [20, 10, 5],\n",
    "    [20, 15, 10],\n",
    "    [20, 15, 10, 5],\n",
    "]\n",
    "models = [\n",
    "    'Logistic Regression',\n",
    "    'SVM',\n",
    "    'Random Forest',\n",
    "    'LightGBM',\n",
    "    'Multi Perceptron'\n",
    "]\n",
    "mdls = ['lr', 'svm', 'rf', 'lgb', 'mp']\n",
    "used_classes = ['all', 'minority', 'majority']\n",
    "\n",
    "use_model = models[0]\n",
    "use_mdl = mdls[0]\n",
    "use_class = used_classes[0]\n",
    "standardize = False\n",
    "normalize = False\n",
    "ae_standardize = False\n",
    "ae_normalize = False\n",
    "\n",
    "table = LatexTable(\n",
    "    f\"{use_model},Optuna:{_optuna},前処理:{_preprocessing},AE前処理:{_ae_preprocessing}\", \n",
    "    f\"{use_mdl}&optuna-{_optuna}&preprocessing-{_preprocessing}&ae-preprocessing-{_ae_preprocessing}\",\n",
    "    r\"l*{8}{c}\",\n",
    "    column_num=9\n",
    "    )\n"
   ]
  },
  {
   "cell_type": "code",
   "execution_count": 3,
   "metadata": {},
   "outputs": [
    {
     "ename": "NameError",
     "evalue": "name 'fetch_latest_record' is not defined",
     "output_type": "error",
     "traceback": [
      "\u001b[0;31m---------------------------------------------------------------------------\u001b[0m",
      "\u001b[0;31mNameError\u001b[0m                                 Traceback (most recent call last)",
      "Cell \u001b[0;32mIn[3], line 1\u001b[0m\n\u001b[0;32m----> 1\u001b[0m \u001b[38;5;28;01mdel\u001b[39;00m fetch_latest_record\n\u001b[1;32m      2\u001b[0m \u001b[38;5;28;01mfrom\u001b[39;00m \u001b[38;5;21;01mdb_query\u001b[39;00m \u001b[38;5;28;01mimport\u001b[39;00m fetch_latest_record\n\u001b[1;32m      5\u001b[0m table\u001b[38;5;241m.\u001b[39madd_columns([\u001b[38;5;124m\"\u001b[39m\u001b[38;5;124moptuna\u001b[39m\u001b[38;5;124m\"\u001b[39m, MultiColumn(_optuna, \u001b[38;5;241m8\u001b[39m)])\n",
      "\u001b[0;31mNameError\u001b[0m: name 'fetch_latest_record' is not defined"
     ]
    }
   ],
   "source": [
    "from db_query import fetch_latest_record\n",
    "\n",
    "\n",
    "table.add_columns([\"optuna\", MultiColumn(_optuna, 8)])\n",
    "table.add_columns([\"preprocessing\", MultiColumn(_preprocessing, 8)])\n",
    "table.add_columns([\"ae-preprocessing\", MultiColumn(_ae_preprocessing, 8)])\n",
    "table.add_columns([\"layers\", 'none', *layers[1:4], 'none', *layers[1:4]])\n",
    "table.add_hline()\n",
    "table.add_columns(\n",
    "    ['Dataset', MultiColumn('minority F-accuracy', 4),\n",
    "                MultiColumn('macro F-accuracy', 4),])\n",
    "table.add_hline()\n",
    "for i in range(len(datasets)):\n",
    "    dataset = datasets[i]\n",
    "    cols = [datasets_replaced_[i]]\n",
    "    res_minority = []\n",
    "    res_macro = []\n",
    "    for layer in layers:\n",
    "        record = fetch_latest_record({\n",
    "            'dataset.name': dataset,\n",
    "            'dataset.standardization': standardize,\n",
    "            'dataset.normalization': normalize,\n",
    "            'model.name': use_mdl,\n",
    "            'model.optuna': _optuna,\n",
    "            'ae.layers': layer,\n",
    "            'ae.used_class': use_class,\n",
    "            'ae.standardization': ae_standardize,\n",
    "            'ae.normalization': ae_normalize,\n",
    "            },\n",
    "        )\n",
    "        if record is None:\n",
    "            res_minority.append('-')\n",
    "            res_macro.append('-')\n",
    "        else:\n",
    "            res_minority.append(f\"{record['result']['minority']['f1']:.3f}\")\n",
    "            res_macro.append(f\"{record['result']['macro']['f1']:.3f}\")\n",
    "    cols.extend(res_minority)\n",
    "    cols.extend(res_macro)\n",
    "\n",
    "\n",
    "    table.add_columns(cols)\n",
    "cnt = 0\n",
    "with open(f'thesis/tables/table{cnt}.tex', 'w') as f:\n",
    "    cnt += 1\n",
    "    f.write(table.compile())\n"
   ]
  },
  {
   "cell_type": "code",
   "execution_count": 1,
   "metadata": {},
   "outputs": [],
   "source": [
    "from visualization.result_table import ResultTable, mdls, used_classes, pps"
   ]
  },
  {
   "cell_type": "code",
   "execution_count": 2,
   "metadata": {},
   "outputs": [],
   "source": [
    "# t = ResultTable('lr', False, 'なし', 'なし', 'all',1)\n",
    "# t.fetch_results()\n",
    "# with open(f\"thesis/tables/{t.label}.tex\", \"w\") as f:\n",
    "#     f.write(t.compile())"
   ]
  },
  {
   "cell_type": "code",
   "execution_count": 3,
   "metadata": {},
   "outputs": [],
   "source": [
    "optuna = True\n",
    "tables = []\n",
    "total = 0\n",
    "better_minority_cnt = 0\n",
    "better_macro_cnt = 0\n",
    "for mdl in mdls:\n",
    "    numbering = 1\n",
    "    for pp in pps:\n",
    "        for ae_pp in pps:\n",
    "            if pp == pps[0] and ae_pp != pps[0]:\n",
    "                continue\n",
    "            if pp == pps[1] and ae_pp == pps[2]:\n",
    "                continue\n",
    "            if pp == pps[2] and ae_pp == pps[1]:\n",
    "                continue\n",
    "            for used_class in used_classes:\n",
    "                t = ResultTable(mdl, optuna, pp, ae_pp, used_class, numbering)\n",
    "                t.aggregate_results()\n",
    "                for result in t.minorities:\n",
    "                    for s in result[1:]:\n",
    "                        total += 1\n",
    "                        if s > result[0]:\n",
    "                            better_minority_cnt += 1\n",
    "                for result in t.macros:\n",
    "                    for s in result[1:]:\n",
    "                        total += 1\n",
    "                        if s > result[0]:\n",
    "                            better_macro_cnt += 1\n",
    "\n",
    "                with open(f\"thesis/tables/{t.label}.tex\", \"w\") as f:\n",
    "                    f.write(t.compile())\n",
    "                tables.append(t.label)\n",
    "                numbering += 1"
   ]
  },
  {
   "cell_type": "code",
   "execution_count": 4,
   "metadata": {},
   "outputs": [],
   "source": [
    "# tablesを読み込むlatexコードを生成\n",
    "with open(\"thesis/contents/results-optuna.tex\", 'w') as f:\n",
    "    for table in tables:\n",
    "        f.write(f\"\\\\input{{tables/{table}}}\\n\")\n"
   ]
  },
  {
   "cell_type": "code",
   "execution_count": 3,
   "metadata": {},
   "outputs": [
    {
     "data": {
      "text/plain": [
       "'total 13500 better minority 2178 better macro 2191'"
      ]
     },
     "execution_count": 3,
     "metadata": {},
     "output_type": "execute_result"
    }
   ],
   "source": [
    "f\"total {total} better minority {better_minority_cnt} better macro {better_macro_cnt}\""
   ]
  },
  {
   "cell_type": "code",
   "execution_count": null,
   "metadata": {},
   "outputs": [],
   "source": []
  }
 ],
 "metadata": {
  "kernelspec": {
   "display_name": ".venv",
   "language": "python",
   "name": "python3"
  },
  "language_info": {
   "codemirror_mode": {
    "name": "ipython",
    "version": 3
   },
   "file_extension": ".py",
   "mimetype": "text/x-python",
   "name": "python",
   "nbconvert_exporter": "python",
   "pygments_lexer": "ipython3",
   "version": "3.9.6"
  }
 },
 "nbformat": 4,
 "nbformat_minor": 2
}
