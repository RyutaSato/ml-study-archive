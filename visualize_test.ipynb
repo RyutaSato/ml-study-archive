{
 "cells": [
  {
   "cell_type": "code",
   "execution_count": 1,
   "metadata": {},
   "outputs": [],
   "source": [
    "import pandas as pd"
   ]
  },
  {
   "cell_type": "code",
   "execution_count": 2,
   "metadata": {},
   "outputs": [
    {
     "data": {
      "text/plain": [
       "30"
      ]
     },
     "execution_count": 2,
     "metadata": {},
     "output_type": "execute_result"
    }
   ],
   "source": [
    "datasets = [ 'kdd99', 'kdd_dropped', 'creditcardfraud', 'ecoli', 'optical_digits', 'satimage', 'pen_digits', 'abalone', 'sick_euthyroid',\n",
    "              'spectrometer', 'car_eval_34', 'isolet', 'us_crime', 'yeast_ml8', 'scene', 'libras_move', 'thyroid_sick', 'coil_2000',\n",
    "              'arrhythmia', 'solar_flare_m0', 'oil', 'car_eval_4', 'wine_quality', 'letter_img', 'yeast_me2', 'webpage',\n",
    "              'ozone_level', 'mammography', 'protein_homo', 'abalone_19' ]\n",
    "len(datasets)"
   ]
  },
  {
   "cell_type": "code",
   "execution_count": 3,
   "metadata": {},
   "outputs": [],
   "source": [
    "# latex用のため，`_`を`\\_`に置き換え\n",
    "datasets_replaced_ = [c.replace('_', r'\\_') for c in datasets]"
   ]
  },
  {
   "cell_type": "code",
   "execution_count": 7,
   "metadata": {},
   "outputs": [],
   "source": [
    "from visualization.latex_table import LatexTable, MultiColumn"
   ]
  },
  {
   "cell_type": "code",
   "execution_count": 21,
   "metadata": {},
   "outputs": [],
   "source": [
    "_optuna = False\n",
    "_preprocessing = 'none'  # none, ss, nl\n",
    "_ae_preprocessing = 'none'\n",
    "layers = [\n",
    "    [0],\n",
    "    [20, 10, 5],\n",
    "    [20, 15, 10],\n",
    "    [20, 15, 10, 5],\n",
    "]\n",
    "models = [\n",
    "    'Logistic Regression',\n",
    "    'SVM',\n",
    "    'Random Forest',\n",
    "    'LightGBM',\n",
    "    'Multi Perceptron'\n",
    "]\n",
    "mdls = ['lr', 'svm', 'rf', 'lgb', 'mp']\n",
    "used_classes = ['all', 'minority', 'majority']\n",
    "\n",
    "use_model = models[0]\n",
    "use_mdl = mdls[0]\n",
    "use_class = used_classes[0]\n",
    "standardize = False\n",
    "normalize = False\n",
    "ae_standardize = False\n",
    "ae_normalize = False\n",
    "\n",
    "table = LatexTable(\n",
    "    f\"{use_model},Optuna:{_optuna},前処理:{_preprocessing},AE前処理:{_ae_preprocessing}\", \n",
    "    f\"{use_mdl}&optuna-{_optuna}&preprocessing-{_preprocessing}&ae-preprocessing-{_ae_preprocessing}\",\n",
    "    r\"l*{8}{c}\",\n",
    "    column_num=9\n",
    "    )\n"
   ]
  },
  {
   "cell_type": "code",
   "execution_count": 22,
   "metadata": {},
   "outputs": [],
   "source": [
    "from db_query import fetch_latest_record\n",
    "\n",
    "\n",
    "table.add_columns([\"optuna\", MultiColumn(_optuna, 8)])\n",
    "table.add_columns([\"preprocessing\", MultiColumn(_preprocessing, 8)])\n",
    "table.add_columns([\"ae-preprocessing\", MultiColumn(_ae_preprocessing, 8)])\n",
    "table.add_columns([\"layers\", 'none', *layers[1:4], 'none', *layers[1:4]])\n",
    "table.add_hline()\n",
    "table.add_columns(\n",
    "    ['Dataset', MultiColumn('minority F-accuracy', 4),\n",
    "                MultiColumn('macro F-accuracy', 4),])\n",
    "table.add_hline()\n",
    "for i in range(len(datasets)):\n",
    "    dataset = datasets[i]\n",
    "    cols = [datasets_replaced_[i]]\n",
    "    res_minority = []\n",
    "    res_macro = []\n",
    "    for layer in layers:\n",
    "        record = fetch_latest_record({\n",
    "            'dataset.name': dataset,\n",
    "            'dataset.standardization': standardize,\n",
    "            'dataset.normalization': normalize,\n",
    "            'model.name': use_mdl,\n",
    "            'model.optuna': _optuna,\n",
    "            'ae.layers': layer,\n",
    "            'ae.used_class': use_class,\n",
    "            'ae.standardization': ae_standardize,\n",
    "            'ae.normalization': ae_normalize,\n",
    "            },\n",
    "        )\n",
    "        if record is None:\n",
    "            res_minority.append('-')\n",
    "            res_macro.append('-')\n",
    "        else:\n",
    "            res_minority.append(f\"{record['result']['minority']['f1']:.3f}\")\n",
    "            res_macro.append(f\"{record['result']['macro']['f1']:.3f}\")\n",
    "    cols.extend(res_minority)\n",
    "    cols.extend(res_macro)\n",
    "\n",
    "\n",
    "    table.add_columns(cols)\n",
    "cnt = 0\n",
    "with open(f'thesis/tables/table{cnt}.tex', 'w') as f:\n",
    "    cnt += 1\n",
    "    f.write(table.compile())\n"
   ]
  },
  {
   "cell_type": "code",
   "execution_count": null,
   "metadata": {},
   "outputs": [],
   "source": []
  }
 ],
 "metadata": {
  "kernelspec": {
   "display_name": ".venv",
   "language": "python",
   "name": "python3"
  },
  "language_info": {
   "codemirror_mode": {
    "name": "ipython",
    "version": 3
   },
   "file_extension": ".py",
   "mimetype": "text/x-python",
   "name": "python",
   "nbconvert_exporter": "python",
   "pygments_lexer": "ipython3",
   "version": "3.9.6"
  }
 },
 "nbformat": 4,
 "nbformat_minor": 2
}
