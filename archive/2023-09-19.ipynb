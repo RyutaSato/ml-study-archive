{
 "cells": [
  {
   "cell_type": "markdown",
   "source": [
    "第1段階：元の３８個の特徴量から，論文に基づき選択した２５個の特徴量からLightGBMを用いて学習を行い，ハイパーパラメータチューニングを行ったモデルで，テストデータを「異常」と「正常」に分類する．\n",
    "第二段階：選択した２５個の特徴量に加え，選択した2５個の特徴量を用いて作成したオートエンコーダのエンコーダ部分の特徴量5個を合わせた３０個の特徴量からLightGBMを用いて学習を行い，ハイパーパラメータチューニングを行ったモデルで，第1段階で「異常」と判断されたテストデータを4つの異常クラスに分類する．"
   ],
   "metadata": {
    "collapsed": false
   },
   "id": "c250136b05617094"
  },
  {
   "cell_type": "code",
   "execution_count": 4,
   "outputs": [],
   "source": [
    "# import modules\n",
    "import pandas as pd\n",
    "import numpy as np\n",
    "import lightgbm as lgb\n"
   ],
   "metadata": {
    "collapsed": false,
    "ExecuteTime": {
     "end_time": "2023-09-18T17:34:36.924120Z",
     "start_time": "2023-09-18T17:34:36.919495Z"
    }
   },
   "id": "eda6162cf2ed515a"
  },
  {
   "cell_type": "code",
   "execution_count": 5,
   "outputs": [],
   "source": [
    "# model setting\n",
    "\n",
    "# x_test_1st: 選択された25個の特徴量のみのデータセット\n",
    "x_test_1st_path: str = \"models/kdd99_features/x_test-drop_25_df.pkl\"\n",
    "\n",
    "# x_test_2nd: 選択された25個の特徴量とオートエンコーダのエンコーダ部分の特徴量5個を合わせた30個の特徴量のデータセット\n",
    "x_test_2nd_path: str = \"models/kdd99_features/x_test-drop+ae_30_df&activation=relu&epochs=5&batch_size=32.pkl\"\n",
    "\n",
    "# model_1st: 選択された25個の特徴量のみのデータセットを用いて学習を行い，ハイパーパラメータチューニングを行ったモデル\n",
    "model_1st_path: str = \"models/lightgbm/lgb_dropped_25_binary_tuned_booster.model\"\n",
    "\n",
    "# model_2nd: 選択された25個の特徴量とオートエンコーダのエンコーダ部分の特徴量5個を合わせた30個の特徴量のデータセットを用いて学習を行い，ハイパーパラメータチューニングを行ったモデル\n",
    "model_2nd_path: str = \"models/lightgbm/lgb_dropped+ae_30_mapped_anomaly_tuned_booster.model\""
   ],
   "metadata": {
    "collapsed": false,
    "ExecuteTime": {
     "end_time": "2023-09-18T17:34:37.420306Z",
     "start_time": "2023-09-18T17:34:37.417964Z"
    }
   },
   "id": "eca9e6cc2d65c857"
  },
  {
   "cell_type": "code",
   "execution_count": 6,
   "outputs": [],
   "source": [
    "# load data\n",
    "\n",
    "x_test_1st: pd.DataFrame = pd.read_pickle(x_test_1st_path)\n",
    "\n",
    "x_test_2nd: pd.DataFrame = pd.read_pickle(x_test_2nd_path)\n",
    "\n",
    "# y_test: 正常クラス(0)と4つの異常クラス(1,2,3,4)に分類されたデータセット\n",
    "y_test: pd.Series = pd.read_pickle(\"models/kdd99_features/y_test_df.pkl\")\n",
    "\n",
    "# y_test_binary: 1つの正常クラス(0)と4つの異常クラス(1)に分類されたデータセット\n",
    "y_test_binary: pd.Series = y_test.apply(lambda x: 0 if x == 1 else 1)\n",
    "\n",
    "# y_test_anomaly: 4つの異常クラスのみのデータセット\n",
    "y_test_anomaly: pd.Series = pd.read_pickle(\"models/kdd99_features/y_test_dropped_mapped_series.pkl\")\n",
    "\n",
    "# モデルの読み込み\n",
    "model_1st: lgb.Booster = lgb.Booster(model_file=model_1st_path)\n",
    "model_2nd: lgb.Booster = lgb.Booster(model_file=model_2nd_path)"
   ],
   "metadata": {
    "collapsed": false,
    "ExecuteTime": {
     "end_time": "2023-09-18T17:34:38.869703Z",
     "start_time": "2023-09-18T17:34:38.693944Z"
    }
   },
   "id": "c3ae0976beb19fb6"
  },
  {
   "cell_type": "code",
   "execution_count": 7,
   "outputs": [],
   "source": [
    "from sklearn.metrics import confusion_matrix\n",
    "from sklearn.linear_model import LogisticRegression\n",
    "\n",
    "\n",
    "# functions\n",
    "# 第一段階　2値分類\n",
    "def classification_normal_and_anomaly(X: pd.DataFrame, model: LogisticRegression | lgb.Booster) -> pd.Series:\n",
    "    y_pred = model.predict(X)\n",
    "    y_pred = np.round(y_pred).astype(\"int64\")\n",
    "    if len(y_pred.shape) == 2:\n",
    "        y_pred = np.argmax(y_pred, axis=1)\n",
    "    y_pred = pd.Series(y_pred, index=X.index, )\n",
    "    return y_pred\n",
    "\n",
    "\n",
    "# 第二段階　異常データの分類\n",
    "def classification_anomalies(X: pd.DataFrame, model: LogisticRegression | lgb.Booster) -> pd.Series:\n",
    "    y_pred = model.predict(X)\n",
    "    if len(y_pred.shape) == 2:\n",
    "        y_pred = np.argmax(y_pred, axis=1)  # 一番大きい予測確率のクラスを予測クラスに\n",
    "    y_pred = pd.Series(y_pred, index=X.index)\n",
    "    return y_pred\n",
    "\n",
    "\n",
    "# attack_class_labels -> key: class, value: list[label]\n",
    "attack_class_labels = {\n",
    "    'normal': ['normal'],\n",
    "    'dos': ['back', 'land', 'neptune', 'pod', 'smurf', 'teardrop'],\n",
    "    'u2r': ['buffer_overflow', 'loadmodule', 'perl', 'rootkit'],\n",
    "    'r2l': ['ftp_write', 'guess_passwd', 'imap', 'multihop', 'phf', 'spy', 'warezclient', 'warezmaster'],\n",
    "    'probe': ['ipsweep', 'nmap', 'portsweep', 'satan']\n",
    "}\n",
    "\n",
    "# class -> int\n",
    "correspondences = {\n",
    "    'dos': 0,\n",
    "    'normal': 1,\n",
    "    'probe': 2,\n",
    "    'r2l': 3,\n",
    "    'u2r': 4\n",
    "}\n",
    "\n",
    "swapped_correspondences = {v: k for k, v in correspondences.items()}\n",
    "\n",
    "correspondences_anomaly = {\n",
    "    'dos': 0,\n",
    "    'probe': 1,\n",
    "    'r2l': 2,\n",
    "    'u2r': 3\n",
    "}\n",
    "\n",
    "ignore_columns = [\"hot\", \"num_compromised\", \"num_file_creations\", \"num_outbound_cmds\", \"is_host_login\", \"srv_count\",\n",
    "                  \"srv_serror_rate\", \"same_srv_rate\", \"srv_diff_host_rate\", \"dst_host_count\", \"dst_host_srv_count\",\n",
    "                  \"dst_host_diff_srv_rate\"]\n",
    "\n",
    "\n",
    "wrapper = {0: 0, 1: 2, 2: 3, 3: 4}\n",
    "\n",
    "# attack_class_label -> key: label, value: class\n",
    "attack_label_class = {}\n",
    "for c, labels in attack_class_labels.items():\n",
    "    for label in labels:\n",
    "        attack_label_class[label] = c\n",
    "\n",
    "def confusion_matrix_df(y_true, y_pred, labels=correspondences.keys()):\n",
    "\n",
    "    return pd.DataFrame(confusion_matrix(y_true, y_pred),\n",
    "                        index=[\"true_\" + label for label in labels],\n",
    "                        columns=labels)\n"
   ],
   "metadata": {
    "collapsed": false,
    "ExecuteTime": {
     "end_time": "2023-09-18T18:31:26.171378Z",
     "start_time": "2023-09-18T18:31:26.109282Z"
    }
   },
   "id": "ac2bf5f99aff275f"
  },
  {
   "cell_type": "code",
   "execution_count": 11,
   "outputs": [
    {
     "data": {
      "text/plain": "              normal  anomaly\ntrue_normal    32087       15\ntrue_anomaly      24   130901",
      "text/html": "<div>\n<style scoped>\n    .dataframe tbody tr th:only-of-type {\n        vertical-align: middle;\n    }\n\n    .dataframe tbody tr th {\n        vertical-align: top;\n    }\n\n    .dataframe thead th {\n        text-align: right;\n    }\n</style>\n<table border=\"1\" class=\"dataframe\">\n  <thead>\n    <tr style=\"text-align: right;\">\n      <th></th>\n      <th>normal</th>\n      <th>anomaly</th>\n    </tr>\n  </thead>\n  <tbody>\n    <tr>\n      <th>true_normal</th>\n      <td>32087</td>\n      <td>15</td>\n    </tr>\n    <tr>\n      <th>true_anomaly</th>\n      <td>24</td>\n      <td>130901</td>\n    </tr>\n  </tbody>\n</table>\n</div>"
     },
     "execution_count": 11,
     "metadata": {},
     "output_type": "execute_result"
    }
   ],
   "source": [
    " # 第1段階: 正常と異常の2値分類\n",
    "y_pred_binary:pd.Series = classification_normal_and_anomaly(x_test_1st, model_1st)\n",
    "predicted_indexes = y_pred_binary[y_pred_binary == 1].index\n",
    "\n",
    "y_pred_normal: pd.Series = y_pred_binary[y_pred_binary == 0].apply(lambda _: 1)\n",
    "\n",
    "cm_1st = confusion_matrix_df(y_test_binary.sort_index(), y_pred_binary.sort_index(), labels=['normal', 'anomaly'])\n",
    "cm_1st"
   ],
   "metadata": {
    "collapsed": false,
    "ExecuteTime": {
     "end_time": "2023-09-18T18:32:28.994259Z",
     "start_time": "2023-09-18T18:32:28.719992Z"
    }
   },
   "id": "87514f964bed2315"
  },
  {
   "cell_type": "code",
   "execution_count": 12,
   "outputs": [
    {
     "data": {
      "text/plain": "                dos  normal  probe  r2l  u2r\ntrue_dos     129177       4      0    0    0\ntrue_normal       5   32087      7    1    2\ntrue_probe        3       8   1344    0    0\ntrue_r2l          1       5      1  361    4\ntrue_u2r          0       7      0    0   10",
      "text/html": "<div>\n<style scoped>\n    .dataframe tbody tr th:only-of-type {\n        vertical-align: middle;\n    }\n\n    .dataframe tbody tr th {\n        vertical-align: top;\n    }\n\n    .dataframe thead th {\n        text-align: right;\n    }\n</style>\n<table border=\"1\" class=\"dataframe\">\n  <thead>\n    <tr style=\"text-align: right;\">\n      <th></th>\n      <th>dos</th>\n      <th>normal</th>\n      <th>probe</th>\n      <th>r2l</th>\n      <th>u2r</th>\n    </tr>\n  </thead>\n  <tbody>\n    <tr>\n      <th>true_dos</th>\n      <td>129177</td>\n      <td>4</td>\n      <td>0</td>\n      <td>0</td>\n      <td>0</td>\n    </tr>\n    <tr>\n      <th>true_normal</th>\n      <td>5</td>\n      <td>32087</td>\n      <td>7</td>\n      <td>1</td>\n      <td>2</td>\n    </tr>\n    <tr>\n      <th>true_probe</th>\n      <td>3</td>\n      <td>8</td>\n      <td>1344</td>\n      <td>0</td>\n      <td>0</td>\n    </tr>\n    <tr>\n      <th>true_r2l</th>\n      <td>1</td>\n      <td>5</td>\n      <td>1</td>\n      <td>361</td>\n      <td>4</td>\n    </tr>\n    <tr>\n      <th>true_u2r</th>\n      <td>0</td>\n      <td>7</td>\n      <td>0</td>\n      <td>0</td>\n      <td>10</td>\n    </tr>\n  </tbody>\n</table>\n</div>"
     },
     "execution_count": 12,
     "metadata": {},
     "output_type": "execute_result"
    }
   ],
   "source": [
    "# 第二段階；異常の分類\n",
    "x_anomalies: pd.DataFrame = x_test_2nd.loc[predicted_indexes]\n",
    "y_pred_anomalies: pd.Series = classification_anomalies(x_anomalies, model_2nd)\n",
    "y_pred_anomalies = y_pred_anomalies.apply(lambda x: wrapper[x])\n",
    "# print(f\"{y_pred_anomalies.value_counts()}\")\n",
    "\n",
    "y_pred = pd.concat([y_pred_normal, y_pred_anomalies])\n",
    "cm_2nd = confusion_matrix_df(y_test.sort_index(), y_pred.sort_index())\n",
    "\n",
    "swapped_correspondences = {v: k for k, v in correspondences.items()}\n",
    "y_pred_value_counts = y_pred.value_counts()\n",
    "y_pred_value_counts.index = y_pred_value_counts.index.map(lambda x: swapped_correspondences[x])\n",
    "cm_2nd"
   ],
   "metadata": {
    "collapsed": false,
    "ExecuteTime": {
     "end_time": "2023-09-18T18:32:40.213920Z",
     "start_time": "2023-09-18T18:32:39.546754Z"
    }
   },
   "id": "f8afae3d25fc39e1"
  },
  {
   "cell_type": "code",
   "execution_count": 19,
   "outputs": [
    {
     "name": "stdout",
     "output_type": "stream",
     "text": [
      "              precision    recall  f1-score   support\n",
      "\n",
      "           0       1.00      1.00      1.00    129181\n",
      "           1       1.00      1.00      1.00     32102\n",
      "           2       0.99      0.99      0.99      1355\n",
      "           3       1.00      0.97      0.98       372\n",
      "           4       0.62      0.59      0.61        17\n",
      "\n",
      "    accuracy                           1.00    163027\n",
      "   macro avg       0.92      0.91      0.92    163027\n",
      "weighted avg       1.00      1.00      1.00    163027\n",
      "\n",
      "              precision    recall  f1-score   support\n",
      "\n",
      "         dos       1.00      1.00      1.00    129181\n",
      "      normal       1.00      1.00      1.00     32102\n",
      "       probe       0.99      0.99      0.99      1355\n",
      "         r2l       1.00      0.97      0.98       372\n",
      "         u2r       0.62      0.59      0.61        17\n",
      "\n",
      "    accuracy                           1.00    163027\n",
      "   macro avg       0.92      0.91      0.92    163027\n",
      "weighted avg       1.00      1.00      1.00    163027\n"
     ]
    }
   ],
   "source": [
    "from sklearn.metrics import classification_report\n",
    "print(classification_report(y_test.sort_index(), y_pred.sort_index()))\n",
    "print(classification_report(y_test.sort_index(), y_pred.sort_index(), target_names=correspondences.keys()))"
   ],
   "metadata": {
    "collapsed": false,
    "ExecuteTime": {
     "end_time": "2023-09-18T18:36:54.191722Z",
     "start_time": "2023-09-18T18:36:53.950979Z"
    }
   },
   "id": "1f6bf039b9bbd255"
  },
  {
   "cell_type": "markdown",
   "source": [],
   "metadata": {
    "collapsed": false
   },
   "id": "3a7bd2e75f5c2c68"
  },
  {
   "cell_type": "code",
   "execution_count": 10,
   "id": "initial_id",
   "metadata": {
    "collapsed": true,
    "ExecuteTime": {
     "end_time": "2023-09-18T18:31:52.493593Z",
     "start_time": "2023-09-18T18:31:52.483381Z"
    }
   },
   "outputs": [
    {
     "data": {
      "text/plain": "dos       129186\nnormal     32111\nprobe       1352\nr2l          362\nu2r           16\ndtype: int64"
     },
     "execution_count": 10,
     "metadata": {},
     "output_type": "execute_result"
    }
   ],
   "source": [
    "y_pred_value_counts"
   ]
  },
  {
   "cell_type": "code",
   "execution_count": null,
   "outputs": [],
   "source": [],
   "metadata": {
    "collapsed": false
   },
   "id": "467a9b8cfb7c834c"
  }
 ],
 "metadata": {
  "kernelspec": {
   "display_name": "Python 3",
   "language": "python",
   "name": "python3"
  },
  "language_info": {
   "codemirror_mode": {
    "name": "ipython",
    "version": 2
   },
   "file_extension": ".py",
   "mimetype": "text/x-python",
   "name": "python",
   "nbconvert_exporter": "python",
   "pygments_lexer": "ipython2",
   "version": "2.7.6"
  }
 },
 "nbformat": 4,
 "nbformat_minor": 5
}
