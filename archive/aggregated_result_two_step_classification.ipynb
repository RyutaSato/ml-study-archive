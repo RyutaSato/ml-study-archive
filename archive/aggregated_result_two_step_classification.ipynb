{
 "cells": [
  {
   "cell_type": "code",
   "execution_count": 59,
   "metadata": {
    "collapsed": true,
    "ExecuteTime": {
     "end_time": "2023-09-20T04:05:43.744786Z",
     "start_time": "2023-09-20T04:05:43.743489Z"
    }
   },
   "outputs": [
    {
     "name": "stdout",
     "output_type": "stream",
     "text": [
      "ran:  2023-09-20 13:05:43.739514\n",
      "python:      3.10.11\n",
      "sklearn:     1.2.2\n",
      "tensorflow:  2.12.0\n",
      "keras:       2.12.0\n",
      "numpy:       1.23.5\n",
      "pandas:      1.5.3\n"
     ]
    }
   ],
   "source": [
    "from two_step_classification import *\n",
    "print_version()"
   ]
  },
  {
   "cell_type": "code",
   "execution_count": 60,
   "outputs": [],
   "source": [
    "results: list[dict[str, ]] = []"
   ],
   "metadata": {
    "collapsed": false,
    "ExecuteTime": {
     "end_time": "2023-09-20T04:05:43.763880Z",
     "start_time": "2023-09-20T04:05:43.763189Z"
    }
   }
  },
  {
   "cell_type": "code",
   "execution_count": 61,
   "outputs": [],
   "source": [
    "# load data\n",
    "data_paths = [\"models/kdd99_features/x_test_df.pkl\",\n",
    "              \"models/kdd99_features/x_test-drop_25_df.pkl\",\n",
    "              \"models/kdd99_features/x_test-drop+ae_30_df&activation=relu&epochs=5&batch_size=32.pkl\",\n",
    "              \"models/kdd99_features/x_test-drop+ae_35_df&activation=relu&epochs=5&batch_size=32.pkl\",\n",
    "              \"models/kdd99_features/x_test-drop+ae_40_df&activation=relu&epochs=5&batch_size=32.pkl\",\n",
    "              \"models/kdd99_features/x_test+ae_43_df&activation=relu&epochs=5&batch_size=32.pkl\",\n",
    "              \"models/kdd99_features/x_test+ae_48_df&activation=relu&epochs=5&batch_size=32.pkl\",\n",
    "              ]\n",
    "lgb_binary_paths = [\"models/lightgbm/lgb_binary_tuned_booster.model\",\n",
    "                    \"models/lightgbm/lgb_dropped_25_binary_tuned_booster.model\",\n",
    "                    \"models/lightgbm/lgb_dropped+ae_30_binary_tuned_booster.model\",\n",
    "                    \"models/lightgbm/lgb_dropped+ae_35_binary_tuned_booster.model\",\n",
    "                    \"models/lightgbm/lgb_dropped+ae_40_binary_tuned_booster.model\",\n",
    "                    \"models/lightgbm/lgb+ae_43_binary_tuned_booster.model\",\n",
    "                    \"models/lightgbm/lgb+ae_48_binary_tuned_booster.model\",\n",
    "                    ]\n",
    "lgb_anomaly_paths = [\"models/lightgbm/lgb_mapped_anomaly_tuned_booster.model\",\n",
    "                    \"models/lightgbm/lgb_dropped_25_mapped_anomaly_tuned_booster.model\",\n",
    "                    \"models/lightgbm/lgb_dropped+ae_30_mapped_anomaly_tuned_booster.model\",\n",
    "                    \"models/lightgbm/lgb_dropped+ae_35_mapped_anomaly_tuned_booster.model\",\n",
    "                    \"models/lightgbm/lgb_dropped+ae_40_mapped_anomaly_tuned_booster.model\",\n",
    "                    \"models/lightgbm/lgb+ae_43_mapped_anomaly_tuned_booster.model\",\n",
    "                    \"models/lightgbm/lgb+ae_48_mapped_anomaly_tuned_booster.model\",]\n",
    "\n"
   ],
   "metadata": {
    "collapsed": false,
    "ExecuteTime": {
     "end_time": "2023-09-20T04:05:43.763953Z",
     "start_time": "2023-09-20T04:05:43.763386Z"
    }
   }
  },
  {
   "cell_type": "code",
   "execution_count": 93,
   "outputs": [],
   "source": [
    "# y_test: pd.Series = pd.read_pickle(\"models/kdd99_features/y_test_df.pkl\")\n",
    "# y_test_binary: pd.Series = y_test.apply(lambda x: 0 if x == 1 else 1)\n",
    "# y_test_anomaly: pd.Series = pd.read_pickle(\"models/kdd99_features/y_test_dropped_mapped_series.pkl\")\n",
    "\n",
    "def predict(x_path: str, path_1st: str, path_2nd: str):\n",
    "    \"\"\"\n",
    "    2段階分類の予測を行う\n",
    "    Args:\n",
    "        x_path: 検証データのパス\n",
    "        path_1st: 第1段階のモデルのパス\n",
    "        path_2nd: 第二段階のモデルのパス\n",
    "\n",
    "    Returns: \n",
    "        \n",
    "\n",
    "    \"\"\"\n",
    "    y_test: pd.Series = pd.read_pickle(\"models/kdd99_features/y_test_df.pkl\")\n",
    "    y_test_binary: pd.Series = y_test.apply(lambda x: 0 if x == 1 else 1)\n",
    "    # y_test_anomaly: pd.Series = pd.read_pickle(\"models/kdd99_features/y_test_dropped_mapped_series.pkl\")\n",
    "    x_test = pd.read_pickle(x_path)\n",
    "    model_1st: lgb.Booster = lgb.Booster(model_file=path_1st)\n",
    "    model_2nd: lgb.Booster = lgb.Booster(model_file=path_2nd)\n",
    "    \n",
    "    # 第1段階: 正常と異常の2値分類\n",
    "    y_pred_binary:pd.Series = classification_normal_and_anomaly(x_test, model_1st)\n",
    "    predicted_indexes = y_pred_binary[y_pred_binary == 1].index\n",
    "    \n",
    "    y_pred_normal: pd.Series = y_pred_binary[y_pred_binary == 0].apply(lambda _: 1)\n",
    "    \n",
    "    cm_1st = confusion_matrix_df(y_test_binary.sort_index(), y_pred_binary.sort_index(), labels=['normal', 'anomaly'])\n",
    "    \n",
    "    # 第二段階；異常の分類\n",
    "    x_anomalies: pd.DataFrame = x_test.loc[predicted_indexes]\n",
    "    y_pred_anomalies: pd.Series = classification_anomalies(x_anomalies, model_2nd)\n",
    "    y_pred_anomalies = y_pred_anomalies.apply(lambda x: wrapper[x])\n",
    "    # print(f\"{y_pred_anomalies.value_counts()}\")\n",
    "    \n",
    "    y_pred = pd.concat([y_pred_normal, y_pred_anomalies])\n",
    "    cm_2nd = confusion_matrix_df(y_test.sort_index(), y_pred.sort_index())\n",
    "    \n",
    "    swapped_correspondences = {v: k for k, v in correspondences.items()}\n",
    "    y_pred_value_counts = y_pred.value_counts()\n",
    "    y_pred_value_counts.index = y_pred_value_counts.index.map(lambda x: swapped_correspondences[x])\n",
    "    # print(y_pred_value_counts)\n",
    "    \n",
    "    # y_pred_binary = classification_normal_and_anomaly(x_test, model_1st)\n",
    "    # predicted_indexes = y_pred_binary[y_pred_binary == 1].index\n",
    "    # x_anomalies = x_test.loc[predicted_indexes]\n",
    "    # y_pred_anomalies: pd.Series = classification_anomalies(x_anomalies, model_2nd)\n",
    "    # # y_pred_anomalies = y_pred_anomalies.apply(lambda x: wrapper[x])\n",
    "    # y_pred_normal: pd.Series = y_pred_binary[y_pred_binary == 0].apply(lambda _: 1)\n",
    "    # y_pred = pd.concat([y_pred_normal, y_pred_anomalies])\n",
    "    # \n",
    "    # y_test_binary = y_test.apply(lambda x: 0 if x == 1 else 1)\n",
    "    # \n",
    "    # cm_1st = confusion_matrix_df(y_test_binary.sort_index(), y_pred_binary.sort_index(), labels=['normal', 'anomaly'])\n",
    "    # \n",
    "    # cm_2nd = confusion_matrix_df(y_test.sort_index(), y_pred.sort_index())\n",
    "    print(f\"実行結果\")\n",
    "    print(f\"x_test {x_path}\")\n",
    "    print(f\"y_test models/kdd99_features/y_test_df.pkl\")\n",
    "    print(f\"第1分類モデル {path_1st}\")\n",
    "    print(f\"第2分類モデル {path_2nd}\")\n",
    "    report = pd.DataFrame(classification_report(y_test.sort_index(), y_pred.sort_index(), target_names=correspondences.keys(), output_dict=True)).T.reindex(index=['normal', 'dos', 'probe', 'r2l', 'u2r', 'accuracy', 'macro avg',\n",
    "       'weighted avg'])\n",
    "    # print(classification_report(y_test.sort_index(), y_pred.sort_index(), target_names=correspondences.keys()))\n",
    "    print(report)\n",
    "    print(cm_1st)\n",
    "    cm_2nd = cm_2nd.reindex(index=['true_normal', 'true_dos', 'true_probe', 'true_r2l', 'true_u2r'], columns=['normal', 'dos', 'probe', 'r2l', 'u2r'])\n",
    "    print(cm_2nd)\n",
    "    return cm_2nd['u2r']['true_u2r'] / cm_2nd.loc['true_u2r'].sum()"
   ],
   "metadata": {
    "collapsed": false,
    "ExecuteTime": {
     "end_time": "2023-09-20T05:10:50.925545Z",
     "start_time": "2023-09-20T05:10:50.910179Z"
    }
   }
  },
  {
   "cell_type": "code",
   "execution_count": 94,
   "outputs": [
    {
     "name": "stdout",
     "output_type": "stream",
     "text": [
      "実行結果\n",
      "x_test models/kdd99_features/x_test_df.pkl\n",
      "y_test models/kdd99_features/y_test_df.pkl\n",
      "第1分類モデル models/lightgbm/lgb_binary_tuned_booster.model\n",
      "第2分類モデル models/lightgbm/lgb_mapped_anomaly_tuned_booster.model\n",
      "              precision    recall  f1-score        support\n",
      "normal         0.999128  0.999595  0.999362   32102.000000\n",
      "dos            0.999989  0.724658  0.840346  129181.000000\n",
      "probe          0.036225  0.986716  0.069885    1355.000000\n",
      "r2l            0.975275  0.954301  0.964674     372.000000\n",
      "u2r            0.400000  0.588235  0.476190      17.000000\n",
      "accuracy       0.781484  0.781484  0.781484       0.781484\n",
      "macro avg      0.682123  0.850701  0.670091  163027.000000\n",
      "weighted avg   0.991690  0.781484  0.865500  163027.000000\n",
      "              normal  anomaly\n",
      "true_normal    32089       13\n",
      "true_anomaly      28   130897\n",
      "             normal    dos  probe  r2l  u2r\n",
      "true_normal   32089      1      7    4    1\n",
      "true_dos          5  93612  35562    1    1\n",
      "true_probe       10      0   1337    4    4\n",
      "true_r2l          6      0      2  355    9\n",
      "true_u2r          7      0      0    0   10\n"
     ]
    }
   ],
   "source": [
    "report = predict(data_paths[0], lgb_binary_paths[0], lgb_anomaly_paths[0])\n"
   ],
   "metadata": {
    "collapsed": false,
    "ExecuteTime": {
     "end_time": "2023-09-20T05:10:52.277814Z",
     "start_time": "2023-09-20T05:10:51.722941Z"
    }
   }
  },
  {
   "cell_type": "code",
   "execution_count": 95,
   "outputs": [
    {
     "name": "stdout",
     "output_type": "stream",
     "text": [
      "実行結果\n",
      "x_test models/kdd99_features/x_test_df.pkl\n",
      "y_test models/kdd99_features/y_test_df.pkl\n",
      "第1分類モデル models/lightgbm/lgb_binary_tuned_booster.model\n",
      "第2分類モデル models/lightgbm/lgb_mapped_anomaly_tuned_booster.model\n",
      "              precision    recall  f1-score        support\n",
      "normal         0.999128  0.999595  0.999362   32102.000000\n",
      "dos            0.999989  0.724658  0.840346  129181.000000\n",
      "probe          0.036225  0.986716  0.069885    1355.000000\n",
      "r2l            0.975275  0.954301  0.964674     372.000000\n",
      "u2r            0.400000  0.588235  0.476190      17.000000\n",
      "accuracy       0.781484  0.781484  0.781484       0.781484\n",
      "macro avg      0.682123  0.850701  0.670091  163027.000000\n",
      "weighted avg   0.991690  0.781484  0.865500  163027.000000\n",
      "              normal  anomaly\n",
      "true_normal    32089       13\n",
      "true_anomaly      28   130897\n",
      "             normal    dos  probe  r2l  u2r\n",
      "true_normal   32089      1      7    4    1\n",
      "true_dos          5  93612  35562    1    1\n",
      "true_probe       10      0   1337    4    4\n",
      "true_r2l          6      0      2  355    9\n",
      "true_u2r          7      0      0    0   10\n",
      "実行結果\n",
      "x_test models/kdd99_features/x_test-drop_25_df.pkl\n",
      "y_test models/kdd99_features/y_test_df.pkl\n",
      "第1分類モデル models/lightgbm/lgb_dropped_25_binary_tuned_booster.model\n",
      "第2分類モデル models/lightgbm/lgb_dropped_25_mapped_anomaly_tuned_booster.model\n",
      "              precision    recall  f1-score        support\n",
      "normal         0.999253  0.999533  0.999393   32102.000000\n",
      "dos            0.999923  0.999946  0.999934  129181.000000\n",
      "probe          0.994087  0.992620  0.993353    1355.000000\n",
      "r2l            0.988950  0.962366  0.975477     372.000000\n",
      "u2r            0.588235  0.588235  0.588235      17.000000\n",
      "accuracy       0.999675  0.999675  0.999675       0.999675\n",
      "macro avg      0.914090  0.908540  0.911278  163027.000000\n",
      "weighted avg   0.999674  0.999675  0.999674  163027.000000\n",
      "              normal  anomaly\n",
      "true_normal    32087       15\n",
      "true_anomaly      24   130901\n",
      "             normal     dos  probe  r2l  u2r\n",
      "true_normal   32087       5      5    4    1\n",
      "true_dos          4  129174      0    0    3\n",
      "true_probe        8       2   1345    0    0\n",
      "true_r2l          5       3      3  358    3\n",
      "true_u2r          7       0      0    0   10\n",
      "実行結果\n",
      "x_test models/kdd99_features/x_test-drop+ae_30_df&activation=relu&epochs=5&batch_size=32.pkl\n",
      "y_test models/kdd99_features/y_test_df.pkl\n",
      "第1分類モデル models/lightgbm/lgb_dropped+ae_30_binary_tuned_booster.model\n",
      "第2分類モデル models/lightgbm/lgb_dropped+ae_30_mapped_anomaly_tuned_booster.model\n",
      "              precision    recall  f1-score        support\n",
      "normal         0.995990  0.951716  0.973350   32102.000000\n",
      "dos            0.995070  0.999938  0.997498  129181.000000\n",
      "probe          0.628505  0.992620  0.769671    1355.000000\n",
      "r2l            0.935943  0.706989  0.805513     372.000000\n",
      "u2r            0.101695  0.705882  0.177778      17.000000\n",
      "accuracy       0.989683  0.989683  0.989683       0.989683\n",
      "macro avg      0.731441  0.871429  0.744762  163027.000000\n",
      "weighted avg   0.991976  0.989683  0.990326  163027.000000\n",
      "              normal  anomaly\n",
      "true_normal    30552     1550\n",
      "true_anomaly     123   130802\n",
      "             normal     dos  probe  r2l  u2r\n",
      "true_normal   30552     637    793   18  102\n",
      "true_dos          7  129173      1    0    0\n",
      "true_probe        8       2   1345    0    0\n",
      "true_r2l        103       1      1  263    4\n",
      "true_u2r          5       0      0    0   12\n",
      "実行結果\n",
      "x_test models/kdd99_features/x_test-drop+ae_35_df&activation=relu&epochs=5&batch_size=32.pkl\n",
      "y_test models/kdd99_features/y_test_df.pkl\n",
      "第1分類モデル models/lightgbm/lgb_dropped+ae_35_binary_tuned_booster.model\n",
      "第2分類モデル models/lightgbm/lgb_dropped+ae_35_mapped_anomaly_tuned_booster.model\n",
      "              precision    recall  f1-score       support\n",
      "normal         0.994588  0.996137  0.995362   32102.00000\n",
      "dos            0.999335  0.999737  0.999536  129181.00000\n",
      "probe          0.973875  0.990406  0.982071    1355.00000\n",
      "r2l            0.979508  0.642473  0.775974     372.00000\n",
      "u2r            0.400000  0.470588  0.432432      17.00000\n",
      "accuracy       0.998080  0.998080  0.998080       0.99808\n",
      "macro avg      0.869461  0.819868  0.837075  163027.00000\n",
      "weighted avg   0.998081  0.998080  0.997999  163027.00000\n",
      "              normal  anomaly\n",
      "true_normal    31978      124\n",
      "true_anomaly     174   130751\n",
      "             normal     dos  probe  r2l  u2r\n",
      "true_normal   31978      81     31    5    7\n",
      "true_dos         29  129147      3    0    2\n",
      "true_probe        9       3   1342    0    1\n",
      "true_r2l        128       2      1  239    2\n",
      "true_u2r          8       0      1    0    8\n",
      "実行結果\n",
      "x_test models/kdd99_features/x_test-drop+ae_40_df&activation=relu&epochs=5&batch_size=32.pkl\n",
      "y_test models/kdd99_features/y_test_df.pkl\n",
      "第1分類モデル models/lightgbm/lgb_dropped+ae_40_binary_tuned_booster.model\n",
      "第2分類モデル models/lightgbm/lgb_dropped+ae_40_mapped_anomaly_tuned_booster.model\n",
      "              precision    recall  f1-score        support\n",
      "normal         0.996438  0.932372  0.963341   32102.000000\n",
      "dos            0.998477  0.999985  0.999230  129181.000000\n",
      "probe          0.408622  0.993358  0.579049    1355.000000\n",
      "r2l            0.881579  0.720430  0.792899     372.000000\n",
      "u2r            0.666667  0.588235  0.625000      17.000000\n",
      "accuracy       0.985935  0.985935  0.985935       0.985935\n",
      "macro avg      0.790357  0.846876  0.791904  163027.000000\n",
      "weighted avg   0.992872  0.985935  0.988161  163027.000000\n",
      "              normal  anomaly\n",
      "true_normal    29931     2171\n",
      "true_anomaly     107   130818\n",
      "             normal     dos  probe  r2l  u2r\n",
      "true_normal   29931     191   1942   35    3\n",
      "true_dos          1  129179      1    0    0\n",
      "true_probe        5       3   1346    1    0\n",
      "true_r2l         95       3      4  268    2\n",
      "true_u2r          6       0      1    0   10\n",
      "実行結果\n",
      "x_test models/kdd99_features/x_test+ae_43_df&activation=relu&epochs=5&batch_size=32.pkl\n",
      "y_test models/kdd99_features/y_test_df.pkl\n",
      "第1分類モデル models/lightgbm/lgb+ae_43_binary_tuned_booster.model\n",
      "第2分類モデル models/lightgbm/lgb+ae_43_mapped_anomaly_tuned_booster.model\n",
      "              precision    recall  f1-score        support\n",
      "normal         0.999221  0.999533  0.999377   32102.000000\n",
      "dos            0.999946  0.999961  0.999954  129181.000000\n",
      "probe          0.993363  0.994096  0.993729    1355.000000\n",
      "r2l            0.988950  0.962366  0.975477     372.000000\n",
      "u2r            0.714286  0.588235  0.645161      17.000000\n",
      "accuracy       0.999699  0.999699  0.999699       0.999699\n",
      "macro avg      0.939153  0.908838  0.922740  163027.000000\n",
      "weighted avg   0.999694  0.999699  0.999695  163027.000000\n",
      "              normal  anomaly\n",
      "true_normal    32087       15\n",
      "true_anomaly      25   130900\n",
      "             normal     dos  probe  r2l  u2r\n",
      "true_normal   32087       4      6    4    1\n",
      "true_dos          5  129176      0    0    0\n",
      "true_probe        7       0   1347    0    1\n",
      "true_r2l          6       3      3  358    2\n",
      "true_u2r          7       0      0    0   10\n",
      "実行結果\n",
      "x_test models/kdd99_features/x_test+ae_48_df&activation=relu&epochs=5&batch_size=32.pkl\n",
      "y_test models/kdd99_features/y_test_df.pkl\n",
      "第1分類モデル models/lightgbm/lgb+ae_48_binary_tuned_booster.model\n",
      "第2分類モデル models/lightgbm/lgb+ae_48_mapped_anomaly_tuned_booster.model\n",
      "              precision    recall  f1-score       support\n",
      "normal         0.999284  0.999502  0.999393   32102.00000\n",
      "dos            0.998422  0.999419  0.998921  129181.00000\n",
      "probe          0.966073  0.840590  0.898974    1355.00000\n",
      "r2l            0.811005  0.911290  0.858228     372.00000\n",
      "u2r            0.000000  0.000000  0.000000      17.00000\n",
      "accuracy       0.997810  0.997810  0.997810       0.99781\n",
      "macro avg      0.754957  0.750160  0.751103  163027.00000\n",
      "weighted avg   0.997791  0.997810  0.997758  163027.00000\n",
      "              normal  anomaly\n",
      "true_normal    32086       16\n",
      "true_anomaly      23   130902\n",
      "             normal     dos  probe  r2l  u2r\n",
      "true_normal   32086       5      3    8    0\n",
      "true_dos          4  129106     36   29    6\n",
      "true_probe        7     172   1139   37    0\n",
      "true_r2l          6      22      0  339    5\n",
      "true_u2r          6       5      1    5    0\n"
     ]
    },
    {
     "data": {
      "text/plain": "{'models/kdd99_features/x_test_df.pkl': 0.5882352941176471,\n 'models/kdd99_features/x_test-drop_25_df.pkl': 0.5882352941176471,\n 'models/kdd99_features/x_test-drop+ae_30_df&activation=relu&epochs=5&batch_size=32.pkl': 0.7058823529411765,\n 'models/kdd99_features/x_test-drop+ae_35_df&activation=relu&epochs=5&batch_size=32.pkl': 0.47058823529411764,\n 'models/kdd99_features/x_test-drop+ae_40_df&activation=relu&epochs=5&batch_size=32.pkl': 0.5882352941176471,\n 'models/kdd99_features/x_test+ae_43_df&activation=relu&epochs=5&batch_size=32.pkl': 0.5882352941176471,\n 'models/kdd99_features/x_test+ae_48_df&activation=relu&epochs=5&batch_size=32.pkl': 0.0}"
     },
     "execution_count": 95,
     "metadata": {},
     "output_type": "execute_result"
    }
   ],
   "source": [
    "results = {}\n",
    "for i in range(7):\n",
    "    results[data_paths[i]] = predict(data_paths[i], lgb_binary_paths[i], lgb_anomaly_paths[i])\n",
    "results"
   ],
   "metadata": {
    "collapsed": false,
    "ExecuteTime": {
     "end_time": "2023-09-20T05:11:19.237169Z",
     "start_time": "2023-09-20T05:11:14.921363Z"
    }
   }
  },
  {
   "cell_type": "code",
   "execution_count": 65,
   "outputs": [
    {
     "name": "stdout",
     "output_type": "stream",
     "text": [
      "1    130916\n",
      "0     32111\n",
      "dtype: int64\n",
      "実行結果：models/kdd99_features/x_test-drop+ae_30_df&activation=relu&epochs=5&batch_size=32.pkl\n",
      "第1分類モデル：models/lightgbm/lgb_dropped_25_binary_tuned_booster.model\n",
      "第2分類モデル：models/lightgbm/lgb_dropped+ae_30_mapped_anomaly_tuned_booster.model\n",
      "              precision    recall  f1-score   support\n",
      "\n",
      "           0       1.00      1.00      1.00    129181\n",
      "           1       1.00      1.00      1.00     32102\n",
      "           2       0.99      0.99      0.99      1355\n",
      "           3       1.00      0.97      0.98       372\n",
      "           4       0.62      0.59      0.61        17\n",
      "\n",
      "    accuracy                           1.00    163027\n",
      "   macro avg       0.92      0.91      0.92    163027\n",
      "weighted avg       1.00      1.00      1.00    163027\n",
      "\n",
      "              normal  anomaly\n",
      "true_normal    32087       15\n",
      "true_anomaly      24   130901\n"
     ]
    },
    {
     "data": {
      "text/plain": "1.0"
     },
     "execution_count": 65,
     "metadata": {},
     "output_type": "execute_result"
    }
   ],
   "source": [
    "x_path = \"models/kdd99_features/x_test-drop_25_df.pkl\"\n",
    "x_test = pd.read_pickle(x_path)\n",
    "path_1st = \"models/lightgbm/lgb_dropped_25_binary_tuned_booster.model\"\n",
    "path_2nd = \"models/lightgbm/lgb_dropped+ae_30_mapped_anomaly_tuned_booster.model\"\n",
    "y_test: pd.Series = pd.read_pickle(\"models/kdd99_features/y_test_df.pkl\")\n",
    "y_test_binary: pd.Series = y_test.apply(lambda x: 0 if x == 1 else 1)\n",
    "y_test_anomaly: pd.Series = pd.read_pickle(\"models/kdd99_features/y_test_dropped_mapped_series.pkl\")\n",
    "model_1st: lgb.Booster = lgb.Booster(model_file=path_1st)\n",
    "model_2nd: lgb.Booster = lgb.Booster(model_file=path_2nd)\n",
    "\n",
    "# 第1段階: 正常と異常の2値分類\n",
    "y_pred_binary:pd.Series = classification_normal_and_anomaly(x_test, model_1st)\n",
    "predicted_indexes = y_pred_binary[y_pred_binary == 1].index\n",
    "print(f\"{y_pred_binary.value_counts()}\")\n",
    "\n",
    "y_pred_normal: pd.Series = y_pred_binary[y_pred_binary == 0].apply(lambda _: 1)\n",
    "\n",
    "cm_1st = confusion_matrix_df(y_test_binary.sort_index(), y_pred_binary.sort_index(), labels=['normal', 'anomaly'])\n",
    "\n",
    "# 第二段階\n",
    "x_path = \"models/kdd99_features/x_test-drop+ae_30_df&activation=relu&epochs=5&batch_size=32.pkl\"\n",
    "x_test = pd.read_pickle(x_path)\n",
    "\n",
    "x_anomalies: pd.DataFrame = x_test.loc[predicted_indexes]\n",
    "y_pred_anomalies: pd.Series = classification_anomalies(x_anomalies, model_2nd)\n",
    "y_pred_anomalies = y_pred_anomalies.apply(lambda x: wrapper[x])\n",
    "# print(f\"{y_pred_anomalies.value_counts()}\")\n",
    "\n",
    "y_pred = pd.concat([y_pred_normal, y_pred_anomalies])\n",
    "cm_2nd = confusion_matrix_df(y_test.sort_index(), y_pred.sort_index())\n",
    "\n",
    "swapped_correspondences = {v: k for k, v in correspondences.items()}\n",
    "y_pred_value_counts = y_pred.value_counts()\n",
    "y_pred_value_counts.index = y_pred_value_counts.index.map(lambda x: swapped_correspondences[x])\n",
    "# print(y_pred_value_counts)\n",
    "\n",
    "# y_pred_binary = classification_normal_and_anomaly(x_test, model_1st)\n",
    "# predicted_indexes = y_pred_binary[y_pred_binary == 1].index\n",
    "# x_anomalies = x_test.loc[predicted_indexes]\n",
    "# y_pred_anomalies: pd.Series = classification_anomalies(x_anomalies, model_2nd)\n",
    "# # y_pred_anomalies = y_pred_anomalies.apply(lambda x: wrapper[x])\n",
    "# y_pred_normal: pd.Series = y_pred_binary[y_pred_binary == 0].apply(lambda _: 1)\n",
    "# y_pred = pd.concat([y_pred_normal, y_pred_anomalies])\n",
    "# \n",
    "# y_test_binary = y_test.apply(lambda x: 0 if x == 1 else 1)\n",
    "# \n",
    "# cm_1st = confusion_matrix_df(y_test_binary.sort_index(), y_pred_binary.sort_index(), labels=['normal', 'anomaly'])\n",
    "# \n",
    "# cm_2nd = confusion_matrix_df(y_test.sort_index(), y_pred.sort_index())\n",
    "print(f\"実行結果：{x_path}\")\n",
    "print(f\"第1分類モデル：{path_1st}\")\n",
    "print(f\"第2分類モデル：{path_2nd}\")\n",
    "print(classification_report(y_test.sort_index(), y_pred.sort_index()))\n",
    "print(cm_1st)\n",
    "cm_2nd = cm_2nd.drop('normal', axis=1)\n",
    "\n",
    "cm_2nd['u2r']['true_u2r'] / cm_2nd.loc['true_u2r'].sum()"
   ],
   "metadata": {
    "collapsed": false,
    "ExecuteTime": {
     "end_time": "2023-09-20T04:05:49.394478Z",
     "start_time": "2023-09-20T04:05:48.464417Z"
    }
   }
  },
  {
   "cell_type": "code",
   "execution_count": 66,
   "outputs": [
    {
     "data": {
      "text/plain": "((163027, 30), (163027,), (130925,), (163027,))"
     },
     "execution_count": 66,
     "metadata": {},
     "output_type": "execute_result"
    }
   ],
   "source": [
    "x_test.shape, y_test.shape, y_test_anomaly.shape, y_test_binary.shape"
   ],
   "metadata": {
    "collapsed": false,
    "ExecuteTime": {
     "end_time": "2023-09-20T04:05:49.395577Z",
     "start_time": "2023-09-20T04:05:49.392295Z"
    }
   }
  },
  {
   "cell_type": "code",
   "execution_count": 66,
   "outputs": [],
   "source": [],
   "metadata": {
    "collapsed": false,
    "ExecuteTime": {
     "end_time": "2023-09-20T04:05:49.399366Z",
     "start_time": "2023-09-20T04:05:49.395702Z"
    }
   }
  }
 ],
 "metadata": {
  "kernelspec": {
   "display_name": "Python 3",
   "language": "python",
   "name": "python3"
  },
  "language_info": {
   "codemirror_mode": {
    "name": "ipython",
    "version": 2
   },
   "file_extension": ".py",
   "mimetype": "text/x-python",
   "name": "python",
   "nbconvert_exporter": "python",
   "pygments_lexer": "ipython2",
   "version": "2.7.6"
  }
 },
 "nbformat": 4,
 "nbformat_minor": 0
}
