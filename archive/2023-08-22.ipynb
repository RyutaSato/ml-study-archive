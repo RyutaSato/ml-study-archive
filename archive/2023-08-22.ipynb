{
 "cells": [
  {
   "cell_type": "code",
   "execution_count": 8,
   "metadata": {
    "collapsed": true,
    "ExecuteTime": {
     "end_time": "2023-09-01T05:07:27.395601Z",
     "start_time": "2023-09-01T05:07:27.392464Z"
    }
   },
   "outputs": [
    {
     "name": "stdout",
     "output_type": "stream",
     "text": [
      "python:      3.10.11\n",
      "sklearn:     1.2.2\n",
      "tensorflow:  2.12.0\n",
      "keras:       2.12.0\n",
      "numpy:       1.23.5\n",
      "pandas:      1.5.3\n"
     ]
    }
   ],
   "source": [
    "import numpy as np\n",
    "\n",
    "from two_step_classification import *\n",
    "print_version()"
   ]
  },
  {
   "cell_type": "code",
   "execution_count": 9,
   "outputs": [],
   "source": [
    "# load data\n",
    "x_train: pd.DataFrame = pd.read_pickle(\"models/kdd99_features/x_train_df.pkl\")\n",
    "x_test: pd.DataFrame = pd.read_pickle(\"models/kdd99_features/x_test_df.pkl\")\n",
    "y_train: pd.Series = pd.read_pickle(\"models/kdd99_features/y_train_df.pkl\")\n",
    "y_test: pd.Series = pd.read_pickle(\"models/kdd99_features/y_test_df.pkl\")\n",
    "x_train_ae_48: pd.DataFrame = pd.read_pickle(\"models/kdd99_features/x_train+ae_48_df&activation=relu&epochs=5&batch_size=32.pkl\")\n",
    "x_test_ae_48: pd.DataFrame = pd.read_pickle(\"models/kdd99_features/x_test+ae_48_df&activation=relu&epochs=5&batch_size=32.pkl\")"
   ],
   "metadata": {
    "collapsed": false,
    "ExecuteTime": {
     "end_time": "2023-09-01T05:07:27.596115Z",
     "start_time": "2023-09-01T05:07:27.410490Z"
    }
   }
  },
  {
   "cell_type": "code",
   "execution_count": 10,
   "outputs": [],
   "source": [
    "lr_binary_dir = 'models/logistic_regression_binary/'\n",
    "lr_anomaly_dir = 'models/logistic_regression_anomaly/'\n",
    "lgb_binary_dir = 'models/lightgbm/'\n"
   ],
   "metadata": {
    "collapsed": false,
    "ExecuteTime": {
     "end_time": "2023-09-01T05:07:27.598196Z",
     "start_time": "2023-09-01T05:07:27.597115Z"
    }
   }
  },
  {
   "cell_type": "code",
   "execution_count": 11,
   "outputs": [
    {
     "name": "stdout",
     "output_type": "stream",
     "text": [
      "0    129201\n",
      "2      1310\n",
      "3       326\n",
      "4         9\n",
      "dtype: int64\n",
      "              precision    recall  f1-score   support\n",
      "\n",
      "           0       0.99      1.00      1.00     32102\n",
      "           1       1.00      1.00      1.00    130925\n",
      "\n",
      "    accuracy                           1.00    163027\n",
      "   macro avg       1.00      1.00      1.00    163027\n",
      "weighted avg       1.00      1.00      1.00    163027\n",
      "\n",
      "              precision    recall  f1-score   support\n",
      "\n",
      "         dos       1.00      1.00      1.00    129181\n",
      "      normal       0.99      1.00      1.00     32102\n",
      "       probe       0.97      0.94      0.96      1355\n",
      "         r2l       0.89      0.78      0.83       372\n",
      "         u2r       0.78      0.41      0.54        17\n",
      "\n",
      "    accuracy                           1.00    163027\n",
      "   macro avg       0.93      0.83      0.86    163027\n",
      "weighted avg       1.00      1.00      1.00    163027\n",
      "\n",
      "              normal  anomaly\n",
      "true_normal    31983      119\n",
      "true_anomaly     198   130727\n",
      "                dos  normal  probe  r2l  u2r\n",
      "true_dos     129137      42      0    2    0\n",
      "true_normal      53   31983     31   34    1\n",
      "true_probe       10      69   1276    0    0\n",
      "true_r2l          1      77      3  290    1\n",
      "true_u2r          0      10      0    0    7\n"
     ]
    },
    {
     "data": {
      "text/plain": "(              normal  anomaly\n true_normal    31983      119\n true_anomaly     198   130727,\n                 dos  normal  probe  r2l  u2r\n true_dos     129137      42      0    2    0\n true_normal      53   31983     31   34    1\n true_probe       10      69   1276    0    0\n true_r2l          1      77      3  290    1\n true_u2r          0      10      0    0    7)"
     },
     "execution_count": 11,
     "metadata": {},
     "output_type": "execute_result"
    }
   ],
   "source": [
    "#\n",
    "with open(\"models/logistic_regression_binary/kdd99+ae_48&penalty=l1&solver=liblinear&C=0.1.pkl\", 'rb') as fp:\n",
    "    model_1st: LogisticRegression = pickle.load(fp)\n",
    "with open(\"models/logistic_regression_anomaly/kdd99+ae_48&penalty=l1&solver=liblinear&C=0.1.pkl\", 'rb') as fp:\n",
    "    model_2nd: LogisticRegression = pickle.load(fp)\n",
    "two_step_classification(x_test_ae_48, y_test, model_1st, model_2nd, verbose=2)\n"
   ],
   "metadata": {
    "collapsed": false,
    "ExecuteTime": {
     "end_time": "2023-09-01T05:07:28.181333Z",
     "start_time": "2023-09-01T05:07:27.600689Z"
    }
   }
  },
  {
   "cell_type": "code",
   "execution_count": null,
   "outputs": [],
   "source": [],
   "metadata": {
    "collapsed": false
   }
  },
  {
   "cell_type": "code",
   "execution_count": 12,
   "outputs": [
    {
     "name": "stdout",
     "output_type": "stream",
     "text": [
      "0    129186\n",
      "2      1335\n",
      "3       352\n",
      "1        25\n",
      "4        12\n",
      "dtype: int64\n",
      "              precision    recall  f1-score   support\n",
      "\n",
      "           0       1.00      1.00      1.00     32102\n",
      "           1       1.00      1.00      1.00    130925\n",
      "\n",
      "    accuracy                           1.00    163027\n",
      "   macro avg       1.00      1.00      1.00    163027\n",
      "weighted avg       1.00      1.00      1.00    163027\n",
      "\n",
      "              precision    recall  f1-score   support\n",
      "\n",
      "         dos       1.00      1.00      1.00    129181\n",
      "      normal       1.00      1.00      1.00     32102\n",
      "       probe       1.00      0.98      0.99      1355\n",
      "         r2l       0.99      0.94      0.96       372\n",
      "         u2r       0.83      0.59      0.69        17\n",
      "\n",
      "    accuracy                           1.00    163027\n",
      "   macro avg       0.96      0.90      0.93    163027\n",
      "weighted avg       1.00      1.00      1.00    163027\n",
      "\n",
      "              normal  anomaly\n",
      "true_normal    32089       13\n",
      "true_anomaly      28   130897\n",
      "                dos  normal  probe  r2l  u2r\n",
      "true_dos     129175       6      0    0    0\n",
      "true_normal       4   32093      1    3    1\n",
      "true_probe        6      15   1334    0    0\n",
      "true_r2l          1      21      0  349    1\n",
      "true_u2r          0       7      0    0   10\n"
     ]
    },
    {
     "data": {
      "text/plain": "(              normal  anomaly\n true_normal    32089       13\n true_anomaly      28   130897,\n                 dos  normal  probe  r2l  u2r\n true_dos     129175       6      0    0    0\n true_normal       4   32093      1    3    1\n true_probe        6      15   1334    0    0\n true_r2l          1      21      0  349    1\n true_u2r          0       7      0    0   10)"
     },
     "execution_count": 12,
     "metadata": {},
     "output_type": "execute_result"
    }
   ],
   "source": [
    "model_1st: lgb.Booster = lgb.Booster(model_file=\"models/lightgbm/lgb_binary_tuned_booster.model\")\n",
    "model_2nd: lgb.Booster = lgb.Booster(model_file=\"models/lightgbm/lgb_tuned_booster.model\")\n",
    "two_step_classification(x_test, y_test, model_1st, model_2nd, verbose=2)"
   ],
   "metadata": {
    "collapsed": false,
    "ExecuteTime": {
     "end_time": "2023-09-01T05:07:28.910961Z",
     "start_time": "2023-09-01T05:07:28.183611Z"
    }
   }
  },
  {
   "cell_type": "code",
   "execution_count": 14,
   "outputs": [
    {
     "data": {
      "text/plain": "0    262277\n1     65176\n2      2752\n3       754\n4        35\ndtype: int64"
     },
     "execution_count": 14,
     "metadata": {},
     "output_type": "execute_result"
    }
   ],
   "source": [
    "pd.Series(np.argmax(model_2nd.predict(x_train), axis=1)).value_counts()"
   ],
   "metadata": {
    "collapsed": false,
    "ExecuteTime": {
     "end_time": "2023-09-01T05:08:15.502981Z",
     "start_time": "2023-09-01T05:08:14.791033Z"
    }
   }
  },
  {
   "cell_type": "code",
   "execution_count": 16,
   "outputs": [],
   "source": [
    "model_1st: lgb.Booster = lgb.Booster(model_file=\"models/lightgbm/lgb+ae_48_binary_tuned_booster.model\")\n",
    "model_2nd: lgb.Booster = lgb.Booster(model_file=\"models/lightgbm/lgb+ae_48_anomaly_tuned_booster.model\")"
   ],
   "metadata": {
    "collapsed": false,
    "ExecuteTime": {
     "end_time": "2023-09-06T06:24:52.236210Z",
     "start_time": "2023-09-06T06:24:52.195778Z"
    }
   }
  },
  {
   "cell_type": "code",
   "execution_count": 17,
   "outputs": [
    {
     "name": "stdout",
     "output_type": "stream",
     "text": [
      "0    93692\n",
      "2    36834\n",
      "3      357\n",
      "4       33\n",
      "dtype: int64\n",
      "              precision    recall  f1-score   support\n",
      "\n",
      "           0       1.00      1.00      1.00     32102\n",
      "           1       1.00      1.00      1.00    130925\n",
      "\n",
      "    accuracy                           1.00    163027\n",
      "   macro avg       1.00      1.00      1.00    163027\n",
      "weighted avg       1.00      1.00      1.00    163027\n",
      "\n",
      "              precision    recall  f1-score   support\n",
      "\n",
      "         dos       1.00      0.73      0.84    129181\n",
      "      normal       1.00      1.00      1.00     32102\n",
      "       probe       0.04      0.99      0.07      1355\n",
      "         r2l       0.99      0.95      0.97       372\n",
      "         u2r       0.36      0.71      0.48        17\n",
      "\n",
      "    accuracy                           0.78    163027\n",
      "   macro avg       0.68      0.87      0.67    163027\n",
      "weighted avg       0.99      0.78      0.87    163027\n",
      "\n",
      "              normal  anomaly\n",
      "true_normal    32088       14\n",
      "true_anomaly      23   130902\n",
      "               dos  normal  probe  r2l  u2r\n",
      "true_dos     93690       5  35481    2    3\n",
      "true_normal      2   32088      9    1    2\n",
      "true_probe       0       8   1342    2    3\n",
      "true_r2l         0       5      2  352   13\n",
      "true_u2r         0       5      0    0   12\n"
     ]
    },
    {
     "data": {
      "text/plain": "(              normal  anomaly\n true_normal    32088       14\n true_anomaly      23   130902,\n                dos  normal  probe  r2l  u2r\n true_dos     93690       5  35481    2    3\n true_normal      2   32088      9    1    2\n true_probe       0       8   1342    2    3\n true_r2l         0       5      2  352   13\n true_u2r         0       5      0    0   12)"
     },
     "execution_count": 17,
     "metadata": {},
     "output_type": "execute_result"
    }
   ],
   "source": [
    "two_step_classification(x_test_ae_48, y_test, model_1st, model_2nd, verbose=2)"
   ],
   "metadata": {
    "collapsed": false,
    "ExecuteTime": {
     "end_time": "2023-09-06T06:25:12.927915Z",
     "start_time": "2023-09-06T06:25:12.107760Z"
    }
   }
  },
  {
   "cell_type": "code",
   "execution_count": null,
   "outputs": [],
   "source": [],
   "metadata": {
    "collapsed": false,
    "ExecuteTime": {
     "start_time": "2023-09-01T05:07:28.965845Z"
    }
   }
  },
  {
   "cell_type": "code",
   "execution_count": null,
   "outputs": [],
   "source": [],
   "metadata": {
    "collapsed": false,
    "ExecuteTime": {
     "start_time": "2023-09-01T05:07:28.966156Z"
    }
   }
  },
  {
   "cell_type": "code",
   "execution_count": null,
   "outputs": [],
   "source": [],
   "metadata": {
    "collapsed": false,
    "ExecuteTime": {
     "start_time": "2023-09-01T05:07:28.966935Z"
    }
   }
  }
 ],
 "metadata": {
  "kernelspec": {
   "display_name": "Python 3",
   "language": "python",
   "name": "python3"
  },
  "language_info": {
   "codemirror_mode": {
    "name": "ipython",
    "version": 2
   },
   "file_extension": ".py",
   "mimetype": "text/x-python",
   "name": "python",
   "nbconvert_exporter": "python",
   "pygments_lexer": "ipython2",
   "version": "2.7.6"
  }
 },
 "nbformat": 4,
 "nbformat_minor": 0
}
