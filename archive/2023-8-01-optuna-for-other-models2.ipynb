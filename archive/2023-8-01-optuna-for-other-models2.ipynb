{
 "cells": [
  {
   "cell_type": "code",
   "execution_count": 43,
   "metadata": {
    "collapsed": true,
    "ExecuteTime": {
     "end_time": "2023-08-01T02:39:51.751048Z",
     "start_time": "2023-08-01T02:39:51.741952Z"
    }
   },
   "outputs": [
    {
     "name": "stdout",
     "output_type": "stream",
     "text": [
      "python:      3.10.11\n",
      "sklearn:     1.2.2\n",
      "tensorflow:  2.12.0\n",
      "keras:       2.12.0\n",
      "numpy:       1.23.5\n",
      "pandas:      1.5.3\n"
     ]
    }
   ],
   "source": [
    "import optuna\n",
    "\n",
    "from utils_kdd99 import *\n",
    "print_version()\n"
   ]
  },
  {
   "cell_type": "code",
   "execution_count": 44,
   "outputs": [
    {
     "data": {
      "text/plain": "0    391458\n1     97278\n2      4107\n3      1126\n4        52\nName: true_label, dtype: int64"
     },
     "execution_count": 44,
     "metadata": {},
     "output_type": "execute_result"
    }
   ],
   "source": [
    "# データの読み込み\n",
    "X, y = load_data(use_full_dataset=False, standard_scale=True, verbose=0, )\n",
    "# 分類モデルによっては数値ラベルしか対応していないため、目的変数を分類クラスから数値へ変換\n",
    "y = y.map(lambda x: attack_label_class[x]).map(lambda x: correspondences[x])\n",
    "y.value_counts()\n"
   ],
   "metadata": {
    "collapsed": false,
    "ExecuteTime": {
     "end_time": "2023-08-01T02:39:53.073281Z",
     "start_time": "2023-08-01T02:39:51.745119Z"
    }
   }
  },
  {
   "cell_type": "code",
   "execution_count": 45,
   "outputs": [],
   "source": [
    "x_train, x_test, y_train, y_test = train_test_split(X, y, test_size=0.33, random_state=RANDOM_SEED, stratify=y)"
   ],
   "metadata": {
    "collapsed": false,
    "ExecuteTime": {
     "end_time": "2023-08-01T02:39:53.231744Z",
     "start_time": "2023-08-01T02:39:53.074602Z"
    }
   }
  },
  {
   "cell_type": "code",
   "execution_count": 46,
   "outputs": [],
   "source": [
    "k_fold = StratifiedKFold(n_splits=5, shuffle=True, random_state=RANDOM_SEED)"
   ],
   "metadata": {
    "collapsed": false,
    "ExecuteTime": {
     "end_time": "2023-08-01T02:39:53.234421Z",
     "start_time": "2023-08-01T02:39:53.232505Z"
    }
   }
  },
  {
   "cell_type": "code",
   "execution_count": 47,
   "outputs": [],
   "source": [
    "from sklearn.svm import SVC\n",
    "from sklearn.linear_model import LogisticRegression\n",
    "from sklearn.model_selection import cross_val_score"
   ],
   "metadata": {
    "collapsed": false,
    "ExecuteTime": {
     "end_time": "2023-08-01T02:39:53.239144Z",
     "start_time": "2023-08-01T02:39:53.237573Z"
    }
   }
  },
  {
   "cell_type": "code",
   "execution_count": 48,
   "outputs": [],
   "source": [
    "model_svm = SVC()\n",
    "model_svm.fit(x_train, y_train)\n",
    "y_pred = model_svm.predict(x_test)"
   ],
   "metadata": {
    "collapsed": false,
    "ExecuteTime": {
     "end_time": "2023-08-01T02:40:45.687036Z",
     "start_time": "2023-08-01T02:39:53.241478Z"
    }
   }
  },
  {
   "cell_type": "code",
   "execution_count": 48,
   "outputs": [],
   "source": [],
   "metadata": {
    "collapsed": false,
    "ExecuteTime": {
     "end_time": "2023-08-01T02:40:45.688909Z",
     "start_time": "2023-08-01T02:40:45.688597Z"
    }
   }
  },
  {
   "cell_type": "code",
   "execution_count": 49,
   "outputs": [
    {
     "name": "stdout",
     "output_type": "stream",
     "text": [
      "              precision    recall  f1-score   support\n",
      "\n",
      "         dos       1.00      1.00      1.00    129181\n",
      "      normal       1.00      1.00      1.00     32102\n",
      "       probe       0.99      0.98      0.99      1355\n",
      "         r2l       0.95      0.90      0.92       372\n",
      "         u2r       1.00      0.29      0.45        17\n",
      "\n",
      "    accuracy                           1.00    163027\n",
      "   macro avg       0.99      0.83      0.87    163027\n",
      "weighted avg       1.00      1.00      1.00    163027\n",
      "\n"
     ]
    }
   ],
   "source": [
    "print(classification_report(y_test, y_pred, target_names=correspondences.keys()))\n"
   ],
   "metadata": {
    "collapsed": false,
    "ExecuteTime": {
     "end_time": "2023-08-01T02:40:45.804462Z",
     "start_time": "2023-08-01T02:40:45.688774Z"
    }
   }
  },
  {
   "cell_type": "code",
   "execution_count": 50,
   "outputs": [
    {
     "name": "stdout",
     "output_type": "stream",
     "text": [
      "dos    TP: 129164, TN: 33801, FP: 45, FN: 17\n",
      "normal    TP: 32040, TN: 130841, FP: 84, FN: 62\n",
      "probe    TP: 1328, TN: 161665, FP: 7, FN: 27\n",
      "r2l    TP: 335, TN: 162636, FP: 19, FN: 37\n",
      "u2r    TP: 5, TN: 163010, FP: 0, FN: 12\n"
     ]
    }
   ],
   "source": [
    "for key, confusion_matrix in zip(correspondences.keys(), multilabel_confusion_matrix(y_test, y_pred)):\n",
    "    print(f\"{key}    TP: {confusion_matrix[1][1]}, TN: {confusion_matrix[0][0]}, FP: {confusion_matrix[0][1]}, FN: {confusion_matrix[1][0]}\")"
   ],
   "metadata": {
    "collapsed": false,
    "ExecuteTime": {
     "end_time": "2023-08-01T02:40:45.866129Z",
     "start_time": "2023-08-01T02:40:45.806432Z"
    }
   }
  },
  {
   "cell_type": "code",
   "execution_count": 51,
   "outputs": [],
   "source": [
    "model_svm_balanced = SVC(class_weight='balanced')\n",
    "model_svm_balanced.fit(x_train, y_train)\n",
    "y_pred_balanced = model_svm_balanced.predict(x_test)\n"
   ],
   "metadata": {
    "collapsed": false,
    "ExecuteTime": {
     "end_time": "2023-08-01T02:42:56.825628Z",
     "start_time": "2023-08-01T02:40:45.829685Z"
    }
   }
  },
  {
   "cell_type": "code",
   "execution_count": 52,
   "outputs": [
    {
     "name": "stdout",
     "output_type": "stream",
     "text": [
      "              precision    recall  f1-score   support\n",
      "\n",
      "         dos       1.00      1.00      1.00    129181\n",
      "      normal       1.00      0.99      0.99     32102\n",
      "       probe       0.93      0.99      0.96      1355\n",
      "         r2l       0.64      0.96      0.77       372\n",
      "         u2r       0.06      0.47      0.11        17\n",
      "\n",
      "    accuracy                           1.00    163027\n",
      "   macro avg       0.73      0.88      0.77    163027\n",
      "weighted avg       1.00      1.00      1.00    163027\n",
      "\n"
     ]
    }
   ],
   "source": [
    "print(classification_report(y_test, y_pred_balanced, target_names=correspondences.keys()))\n"
   ],
   "metadata": {
    "collapsed": false,
    "ExecuteTime": {
     "end_time": "2023-08-01T02:42:56.942065Z",
     "start_time": "2023-08-01T02:42:56.816113Z"
    }
   }
  },
  {
   "cell_type": "code",
   "execution_count": 53,
   "outputs": [
    {
     "name": "stdout",
     "output_type": "stream",
     "text": [
      "dos    TP: 129125, TN: 33829, FP: 17, FN: 56\n",
      "normal    TP: 31707, TN: 130875, FP: 50, FN: 395\n",
      "probe    TP: 1342, TN: 161575, FP: 97, FN: 13\n",
      "r2l    TP: 357, TN: 162457, FP: 198, FN: 15\n",
      "u2r    TP: 8, TN: 162884, FP: 126, FN: 9\n"
     ]
    }
   ],
   "source": [
    "for key, confusion_matrix in zip(correspondences.keys(), multilabel_confusion_matrix(y_test, y_pred_balanced)):\n",
    "    print(f\"{key}    TP: {confusion_matrix[1][1]}, TN: {confusion_matrix[0][0]}, FP: {confusion_matrix[0][1]}, FN: {confusion_matrix[1][0]}\")\n"
   ],
   "metadata": {
    "collapsed": false,
    "ExecuteTime": {
     "end_time": "2023-08-01T02:42:56.993688Z",
     "start_time": "2023-08-01T02:42:56.943373Z"
    }
   }
  },
  {
   "cell_type": "code",
   "execution_count": 54,
   "outputs": [
    {
     "name": "stdout",
     "output_type": "stream",
     "text": [
      "Model: \"sequential_2\"\n",
      "_________________________________________________________________\n",
      " Layer (type)                Output Shape              Param #   \n",
      "=================================================================\n",
      " encoder1 (Dense)            (None, 10)                390       \n",
      "                                                                 \n",
      " encoder2 (Dense)            (None, 5)                 55        \n",
      "                                                                 \n",
      " dense_2 (Dense)             (None, 10)                60        \n",
      "                                                                 \n",
      " dense_3 (Dense)             (None, 38)                418       \n",
      "                                                                 \n",
      "=================================================================\n",
      "Total params: 923\n",
      "Trainable params: 923\n",
      "Non-trainable params: 0\n",
      "_________________________________________________________________\n"
     ]
    }
   ],
   "source": [
    "ae_model = keras.Sequential([\n",
    "    Dense(units=10, activation='relu', input_dim=38, name='encoder1'),\n",
    "    Dense(units=5, activation='relu', name='encoder2'),\n",
    "    Dense(units=10, activation='relu'),\n",
    "    Dense(units=38, activation='relu'),\n",
    "])\n",
    "ae_model.compile(optimizer='adam', loss='mean_squared_error', metrics=['accuracy'])\n",
    "ae_model.summary()\n"
   ],
   "metadata": {
    "collapsed": false,
    "ExecuteTime": {
     "end_time": "2023-08-01T02:42:57.083511Z",
     "start_time": "2023-08-01T02:42:56.988744Z"
    }
   }
  },
  {
   "cell_type": "code",
   "execution_count": 55,
   "outputs": [],
   "source": [
    "# Dosのみのデータセットを作成\n",
    "dos_x_train = x_train[y_train == correspondences['dos']]\n"
   ],
   "metadata": {
    "collapsed": false,
    "ExecuteTime": {
     "end_time": "2023-08-01T02:42:57.164766Z",
     "start_time": "2023-08-01T02:42:57.089002Z"
    }
   }
  },
  {
   "cell_type": "code",
   "execution_count": 56,
   "outputs": [
    {
     "name": "stdout",
     "output_type": "stream",
     "text": [
      "Epoch 1/5\n",
      "8197/8197 [==============================] - 4s 413us/step - loss: 0.3556 - accuracy: 0.0521\n",
      "Epoch 2/5\n",
      "8197/8197 [==============================] - 4s 440us/step - loss: 0.3480 - accuracy: 0.0549\n",
      "Epoch 3/5\n",
      "8197/8197 [==============================] - 3s 410us/step - loss: 0.3480 - accuracy: 0.0547\n",
      "Epoch 4/5\n",
      "8197/8197 [==============================] - 3s 413us/step - loss: 0.3479 - accuracy: 0.0546\n",
      "Epoch 5/5\n",
      "8197/8197 [==============================] - 3s 411us/step - loss: 0.3479 - accuracy: 0.0547\n"
     ]
    },
    {
     "data": {
      "text/plain": "<keras.callbacks.History at 0x166353640>"
     },
     "execution_count": 56,
     "metadata": {},
     "output_type": "execute_result"
    }
   ],
   "source": [
    "ae_model.fit(dos_x_train, dos_x_train,\n",
    "            epochs=5, # データセットを使って学習する回数\n",
    "            batch_size=32,\n",
    "            shuffle=True,\n",
    "            verbose=1,\n",
    "            use_multiprocessing=True\n",
    "          )\n"
   ],
   "metadata": {
    "collapsed": false,
    "ExecuteTime": {
     "end_time": "2023-08-01T02:43:14.611086Z",
     "start_time": "2023-08-01T02:42:57.167321Z"
    }
   }
  },
  {
   "cell_type": "code",
   "execution_count": 57,
   "outputs": [
    {
     "data": {
      "text/plain": "['dos0', 'dos1', 'dos2', 'dos3', 'dos4']"
     },
     "execution_count": 57,
     "metadata": {},
     "output_type": "execute_result"
    }
   ],
   "source": [
    "# エンコーダー部分を抜き取る\n",
    "encoder = keras.Sequential([ae_model.get_layer('encoder1'),\n",
    "                            ae_model.get_layer('encoder2')])\n",
    "# DOSエンコーダを用いた特徴量に命名\n",
    "dos_columns = list(map(lambda x: 'dos' + str(x), range(5)))\n",
    "dos_columns\n"
   ],
   "metadata": {
    "collapsed": false,
    "ExecuteTime": {
     "end_time": "2023-08-01T02:43:14.623071Z",
     "start_time": "2023-08-01T02:43:14.614709Z"
    }
   }
  },
  {
   "cell_type": "code",
   "execution_count": 58,
   "outputs": [
    {
     "name": "stdout",
     "output_type": "stream",
     "text": [
      "10344/10344 [==============================] - 2s 219us/step\n",
      "5095/5095 [==============================] - 1s 221us/step\n"
     ]
    },
    {
     "data": {
      "text/plain": "        duration  src_bytes  dst_bytes      land  wrong_fragment    urgent  \\\n212221 -0.067792  -0.002017  -0.026287 -0.006673        -0.04772 -0.002571   \n30903  -0.067792  -0.002774   0.472896 -0.006673        -0.04772 -0.002571   \n9739   -0.067792  -0.002017  -0.026287 -0.006673        -0.04772 -0.002571   \n37540  -0.067792  -0.002776  -0.014120 -0.006673        -0.04772 -0.002571   \n418638 -0.067792  -0.002535  -0.026287 -0.006673        -0.04772 -0.002571   \n\n             hot  num_failed_logins  logged_in  num_compromised  ...  \\\n212221 -0.044136          -0.009782  -0.417192        -0.005679  ...   \n30903  -0.044136          -0.009782   2.396980        -0.005679  ...   \n9739   -0.044136          -0.009782  -0.417192        -0.005679  ...   \n37540  -0.044136          -0.009782   2.396980        -0.005679  ...   \n418638 -0.044136          -0.009782  -0.417192        -0.005679  ...   \n\n        dst_host_srv_diff_host_rate  dst_host_serror_rate  \\\n212221                    -0.158629             -0.464418   \n30903                      0.553404             -0.464418   \n9739                      -0.158629             -0.464418   \n37540                      0.790749             -0.464418   \n418638                    -0.158629             -0.464418   \n\n        dst_host_srv_serror_rate  dst_host_rerror_rate  \\\n212221                 -0.463202              -0.25204   \n30903                  -0.463202              -0.25204   \n9739                   -0.463202              -0.25204   \n37540                  -0.463202              -0.25204   \n418638                 -0.463202              -0.25204   \n\n        dst_host_srv_rerror_rate      dos0      dos1      dos2      dos3  dos4  \n212221                 -0.249464  0.000000  1.807431  0.286052  0.000000   0.0  \n30903                  -0.249464  1.142389  1.244851  1.075876  0.842139   0.0  \n9739                   -0.249464  0.000000  1.803711  0.283434  0.000000   0.0  \n37540                  -0.249464  1.189391  1.299393  1.144139  0.808007   0.0  \n418638                 -0.249464  0.000000  1.804341  0.283820  0.000000   0.0  \n\n[5 rows x 43 columns]",
      "text/html": "<div>\n<style scoped>\n    .dataframe tbody tr th:only-of-type {\n        vertical-align: middle;\n    }\n\n    .dataframe tbody tr th {\n        vertical-align: top;\n    }\n\n    .dataframe thead th {\n        text-align: right;\n    }\n</style>\n<table border=\"1\" class=\"dataframe\">\n  <thead>\n    <tr style=\"text-align: right;\">\n      <th></th>\n      <th>duration</th>\n      <th>src_bytes</th>\n      <th>dst_bytes</th>\n      <th>land</th>\n      <th>wrong_fragment</th>\n      <th>urgent</th>\n      <th>hot</th>\n      <th>num_failed_logins</th>\n      <th>logged_in</th>\n      <th>num_compromised</th>\n      <th>...</th>\n      <th>dst_host_srv_diff_host_rate</th>\n      <th>dst_host_serror_rate</th>\n      <th>dst_host_srv_serror_rate</th>\n      <th>dst_host_rerror_rate</th>\n      <th>dst_host_srv_rerror_rate</th>\n      <th>dos0</th>\n      <th>dos1</th>\n      <th>dos2</th>\n      <th>dos3</th>\n      <th>dos4</th>\n    </tr>\n  </thead>\n  <tbody>\n    <tr>\n      <th>212221</th>\n      <td>-0.067792</td>\n      <td>-0.002017</td>\n      <td>-0.026287</td>\n      <td>-0.006673</td>\n      <td>-0.04772</td>\n      <td>-0.002571</td>\n      <td>-0.044136</td>\n      <td>-0.009782</td>\n      <td>-0.417192</td>\n      <td>-0.005679</td>\n      <td>...</td>\n      <td>-0.158629</td>\n      <td>-0.464418</td>\n      <td>-0.463202</td>\n      <td>-0.25204</td>\n      <td>-0.249464</td>\n      <td>0.000000</td>\n      <td>1.807431</td>\n      <td>0.286052</td>\n      <td>0.000000</td>\n      <td>0.0</td>\n    </tr>\n    <tr>\n      <th>30903</th>\n      <td>-0.067792</td>\n      <td>-0.002774</td>\n      <td>0.472896</td>\n      <td>-0.006673</td>\n      <td>-0.04772</td>\n      <td>-0.002571</td>\n      <td>-0.044136</td>\n      <td>-0.009782</td>\n      <td>2.396980</td>\n      <td>-0.005679</td>\n      <td>...</td>\n      <td>0.553404</td>\n      <td>-0.464418</td>\n      <td>-0.463202</td>\n      <td>-0.25204</td>\n      <td>-0.249464</td>\n      <td>1.142389</td>\n      <td>1.244851</td>\n      <td>1.075876</td>\n      <td>0.842139</td>\n      <td>0.0</td>\n    </tr>\n    <tr>\n      <th>9739</th>\n      <td>-0.067792</td>\n      <td>-0.002017</td>\n      <td>-0.026287</td>\n      <td>-0.006673</td>\n      <td>-0.04772</td>\n      <td>-0.002571</td>\n      <td>-0.044136</td>\n      <td>-0.009782</td>\n      <td>-0.417192</td>\n      <td>-0.005679</td>\n      <td>...</td>\n      <td>-0.158629</td>\n      <td>-0.464418</td>\n      <td>-0.463202</td>\n      <td>-0.25204</td>\n      <td>-0.249464</td>\n      <td>0.000000</td>\n      <td>1.803711</td>\n      <td>0.283434</td>\n      <td>0.000000</td>\n      <td>0.0</td>\n    </tr>\n    <tr>\n      <th>37540</th>\n      <td>-0.067792</td>\n      <td>-0.002776</td>\n      <td>-0.014120</td>\n      <td>-0.006673</td>\n      <td>-0.04772</td>\n      <td>-0.002571</td>\n      <td>-0.044136</td>\n      <td>-0.009782</td>\n      <td>2.396980</td>\n      <td>-0.005679</td>\n      <td>...</td>\n      <td>0.790749</td>\n      <td>-0.464418</td>\n      <td>-0.463202</td>\n      <td>-0.25204</td>\n      <td>-0.249464</td>\n      <td>1.189391</td>\n      <td>1.299393</td>\n      <td>1.144139</td>\n      <td>0.808007</td>\n      <td>0.0</td>\n    </tr>\n    <tr>\n      <th>418638</th>\n      <td>-0.067792</td>\n      <td>-0.002535</td>\n      <td>-0.026287</td>\n      <td>-0.006673</td>\n      <td>-0.04772</td>\n      <td>-0.002571</td>\n      <td>-0.044136</td>\n      <td>-0.009782</td>\n      <td>-0.417192</td>\n      <td>-0.005679</td>\n      <td>...</td>\n      <td>-0.158629</td>\n      <td>-0.464418</td>\n      <td>-0.463202</td>\n      <td>-0.25204</td>\n      <td>-0.249464</td>\n      <td>0.000000</td>\n      <td>1.804341</td>\n      <td>0.283820</td>\n      <td>0.000000</td>\n      <td>0.0</td>\n    </tr>\n  </tbody>\n</table>\n<p>5 rows × 43 columns</p>\n</div>"
     },
     "execution_count": 58,
     "metadata": {},
     "output_type": "execute_result"
    }
   ],
   "source": [
    "# 特徴量抽出し、マージする。\n",
    "x_train_encoded = pd.DataFrame(data=encoder.predict(x_train), index=x_train.index, columns=dos_columns)\n",
    "x_test_encoded = pd.DataFrame(data=encoder.predict(x_test), index=x_test.index, columns=dos_columns)\n",
    "x_train_encoded = x_train.merge(x_train_encoded, right_index=True, left_index=True)\n",
    "x_test_encoded = x_test.merge(x_test_encoded, right_index=True, left_index=True)\n",
    "x_train_encoded.head()\n"
   ],
   "metadata": {
    "collapsed": false,
    "ExecuteTime": {
     "end_time": "2023-08-01T02:43:19.464293Z",
     "start_time": "2023-08-01T02:43:14.625161Z"
    }
   }
  },
  {
   "cell_type": "code",
   "execution_count": 59,
   "outputs": [],
   "source": [
    "model_svm = SVC()\n",
    "model_svm.fit(x_train_encoded, y_train)\n",
    "y_pred = model_svm.predict(x_test_encoded)\n"
   ],
   "metadata": {
    "collapsed": false,
    "ExecuteTime": {
     "end_time": "2023-08-01T02:44:19.160747Z",
     "start_time": "2023-08-01T02:43:19.463141Z"
    }
   }
  },
  {
   "cell_type": "code",
   "execution_count": 60,
   "outputs": [
    {
     "name": "stdout",
     "output_type": "stream",
     "text": [
      "              precision    recall  f1-score   support\n",
      "\n",
      "         dos       1.00      1.00      1.00    129181\n",
      "      normal       1.00      1.00      1.00     32102\n",
      "       probe       0.99      0.98      0.99      1355\n",
      "         r2l       0.95      0.90      0.92       372\n",
      "         u2r       1.00      0.29      0.45        17\n",
      "\n",
      "    accuracy                           1.00    163027\n",
      "   macro avg       0.99      0.83      0.87    163027\n",
      "weighted avg       1.00      1.00      1.00    163027\n",
      "\n"
     ]
    }
   ],
   "source": [
    "print(classification_report(y_test, y_pred, target_names=correspondences.keys()))\n"
   ],
   "metadata": {
    "collapsed": false,
    "ExecuteTime": {
     "end_time": "2023-08-01T02:44:19.279779Z",
     "start_time": "2023-08-01T02:44:19.162768Z"
    }
   }
  },
  {
   "cell_type": "code",
   "execution_count": 61,
   "outputs": [
    {
     "name": "stdout",
     "output_type": "stream",
     "text": [
      "dos    TP: 129164, TN: 33798, FP: 48, FN: 17\n",
      "normal    TP: 32040, TN: 130842, FP: 83, FN: 62\n",
      "probe    TP: 1328, TN: 161664, FP: 8, FN: 27\n",
      "r2l    TP: 334, TN: 162638, FP: 17, FN: 38\n",
      "u2r    TP: 5, TN: 163010, FP: 0, FN: 12\n"
     ]
    }
   ],
   "source": [
    "for key, confusion_matrix in zip(correspondences.keys(), multilabel_confusion_matrix(y_test, y_pred)):\n",
    "    print(f\"{key}    TP: {confusion_matrix[1][1]}, TN: {confusion_matrix[0][0]}, FP: {confusion_matrix[0][1]}, FN: {confusion_matrix[1][0]}\")"
   ],
   "metadata": {
    "collapsed": false,
    "ExecuteTime": {
     "end_time": "2023-08-01T02:44:19.338880Z",
     "start_time": "2023-08-01T02:44:19.279982Z"
    }
   }
  },
  {
   "cell_type": "code",
   "execution_count": 62,
   "outputs": [],
   "source": [
    "model_svm_balanced = SVC(class_weight='balanced')\n",
    "model_svm_balanced.fit(x_train_encoded, y_train)\n",
    "y_pred_balanced = model_svm_balanced.predict(x_test_encoded)\n"
   ],
   "metadata": {
    "collapsed": false,
    "ExecuteTime": {
     "end_time": "2023-08-01T02:47:06.839247Z",
     "start_time": "2023-08-01T02:44:19.300152Z"
    }
   }
  },
  {
   "cell_type": "code",
   "execution_count": 63,
   "outputs": [
    {
     "name": "stdout",
     "output_type": "stream",
     "text": [
      "              precision    recall  f1-score   support\n",
      "\n",
      "         dos       1.00      1.00      1.00    129181\n",
      "      normal       1.00      0.99      0.99     32102\n",
      "       probe       0.93      0.99      0.96      1355\n",
      "         r2l       0.62      0.96      0.75       372\n",
      "         u2r       0.05      0.47      0.10        17\n",
      "\n",
      "    accuracy                           1.00    163027\n",
      "   macro avg       0.72      0.88      0.76    163027\n",
      "weighted avg       1.00      1.00      1.00    163027\n",
      "\n"
     ]
    }
   ],
   "source": [
    "print(classification_report(y_test, y_pred_balanced, target_names=correspondences.keys()))\n"
   ],
   "metadata": {
    "collapsed": false,
    "ExecuteTime": {
     "end_time": "2023-08-01T02:47:06.954044Z",
     "start_time": "2023-08-01T02:47:06.840761Z"
    }
   }
  },
  {
   "cell_type": "code",
   "execution_count": 64,
   "outputs": [
    {
     "name": "stdout",
     "output_type": "stream",
     "text": [
      "dos    TP: 129108, TN: 33826, FP: 20, FN: 73\n",
      "normal    TP: 31669, TN: 130867, FP: 58, FN: 433\n",
      "probe    TP: 1343, TN: 161564, FP: 108, FN: 12\n",
      "r2l    TP: 357, TN: 162438, FP: 217, FN: 15\n",
      "u2r    TP: 8, TN: 162871, FP: 139, FN: 9\n"
     ]
    }
   ],
   "source": [
    "for key, confusion_matrix in zip(correspondences.keys(), multilabel_confusion_matrix(y_test, y_pred_balanced)):\n",
    "    print(f\"{key}    TP: {confusion_matrix[1][1]}, TN: {confusion_matrix[0][0]}, FP: {confusion_matrix[0][1]}, FN: {confusion_matrix[1][0]}\")\n"
   ],
   "metadata": {
    "collapsed": false,
    "ExecuteTime": {
     "end_time": "2023-08-01T02:47:06.974259Z",
     "start_time": "2023-08-01T02:47:06.955556Z"
    }
   }
  },
  {
   "cell_type": "code",
   "execution_count": 64,
   "outputs": [],
   "source": [],
   "metadata": {
    "collapsed": false,
    "ExecuteTime": {
     "end_time": "2023-08-01T02:47:06.988175Z",
     "start_time": "2023-08-01T02:47:06.974567Z"
    }
   }
  }
 ],
 "metadata": {
  "kernelspec": {
   "display_name": "Python 3",
   "language": "python",
   "name": "python3"
  },
  "language_info": {
   "codemirror_mode": {
    "name": "ipython",
    "version": 2
   },
   "file_extension": ".py",
   "mimetype": "text/x-python",
   "name": "python",
   "nbconvert_exporter": "python",
   "pygments_lexer": "ipython2",
   "version": "2.7.6"
  }
 },
 "nbformat": 4,
 "nbformat_minor": 0
}
