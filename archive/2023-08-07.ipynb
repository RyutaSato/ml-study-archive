{
 "cells": [
  {
   "cell_type": "markdown",
   "source": [
    "\n",
    "## ロジスティック回帰モデルとlightGBMモデルを組み合わせる．\n",
    "\n",
    "### 背景\n",
    "- ロジスティック回帰モデルが高精度だった\n",
    "- 一般的により精度が高いとされるLightGBMモデルと組み合わせることで，より高い精度を出せる可能性がある．\n",
    "### 使用するデータセット\n",
    "- KDD99 10%\n",
    "### 手法\n",
    "### 結果\n",
    "### 考察"
   ],
   "metadata": {
    "collapsed": false
   }
  },
  {
   "cell_type": "code",
   "execution_count": 33,
   "metadata": {
    "collapsed": true,
    "ExecuteTime": {
     "end_time": "2023-08-08T03:17:21.026583Z",
     "start_time": "2023-08-08T03:17:21.004210Z"
    }
   },
   "outputs": [
    {
     "name": "stdout",
     "output_type": "stream",
     "text": [
      "python:      3.10.11\n",
      "sklearn:     1.2.2\n",
      "tensorflow:  2.12.0\n",
      "keras:       2.12.0\n",
      "numpy:       1.23.5\n",
      "pandas:      1.5.3\n"
     ]
    }
   ],
   "source": [
    "from utils_kdd99 import *\n",
    "\n"
   ]
  },
  {
   "cell_type": "code",
   "execution_count": 34,
   "outputs": [],
   "source": [
    "# load data\n",
    "with open(\"models/kdd99_features/x_train_df.pkl\", 'rb') as f:\n",
    "    x_train: pd.DataFrame = pickle.load(f)\n",
    "with open(\"models/kdd99_features/x_test_df.pkl\", 'rb') as f:\n",
    "    x_test: pd.DataFrame = pickle.load(f)\n",
    "with open(\"models/kdd99_features/y_train_df.pkl\", 'rb') as f:\n",
    "    y_train: pd.DataFrame = pickle.load(f)\n",
    "with open(\"models/kdd99_features/y_test_df.pkl\", 'rb') as f:\n",
    "    y_test: pd.DataFrame = pickle.load(f)\n",
    "with open(\"models/kdd99_features/x_train+ae_43_df&activation=relu&epochs=5&batch_size=32.pkl\", 'rb') as f:\n",
    "    x_train_with_ae: pd.DataFrame = pickle.load(f)\n",
    "with open(\"models/kdd99_features/x_test+ae_43_df&activation=relu&epochs=5&batch_size=32.pkl\", 'rb') as f:\n",
    "    x_test_with_ae: pd.DataFrame = pickle.load(f)\n"
   ],
   "metadata": {
    "collapsed": false,
    "ExecuteTime": {
     "end_time": "2023-08-08T03:17:21.241960Z",
     "start_time": "2023-08-08T03:17:21.015018Z"
    }
   }
  },
  {
   "cell_type": "code",
   "execution_count": 35,
   "outputs": [],
   "source": [
    "# load models\n",
    "from sklearn.linear_model import LogisticRegression\n",
    "lgb_model_with_ae: lgb.Booster = lgb.Booster(model_file=\"models/lightgbm/lgb+ae_tuned_booster.model\")\n",
    "with open(f\"models/logistic_regression/kdd99+ae_43&penalty=l2&solver=liblinear&C=1e-05.pkl\", 'rb') as f:\n",
    "    lr_model_with_ae: LogisticRegression = pickle.load(f)"
   ],
   "metadata": {
    "collapsed": false,
    "ExecuteTime": {
     "end_time": "2023-08-08T03:17:21.260946Z",
     "start_time": "2023-08-08T03:17:21.242418Z"
    }
   }
  },
  {
   "cell_type": "code",
   "execution_count": 36,
   "outputs": [],
   "source": [
    "y_pred_by_lgb_prob = lgb_model_with_ae.predict(x_test_with_ae)\n",
    "y_pred_by_lr = lr_model_with_ae.predict(x_test_with_ae)\n",
    "y_pred_by_lgb = np.argmax(y_pred_by_lgb_prob, axis=1)\n",
    "y_pred_by_lgb = pd.Series(y_pred_by_lgb)\n",
    "y_pred_by_lr = pd.Series(y_pred_by_lr)\n"
   ],
   "metadata": {
    "collapsed": false,
    "ExecuteTime": {
     "end_time": "2023-08-08T03:17:22.918545Z",
     "start_time": "2023-08-08T03:17:21.263273Z"
    }
   }
  },
  {
   "cell_type": "code",
   "execution_count": 37,
   "outputs": [
    {
     "data": {
      "text/plain": "{'dos': 0, 'normal': 1, 'probe': 2, 'r2l': 3, 'u2r': 4}"
     },
     "execution_count": 37,
     "metadata": {},
     "output_type": "execute_result"
    }
   ],
   "source": [
    "correspondences"
   ],
   "metadata": {
    "collapsed": false,
    "ExecuteTime": {
     "end_time": "2023-08-08T03:17:22.996978Z",
     "start_time": "2023-08-08T03:17:22.926255Z"
    }
   }
  },
  {
   "cell_type": "markdown",
   "source": [],
   "metadata": {
    "collapsed": false
   }
  },
  {
   "cell_type": "code",
   "execution_count": 38,
   "outputs": [
    {
     "data": {
      "text/plain": "0         1\n1         0\n2         0\n3         0\n4         1\n         ..\n163022    1\n163023    0\n163024    0\n163025    0\n163026    0\nLength: 163027, dtype: int64"
     },
     "execution_count": 38,
     "metadata": {},
     "output_type": "execute_result"
    }
   ],
   "source": [
    "# normal = 1, abnormal = 0\n",
    "convert_to_binary = lambda x: 1 if x == 1 else 0\n",
    "# y_pred_by_lr_b = pd.Series(y_pred_by_lr.apply(convert_to_binary))\n",
    "# y_pred_by_lgb_b = pd.Series(y_pred_by_lgb.apply(convert_to_binary))\n",
    "y_pred_b = (y_pred_by_lr == 1) & (y_pred_by_lgb == 1)\n",
    "y_pred_b = y_pred_b.astype(int)\n",
    "y_test_b = y_test.apply(convert_to_binary)\n",
    "y_pred_b"
   ],
   "metadata": {
    "collapsed": false,
    "ExecuteTime": {
     "end_time": "2023-08-08T03:17:23.078798Z",
     "start_time": "2023-08-08T03:17:23.008242Z"
    }
   }
  },
  {
   "cell_type": "code",
   "execution_count": 39,
   "outputs": [
    {
     "name": "stdout",
     "output_type": "stream",
     "text": [
      "[[130856     69]\n",
      " [  4335  27767]]\n"
     ]
    }
   ],
   "source": [
    "from sklearn.metrics import confusion_matrix\n",
    "\n",
    "print(confusion_matrix(y_test_b, y_pred_b) )\n"
   ],
   "metadata": {
    "collapsed": false,
    "ExecuteTime": {
     "end_time": "2023-08-08T03:17:23.115932Z",
     "start_time": "2023-08-08T03:17:23.082942Z"
    }
   }
  },
  {
   "cell_type": "code",
   "execution_count": 40,
   "outputs": [
    {
     "name": "stdout",
     "output_type": "stream",
     "text": [
      "              precision    recall  f1-score   support\n",
      "\n",
      "           0       0.97      1.00      0.98    130925\n",
      "           1       1.00      0.86      0.93     32102\n",
      "\n",
      "    accuracy                           0.97    163027\n",
      "   macro avg       0.98      0.93      0.95    163027\n",
      "weighted avg       0.97      0.97      0.97    163027\n",
      "\n"
     ]
    }
   ],
   "source": [
    "print(classification_report(y_test_b, y_pred_b))\n"
   ],
   "metadata": {
    "collapsed": false,
    "ExecuteTime": {
     "end_time": "2023-08-08T03:17:23.266001Z",
     "start_time": "2023-08-08T03:17:23.118038Z"
    }
   }
  },
  {
   "cell_type": "code",
   "execution_count": 41,
   "outputs": [
    {
     "data": {
      "text/plain": "208       4\n1280      4\n41104     4\n45839     4\n48731     4\n70692     4\n77039     4\n78627     4\n112153    4\n121474    4\n126200    4\n135644    4\n137414    4\ndtype: int64"
     },
     "execution_count": 41,
     "metadata": {},
     "output_type": "execute_result"
    }
   ],
   "source": [
    "y_pred_u2r_by_lgb = y_pred_by_lgb[y_pred_by_lgb == correspondences['u2r']]\n",
    "y_pred_u2r_by_lgb"
   ],
   "metadata": {
    "collapsed": false,
    "ExecuteTime": {
     "end_time": "2023-08-08T03:17:23.269897Z",
     "start_time": "2023-08-08T03:17:23.265767Z"
    }
   }
  },
  {
   "cell_type": "code",
   "execution_count": 42,
   "outputs": [
    {
     "data": {
      "text/plain": "1073      4\n2453      4\n3115      4\n6592      4\n10313     4\n         ..\n160312    4\n160490    4\n160795    4\n161319    4\n161640    4\nLength: 84, dtype: int64"
     },
     "execution_count": 42,
     "metadata": {},
     "output_type": "execute_result"
    }
   ],
   "source": [
    "y_pred_u2r_by_lr = y_pred_by_lr[y_pred_by_lr==correspondences['u2r']]\n",
    "y_pred_u2r_by_lr"
   ],
   "metadata": {
    "collapsed": false,
    "ExecuteTime": {
     "end_time": "2023-08-08T03:17:23.274384Z",
     "start_time": "2023-08-08T03:17:23.271699Z"
    }
   }
  },
  {
   "cell_type": "code",
   "execution_count": 43,
   "outputs": [
    {
     "data": {
      "text/plain": "149011    4\n344468    4\n147606    4\n485174    4\n19385     1\n         ..\n17533     1\n17533     1\n17533     1\n17533     1\n17533     1\nName: true_label, Length: 97, dtype: int64"
     },
     "execution_count": 43,
     "metadata": {},
     "output_type": "execute_result"
    }
   ],
   "source": [
    "tmp = y_pred_u2r_by_lgb.index.tolist()\n",
    "tmp.extend(y_pred_u2r_by_lr.tolist())\n",
    "y_test_pred_as_u2r: pd.Series = y_test.iloc[tmp]\n",
    "\n",
    "y_test_pred_as_u2r"
   ],
   "metadata": {
    "collapsed": false,
    "ExecuteTime": {
     "end_time": "2023-08-08T03:17:23.278698Z",
     "start_time": "2023-08-08T03:17:23.276872Z"
    }
   }
  },
  {
   "cell_type": "code",
   "execution_count": 44,
   "outputs": [
    {
     "data": {
      "text/plain": "1    86\n4    10\n3     1\nName: true_label, dtype: int64"
     },
     "execution_count": 44,
     "metadata": {},
     "output_type": "execute_result"
    }
   ],
   "source": [
    "# true classes that lightGBM and Logistic Regression predicted u2r\n",
    "num_to_class = {v: k for k, v in correspondences.items()}\n",
    "value_counts = y_test_pred_as_u2r.value_counts()\n",
    "value_counts"
   ],
   "metadata": {
    "collapsed": false,
    "ExecuteTime": {
     "end_time": "2023-08-08T03:17:23.282386Z",
     "start_time": "2023-08-08T03:17:23.280493Z"
    }
   }
  },
  {
   "cell_type": "code",
   "execution_count": 45,
   "outputs": [],
   "source": [
    "y_test_new_index = y_test.reset_index()\n",
    "y_test_u2r_idx = y_test_new_index[y_test_new_index['true_label'] == correspondences['u2r']].index"
   ],
   "metadata": {
    "collapsed": false,
    "ExecuteTime": {
     "end_time": "2023-08-08T03:17:23.300348Z",
     "start_time": "2023-08-08T03:17:23.283438Z"
    }
   }
  },
  {
   "cell_type": "code",
   "execution_count": 46,
   "outputs": [
    {
     "data": {
      "text/plain": "Int64Index([   208,   1280,  27499,  31123,  41104,  45839,  70692,  70731,\n             78627,  85337,  94452,  99037, 112153, 121474, 126200, 137414,\n            147744],\n           dtype='int64')"
     },
     "execution_count": 46,
     "metadata": {},
     "output_type": "execute_result"
    }
   ],
   "source": [
    "y_test_u2r_idx"
   ],
   "metadata": {
    "collapsed": false,
    "ExecuteTime": {
     "end_time": "2023-08-08T03:17:23.300814Z",
     "start_time": "2023-08-08T03:17:23.287205Z"
    }
   }
  },
  {
   "cell_type": "code",
   "execution_count": 47,
   "outputs": [
    {
     "data": {
      "text/plain": "208          u2r\n1280         u2r\n27499     normal\n31123     normal\n41104        u2r\n45839        u2r\n70692        u2r\n70731     normal\n78627        u2r\n85337     normal\n94452     normal\n99037     normal\n112153       u2r\n121474       u2r\n126200       u2r\n137414       u2r\n147744    normal\ndtype: object"
     },
     "execution_count": 47,
     "metadata": {},
     "output_type": "execute_result"
    }
   ],
   "source": [
    "y_pred_by_lgb.iloc[y_test_u2r_idx].apply(lambda x: num_to_class[x])"
   ],
   "metadata": {
    "collapsed": false,
    "ExecuteTime": {
     "end_time": "2023-08-08T03:17:23.300912Z",
     "start_time": "2023-08-08T03:17:23.292364Z"
    }
   }
  },
  {
   "cell_type": "code",
   "execution_count": 48,
   "outputs": [
    {
     "data": {
      "text/plain": "208          r2l\n1280       probe\n27499     normal\n31123        r2l\n41104      probe\n45839      probe\n70692      probe\n70731      probe\n78627      probe\n85337     normal\n94452     normal\n99037     normal\n112153     probe\n121474       r2l\n126200     probe\n137414       r2l\n147744    normal\ndtype: object"
     },
     "execution_count": 48,
     "metadata": {},
     "output_type": "execute_result"
    }
   ],
   "source": [
    "y_pred_by_lr.iloc[y_test_u2r_idx].apply(lambda x: num_to_class[x])\n"
   ],
   "metadata": {
    "collapsed": false,
    "ExecuteTime": {
     "end_time": "2023-08-08T03:17:23.300983Z",
     "start_time": "2023-08-08T03:17:23.295750Z"
    }
   }
  },
  {
   "cell_type": "code",
   "execution_count": 48,
   "outputs": [],
   "source": [],
   "metadata": {
    "collapsed": false,
    "ExecuteTime": {
     "end_time": "2023-08-08T03:17:23.301038Z",
     "start_time": "2023-08-08T03:17:23.298023Z"
    }
   }
  }
 ],
 "metadata": {
  "kernelspec": {
   "display_name": "Python 3",
   "language": "python",
   "name": "python3"
  },
  "language_info": {
   "codemirror_mode": {
    "name": "ipython",
    "version": 2
   },
   "file_extension": ".py",
   "mimetype": "text/x-python",
   "name": "python",
   "nbconvert_exporter": "python",
   "pygments_lexer": "ipython2",
   "version": "2.7.6"
  }
 },
 "nbformat": 4,
 "nbformat_minor": 0
}
