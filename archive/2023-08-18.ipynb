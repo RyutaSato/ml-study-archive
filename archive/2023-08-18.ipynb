{
 "cells": [
  {
   "cell_type": "markdown",
   "source": [
    "\n",
    "## ロジスティック回帰モデルとlightGBMモデルを組み合わせる．\n",
    "\n",
    "### 背景\n",
    "- ロジスティック回帰モデルが高精度だった\n",
    "- 一般的により精度が高いとされるLightGBMモデルと組み合わせることで，より高い精度を出せる可能性がある．\n",
    "### 使用するデータセット\n",
    "- KDD99 10%\n",
    "### 手法\n",
    "- ロジスティック回帰モデルを二段階に分けて使用する．\n",
    "- 1段階目：異常と正常の2値問題として分類する．\n",
    "- 2段階目：異常と判断されたデータのみを抽出して，4つの異常クラスに分類する．\n",
    "### 結果\n",
    "- 学習時のロジスティック回帰モデルのパラメータによっては，高い精度で分類が可能．\n",
    "- u2rの適合率は最大で42％程度\n",
    "- 1段階目の分類ですでに`u2r`の多くが，`normal`に分類されてしまっている．\n",
    "### 考察"
   ],
   "metadata": {
    "collapsed": false
   },
   "id": "e001030ed958368b"
  },
  {
   "cell_type": "code",
   "execution_count": 1,
   "id": "initial_id",
   "metadata": {
    "collapsed": true,
    "ExecuteTime": {
     "end_time": "2023-08-28T07:42:26.006233Z",
     "start_time": "2023-08-28T07:42:22.013257Z"
    }
   },
   "outputs": [
    {
     "name": "stdout",
     "output_type": "stream",
     "text": [
      "python:      3.10.11\n",
      "sklearn:     1.2.2\n",
      "tensorflow:  2.12.0\n",
      "keras:       2.12.0\n",
      "numpy:       1.23.5\n",
      "pandas:      1.5.3\n"
     ]
    }
   ],
   "source": [
    "import pandas as pd\n",
    "from sklearn.linear_model import LogisticRegression\n",
    "import lightgbm as lgb\n",
    "from utils_kdd99 import *\n",
    "\n",
    "print_version()"
   ]
  },
  {
   "cell_type": "code",
   "execution_count": 2,
   "outputs": [],
   "source": [
    "# load data\n",
    "x_train: pd.DataFrame = pd.read_pickle(\"models/kdd99_features/x_train_df.pkl\")\n",
    "x_test: pd.DataFrame = pd.read_pickle(\"models/kdd99_features/x_test_df.pkl\")\n",
    "y_train: pd.Series = pd.read_pickle(\"models/kdd99_features/y_train_df.pkl\")\n",
    "y_test: pd.Series = pd.read_pickle(\"models/kdd99_features/y_test_df.pkl\")\n"
   ],
   "metadata": {
    "collapsed": false,
    "ExecuteTime": {
     "end_time": "2023-08-28T07:42:26.108997Z",
     "start_time": "2023-08-28T07:42:26.008682Z"
    }
   },
   "id": "469c7ca63a84899e"
  },
  {
   "cell_type": "code",
   "execution_count": 3,
   "outputs": [],
   "source": [
    "# 第一段階　2値分類\n",
    "def classification_normal_and_anomaly(X: pd.DataFrame, model: LogisticRegression | lgb.Booster)-> pd.Series:\n",
    "    y_pred = model.predict(X)\n",
    "    y_pred = pd.Series(y_pred, index=X.index,)\n",
    "    return y_pred\n"
   ],
   "metadata": {
    "collapsed": false,
    "ExecuteTime": {
     "end_time": "2023-08-28T07:42:26.114272Z",
     "start_time": "2023-08-28T07:42:26.110618Z"
    }
   }
  },
  {
   "cell_type": "code",
   "execution_count": 4,
   "outputs": [],
   "source": [
    "# 第二段階　異常データの分類\n",
    "def classification_anomalies(X: pd.DataFrame, model: LogisticRegression | lgb.Booster)-> pd.Series:\n",
    "    y_pred = model.predict(X)\n",
    "    # テストデータの予測 (予測クラス(0 or 1 or...)を返す)\n",
    "    # y_pred = np.argmax(y_pred_prob, axis=1) # 一番大きい予測確率のクラスを予測クラスに\n",
    "    y_pred = pd.Series(y_pred, index=X.index)\n",
    "    return y_pred"
   ],
   "metadata": {
    "collapsed": false,
    "ExecuteTime": {
     "end_time": "2023-08-28T07:42:26.119529Z",
     "start_time": "2023-08-28T07:42:26.114669Z"
    }
   }
  },
  {
   "cell_type": "markdown",
   "source": [],
   "metadata": {
    "collapsed": false
   }
  },
  {
   "cell_type": "code",
   "execution_count": 5,
   "outputs": [],
   "source": [
    "lr_binary_dir = 'models/logistic_regression_binary/'\n",
    "lr_anomaly_dir = 'models/logistic_regression_anomaly/'\n",
    "lgb_binary_dir = 'models/lightgbm/'\n",
    "lr_binary_paths = os.listdir(lr_binary_dir)\n",
    "lgb_binary_paths = os.listdir(lgb_binary_dir)\n"
   ],
   "metadata": {
    "collapsed": false,
    "ExecuteTime": {
     "end_time": "2023-08-28T07:42:26.127273Z",
     "start_time": "2023-08-28T07:42:26.123527Z"
    }
   }
  },
  {
   "cell_type": "code",
   "execution_count": 6,
   "outputs": [],
   "source": [
    "#\n",
    "with open(lr_binary_dir + 'kdd99_38&penalty=l1&solver=liblinear&C=0.1.pkl', 'rb') as fp:\n",
    "    model_lrb: LogisticRegression = pickle.load(fp)\n",
    "y_pred_binary = classification_normal_and_anomaly(x_test, model_lrb)\n",
    "predicted_indexes = y_pred_binary[y_pred_binary == 1].index\n",
    "x_test_anomalies = x_test.loc[predicted_indexes]\n",
    "y_test_anomalies = y_test.loc[predicted_indexes]\n",
    "with open(lr_anomaly_dir + \"kdd99_38&penalty=l1&solver=liblinear&C=0.1.pkl\", 'rb') as fp:\n",
    "    model_lra: LogisticRegression = pickle.load(fp)\n",
    "y_pred_anomalies: pd.Series = classification_anomalies(x_test_anomalies, model_lra)"
   ],
   "metadata": {
    "collapsed": false,
    "ExecuteTime": {
     "end_time": "2023-08-28T07:42:26.308936Z",
     "start_time": "2023-08-28T07:42:26.128988Z"
    }
   }
  },
  {
   "cell_type": "code",
   "execution_count": 7,
   "outputs": [],
   "source": [
    "y_pred_normal = y_pred_binary[y_pred_binary == 0].apply(lambda _: 1)\n",
    "y_pred = pd.concat([y_pred_normal, y_pred_anomalies])"
   ],
   "metadata": {
    "collapsed": false,
    "ExecuteTime": {
     "end_time": "2023-08-28T07:42:26.335792Z",
     "start_time": "2023-08-28T07:42:26.311638Z"
    }
   }
  },
  {
   "cell_type": "code",
   "execution_count": 8,
   "outputs": [
    {
     "data": {
      "text/plain": "(163027, 38)"
     },
     "execution_count": 8,
     "metadata": {},
     "output_type": "execute_result"
    }
   ],
   "source": [
    "x_test.shape"
   ],
   "metadata": {
    "collapsed": false,
    "ExecuteTime": {
     "end_time": "2023-08-28T07:42:26.342798Z",
     "start_time": "2023-08-28T07:42:26.332125Z"
    }
   }
  },
  {
   "cell_type": "code",
   "execution_count": 9,
   "outputs": [
    {
     "name": "stdout",
     "output_type": "stream",
     "text": [
      "              precision    recall  f1-score   support\n",
      "\n",
      "           0       0.99      0.99      0.99     32102\n",
      "           1       1.00      1.00      1.00    130925\n",
      "\n",
      "    accuracy                           1.00    163027\n",
      "   macro avg       0.99      1.00      0.99    163027\n",
      "weighted avg       1.00      1.00      1.00    163027\n",
      "\n"
     ]
    }
   ],
   "source": [
    "y_test_binary = y_test.apply(lambda x: 0 if x == 1 else 1)\n",
    "print(classification_report(y_test_binary, y_pred_binary))\n"
   ],
   "metadata": {
    "collapsed": false,
    "ExecuteTime": {
     "end_time": "2023-08-28T07:42:26.647343Z",
     "start_time": "2023-08-28T07:42:26.340905Z"
    }
   }
  },
  {
   "cell_type": "code",
   "execution_count": 10,
   "outputs": [
    {
     "name": "stdout",
     "output_type": "stream",
     "text": [
      "              precision    recall  f1-score   support\n",
      "\n",
      "         dos       1.00      1.00      1.00    129181\n",
      "      normal       0.99      0.99      0.99     32102\n",
      "       probe       0.98      0.85      0.91      1355\n",
      "         r2l       0.84      0.75      0.79       372\n",
      "         u2r       0.78      0.41      0.54        17\n",
      "\n",
      "    accuracy                           1.00    163027\n",
      "   macro avg       0.92      0.80      0.85    163027\n",
      "weighted avg       1.00      1.00      1.00    163027\n",
      "\n"
     ]
    }
   ],
   "source": [
    "print(classification_report(y_test.sort_index(), y_pred.sort_index(), target_names=correspondences.keys()))\n"
   ],
   "metadata": {
    "collapsed": false,
    "ExecuteTime": {
     "end_time": "2023-08-28T07:42:26.792396Z",
     "start_time": "2023-08-28T07:42:26.642180Z"
    }
   }
  },
  {
   "cell_type": "code",
   "execution_count": 11,
   "outputs": [
    {
     "data": {
      "text/plain": "              normal  anomaly\ntrue_normal    31890      212\ntrue_anomaly     359   130566",
      "text/html": "<div>\n<style scoped>\n    .dataframe tbody tr th:only-of-type {\n        vertical-align: middle;\n    }\n\n    .dataframe tbody tr th {\n        vertical-align: top;\n    }\n\n    .dataframe thead th {\n        text-align: right;\n    }\n</style>\n<table border=\"1\" class=\"dataframe\">\n  <thead>\n    <tr style=\"text-align: right;\">\n      <th></th>\n      <th>normal</th>\n      <th>anomaly</th>\n    </tr>\n  </thead>\n  <tbody>\n    <tr>\n      <th>true_normal</th>\n      <td>31890</td>\n      <td>212</td>\n    </tr>\n    <tr>\n      <th>true_anomaly</th>\n      <td>359</td>\n      <td>130566</td>\n    </tr>\n  </tbody>\n</table>\n</div>"
     },
     "execution_count": 11,
     "metadata": {},
     "output_type": "execute_result"
    }
   ],
   "source": [
    "cm_1st = confusion_matrix_df(y_test_binary.sort_index(), y_pred_binary.sort_index(), labels=['normal', 'anomaly'])\n",
    "cm_1st"
   ],
   "metadata": {
    "collapsed": false,
    "ExecuteTime": {
     "end_time": "2023-08-28T07:42:26.848128Z",
     "start_time": "2023-08-28T07:42:26.791632Z"
    }
   }
  },
  {
   "cell_type": "code",
   "execution_count": 12,
   "outputs": [
    {
     "data": {
      "text/plain": "                dos  normal  probe  r2l  u2r\ntrue_dos     129115      64      0    2    0\ntrue_normal     135   31890     24   51    2\ntrue_probe        4     198   1152    1    0\ntrue_r2l          4      87      2  279    0\ntrue_u2r          0      10      0    0    7",
      "text/html": "<div>\n<style scoped>\n    .dataframe tbody tr th:only-of-type {\n        vertical-align: middle;\n    }\n\n    .dataframe tbody tr th {\n        vertical-align: top;\n    }\n\n    .dataframe thead th {\n        text-align: right;\n    }\n</style>\n<table border=\"1\" class=\"dataframe\">\n  <thead>\n    <tr style=\"text-align: right;\">\n      <th></th>\n      <th>dos</th>\n      <th>normal</th>\n      <th>probe</th>\n      <th>r2l</th>\n      <th>u2r</th>\n    </tr>\n  </thead>\n  <tbody>\n    <tr>\n      <th>true_dos</th>\n      <td>129115</td>\n      <td>64</td>\n      <td>0</td>\n      <td>2</td>\n      <td>0</td>\n    </tr>\n    <tr>\n      <th>true_normal</th>\n      <td>135</td>\n      <td>31890</td>\n      <td>24</td>\n      <td>51</td>\n      <td>2</td>\n    </tr>\n    <tr>\n      <th>true_probe</th>\n      <td>4</td>\n      <td>198</td>\n      <td>1152</td>\n      <td>1</td>\n      <td>0</td>\n    </tr>\n    <tr>\n      <th>true_r2l</th>\n      <td>4</td>\n      <td>87</td>\n      <td>2</td>\n      <td>279</td>\n      <td>0</td>\n    </tr>\n    <tr>\n      <th>true_u2r</th>\n      <td>0</td>\n      <td>10</td>\n      <td>0</td>\n      <td>0</td>\n      <td>7</td>\n    </tr>\n  </tbody>\n</table>\n</div>"
     },
     "execution_count": 12,
     "metadata": {},
     "output_type": "execute_result"
    }
   ],
   "source": [
    "cm_2nd = confusion_matrix_df(y_test.sort_index(), y_pred.sort_index())\n",
    "cm_2nd"
   ],
   "metadata": {
    "collapsed": false,
    "ExecuteTime": {
     "end_time": "2023-08-28T07:42:26.947137Z",
     "start_time": "2023-08-28T07:42:26.845871Z"
    }
   }
  },
  {
   "cell_type": "code",
   "execution_count": 12,
   "outputs": [],
   "source": [],
   "metadata": {
    "collapsed": false,
    "ExecuteTime": {
     "end_time": "2023-08-28T07:42:26.947309Z",
     "start_time": "2023-08-28T07:42:26.898115Z"
    }
   }
  }
 ],
 "metadata": {
  "kernelspec": {
   "display_name": "Python 3",
   "language": "python",
   "name": "python3"
  },
  "language_info": {
   "codemirror_mode": {
    "name": "ipython",
    "version": 2
   },
   "file_extension": ".py",
   "mimetype": "text/x-python",
   "name": "python",
   "nbconvert_exporter": "python",
   "pygments_lexer": "ipython2",
   "version": "2.7.6"
  }
 },
 "nbformat": 4,
 "nbformat_minor": 5
}
