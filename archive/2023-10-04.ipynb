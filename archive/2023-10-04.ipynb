{
 "cells": [
  {
   "cell_type": "code",
   "execution_count": 2,
   "id": "initial_id",
   "metadata": {
    "ExecuteTime": {
     "end_time": "2023-10-06T00:34:11.898860Z",
     "start_time": "2023-10-06T00:34:11.838921Z"
    },
    "collapsed": true
   },
   "outputs": [
    {
     "name": "stdout",
     "output_type": "stream",
     "text": [
      "ran:  2023-10-06 09:34:11.837329\n",
      "python:      3.10.11\n",
      "sklearn:     1.2.2\n",
      "tensorflow:  2.12.0\n",
      "keras:       2.12.0\n",
      "numpy:       1.23.5\n",
      "pandas:      1.5.3\n"
     ]
    }
   ],
   "source": [
    "import keras\n",
    "\n",
    "from utils_kdd99 import *\n",
    "print_version()"
   ]
  },
  {
   "cell_type": "markdown",
   "id": "814300331b22f4c7",
   "metadata": {
    "collapsed": false
   },
   "source": [
    "## General\n",
    "- 使用するモデル：　ロジスティック回帰\n",
    "- 使用するデータ：　KDD99(10%)\n",
    "- 使用する特徴量の数： 38\n",
    "- k分割交差検証の分割数： 4\n",
    "## Autoencoder\n",
    "- 特徴量の数： 8\n",
    "- 構造： 38-32-16-8-16-32-38\n",
    "- 活性化関数： relu\n",
    "- 最適化関数： adam\n",
    "- 損失関数： mse\n",
    "- エポック数： 10\n",
    "- バッチサイズ： 32\n",
    "- 乱数シード： 2023"
   ]
  },
  {
   "cell_type": "code",
   "execution_count": 3,
   "id": "7f3ff186b491b525",
   "metadata": {
    "ExecuteTime": {
     "end_time": "2023-10-06T00:34:11.904595Z",
     "start_time": "2023-10-06T00:34:11.854107Z"
    },
    "collapsed": false
   },
   "outputs": [],
   "source": [
    "# configration"
   ]
  },
  {
   "cell_type": "code",
   "execution_count": 4,
   "id": "b2bb6c46a0c19d46",
   "metadata": {
    "ExecuteTime": {
     "end_time": "2023-10-06T00:34:13.172718Z",
     "start_time": "2023-10-06T00:34:11.856878Z"
    },
    "collapsed": false
   },
   "outputs": [],
   "source": [
    "# データの読み込み (10% data)\n",
    "X, y = load_data(verbose=0, to_number_labels=True)"
   ]
  },
  {
   "cell_type": "code",
   "execution_count": 5,
   "id": "be84604c0c3b54f7",
   "metadata": {
    "ExecuteTime": {
     "end_time": "2023-10-06T00:34:13.180376Z",
     "start_time": "2023-10-06T00:34:13.176012Z"
    },
    "collapsed": false
   },
   "outputs": [
    {
     "data": {
      "text/plain": [
       "0    391458\n",
       "1     97278\n",
       "2      4107\n",
       "3      1126\n",
       "4        52\n",
       "Name: true_label, dtype: int64"
      ]
     },
     "execution_count": 5,
     "metadata": {},
     "output_type": "execute_result"
    }
   ],
   "source": [
    "y.value_counts()"
   ]
  },
  {
   "cell_type": "code",
   "execution_count": 6,
   "id": "4269e8c7a82d3381",
   "metadata": {
    "ExecuteTime": {
     "end_time": "2023-10-06T00:34:13.190847Z",
     "start_time": "2023-10-06T00:34:13.181866Z"
    },
    "collapsed": false
   },
   "outputs": [
    {
     "data": {
      "text/html": [
       "<div>\n",
       "<style scoped>\n",
       "    .dataframe tbody tr th:only-of-type {\n",
       "        vertical-align: middle;\n",
       "    }\n",
       "\n",
       "    .dataframe tbody tr th {\n",
       "        vertical-align: top;\n",
       "    }\n",
       "\n",
       "    .dataframe thead th {\n",
       "        text-align: right;\n",
       "    }\n",
       "</style>\n",
       "<table border=\"1\" class=\"dataframe\">\n",
       "  <thead>\n",
       "    <tr style=\"text-align: right;\">\n",
       "      <th></th>\n",
       "      <th>duration</th>\n",
       "      <th>src_bytes</th>\n",
       "      <th>dst_bytes</th>\n",
       "      <th>land</th>\n",
       "      <th>wrong_fragment</th>\n",
       "      <th>urgent</th>\n",
       "      <th>hot</th>\n",
       "      <th>num_failed_logins</th>\n",
       "      <th>logged_in</th>\n",
       "      <th>num_compromised</th>\n",
       "      <th>...</th>\n",
       "      <th>dst_host_count</th>\n",
       "      <th>dst_host_srv_count</th>\n",
       "      <th>dst_host_same_srv_rate</th>\n",
       "      <th>dst_host_diff_srv_rate</th>\n",
       "      <th>dst_host_same_src_port_rate</th>\n",
       "      <th>dst_host_srv_diff_host_rate</th>\n",
       "      <th>dst_host_serror_rate</th>\n",
       "      <th>dst_host_srv_serror_rate</th>\n",
       "      <th>dst_host_rerror_rate</th>\n",
       "      <th>dst_host_srv_rerror_rate</th>\n",
       "    </tr>\n",
       "  </thead>\n",
       "  <tbody>\n",
       "    <tr>\n",
       "      <th>0</th>\n",
       "      <td>-0.067792</td>\n",
       "      <td>-0.002879</td>\n",
       "      <td>0.138664</td>\n",
       "      <td>-0.006673</td>\n",
       "      <td>-0.04772</td>\n",
       "      <td>-0.002571</td>\n",
       "      <td>-0.044136</td>\n",
       "      <td>-0.009782</td>\n",
       "      <td>2.39698</td>\n",
       "      <td>-0.005679</td>\n",
       "      <td>...</td>\n",
       "      <td>-3.451536</td>\n",
       "      <td>-1.694315</td>\n",
       "      <td>0.599396</td>\n",
       "      <td>-0.282867</td>\n",
       "      <td>-1.022077</td>\n",
       "      <td>-0.158629</td>\n",
       "      <td>-0.464418</td>\n",
       "      <td>-0.463202</td>\n",
       "      <td>-0.25204</td>\n",
       "      <td>-0.249464</td>\n",
       "    </tr>\n",
       "    <tr>\n",
       "      <th>1</th>\n",
       "      <td>-0.067792</td>\n",
       "      <td>-0.002820</td>\n",
       "      <td>-0.011578</td>\n",
       "      <td>-0.006673</td>\n",
       "      <td>-0.04772</td>\n",
       "      <td>-0.002571</td>\n",
       "      <td>-0.044136</td>\n",
       "      <td>-0.009782</td>\n",
       "      <td>2.39698</td>\n",
       "      <td>-0.005679</td>\n",
       "      <td>...</td>\n",
       "      <td>-3.297085</td>\n",
       "      <td>-1.600011</td>\n",
       "      <td>0.599396</td>\n",
       "      <td>-0.282867</td>\n",
       "      <td>-1.146737</td>\n",
       "      <td>-0.158629</td>\n",
       "      <td>-0.464418</td>\n",
       "      <td>-0.463202</td>\n",
       "      <td>-0.25204</td>\n",
       "      <td>-0.249464</td>\n",
       "    </tr>\n",
       "    <tr>\n",
       "      <th>2</th>\n",
       "      <td>-0.067792</td>\n",
       "      <td>-0.002824</td>\n",
       "      <td>0.014179</td>\n",
       "      <td>-0.006673</td>\n",
       "      <td>-0.04772</td>\n",
       "      <td>-0.002571</td>\n",
       "      <td>-0.044136</td>\n",
       "      <td>-0.009782</td>\n",
       "      <td>2.39698</td>\n",
       "      <td>-0.005679</td>\n",
       "      <td>...</td>\n",
       "      <td>-3.142633</td>\n",
       "      <td>-1.505707</td>\n",
       "      <td>0.599396</td>\n",
       "      <td>-0.282867</td>\n",
       "      <td>-1.188291</td>\n",
       "      <td>-0.158629</td>\n",
       "      <td>-0.464418</td>\n",
       "      <td>-0.463202</td>\n",
       "      <td>-0.25204</td>\n",
       "      <td>-0.249464</td>\n",
       "    </tr>\n",
       "    <tr>\n",
       "      <th>3</th>\n",
       "      <td>-0.067792</td>\n",
       "      <td>-0.002840</td>\n",
       "      <td>0.014179</td>\n",
       "      <td>-0.006673</td>\n",
       "      <td>-0.04772</td>\n",
       "      <td>-0.002571</td>\n",
       "      <td>-0.044136</td>\n",
       "      <td>-0.009782</td>\n",
       "      <td>2.39698</td>\n",
       "      <td>-0.005679</td>\n",
       "      <td>...</td>\n",
       "      <td>-2.988182</td>\n",
       "      <td>-1.411403</td>\n",
       "      <td>0.599396</td>\n",
       "      <td>-0.282867</td>\n",
       "      <td>-1.188291</td>\n",
       "      <td>-0.158629</td>\n",
       "      <td>-0.464418</td>\n",
       "      <td>-0.463202</td>\n",
       "      <td>-0.25204</td>\n",
       "      <td>-0.249464</td>\n",
       "    </tr>\n",
       "    <tr>\n",
       "      <th>4</th>\n",
       "      <td>-0.067792</td>\n",
       "      <td>-0.002842</td>\n",
       "      <td>0.035214</td>\n",
       "      <td>-0.006673</td>\n",
       "      <td>-0.04772</td>\n",
       "      <td>-0.002571</td>\n",
       "      <td>-0.044136</td>\n",
       "      <td>-0.009782</td>\n",
       "      <td>2.39698</td>\n",
       "      <td>-0.005679</td>\n",
       "      <td>...</td>\n",
       "      <td>-2.833731</td>\n",
       "      <td>-1.317100</td>\n",
       "      <td>0.599396</td>\n",
       "      <td>-0.282867</td>\n",
       "      <td>-1.209067</td>\n",
       "      <td>-0.158629</td>\n",
       "      <td>-0.464418</td>\n",
       "      <td>-0.463202</td>\n",
       "      <td>-0.25204</td>\n",
       "      <td>-0.249464</td>\n",
       "    </tr>\n",
       "  </tbody>\n",
       "</table>\n",
       "<p>5 rows × 38 columns</p>\n",
       "</div>"
      ],
      "text/plain": [
       "   duration  src_bytes  dst_bytes      land  wrong_fragment    urgent  \\\n",
       "0 -0.067792  -0.002879   0.138664 -0.006673        -0.04772 -0.002571   \n",
       "1 -0.067792  -0.002820  -0.011578 -0.006673        -0.04772 -0.002571   \n",
       "2 -0.067792  -0.002824   0.014179 -0.006673        -0.04772 -0.002571   \n",
       "3 -0.067792  -0.002840   0.014179 -0.006673        -0.04772 -0.002571   \n",
       "4 -0.067792  -0.002842   0.035214 -0.006673        -0.04772 -0.002571   \n",
       "\n",
       "        hot  num_failed_logins  logged_in  num_compromised  ...  \\\n",
       "0 -0.044136          -0.009782    2.39698        -0.005679  ...   \n",
       "1 -0.044136          -0.009782    2.39698        -0.005679  ...   \n",
       "2 -0.044136          -0.009782    2.39698        -0.005679  ...   \n",
       "3 -0.044136          -0.009782    2.39698        -0.005679  ...   \n",
       "4 -0.044136          -0.009782    2.39698        -0.005679  ...   \n",
       "\n",
       "   dst_host_count  dst_host_srv_count  dst_host_same_srv_rate  \\\n",
       "0       -3.451536           -1.694315                0.599396   \n",
       "1       -3.297085           -1.600011                0.599396   \n",
       "2       -3.142633           -1.505707                0.599396   \n",
       "3       -2.988182           -1.411403                0.599396   \n",
       "4       -2.833731           -1.317100                0.599396   \n",
       "\n",
       "   dst_host_diff_srv_rate  dst_host_same_src_port_rate  \\\n",
       "0               -0.282867                    -1.022077   \n",
       "1               -0.282867                    -1.146737   \n",
       "2               -0.282867                    -1.188291   \n",
       "3               -0.282867                    -1.188291   \n",
       "4               -0.282867                    -1.209067   \n",
       "\n",
       "   dst_host_srv_diff_host_rate  dst_host_serror_rate  \\\n",
       "0                    -0.158629             -0.464418   \n",
       "1                    -0.158629             -0.464418   \n",
       "2                    -0.158629             -0.464418   \n",
       "3                    -0.158629             -0.464418   \n",
       "4                    -0.158629             -0.464418   \n",
       "\n",
       "   dst_host_srv_serror_rate  dst_host_rerror_rate  dst_host_srv_rerror_rate  \n",
       "0                 -0.463202              -0.25204                 -0.249464  \n",
       "1                 -0.463202              -0.25204                 -0.249464  \n",
       "2                 -0.463202              -0.25204                 -0.249464  \n",
       "3                 -0.463202              -0.25204                 -0.249464  \n",
       "4                 -0.463202              -0.25204                 -0.249464  \n",
       "\n",
       "[5 rows x 38 columns]"
      ]
     },
     "execution_count": 6,
     "metadata": {},
     "output_type": "execute_result"
    }
   ],
   "source": [
    "X.head()"
   ]
  },
  {
   "cell_type": "code",
   "execution_count": 7,
   "id": "f7eeb498d09ff6d2",
   "metadata": {
    "ExecuteTime": {
     "end_time": "2023-10-06T00:34:13.196235Z",
     "start_time": "2023-10-06T00:34:13.191696Z"
    },
    "collapsed": false
   },
   "outputs": [],
   "source": [
    "# k分割\n",
    "N_SPLITS= 4\n",
    "from sklearn.model_selection import StratifiedKFold\n",
    "k_fold = StratifiedKFold(n_splits=N_SPLITS, shuffle=True, random_state=2023)\n",
    "k_fold_generator = k_fold.split(X, y)"
   ]
  },
  {
   "cell_type": "code",
   "execution_count": 8,
   "id": "8be5678c28f8fcca",
   "metadata": {
    "ExecuteTime": {
     "end_time": "2023-10-06T00:34:13.211529Z",
     "start_time": "2023-10-06T00:34:13.197715Z"
    },
    "collapsed": false
   },
   "outputs": [],
   "source": [
    "#　オートエンコーダ特徴量の作成関数\n",
    "def generate_autoencoder_features(dataset, encoder_sizes, activation='relu')-> pd.DataFrame:\n",
    "    model = keras.Sequential(\n",
    "        [\n",
    "            Dense(encoder_sizes[0], activation=activation, input_shape=(dataset.shape[1],), name=\"encoder0\"),\n",
    "            *[\n",
    "                Dense(hidden_layer_size, activation=activation, name=f\"encoder{idx + 1}\")\n",
    "                for idx, hidden_layer_size in enumerate(encoder_sizes[1:])\n",
    "            ],\n",
    "            *[\n",
    "                Dense(hidden_layer_size, activation=activation)\n",
    "                for hidden_layer_size in encoder_sizes[-2::-1]\n",
    "            ],\n",
    "            Dense(dataset.shape[1], activation=activation),\n",
    "        ]\n",
    "    )\n",
    "    model.summary()\n",
    "    model.compile(optimizer=\"adam\", loss=\"mse\")\n",
    "    model.fit(dataset, dataset, epochs=10, batch_size=32)\n",
    "    encoder = keras.Sequential(model.layers[: len(encoder_sizes)])\n",
    "    X_pred = encoder.predict(dataset)\n",
    "    return pd.DataFrame(X_pred, columns=[f\"ae_{idx}\" for idx in range(X_pred.shape[1])])"
   ]
  },
  {
   "cell_type": "code",
   "execution_count": 9,
   "id": "b70d1250ac27895e",
   "metadata": {
    "ExecuteTime": {
     "end_time": "2023-10-06T00:34:23.041124Z",
     "start_time": "2023-10-06T00:34:13.201663Z"
    },
    "collapsed": false
   },
   "outputs": [],
   "source": [
    "from sklearn.model_selection import cross_val_score\n",
    "from sklearn.ensemble import RandomForestClassifier\n",
    "# 元の特徴量のみでの学習\n",
    "lr = RandomForestClassifier(random_state=2023,  n_jobs=8)\n",
    "results_38 = dict()\n",
    "for i, (train_idx, test_idx) in enumerate(k_fold_generator):\n",
    "    X_train, X_test = X.iloc[train_idx], X.iloc[test_idx]\n",
    "    y_train, y_test = y.iloc[train_idx], y.iloc[test_idx]\n",
    "    lr.fit(X_train, y_train)\n",
    "    results_38[i] = classification_report(y_test, lr.predict(X_test), output_dict=True)"
   ]
  },
  {
   "cell_type": "code",
   "execution_count": 10,
   "id": "ac6378f9af4aa917",
   "metadata": {
    "ExecuteTime": {
     "end_time": "2023-10-06T00:34:23.042588Z",
     "start_time": "2023-10-06T00:34:23.040102Z"
    },
    "collapsed": false
   },
   "outputs": [
    {
     "name": "stdout",
     "output_type": "stream",
     "text": [
      "0.8836329360128976\n",
      "0.9325912920590591\n",
      "0.9143440309590034\n",
      "0.9287028667552917\n"
     ]
    }
   ],
   "source": [
    "for i in range(N_SPLITS):\n",
    "    print(results_38[i]['macro avg']['recall'])"
   ]
  },
  {
   "cell_type": "code",
   "execution_count": 11,
   "id": "765d1787cbd0732",
   "metadata": {
    "ExecuteTime": {
     "end_time": "2023-10-06T00:34:23.047224Z",
     "start_time": "2023-10-06T00:34:23.042838Z"
    },
    "collapsed": false
   },
   "outputs": [
    {
     "data": {
      "text/plain": [
       "0.914817781446563"
      ]
     },
     "execution_count": 11,
     "metadata": {},
     "output_type": "execute_result"
    }
   ],
   "source": [
    "recall = np.mean([results_38[i]['macro avg']['recall'] for i in range(N_SPLITS)])\n",
    "recall"
   ]
  },
  {
   "cell_type": "code",
   "execution_count": 12,
   "id": "a809888fe807b1f0",
   "metadata": {
    "ExecuteTime": {
     "end_time": "2023-10-06T00:34:23.051897Z",
     "start_time": "2023-10-06T00:34:23.049520Z"
    },
    "collapsed": false
   },
   "outputs": [
    {
     "data": {
      "text/plain": [
       "{0: {'0': {'precision': 0.9999795630581839,\n",
       "   'recall': 0.9999591269516881,\n",
       "   'f1-score': 0.9999693449005241,\n",
       "   'support': 97864},\n",
       "  '1': {'precision': 0.9988909426987062,\n",
       "   'recall': 0.9999177631578947,\n",
       "   'f1-score': 0.9994040891811363,\n",
       "   'support': 24320},\n",
       "  '2': {'precision': 1.0,\n",
       "   'recall': 0.9922103213242454,\n",
       "   'f1-score': 0.9960899315738024,\n",
       "   'support': 1027},\n",
       "  '3': {'precision': 1.0,\n",
       "   'recall': 0.9645390070921985,\n",
       "   'f1-score': 0.9819494584837545,\n",
       "   'support': 282},\n",
       "  '4': {'precision': 0.75,\n",
       "   'recall': 0.46153846153846156,\n",
       "   'f1-score': 0.5714285714285714,\n",
       "   'support': 13},\n",
       "  'accuracy': 0.9997490000485806,\n",
       "  'macro avg': {'precision': 0.949774101151378,\n",
       "   'recall': 0.8836329360128976,\n",
       "   'f1-score': 0.9097682791135577,\n",
       "   'support': 123506},\n",
       "  'weighted avg': {'precision': 0.9997391032464711,\n",
       "   'recall': 0.9997490000485806,\n",
       "   'f1-score': 0.9997395276073827,\n",
       "   'support': 123506}},\n",
       " 1: {'0': {'precision': 0.9999591273693353,\n",
       "   'recall': 0.999969345213766,\n",
       "   'f1-score': 0.9999642362654487,\n",
       "   'support': 97864},\n",
       "  '1': {'precision': 0.9993013028646582,\n",
       "   'recall': 0.9997532894736842,\n",
       "   'f1-score': 0.9995272450720437,\n",
       "   'support': 24320},\n",
       "  '2': {'precision': 0.9970617042115573,\n",
       "   'recall': 0.9922027290448343,\n",
       "   'f1-score': 0.9946262823644357,\n",
       "   'support': 1026},\n",
       "  '3': {'precision': 0.9928057553956835,\n",
       "   'recall': 0.9787234042553191,\n",
       "   'f1-score': 0.9857142857142858,\n",
       "   'support': 282},\n",
       "  '4': {'precision': 0.9,\n",
       "   'recall': 0.6923076923076923,\n",
       "   'f1-score': 0.7826086956521738,\n",
       "   'support': 13},\n",
       "  'accuracy': 0.9997813853690134,\n",
       "  'macro avg': {'precision': 0.977825577968247,\n",
       "   'recall': 0.9325912920590591,\n",
       "   'f1-score': 0.9524881490136774,\n",
       "   'support': 123505},\n",
       "  'weighted avg': {'precision': 0.9997786669210458,\n",
       "   'recall': 0.9997813853690134,\n",
       "   'f1-score': 0.9997784261799505,\n",
       "   'support': 123505}},\n",
       " 2: {'0': {'precision': 0.999989781529092,\n",
       "   'recall': 0.9999591273693353,\n",
       "   'f1-score': 0.9999744542142882,\n",
       "   'support': 97865},\n",
       "  '1': {'precision': 0.9990138472284998,\n",
       "   'recall': 0.9997532793289198,\n",
       "   'f1-score': 0.9993834265044393,\n",
       "   'support': 24319},\n",
       "  '2': {'precision': 0.99706457925636,\n",
       "   'recall': 0.9922103213242454,\n",
       "   'f1-score': 0.9946315275744265,\n",
       "   'support': 1027},\n",
       "  '3': {'precision': 0.9926739926739927,\n",
       "   'recall': 0.9644128113879004,\n",
       "   'f1-score': 0.9783393501805056,\n",
       "   'support': 281},\n",
       "  '4': {'precision': 0.7272727272727273,\n",
       "   'recall': 0.6153846153846154,\n",
       "   'f1-score': 0.6666666666666667,\n",
       "   'support': 13},\n",
       "  'accuracy': 0.9997328043399053,\n",
       "  'macro avg': {'precision': 0.9432029855921344,\n",
       "   'recall': 0.9143440309590034,\n",
       "   'f1-score': 0.9277990850280652,\n",
       "   'support': 123505},\n",
       "  'weighted avg': {'precision': 0.9997279379813504,\n",
       "   'recall': 0.9997328043399053,\n",
       "   'f1-score': 0.9997293398140085,\n",
       "   'support': 123505}},\n",
       " 3: {'0': {'precision': 0.9999795632670161,\n",
       "   'recall': 0.9999591273693353,\n",
       "   'f1-score': 0.999969345213766,\n",
       "   'support': 97865},\n",
       "  '1': {'precision': 0.9990138877475553,\n",
       "   'recall': 0.9997943994407664,\n",
       "   'f1-score': 0.9994039912037322,\n",
       "   'support': 24319},\n",
       "  '2': {'precision': 0.9990215264187867,\n",
       "   'recall': 0.994157740993184,\n",
       "   'f1-score': 0.9965836993655441,\n",
       "   'support': 1027},\n",
       "  '3': {'precision': 0.9889705882352942,\n",
       "   'recall': 0.9572953736654805,\n",
       "   'f1-score': 0.972875226039783,\n",
       "   'support': 281},\n",
       "  '4': {'precision': 0.9,\n",
       "   'recall': 0.6923076923076923,\n",
       "   'f1-score': 0.7826086956521738,\n",
       "   'support': 13},\n",
       "  'accuracy': 0.9997489980162746,\n",
       "  'macro avg': {'precision': 0.9773971131337305,\n",
       "   'recall': 0.9287028667552917,\n",
       "   'f1-score': 0.9502881914949999,\n",
       "   'support': 123505},\n",
       "  'weighted avg': {'precision': 0.9997458769943365,\n",
       "   'recall': 0.9997489980162746,\n",
       "   'f1-score': 0.9997453458745625,\n",
       "   'support': 123505}}}"
      ]
     },
     "execution_count": 12,
     "metadata": {},
     "output_type": "execute_result"
    }
   ],
   "source": [
    "results_38"
   ]
  },
  {
   "cell_type": "code",
   "execution_count": 13,
   "id": "b0a8a72f75b847",
   "metadata": {
    "ExecuteTime": {
     "end_time": "2023-10-06T00:35:24.664395Z",
     "start_time": "2023-10-06T00:34:23.053419Z"
    },
    "collapsed": false
   },
   "outputs": [
    {
     "name": "stdout",
     "output_type": "stream",
     "text": [
      "Model: \"sequential\"\n",
      "_________________________________________________________________\n",
      " Layer (type)                Output Shape              Param #   \n",
      "=================================================================\n",
      " encoder0 (Dense)            (None, 10)                390       \n",
      "                                                                 \n",
      " encoder1 (Dense)            (None, 5)                 55        \n",
      "                                                                 \n",
      " dense (Dense)               (None, 10)                60        \n",
      "                                                                 \n",
      " dense_1 (Dense)             (None, 38)                418       \n",
      "                                                                 \n",
      "=================================================================\n",
      "Total params: 923\n",
      "Trainable params: 923\n",
      "Non-trainable params: 0\n",
      "_________________________________________________________________\n",
      "Epoch 1/10\n"
     ]
    },
    {
     "name": "stderr",
     "output_type": "stream",
     "text": [
      "2023-10-06 09:34:23.246654: W tensorflow/tsl/platform/profile_utils/cpu_utils.cc:128] Failed to get CPU frequency: 0 Hz\n"
     ]
    },
    {
     "name": "stdout",
     "output_type": "stream",
     "text": [
      "15439/15439 [==============================] - 6s 377us/step - loss: 0.6547\n",
      "Epoch 2/10\n",
      "15439/15439 [==============================] - 6s 365us/step - loss: 0.6160\n",
      "Epoch 3/10\n",
      "15439/15439 [==============================] - 6s 357us/step - loss: 0.6139\n",
      "Epoch 4/10\n",
      "15439/15439 [==============================] - 5s 355us/step - loss: 0.6132\n",
      "Epoch 5/10\n",
      "15439/15439 [==============================] - 5s 353us/step - loss: 0.6132\n",
      "Epoch 6/10\n",
      "15439/15439 [==============================] - 5s 354us/step - loss: 0.6129\n",
      "Epoch 7/10\n",
      "15439/15439 [==============================] - 6s 359us/step - loss: 0.6120\n",
      "Epoch 8/10\n",
      "15439/15439 [==============================] - 6s 358us/step - loss: 0.6000\n",
      "Epoch 9/10\n",
      "15439/15439 [==============================] - 6s 361us/step - loss: 0.5555\n",
      "Epoch 10/10\n",
      "15439/15439 [==============================] - 6s 360us/step - loss: 0.5538\n",
      "15439/15439 [==============================] - 3s 220us/step\n"
     ]
    }
   ],
   "source": [
    "# オートエンコーダ特徴量を加えたXの作成\n",
    "X_ae = pd.concat([X, generate_autoencoder_features(X, [10, 5])], axis=1)"
   ]
  },
  {
   "cell_type": "code",
   "execution_count": 14,
   "id": "96df67449a5e812e",
   "metadata": {
    "ExecuteTime": {
     "end_time": "2023-10-06T00:35:24.668773Z",
     "start_time": "2023-10-06T00:35:24.667980Z"
    },
    "collapsed": false
   },
   "outputs": [],
   "source": [
    "k_fold_generator = k_fold.split(X_ae, y)"
   ]
  },
  {
   "cell_type": "code",
   "execution_count": 15,
   "id": "ccf404367830798b",
   "metadata": {
    "ExecuteTime": {
     "end_time": "2023-10-06T00:36:04.867908Z",
     "start_time": "2023-10-06T00:35:24.668556Z"
    },
    "collapsed": false
   },
   "outputs": [],
   "source": [
    "from sklearn.ensemble import RandomForestClassifier\n",
    "\n",
    "# オートエンコーダ特徴量を加えた特徴量での学習\n",
    "lr_ae = RandomForestClassifier(random_state=2023)\n",
    "results = dict()\n",
    "for i, (train_idx, test_idx) in enumerate(k_fold_generator):\n",
    "    X_train, X_test = X.iloc[train_idx], X.iloc[test_idx]\n",
    "    y_train, y_test = y.iloc[train_idx], y.iloc[test_idx]\n",
    "    lr_ae.fit(X_train, y_train)\n",
    "    results[i] = classification_report(y_test, lr_ae.predict(X_test), output_dict=True)"
   ]
  },
  {
   "cell_type": "code",
   "execution_count": 16,
   "id": "855266fe1578b4a7",
   "metadata": {
    "ExecuteTime": {
     "end_time": "2023-10-06T00:36:04.871343Z",
     "start_time": "2023-10-06T00:36:04.868811Z"
    },
    "collapsed": false
   },
   "outputs": [
    {
     "data": {
      "text/plain": [
       "0.914817781446563"
      ]
     },
     "execution_count": 16,
     "metadata": {},
     "output_type": "execute_result"
    }
   ],
   "source": [
    "recall = np.mean([results[i]['macro avg']['recall'] for i in range(N_SPLITS)])\n",
    "recall"
   ]
  },
  {
   "cell_type": "code",
   "execution_count": 17,
   "id": "9a243f6fdee91aea",
   "metadata": {
    "ExecuteTime": {
     "end_time": "2023-10-06T00:36:04.881788Z",
     "start_time": "2023-10-06T00:36:04.871262Z"
    },
    "collapsed": false
   },
   "outputs": [
    {
     "data": {
      "text/html": [
       "<div>\n",
       "<style scoped>\n",
       "    .dataframe tbody tr th:only-of-type {\n",
       "        vertical-align: middle;\n",
       "    }\n",
       "\n",
       "    .dataframe tbody tr th {\n",
       "        vertical-align: top;\n",
       "    }\n",
       "\n",
       "    .dataframe thead th {\n",
       "        text-align: right;\n",
       "    }\n",
       "</style>\n",
       "<table border=\"1\" class=\"dataframe\">\n",
       "  <thead>\n",
       "    <tr style=\"text-align: right;\">\n",
       "      <th></th>\n",
       "      <th>duration</th>\n",
       "      <th>src_bytes</th>\n",
       "      <th>dst_bytes</th>\n",
       "      <th>land</th>\n",
       "      <th>wrong_fragment</th>\n",
       "      <th>urgent</th>\n",
       "      <th>hot</th>\n",
       "      <th>num_failed_logins</th>\n",
       "      <th>logged_in</th>\n",
       "      <th>num_compromised</th>\n",
       "      <th>...</th>\n",
       "      <th>dst_host_srv_diff_host_rate</th>\n",
       "      <th>dst_host_serror_rate</th>\n",
       "      <th>dst_host_srv_serror_rate</th>\n",
       "      <th>dst_host_rerror_rate</th>\n",
       "      <th>dst_host_srv_rerror_rate</th>\n",
       "      <th>ae_0</th>\n",
       "      <th>ae_1</th>\n",
       "      <th>ae_2</th>\n",
       "      <th>ae_3</th>\n",
       "      <th>ae_4</th>\n",
       "    </tr>\n",
       "  </thead>\n",
       "  <tbody>\n",
       "    <tr>\n",
       "      <th>0</th>\n",
       "      <td>-0.067792</td>\n",
       "      <td>-0.002879</td>\n",
       "      <td>0.138664</td>\n",
       "      <td>-0.006673</td>\n",
       "      <td>-0.04772</td>\n",
       "      <td>-0.002571</td>\n",
       "      <td>-0.044136</td>\n",
       "      <td>-0.009782</td>\n",
       "      <td>2.39698</td>\n",
       "      <td>-0.005679</td>\n",
       "      <td>...</td>\n",
       "      <td>-0.158629</td>\n",
       "      <td>-0.464418</td>\n",
       "      <td>-0.463202</td>\n",
       "      <td>-0.25204</td>\n",
       "      <td>-0.249464</td>\n",
       "      <td>1.858684</td>\n",
       "      <td>2.947540</td>\n",
       "      <td>4.101514</td>\n",
       "      <td>2.833884</td>\n",
       "      <td>2.709509</td>\n",
       "    </tr>\n",
       "    <tr>\n",
       "      <th>1</th>\n",
       "      <td>-0.067792</td>\n",
       "      <td>-0.002820</td>\n",
       "      <td>-0.011578</td>\n",
       "      <td>-0.006673</td>\n",
       "      <td>-0.04772</td>\n",
       "      <td>-0.002571</td>\n",
       "      <td>-0.044136</td>\n",
       "      <td>-0.009782</td>\n",
       "      <td>2.39698</td>\n",
       "      <td>-0.005679</td>\n",
       "      <td>...</td>\n",
       "      <td>-0.158629</td>\n",
       "      <td>-0.464418</td>\n",
       "      <td>-0.463202</td>\n",
       "      <td>-0.25204</td>\n",
       "      <td>-0.249464</td>\n",
       "      <td>1.810396</td>\n",
       "      <td>2.926773</td>\n",
       "      <td>4.052037</td>\n",
       "      <td>2.759405</td>\n",
       "      <td>2.690860</td>\n",
       "    </tr>\n",
       "    <tr>\n",
       "      <th>2</th>\n",
       "      <td>-0.067792</td>\n",
       "      <td>-0.002824</td>\n",
       "      <td>0.014179</td>\n",
       "      <td>-0.006673</td>\n",
       "      <td>-0.04772</td>\n",
       "      <td>-0.002571</td>\n",
       "      <td>-0.044136</td>\n",
       "      <td>-0.009782</td>\n",
       "      <td>2.39698</td>\n",
       "      <td>-0.005679</td>\n",
       "      <td>...</td>\n",
       "      <td>-0.158629</td>\n",
       "      <td>-0.464418</td>\n",
       "      <td>-0.463202</td>\n",
       "      <td>-0.25204</td>\n",
       "      <td>-0.249464</td>\n",
       "      <td>1.768042</td>\n",
       "      <td>2.904612</td>\n",
       "      <td>4.003182</td>\n",
       "      <td>2.695909</td>\n",
       "      <td>2.682333</td>\n",
       "    </tr>\n",
       "    <tr>\n",
       "      <th>3</th>\n",
       "      <td>-0.067792</td>\n",
       "      <td>-0.002840</td>\n",
       "      <td>0.014179</td>\n",
       "      <td>-0.006673</td>\n",
       "      <td>-0.04772</td>\n",
       "      <td>-0.002571</td>\n",
       "      <td>-0.044136</td>\n",
       "      <td>-0.009782</td>\n",
       "      <td>2.39698</td>\n",
       "      <td>-0.005679</td>\n",
       "      <td>...</td>\n",
       "      <td>-0.158629</td>\n",
       "      <td>-0.464418</td>\n",
       "      <td>-0.463202</td>\n",
       "      <td>-0.25204</td>\n",
       "      <td>-0.249464</td>\n",
       "      <td>1.727767</td>\n",
       "      <td>2.887534</td>\n",
       "      <td>3.957442</td>\n",
       "      <td>2.634125</td>\n",
       "      <td>2.676670</td>\n",
       "    </tr>\n",
       "    <tr>\n",
       "      <th>4</th>\n",
       "      <td>-0.067792</td>\n",
       "      <td>-0.002842</td>\n",
       "      <td>0.035214</td>\n",
       "      <td>-0.006673</td>\n",
       "      <td>-0.04772</td>\n",
       "      <td>-0.002571</td>\n",
       "      <td>-0.044136</td>\n",
       "      <td>-0.009782</td>\n",
       "      <td>2.39698</td>\n",
       "      <td>-0.005679</td>\n",
       "      <td>...</td>\n",
       "      <td>-0.158629</td>\n",
       "      <td>-0.464418</td>\n",
       "      <td>-0.463202</td>\n",
       "      <td>-0.25204</td>\n",
       "      <td>-0.249464</td>\n",
       "      <td>1.686351</td>\n",
       "      <td>2.866448</td>\n",
       "      <td>3.908681</td>\n",
       "      <td>2.571404</td>\n",
       "      <td>2.669727</td>\n",
       "    </tr>\n",
       "  </tbody>\n",
       "</table>\n",
       "<p>5 rows × 43 columns</p>\n",
       "</div>"
      ],
      "text/plain": [
       "   duration  src_bytes  dst_bytes      land  wrong_fragment    urgent  \\\n",
       "0 -0.067792  -0.002879   0.138664 -0.006673        -0.04772 -0.002571   \n",
       "1 -0.067792  -0.002820  -0.011578 -0.006673        -0.04772 -0.002571   \n",
       "2 -0.067792  -0.002824   0.014179 -0.006673        -0.04772 -0.002571   \n",
       "3 -0.067792  -0.002840   0.014179 -0.006673        -0.04772 -0.002571   \n",
       "4 -0.067792  -0.002842   0.035214 -0.006673        -0.04772 -0.002571   \n",
       "\n",
       "        hot  num_failed_logins  logged_in  num_compromised  ...  \\\n",
       "0 -0.044136          -0.009782    2.39698        -0.005679  ...   \n",
       "1 -0.044136          -0.009782    2.39698        -0.005679  ...   \n",
       "2 -0.044136          -0.009782    2.39698        -0.005679  ...   \n",
       "3 -0.044136          -0.009782    2.39698        -0.005679  ...   \n",
       "4 -0.044136          -0.009782    2.39698        -0.005679  ...   \n",
       "\n",
       "   dst_host_srv_diff_host_rate  dst_host_serror_rate  \\\n",
       "0                    -0.158629             -0.464418   \n",
       "1                    -0.158629             -0.464418   \n",
       "2                    -0.158629             -0.464418   \n",
       "3                    -0.158629             -0.464418   \n",
       "4                    -0.158629             -0.464418   \n",
       "\n",
       "   dst_host_srv_serror_rate  dst_host_rerror_rate  dst_host_srv_rerror_rate  \\\n",
       "0                 -0.463202              -0.25204                 -0.249464   \n",
       "1                 -0.463202              -0.25204                 -0.249464   \n",
       "2                 -0.463202              -0.25204                 -0.249464   \n",
       "3                 -0.463202              -0.25204                 -0.249464   \n",
       "4                 -0.463202              -0.25204                 -0.249464   \n",
       "\n",
       "       ae_0      ae_1      ae_2      ae_3      ae_4  \n",
       "0  1.858684  2.947540  4.101514  2.833884  2.709509  \n",
       "1  1.810396  2.926773  4.052037  2.759405  2.690860  \n",
       "2  1.768042  2.904612  4.003182  2.695909  2.682333  \n",
       "3  1.727767  2.887534  3.957442  2.634125  2.676670  \n",
       "4  1.686351  2.866448  3.908681  2.571404  2.669727  \n",
       "\n",
       "[5 rows x 43 columns]"
      ]
     },
     "execution_count": 17,
     "metadata": {},
     "output_type": "execute_result"
    }
   ],
   "source": [
    "X_ae.head()"
   ]
  },
  {
   "cell_type": "code",
   "execution_count": 18,
   "id": "58cab04090d3089c",
   "metadata": {
    "ExecuteTime": {
     "end_time": "2023-10-06T00:36:04.886870Z",
     "start_time": "2023-10-06T00:36:04.883276Z"
    },
    "collapsed": false
   },
   "outputs": [
    {
     "data": {
      "text/plain": [
       "{0: {'0': {'precision': 0.9999795630581839,\n",
       "   'recall': 0.9999591269516881,\n",
       "   'f1-score': 0.9999693449005241,\n",
       "   'support': 97864},\n",
       "  '1': {'precision': 0.9988909426987062,\n",
       "   'recall': 0.9999177631578947,\n",
       "   'f1-score': 0.9994040891811363,\n",
       "   'support': 24320},\n",
       "  '2': {'precision': 1.0,\n",
       "   'recall': 0.9922103213242454,\n",
       "   'f1-score': 0.9960899315738024,\n",
       "   'support': 1027},\n",
       "  '3': {'precision': 1.0,\n",
       "   'recall': 0.9645390070921985,\n",
       "   'f1-score': 0.9819494584837545,\n",
       "   'support': 282},\n",
       "  '4': {'precision': 0.75,\n",
       "   'recall': 0.46153846153846156,\n",
       "   'f1-score': 0.5714285714285714,\n",
       "   'support': 13},\n",
       "  'accuracy': 0.9997490000485806,\n",
       "  'macro avg': {'precision': 0.949774101151378,\n",
       "   'recall': 0.8836329360128976,\n",
       "   'f1-score': 0.9097682791135577,\n",
       "   'support': 123506},\n",
       "  'weighted avg': {'precision': 0.9997391032464711,\n",
       "   'recall': 0.9997490000485806,\n",
       "   'f1-score': 0.9997395276073827,\n",
       "   'support': 123506}},\n",
       " 1: {'0': {'precision': 0.9999591273693353,\n",
       "   'recall': 0.999969345213766,\n",
       "   'f1-score': 0.9999642362654487,\n",
       "   'support': 97864},\n",
       "  '1': {'precision': 0.9993013028646582,\n",
       "   'recall': 0.9997532894736842,\n",
       "   'f1-score': 0.9995272450720437,\n",
       "   'support': 24320},\n",
       "  '2': {'precision': 0.9970617042115573,\n",
       "   'recall': 0.9922027290448343,\n",
       "   'f1-score': 0.9946262823644357,\n",
       "   'support': 1026},\n",
       "  '3': {'precision': 0.9928057553956835,\n",
       "   'recall': 0.9787234042553191,\n",
       "   'f1-score': 0.9857142857142858,\n",
       "   'support': 282},\n",
       "  '4': {'precision': 0.9,\n",
       "   'recall': 0.6923076923076923,\n",
       "   'f1-score': 0.7826086956521738,\n",
       "   'support': 13},\n",
       "  'accuracy': 0.9997813853690134,\n",
       "  'macro avg': {'precision': 0.977825577968247,\n",
       "   'recall': 0.9325912920590591,\n",
       "   'f1-score': 0.9524881490136774,\n",
       "   'support': 123505},\n",
       "  'weighted avg': {'precision': 0.9997786669210458,\n",
       "   'recall': 0.9997813853690134,\n",
       "   'f1-score': 0.9997784261799505,\n",
       "   'support': 123505}},\n",
       " 2: {'0': {'precision': 0.999989781529092,\n",
       "   'recall': 0.9999591273693353,\n",
       "   'f1-score': 0.9999744542142882,\n",
       "   'support': 97865},\n",
       "  '1': {'precision': 0.9990138472284998,\n",
       "   'recall': 0.9997532793289198,\n",
       "   'f1-score': 0.9993834265044393,\n",
       "   'support': 24319},\n",
       "  '2': {'precision': 0.99706457925636,\n",
       "   'recall': 0.9922103213242454,\n",
       "   'f1-score': 0.9946315275744265,\n",
       "   'support': 1027},\n",
       "  '3': {'precision': 0.9926739926739927,\n",
       "   'recall': 0.9644128113879004,\n",
       "   'f1-score': 0.9783393501805056,\n",
       "   'support': 281},\n",
       "  '4': {'precision': 0.7272727272727273,\n",
       "   'recall': 0.6153846153846154,\n",
       "   'f1-score': 0.6666666666666667,\n",
       "   'support': 13},\n",
       "  'accuracy': 0.9997328043399053,\n",
       "  'macro avg': {'precision': 0.9432029855921344,\n",
       "   'recall': 0.9143440309590034,\n",
       "   'f1-score': 0.9277990850280652,\n",
       "   'support': 123505},\n",
       "  'weighted avg': {'precision': 0.9997279379813504,\n",
       "   'recall': 0.9997328043399053,\n",
       "   'f1-score': 0.9997293398140085,\n",
       "   'support': 123505}},\n",
       " 3: {'0': {'precision': 0.9999795632670161,\n",
       "   'recall': 0.9999591273693353,\n",
       "   'f1-score': 0.999969345213766,\n",
       "   'support': 97865},\n",
       "  '1': {'precision': 0.9990138877475553,\n",
       "   'recall': 0.9997943994407664,\n",
       "   'f1-score': 0.9994039912037322,\n",
       "   'support': 24319},\n",
       "  '2': {'precision': 0.9990215264187867,\n",
       "   'recall': 0.994157740993184,\n",
       "   'f1-score': 0.9965836993655441,\n",
       "   'support': 1027},\n",
       "  '3': {'precision': 0.9889705882352942,\n",
       "   'recall': 0.9572953736654805,\n",
       "   'f1-score': 0.972875226039783,\n",
       "   'support': 281},\n",
       "  '4': {'precision': 0.9,\n",
       "   'recall': 0.6923076923076923,\n",
       "   'f1-score': 0.7826086956521738,\n",
       "   'support': 13},\n",
       "  'accuracy': 0.9997489980162746,\n",
       "  'macro avg': {'precision': 0.9773971131337305,\n",
       "   'recall': 0.9287028667552917,\n",
       "   'f1-score': 0.9502881914949999,\n",
       "   'support': 123505},\n",
       "  'weighted avg': {'precision': 0.9997458769943365,\n",
       "   'recall': 0.9997489980162746,\n",
       "   'f1-score': 0.9997453458745625,\n",
       "   'support': 123505}}}"
      ]
     },
     "execution_count": 18,
     "metadata": {},
     "output_type": "execute_result"
    }
   ],
   "source": [
    "results"
   ]
  },
  {
   "cell_type": "code",
   "execution_count": 19,
   "id": "622b4bccfaa138d6",
   "metadata": {
    "ExecuteTime": {
     "end_time": "2023-10-06T00:36:04.920551Z",
     "start_time": "2023-10-06T00:36:04.887584Z"
    },
    "collapsed": false
   },
   "outputs": [
    {
     "data": {
      "text/plain": [
       "0.914817781446563"
      ]
     },
     "execution_count": 19,
     "metadata": {},
     "output_type": "execute_result"
    }
   ],
   "source": [
    "np.mean([results[i]['macro avg']['recall'] for i in range(N_SPLITS)])"
   ]
  },
  {
   "cell_type": "code",
   "execution_count": 20,
   "id": "ea04edf21612387a",
   "metadata": {
    "ExecuteTime": {
     "end_time": "2023-10-06T00:36:04.921255Z",
     "start_time": "2023-10-06T00:36:04.891173Z"
    },
    "collapsed": false
   },
   "outputs": [
    {
     "data": {
      "text/plain": [
       "0.914817781446563"
      ]
     },
     "execution_count": 20,
     "metadata": {},
     "output_type": "execute_result"
    }
   ],
   "source": [
    "np.mean([results_38[i]['macro avg']['recall'] for i in range(N_SPLITS)])"
   ]
  },
  {
   "cell_type": "code",
   "execution_count": 21,
   "id": "9203cb124243e191",
   "metadata": {
    "ExecuteTime": {
     "end_time": "2023-10-06T00:36:04.921372Z",
     "start_time": "2023-10-06T00:36:04.894212Z"
    },
    "collapsed": false
   },
   "outputs": [
    {
     "data": {
      "text/plain": [
       "0.935085926162575"
      ]
     },
     "execution_count": 21,
     "metadata": {},
     "output_type": "execute_result"
    }
   ],
   "source": [
    "np.mean([results[i]['macro avg']['f1-score'] for i in range(N_SPLITS)])"
   ]
  },
  {
   "cell_type": "code",
   "execution_count": 22,
   "id": "672b978382022251",
   "metadata": {
    "ExecuteTime": {
     "end_time": "2023-10-06T00:36:04.921472Z",
     "start_time": "2023-10-06T00:36:04.897612Z"
    },
    "collapsed": false
   },
   "outputs": [
    {
     "data": {
      "text/plain": [
       "0.935085926162575"
      ]
     },
     "execution_count": 22,
     "metadata": {},
     "output_type": "execute_result"
    }
   ],
   "source": [
    "np.mean([results_38[i]['macro avg']['f1-score'] for i in range(N_SPLITS)])"
   ]
  },
  {
   "cell_type": "code",
   "execution_count": 23,
   "id": "29b493eb098069cd",
   "metadata": {
    "ExecuteTime": {
     "end_time": "2023-10-06T00:36:04.921533Z",
     "start_time": "2023-10-06T00:36:04.900641Z"
    },
    "collapsed": false
   },
   "outputs": [
    {
     "data": {
      "text/plain": [
       "0.6153846153846154"
      ]
     },
     "execution_count": 23,
     "metadata": {},
     "output_type": "execute_result"
    }
   ],
   "source": [
    "np.mean([results[i]['4']['recall'] for i in range(N_SPLITS)])"
   ]
  },
  {
   "cell_type": "code",
   "execution_count": 24,
   "id": "e3f4bb7383011a26",
   "metadata": {
    "ExecuteTime": {
     "end_time": "2023-10-06T00:36:04.921700Z",
     "start_time": "2023-10-06T00:36:04.903749Z"
    },
    "collapsed": false
   },
   "outputs": [
    {
     "data": {
      "text/plain": [
       "0.6153846153846154"
      ]
     },
     "execution_count": 24,
     "metadata": {},
     "output_type": "execute_result"
    }
   ],
   "source": [
    "np.mean([results_38[i]['4']['recall'] for i in range(N_SPLITS)])"
   ]
  },
  {
   "cell_type": "code",
   "execution_count": 25,
   "id": "ec0e1b50910dead9",
   "metadata": {
    "ExecuteTime": {
     "end_time": "2023-10-06T00:38:11.795560Z",
     "start_time": "2023-10-06T00:38:11.790422Z"
    },
    "collapsed": false
   },
   "outputs": [
    {
     "data": {
      "text/plain": [
       "0.6153846153846154"
      ]
     },
     "execution_count": 25,
     "metadata": {},
     "output_type": "execute_result"
    }
   ],
   "source": []
  }
 ],
 "metadata": {
  "kernelspec": {
   "display_name": "Python 3",
   "language": "python",
   "name": "python3"
  },
  "language_info": {
   "codemirror_mode": {
    "name": "ipython",
    "version": 2
   },
   "file_extension": ".py",
   "mimetype": "text/x-python",
   "name": "python",
   "nbconvert_exporter": "python",
   "pygments_lexer": "ipython2",
   "version": "3.9.6"
  }
 },
 "nbformat": 4,
 "nbformat_minor": 5
}
