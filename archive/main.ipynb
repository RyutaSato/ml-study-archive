{
 "cells": [
  {
   "cell_type": "code",
   "execution_count": 1,
   "outputs": [
    {
     "name": "stdout",
     "output_type": "stream",
     "text": [
      "python:      3.10.11\n",
      "sklearn:     1.2.2\n",
      "tensorflow:  2.12.0\n",
      "keras:       2.12.0\n",
      "numpy:       1.23.5\n",
      "pandas:      1.5.3\n"
     ]
    }
   ],
   "source": [
    "from utils_kdd99 import *\n",
    "print_version()"
   ],
   "metadata": {
    "collapsed": false,
    "ExecuteTime": {
     "end_time": "2023-09-04T23:41:48.721297Z",
     "start_time": "2023-09-04T23:41:45.178866Z"
    }
   }
  },
  {
   "cell_type": "code",
   "execution_count": 13,
   "metadata": {
    "collapsed": true,
    "ExecuteTime": {
     "end_time": "2023-09-04T23:43:42.966921Z",
     "start_time": "2023-09-04T23:43:41.816666Z"
    }
   },
   "outputs": [
    {
     "data": {
      "text/plain": "   duration  src_bytes  dst_bytes      land  wrong_fragment    urgent  \\\n0 -0.067792  -0.002879   0.138664 -0.006673        -0.04772 -0.002571   \n1 -0.067792  -0.002820  -0.011578 -0.006673        -0.04772 -0.002571   \n2 -0.067792  -0.002824   0.014179 -0.006673        -0.04772 -0.002571   \n3 -0.067792  -0.002840   0.014179 -0.006673        -0.04772 -0.002571   \n4 -0.067792  -0.002842   0.035214 -0.006673        -0.04772 -0.002571   \n\n        hot  num_failed_logins  logged_in  num_compromised  ...  \\\n0 -0.044136          -0.009782    2.39698        -0.005679  ...   \n1 -0.044136          -0.009782    2.39698        -0.005679  ...   \n2 -0.044136          -0.009782    2.39698        -0.005679  ...   \n3 -0.044136          -0.009782    2.39698        -0.005679  ...   \n4 -0.044136          -0.009782    2.39698        -0.005679  ...   \n\n   dst_host_count  dst_host_srv_count  dst_host_same_srv_rate  \\\n0       -3.451536           -1.694315                0.599396   \n1       -3.297085           -1.600011                0.599396   \n2       -3.142633           -1.505707                0.599396   \n3       -2.988182           -1.411403                0.599396   \n4       -2.833731           -1.317100                0.599396   \n\n   dst_host_diff_srv_rate  dst_host_same_src_port_rate  \\\n0               -0.282867                    -1.022077   \n1               -0.282867                    -1.146737   \n2               -0.282867                    -1.188291   \n3               -0.282867                    -1.188291   \n4               -0.282867                    -1.209067   \n\n   dst_host_srv_diff_host_rate  dst_host_serror_rate  \\\n0                    -0.158629             -0.464418   \n1                    -0.158629             -0.464418   \n2                    -0.158629             -0.464418   \n3                    -0.158629             -0.464418   \n4                    -0.158629             -0.464418   \n\n   dst_host_srv_serror_rate  dst_host_rerror_rate  dst_host_srv_rerror_rate  \n0                 -0.463202              -0.25204                 -0.249464  \n1                 -0.463202              -0.25204                 -0.249464  \n2                 -0.463202              -0.25204                 -0.249464  \n3                 -0.463202              -0.25204                 -0.249464  \n4                 -0.463202              -0.25204                 -0.249464  \n\n[5 rows x 38 columns]",
      "text/html": "<div>\n<style scoped>\n    .dataframe tbody tr th:only-of-type {\n        vertical-align: middle;\n    }\n\n    .dataframe tbody tr th {\n        vertical-align: top;\n    }\n\n    .dataframe thead th {\n        text-align: right;\n    }\n</style>\n<table border=\"1\" class=\"dataframe\">\n  <thead>\n    <tr style=\"text-align: right;\">\n      <th></th>\n      <th>duration</th>\n      <th>src_bytes</th>\n      <th>dst_bytes</th>\n      <th>land</th>\n      <th>wrong_fragment</th>\n      <th>urgent</th>\n      <th>hot</th>\n      <th>num_failed_logins</th>\n      <th>logged_in</th>\n      <th>num_compromised</th>\n      <th>...</th>\n      <th>dst_host_count</th>\n      <th>dst_host_srv_count</th>\n      <th>dst_host_same_srv_rate</th>\n      <th>dst_host_diff_srv_rate</th>\n      <th>dst_host_same_src_port_rate</th>\n      <th>dst_host_srv_diff_host_rate</th>\n      <th>dst_host_serror_rate</th>\n      <th>dst_host_srv_serror_rate</th>\n      <th>dst_host_rerror_rate</th>\n      <th>dst_host_srv_rerror_rate</th>\n    </tr>\n  </thead>\n  <tbody>\n    <tr>\n      <th>0</th>\n      <td>-0.067792</td>\n      <td>-0.002879</td>\n      <td>0.138664</td>\n      <td>-0.006673</td>\n      <td>-0.04772</td>\n      <td>-0.002571</td>\n      <td>-0.044136</td>\n      <td>-0.009782</td>\n      <td>2.39698</td>\n      <td>-0.005679</td>\n      <td>...</td>\n      <td>-3.451536</td>\n      <td>-1.694315</td>\n      <td>0.599396</td>\n      <td>-0.282867</td>\n      <td>-1.022077</td>\n      <td>-0.158629</td>\n      <td>-0.464418</td>\n      <td>-0.463202</td>\n      <td>-0.25204</td>\n      <td>-0.249464</td>\n    </tr>\n    <tr>\n      <th>1</th>\n      <td>-0.067792</td>\n      <td>-0.002820</td>\n      <td>-0.011578</td>\n      <td>-0.006673</td>\n      <td>-0.04772</td>\n      <td>-0.002571</td>\n      <td>-0.044136</td>\n      <td>-0.009782</td>\n      <td>2.39698</td>\n      <td>-0.005679</td>\n      <td>...</td>\n      <td>-3.297085</td>\n      <td>-1.600011</td>\n      <td>0.599396</td>\n      <td>-0.282867</td>\n      <td>-1.146737</td>\n      <td>-0.158629</td>\n      <td>-0.464418</td>\n      <td>-0.463202</td>\n      <td>-0.25204</td>\n      <td>-0.249464</td>\n    </tr>\n    <tr>\n      <th>2</th>\n      <td>-0.067792</td>\n      <td>-0.002824</td>\n      <td>0.014179</td>\n      <td>-0.006673</td>\n      <td>-0.04772</td>\n      <td>-0.002571</td>\n      <td>-0.044136</td>\n      <td>-0.009782</td>\n      <td>2.39698</td>\n      <td>-0.005679</td>\n      <td>...</td>\n      <td>-3.142633</td>\n      <td>-1.505707</td>\n      <td>0.599396</td>\n      <td>-0.282867</td>\n      <td>-1.188291</td>\n      <td>-0.158629</td>\n      <td>-0.464418</td>\n      <td>-0.463202</td>\n      <td>-0.25204</td>\n      <td>-0.249464</td>\n    </tr>\n    <tr>\n      <th>3</th>\n      <td>-0.067792</td>\n      <td>-0.002840</td>\n      <td>0.014179</td>\n      <td>-0.006673</td>\n      <td>-0.04772</td>\n      <td>-0.002571</td>\n      <td>-0.044136</td>\n      <td>-0.009782</td>\n      <td>2.39698</td>\n      <td>-0.005679</td>\n      <td>...</td>\n      <td>-2.988182</td>\n      <td>-1.411403</td>\n      <td>0.599396</td>\n      <td>-0.282867</td>\n      <td>-1.188291</td>\n      <td>-0.158629</td>\n      <td>-0.464418</td>\n      <td>-0.463202</td>\n      <td>-0.25204</td>\n      <td>-0.249464</td>\n    </tr>\n    <tr>\n      <th>4</th>\n      <td>-0.067792</td>\n      <td>-0.002842</td>\n      <td>0.035214</td>\n      <td>-0.006673</td>\n      <td>-0.04772</td>\n      <td>-0.002571</td>\n      <td>-0.044136</td>\n      <td>-0.009782</td>\n      <td>2.39698</td>\n      <td>-0.005679</td>\n      <td>...</td>\n      <td>-2.833731</td>\n      <td>-1.317100</td>\n      <td>0.599396</td>\n      <td>-0.282867</td>\n      <td>-1.209067</td>\n      <td>-0.158629</td>\n      <td>-0.464418</td>\n      <td>-0.463202</td>\n      <td>-0.25204</td>\n      <td>-0.249464</td>\n    </tr>\n  </tbody>\n</table>\n<p>5 rows × 38 columns</p>\n</div>"
     },
     "execution_count": 13,
     "metadata": {},
     "output_type": "execute_result"
    }
   ],
   "source": [
    "X, y = load_data(use_full_dataset=False, standard_scale=True, verbose=0, )\n",
    "X.head()"
   ]
  },
  {
   "cell_type": "code",
   "execution_count": 3,
   "outputs": [],
   "source": [
    "X_25features = X.drop(labels=['hot', 'num_compromised', 'num_file_creations', 'num_outbound_cmds', 'is_host_login', 'srv_count', 'srv_serror_rate', 'srv_rerror_rate', 'same_srv_rate', 'srv_diff_host_rate', 'dst_host_count', 'dst_host_srv_count', 'dst_host_diff_srv_rate'], axis=1)\n"
   ],
   "metadata": {
    "collapsed": false,
    "ExecuteTime": {
     "end_time": "2023-09-04T23:41:49.735328Z",
     "start_time": "2023-09-04T23:41:49.714687Z"
    }
   }
  },
  {
   "cell_type": "code",
   "execution_count": 14,
   "outputs": [],
   "source": [
    "y = y.map(lambda x: attack_label_class[x]).map(lambda x: correspondences[x])\n",
    "# x_train, x_test, y_train, y_test = train_test_split(X_25features, y, test_size=0.33, random_state=RANDOM_SEED, stratify=y)\n",
    "x_train, x_test, y_train, y_test = train_test_split(X, y, test_size=0.33, random_state=RANDOM_SEED, stratify=y)\n"
   ],
   "metadata": {
    "collapsed": false,
    "ExecuteTime": {
     "end_time": "2023-09-04T23:43:49.135271Z",
     "start_time": "2023-09-04T23:43:48.798090Z"
    }
   }
  },
  {
   "cell_type": "code",
   "execution_count": 5,
   "outputs": [],
   "source": [
    "# x_train.to_pickle(\"models/kdd99_features/x_train-drop_25_df.pkl\")\n",
    "# x_test.to_pickle(\"models/kdd99_features/x_test-drop_25_df.pkl\")\n"
   ],
   "metadata": {
    "collapsed": false,
    "ExecuteTime": {
     "end_time": "2023-09-04T23:24:27.292809Z",
     "start_time": "2023-09-04T23:24:27.244318Z"
    }
   }
  },
  {
   "cell_type": "code",
   "execution_count": 5,
   "outputs": [],
   "source": [
    "# ラベルのリマッピング\n",
    "label_mapping = {0: 0, 2: 1, 3: 2, 4: 3}"
   ],
   "metadata": {
    "collapsed": false,
    "ExecuteTime": {
     "end_time": "2023-09-04T23:41:50.006032Z",
     "start_time": "2023-09-04T23:41:50.004405Z"
    }
   }
  },
  {
   "cell_type": "code",
   "execution_count": 6,
   "outputs": [
    {
     "data": {
      "text/plain": "38204     1\n176442    0\n384838    0\n261369    0\n17533     1\nName: true_label, dtype: int64"
     },
     "execution_count": 6,
     "metadata": {},
     "output_type": "execute_result"
    }
   ],
   "source": [
    "y_test.head()"
   ],
   "metadata": {
    "collapsed": false,
    "ExecuteTime": {
     "end_time": "2023-09-04T23:41:50.009367Z",
     "start_time": "2023-09-04T23:41:50.007229Z"
    }
   }
  },
  {
   "cell_type": "code",
   "execution_count": 15,
   "outputs": [],
   "source": [
    "x_train_dropped = x_train[y_train != 1]\n",
    "x_test_dropped = x_test[y_test != 1]\n",
    "\n",
    "y_train_dropped: pd.Series = y_train[y_train != 1]\n",
    "y_test_dropped: pd.Series = y_test[y_test != 1]\n",
    "y_train_mapped = y_train_dropped.map(label_mapping)\n",
    "y_test_mapped = y_test_dropped.map(y_train_mapped)\n"
   ],
   "metadata": {
    "collapsed": false,
    "ExecuteTime": {
     "end_time": "2023-09-04T23:44:20.034979Z",
     "start_time": "2023-09-04T23:44:19.914160Z"
    }
   }
  },
  {
   "cell_type": "code",
   "execution_count": 16,
   "outputs": [
    {
     "data": {
      "text/plain": "        duration  src_bytes  dst_bytes      land  wrong_fragment    urgent  \\\n176442 -0.067792  -0.002017  -0.026287 -0.006673        -0.04772 -0.002571   \n384838 -0.067792  -0.003062  -0.026287 -0.006673        -0.04772 -0.002571   \n261369 -0.067792  -0.002017  -0.026287 -0.006673        -0.04772 -0.002571   \n400731 -0.067792  -0.002535  -0.026287 -0.006673        -0.04772 -0.002571   \n285355 -0.067792  -0.002017  -0.026287 -0.006673        -0.04772 -0.002571   \n\n             hot  num_failed_logins  logged_in  num_compromised  ...  \\\n176442 -0.044136          -0.009782  -0.417192        -0.005679  ...   \n384838 -0.044136          -0.009782  -0.417192        -0.005679  ...   \n261369 -0.044136          -0.009782  -0.417192        -0.005679  ...   \n400731 -0.044136          -0.009782  -0.417192        -0.005679  ...   \n285355 -0.044136          -0.009782  -0.417192        -0.005679  ...   \n\n        dst_host_count  dst_host_srv_count  dst_host_same_srv_rate  \\\n176442        0.347967            0.625558                0.599396   \n384838        0.347967           -1.769758               -1.834994   \n261369        0.347967            0.625558                0.599396   \n400731        0.347967            0.625558                0.599396   \n285355        0.347967            0.625558                0.599396   \n\n        dst_host_diff_srv_rate  dst_host_same_src_port_rate  \\\n176442               -0.282867                     0.827048   \n384838                0.357813                    -1.250621   \n261369               -0.282867                     0.827048   \n400731               -0.282867                     0.827048   \n285355               -0.282867                     0.827048   \n\n        dst_host_srv_diff_host_rate  dst_host_serror_rate  \\\n176442                    -0.158629             -0.464418   \n384838                    -0.158629              2.163063   \n261369                    -0.158629             -0.464418   \n400731                    -0.158629             -0.464418   \n285355                    -0.158629             -0.464418   \n\n        dst_host_srv_serror_rate  dst_host_rerror_rate  \\\n176442                 -0.463202              -0.25204   \n384838                  2.162027              -0.25204   \n261369                 -0.463202              -0.25204   \n400731                 -0.463202              -0.25204   \n285355                 -0.463202              -0.25204   \n\n        dst_host_srv_rerror_rate  \n176442                 -0.249464  \n384838                 -0.249464  \n261369                 -0.249464  \n400731                 -0.249464  \n285355                 -0.249464  \n\n[5 rows x 38 columns]",
      "text/html": "<div>\n<style scoped>\n    .dataframe tbody tr th:only-of-type {\n        vertical-align: middle;\n    }\n\n    .dataframe tbody tr th {\n        vertical-align: top;\n    }\n\n    .dataframe thead th {\n        text-align: right;\n    }\n</style>\n<table border=\"1\" class=\"dataframe\">\n  <thead>\n    <tr style=\"text-align: right;\">\n      <th></th>\n      <th>duration</th>\n      <th>src_bytes</th>\n      <th>dst_bytes</th>\n      <th>land</th>\n      <th>wrong_fragment</th>\n      <th>urgent</th>\n      <th>hot</th>\n      <th>num_failed_logins</th>\n      <th>logged_in</th>\n      <th>num_compromised</th>\n      <th>...</th>\n      <th>dst_host_count</th>\n      <th>dst_host_srv_count</th>\n      <th>dst_host_same_srv_rate</th>\n      <th>dst_host_diff_srv_rate</th>\n      <th>dst_host_same_src_port_rate</th>\n      <th>dst_host_srv_diff_host_rate</th>\n      <th>dst_host_serror_rate</th>\n      <th>dst_host_srv_serror_rate</th>\n      <th>dst_host_rerror_rate</th>\n      <th>dst_host_srv_rerror_rate</th>\n    </tr>\n  </thead>\n  <tbody>\n    <tr>\n      <th>176442</th>\n      <td>-0.067792</td>\n      <td>-0.002017</td>\n      <td>-0.026287</td>\n      <td>-0.006673</td>\n      <td>-0.04772</td>\n      <td>-0.002571</td>\n      <td>-0.044136</td>\n      <td>-0.009782</td>\n      <td>-0.417192</td>\n      <td>-0.005679</td>\n      <td>...</td>\n      <td>0.347967</td>\n      <td>0.625558</td>\n      <td>0.599396</td>\n      <td>-0.282867</td>\n      <td>0.827048</td>\n      <td>-0.158629</td>\n      <td>-0.464418</td>\n      <td>-0.463202</td>\n      <td>-0.25204</td>\n      <td>-0.249464</td>\n    </tr>\n    <tr>\n      <th>384838</th>\n      <td>-0.067792</td>\n      <td>-0.003062</td>\n      <td>-0.026287</td>\n      <td>-0.006673</td>\n      <td>-0.04772</td>\n      <td>-0.002571</td>\n      <td>-0.044136</td>\n      <td>-0.009782</td>\n      <td>-0.417192</td>\n      <td>-0.005679</td>\n      <td>...</td>\n      <td>0.347967</td>\n      <td>-1.769758</td>\n      <td>-1.834994</td>\n      <td>0.357813</td>\n      <td>-1.250621</td>\n      <td>-0.158629</td>\n      <td>2.163063</td>\n      <td>2.162027</td>\n      <td>-0.25204</td>\n      <td>-0.249464</td>\n    </tr>\n    <tr>\n      <th>261369</th>\n      <td>-0.067792</td>\n      <td>-0.002017</td>\n      <td>-0.026287</td>\n      <td>-0.006673</td>\n      <td>-0.04772</td>\n      <td>-0.002571</td>\n      <td>-0.044136</td>\n      <td>-0.009782</td>\n      <td>-0.417192</td>\n      <td>-0.005679</td>\n      <td>...</td>\n      <td>0.347967</td>\n      <td>0.625558</td>\n      <td>0.599396</td>\n      <td>-0.282867</td>\n      <td>0.827048</td>\n      <td>-0.158629</td>\n      <td>-0.464418</td>\n      <td>-0.463202</td>\n      <td>-0.25204</td>\n      <td>-0.249464</td>\n    </tr>\n    <tr>\n      <th>400731</th>\n      <td>-0.067792</td>\n      <td>-0.002535</td>\n      <td>-0.026287</td>\n      <td>-0.006673</td>\n      <td>-0.04772</td>\n      <td>-0.002571</td>\n      <td>-0.044136</td>\n      <td>-0.009782</td>\n      <td>-0.417192</td>\n      <td>-0.005679</td>\n      <td>...</td>\n      <td>0.347967</td>\n      <td>0.625558</td>\n      <td>0.599396</td>\n      <td>-0.282867</td>\n      <td>0.827048</td>\n      <td>-0.158629</td>\n      <td>-0.464418</td>\n      <td>-0.463202</td>\n      <td>-0.25204</td>\n      <td>-0.249464</td>\n    </tr>\n    <tr>\n      <th>285355</th>\n      <td>-0.067792</td>\n      <td>-0.002017</td>\n      <td>-0.026287</td>\n      <td>-0.006673</td>\n      <td>-0.04772</td>\n      <td>-0.002571</td>\n      <td>-0.044136</td>\n      <td>-0.009782</td>\n      <td>-0.417192</td>\n      <td>-0.005679</td>\n      <td>...</td>\n      <td>0.347967</td>\n      <td>0.625558</td>\n      <td>0.599396</td>\n      <td>-0.282867</td>\n      <td>0.827048</td>\n      <td>-0.158629</td>\n      <td>-0.464418</td>\n      <td>-0.463202</td>\n      <td>-0.25204</td>\n      <td>-0.249464</td>\n    </tr>\n  </tbody>\n</table>\n<p>5 rows × 38 columns</p>\n</div>"
     },
     "execution_count": 16,
     "metadata": {},
     "output_type": "execute_result"
    }
   ],
   "source": [
    "x_test_dropped.head()"
   ],
   "metadata": {
    "collapsed": false,
    "ExecuteTime": {
     "end_time": "2023-09-04T23:44:20.286671Z",
     "start_time": "2023-09-04T23:44:20.276699Z"
    }
   }
  },
  {
   "cell_type": "code",
   "execution_count": 19,
   "outputs": [
    {
     "data": {
      "text/plain": "(265818, 38)"
     },
     "execution_count": 19,
     "metadata": {},
     "output_type": "execute_result"
    }
   ],
   "source": [
    "x_train_dropped.shape"
   ],
   "metadata": {
    "collapsed": false,
    "ExecuteTime": {
     "end_time": "2023-09-04T23:44:56.574569Z",
     "start_time": "2023-09-04T23:44:56.569600Z"
    }
   }
  },
  {
   "cell_type": "code",
   "execution_count": 20,
   "outputs": [],
   "source": [
    "y_train_mapped.to_pickle(\"models/kdd99_features/y_train_dropped_mapped_series.pkl\")\n",
    "y_test_mapped.to_pickle(\"models/kdd99_features/y_test_dropped_mapped_series.pkl\")\n",
    "x_train_dropped.to_pickle(\"models/kdd99_features/x_train_anomaly_df.pkl\")\n",
    "x_test_dropped.to_pickle(\"models/kdd99_features/x_test_anomaly_df.pkl\")"
   ],
   "metadata": {
    "collapsed": false,
    "ExecuteTime": {
     "end_time": "2023-09-04T23:45:24.397769Z",
     "start_time": "2023-09-04T23:45:24.288635Z"
    }
   }
  },
  {
   "cell_type": "code",
   "execution_count": null,
   "outputs": [],
   "source": [],
   "metadata": {
    "collapsed": false
   }
  }
 ],
 "metadata": {
  "kernelspec": {
   "display_name": "Python 3",
   "language": "python",
   "name": "python3"
  },
  "language_info": {
   "codemirror_mode": {
    "name": "ipython",
    "version": 2
   },
   "file_extension": ".py",
   "mimetype": "text/x-python",
   "name": "python",
   "nbconvert_exporter": "python",
   "pygments_lexer": "ipython2",
   "version": "2.7.6"
  }
 },
 "nbformat": 4,
 "nbformat_minor": 0
}
