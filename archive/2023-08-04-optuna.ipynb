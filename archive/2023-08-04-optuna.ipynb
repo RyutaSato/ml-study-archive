{
 "cells": [
  {
   "cell_type": "markdown",
   "source": [
    "\n",
    "## ハイパーパラメータチューニング（optuna）を試す。(再検証)\n",
    "\n",
    "### 目的\n",
    "- `2023-7-31`に行った実験の各クラスごとの混合行列も表示する。\n",
    "### 使用するデータセット\n",
    "- KDD99 10%\n",
    "### 手法\n",
    "### 結果\n",
    "### 考察"
   ],
   "metadata": {
    "collapsed": false
   },
   "id": "42e0e73af718494a"
  },
  {
   "cell_type": "code",
   "execution_count": 1,
   "id": "initial_id",
   "metadata": {
    "collapsed": true,
    "ExecuteTime": {
     "end_time": "2023-08-08T02:40:47.418264Z",
     "start_time": "2023-08-08T02:40:44.873066Z"
    }
   },
   "outputs": [
    {
     "name": "stdout",
     "output_type": "stream",
     "text": [
      "python:      3.10.11\n",
      "sklearn:     1.2.2\n",
      "tensorflow:  2.12.0\n",
      "keras:       2.12.0\n",
      "numpy:       1.23.5\n",
      "pandas:      1.5.3\n"
     ]
    }
   ],
   "source": [
    "import pandas as pd\n",
    "\n",
    "from utils_kdd99 import *\n",
    "print_version()"
   ]
  },
  {
   "cell_type": "code",
   "execution_count": 2,
   "outputs": [
    {
     "data": {
      "text/plain": "0    391458\n1     97278\n2      4107\n3      1126\n4        52\nName: true_label, dtype: int64"
     },
     "execution_count": 2,
     "metadata": {},
     "output_type": "execute_result"
    }
   ],
   "source": [
    "# データの読み込み\n",
    "X, y = load_data(use_full_dataset=False, standard_scale=True, verbose=0, )\n",
    "# 分類モデルによっては数値ラベルしか対応していないため、目的変数を分類クラスから数値へ変換\n",
    "y = y.map(lambda x: attack_label_class[x]).map(lambda x: correspondences[x])\n",
    "y.value_counts()"
   ],
   "metadata": {
    "collapsed": false,
    "ExecuteTime": {
     "end_time": "2023-08-08T02:40:48.560959Z",
     "start_time": "2023-08-08T02:40:47.416792Z"
    }
   },
   "id": "a095d7df79514d5e"
  },
  {
   "cell_type": "code",
   "execution_count": 3,
   "outputs": [],
   "source": [
    "x_train, x_test, y_train, y_test = train_test_split(X, y, test_size=0.33, random_state=RANDOM_SEED, stratify=y)"
   ],
   "metadata": {
    "collapsed": false,
    "ExecuteTime": {
     "end_time": "2023-08-08T02:40:48.697278Z",
     "start_time": "2023-08-08T02:40:48.562079Z"
    }
   },
   "id": "bf5619978d22c04c"
  },
  {
   "cell_type": "markdown",
   "source": [
    "### Dosのみを学習したオートエンコーダの作成\n",
    "- 隠れ層の次元数(38->10->5->10->38)\n",
    "- 活性化関数：ReLU\n",
    "- 最適化関数：adam\n",
    "- 損失関数：平均二乗誤差\n",
    "- エポック数：5\n",
    "- バッチサイズ：32"
   ],
   "metadata": {
    "collapsed": false
   },
   "id": "d776cca5aad065b6"
  },
  {
   "cell_type": "code",
   "execution_count": 4,
   "outputs": [
    {
     "name": "stdout",
     "output_type": "stream",
     "text": [
      "Model: \"sequential\"\n",
      "_________________________________________________________________\n",
      " Layer (type)                Output Shape              Param #   \n",
      "=================================================================\n",
      " encoder1 (Dense)            (None, 10)                390       \n",
      "                                                                 \n",
      " encoder2 (Dense)            (None, 5)                 55        \n",
      "                                                                 \n",
      " dense (Dense)               (None, 10)                60        \n",
      "                                                                 \n",
      " dense_1 (Dense)             (None, 38)                418       \n",
      "                                                                 \n",
      "=================================================================\n",
      "Total params: 923\n",
      "Trainable params: 923\n",
      "Non-trainable params: 0\n",
      "_________________________________________________________________\n"
     ]
    }
   ],
   "source": [
    "ae_model = keras.Sequential([\n",
    "    Dense(units=10, activation='relu', input_dim=38, name='encoder1'),\n",
    "    Dense(units=5, activation='relu', name='encoder2'),\n",
    "    Dense(units=10, activation='relu'),\n",
    "    Dense(units=38, activation='relu'),\n",
    "])\n",
    "ae_model.compile(optimizer='adam', loss='mean_squared_error', metrics=['accuracy'])\n",
    "ae_model.summary()"
   ],
   "metadata": {
    "collapsed": false,
    "ExecuteTime": {
     "end_time": "2023-08-08T02:40:48.790657Z",
     "start_time": "2023-08-08T02:40:48.704948Z"
    }
   },
   "id": "4c4d5ecf7fd0bc33"
  },
  {
   "cell_type": "code",
   "execution_count": 5,
   "outputs": [],
   "source": [
    "# Dosのみのデータセットを作成\n",
    "dos_x_train = x_train[y_train == correspondences['dos']]"
   ],
   "metadata": {
    "collapsed": false,
    "ExecuteTime": {
     "end_time": "2023-08-08T02:40:48.836888Z",
     "start_time": "2023-08-08T02:40:48.793366Z"
    }
   },
   "id": "11497b669c0fd920"
  },
  {
   "cell_type": "code",
   "execution_count": 6,
   "outputs": [
    {
     "name": "stdout",
     "output_type": "stream",
     "text": [
      "Epoch 1/5\n"
     ]
    },
    {
     "name": "stderr",
     "output_type": "stream",
     "text": [
      "2023-08-08 11:40:48.915995: W tensorflow/tsl/platform/profile_utils/cpu_utils.cc:128] Failed to get CPU frequency: 0 Hz\n"
     ]
    },
    {
     "name": "stdout",
     "output_type": "stream",
     "text": [
      "10344/10344 [==============================] - 5s 416us/step - loss: 0.5896 - accuracy: 0.6929\n",
      "Epoch 2/5\n",
      "10344/10344 [==============================] - 5s 435us/step - loss: 0.5519 - accuracy: 0.7093\n",
      "Epoch 3/5\n",
      "10344/10344 [==============================] - 4s 403us/step - loss: 0.5492 - accuracy: 0.7116\n",
      "Epoch 4/5\n",
      "10344/10344 [==============================] - 4s 399us/step - loss: 0.5491 - accuracy: 0.7134\n",
      "Epoch 5/5\n",
      "10344/10344 [==============================] - 4s 408us/step - loss: 0.5433 - accuracy: 0.7154\n"
     ]
    },
    {
     "data": {
      "text/plain": "<keras.callbacks.History at 0x17f6f7370>"
     },
     "execution_count": 6,
     "metadata": {},
     "output_type": "execute_result"
    }
   ],
   "source": [
    "ae_model.fit(dos_x_train, dos_x_train,\n",
    "            epochs=5, # データセットを使って学習する回数\n",
    "            batch_size=32,\n",
    "            shuffle=True,\n",
    "            verbose=1,\n",
    "            use_multiprocessing=True\n",
    "          )"
   ],
   "metadata": {
    "collapsed": false,
    "ExecuteTime": {
     "end_time": "2023-08-08T02:41:10.479307Z",
     "start_time": "2023-08-08T02:40:48.816591Z"
    }
   },
   "id": "4100f2b92c02e6e4"
  },
  {
   "cell_type": "code",
   "execution_count": 7,
   "outputs": [
    {
     "data": {
      "text/plain": "['new_feature0',\n 'new_feature1',\n 'new_feature2',\n 'new_feature3',\n 'new_feature4']"
     },
     "execution_count": 7,
     "metadata": {},
     "output_type": "execute_result"
    }
   ],
   "source": [
    "# エンコーダー部分を抜き取る\n",
    "encoder = keras.Sequential([ae_model.get_layer('encoder1'),\n",
    "                            ae_model.get_layer('encoder2')])\n",
    "# DOSエンコーダを用いた特徴量に命名\n",
    "dos_columns = list(map(lambda x: 'dos' + str(x), range(5)))\n",
    "dos_columns"
   ],
   "metadata": {
    "collapsed": false,
    "ExecuteTime": {
     "end_time": "2023-08-08T02:41:10.492307Z",
     "start_time": "2023-08-08T02:41:10.483013Z"
    }
   },
   "id": "c90ea97000cb72d6"
  },
  {
   "cell_type": "code",
   "execution_count": 8,
   "outputs": [
    {
     "name": "stdout",
     "output_type": "stream",
     "text": [
      "10344/10344 [==============================] - 2s 220us/step\n",
      "5095/5095 [==============================] - 1s 222us/step\n"
     ]
    },
    {
     "data": {
      "text/plain": "        duration  src_bytes  dst_bytes      land  wrong_fragment    urgent  \\\n212221 -0.067792  -0.002017  -0.026287 -0.006673        -0.04772 -0.002571   \n30903  -0.067792  -0.002774   0.472896 -0.006673        -0.04772 -0.002571   \n9739   -0.067792  -0.002017  -0.026287 -0.006673        -0.04772 -0.002571   \n37540  -0.067792  -0.002776  -0.014120 -0.006673        -0.04772 -0.002571   \n418638 -0.067792  -0.002535  -0.026287 -0.006673        -0.04772 -0.002571   \n\n             hot  num_failed_logins  logged_in  num_compromised  ...  \\\n212221 -0.044136          -0.009782  -0.417192        -0.005679  ...   \n30903  -0.044136          -0.009782   2.396980        -0.005679  ...   \n9739   -0.044136          -0.009782  -0.417192        -0.005679  ...   \n37540  -0.044136          -0.009782   2.396980        -0.005679  ...   \n418638 -0.044136          -0.009782  -0.417192        -0.005679  ...   \n\n        dst_host_srv_diff_host_rate  dst_host_serror_rate  \\\n212221                    -0.158629             -0.464418   \n30903                      0.553404             -0.464418   \n9739                      -0.158629             -0.464418   \n37540                      0.790749             -0.464418   \n418638                    -0.158629             -0.464418   \n\n        dst_host_srv_serror_rate  dst_host_rerror_rate  \\\n212221                 -0.463202              -0.25204   \n30903                  -0.463202              -0.25204   \n9739                   -0.463202              -0.25204   \n37540                  -0.463202              -0.25204   \n418638                 -0.463202              -0.25204   \n\n        dst_host_srv_rerror_rate  new_feature0  new_feature1  new_feature2  \\\n212221                 -0.249464      0.692042      0.222451      1.115143   \n30903                  -0.249464      0.619383      1.740016      1.137264   \n9739                   -0.249464      0.689879      0.221864      1.116348   \n37540                  -0.249464      0.557589      1.872177      1.244722   \n418638                 -0.249464      0.690494      0.222162      1.116061   \n\n        new_feature3  new_feature4  \n212221      1.364652      0.056114  \n30903       2.078098      1.170766  \n9739        1.364235      0.054315  \n37540       2.036932      1.210736  \n418638      1.364087      0.054615  \n\n[5 rows x 43 columns]",
      "text/html": "<div>\n<style scoped>\n    .dataframe tbody tr th:only-of-type {\n        vertical-align: middle;\n    }\n\n    .dataframe tbody tr th {\n        vertical-align: top;\n    }\n\n    .dataframe thead th {\n        text-align: right;\n    }\n</style>\n<table border=\"1\" class=\"dataframe\">\n  <thead>\n    <tr style=\"text-align: right;\">\n      <th></th>\n      <th>duration</th>\n      <th>src_bytes</th>\n      <th>dst_bytes</th>\n      <th>land</th>\n      <th>wrong_fragment</th>\n      <th>urgent</th>\n      <th>hot</th>\n      <th>num_failed_logins</th>\n      <th>logged_in</th>\n      <th>num_compromised</th>\n      <th>...</th>\n      <th>dst_host_srv_diff_host_rate</th>\n      <th>dst_host_serror_rate</th>\n      <th>dst_host_srv_serror_rate</th>\n      <th>dst_host_rerror_rate</th>\n      <th>dst_host_srv_rerror_rate</th>\n      <th>new_feature0</th>\n      <th>new_feature1</th>\n      <th>new_feature2</th>\n      <th>new_feature3</th>\n      <th>new_feature4</th>\n    </tr>\n  </thead>\n  <tbody>\n    <tr>\n      <th>212221</th>\n      <td>-0.067792</td>\n      <td>-0.002017</td>\n      <td>-0.026287</td>\n      <td>-0.006673</td>\n      <td>-0.04772</td>\n      <td>-0.002571</td>\n      <td>-0.044136</td>\n      <td>-0.009782</td>\n      <td>-0.417192</td>\n      <td>-0.005679</td>\n      <td>...</td>\n      <td>-0.158629</td>\n      <td>-0.464418</td>\n      <td>-0.463202</td>\n      <td>-0.25204</td>\n      <td>-0.249464</td>\n      <td>0.692042</td>\n      <td>0.222451</td>\n      <td>1.115143</td>\n      <td>1.364652</td>\n      <td>0.056114</td>\n    </tr>\n    <tr>\n      <th>30903</th>\n      <td>-0.067792</td>\n      <td>-0.002774</td>\n      <td>0.472896</td>\n      <td>-0.006673</td>\n      <td>-0.04772</td>\n      <td>-0.002571</td>\n      <td>-0.044136</td>\n      <td>-0.009782</td>\n      <td>2.396980</td>\n      <td>-0.005679</td>\n      <td>...</td>\n      <td>0.553404</td>\n      <td>-0.464418</td>\n      <td>-0.463202</td>\n      <td>-0.25204</td>\n      <td>-0.249464</td>\n      <td>0.619383</td>\n      <td>1.740016</td>\n      <td>1.137264</td>\n      <td>2.078098</td>\n      <td>1.170766</td>\n    </tr>\n    <tr>\n      <th>9739</th>\n      <td>-0.067792</td>\n      <td>-0.002017</td>\n      <td>-0.026287</td>\n      <td>-0.006673</td>\n      <td>-0.04772</td>\n      <td>-0.002571</td>\n      <td>-0.044136</td>\n      <td>-0.009782</td>\n      <td>-0.417192</td>\n      <td>-0.005679</td>\n      <td>...</td>\n      <td>-0.158629</td>\n      <td>-0.464418</td>\n      <td>-0.463202</td>\n      <td>-0.25204</td>\n      <td>-0.249464</td>\n      <td>0.689879</td>\n      <td>0.221864</td>\n      <td>1.116348</td>\n      <td>1.364235</td>\n      <td>0.054315</td>\n    </tr>\n    <tr>\n      <th>37540</th>\n      <td>-0.067792</td>\n      <td>-0.002776</td>\n      <td>-0.014120</td>\n      <td>-0.006673</td>\n      <td>-0.04772</td>\n      <td>-0.002571</td>\n      <td>-0.044136</td>\n      <td>-0.009782</td>\n      <td>2.396980</td>\n      <td>-0.005679</td>\n      <td>...</td>\n      <td>0.790749</td>\n      <td>-0.464418</td>\n      <td>-0.463202</td>\n      <td>-0.25204</td>\n      <td>-0.249464</td>\n      <td>0.557589</td>\n      <td>1.872177</td>\n      <td>1.244722</td>\n      <td>2.036932</td>\n      <td>1.210736</td>\n    </tr>\n    <tr>\n      <th>418638</th>\n      <td>-0.067792</td>\n      <td>-0.002535</td>\n      <td>-0.026287</td>\n      <td>-0.006673</td>\n      <td>-0.04772</td>\n      <td>-0.002571</td>\n      <td>-0.044136</td>\n      <td>-0.009782</td>\n      <td>-0.417192</td>\n      <td>-0.005679</td>\n      <td>...</td>\n      <td>-0.158629</td>\n      <td>-0.464418</td>\n      <td>-0.463202</td>\n      <td>-0.25204</td>\n      <td>-0.249464</td>\n      <td>0.690494</td>\n      <td>0.222162</td>\n      <td>1.116061</td>\n      <td>1.364087</td>\n      <td>0.054615</td>\n    </tr>\n  </tbody>\n</table>\n<p>5 rows × 43 columns</p>\n</div>"
     },
     "execution_count": 8,
     "metadata": {},
     "output_type": "execute_result"
    }
   ],
   "source": [
    "# 特徴量抽出し、マージする。\n",
    "x_train_encoded = pd.DataFrame(data=encoder.predict(x_train), index=x_train.index, columns=dos_columns)\n",
    "x_test_encoded = pd.DataFrame(data=encoder.predict(x_test), index=x_test.index, columns=dos_columns)\n",
    "x_train_encoded = x_train.merge(x_train_encoded, right_index=True, left_index=True)\n",
    "x_test_encoded = x_test.merge(x_test_encoded, right_index=True, left_index=True)\n",
    "x_train_encoded.head()"
   ],
   "metadata": {
    "collapsed": false,
    "ExecuteTime": {
     "end_time": "2023-08-08T02:41:16.329123Z",
     "start_time": "2023-08-08T02:41:10.496435Z"
    }
   },
   "id": "7a58b465211b4134"
  },
  {
   "cell_type": "markdown",
   "source": [
    "### optuna＋lightGBMを用いた学習\n",
    "- 元の特徴量のみを使う。\n",
    "- "
   ],
   "metadata": {
    "collapsed": false
   },
   "id": "a850b61acfb56afa"
  },
  {
   "cell_type": "code",
   "execution_count": 9,
   "outputs": [
    {
     "name": "stderr",
     "output_type": "stream",
     "text": [
      "[I 2023-08-08 11:41:16,334] A new study created in memory with name: no-name-648e4cc0-ca0f-4766-a524-c39e9859e136\n",
      "feature_fraction, val_score: inf:   0%|          | 0/7 [00:00<?, ?it/s]"
     ]
    },
    {
     "name": "stdout",
     "output_type": "stream",
     "text": [
      "[LightGBM] [Warning] min_data_in_leaf is set=1, min_child_samples=20 will be ignored. Current value: min_data_in_leaf=1\n"
     ]
    },
    {
     "name": "stderr",
     "output_type": "stream",
     "text": [
      "feature_fraction, val_score: 0.000480:  14%|#4        | 1/7 [00:03<00:18,  3.13s/it][I 2023-08-08 11:41:19,532] Trial 0 finished with value: 0.00048037124540021875 and parameters: {'feature_fraction': 0.7}. Best is trial 0 with value: 0.00048037124540021875.\n",
      "feature_fraction, val_score: 0.000480:  29%|##8       | 2/7 [00:07<00:18,  3.63s/it][I 2023-08-08 11:41:23,508] Trial 1 finished with value: 0.00048037124540021875 and parameters: {'feature_fraction': 0.4}. Best is trial 0 with value: 0.00048037124540021875.\n",
      "feature_fraction, val_score: 0.000480:  43%|####2     | 3/7 [00:10<00:13,  3.35s/it][I 2023-08-08 11:41:26,532] Trial 2 finished with value: 0.00048037124540021875 and parameters: {'feature_fraction': 0.8}. Best is trial 0 with value: 0.00048037124540021875.\n",
      "feature_fraction, val_score: 0.000480:  57%|#####7    | 4/7 [00:13<00:09,  3.16s/it][I 2023-08-08 11:41:29,401] Trial 3 finished with value: 0.00048037124540021875 and parameters: {'feature_fraction': 0.6}. Best is trial 0 with value: 0.00048037124540021875.\n",
      "feature_fraction, val_score: 0.000402:  71%|#######1  | 5/7 [00:16<00:06,  3.12s/it][I 2023-08-08 11:41:32,440] Trial 4 finished with value: 0.0004018199725674786 and parameters: {'feature_fraction': 0.5}. Best is trial 4 with value: 0.0004018199725674786.\n",
      "feature_fraction, val_score: 0.000384:  86%|########5 | 6/7 [00:18<00:02,  2.99s/it][I 2023-08-08 11:41:35,182] Trial 5 finished with value: 0.00038369275575992316 and parameters: {'feature_fraction': 0.8999999999999999}. Best is trial 5 with value: 0.00038369275575992316.\n",
      "feature_fraction, val_score: 0.000384: 100%|##########| 7/7 [00:21<00:00,  2.90s/it][I 2023-08-08 11:41:37,897] Trial 6 finished with value: 0.00038369275575992316 and parameters: {'feature_fraction': 1.0}. Best is trial 5 with value: 0.00038369275575992316.\n",
      "feature_fraction, val_score: 0.000384: 100%|##########| 7/7 [00:21<00:00,  3.07s/it]\n",
      "num_leaves, val_score: 0.000384:   5%|5         | 1/20 [00:04<01:31,  4.81s/it][I 2023-08-08 11:41:42,716] Trial 7 finished with value: 0.00038369275575992316 and parameters: {'num_leaves': 77}. Best is trial 7 with value: 0.00038369275575992316.\n",
      "num_leaves, val_score: 0.000384:  10%|#         | 2/20 [00:10<01:34,  5.25s/it][I 2023-08-08 11:41:48,276] Trial 8 finished with value: 0.00038369275575992316 and parameters: {'num_leaves': 108}. Best is trial 7 with value: 0.00038369275575992316.\n",
      "num_leaves, val_score: 0.000384:  15%|#5        | 3/20 [00:14<01:20,  4.75s/it][I 2023-08-08 11:41:52,423] Trial 9 finished with value: 0.00038369275575992316 and parameters: {'num_leaves': 56}. Best is trial 7 with value: 0.00038369275575992316.\n",
      "num_leaves, val_score: 0.000384:  20%|##        | 4/20 [00:22<01:36,  6.02s/it][I 2023-08-08 11:42:00,393] Trial 10 finished with value: 0.00038369275575992316 and parameters: {'num_leaves': 244}. Best is trial 7 with value: 0.00038369275575992316.\n",
      "num_leaves, val_score: 0.000384:  25%|##5       | 5/20 [00:30<01:40,  6.71s/it][I 2023-08-08 11:42:08,328] Trial 11 finished with value: 0.00038369275575992316 and parameters: {'num_leaves': 222}. Best is trial 7 with value: 0.00038369275575992316.\n",
      "num_leaves, val_score: 0.000384:  30%|###       | 6/20 [00:31<01:09,  4.96s/it][I 2023-08-08 11:42:09,878] Trial 12 finished with value: 0.00038369275575992316 and parameters: {'num_leaves': 2}. Best is trial 7 with value: 0.00038369275575992316.\n",
      "num_leaves, val_score: 0.000384:  35%|###5      | 7/20 [00:39<01:15,  5.84s/it][I 2023-08-08 11:42:17,545] Trial 13 finished with value: 0.00038369275575992316 and parameters: {'num_leaves': 173}. Best is trial 7 with value: 0.00038369275575992316.\n",
      "num_leaves, val_score: 0.000384:  40%|####      | 8/20 [00:46<01:14,  6.20s/it][I 2023-08-08 11:42:24,504] Trial 14 finished with value: 0.00038369275575992316 and parameters: {'num_leaves': 149}. Best is trial 7 with value: 0.00038369275575992316.\n",
      "num_leaves, val_score: 0.000384:  45%|####5     | 9/20 [00:54<01:12,  6.63s/it][I 2023-08-08 11:42:32,078] Trial 15 finished with value: 0.00038369275575992316 and parameters: {'num_leaves': 187}. Best is trial 7 with value: 0.00038369275575992316.\n",
      "num_leaves, val_score: 0.000384:  50%|#####     | 10/20 [00:56<00:52,  5.22s/it][I 2023-08-08 11:42:34,160] Trial 16 finished with value: 0.00038369275575992316 and parameters: {'num_leaves': 5}. Best is trial 7 with value: 0.00038369275575992316.\n",
      "num_leaves, val_score: 0.000384:  55%|#####5    | 11/20 [01:02<00:51,  5.69s/it][I 2023-08-08 11:42:40,900] Trial 17 finished with value: 0.00038369275575992316 and parameters: {'num_leaves': 112}. Best is trial 7 with value: 0.00038369275575992316.\n",
      "num_leaves, val_score: 0.000384:  60%|######    | 12/20 [01:07<00:43,  5.41s/it][I 2023-08-08 11:42:45,662] Trial 18 finished with value: 0.00038369275575992316 and parameters: {'num_leaves': 52}. Best is trial 7 with value: 0.00038369275575992316.\n",
      "num_leaves, val_score: 0.000384:  65%|######5   | 13/20 [01:15<00:43,  6.19s/it][I 2023-08-08 11:42:53,650] Trial 19 finished with value: 0.00038369275575992316 and parameters: {'num_leaves': 204}. Best is trial 7 with value: 0.00038369275575992316.\n",
      "num_leaves, val_score: 0.000384:  70%|#######   | 14/20 [01:23<00:40,  6.77s/it][I 2023-08-08 11:43:01,752] Trial 20 finished with value: 0.00038369275575992316 and parameters: {'num_leaves': 147}. Best is trial 7 with value: 0.00038369275575992316.\n",
      "num_leaves, val_score: 0.000196:  75%|#######5  | 15/20 [01:29<00:32,  6.45s/it][I 2023-08-08 11:43:07,483] Trial 21 finished with value: 0.00019637818208185042 and parameters: {'num_leaves': 64}. Best is trial 21 with value: 0.00019637818208185042.\n",
      "num_leaves, val_score: 0.000196:  80%|########  | 16/20 [01:33<00:22,  5.66s/it][I 2023-08-08 11:43:11,295] Trial 22 finished with value: 0.00019637818208185042 and parameters: {'num_leaves': 39}. Best is trial 21 with value: 0.00019637818208185042.\n",
      "num_leaves, val_score: 0.000196:  85%|########5 | 17/20 [01:36<00:15,  5.02s/it][I 2023-08-08 11:43:14,839] Trial 23 finished with value: 0.00019637818208185042 and parameters: {'num_leaves': 36}. Best is trial 21 with value: 0.00019637818208185042.\n",
      "num_leaves, val_score: 0.000196:  90%|######### | 18/20 [01:40<00:09,  4.59s/it][I 2023-08-08 11:43:18,433] Trial 24 finished with value: 0.00019637818208185042 and parameters: {'num_leaves': 35}. Best is trial 21 with value: 0.00019637818208185042.\n",
      "num_leaves, val_score: 0.000196:  95%|#########5| 19/20 [01:46<00:05,  5.15s/it][I 2023-08-08 11:43:24,886] Trial 25 finished with value: 0.00019637818208185042 and parameters: {'num_leaves': 87}. Best is trial 21 with value: 0.00019637818208185042.\n",
      "num_leaves, val_score: 0.000196: 100%|##########| 20/20 [01:50<00:00,  4.69s/it][I 2023-08-08 11:43:28,495] Trial 26 finished with value: 0.00019637818208185042 and parameters: {'num_leaves': 30}. Best is trial 21 with value: 0.00019637818208185042.\n",
      "num_leaves, val_score: 0.000196: 100%|##########| 20/20 [01:50<00:00,  5.53s/it]\n",
      "bagging, val_score: 0.000196:  10%|#         | 1/10 [00:06<00:54,  6.06s/it][I 2023-08-08 11:43:34,559] Trial 27 finished with value: 0.00019637818208185042 and parameters: {'bagging_fraction': 0.6528457181142356, 'bagging_freq': 6}. Best is trial 27 with value: 0.00019637818208185042.\n",
      "bagging, val_score: 0.000196:  20%|##        | 2/10 [00:10<00:43,  5.40s/it][I 2023-08-08 11:43:39,499] Trial 28 finished with value: 0.00019637818208185042 and parameters: {'bagging_fraction': 0.9874375262746324, 'bagging_freq': 1}. Best is trial 27 with value: 0.00019637818208185042.\n",
      "bagging, val_score: 0.000196:  30%|###       | 3/10 [00:16<00:38,  5.46s/it][I 2023-08-08 11:43:45,040] Trial 29 finished with value: 0.00019637818208185042 and parameters: {'bagging_fraction': 0.40191352413149745, 'bagging_freq': 2}. Best is trial 27 with value: 0.00019637818208185042.\n",
      "bagging, val_score: 0.000196:  40%|####      | 4/10 [00:22<00:34,  5.67s/it][I 2023-08-08 11:43:51,035] Trial 30 finished with value: 0.00019637818208185042 and parameters: {'bagging_fraction': 0.9770220969437614, 'bagging_freq': 7}. Best is trial 27 with value: 0.00019637818208185042.\n",
      "bagging, val_score: 0.000196:  50%|#####     | 5/10 [00:28<00:28,  5.62s/it][I 2023-08-08 11:43:56,558] Trial 31 finished with value: 0.00019637818208185042 and parameters: {'bagging_fraction': 0.7181723109364696, 'bagging_freq': 4}. Best is trial 27 with value: 0.00019637818208185042.\n",
      "bagging, val_score: 0.000196:  60%|######    | 6/10 [00:33<00:22,  5.66s/it][I 2023-08-08 11:44:02,306] Trial 32 finished with value: 0.00019637818208185042 and parameters: {'bagging_fraction': 0.42711685823796164, 'bagging_freq': 4}. Best is trial 27 with value: 0.00019637818208185042.\n",
      "bagging, val_score: 0.000196:  70%|#######   | 7/10 [00:40<00:17,  5.87s/it][I 2023-08-08 11:44:08,600] Trial 33 finished with value: 0.00019637818208185042 and parameters: {'bagging_fraction': 0.8071176864158567, 'bagging_freq': 3}. Best is trial 27 with value: 0.00019637818208185042.\n",
      "bagging, val_score: 0.000196:  80%|########  | 8/10 [00:45<00:11,  5.84s/it][I 2023-08-08 11:44:14,379] Trial 34 finished with value: 0.00019637818208185042 and parameters: {'bagging_fraction': 0.5213098959628791, 'bagging_freq': 6}. Best is trial 27 with value: 0.00019637818208185042.\n",
      "bagging, val_score: 0.000196:  90%|######### | 9/10 [00:50<00:05,  5.50s/it][I 2023-08-08 11:44:19,144] Trial 35 finished with value: 0.00019637818208185042 and parameters: {'bagging_fraction': 0.5889868622374865, 'bagging_freq': 1}. Best is trial 27 with value: 0.00019637818208185042.\n",
      "bagging, val_score: 0.000196: 100%|##########| 10/10 [00:56<00:00,  5.63s/it][I 2023-08-08 11:44:25,059] Trial 36 finished with value: 0.00019637818208185042 and parameters: {'bagging_fraction': 0.8429408408721536, 'bagging_freq': 5}. Best is trial 27 with value: 0.00019637818208185042.\n",
      "bagging, val_score: 0.000196: 100%|##########| 10/10 [00:56<00:00,  5.66s/it]\n",
      "feature_fraction_stage2, val_score: 0.000196:  17%|#6        | 1/6 [00:05<00:26,  5.33s/it][I 2023-08-08 11:44:30,392] Trial 37 finished with value: 0.00019637818208185042 and parameters: {'feature_fraction': 0.9799999999999999}. Best is trial 37 with value: 0.00019637818208185042.\n",
      "feature_fraction_stage2, val_score: 0.000196:  33%|###3      | 2/6 [00:10<00:21,  5.27s/it][I 2023-08-08 11:44:35,627] Trial 38 finished with value: 0.00019637818208185042 and parameters: {'feature_fraction': 0.8839999999999999}. Best is trial 37 with value: 0.00019637818208185042.\n",
      "feature_fraction_stage2, val_score: 0.000196:  50%|#####     | 3/6 [00:15<00:15,  5.04s/it][I 2023-08-08 11:44:40,384] Trial 39 finished with value: 0.00019637818208185042 and parameters: {'feature_fraction': 0.9159999999999999}. Best is trial 37 with value: 0.00019637818208185042.\n",
      "feature_fraction_stage2, val_score: 0.000196:  67%|######6   | 4/6 [00:19<00:09,  4.88s/it][I 2023-08-08 11:44:45,032] Trial 40 finished with value: 0.00019637818208185042 and parameters: {'feature_fraction': 0.82}. Best is trial 37 with value: 0.00019637818208185042.\n",
      "feature_fraction_stage2, val_score: 0.000196:  83%|########3 | 5/6 [00:25<00:05,  5.07s/it][I 2023-08-08 11:44:50,447] Trial 41 finished with value: 0.00019637818208185042 and parameters: {'feature_fraction': 0.948}. Best is trial 37 with value: 0.00019637818208185042.\n",
      "feature_fraction_stage2, val_score: 0.000196: 100%|##########| 6/6 [00:30<00:00,  5.00s/it][I 2023-08-08 11:44:55,309] Trial 42 finished with value: 0.00019637818208185042 and parameters: {'feature_fraction': 0.852}. Best is trial 37 with value: 0.00019637818208185042.\n",
      "feature_fraction_stage2, val_score: 0.000196: 100%|##########| 6/6 [00:30<00:00,  5.04s/it]\n",
      "regularization_factors, val_score: 0.000196:   5%|5         | 1/20 [00:05<01:35,  5.03s/it][I 2023-08-08 11:45:00,341] Trial 43 finished with value: 0.00019637818208185042 and parameters: {'lambda_l1': 3.997655830170704e-08, 'lambda_l2': 0.0001591478658977063}. Best is trial 43 with value: 0.00019637818208185042.\n",
      "regularization_factors, val_score: 0.000063:  10%|#         | 2/20 [00:11<01:42,  5.69s/it][I 2023-08-08 11:45:06,503] Trial 44 finished with value: 6.344525882644399e-05 and parameters: {'lambda_l1': 2.86319075766598, 'lambda_l2': 3.6652104619886314}. Best is trial 44 with value: 6.344525882644399e-05.\n",
      "regularization_factors, val_score: 0.000063:  15%|#5        | 3/20 [00:16<01:37,  5.74s/it][I 2023-08-08 11:45:12,288] Trial 45 finished with value: 6.344525882644399e-05 and parameters: {'lambda_l1': 6.576051641022411, 'lambda_l2': 7.8390055606160765}. Best is trial 44 with value: 6.344525882644399e-05.\n",
      "regularization_factors, val_score: 0.000063:  20%|##        | 4/20 [00:23<01:34,  5.88s/it][I 2023-08-08 11:45:18,399] Trial 46 finished with value: 6.344525882644399e-05 and parameters: {'lambda_l1': 3.8106869256132, 'lambda_l2': 8.888050759071119}. Best is trial 44 with value: 6.344525882644399e-05.\n",
      "regularization_factors, val_score: 0.000063:  25%|##5       | 5/20 [00:28<01:27,  5.81s/it][I 2023-08-08 11:45:24,077] Trial 47 finished with value: 6.344525882644399e-05 and parameters: {'lambda_l1': 8.76128948574852, 'lambda_l2': 9.157477021545532}. Best is trial 44 with value: 6.344525882644399e-05.\n",
      "regularization_factors, val_score: 0.000063:  30%|###       | 6/20 [00:34<01:20,  5.72s/it][I 2023-08-08 11:45:29,634] Trial 48 finished with value: 6.344525882644399e-05 and parameters: {'lambda_l1': 8.961564927269793, 'lambda_l2': 3.4636972843791347}. Best is trial 44 with value: 6.344525882644399e-05.\n",
      "regularization_factors, val_score: 0.000063:  35%|###5      | 7/20 [00:40<01:15,  5.81s/it][I 2023-08-08 11:45:35,626] Trial 49 finished with value: 6.344525882644399e-05 and parameters: {'lambda_l1': 5.977257484351465, 'lambda_l2': 9.605548780735997}. Best is trial 44 with value: 6.344525882644399e-05.\n",
      "regularization_factors, val_score: 0.000063:  40%|####      | 8/20 [00:45<01:08,  5.68s/it][I 2023-08-08 11:45:41,029] Trial 50 finished with value: 6.344525882644399e-05 and parameters: {'lambda_l1': 8.19867457656816, 'lambda_l2': 9.75645328910857}. Best is trial 44 with value: 6.344525882644399e-05.\n",
      "regularization_factors, val_score: 0.000063:  45%|####5     | 9/20 [00:51<01:02,  5.70s/it][I 2023-08-08 11:45:46,765] Trial 51 finished with value: 6.344525882644399e-05 and parameters: {'lambda_l1': 6.398119323092059, 'lambda_l2': 9.256726316369559}. Best is trial 44 with value: 6.344525882644399e-05.\n",
      "regularization_factors, val_score: 0.000063:  50%|#####     | 10/20 [00:57<00:58,  5.88s/it][I 2023-08-08 11:45:53,039] Trial 52 finished with value: 6.344525882644399e-05 and parameters: {'lambda_l1': 5.592767886276941, 'lambda_l2': 7.885578924448752}. Best is trial 44 with value: 6.344525882644399e-05.\n",
      "regularization_factors, val_score: 0.000063:  55%|#####5    | 11/20 [01:03<00:51,  5.73s/it][I 2023-08-08 11:45:58,435] Trial 53 finished with value: 6.344525882644399e-05 and parameters: {'lambda_l1': 7.683596732698619, 'lambda_l2': 6.597691605698251}. Best is trial 44 with value: 6.344525882644399e-05.\n",
      "regularization_factors, val_score: 0.000063:  60%|######    | 12/20 [01:08<00:44,  5.62s/it][I 2023-08-08 11:46:03,794] Trial 54 finished with value: 6.344525882644399e-05 and parameters: {'lambda_l1': 6.36076578862349, 'lambda_l2': 6.150267844739948}. Best is trial 44 with value: 6.344525882644399e-05.\n",
      "regularization_factors, val_score: 0.000063:  65%|######5   | 13/20 [01:13<00:38,  5.51s/it][I 2023-08-08 11:46:09,072] Trial 55 finished with value: 6.344525882644399e-05 and parameters: {'lambda_l1': 4.474201286743667, 'lambda_l2': 2.4422021520765407}. Best is trial 44 with value: 6.344525882644399e-05.\n",
      "regularization_factors, val_score: 0.000000:  70%|#######   | 14/20 [01:18<00:30,  5.16s/it][I 2023-08-08 11:46:13,415] Trial 56 finished with value: 0.0 and parameters: {'lambda_l1': 0.27499882674690457, 'lambda_l2': 0.14774039219275795}. Best is trial 56 with value: 0.0.\n",
      "regularization_factors, val_score: 0.000000:  75%|#######5  | 15/20 [01:23<00:26,  5.30s/it][I 2023-08-08 11:46:19,050] Trial 57 finished with value: 0.0 and parameters: {'lambda_l1': 0.16386205997860123, 'lambda_l2': 0.062313004733172646}. Best is trial 56 with value: 0.0.\n",
      "regularization_factors, val_score: 0.000000:  80%|########  | 16/20 [01:31<00:23,  5.95s/it][I 2023-08-08 11:46:26,511] Trial 58 finished with value: 0.0 and parameters: {'lambda_l1': 0.09544138111029209, 'lambda_l2': 0.0734362879735738}. Best is trial 56 with value: 0.0.\n",
      "regularization_factors, val_score: 0.000000:  85%|########5 | 17/20 [01:36<00:17,  5.71s/it][I 2023-08-08 11:46:31,647] Trial 59 finished with value: 0.0 and parameters: {'lambda_l1': 0.08712654145257602, 'lambda_l2': 0.07540705013882883}. Best is trial 56 with value: 0.0.\n",
      "regularization_factors, val_score: 0.000000:  90%|######### | 18/20 [01:41<00:11,  5.54s/it][I 2023-08-08 11:46:36,812] Trial 60 finished with value: 0.0 and parameters: {'lambda_l1': 0.06391457934957859, 'lambda_l2': 0.04956383047311675}. Best is trial 56 with value: 0.0.\n",
      "regularization_factors, val_score: 0.000000:  95%|#########5| 19/20 [01:46<00:05,  5.50s/it][I 2023-08-08 11:46:42,216] Trial 61 finished with value: 0.0 and parameters: {'lambda_l1': 0.07058856389838476, 'lambda_l2': 0.0487141835865738}. Best is trial 56 with value: 0.0.\n",
      "regularization_factors, val_score: 0.000000: 100%|##########| 20/20 [01:51<00:00,  5.37s/it][I 2023-08-08 11:46:47,291] Trial 62 finished with value: 0.0 and parameters: {'lambda_l1': 0.07937819982115846, 'lambda_l2': 0.051369582072527446}. Best is trial 56 with value: 0.0.\n",
      "regularization_factors, val_score: 0.000000: 100%|##########| 20/20 [01:51<00:00,  5.60s/it]\n",
      "min_data_in_leaf, val_score: 0.000000:  20%|##        | 1/5 [00:04<00:19,  4.91s/it][I 2023-08-08 11:46:52,202] Trial 63 finished with value: 0.0 and parameters: {'min_child_samples': 5}. Best is trial 63 with value: 0.0.\n",
      "min_data_in_leaf, val_score: 0.000000:  40%|####      | 2/5 [00:09<00:14,  4.98s/it][I 2023-08-08 11:46:57,234] Trial 64 finished with value: 0.0 and parameters: {'min_child_samples': 25}. Best is trial 63 with value: 0.0.\n",
      "min_data_in_leaf, val_score: 0.000000:  60%|######    | 3/5 [00:14<00:09,  4.92s/it][I 2023-08-08 11:47:02,085] Trial 65 finished with value: 0.0 and parameters: {'min_child_samples': 50}. Best is trial 63 with value: 0.0.\n",
      "min_data_in_leaf, val_score: 0.000000:  80%|########  | 4/5 [00:19<00:04,  4.96s/it][I 2023-08-08 11:47:07,116] Trial 66 finished with value: 0.0 and parameters: {'min_child_samples': 10}. Best is trial 63 with value: 0.0.\n",
      "min_data_in_leaf, val_score: 0.000000: 100%|##########| 5/5 [00:24<00:00,  4.85s/it][I 2023-08-08 11:47:11,763] Trial 67 finished with value: 0.0 and parameters: {'min_child_samples': 100}. Best is trial 63 with value: 0.0.\n",
      "min_data_in_leaf, val_score: 0.000000: 100%|##########| 5/5 [00:24<00:00,  4.89s/it]\n"
     ]
    }
   ],
   "source": [
    "import optuna.integration.lightgbm as lgb\n",
    "lgb_train = lgb.Dataset(x_train, y_train)\n",
    "lgb_eval = lgb.Dataset(x_test, y_test, reference=lgb_train)\n",
    "# LightGBM parameters\n",
    "params = {\n",
    "        'task': 'train',\n",
    "        'boosting_type': 'gbdt',\n",
    "        'objective': 'multiclass',\n",
    "        'num_class': 5,\n",
    "        'metric': 'multi_error', # 評価指標 : 誤り率(= 1-正答率)  another multi_logloss\n",
    "        'learning_rate': 0.1,\n",
    "        'num_leaves': 23,\n",
    "        'min_data_in_leaf': 1,\n",
    "        'verbose': -1,\n",
    "        'random_state': RANDOM_SEED, \n",
    "}\n",
    "import lightgbm\n",
    "# モデルの学習\n",
    "model:lightgbm.Booster = lgb.train(params, # パラメータ\n",
    "                  lgb_train, # トレーニングデータの指定\n",
    "                  valid_sets=[lgb_train], # 検証データの指定\n",
    "                  callbacks=[lgb.early_stopping(50, verbose=False)],\n",
    "               )\n"
   ],
   "metadata": {
    "collapsed": false,
    "ExecuteTime": {
     "end_time": "2023-08-08T02:47:11.769913Z",
     "start_time": "2023-08-08T02:41:16.329918Z"
    }
   },
   "id": "f627893ef828e629"
  },
  {
   "cell_type": "code",
   "execution_count": 10,
   "outputs": [
    {
     "data": {
      "text/plain": "0    129191\n1     32127\n2      1335\n3       358\n4        16\ndtype: int64"
     },
     "execution_count": 10,
     "metadata": {},
     "output_type": "execute_result"
    }
   ],
   "source": [
    "y_pred_prob = model.predict(x_test)\n",
    "# テストデータの予測 (予測クラス(0 or 1 or...)を返す)\n",
    "y_pred = np.argmax(y_pred_prob, axis=1) # 一番大きい予測確率のクラスを予測クラスに\n",
    "y_pred = pd.Series(y_pred)\n",
    "y_pred.value_counts()"
   ],
   "metadata": {
    "collapsed": false,
    "ExecuteTime": {
     "end_time": "2023-08-08T02:47:12.088937Z",
     "start_time": "2023-08-08T02:47:11.772382Z"
    }
   },
   "id": "a7e2bd2e0ebffe0a"
  },
  {
   "cell_type": "code",
   "execution_count": 11,
   "outputs": [
    {
     "name": "stdout",
     "output_type": "stream",
     "text": [
      "              precision    recall  f1-score   support\n",
      "\n",
      "         dos       1.00      1.00      1.00    129181\n",
      "      normal       1.00      1.00      1.00     32102\n",
      "       probe       1.00      0.98      0.99      1355\n",
      "         r2l       0.98      0.94      0.96       372\n",
      "         u2r       0.81      0.76      0.79        17\n",
      "\n",
      "    accuracy                           1.00    163027\n",
      "   macro avg       0.96      0.94      0.95    163027\n",
      "weighted avg       1.00      1.00      1.00    163027\n"
     ]
    }
   ],
   "source": [
    "print(classification_report(y_test, y_pred, target_names=correspondences.keys()))"
   ],
   "metadata": {
    "collapsed": false,
    "ExecuteTime": {
     "end_time": "2023-08-08T02:47:12.248692Z",
     "start_time": "2023-08-08T02:47:12.090627Z"
    }
   },
   "id": "8df2499b5a54cca4"
  },
  {
   "cell_type": "code",
   "execution_count": 12,
   "outputs": [
    {
     "name": "stdout",
     "output_type": "stream",
     "text": [
      "[[[ 33831     15]\n",
      "  [     5 129176]]\n",
      "\n",
      " [[130882     43]\n",
      "  [    18  32084]]\n",
      "\n",
      " [[161671      1]\n",
      "  [    21   1334]]\n",
      "\n",
      " [[162648      7]\n",
      "  [    21    351]]\n",
      "\n",
      " [[163007      3]\n",
      "  [     4     13]]]\n"
     ]
    }
   ],
   "source": [
    "print(multilabel_confusion_matrix(y_test, y_pred))"
   ],
   "metadata": {
    "collapsed": false,
    "ExecuteTime": {
     "end_time": "2023-08-08T02:47:12.281113Z",
     "start_time": "2023-08-08T02:47:12.249588Z"
    }
   },
   "id": "a7f3028ff431a865"
  },
  {
   "cell_type": "code",
   "execution_count": 13,
   "outputs": [
    {
     "name": "stdout",
     "output_type": "stream",
     "text": [
      "           dos  normal  probe  r2l  u2r\n",
      "dos     129176       5      0    0    0\n",
      "normal       8   32084      1    7    2\n",
      "probe        6      15   1334    0    0\n",
      "r2l          1      19      0  351    1\n",
      "u2r          0       4      0    0   13\n"
     ]
    },
    {
     "data": {
      "text/plain": "dict_keys(['dos', 'normal', 'probe', 'r2l', 'u2r'])"
     },
     "execution_count": 13,
     "metadata": {},
     "output_type": "execute_result"
    }
   ],
   "source": [
    "from sklearn.metrics import confusion_matrix\n",
    "print(pd.DataFrame(confusion_matrix(y_test, y_pred), index=correspondences.keys(), columns=correspondences.keys()))\n",
    "correspondences.keys()"
   ],
   "metadata": {
    "collapsed": false,
    "ExecuteTime": {
     "end_time": "2023-08-08T02:47:12.299142Z",
     "start_time": "2023-08-08T02:47:12.275187Z"
    }
   },
   "id": "ea75fbbfa5668bda"
  },
  {
   "cell_type": "code",
   "execution_count": 14,
   "outputs": [
    {
     "data": {
      "text/plain": "{'task': 'train',\n 'boosting_type': 'gbdt',\n 'objective': 'multiclass',\n 'num_class': 5,\n 'metric': 'multi_error',\n 'learning_rate': 0.1,\n 'num_leaves': 64,\n 'min_data_in_leaf': 1,\n 'verbose': -1,\n 'random_state': 2018,\n 'feature_pre_filter': False,\n 'lambda_l1': 0.27499882674690457,\n 'lambda_l2': 0.14774039219275795,\n 'feature_fraction': 0.8999999999999999,\n 'bagging_fraction': 1.0,\n 'bagging_freq': 0,\n 'min_child_samples': 20,\n 'num_iterations': 1000,\n 'early_stopping_round': None}"
     },
     "execution_count": 14,
     "metadata": {},
     "output_type": "execute_result"
    }
   ],
   "source": [
    "# \n",
    "model.params"
   ],
   "metadata": {
    "collapsed": false,
    "ExecuteTime": {
     "end_time": "2023-08-08T02:47:12.302781Z",
     "start_time": "2023-08-08T02:47:12.299783Z"
    }
   },
   "id": "b9657c540f005b38"
  },
  {
   "cell_type": "code",
   "execution_count": 15,
   "outputs": [
    {
     "data": {
      "text/plain": "<lightgbm.basic.Booster at 0x16bd66800>"
     },
     "execution_count": 15,
     "metadata": {},
     "output_type": "execute_result"
    }
   ],
   "source": [
    "model"
   ],
   "metadata": {
    "collapsed": false,
    "ExecuteTime": {
     "end_time": "2023-08-08T02:47:12.318189Z",
     "start_time": "2023-08-08T02:47:12.303394Z"
    }
   },
   "id": "33e5bc9d33262a0e"
  },
  {
   "cell_type": "code",
   "execution_count": 16,
   "outputs": [
    {
     "name": "stdout",
     "output_type": "stream",
     "text": [
      "dos    TP: 129176, TN: 33831, FP: 15, FN: 5\n",
      "normal    TP: 32084, TN: 130882, FP: 43, FN: 18\n",
      "probe    TP: 1334, TN: 161671, FP: 1, FN: 21\n",
      "r2l    TP: 351, TN: 162648, FP: 7, FN: 21\n",
      "u2r    TP: 13, TN: 163007, FP: 3, FN: 4\n"
     ]
    }
   ],
   "source": [
    "for key, confusion_matrix in zip(correspondences.keys(), multilabel_confusion_matrix(y_test, y_pred)):\n",
    "    print(f\"{key}    TP: {confusion_matrix[1][1]}, TN: {confusion_matrix[0][0]}, FP: {confusion_matrix[0][1]}, FN: {confusion_matrix[1][0]}\")"
   ],
   "metadata": {
    "collapsed": false,
    "ExecuteTime": {
     "end_time": "2023-08-08T02:47:12.333860Z",
     "start_time": "2023-08-08T02:47:12.307128Z"
    }
   },
   "id": "c701e7a4f38bdb84"
  },
  {
   "cell_type": "code",
   "execution_count": 17,
   "outputs": [],
   "source": [
    "lgb_train_encoded = lgb.Dataset(x_train_encoded, y_train)\n",
    "lgb_eval_encoded = lgb.Dataset(x_test_encoded, y_test, reference=lgb_train_encoded)"
   ],
   "metadata": {
    "collapsed": false,
    "ExecuteTime": {
     "end_time": "2023-08-08T02:47:12.340162Z",
     "start_time": "2023-08-08T02:47:12.334436Z"
    }
   },
   "id": "438b52f96e94929c"
  },
  {
   "cell_type": "code",
   "execution_count": 18,
   "outputs": [
    {
     "name": "stderr",
     "output_type": "stream",
     "text": [
      "[I 2023-08-08 11:47:12,338] A new study created in memory with name: no-name-10788ab1-0e23-411e-abf7-29e7b4f9dc1b\n",
      "feature_fraction, val_score: inf:   0%|          | 0/7 [00:00<?, ?it/s]"
     ]
    },
    {
     "name": "stdout",
     "output_type": "stream",
     "text": [
      "[LightGBM] [Warning] min_data_in_leaf is set=1, min_child_samples=20 will be ignored. Current value: min_data_in_leaf=1\n"
     ]
    },
    {
     "name": "stderr",
     "output_type": "stream",
     "text": [
      "feature_fraction, val_score: 0.000580:  14%|#4        | 1/7 [00:03<00:19,  3.33s/it][I 2023-08-08 11:47:15,669] Trial 0 finished with value: 0.0005800709378417736 and parameters: {'feature_fraction': 0.8999999999999999}. Best is trial 0 with value: 0.0005800709378417736.\n",
      "feature_fraction, val_score: 0.000399:  29%|##8       | 2/7 [00:06<00:16,  3.38s/it][I 2023-08-08 11:47:19,093] Trial 1 finished with value: 0.0003987987697662193 and parameters: {'feature_fraction': 0.7}. Best is trial 1 with value: 0.0003987987697662193.\n",
      "feature_fraction, val_score: 0.000399:  43%|####2     | 3/7 [00:10<00:13,  3.39s/it][I 2023-08-08 11:47:22,487] Trial 2 finished with value: 0.0003987987697662193 and parameters: {'feature_fraction': 0.6}. Best is trial 1 with value: 0.0003987987697662193.\n",
      "feature_fraction, val_score: 0.000399:  57%|#####7    | 4/7 [00:14<00:10,  3.65s/it][I 2023-08-08 11:47:26,536] Trial 3 finished with value: 0.0003987987697662193 and parameters: {'feature_fraction': 0.5}. Best is trial 1 with value: 0.0003987987697662193.\n",
      "feature_fraction, val_score: 0.000399:  71%|#######1  | 5/7 [00:17<00:07,  3.68s/it][I 2023-08-08 11:47:30,264] Trial 4 finished with value: 0.0003987987697662193 and parameters: {'feature_fraction': 1.0}. Best is trial 1 with value: 0.0003987987697662193.\n",
      "feature_fraction, val_score: 0.000399:  86%|########5 | 6/7 [00:21<00:03,  3.75s/it][I 2023-08-08 11:47:34,160] Trial 5 finished with value: 0.0003987987697662193 and parameters: {'feature_fraction': 0.4}. Best is trial 1 with value: 0.0003987987697662193.\n",
      "feature_fraction, val_score: 0.000399: 100%|##########| 7/7 [00:25<00:00,  3.68s/it][I 2023-08-08 11:47:37,687] Trial 6 finished with value: 0.0003987987697662193 and parameters: {'feature_fraction': 0.8}. Best is trial 1 with value: 0.0003987987697662193.\n",
      "feature_fraction, val_score: 0.000399: 100%|##########| 7/7 [00:25<00:00,  3.62s/it]\n",
      "num_leaves, val_score: 0.000372:   5%|5         | 1/20 [00:05<01:48,  5.69s/it][I 2023-08-08 11:47:43,386] Trial 7 finished with value: 0.00037160794455488616 and parameters: {'num_leaves': 65}. Best is trial 7 with value: 0.00037160794455488616.\n",
      "num_leaves, val_score: 0.000372:  10%|#         | 2/20 [00:15<02:23,  8.00s/it][I 2023-08-08 11:47:52,994] Trial 8 finished with value: 0.00037160794455488616 and parameters: {'num_leaves': 183}. Best is trial 7 with value: 0.00037160794455488616.\n",
      "num_leaves, val_score: 0.000372:  15%|#5        | 3/20 [00:24<02:25,  8.57s/it][I 2023-08-08 11:48:02,246] Trial 9 finished with value: 0.00037160794455488616 and parameters: {'num_leaves': 183}. Best is trial 7 with value: 0.00037160794455488616.\n",
      "num_leaves, val_score: 0.000372:  20%|##        | 4/20 [00:27<01:39,  6.19s/it][I 2023-08-08 11:48:04,794] Trial 10 finished with value: 0.00037160794455488616 and parameters: {'num_leaves': 9}. Best is trial 7 with value: 0.00037160794455488616.\n",
      "num_leaves, val_score: 0.000372:  25%|##5       | 5/20 [00:32<01:30,  6.00s/it][I 2023-08-08 11:48:10,457] Trial 11 finished with value: 0.00037160794455488616 and parameters: {'num_leaves': 83}. Best is trial 7 with value: 0.00037160794455488616.\n",
      "num_leaves, val_score: 0.000372:  30%|###       | 6/20 [00:43<01:44,  7.50s/it][I 2023-08-08 11:48:20,867] Trial 12 finished with value: 0.00037160794455488616 and parameters: {'num_leaves': 250}. Best is trial 7 with value: 0.00037160794455488616.\n",
      "num_leaves, val_score: 0.000233:  35%|###5      | 7/20 [00:50<01:36,  7.44s/it][I 2023-08-08 11:48:28,185] Trial 13 finished with value: 0.00023263261569696127 and parameters: {'num_leaves': 102}. Best is trial 13 with value: 0.00023263261569696127.\n",
      "num_leaves, val_score: 0.000233:  40%|####      | 8/20 [00:56<01:22,  6.90s/it][I 2023-08-08 11:48:33,940] Trial 14 finished with value: 0.00023263261569696127 and parameters: {'num_leaves': 67}. Best is trial 13 with value: 0.00023263261569696127.\n",
      "num_leaves, val_score: 0.000233:  45%|####5     | 9/20 [01:04<01:20,  7.28s/it][I 2023-08-08 11:48:42,058] Trial 15 finished with value: 0.00023263261569696127 and parameters: {'num_leaves': 99}. Best is trial 13 with value: 0.00023263261569696127.\n",
      "num_leaves, val_score: 0.000233:  50%|#####     | 10/20 [01:09<01:05,  6.57s/it][I 2023-08-08 11:48:47,040] Trial 16 finished with value: 0.00023263261569696127 and parameters: {'num_leaves': 36}. Best is trial 13 with value: 0.00023263261569696127.\n",
      "num_leaves, val_score: 0.000233:  55%|#####5    | 11/20 [01:17<01:04,  7.21s/it][I 2023-08-08 11:48:55,684] Trial 17 finished with value: 0.00023263261569696127 and parameters: {'num_leaves': 139}. Best is trial 13 with value: 0.00023263261569696127.\n",
      "num_leaves, val_score: 0.000233:  60%|######    | 12/20 [01:26<00:59,  7.45s/it][I 2023-08-08 11:49:03,704] Trial 18 finished with value: 0.00023263261569696127 and parameters: {'num_leaves': 128}. Best is trial 13 with value: 0.00023263261569696127.\n",
      "num_leaves, val_score: 0.000233:  65%|######5   | 13/20 [01:31<00:47,  6.85s/it][I 2023-08-08 11:49:09,156] Trial 19 finished with value: 0.00023263261569696127 and parameters: {'num_leaves': 51}. Best is trial 13 with value: 0.00023263261569696127.\n",
      "num_leaves, val_score: 0.000233:  70%|#######   | 14/20 [01:39<00:43,  7.26s/it][I 2023-08-08 11:49:17,355] Trial 20 finished with value: 0.00023263261569696127 and parameters: {'num_leaves': 118}. Best is trial 13 with value: 0.00023263261569696127.\n",
      "num_leaves, val_score: 0.000233:  75%|#######5  | 15/20 [01:46<00:35,  7.10s/it][I 2023-08-08 11:49:24,106] Trial 21 finished with value: 0.00023263261569696127 and parameters: {'num_leaves': 97}. Best is trial 13 with value: 0.00023263261569696127.\n",
      "num_leaves, val_score: 0.000233:  80%|########  | 16/20 [01:53<00:27,  6.96s/it][I 2023-08-08 11:49:30,732] Trial 22 finished with value: 0.00023263261569696127 and parameters: {'num_leaves': 93}. Best is trial 13 with value: 0.00023263261569696127.\n",
      "num_leaves, val_score: 0.000233:  85%|########5 | 17/20 [02:01<00:22,  7.45s/it][I 2023-08-08 11:49:39,325] Trial 23 finished with value: 0.00023263261569696127 and parameters: {'num_leaves': 156}. Best is trial 13 with value: 0.00023263261569696127.\n",
      "num_leaves, val_score: 0.000211:  90%|######### | 18/20 [02:11<00:16,  8.15s/it][I 2023-08-08 11:49:49,115] Trial 24 finished with value: 0.00021148419608814663 and parameters: {'num_leaves': 105}. Best is trial 24 with value: 0.00021148419608814663.\n",
      "num_leaves, val_score: 0.000211:  95%|#########5| 19/20 [02:14<00:06,  6.70s/it][I 2023-08-08 11:49:52,417] Trial 25 finished with value: 0.00021148419608814663 and parameters: {'num_leaves': 18}. Best is trial 24 with value: 0.00021148419608814663.\n",
      "num_leaves, val_score: 0.000211: 100%|##########| 20/20 [02:17<00:00,  5.44s/it][I 2023-08-08 11:49:54,934] Trial 26 finished with value: 0.00021148419608814663 and parameters: {'num_leaves': 8}. Best is trial 24 with value: 0.00021148419608814663.\n",
      "num_leaves, val_score: 0.000211: 100%|##########| 20/20 [02:17<00:00,  6.86s/it]\n",
      "bagging, val_score: 0.000211:  10%|#         | 1/10 [00:08<01:14,  8.24s/it][I 2023-08-08 11:50:03,177] Trial 27 finished with value: 0.00021148419608814663 and parameters: {'bagging_fraction': 0.5988583639521227, 'bagging_freq': 2}. Best is trial 27 with value: 0.00021148419608814663.\n",
      "bagging, val_score: 0.000211:  20%|##        | 2/10 [00:17<01:12,  9.04s/it][I 2023-08-08 11:50:12,777] Trial 28 finished with value: 0.00021148419608814663 and parameters: {'bagging_fraction': 0.996169413583702, 'bagging_freq': 7}. Best is trial 27 with value: 0.00021148419608814663.\n",
      "bagging, val_score: 0.000211:  30%|###       | 3/10 [00:25<00:58,  8.35s/it][I 2023-08-08 11:50:20,310] Trial 29 finished with value: 0.00021148419608814663 and parameters: {'bagging_fraction': 0.42469799341482395, 'bagging_freq': 6}. Best is trial 27 with value: 0.00021148419608814663.\n",
      "bagging, val_score: 0.000211:  40%|####      | 4/10 [00:32<00:46,  7.71s/it][I 2023-08-08 11:50:27,035] Trial 30 finished with value: 0.00021148419608814663 and parameters: {'bagging_fraction': 0.8765778781933977, 'bagging_freq': 1}. Best is trial 27 with value: 0.00021148419608814663.\n",
      "bagging, val_score: 0.000211:  50%|#####     | 5/10 [00:39<00:38,  7.64s/it][I 2023-08-08 11:50:34,544] Trial 31 finished with value: 0.00021148419608814663 and parameters: {'bagging_fraction': 0.5871021479274476, 'bagging_freq': 2}. Best is trial 27 with value: 0.00021148419608814663.\n",
      "bagging, val_score: 0.000211:  60%|######    | 6/10 [00:48<00:32,  8.14s/it][I 2023-08-08 11:50:43,676] Trial 32 finished with value: 0.00021148419608814663 and parameters: {'bagging_fraction': 0.6707497042806096, 'bagging_freq': 3}. Best is trial 27 with value: 0.00021148419608814663.\n",
      "bagging, val_score: 0.000211:  70%|#######   | 7/10 [00:57<00:25,  8.33s/it][I 2023-08-08 11:50:52,400] Trial 33 finished with value: 0.00021148419608814663 and parameters: {'bagging_fraction': 0.5205566800495839, 'bagging_freq': 4}. Best is trial 27 with value: 0.00021148419608814663.\n",
      "bagging, val_score: 0.000211:  80%|########  | 8/10 [01:04<00:15,  7.92s/it][I 2023-08-08 11:50:59,430] Trial 34 finished with value: 0.00021148419608814663 and parameters: {'bagging_fraction': 0.7666699293688889, 'bagging_freq': 1}. Best is trial 27 with value: 0.00021148419608814663.\n",
      "bagging, val_score: 0.000211:  90%|######### | 9/10 [01:12<00:07,  7.87s/it][I 2023-08-08 11:51:07,176] Trial 35 finished with value: 0.00021148419608814663 and parameters: {'bagging_fraction': 0.6906502187525161, 'bagging_freq': 5}. Best is trial 27 with value: 0.00021148419608814663.\n",
      "bagging, val_score: 0.000211: 100%|##########| 10/10 [01:19<00:00,  7.61s/it][I 2023-08-08 11:51:14,218] Trial 36 finished with value: 0.00021148419608814663 and parameters: {'bagging_fraction': 0.43716896829170027, 'bagging_freq': 3}. Best is trial 27 with value: 0.00021148419608814663.\n",
      "bagging, val_score: 0.000211: 100%|##########| 10/10 [01:19<00:00,  7.93s/it]\n",
      "feature_fraction_stage2, val_score: 0.000211:  17%|#6        | 1/6 [00:06<00:32,  6.56s/it][I 2023-08-08 11:51:20,779] Trial 37 finished with value: 0.00021148419608814663 and parameters: {'feature_fraction': 0.62}. Best is trial 37 with value: 0.00021148419608814663.\n",
      "feature_fraction_stage2, val_score: 0.000211:  33%|###3      | 2/6 [00:13<00:26,  6.54s/it][I 2023-08-08 11:51:27,306] Trial 38 finished with value: 0.00021148419608814663 and parameters: {'feature_fraction': 0.7799999999999999}. Best is trial 37 with value: 0.00021148419608814663.\n",
      "feature_fraction_stage2, val_score: 0.000211:  50%|#####     | 3/6 [00:19<00:19,  6.53s/it][I 2023-08-08 11:51:33,819] Trial 39 finished with value: 0.00021148419608814663 and parameters: {'feature_fraction': 0.716}. Best is trial 37 with value: 0.00021148419608814663.\n",
      "feature_fraction_stage2, val_score: 0.000211:  67%|######6   | 4/6 [00:25<00:12,  6.42s/it][I 2023-08-08 11:51:40,082] Trial 40 finished with value: 0.00021148419608814663 and parameters: {'feature_fraction': 0.6839999999999999}. Best is trial 37 with value: 0.00021148419608814663.\n",
      "feature_fraction_stage2, val_score: 0.000211:  83%|########3 | 5/6 [00:32<00:06,  6.49s/it][I 2023-08-08 11:51:46,688] Trial 41 finished with value: 0.00021148419608814663 and parameters: {'feature_fraction': 0.748}. Best is trial 37 with value: 0.00021148419608814663.\n",
      "feature_fraction_stage2, val_score: 0.000211: 100%|##########| 6/6 [00:38<00:00,  6.49s/it][I 2023-08-08 11:51:53,170] Trial 42 finished with value: 0.00021148419608814663 and parameters: {'feature_fraction': 0.652}. Best is trial 37 with value: 0.00021148419608814663.\n",
      "feature_fraction_stage2, val_score: 0.000211: 100%|##########| 6/6 [00:38<00:00,  6.49s/it]\n",
      "regularization_factors, val_score: 0.000211:   5%|5         | 1/20 [00:05<01:42,  5.39s/it][I 2023-08-08 11:51:58,562] Trial 43 finished with value: 0.00021148419608814663 and parameters: {'lambda_l1': 0.09093715969582813, 'lambda_l2': 1.5269803017511454e-06}. Best is trial 43 with value: 0.00021148419608814663.\n",
      "regularization_factors, val_score: 0.000000:  10%|#         | 2/20 [00:21<03:28, 11.57s/it][I 2023-08-08 11:52:14,461] Trial 44 finished with value: 0.0 and parameters: {'lambda_l1': 1.3428666550913902e-08, 'lambda_l2': 7.162419995940924}. Best is trial 44 with value: 0.0.\n",
      "regularization_factors, val_score: 0.000000:  15%|#5        | 3/20 [00:38<03:57, 13.95s/it][I 2023-08-08 11:52:31,249] Trial 45 finished with value: 0.0 and parameters: {'lambda_l1': 1.0188626368124851e-08, 'lambda_l2': 2.2724039995005225}. Best is trial 44 with value: 0.0.\n",
      "regularization_factors, val_score: 0.000000:  20%|##        | 4/20 [00:53<03:55, 14.70s/it][I 2023-08-08 11:52:47,106] Trial 46 finished with value: 0.0 and parameters: {'lambda_l1': 3.3798639583862574e-08, 'lambda_l2': 7.364863492878577}. Best is trial 44 with value: 0.0.\n",
      "regularization_factors, val_score: 0.000000:  25%|##5       | 5/20 [01:09<03:45, 15.04s/it][I 2023-08-08 11:53:02,741] Trial 47 finished with value: 0.0 and parameters: {'lambda_l1': 1.220516722058872e-08, 'lambda_l2': 4.350103062601465}. Best is trial 44 with value: 0.0.\n",
      "regularization_factors, val_score: 0.000000:  30%|###       | 6/20 [01:24<03:31, 15.07s/it][I 2023-08-08 11:53:17,884] Trial 48 finished with value: 0.0 and parameters: {'lambda_l1': 1.0294584476978968e-08, 'lambda_l2': 9.11835254680267}. Best is trial 44 with value: 0.0.\n",
      "regularization_factors, val_score: 0.000000:  35%|###5      | 7/20 [01:40<03:20, 15.40s/it][I 2023-08-08 11:53:33,969] Trial 49 finished with value: 0.0 and parameters: {'lambda_l1': 1.2220855284799796e-08, 'lambda_l2': 7.746981061883198}. Best is trial 44 with value: 0.0.\n",
      "regularization_factors, val_score: 0.000000:  40%|####      | 8/20 [01:56<03:04, 15.35s/it][I 2023-08-08 11:53:49,192] Trial 50 finished with value: 0.0 and parameters: {'lambda_l1': 1.1816077596789609e-08, 'lambda_l2': 7.848026029866002}. Best is trial 44 with value: 0.0.\n",
      "regularization_factors, val_score: 0.000000:  45%|####5     | 9/20 [02:15<03:03, 16.69s/it][I 2023-08-08 11:54:08,841] Trial 51 finished with value: 0.0 and parameters: {'lambda_l1': 1.7108289788201026e-08, 'lambda_l2': 7.129953125597711}. Best is trial 44 with value: 0.0.\n",
      "regularization_factors, val_score: 0.000000:  50%|#####     | 10/20 [02:32<02:47, 16.78s/it][I 2023-08-08 11:54:25,812] Trial 52 finished with value: 0.0 and parameters: {'lambda_l1': 1.2434162412190139e-08, 'lambda_l2': 6.9013746757762435}. Best is trial 44 with value: 0.0.\n",
      "regularization_factors, val_score: 0.000000:  55%|#####5    | 11/20 [02:48<02:29, 16.61s/it][I 2023-08-08 11:54:42,032] Trial 53 finished with value: 0.0 and parameters: {'lambda_l1': 1.1778871134001167e-08, 'lambda_l2': 8.546129891696962}. Best is trial 44 with value: 0.0.\n",
      "regularization_factors, val_score: 0.000000:  60%|######    | 12/20 [03:04<02:10, 16.27s/it][I 2023-08-08 11:54:57,537] Trial 54 finished with value: 0.0 and parameters: {'lambda_l1': 1.2117030059589515e-08, 'lambda_l2': 5.448942091247881}. Best is trial 44 with value: 0.0.\n",
      "regularization_factors, val_score: 0.000000:  65%|######5   | 13/20 [03:19<01:52, 16.05s/it][I 2023-08-08 11:55:13,065] Trial 55 finished with value: 0.0 and parameters: {'lambda_l1': 1.0998660091351167e-08, 'lambda_l2': 3.8334287117178847}. Best is trial 44 with value: 0.0.\n",
      "regularization_factors, val_score: 0.000000:  70%|#######   | 14/20 [03:35<01:35, 15.93s/it][I 2023-08-08 11:55:28,712] Trial 56 finished with value: 0.0 and parameters: {'lambda_l1': 2.851642288742923e-07, 'lambda_l2': 0.1358222350292723}. Best is trial 44 with value: 0.0.\n",
      "regularization_factors, val_score: 0.000000:  75%|#######5  | 15/20 [03:49<01:17, 15.44s/it][I 2023-08-08 11:55:43,017] Trial 57 finished with value: 0.0 and parameters: {'lambda_l1': 1.2842994876204274e-06, 'lambda_l2': 0.11953183935695567}. Best is trial 44 with value: 0.0.\n",
      "regularization_factors, val_score: 0.000000:  80%|########  | 16/20 [04:03<00:59, 14.86s/it][I 2023-08-08 11:55:56,550] Trial 58 finished with value: 0.0 and parameters: {'lambda_l1': 2.790888863536841e-07, 'lambda_l2': 0.23471680116631538}. Best is trial 44 with value: 0.0.\n",
      "regularization_factors, val_score: 0.000000:  85%|########5 | 17/20 [04:17<00:43, 14.60s/it][I 2023-08-08 11:56:10,541] Trial 59 finished with value: 0.0 and parameters: {'lambda_l1': 2.2728452368100451e-07, 'lambda_l2': 0.35631156717083234}. Best is trial 44 with value: 0.0.\n",
      "regularization_factors, val_score: 0.000000:  90%|######### | 18/20 [04:32<00:29, 14.63s/it][I 2023-08-08 11:56:25,240] Trial 60 finished with value: 0.0 and parameters: {'lambda_l1': 1.4954761653863042e-07, 'lambda_l2': 0.6576533612721717}. Best is trial 44 with value: 0.0.\n",
      "regularization_factors, val_score: 0.000000:  95%|#########5| 19/20 [04:47<00:14, 15.00s/it][I 2023-08-08 11:56:41,087] Trial 61 finished with value: 0.0 and parameters: {'lambda_l1': 1.108335098918654e-08, 'lambda_l2': 9.683168842191764}. Best is trial 44 with value: 0.0.\n",
      "regularization_factors, val_score: 0.000000: 100%|##########| 20/20 [05:04<00:00, 15.34s/it][I 2023-08-08 11:56:57,216] Trial 62 finished with value: 0.0 and parameters: {'lambda_l1': 1.2553310338079004e-08, 'lambda_l2': 9.35423200765472}. Best is trial 44 with value: 0.0.\n",
      "regularization_factors, val_score: 0.000000: 100%|##########| 20/20 [05:04<00:00, 15.20s/it]\n",
      "min_data_in_leaf, val_score: 0.000000:  20%|##        | 1/5 [00:15<01:03, 15.86s/it][I 2023-08-08 11:57:13,080] Trial 63 finished with value: 0.0 and parameters: {'min_child_samples': 25}. Best is trial 63 with value: 0.0.\n",
      "min_data_in_leaf, val_score: 0.000000:  40%|####      | 2/5 [00:36<00:56, 18.75s/it][I 2023-08-08 11:57:33,852] Trial 64 finished with value: 0.0 and parameters: {'min_child_samples': 10}. Best is trial 63 with value: 0.0.\n",
      "min_data_in_leaf, val_score: 0.000000:  60%|######    | 3/5 [00:53<00:35, 17.82s/it][I 2023-08-08 11:57:50,571] Trial 65 finished with value: 0.0 and parameters: {'min_child_samples': 100}. Best is trial 63 with value: 0.0.\n",
      "min_data_in_leaf, val_score: 0.000000:  80%|########  | 4/5 [01:09<00:17, 17.05s/it][I 2023-08-08 11:58:06,448] Trial 66 finished with value: 0.0 and parameters: {'min_child_samples': 5}. Best is trial 63 with value: 0.0.\n",
      "min_data_in_leaf, val_score: 0.000000: 100%|##########| 5/5 [01:24<00:00, 16.52s/it][I 2023-08-08 11:58:22,032] Trial 67 finished with value: 0.0 and parameters: {'min_child_samples': 50}. Best is trial 63 with value: 0.0.\n",
      "min_data_in_leaf, val_score: 0.000000: 100%|##########| 5/5 [01:24<00:00, 16.96s/it]\n"
     ]
    }
   ],
   "source": [
    "params = {\n",
    "        'task': 'train',\n",
    "        'boosting_type': 'gbdt',\n",
    "        'objective': 'multiclass',\n",
    "        'num_class': 5,\n",
    "        'metric': 'multi_error', # 評価指標 : 誤り率(= 1-正答率)  another multi_logloss\n",
    "        'learning_rate': 0.1,\n",
    "        'num_leaves': 23,\n",
    "        'min_data_in_leaf': 1,\n",
    "        'verbose': -1,\n",
    "        'random_state': RANDOM_SEED, \n",
    "}\n",
    "\n",
    "# モデルの学習\n",
    "model_encoded = lgb.train(params, # パラメータ\n",
    "                  lgb_train_encoded, # トレーニングデータの指定\n",
    "                  valid_sets=[lgb_train_encoded], # 検証データの指定\n",
    "                  callbacks=[lgb.early_stopping(50, verbose=False)],\n",
    "               )"
   ],
   "metadata": {
    "collapsed": false,
    "ExecuteTime": {
     "end_time": "2023-08-08T02:58:22.042650Z",
     "start_time": "2023-08-08T02:47:12.339366Z"
    }
   },
   "id": "96ecabb675c8ecc5"
  },
  {
   "cell_type": "code",
   "execution_count": null,
   "outputs": [],
   "source": [
    "y_pred_prob = model_encoded.predict(x_test_encoded)\n",
    "# テストデータの予測 (予測クラス(0 or 1 or...)を返す)\n",
    "y_pred_encoded = np.argmax(y_pred_prob, axis=1) # 一番大きい予測確率のクラスを予測クラスに\n",
    "y_pred_encoded = pd.Series(y_pred_encoded)\n",
    "y_pred_encoded.value_counts()"
   ],
   "metadata": {
    "collapsed": false
   },
   "id": "cb6af7e8f80ff0ef"
  },
  {
   "cell_type": "code",
   "execution_count": 19,
   "outputs": [
    {
     "data": {
      "text/plain": "0    129182\n1     32129\n2      1346\n3       358\n4        12\ndtype: int64"
     },
     "execution_count": 19,
     "metadata": {},
     "output_type": "execute_result"
    }
   ],
   "source": [
    "print(classification_report(y_test, y_pred_encoded, target_names=correspondences.keys()))"
   ],
   "metadata": {
    "collapsed": false,
    "ExecuteTime": {
     "end_time": "2023-08-08T02:58:23.880756Z",
     "start_time": "2023-08-08T02:58:22.048777Z"
    }
   },
   "id": "8c1e910c83ecae00"
  },
  {
   "cell_type": "code",
   "execution_count": 20,
   "outputs": [
    {
     "name": "stdout",
     "output_type": "stream",
     "text": [
      "              precision    recall  f1-score   support\n",
      "\n",
      "         dos       1.00      1.00      1.00    129181\n",
      "      normal       1.00      1.00      1.00     32102\n",
      "       probe       1.00      0.99      0.99      1355\n",
      "         r2l       0.99      0.95      0.97       372\n",
      "         u2r       0.75      0.53      0.62        17\n",
      "\n",
      "    accuracy                           1.00    163027\n",
      "   macro avg       0.95      0.89      0.92    163027\n",
      "weighted avg       1.00      1.00      1.00    163027\n"
     ]
    }
   ],
   "source": [
    "from sklearn.metrics import confusion_matrix\n",
    "print(pd.DataFrame(confusion_matrix(y_test, y_pred_encoded), index=correspondences.keys(), columns=correspondences.keys()))\n",
    "correspondences.keys()"
   ],
   "metadata": {
    "collapsed": false,
    "ExecuteTime": {
     "end_time": "2023-08-08T02:58:24.046829Z",
     "start_time": "2023-08-08T02:58:23.880924Z"
    }
   },
   "id": "12875d52f1f519ea"
  },
  {
   "cell_type": "code",
   "execution_count": 21,
   "outputs": [
    {
     "name": "stdout",
     "output_type": "stream",
     "text": [
      "           dos  normal  probe  r2l  u2r\n",
      "dos     129177       4      0    0    0\n",
      "normal       4   32094      3    1    0\n",
      "probe        0      11   1343    0    1\n",
      "r2l          1      14      0  355    2\n",
      "u2r          0       6      0    2    9\n"
     ]
    },
    {
     "data": {
      "text/plain": "dict_keys(['dos', 'normal', 'probe', 'r2l', 'u2r'])"
     },
     "execution_count": 21,
     "metadata": {},
     "output_type": "execute_result"
    }
   ],
   "source": [],
   "metadata": {
    "collapsed": false,
    "ExecuteTime": {
     "end_time": "2023-08-08T02:58:24.097629Z",
     "start_time": "2023-08-08T02:58:24.048759Z"
    }
   },
   "id": "ac63fa8bebd1433e"
  },
  {
   "cell_type": "code",
   "execution_count": 21,
   "outputs": [],
   "source": [
    "model_encoded.params"
   ],
   "metadata": {
    "collapsed": false,
    "ExecuteTime": {
     "end_time": "2023-08-08T02:58:24.097782Z",
     "start_time": "2023-08-08T02:58:24.069637Z"
    }
   },
   "id": "400bff77a0abb628"
  },
  {
   "cell_type": "code",
   "execution_count": 22,
   "outputs": [
    {
     "data": {
      "text/plain": "{'task': 'train',\n 'boosting_type': 'gbdt',\n 'objective': 'multiclass',\n 'num_class': 5,\n 'metric': 'multi_error',\n 'learning_rate': 0.1,\n 'num_leaves': 105,\n 'min_data_in_leaf': 1,\n 'verbose': -1,\n 'random_state': 2018,\n 'feature_pre_filter': False,\n 'lambda_l1': 1.3428666550913902e-08,\n 'lambda_l2': 7.162419995940924,\n 'feature_fraction': 0.7,\n 'bagging_fraction': 1.0,\n 'bagging_freq': 0,\n 'min_child_samples': 20,\n 'num_iterations': 1000,\n 'early_stopping_round': None}"
     },
     "execution_count": 22,
     "metadata": {},
     "output_type": "execute_result"
    }
   ],
   "source": [
    "for key, confusion_matrix in zip(correspondences.keys(), multilabel_confusion_matrix(y_test, y_pred)):\n",
    "    print(f\"{key}    TP: {confusion_matrix[1][1]}, TN: {confusion_matrix[0][0]}, FP: {confusion_matrix[0][1]}, FN: {confusion_matrix[1][0]}\")"
   ],
   "metadata": {
    "collapsed": false,
    "ExecuteTime": {
     "end_time": "2023-08-08T02:58:24.097885Z",
     "start_time": "2023-08-08T02:58:24.072236Z"
    }
   },
   "id": "ee2734bc9e17c0ba"
  },
  {
   "cell_type": "code",
   "execution_count": 23,
   "outputs": [
    {
     "name": "stdout",
     "output_type": "stream",
     "text": [
      "dos    TP: 129176, TN: 33831, FP: 15, FN: 5\n",
      "normal    TP: 32084, TN: 130882, FP: 43, FN: 18\n",
      "probe    TP: 1334, TN: 161671, FP: 1, FN: 21\n",
      "r2l    TP: 351, TN: 162648, FP: 7, FN: 21\n",
      "u2r    TP: 13, TN: 163007, FP: 3, FN: 4\n"
     ]
    }
   ],
   "source": [
    "import pickle\n",
    "with open(\"models/lightgbm/lgb_param_tuned_booster.pkl\", 'wb') as fp:\n",
    "    pickle.dump(model.dump_model(), fp)"
   ],
   "metadata": {
    "collapsed": false,
    "ExecuteTime": {
     "end_time": "2023-08-08T02:58:24.102972Z",
     "start_time": "2023-08-08T02:58:24.076017Z"
    }
   },
   "id": "e2fd8c728c372ae8"
  },
  {
   "cell_type": "code",
   "execution_count": 24,
   "outputs": [],
   "source": [
    "with open(\"models/lightgbm/lgb+ae_param_tuned_booster.pkl\", 'wb') as fp:\n",
    "    pickle.dump(model_encoded.dump_model(), fp)"
   ],
   "metadata": {
    "collapsed": false,
    "ExecuteTime": {
     "end_time": "2023-08-08T02:58:24.223102Z",
     "start_time": "2023-08-08T02:58:24.100797Z"
    }
   },
   "id": "36d8a0a45183909b"
  },
  {
   "cell_type": "code",
   "execution_count": 25,
   "outputs": [],
   "source": [
    "model.save_model('models/lightgbm/lgb_tuned_booster.model')\n",
    "model_encoded.save_model('models/lightgbm/lgb+ae_tuned_booster.model')"
   ],
   "metadata": {
    "collapsed": false,
    "ExecuteTime": {
     "end_time": "2023-08-08T02:58:24.859216Z",
     "start_time": "2023-08-08T02:58:24.226833Z"
    }
   },
   "id": "7d0648127a09c1d5"
  },
  {
   "cell_type": "code",
   "execution_count": 26,
   "outputs": [
    {
     "data": {
      "text/plain": "<lightgbm.basic.Booster at 0x16bd80310>"
     },
     "execution_count": 26,
     "metadata": {},
     "output_type": "execute_result"
    }
   ],
   "source": [],
   "metadata": {
    "collapsed": false,
    "ExecuteTime": {
     "end_time": "2023-08-08T02:58:24.888563Z",
     "start_time": "2023-08-08T02:58:24.859546Z"
    }
   },
   "id": "cbb7d909853f5dd"
  },
  {
   "cell_type": "code",
   "execution_count": 26,
   "outputs": [],
   "source": [],
   "metadata": {
    "collapsed": false,
    "ExecuteTime": {
     "end_time": "2023-08-08T02:58:24.892414Z",
     "start_time": "2023-08-08T02:58:24.887598Z"
    }
   },
   "id": "759714cd23f5ccc8"
  }
 ],
 "metadata": {
  "kernelspec": {
   "display_name": "Python 3",
   "language": "python",
   "name": "python3"
  },
  "language_info": {
   "codemirror_mode": {
    "name": "ipython",
    "version": 2
   },
   "file_extension": ".py",
   "mimetype": "text/x-python",
   "name": "python",
   "nbconvert_exporter": "python",
   "pygments_lexer": "ipython2",
   "version": "2.7.6"
  }
 },
 "nbformat": 4,
 "nbformat_minor": 5
}
