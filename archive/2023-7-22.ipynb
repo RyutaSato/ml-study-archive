{
 "cells": [
  {
   "cell_type": "markdown",
   "source": [
    "# 7/18 ~ 7/25　までの研究成果"
   ],
   "metadata": {
    "collapsed": false
   }
  },
  {
   "cell_type": "markdown",
   "source": [
    "## Dosのみを学習したオートエンコーダを用いた不均衡データセットの精度向上"
   ],
   "metadata": {
    "collapsed": false
   }
  },
  {
   "cell_type": "markdown",
   "source": [
    "\n",
    "### 背景\n",
    "- 全てのデータを学習したオートエンコーダではu2rを学習することすらできなかった．\n",
    "- 巨大なDosのデータにu2rが飲み込まれてしまっている可能性がある．"
   ],
   "metadata": {
    "collapsed": false
   }
  },
  {
   "cell_type": "markdown",
   "source": [
    "### 目的\n",
    "- 全てのデータを学習したオートエンコーダでは見込みのなかったu2rの精度の向上\n",
    "- u2rデータがDosのデータのみを学習したオートエンコーダで再構成誤差が大きくなるかを検証する．"
   ],
   "metadata": {
    "collapsed": false
   }
  },
  {
   "cell_type": "markdown",
   "source": [
    "### 使用するデータセット\n",
    "- KDD99\n",
    "- KDD99 10%"
   ],
   "metadata": {
    "collapsed": false
   }
  },
  {
   "cell_type": "markdown",
   "source": [
    "### 手法\n",
    "### 結果\n",
    "### 考察"
   ],
   "metadata": {
    "collapsed": false
   }
  },
  {
   "cell_type": "markdown",
   "source": [
    "### 1. 準備（読み込み，前処理）"
   ],
   "metadata": {
    "collapsed": false
   }
  },
  {
   "cell_type": "markdown",
   "source": [
    "ライブラリの読み込み，と各バージョンの出力"
   ],
   "metadata": {
    "collapsed": false
   }
  },
  {
   "cell_type": "code",
   "execution_count": 1,
   "outputs": [
    {
     "name": "stdout",
     "output_type": "stream",
     "text": [
      "python:      3.10.11\n",
      "sklearn:     1.2.2\n",
      "tensorflow:  2.12.0\n",
      "keras:       2.12.0\n",
      "numpy:       1.23.5\n",
      "pandas:      1.5.3\n"
     ]
    }
   ],
   "source": [
    "from utils_kdd99 import *\n",
    "print_version()"
   ],
   "metadata": {
    "collapsed": false,
    "ExecuteTime": {
     "end_time": "2023-07-25T01:11:20.531863Z",
     "start_time": "2023-07-25T01:11:17.157019Z"
    }
   }
  },
  {
   "cell_type": "markdown",
   "source": [
    "データを読み込み，説明変数と目的変数に分割する．"
   ],
   "metadata": {
    "collapsed": false
   }
  },
  {
   "cell_type": "code",
   "execution_count": 2,
   "outputs": [],
   "source": [
    "data_x, data_y = load_data(use_full_dataset=False, standard_scale=True, verbose=0, )"
   ],
   "metadata": {
    "collapsed": false,
    "ExecuteTime": {
     "end_time": "2023-07-25T01:11:21.522555Z",
     "start_time": "2023-07-25T01:11:20.533624Z"
    }
   }
  },
  {
   "cell_type": "markdown",
   "source": [
    "目的変数の種類と，データの数"
   ],
   "metadata": {
    "collapsed": false
   }
  },
  {
   "cell_type": "code",
   "execution_count": 3,
   "outputs": [
    {
     "data": {
      "text/plain": "smurf              280790\nneptune            107201\nnormal              97278\nback                 2203\nsatan                1589\nipsweep              1247\nportsweep            1040\nwarezclient          1020\nteardrop              979\npod                   264\nnmap                  231\nguess_passwd           53\nbuffer_overflow        30\nland                   21\nwarezmaster            20\nimap                   12\nrootkit                10\nloadmodule              9\nftp_write               8\nmultihop                7\nphf                     4\nperl                    3\nspy                     2\nName: true_label, dtype: int64"
     },
     "execution_count": 3,
     "metadata": {},
     "output_type": "execute_result"
    }
   ],
   "source": [
    "data_y.value_counts()"
   ],
   "metadata": {
    "collapsed": false,
    "ExecuteTime": {
     "end_time": "2023-07-25T01:11:21.563249Z",
     "start_time": "2023-07-25T01:11:21.548094Z"
    }
   }
  },
  {
   "cell_type": "markdown",
   "source": [
    "4つのクラスラベルに変換する．"
   ],
   "metadata": {
    "collapsed": false
   }
  },
  {
   "cell_type": "code",
   "execution_count": 4,
   "outputs": [],
   "source": [
    "data_y = data_y.map(lambda x: attack_label_class[x])"
   ],
   "metadata": {
    "collapsed": false,
    "ExecuteTime": {
     "end_time": "2023-07-25T01:11:21.596888Z",
     "start_time": "2023-07-25T01:11:21.551765Z"
    }
   }
  },
  {
   "cell_type": "markdown",
   "source": [
    "変換後の目的変数の種類と，データの数"
   ],
   "metadata": {
    "collapsed": false
   }
  },
  {
   "cell_type": "code",
   "execution_count": 5,
   "outputs": [
    {
     "data": {
      "text/plain": "dos       391458\nnormal     97278\nprobe       4107\nr2l         1126\nu2r           52\nName: true_label, dtype: int64"
     },
     "execution_count": 5,
     "metadata": {},
     "output_type": "execute_result"
    }
   ],
   "source": [
    "data_y.value_counts()"
   ],
   "metadata": {
    "collapsed": false,
    "ExecuteTime": {
     "end_time": "2023-07-25T01:11:21.614988Z",
     "start_time": "2023-07-25T01:11:21.596495Z"
    }
   }
  },
  {
   "cell_type": "markdown",
   "source": [
    "クラスラベルを数値に変換"
   ],
   "metadata": {
    "collapsed": false
   }
  },
  {
   "cell_type": "code",
   "execution_count": 6,
   "outputs": [],
   "source": [
    "data_y = data_y.map(lambda x: correspondences[x])"
   ],
   "metadata": {
    "collapsed": false,
    "ExecuteTime": {
     "end_time": "2023-07-25T01:11:21.690663Z",
     "start_time": "2023-07-25T01:11:21.612890Z"
    }
   }
  },
  {
   "cell_type": "markdown",
   "source": [
    "k分割交差検証\n",
    "- 訓練データと検証データの比率は2:1\n",
    "- 訓練データと検証データの正解ラベルの各種類の比率は一定（stratify=True）"
   ],
   "metadata": {
    "collapsed": false
   }
  },
  {
   "cell_type": "code",
   "execution_count": 7,
   "outputs": [],
   "source": [
    "x_train, x_test, y_train, y_test = train_test_split(data_x, data_y, test_size=0.33, random_state=RANDOM_SEED, stratify=data_y)"
   ],
   "metadata": {
    "collapsed": false,
    "ExecuteTime": {
     "end_time": "2023-07-25T01:11:21.839025Z",
     "start_time": "2023-07-25T01:11:21.692053Z"
    }
   }
  },
  {
   "cell_type": "markdown",
   "source": [
    "訓練データと検証データのサイズ確認"
   ],
   "metadata": {
    "collapsed": false
   }
  },
  {
   "cell_type": "code",
   "execution_count": 8,
   "outputs": [
    {
     "name": "stdout",
     "output_type": "stream",
     "text": [
      "x_train: (330994, 38), x_test: (163027, 38)\n"
     ]
    }
   ],
   "source": [
    "print(f\"x_train: {x_train.shape}, x_test: {x_test.shape}\")\n"
   ],
   "metadata": {
    "collapsed": false,
    "ExecuteTime": {
     "end_time": "2023-07-25T01:11:21.842587Z",
     "start_time": "2023-07-25T01:11:21.840237Z"
    }
   }
  },
  {
   "cell_type": "markdown",
   "source": [
    "### Dosのみを学習したオートエンコーダの作成\n",
    "- 隠れ層の次元数(38->10->5->10->38)\n",
    "- 活性化関数：ReLU\n",
    "- 最適化関数：adam\n",
    "- 損失関数：平均二乗誤差\n",
    "- エポック数：1\n",
    "- バッチサイズ：32"
   ],
   "metadata": {
    "collapsed": false
   }
  },
  {
   "cell_type": "code",
   "execution_count": 9,
   "outputs": [
    {
     "name": "stdout",
     "output_type": "stream",
     "text": [
      "Model: \"sequential\"\n",
      "_________________________________________________________________\n",
      " Layer (type)                Output Shape              Param #   \n",
      "=================================================================\n",
      " encoder1 (Dense)            (None, 10)                390       \n",
      "                                                                 \n",
      " encoder2 (Dense)            (None, 5)                 55        \n",
      "                                                                 \n",
      " dense (Dense)               (None, 10)                60        \n",
      "                                                                 \n",
      " dense_1 (Dense)             (None, 38)                418       \n",
      "                                                                 \n",
      "=================================================================\n",
      "Total params: 923\n",
      "Trainable params: 923\n",
      "Non-trainable params: 0\n",
      "_________________________________________________________________\n"
     ]
    }
   ],
   "source": [
    "ae_model = keras.Sequential([\n",
    "    Dense(units=10, activation='relu', input_dim=38, name='encoder1'),\n",
    "    Dense(units=5, activation='relu', name='encoder2'),\n",
    "    Dense(units=10, activation='relu'),\n",
    "    Dense(units=38, activation='relu'),\n",
    "])\n",
    "ae_model.compile(optimizer='adam', loss='mean_squared_error', metrics=['accuracy'])\n",
    "ae_model.summary()"
   ],
   "metadata": {
    "collapsed": false,
    "ExecuteTime": {
     "end_time": "2023-07-25T01:11:22.046338Z",
     "start_time": "2023-07-25T01:11:21.974855Z"
    }
   }
  },
  {
   "cell_type": "markdown",
   "source": [
    "Dosのみのデータセットを作成"
   ],
   "metadata": {
    "collapsed": false
   }
  },
  {
   "cell_type": "code",
   "execution_count": 10,
   "outputs": [],
   "source": [
    "dos_x_train = x_train[y_train == correspondences['dos']]"
   ],
   "metadata": {
    "collapsed": false,
    "ExecuteTime": {
     "end_time": "2023-07-25T01:11:22.089703Z",
     "start_time": "2023-07-25T01:11:22.049557Z"
    }
   }
  },
  {
   "cell_type": "markdown",
   "source": [
    "オートエンコーダの学習"
   ],
   "metadata": {
    "collapsed": false
   }
  },
  {
   "cell_type": "code",
   "execution_count": 11,
   "outputs": [
    {
     "name": "stderr",
     "output_type": "stream",
     "text": [
      "2023-07-25 10:11:22.162197: W tensorflow/tsl/platform/profile_utils/cpu_utils.cc:128] Failed to get CPU frequency: 0 Hz\n"
     ]
    },
    {
     "name": "stdout",
     "output_type": "stream",
     "text": [
      "8197/8197 [==============================] - 4s 434us/step - loss: 0.2200 - accuracy: 0.7976\n"
     ]
    },
    {
     "data": {
      "text/plain": "<keras.callbacks.History at 0x29dc4ab30>"
     },
     "execution_count": 11,
     "metadata": {},
     "output_type": "execute_result"
    }
   ],
   "source": [
    "ae_model.fit(dos_x_train, dos_x_train,\n",
    "          epochs=1, # データセットを使って学習する回数\n",
    "        batch_size=32,\n",
    "        shuffle=True,\n",
    "        verbose=1,\n",
    "        use_multiprocessing=True\n",
    "          )"
   ],
   "metadata": {
    "collapsed": false,
    "ExecuteTime": {
     "end_time": "2023-07-25T01:11:25.929908Z",
     "start_time": "2023-07-25T01:11:22.091081Z"
    }
   }
  },
  {
   "cell_type": "markdown",
   "source": [
    "エンコーダー部分を抜き取る"
   ],
   "metadata": {
    "collapsed": false
   }
  },
  {
   "cell_type": "code",
   "execution_count": 12,
   "outputs": [],
   "source": [
    "encoder = keras.Sequential([ae_model.get_layer('encoder1'),\n",
    "                            ae_model.get_layer('encoder2')])\n"
   ],
   "metadata": {
    "collapsed": false,
    "ExecuteTime": {
     "end_time": "2023-07-25T01:11:25.939246Z",
     "start_time": "2023-07-25T01:11:25.932158Z"
    }
   }
  },
  {
   "cell_type": "markdown",
   "source": [
    "Dosで学習したエンコーダによって出力された特徴量を命名"
   ],
   "metadata": {
    "collapsed": false
   }
  },
  {
   "cell_type": "code",
   "execution_count": 13,
   "outputs": [
    {
     "data": {
      "text/plain": "['dos0', 'dos1', 'dos2', 'dos3', 'dos4']"
     },
     "execution_count": 13,
     "metadata": {},
     "output_type": "execute_result"
    }
   ],
   "source": [
    "dos_columns = list(map(lambda x: 'dos' + str(x), range(5)))\n",
    "dos_columns"
   ],
   "metadata": {
    "collapsed": false,
    "ExecuteTime": {
     "end_time": "2023-07-25T01:11:25.941797Z",
     "start_time": "2023-07-25T01:11:25.939794Z"
    }
   }
  },
  {
   "cell_type": "markdown",
   "source": [
    "特徴量抽出"
   ],
   "metadata": {
    "collapsed": false
   }
  },
  {
   "cell_type": "code",
   "execution_count": 14,
   "outputs": [
    {
     "name": "stdout",
     "output_type": "stream",
     "text": [
      "10344/10344 [==============================] - 2s 231us/step\n",
      "5095/5095 [==============================] - 1s 226us/step\n"
     ]
    },
    {
     "data": {
      "text/plain": "            dos0  dos1      dos2      dos3      dos4\n212221  0.000000   0.0  2.938297  0.000000  0.000000\n30903   0.598978   0.0  0.000000  0.331348  0.389877\n9739    0.000000   0.0  2.944860  0.000000  0.000000\n37540   0.622310   0.0  0.000000  0.424348  0.410116\n418638  0.000000   0.0  2.944614  0.000000  0.000000",
      "text/html": "<div>\n<style scoped>\n    .dataframe tbody tr th:only-of-type {\n        vertical-align: middle;\n    }\n\n    .dataframe tbody tr th {\n        vertical-align: top;\n    }\n\n    .dataframe thead th {\n        text-align: right;\n    }\n</style>\n<table border=\"1\" class=\"dataframe\">\n  <thead>\n    <tr style=\"text-align: right;\">\n      <th></th>\n      <th>dos0</th>\n      <th>dos1</th>\n      <th>dos2</th>\n      <th>dos3</th>\n      <th>dos4</th>\n    </tr>\n  </thead>\n  <tbody>\n    <tr>\n      <th>212221</th>\n      <td>0.000000</td>\n      <td>0.0</td>\n      <td>2.938297</td>\n      <td>0.000000</td>\n      <td>0.000000</td>\n    </tr>\n    <tr>\n      <th>30903</th>\n      <td>0.598978</td>\n      <td>0.0</td>\n      <td>0.000000</td>\n      <td>0.331348</td>\n      <td>0.389877</td>\n    </tr>\n    <tr>\n      <th>9739</th>\n      <td>0.000000</td>\n      <td>0.0</td>\n      <td>2.944860</td>\n      <td>0.000000</td>\n      <td>0.000000</td>\n    </tr>\n    <tr>\n      <th>37540</th>\n      <td>0.622310</td>\n      <td>0.0</td>\n      <td>0.000000</td>\n      <td>0.424348</td>\n      <td>0.410116</td>\n    </tr>\n    <tr>\n      <th>418638</th>\n      <td>0.000000</td>\n      <td>0.0</td>\n      <td>2.944614</td>\n      <td>0.000000</td>\n      <td>0.000000</td>\n    </tr>\n  </tbody>\n</table>\n</div>"
     },
     "execution_count": 14,
     "metadata": {},
     "output_type": "execute_result"
    }
   ],
   "source": [
    "x_train_encoded = pd.DataFrame(data=encoder.predict(x_train), index=x_train.index, columns=dos_columns)\n",
    "x_test_encoded = pd.DataFrame(data=encoder.predict(x_test), index=x_test.index, columns=dos_columns)\n",
    "x_train_encoded.head()\n"
   ],
   "metadata": {
    "collapsed": false,
    "ExecuteTime": {
     "end_time": "2023-07-25T01:11:31.574980Z",
     "start_time": "2023-07-25T01:11:25.943716Z"
    }
   }
  },
  {
   "cell_type": "markdown",
   "source": [
    "Dosで学習した特徴量を元の特徴量にマージする"
   ],
   "metadata": {
    "collapsed": false
   }
  },
  {
   "cell_type": "code",
   "execution_count": 15,
   "outputs": [
    {
     "data": {
      "text/plain": "        duration  src_bytes  dst_bytes      land  wrong_fragment    urgent  \\\n212221 -0.067792  -0.002017  -0.026287 -0.006673        -0.04772 -0.002571   \n30903  -0.067792  -0.002774   0.472896 -0.006673        -0.04772 -0.002571   \n9739   -0.067792  -0.002017  -0.026287 -0.006673        -0.04772 -0.002571   \n37540  -0.067792  -0.002776  -0.014120 -0.006673        -0.04772 -0.002571   \n418638 -0.067792  -0.002535  -0.026287 -0.006673        -0.04772 -0.002571   \n\n             hot  num_failed_logins  logged_in  num_compromised  ...  \\\n212221 -0.044136          -0.009782  -0.417192        -0.005679  ...   \n30903  -0.044136          -0.009782   2.396980        -0.005679  ...   \n9739   -0.044136          -0.009782  -0.417192        -0.005679  ...   \n37540  -0.044136          -0.009782   2.396980        -0.005679  ...   \n418638 -0.044136          -0.009782  -0.417192        -0.005679  ...   \n\n        dst_host_srv_diff_host_rate  dst_host_serror_rate  \\\n212221                    -0.158629             -0.464418   \n30903                      0.553404             -0.464418   \n9739                      -0.158629             -0.464418   \n37540                      0.790749             -0.464418   \n418638                    -0.158629             -0.464418   \n\n        dst_host_srv_serror_rate  dst_host_rerror_rate  \\\n212221                 -0.463202              -0.25204   \n30903                  -0.463202              -0.25204   \n9739                   -0.463202              -0.25204   \n37540                  -0.463202              -0.25204   \n418638                 -0.463202              -0.25204   \n\n        dst_host_srv_rerror_rate      dos0  dos1      dos2      dos3      dos4  \n212221                 -0.249464  0.000000   0.0  2.938297  0.000000  0.000000  \n30903                  -0.249464  0.598978   0.0  0.000000  0.331348  0.389877  \n9739                   -0.249464  0.000000   0.0  2.944860  0.000000  0.000000  \n37540                  -0.249464  0.622310   0.0  0.000000  0.424348  0.410116  \n418638                 -0.249464  0.000000   0.0  2.944614  0.000000  0.000000  \n\n[5 rows x 43 columns]",
      "text/html": "<div>\n<style scoped>\n    .dataframe tbody tr th:only-of-type {\n        vertical-align: middle;\n    }\n\n    .dataframe tbody tr th {\n        vertical-align: top;\n    }\n\n    .dataframe thead th {\n        text-align: right;\n    }\n</style>\n<table border=\"1\" class=\"dataframe\">\n  <thead>\n    <tr style=\"text-align: right;\">\n      <th></th>\n      <th>duration</th>\n      <th>src_bytes</th>\n      <th>dst_bytes</th>\n      <th>land</th>\n      <th>wrong_fragment</th>\n      <th>urgent</th>\n      <th>hot</th>\n      <th>num_failed_logins</th>\n      <th>logged_in</th>\n      <th>num_compromised</th>\n      <th>...</th>\n      <th>dst_host_srv_diff_host_rate</th>\n      <th>dst_host_serror_rate</th>\n      <th>dst_host_srv_serror_rate</th>\n      <th>dst_host_rerror_rate</th>\n      <th>dst_host_srv_rerror_rate</th>\n      <th>dos0</th>\n      <th>dos1</th>\n      <th>dos2</th>\n      <th>dos3</th>\n      <th>dos4</th>\n    </tr>\n  </thead>\n  <tbody>\n    <tr>\n      <th>212221</th>\n      <td>-0.067792</td>\n      <td>-0.002017</td>\n      <td>-0.026287</td>\n      <td>-0.006673</td>\n      <td>-0.04772</td>\n      <td>-0.002571</td>\n      <td>-0.044136</td>\n      <td>-0.009782</td>\n      <td>-0.417192</td>\n      <td>-0.005679</td>\n      <td>...</td>\n      <td>-0.158629</td>\n      <td>-0.464418</td>\n      <td>-0.463202</td>\n      <td>-0.25204</td>\n      <td>-0.249464</td>\n      <td>0.000000</td>\n      <td>0.0</td>\n      <td>2.938297</td>\n      <td>0.000000</td>\n      <td>0.000000</td>\n    </tr>\n    <tr>\n      <th>30903</th>\n      <td>-0.067792</td>\n      <td>-0.002774</td>\n      <td>0.472896</td>\n      <td>-0.006673</td>\n      <td>-0.04772</td>\n      <td>-0.002571</td>\n      <td>-0.044136</td>\n      <td>-0.009782</td>\n      <td>2.396980</td>\n      <td>-0.005679</td>\n      <td>...</td>\n      <td>0.553404</td>\n      <td>-0.464418</td>\n      <td>-0.463202</td>\n      <td>-0.25204</td>\n      <td>-0.249464</td>\n      <td>0.598978</td>\n      <td>0.0</td>\n      <td>0.000000</td>\n      <td>0.331348</td>\n      <td>0.389877</td>\n    </tr>\n    <tr>\n      <th>9739</th>\n      <td>-0.067792</td>\n      <td>-0.002017</td>\n      <td>-0.026287</td>\n      <td>-0.006673</td>\n      <td>-0.04772</td>\n      <td>-0.002571</td>\n      <td>-0.044136</td>\n      <td>-0.009782</td>\n      <td>-0.417192</td>\n      <td>-0.005679</td>\n      <td>...</td>\n      <td>-0.158629</td>\n      <td>-0.464418</td>\n      <td>-0.463202</td>\n      <td>-0.25204</td>\n      <td>-0.249464</td>\n      <td>0.000000</td>\n      <td>0.0</td>\n      <td>2.944860</td>\n      <td>0.000000</td>\n      <td>0.000000</td>\n    </tr>\n    <tr>\n      <th>37540</th>\n      <td>-0.067792</td>\n      <td>-0.002776</td>\n      <td>-0.014120</td>\n      <td>-0.006673</td>\n      <td>-0.04772</td>\n      <td>-0.002571</td>\n      <td>-0.044136</td>\n      <td>-0.009782</td>\n      <td>2.396980</td>\n      <td>-0.005679</td>\n      <td>...</td>\n      <td>0.790749</td>\n      <td>-0.464418</td>\n      <td>-0.463202</td>\n      <td>-0.25204</td>\n      <td>-0.249464</td>\n      <td>0.622310</td>\n      <td>0.0</td>\n      <td>0.000000</td>\n      <td>0.424348</td>\n      <td>0.410116</td>\n    </tr>\n    <tr>\n      <th>418638</th>\n      <td>-0.067792</td>\n      <td>-0.002535</td>\n      <td>-0.026287</td>\n      <td>-0.006673</td>\n      <td>-0.04772</td>\n      <td>-0.002571</td>\n      <td>-0.044136</td>\n      <td>-0.009782</td>\n      <td>-0.417192</td>\n      <td>-0.005679</td>\n      <td>...</td>\n      <td>-0.158629</td>\n      <td>-0.464418</td>\n      <td>-0.463202</td>\n      <td>-0.25204</td>\n      <td>-0.249464</td>\n      <td>0.000000</td>\n      <td>0.0</td>\n      <td>2.944614</td>\n      <td>0.000000</td>\n      <td>0.000000</td>\n    </tr>\n  </tbody>\n</table>\n<p>5 rows × 43 columns</p>\n</div>"
     },
     "execution_count": 15,
     "metadata": {},
     "output_type": "execute_result"
    }
   ],
   "source": [
    "x_train_new_feature = x_train.merge(x_train_encoded, right_index=True, left_index=True)\n",
    "x_test_new_feature = x_test.merge(x_test_encoded, right_index=True, left_index=True)\n",
    "x_train_new_feature.head()\n"
   ],
   "metadata": {
    "collapsed": false,
    "ExecuteTime": {
     "end_time": "2023-07-25T01:11:31.756992Z",
     "start_time": "2023-07-25T01:11:31.576918Z"
    }
   }
  },
  {
   "cell_type": "markdown",
   "source": [
    "### LightGBMを用いた学習"
   ],
   "metadata": {
    "collapsed": false
   }
  },
  {
   "cell_type": "code",
   "execution_count": 16,
   "outputs": [
    {
     "name": "stderr",
     "output_type": "stream",
     "text": [
      "/Users/satun/anaconda3/lib/python3.10/site-packages/lightgbm/engine.py:177: UserWarning: Found `num_iteration` in params. Will use it instead of argument\n",
      "  _log_warning(f\"Found `{alias}` in params. Will use it instead of argument\")\n"
     ]
    },
    {
     "name": "stdout",
     "output_type": "stream",
     "text": [
      "[LightGBM] [Warning] Auto-choosing row-wise multi-threading, the overhead of testing was 0.017184 seconds.\n",
      "You can set `force_row_wise=true` to remove the overhead.\n",
      "And if memory is not enough, you can set `force_col_wise=true`.\n",
      "Training until validation scores don't improve for 100 rounds\n",
      "[LightGBM] [Warning] No further splits with positive gain, best gain: -inf\n",
      "[LightGBM] [Warning] No further splits with positive gain, best gain: -inf\n",
      "[LightGBM] [Warning] No further splits with positive gain, best gain: -inf\n",
      "[LightGBM] [Warning] No further splits with positive gain, best gain: -inf\n",
      "[LightGBM] [Warning] No further splits with positive gain, best gain: -inf\n",
      "[LightGBM] [Warning] No further splits with positive gain, best gain: -inf\n",
      "[LightGBM] [Warning] No further splits with positive gain, best gain: -inf\n",
      "[LightGBM] [Warning] No further splits with positive gain, best gain: -inf\n",
      "[LightGBM] [Warning] No further splits with positive gain, best gain: -inf\n",
      "[LightGBM] [Warning] No further splits with positive gain, best gain: -inf\n",
      "[LightGBM] [Warning] No further splits with positive gain, best gain: -inf\n",
      "[LightGBM] [Warning] No further splits with positive gain, best gain: -inf\n",
      "[LightGBM] [Warning] No further splits with positive gain, best gain: -inf\n",
      "[LightGBM] [Warning] No further splits with positive gain, best gain: -inf\n",
      "[LightGBM] [Warning] No further splits with positive gain, best gain: -inf\n",
      "[LightGBM] [Warning] No further splits with positive gain, best gain: -inf\n",
      "[LightGBM] [Warning] No further splits with positive gain, best gain: -inf\n",
      "[LightGBM] [Warning] No further splits with positive gain, best gain: -inf\n",
      "[LightGBM] [Warning] No further splits with positive gain, best gain: -inf\n",
      "[LightGBM] [Warning] No further splits with positive gain, best gain: -inf\n",
      "[LightGBM] [Warning] No further splits with positive gain, best gain: -inf\n",
      "[LightGBM] [Warning] No further splits with positive gain, best gain: -inf\n",
      "[LightGBM] [Warning] No further splits with positive gain, best gain: -inf\n",
      "[LightGBM] [Warning] No further splits with positive gain, best gain: -inf\n",
      "[LightGBM] [Warning] No further splits with positive gain, best gain: -inf\n",
      "[LightGBM] [Warning] No further splits with positive gain, best gain: -inf\n",
      "[LightGBM] [Warning] No further splits with positive gain, best gain: -inf\n",
      "[LightGBM] [Warning] No further splits with positive gain, best gain: -inf\n",
      "[LightGBM] [Warning] No further splits with positive gain, best gain: -inf\n",
      "[LightGBM] [Warning] No further splits with positive gain, best gain: -inf\n",
      "[LightGBM] [Warning] No further splits with positive gain, best gain: -inf\n",
      "[LightGBM] [Warning] No further splits with positive gain, best gain: -inf\n",
      "[LightGBM] [Warning] No further splits with positive gain, best gain: -inf\n",
      "[LightGBM] [Warning] No further splits with positive gain, best gain: -inf\n",
      "[LightGBM] [Warning] No further splits with positive gain, best gain: -inf\n",
      "[LightGBM] [Warning] No further splits with positive gain, best gain: -inf\n",
      "[LightGBM] [Warning] No further splits with positive gain, best gain: -inf\n",
      "[LightGBM] [Warning] No further splits with positive gain, best gain: -inf\n",
      "[LightGBM] [Warning] No further splits with positive gain, best gain: -inf\n",
      "[LightGBM] [Warning] No further splits with positive gain, best gain: -inf\n",
      "[LightGBM] [Warning] No further splits with positive gain, best gain: -inf\n",
      "[LightGBM] [Warning] No further splits with positive gain, best gain: -inf\n",
      "[LightGBM] [Warning] No further splits with positive gain, best gain: -inf\n",
      "[LightGBM] [Warning] No further splits with positive gain, best gain: -inf\n",
      "[LightGBM] [Warning] No further splits with positive gain, best gain: -inf\n",
      "[LightGBM] [Warning] No further splits with positive gain, best gain: -inf\n",
      "[LightGBM] [Warning] No further splits with positive gain, best gain: -inf\n",
      "[LightGBM] [Warning] No further splits with positive gain, best gain: -inf\n",
      "[LightGBM] [Warning] No further splits with positive gain, best gain: -inf\n",
      "[LightGBM] [Warning] No further splits with positive gain, best gain: -inf\n",
      "[LightGBM] [Warning] No further splits with positive gain, best gain: -inf\n",
      "[LightGBM] [Warning] No further splits with positive gain, best gain: -inf\n",
      "[LightGBM] [Warning] No further splits with positive gain, best gain: -inf\n",
      "[LightGBM] [Warning] No further splits with positive gain, best gain: -inf\n",
      "[LightGBM] [Warning] No further splits with positive gain, best gain: -inf\n",
      "[LightGBM] [Warning] No further splits with positive gain, best gain: -inf\n",
      "[LightGBM] [Warning] No further splits with positive gain, best gain: -inf\n",
      "[LightGBM] [Warning] No further splits with positive gain, best gain: -inf\n",
      "[LightGBM] [Warning] No further splits with positive gain, best gain: -inf\n",
      "[LightGBM] [Warning] No further splits with positive gain, best gain: -inf\n",
      "[LightGBM] [Warning] No further splits with positive gain, best gain: -inf\n",
      "[LightGBM] [Warning] No further splits with positive gain, best gain: -inf\n",
      "[LightGBM] [Warning] No further splits with positive gain, best gain: -inf\n",
      "[LightGBM] [Warning] No further splits with positive gain, best gain: -inf\n",
      "[LightGBM] [Warning] No further splits with positive gain, best gain: -inf\n",
      "[LightGBM] [Warning] No further splits with positive gain, best gain: -inf\n",
      "[LightGBM] [Warning] No further splits with positive gain, best gain: -inf\n",
      "[LightGBM] [Warning] No further splits with positive gain, best gain: -inf\n",
      "[LightGBM] [Warning] No further splits with positive gain, best gain: -inf\n",
      "[LightGBM] [Warning] No further splits with positive gain, best gain: -inf\n",
      "[LightGBM] [Warning] No further splits with positive gain, best gain: -inf\n",
      "[LightGBM] [Warning] No further splits with positive gain, best gain: -inf\n",
      "[LightGBM] [Warning] No further splits with positive gain, best gain: -inf\n",
      "[LightGBM] [Warning] No further splits with positive gain, best gain: -inf\n",
      "[LightGBM] [Warning] No further splits with positive gain, best gain: -inf\n",
      "[LightGBM] [Warning] No further splits with positive gain, best gain: -inf\n",
      "[LightGBM] [Warning] No further splits with positive gain, best gain: -inf\n",
      "[LightGBM] [Warning] No further splits with positive gain, best gain: -inf\n",
      "[LightGBM] [Warning] No further splits with positive gain, best gain: -inf\n",
      "[LightGBM] [Warning] No further splits with positive gain, best gain: -inf\n",
      "[LightGBM] [Warning] No further splits with positive gain, best gain: -inf\n",
      "[LightGBM] [Warning] No further splits with positive gain, best gain: -inf\n",
      "[LightGBM] [Warning] No further splits with positive gain, best gain: -inf\n",
      "[LightGBM] [Warning] No further splits with positive gain, best gain: -inf\n",
      "[LightGBM] [Warning] No further splits with positive gain, best gain: -inf\n",
      "[LightGBM] [Warning] No further splits with positive gain, best gain: -inf\n",
      "[LightGBM] [Warning] No further splits with positive gain, best gain: -inf\n",
      "[LightGBM] [Warning] No further splits with positive gain, best gain: -inf\n",
      "[LightGBM] [Warning] No further splits with positive gain, best gain: -inf\n",
      "[LightGBM] [Warning] No further splits with positive gain, best gain: -inf\n",
      "[LightGBM] [Warning] No further splits with positive gain, best gain: -inf\n",
      "[LightGBM] [Warning] No further splits with positive gain, best gain: -inf\n",
      "[LightGBM] [Warning] No further splits with positive gain, best gain: -inf\n",
      "[LightGBM] [Warning] No further splits with positive gain, best gain: -inf\n",
      "[LightGBM] [Warning] No further splits with positive gain, best gain: -inf\n",
      "[LightGBM] [Warning] No further splits with positive gain, best gain: -inf\n",
      "[LightGBM] [Warning] No further splits with positive gain, best gain: -inf\n",
      "[LightGBM] [Warning] Stopped training because there are no more leaves that meet the split requirements\n",
      "[LightGBM] [Warning] No further splits with positive gain, best gain: -inf\n",
      "[LightGBM] [Warning] No further splits with positive gain, best gain: -inf\n",
      "[LightGBM] [Warning] No further splits with positive gain, best gain: -inf\n",
      "[LightGBM] [Warning] No further splits with positive gain, best gain: -inf\n",
      "[LightGBM] [Warning] No further splits with positive gain, best gain: -inf\n",
      "[LightGBM] [Warning] Stopped training because there are no more leaves that meet the split requirements\n",
      "[LightGBM] [Warning] No further splits with positive gain, best gain: -inf\n",
      "[LightGBM] [Warning] No further splits with positive gain, best gain: -inf\n",
      "[LightGBM] [Warning] No further splits with positive gain, best gain: -inf\n",
      "[LightGBM] [Warning] No further splits with positive gain, best gain: -inf\n",
      "[LightGBM] [Warning] No further splits with positive gain, best gain: -inf\n",
      "[LightGBM] [Warning] Stopped training because there are no more leaves that meet the split requirements\n",
      "[LightGBM] [Warning] No further splits with positive gain, best gain: -inf\n",
      "[LightGBM] [Warning] No further splits with positive gain, best gain: -inf\n",
      "[LightGBM] [Warning] No further splits with positive gain, best gain: -inf\n",
      "[LightGBM] [Warning] No further splits with positive gain, best gain: -inf\n",
      "[LightGBM] [Warning] No further splits with positive gain, best gain: -inf\n",
      "[LightGBM] [Warning] Stopped training because there are no more leaves that meet the split requirements\n",
      "Early stopping, best iteration is:\n",
      "[5]\tvalid_0's multi_error: 0.00104277\n"
     ]
    },
    {
     "data": {
      "text/plain": "0    129189\n1     32052\n2      1348\n3       380\n4        58\ndtype: int64"
     },
     "execution_count": 16,
     "metadata": {},
     "output_type": "execute_result"
    }
   ],
   "source": [
    "lgb_train = lgb.Dataset(x_train_new_feature, y_train)\n",
    "lgb_eval = lgb.Dataset(x_test_new_feature, y_test, reference=lgb_train)\n",
    "\n",
    "# LightGBM parameters\n",
    "params = {\n",
    "        'task': 'train',\n",
    "        'boosting_type': 'gbdt',\n",
    "        'objective': 'multiclass',\n",
    "        'num_class': 5,\n",
    "        'metric': {'multi_error'}, # 評価指標 : 誤り率(= 1-正答率)  another multi_logloss\n",
    "        'learning_rate': 0.1,\n",
    "        'num_leaves': 23,\n",
    "        'min_data_in_leaf': 1,\n",
    "        'num_iteration': 1000, #1000回学習\n",
    "        'verbose': 0\n",
    "}\n",
    "\n",
    "# モデルの学習\n",
    "model = lgb.train(params, # パラメータ\n",
    "            train_set=lgb_train, # トレーニングデータの指定\n",
    "            valid_sets=lgb_eval, # 検証データの指定\n",
    "            callbacks=[lgb.early_stopping(100)]\n",
    "               )\n",
    "\n",
    "# テストデータの予測 (クラス1の予測確率(クラス1である確率)を返す)\n",
    "y_pred_prob = model.predict(x_test_new_feature)\n",
    "# テストデータの予測 (予測クラス(0 or 1 or...)を返す)\n",
    "y_pred = np.argmax(y_pred_prob, axis=1) # 一番大きい予測確率のクラスを予測クラスに\n",
    "y_pred = pd.Series(y_pred)\n",
    "y_pred.value_counts()\n"
   ],
   "metadata": {
    "collapsed": false,
    "ExecuteTime": {
     "end_time": "2023-07-25T01:11:36.677055Z",
     "start_time": "2023-07-25T01:11:31.646567Z"
    }
   }
  },
  {
   "cell_type": "code",
   "execution_count": 17,
   "outputs": [
    {
     "name": "stdout",
     "output_type": "stream",
     "text": [
      "              precision    recall  f1-score   support\n",
      "\n",
      "         dos       1.00      1.00      1.00    129181\n",
      "      normal       1.00      1.00      1.00     32102\n",
      "       probe       0.99      0.98      0.99      1355\n",
      "         r2l       0.92      0.94      0.93       372\n",
      "         u2r       0.03      0.12      0.05        17\n",
      "\n",
      "    accuracy                           1.00    163027\n",
      "   macro avg       0.79      0.81      0.79    163027\n",
      "weighted avg       1.00      1.00      1.00    163027\n",
      "\n"
     ]
    }
   ],
   "source": [
    "print(classification_report(y_test, y_pred, target_names=correspondences.keys()))"
   ],
   "metadata": {
    "collapsed": false,
    "ExecuteTime": {
     "end_time": "2023-07-25T01:11:36.807496Z",
     "start_time": "2023-07-25T01:11:36.679417Z"
    }
   }
  },
  {
   "cell_type": "code",
   "execution_count": 18,
   "outputs": [
    {
     "name": "stdout",
     "output_type": "stream",
     "text": [
      "dos    TP: 129169, TN: 33826, FP: 20, FN: 12\n",
      "normal    TP: 32005, TN: 130878, FP: 47, FN: 97\n",
      "probe    TP: 1333, TN: 161657, FP: 15, FN: 22\n",
      "r2l    TP: 348, TN: 162623, FP: 32, FN: 24\n",
      "u2r    TP: 2, TN: 162954, FP: 56, FN: 15\n"
     ]
    }
   ],
   "source": [
    "for key, confusion_matrix in zip(correspondences.keys(), multilabel_confusion_matrix(y_test, y_pred)):\n",
    "    print(f\"{key}    TP: {confusion_matrix[1][1]}, TN: {confusion_matrix[0][0]}, FP: {confusion_matrix[0][1]}, FN: {confusion_matrix[1][0]}\")\n"
   ],
   "metadata": {
    "collapsed": false,
    "ExecuteTime": {
     "end_time": "2023-07-25T01:11:36.851374Z",
     "start_time": "2023-07-25T01:11:36.807972Z"
    }
   }
  },
  {
   "cell_type": "markdown",
   "source": [
    "LightGBMモデルに学習データを予測させ，十分に学習できているか検証する"
   ],
   "metadata": {
    "collapsed": false
   }
  },
  {
   "cell_type": "code",
   "execution_count": 19,
   "outputs": [
    {
     "data": {
      "text/plain": "0    262289\n1     65088\n2      2754\n3       740\n4       123\ndtype: int64"
     },
     "execution_count": 19,
     "metadata": {},
     "output_type": "execute_result"
    }
   ],
   "source": [
    "y_pred_prob = model.predict(x_train_new_feature)\n",
    "# テストデータの予測 (予測クラス(0 or 1 or...)を返す)\n",
    "y_pred = np.argmax(y_pred_prob, axis=1) # 一番大きい予測確率のクラスを予測クラスに\n",
    "y_pred = pd.Series(y_pred)\n",
    "y_pred.value_counts()\n"
   ],
   "metadata": {
    "collapsed": false,
    "ExecuteTime": {
     "end_time": "2023-07-25T01:11:37.015434Z",
     "start_time": "2023-07-25T01:11:36.829764Z"
    }
   }
  },
  {
   "cell_type": "code",
   "execution_count": 20,
   "outputs": [
    {
     "data": {
      "text/plain": "array([[9.07070221e-01, 8.77961389e-02, 3.98045508e-03, 1.10245473e-03,\n        5.07304006e-05],\n       [3.19483032e-01, 6.72210774e-01, 6.44034884e-03, 1.78376415e-03,\n        8.20810776e-05],\n       [9.07070221e-01, 8.77961389e-02, 3.98045508e-03, 1.10245473e-03,\n        5.07304006e-05],\n       ...,\n       [9.07070221e-01, 8.77961389e-02, 3.98045508e-03, 1.10245473e-03,\n        5.07304006e-05],\n       [9.07070221e-01, 8.77961389e-02, 3.98045508e-03, 1.10245473e-03,\n        5.07304006e-05],\n       [3.19484351e-01, 6.72213550e-01, 6.44037544e-03, 1.77964144e-03,\n        8.20814166e-05]])"
     },
     "execution_count": 20,
     "metadata": {},
     "output_type": "execute_result"
    }
   ],
   "source": [
    "y_pred_prob"
   ],
   "metadata": {
    "collapsed": false,
    "ExecuteTime": {
     "end_time": "2023-07-25T01:11:37.019294Z",
     "start_time": "2023-07-25T01:11:37.016610Z"
    }
   }
  },
  {
   "cell_type": "code",
   "execution_count": 21,
   "outputs": [
    {
     "name": "stdout",
     "output_type": "stream",
     "text": [
      "              precision    recall  f1-score   support\n",
      "\n",
      "         dos       1.00      1.00      1.00    262277\n",
      "      normal       1.00      1.00      1.00     65176\n",
      "       probe       1.00      1.00      1.00      2752\n",
      "         r2l       0.98      0.96      0.97       754\n",
      "         u2r       0.15      0.51      0.23        35\n",
      "\n",
      "    accuracy                           1.00    330994\n",
      "   macro avg       0.82      0.89      0.84    330994\n",
      "weighted avg       1.00      1.00      1.00    330994\n",
      "\n"
     ]
    }
   ],
   "source": [
    "print(classification_report(y_train, y_pred, target_names=correspondences.keys()))\n"
   ],
   "metadata": {
    "collapsed": false,
    "ExecuteTime": {
     "end_time": "2023-07-25T01:11:37.257967Z",
     "start_time": "2023-07-25T01:11:37.020562Z"
    }
   }
  },
  {
   "cell_type": "markdown",
   "source": [
    "そもそも，u2rに関しては，学習すらできていない．"
   ],
   "metadata": {
    "collapsed": false
   }
  },
  {
   "cell_type": "code",
   "execution_count": 22,
   "outputs": [
    {
     "name": "stdout",
     "output_type": "stream",
     "text": [
      "[LightGBM] [Warning] Auto-choosing row-wise multi-threading, the overhead of testing was 0.018991 seconds.\n",
      "You can set `force_row_wise=true` to remove the overhead.\n",
      "And if memory is not enough, you can set `force_col_wise=true`.\n",
      "Training until validation scores don't improve for 100 rounds\n"
     ]
    },
    {
     "name": "stderr",
     "output_type": "stream",
     "text": [
      "/Users/satun/anaconda3/lib/python3.10/site-packages/lightgbm/engine.py:177: UserWarning: Found `num_iteration` in params. Will use it instead of argument\n",
      "  _log_warning(f\"Found `{alias}` in params. Will use it instead of argument\")\n"
     ]
    },
    {
     "name": "stdout",
     "output_type": "stream",
     "text": [
      "[LightGBM] [Warning] No further splits with positive gain, best gain: -inf\n",
      "[LightGBM] [Warning] No further splits with positive gain, best gain: -inf\n",
      "[LightGBM] [Warning] No further splits with positive gain, best gain: -inf\n",
      "[LightGBM] [Warning] No further splits with positive gain, best gain: -inf\n",
      "[LightGBM] [Warning] No further splits with positive gain, best gain: -inf\n",
      "[LightGBM] [Warning] No further splits with positive gain, best gain: -inf\n",
      "[LightGBM] [Warning] No further splits with positive gain, best gain: -inf\n",
      "[LightGBM] [Warning] No further splits with positive gain, best gain: -inf\n",
      "[LightGBM] [Warning] No further splits with positive gain, best gain: -inf\n",
      "[LightGBM] [Warning] No further splits with positive gain, best gain: -inf\n",
      "[LightGBM] [Warning] No further splits with positive gain, best gain: -inf\n",
      "[LightGBM] [Warning] No further splits with positive gain, best gain: -inf\n",
      "[LightGBM] [Warning] No further splits with positive gain, best gain: -inf\n",
      "[LightGBM] [Warning] No further splits with positive gain, best gain: -inf\n",
      "[LightGBM] [Warning] No further splits with positive gain, best gain: -inf\n",
      "[LightGBM] [Warning] No further splits with positive gain, best gain: -inf\n",
      "[LightGBM] [Warning] No further splits with positive gain, best gain: -inf\n",
      "[LightGBM] [Warning] No further splits with positive gain, best gain: -inf\n",
      "[LightGBM] [Warning] No further splits with positive gain, best gain: -inf\n",
      "[LightGBM] [Warning] No further splits with positive gain, best gain: -inf\n",
      "[LightGBM] [Warning] No further splits with positive gain, best gain: -inf\n",
      "[LightGBM] [Warning] No further splits with positive gain, best gain: -inf\n",
      "[LightGBM] [Warning] No further splits with positive gain, best gain: -inf\n",
      "[LightGBM] [Warning] No further splits with positive gain, best gain: -inf\n",
      "[LightGBM] [Warning] No further splits with positive gain, best gain: -inf\n",
      "[LightGBM] [Warning] No further splits with positive gain, best gain: -inf\n",
      "[LightGBM] [Warning] No further splits with positive gain, best gain: -inf\n",
      "[LightGBM] [Warning] No further splits with positive gain, best gain: -inf\n",
      "[LightGBM] [Warning] No further splits with positive gain, best gain: -inf\n",
      "[LightGBM] [Warning] No further splits with positive gain, best gain: -inf\n",
      "[LightGBM] [Warning] No further splits with positive gain, best gain: -inf\n",
      "[LightGBM] [Warning] No further splits with positive gain, best gain: -inf\n",
      "[LightGBM] [Warning] No further splits with positive gain, best gain: -inf\n",
      "[LightGBM] [Warning] No further splits with positive gain, best gain: -inf\n",
      "[LightGBM] [Warning] No further splits with positive gain, best gain: -inf\n",
      "[LightGBM] [Warning] No further splits with positive gain, best gain: -inf\n",
      "[LightGBM] [Warning] No further splits with positive gain, best gain: -inf\n",
      "[LightGBM] [Warning] No further splits with positive gain, best gain: -inf\n",
      "[LightGBM] [Warning] No further splits with positive gain, best gain: -inf\n",
      "[LightGBM] [Warning] No further splits with positive gain, best gain: -inf\n",
      "[LightGBM] [Warning] No further splits with positive gain, best gain: -inf\n",
      "[LightGBM] [Warning] No further splits with positive gain, best gain: -inf\n",
      "[LightGBM] [Warning] No further splits with positive gain, best gain: -inf\n",
      "[LightGBM] [Warning] No further splits with positive gain, best gain: -inf\n",
      "[LightGBM] [Warning] No further splits with positive gain, best gain: -inf\n",
      "[LightGBM] [Warning] No further splits with positive gain, best gain: -inf\n",
      "[LightGBM] [Warning] No further splits with positive gain, best gain: -inf\n",
      "[LightGBM] [Warning] No further splits with positive gain, best gain: -inf\n",
      "[LightGBM] [Warning] No further splits with positive gain, best gain: -inf\n",
      "[LightGBM] [Warning] No further splits with positive gain, best gain: -inf\n",
      "[LightGBM] [Warning] No further splits with positive gain, best gain: -inf\n",
      "[LightGBM] [Warning] No further splits with positive gain, best gain: -inf\n",
      "[LightGBM] [Warning] No further splits with positive gain, best gain: -inf\n",
      "[LightGBM] [Warning] No further splits with positive gain, best gain: -inf\n",
      "[LightGBM] [Warning] No further splits with positive gain, best gain: -inf\n",
      "[LightGBM] [Warning] No further splits with positive gain, best gain: -inf\n",
      "[LightGBM] [Warning] No further splits with positive gain, best gain: -inf\n",
      "[LightGBM] [Warning] No further splits with positive gain, best gain: -inf\n",
      "[LightGBM] [Warning] No further splits with positive gain, best gain: -inf\n",
      "[LightGBM] [Warning] No further splits with positive gain, best gain: -inf\n",
      "[LightGBM] [Warning] No further splits with positive gain, best gain: -inf\n",
      "[LightGBM] [Warning] No further splits with positive gain, best gain: -inf\n",
      "[LightGBM] [Warning] No further splits with positive gain, best gain: -inf\n",
      "[LightGBM] [Warning] No further splits with positive gain, best gain: -inf\n",
      "[LightGBM] [Warning] No further splits with positive gain, best gain: -inf\n",
      "[LightGBM] [Warning] No further splits with positive gain, best gain: -inf\n",
      "[LightGBM] [Warning] No further splits with positive gain, best gain: -inf\n",
      "[LightGBM] [Warning] No further splits with positive gain, best gain: -inf\n",
      "[LightGBM] [Warning] No further splits with positive gain, best gain: -inf\n",
      "[LightGBM] [Warning] No further splits with positive gain, best gain: -inf\n",
      "[LightGBM] [Warning] No further splits with positive gain, best gain: -inf\n",
      "[LightGBM] [Warning] No further splits with positive gain, best gain: -inf\n",
      "[LightGBM] [Warning] No further splits with positive gain, best gain: -inf\n",
      "[LightGBM] [Warning] No further splits with positive gain, best gain: -inf\n",
      "[LightGBM] [Warning] No further splits with positive gain, best gain: -inf\n",
      "[LightGBM] [Warning] No further splits with positive gain, best gain: -inf\n",
      "[LightGBM] [Warning] No further splits with positive gain, best gain: -inf\n",
      "[LightGBM] [Warning] No further splits with positive gain, best gain: -inf\n",
      "[LightGBM] [Warning] No further splits with positive gain, best gain: -inf\n",
      "[LightGBM] [Warning] No further splits with positive gain, best gain: -inf\n",
      "[LightGBM] [Warning] No further splits with positive gain, best gain: -inf\n",
      "[LightGBM] [Warning] No further splits with positive gain, best gain: -inf\n",
      "[LightGBM] [Warning] No further splits with positive gain, best gain: -inf\n",
      "[LightGBM] [Warning] No further splits with positive gain, best gain: -inf\n",
      "[LightGBM] [Warning] No further splits with positive gain, best gain: -inf\n",
      "[LightGBM] [Warning] No further splits with positive gain, best gain: -inf\n",
      "[LightGBM] [Warning] No further splits with positive gain, best gain: -inf\n",
      "[LightGBM] [Warning] No further splits with positive gain, best gain: -inf\n",
      "[LightGBM] [Warning] No further splits with positive gain, best gain: -inf\n",
      "[LightGBM] [Warning] No further splits with positive gain, best gain: -inf\n",
      "[LightGBM] [Warning] No further splits with positive gain, best gain: -inf\n",
      "[LightGBM] [Warning] No further splits with positive gain, best gain: -inf\n",
      "[LightGBM] [Warning] No further splits with positive gain, best gain: -inf\n",
      "[LightGBM] [Warning] No further splits with positive gain, best gain: -inf\n",
      "[LightGBM] [Warning] No further splits with positive gain, best gain: -inf\n",
      "[LightGBM] [Warning] No further splits with positive gain, best gain: -inf\n",
      "[LightGBM] [Warning] No further splits with positive gain, best gain: -inf\n",
      "[LightGBM] [Warning] Stopped training because there are no more leaves that meet the split requirements\n",
      "[LightGBM] [Warning] No further splits with positive gain, best gain: -inf\n",
      "[LightGBM] [Warning] No further splits with positive gain, best gain: -inf\n",
      "[LightGBM] [Warning] No further splits with positive gain, best gain: -inf\n",
      "[LightGBM] [Warning] No further splits with positive gain, best gain: -inf\n",
      "[LightGBM] [Warning] No further splits with positive gain, best gain: -inf\n",
      "[LightGBM] [Warning] Stopped training because there are no more leaves that meet the split requirements\n",
      "[LightGBM] [Warning] No further splits with positive gain, best gain: -inf\n",
      "[LightGBM] [Warning] No further splits with positive gain, best gain: -inf\n",
      "[LightGBM] [Warning] No further splits with positive gain, best gain: -inf\n",
      "[LightGBM] [Warning] No further splits with positive gain, best gain: -inf\n",
      "[LightGBM] [Warning] No further splits with positive gain, best gain: -inf\n",
      "[LightGBM] [Warning] Stopped training because there are no more leaves that meet the split requirements\n",
      "[LightGBM] [Warning] No further splits with positive gain, best gain: -inf\n",
      "[LightGBM] [Warning] No further splits with positive gain, best gain: -inf\n",
      "[LightGBM] [Warning] No further splits with positive gain, best gain: -inf\n",
      "[LightGBM] [Warning] No further splits with positive gain, best gain: -inf\n",
      "[LightGBM] [Warning] No further splits with positive gain, best gain: -inf\n",
      "[LightGBM] [Warning] Stopped training because there are no more leaves that meet the split requirements\n",
      "Early stopping, best iteration is:\n",
      "[5]\tvalid_0's multi_error: 0.00104277\n"
     ]
    },
    {
     "data": {
      "text/plain": "0    262289\n1     65088\n2      2754\n3       740\n4       123\ndtype: int64"
     },
     "execution_count": 22,
     "metadata": {},
     "output_type": "execute_result"
    }
   ],
   "source": [
    "params['is_unbalance'] = True\n",
    "# モデルの学習\n",
    "model = lgb.train(params, # パラメータ\n",
    "            train_set=lgb_train, # トレーニングデータの指定\n",
    "            valid_sets=lgb_eval, # 検証データの指定\n",
    "            callbacks=[lgb.early_stopping(100)]\n",
    "               )\n",
    "\n",
    "# テストデータの予測 (クラス1の予測確率(クラス1である確率)を返す)\n",
    "y_pred_prob = model.predict(x_train_new_feature)\n",
    "# テストデータの予測 (予測クラス(0 or 1 or...)を返す)\n",
    "y_pred = np.argmax(y_pred_prob, axis=1) # 一番大きい予測確率のクラスを予測クラスに\n",
    "y_pred = pd.Series(y_pred)\n",
    "y_pred.value_counts()"
   ],
   "metadata": {
    "collapsed": false,
    "ExecuteTime": {
     "end_time": "2023-07-25T01:11:41.584565Z",
     "start_time": "2023-07-25T01:11:37.260571Z"
    }
   }
  },
  {
   "cell_type": "code",
   "execution_count": 23,
   "outputs": [
    {
     "name": "stdout",
     "output_type": "stream",
     "text": [
      "              precision    recall  f1-score   support\n",
      "\n",
      "         dos       1.00      1.00      1.00    262277\n",
      "      normal       1.00      1.00      1.00     65176\n",
      "       probe       1.00      1.00      1.00      2752\n",
      "         r2l       0.98      0.96      0.97       754\n",
      "         u2r       0.15      0.51      0.23        35\n",
      "\n",
      "    accuracy                           1.00    330994\n",
      "   macro avg       0.82      0.89      0.84    330994\n",
      "weighted avg       1.00      1.00      1.00    330994\n",
      "\n"
     ]
    }
   ],
   "source": [
    "print(classification_report(y_train, y_pred, target_names=correspondences.keys()))"
   ],
   "metadata": {
    "collapsed": false,
    "ExecuteTime": {
     "end_time": "2023-07-25T01:11:41.827134Z",
     "start_time": "2023-07-25T01:11:41.586105Z"
    }
   }
  },
  {
   "cell_type": "code",
   "execution_count": 23,
   "outputs": [],
   "source": [
    "\n"
   ],
   "metadata": {
    "collapsed": false,
    "ExecuteTime": {
     "end_time": "2023-07-25T01:11:41.829073Z",
     "start_time": "2023-07-25T01:11:41.827531Z"
    }
   }
  },
  {
   "cell_type": "code",
   "execution_count": 23,
   "outputs": [],
   "source": [
    "\n"
   ],
   "metadata": {
    "collapsed": false,
    "ExecuteTime": {
     "end_time": "2023-07-25T01:11:41.831414Z",
     "start_time": "2023-07-25T01:11:41.829945Z"
    }
   }
  }
 ],
 "metadata": {
  "kernelspec": {
   "display_name": "Python 3",
   "language": "python",
   "name": "python3"
  },
  "language_info": {
   "codemirror_mode": {
    "name": "ipython",
    "version": 2
   },
   "file_extension": ".py",
   "mimetype": "text/x-python",
   "name": "python",
   "nbconvert_exporter": "python",
   "pygments_lexer": "ipython2",
   "version": "2.7.6"
  }
 },
 "nbformat": 4,
 "nbformat_minor": 0
}
