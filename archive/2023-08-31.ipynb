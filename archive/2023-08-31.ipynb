{
 "cells": [
  {
   "cell_type": "code",
   "execution_count": 54,
   "metadata": {
    "collapsed": true,
    "ExecuteTime": {
     "end_time": "2023-09-13T05:17:07.130643Z",
     "start_time": "2023-09-13T05:17:07.126136Z"
    }
   },
   "outputs": [
    {
     "name": "stdout",
     "output_type": "stream",
     "text": [
      "python:      3.10.11\n",
      "sklearn:     1.2.2\n",
      "tensorflow:  2.12.0\n",
      "keras:       2.12.0\n",
      "numpy:       1.23.5\n",
      "pandas:      1.5.3\n"
     ]
    }
   ],
   "source": [
    "from two_step_classification import *\n",
    "print_version()"
   ]
  },
  {
   "cell_type": "code",
   "execution_count": 55,
   "outputs": [],
   "source": [
    "# load data\n",
    "x_test: pd.DataFrame = pd.read_pickle(\"models/kdd99_features/x_test-drop_25_df.pkl\")\n",
    "y_test: pd.Series = pd.read_pickle(\"models/kdd99_features/y_test_df.pkl\")\n",
    "y_test_binary: pd.Series = y_test.apply(lambda x: 0 if x == 1 else 1)\n",
    "y_test_anomaly: pd.Series = pd.read_pickle(\"models/kdd99_features/y_test_dropped_mapped_series.pkl\")\n",
    "x_test_ae_35: pd.DataFrame = pd.read_pickle(\"models/kdd99_features/x_test-drop+ae_35_df&activation=relu&epochs=5&batch_size=32.pkl\")"
   ],
   "metadata": {
    "collapsed": false,
    "ExecuteTime": {
     "end_time": "2023-09-13T05:17:07.237857Z",
     "start_time": "2023-09-13T05:17:07.133295Z"
    }
   }
  },
  {
   "cell_type": "code",
   "execution_count": 56,
   "outputs": [],
   "source": [
    "# load models\n",
    "with open(\"models/logistic_regression_binary/kdd99-drop_25&penalty=l1&solver=liblinear&C=0.1.pkl\", 'rb') as fp:\n",
    "    model_1st: LogisticRegression = pickle.load(fp)\n",
    "with open(\"models/logistic_regression_anomaly/kdd99-dropped_mapped&penalty=l1&solver=liblinear&C=1.pkl\", 'rb') as fp:\n",
    "    model_2nd: LogisticRegression = pickle.load(fp)"
   ],
   "metadata": {
    "collapsed": false,
    "ExecuteTime": {
     "end_time": "2023-09-13T05:17:07.241305Z",
     "start_time": "2023-09-13T05:17:07.238125Z"
    }
   }
  },
  {
   "cell_type": "code",
   "execution_count": 57,
   "outputs": [
    {
     "data": {
      "text/plain": "1    129863\n0     33164\ndtype: int64"
     },
     "execution_count": 57,
     "metadata": {},
     "output_type": "execute_result"
    }
   ],
   "source": [
    "# 第1段階: 正常と異常の2値分類\n",
    "y_pred_binary:pd.Series = classification_normal_and_anomaly(x_test, model_1st)\n",
    "predicted_indexes = y_pred_binary[y_pred_binary == 1].index\n",
    "y_pred_binary.value_counts()"
   ],
   "metadata": {
    "collapsed": false,
    "ExecuteTime": {
     "end_time": "2023-09-13T05:17:07.294833Z",
     "start_time": "2023-09-13T05:17:07.245428Z"
    }
   }
  },
  {
   "cell_type": "code",
   "execution_count": 58,
   "outputs": [],
   "source": [
    "y_pred_normal: pd.Series = y_pred_binary[y_pred_binary == 0].apply(lambda _: 1)"
   ],
   "metadata": {
    "collapsed": false,
    "ExecuteTime": {
     "end_time": "2023-09-13T05:17:07.374226Z",
     "start_time": "2023-09-13T05:17:07.318816Z"
    }
   }
  },
  {
   "cell_type": "code",
   "execution_count": 59,
   "outputs": [],
   "source": [
    "cm_1st = confusion_matrix_df(y_test_binary.sort_index(), y_pred_binary.sort_index(), labels=['normal', 'anomaly'])"
   ],
   "metadata": {
    "collapsed": false,
    "ExecuteTime": {
     "end_time": "2023-09-13T05:17:07.457444Z",
     "start_time": "2023-09-13T05:17:07.380515Z"
    }
   }
  },
  {
   "cell_type": "code",
   "execution_count": 60,
   "outputs": [
    {
     "data": {
      "text/plain": "0    128719\n2       929\n3       197\n4        18\ndtype: int64"
     },
     "execution_count": 60,
     "metadata": {},
     "output_type": "execute_result"
    }
   ],
   "source": [
    "# 第二段階\n",
    "x_anomalies: pd.DataFrame = x_test.loc[predicted_indexes]\n",
    "y_pred_anomalies: pd.Series = classification_anomalies(x_anomalies, model_2nd)\n",
    "y_pred_anomalies = y_pred_anomalies.apply(lambda x: wrapper[x])\n",
    "y_pred_anomalies.value_counts()"
   ],
   "metadata": {
    "collapsed": false,
    "ExecuteTime": {
     "end_time": "2023-09-13T05:17:07.502987Z",
     "start_time": "2023-09-13T05:17:07.435722Z"
    }
   }
  },
  {
   "cell_type": "code",
   "execution_count": 61,
   "outputs": [],
   "source": [
    "y_pred = pd.concat([y_pred_normal, y_pred_anomalies])\n",
    "cm_2nd = confusion_matrix_df(y_test.sort_index(), y_pred.sort_index())"
   ],
   "metadata": {
    "collapsed": false,
    "ExecuteTime": {
     "end_time": "2023-09-13T05:17:07.548525Z",
     "start_time": "2023-09-13T05:17:07.505626Z"
    }
   }
  },
  {
   "cell_type": "code",
   "execution_count": 62,
   "outputs": [
    {
     "data": {
      "text/plain": "dos       128719\nnormal     33164\nprobe        929\nr2l          197\nu2r           18\ndtype: int64"
     },
     "execution_count": 62,
     "metadata": {},
     "output_type": "execute_result"
    }
   ],
   "source": [
    "swapped_correspondences = {v: k for k, v in correspondences.items()}\n",
    "y_pred_value_counts = y_pred.value_counts()\n",
    "y_pred_value_counts.index = y_pred_value_counts.index.map(lambda x: swapped_correspondences[x])\n",
    "y_pred_value_counts"
   ],
   "metadata": {
    "collapsed": false,
    "ExecuteTime": {
     "end_time": "2023-09-13T05:17:07.556595Z",
     "start_time": "2023-09-13T05:17:07.549095Z"
    }
   }
  },
  {
   "cell_type": "code",
   "execution_count": 63,
   "outputs": [
    {
     "data": {
      "text/plain": "              normal  anomaly\ntrue_normal    31666      436\ntrue_anomaly    1498   129427",
      "text/html": "<div>\n<style scoped>\n    .dataframe tbody tr th:only-of-type {\n        vertical-align: middle;\n    }\n\n    .dataframe tbody tr th {\n        vertical-align: top;\n    }\n\n    .dataframe thead th {\n        text-align: right;\n    }\n</style>\n<table border=\"1\" class=\"dataframe\">\n  <thead>\n    <tr style=\"text-align: right;\">\n      <th></th>\n      <th>normal</th>\n      <th>anomaly</th>\n    </tr>\n  </thead>\n  <tbody>\n    <tr>\n      <th>true_normal</th>\n      <td>31666</td>\n      <td>436</td>\n    </tr>\n    <tr>\n      <th>true_anomaly</th>\n      <td>1498</td>\n      <td>129427</td>\n    </tr>\n  </tbody>\n</table>\n</div>"
     },
     "execution_count": 63,
     "metadata": {},
     "output_type": "execute_result"
    }
   ],
   "source": [
    "cm_1st"
   ],
   "metadata": {
    "collapsed": false,
    "ExecuteTime": {
     "end_time": "2023-09-13T05:17:07.567641Z",
     "start_time": "2023-09-13T05:17:07.558029Z"
    }
   }
  },
  {
   "cell_type": "code",
   "execution_count": 64,
   "outputs": [
    {
     "data": {
      "text/plain": "                dos  normal  probe  r2l  u2r\ntrue_dos     128429     750      0    2    0\ntrue_normal     285   31666     36  106    9\ntrue_probe        2     459    892    1    1\ntrue_r2l          3     280      1   88    0\ntrue_u2r          0       9      0    0    8",
      "text/html": "<div>\n<style scoped>\n    .dataframe tbody tr th:only-of-type {\n        vertical-align: middle;\n    }\n\n    .dataframe tbody tr th {\n        vertical-align: top;\n    }\n\n    .dataframe thead th {\n        text-align: right;\n    }\n</style>\n<table border=\"1\" class=\"dataframe\">\n  <thead>\n    <tr style=\"text-align: right;\">\n      <th></th>\n      <th>dos</th>\n      <th>normal</th>\n      <th>probe</th>\n      <th>r2l</th>\n      <th>u2r</th>\n    </tr>\n  </thead>\n  <tbody>\n    <tr>\n      <th>true_dos</th>\n      <td>128429</td>\n      <td>750</td>\n      <td>0</td>\n      <td>2</td>\n      <td>0</td>\n    </tr>\n    <tr>\n      <th>true_normal</th>\n      <td>285</td>\n      <td>31666</td>\n      <td>36</td>\n      <td>106</td>\n      <td>9</td>\n    </tr>\n    <tr>\n      <th>true_probe</th>\n      <td>2</td>\n      <td>459</td>\n      <td>892</td>\n      <td>1</td>\n      <td>1</td>\n    </tr>\n    <tr>\n      <th>true_r2l</th>\n      <td>3</td>\n      <td>280</td>\n      <td>1</td>\n      <td>88</td>\n      <td>0</td>\n    </tr>\n    <tr>\n      <th>true_u2r</th>\n      <td>0</td>\n      <td>9</td>\n      <td>0</td>\n      <td>0</td>\n      <td>8</td>\n    </tr>\n  </tbody>\n</table>\n</div>"
     },
     "execution_count": 64,
     "metadata": {},
     "output_type": "execute_result"
    }
   ],
   "source": [
    "cm_2nd"
   ],
   "metadata": {
    "collapsed": false,
    "ExecuteTime": {
     "end_time": "2023-09-13T05:17:07.590935Z",
     "start_time": "2023-09-13T05:17:07.573600Z"
    }
   }
  },
  {
   "cell_type": "code",
   "execution_count": 65,
   "outputs": [
    {
     "name": "stdout",
     "output_type": "stream",
     "text": [
      "              precision    recall  f1-score   support\n",
      "\n",
      "           0       1.00      0.99      1.00    129181\n",
      "           1       0.95      0.99      0.97     32102\n",
      "           2       0.96      0.66      0.78      1355\n",
      "           3       0.45      0.24      0.31       372\n",
      "           4       0.44      0.47      0.46        17\n",
      "\n",
      "    accuracy                           0.99    163027\n",
      "   macro avg       0.76      0.67      0.70    163027\n",
      "weighted avg       0.99      0.99      0.99    163027\n"
     ]
    }
   ],
   "source": [
    "print(classification_report(y_test.sort_index(), y_pred.sort_index()))"
   ],
   "metadata": {
    "collapsed": false,
    "ExecuteTime": {
     "end_time": "2023-09-13T05:17:07.762035Z",
     "start_time": "2023-09-13T05:17:07.584519Z"
    }
   }
  },
  {
   "cell_type": "code",
   "execution_count": 66,
   "outputs": [
    {
     "data": {
      "text/plain": "0.47058823529411764"
     },
     "execution_count": 66,
     "metadata": {},
     "output_type": "execute_result"
    }
   ],
   "source": [
    "cm_2nd['u2r']['true_u2r'] / cm_2nd.loc['true_u2r'].sum()"
   ],
   "metadata": {
    "collapsed": false,
    "ExecuteTime": {
     "end_time": "2023-09-13T05:17:07.762662Z",
     "start_time": "2023-09-13T05:17:07.745928Z"
    }
   }
  },
  {
   "cell_type": "code",
   "execution_count": 67,
   "outputs": [],
   "source": [
    "model_1st: lgb.Booster = lgb.Booster(model_file=\"models/lightgbm/lgb_dropped_binary_tuned_booster.model\")\n",
    "model_2nd: lgb.Booster = lgb.Booster(model_file=\"models/lightgbm/lgb_dropped_mapped_anomaly_tuned_booster.model\")"
   ],
   "metadata": {
    "collapsed": false,
    "ExecuteTime": {
     "end_time": "2023-09-13T05:17:07.763840Z",
     "start_time": "2023-09-13T05:17:07.752253Z"
    }
   }
  },
  {
   "cell_type": "code",
   "execution_count": 68,
   "outputs": [],
   "source": [
    "y_pred_binary = classification_normal_and_anomaly(x_test, model_1st)\n",
    "predicted_indexes = y_pred_binary[y_pred_binary == 1].index"
   ],
   "metadata": {
    "collapsed": false,
    "ExecuteTime": {
     "end_time": "2023-09-13T05:17:08.022869Z",
     "start_time": "2023-09-13T05:17:07.764553Z"
    }
   }
  },
  {
   "cell_type": "code",
   "execution_count": 69,
   "outputs": [
    {
     "data": {
      "text/plain": "dos       128719\nnormal     33164\nprobe        929\nr2l          197\nu2r           18\ndtype: int64"
     },
     "execution_count": 69,
     "metadata": {},
     "output_type": "execute_result"
    }
   ],
   "source": [
    "# ????\n",
    "y_pred_value_counts = y_pred.value_counts()\n",
    "y_pred_value_counts.index = y_pred_value_counts.index.map(lambda x: swapped_correspondences[x])\n",
    "y_pred_value_counts"
   ],
   "metadata": {
    "collapsed": false,
    "ExecuteTime": {
     "end_time": "2023-09-13T05:17:08.029006Z",
     "start_time": "2023-09-13T05:17:08.026279Z"
    }
   }
  },
  {
   "cell_type": "code",
   "execution_count": 70,
   "outputs": [
    {
     "data": {
      "text/plain": "1    130920\n0     32107\ndtype: int64"
     },
     "execution_count": 70,
     "metadata": {},
     "output_type": "execute_result"
    }
   ],
   "source": [
    "y_pred_binary.value_counts()"
   ],
   "metadata": {
    "collapsed": false,
    "ExecuteTime": {
     "end_time": "2023-09-13T05:17:08.034291Z",
     "start_time": "2023-09-13T05:17:08.031143Z"
    }
   }
  },
  {
   "cell_type": "code",
   "execution_count": 71,
   "outputs": [
    {
     "data": {
      "text/plain": "0    129186\n2      1354\n3       364\n4        16\ndtype: int64"
     },
     "execution_count": 71,
     "metadata": {},
     "output_type": "execute_result"
    }
   ],
   "source": [
    "x_anomalies = x_test.loc[predicted_indexes]\n",
    "y_pred_anomalies: pd.Series = classification_anomalies(x_anomalies, model_2nd)\n",
    "y_pred_anomalies = y_pred_anomalies.apply(lambda x: wrapper[x])\n",
    "y_pred_anomalies.value_counts()"
   ],
   "metadata": {
    "collapsed": false,
    "ExecuteTime": {
     "end_time": "2023-09-13T05:17:08.258506Z",
     "start_time": "2023-09-13T05:17:08.035549Z"
    }
   }
  },
  {
   "cell_type": "code",
   "execution_count": 72,
   "outputs": [],
   "source": [
    "y_pred_normal: pd.Series = y_pred_binary[y_pred_binary == 0].apply(lambda _: 1)\n",
    "y_pred = pd.concat([y_pred_normal, y_pred_anomalies])\n",
    "\n",
    "y_test_binary = y_test.apply(lambda x: 0 if x == 1 else 1)\n",
    "\n",
    "cm_1st = confusion_matrix_df(y_test_binary.sort_index(), y_pred_binary.sort_index(), labels=['normal', 'anomaly'])\n",
    "\n",
    "cm_2nd = confusion_matrix_df(y_test.sort_index(), y_pred.sort_index())"
   ],
   "metadata": {
    "collapsed": false,
    "ExecuteTime": {
     "end_time": "2023-09-13T05:17:08.360571Z",
     "start_time": "2023-09-13T05:17:08.258991Z"
    }
   }
  },
  {
   "cell_type": "code",
   "execution_count": 73,
   "outputs": [
    {
     "data": {
      "text/plain": "              normal  anomaly\ntrue_normal    32084       18\ntrue_anomaly      23   130902",
      "text/html": "<div>\n<style scoped>\n    .dataframe tbody tr th:only-of-type {\n        vertical-align: middle;\n    }\n\n    .dataframe tbody tr th {\n        vertical-align: top;\n    }\n\n    .dataframe thead th {\n        text-align: right;\n    }\n</style>\n<table border=\"1\" class=\"dataframe\">\n  <thead>\n    <tr style=\"text-align: right;\">\n      <th></th>\n      <th>normal</th>\n      <th>anomaly</th>\n    </tr>\n  </thead>\n  <tbody>\n    <tr>\n      <th>true_normal</th>\n      <td>32084</td>\n      <td>18</td>\n    </tr>\n    <tr>\n      <th>true_anomaly</th>\n      <td>23</td>\n      <td>130902</td>\n    </tr>\n  </tbody>\n</table>\n</div>"
     },
     "execution_count": 73,
     "metadata": {},
     "output_type": "execute_result"
    }
   ],
   "source": [
    "cm_1st"
   ],
   "metadata": {
    "collapsed": false,
    "ExecuteTime": {
     "end_time": "2023-09-13T05:17:08.366454Z",
     "start_time": "2023-09-13T05:17:08.360763Z"
    }
   }
  },
  {
   "cell_type": "code",
   "execution_count": 74,
   "outputs": [
    {
     "data": {
      "text/plain": "                dos  normal  probe  r2l  u2r\ntrue_dos     129176       5      0    0    0\ntrue_normal       7   32084      6    3    2\ntrue_probe        2       6   1347    0    0\ntrue_r2l          1       8      1  361    1\ntrue_u2r          0       4      0    0   13",
      "text/html": "<div>\n<style scoped>\n    .dataframe tbody tr th:only-of-type {\n        vertical-align: middle;\n    }\n\n    .dataframe tbody tr th {\n        vertical-align: top;\n    }\n\n    .dataframe thead th {\n        text-align: right;\n    }\n</style>\n<table border=\"1\" class=\"dataframe\">\n  <thead>\n    <tr style=\"text-align: right;\">\n      <th></th>\n      <th>dos</th>\n      <th>normal</th>\n      <th>probe</th>\n      <th>r2l</th>\n      <th>u2r</th>\n    </tr>\n  </thead>\n  <tbody>\n    <tr>\n      <th>true_dos</th>\n      <td>129176</td>\n      <td>5</td>\n      <td>0</td>\n      <td>0</td>\n      <td>0</td>\n    </tr>\n    <tr>\n      <th>true_normal</th>\n      <td>7</td>\n      <td>32084</td>\n      <td>6</td>\n      <td>3</td>\n      <td>2</td>\n    </tr>\n    <tr>\n      <th>true_probe</th>\n      <td>2</td>\n      <td>6</td>\n      <td>1347</td>\n      <td>0</td>\n      <td>0</td>\n    </tr>\n    <tr>\n      <th>true_r2l</th>\n      <td>1</td>\n      <td>8</td>\n      <td>1</td>\n      <td>361</td>\n      <td>1</td>\n    </tr>\n    <tr>\n      <th>true_u2r</th>\n      <td>0</td>\n      <td>4</td>\n      <td>0</td>\n      <td>0</td>\n      <td>13</td>\n    </tr>\n  </tbody>\n</table>\n</div>"
     },
     "execution_count": 74,
     "metadata": {},
     "output_type": "execute_result"
    }
   ],
   "source": [
    "cm_2nd"
   ],
   "metadata": {
    "collapsed": false,
    "ExecuteTime": {
     "end_time": "2023-09-13T05:17:08.372280Z",
     "start_time": "2023-09-13T05:17:08.367527Z"
    }
   }
  },
  {
   "cell_type": "code",
   "execution_count": 75,
   "outputs": [
    {
     "name": "stdout",
     "output_type": "stream",
     "text": [
      "              precision    recall  f1-score   support\n",
      "\n",
      "           0       1.00      1.00      1.00    129181\n",
      "           1       1.00      1.00      1.00     32102\n",
      "           2       0.99      0.99      0.99      1355\n",
      "           3       0.99      0.97      0.98       372\n",
      "           4       0.81      0.76      0.79        17\n",
      "\n",
      "    accuracy                           1.00    163027\n",
      "   macro avg       0.96      0.95      0.95    163027\n",
      "weighted avg       1.00      1.00      1.00    163027\n"
     ]
    }
   ],
   "source": [
    "print(classification_report(y_test.sort_index(), y_pred.sort_index()))"
   ],
   "metadata": {
    "collapsed": false,
    "ExecuteTime": {
     "end_time": "2023-09-13T05:17:08.501982Z",
     "start_time": "2023-09-13T05:17:08.372735Z"
    }
   }
  },
  {
   "cell_type": "code",
   "execution_count": 76,
   "outputs": [
    {
     "data": {
      "text/plain": "0.7647058823529411"
     },
     "execution_count": 76,
     "metadata": {},
     "output_type": "execute_result"
    }
   ],
   "source": [
    "recall_u2r = cm_2nd['u2r']['true_u2r'] / cm_2nd.loc['true_u2r'].sum()"
   ],
   "metadata": {
    "collapsed": false,
    "ExecuteTime": {
     "end_time": "2023-09-13T05:17:08.502183Z",
     "start_time": "2023-09-13T05:17:08.495641Z"
    }
   }
  },
  {
   "cell_type": "code",
   "execution_count": 77,
   "outputs": [],
   "source": [
    "# model_1st: lgb.Booster = lgb.Booster(model_file=\"models/lightgbm/lgb_dropped_binary_tuned_booster.model\")\n",
    "# model_2nd: lgb.Booster = lgb.Booster(model_file=\"models/lightgbm/lgb_dropped_mapped_anomaly_tuned_booster.model\")\n",
    "# y_pred_binary = classification_normal_and_anomaly(x_test, model_1st)\n",
    "# predicted_indexes = y_pred_binary[y_pred_binary == 1].index\n",
    "# x_anomalies = x_test.loc[predicted_indexes]\n",
    "# y_pred_anomalies: pd.Series = classification_anomalies(x_anomalies, model_2nd)\n",
    "# print(y_pred_anomalies.value_counts())\n",
    "# y_pred_normal = y_pred_binary[y_pred_binary == 0].apply(lambda _: 1)\n",
    "# y_pred = pd.concat([y_pred_normal, y_pred_anomalies])\n",
    "#\n",
    "# y_test_binary = y_test.apply(lambda x: 0 if x == 1 else 1)\n",
    "#\n",
    "# cm_1st = confusion_matrix_df(y_test_binary.sort_index(), y_pred_binary.sort_index(), labels=['normal', 'anomaly'])\n",
    "#\n",
    "# cm_2nd = confusion_matrix_df(y_test.sort_index(), y_pred.sort_index(), labels=correspondences_anomaly.keys())\n"
   ],
   "metadata": {
    "collapsed": false,
    "ExecuteTime": {
     "end_time": "2023-09-13T05:17:08.502245Z",
     "start_time": "2023-09-13T05:17:08.497787Z"
    }
   }
  },
  {
   "cell_type": "markdown",
   "source": [],
   "metadata": {
    "collapsed": false
   }
  },
  {
   "cell_type": "code",
   "execution_count": null,
   "outputs": [],
   "source": [],
   "metadata": {
    "collapsed": false
   }
  }
 ],
 "metadata": {
  "kernelspec": {
   "display_name": "Python 3",
   "language": "python",
   "name": "python3"
  },
  "language_info": {
   "codemirror_mode": {
    "name": "ipython",
    "version": 2
   },
   "file_extension": ".py",
   "mimetype": "text/x-python",
   "name": "python",
   "nbconvert_exporter": "python",
   "pygments_lexer": "ipython2",
   "version": "2.7.6"
  }
 },
 "nbformat": 4,
 "nbformat_minor": 0
}
