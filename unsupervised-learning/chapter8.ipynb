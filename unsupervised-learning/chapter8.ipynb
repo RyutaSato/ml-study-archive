{
 "cells": [
  {
   "cell_type": "code",
   "execution_count": 26,
   "outputs": [],
   "source": [
    "import platform\n",
    "import sys\n",
    "\n",
    "import pandas as pd\n",
    "import numpy as np\n",
    "import tensorflow as tf\n",
    "import keras\n",
    "import sklearn\n"
   ],
   "metadata": {
    "collapsed": false,
    "ExecuteTime": {
     "end_time": "2023-06-06T04:27:44.386486Z",
     "start_time": "2023-06-06T04:27:44.296021Z"
    }
   }
  },
  {
   "cell_type": "markdown",
   "source": [
    "## 今回実行する環境\n",
    "### テキストとはバージョンが異なる．\n"
   ],
   "metadata": {
    "collapsed": false
   }
  },
  {
   "cell_type": "code",
   "execution_count": 27,
   "outputs": [
    {
     "name": "stdout",
     "output_type": "stream",
     "text": [
      "python:      3.10.11 (text: 3.6)\n",
      "sklearn:     1.2.2\n",
      "tensorflow:  2.13.0-rc0 (text: 1.14)\n",
      "keras:       2.13.1rc0\n",
      "numpy:       1.24.3\n",
      "pandas:      1.5.3\n",
      "random_seed:2018\n"
     ]
    }
   ],
   "source": [
    "print(f\"python:      {platform.python_version()} (text: 3.6)\")\n",
    "print(f\"sklearn:     {sklearn.__version__}\")\n",
    "print(f\"tensorflow:  {tf.__version__} (text: 1.14)\")\n",
    "print(f\"keras:       {keras.__version__}\")\n",
    "print(f\"numpy:       {np.__version__}\")\n",
    "print(f\"pandas:      {pd.__version__}\")\n",
    "RANDOM_SEED = 2018\n",
    "print(f\"random_seed:{RANDOM_SEED}\")"
   ],
   "metadata": {
    "collapsed": false,
    "ExecuteTime": {
     "end_time": "2023-06-06T04:27:44.387544Z",
     "start_time": "2023-06-06T04:27:44.315417Z"
    }
   }
  },
  {
   "cell_type": "code",
   "execution_count": 28,
   "outputs": [],
   "source": [
    "# データセットをロードする\n",
    "data = pd.read_csv('../handson-unsupervised-learning/datasets/credit_card_data/credit_card.csv')\n",
    "\n",
    "# 今回の分析には用いない'Time'カラムと，正解ラベルである'Class'を除いたデータを`data_x`とする．\n",
    "data_x = data.copy().drop(['Class', 'Time'], axis=1)\n",
    "\n",
    "# 正解ラベルはdata_yとする．\n",
    "data_y = data['Class'].copy()\n",
    "\n",
    "# 前処理\n",
    "# data_x をスケール変換するためのクラスをインポート\n",
    "from sklearn.preprocessing import StandardScaler\n",
    "# `StandardScaler`は，全ての特徴量の平均を0，標準偏差を1になるようにする．\n",
    "# これにより，異なる範囲の特徴量を持つデータを正規化する．\n",
    "scaled_x = pd.DataFrame(StandardScaler().fit_transform(data_x))"
   ],
   "metadata": {
    "collapsed": false,
    "ExecuteTime": {
     "end_time": "2023-06-06T04:27:45.717433Z",
     "start_time": "2023-06-06T04:27:44.341197Z"
    }
   }
  },
  {
   "cell_type": "code",
   "execution_count": 29,
   "outputs": [
    {
     "data": {
      "text/plain": "                 V1            V2            V3            V4            V5  \\\ncount  2.848070e+05  2.848070e+05  2.848070e+05  2.848070e+05  2.848070e+05   \nmean   1.168375e-15  3.416908e-16 -1.379537e-15  2.074095e-15  9.604066e-16   \nstd    1.958696e+00  1.651309e+00  1.516255e+00  1.415869e+00  1.380247e+00   \nmin   -5.640751e+01 -7.271573e+01 -4.832559e+01 -5.683171e+00 -1.137433e+02   \n25%   -9.203734e-01 -5.985499e-01 -8.903648e-01 -8.486401e-01 -6.915971e-01   \n50%    1.810880e-02  6.548556e-02  1.798463e-01 -1.984653e-02 -5.433583e-02   \n75%    1.315642e+00  8.037239e-01  1.027196e+00  7.433413e-01  6.119264e-01   \nmax    2.454930e+00  2.205773e+01  9.382558e+00  1.687534e+01  3.480167e+01   \n\n                 V6            V7            V8            V9           V10  \\\ncount  2.848070e+05  2.848070e+05  2.848070e+05  2.848070e+05  2.848070e+05   \nmean   1.487313e-15 -5.556467e-16  1.213481e-16 -2.406331e-15  2.239053e-15   \nstd    1.332271e+00  1.237094e+00  1.194353e+00  1.098632e+00  1.088850e+00   \nmin   -2.616051e+01 -4.355724e+01 -7.321672e+01 -1.343407e+01 -2.458826e+01   \n25%   -7.682956e-01 -5.540759e-01 -2.086297e-01 -6.430976e-01 -5.354257e-01   \n50%   -2.741871e-01  4.010308e-02  2.235804e-02 -5.142873e-02 -9.291738e-02   \n75%    3.985649e-01  5.704361e-01  3.273459e-01  5.971390e-01  4.539234e-01   \nmax    7.330163e+01  1.205895e+02  2.000721e+01  1.559499e+01  2.374514e+01   \n\n       ...           V20           V21           V22           V23  \\\ncount  ...  2.848070e+05  2.848070e+05  2.848070e+05  2.848070e+05   \nmean   ...  6.406204e-16  1.654067e-16 -3.568593e-16  2.578648e-16   \nstd    ...  7.709250e-01  7.345240e-01  7.257016e-01  6.244603e-01   \nmin    ... -5.449772e+01 -3.483038e+01 -1.093314e+01 -4.480774e+01   \n25%    ... -2.117214e-01 -2.283949e-01 -5.423504e-01 -1.618463e-01   \n50%    ... -6.248109e-02 -2.945017e-02  6.781943e-03 -1.119293e-02   \n75%    ...  1.330408e-01  1.863772e-01  5.285536e-01  1.476421e-01   \nmax    ...  3.942090e+01  2.720284e+01  1.050309e+01  2.252841e+01   \n\n                V24           V25           V26           V27           V28  \\\ncount  2.848070e+05  2.848070e+05  2.848070e+05  2.848070e+05  2.848070e+05   \nmean   4.473266e-15  5.340915e-16  1.683437e-15 -3.660091e-16 -1.227390e-16   \nstd    6.056471e-01  5.212781e-01  4.822270e-01  4.036325e-01  3.300833e-01   \nmin   -2.836627e+00 -1.029540e+01 -2.604551e+00 -2.256568e+01 -1.543008e+01   \n25%   -3.545861e-01 -3.171451e-01 -3.269839e-01 -7.083953e-02 -5.295979e-02   \n50%    4.097606e-02  1.659350e-02 -5.213911e-02  1.342146e-03  1.124383e-02   \n75%    4.395266e-01  3.507156e-01  2.409522e-01  9.104512e-02  7.827995e-02   \nmax    4.584549e+00  7.519589e+00  3.517346e+00  3.161220e+01  3.384781e+01   \n\n              Amount  \ncount  284807.000000  \nmean       88.349619  \nstd       250.120109  \nmin         0.000000  \n25%         5.600000  \n50%        22.000000  \n75%        77.165000  \nmax     25691.160000  \n\n[8 rows x 29 columns]",
      "text/html": "<div>\n<style scoped>\n    .dataframe tbody tr th:only-of-type {\n        vertical-align: middle;\n    }\n\n    .dataframe tbody tr th {\n        vertical-align: top;\n    }\n\n    .dataframe thead th {\n        text-align: right;\n    }\n</style>\n<table border=\"1\" class=\"dataframe\">\n  <thead>\n    <tr style=\"text-align: right;\">\n      <th></th>\n      <th>V1</th>\n      <th>V2</th>\n      <th>V3</th>\n      <th>V4</th>\n      <th>V5</th>\n      <th>V6</th>\n      <th>V7</th>\n      <th>V8</th>\n      <th>V9</th>\n      <th>V10</th>\n      <th>...</th>\n      <th>V20</th>\n      <th>V21</th>\n      <th>V22</th>\n      <th>V23</th>\n      <th>V24</th>\n      <th>V25</th>\n      <th>V26</th>\n      <th>V27</th>\n      <th>V28</th>\n      <th>Amount</th>\n    </tr>\n  </thead>\n  <tbody>\n    <tr>\n      <th>count</th>\n      <td>2.848070e+05</td>\n      <td>2.848070e+05</td>\n      <td>2.848070e+05</td>\n      <td>2.848070e+05</td>\n      <td>2.848070e+05</td>\n      <td>2.848070e+05</td>\n      <td>2.848070e+05</td>\n      <td>2.848070e+05</td>\n      <td>2.848070e+05</td>\n      <td>2.848070e+05</td>\n      <td>...</td>\n      <td>2.848070e+05</td>\n      <td>2.848070e+05</td>\n      <td>2.848070e+05</td>\n      <td>2.848070e+05</td>\n      <td>2.848070e+05</td>\n      <td>2.848070e+05</td>\n      <td>2.848070e+05</td>\n      <td>2.848070e+05</td>\n      <td>2.848070e+05</td>\n      <td>284807.000000</td>\n    </tr>\n    <tr>\n      <th>mean</th>\n      <td>1.168375e-15</td>\n      <td>3.416908e-16</td>\n      <td>-1.379537e-15</td>\n      <td>2.074095e-15</td>\n      <td>9.604066e-16</td>\n      <td>1.487313e-15</td>\n      <td>-5.556467e-16</td>\n      <td>1.213481e-16</td>\n      <td>-2.406331e-15</td>\n      <td>2.239053e-15</td>\n      <td>...</td>\n      <td>6.406204e-16</td>\n      <td>1.654067e-16</td>\n      <td>-3.568593e-16</td>\n      <td>2.578648e-16</td>\n      <td>4.473266e-15</td>\n      <td>5.340915e-16</td>\n      <td>1.683437e-15</td>\n      <td>-3.660091e-16</td>\n      <td>-1.227390e-16</td>\n      <td>88.349619</td>\n    </tr>\n    <tr>\n      <th>std</th>\n      <td>1.958696e+00</td>\n      <td>1.651309e+00</td>\n      <td>1.516255e+00</td>\n      <td>1.415869e+00</td>\n      <td>1.380247e+00</td>\n      <td>1.332271e+00</td>\n      <td>1.237094e+00</td>\n      <td>1.194353e+00</td>\n      <td>1.098632e+00</td>\n      <td>1.088850e+00</td>\n      <td>...</td>\n      <td>7.709250e-01</td>\n      <td>7.345240e-01</td>\n      <td>7.257016e-01</td>\n      <td>6.244603e-01</td>\n      <td>6.056471e-01</td>\n      <td>5.212781e-01</td>\n      <td>4.822270e-01</td>\n      <td>4.036325e-01</td>\n      <td>3.300833e-01</td>\n      <td>250.120109</td>\n    </tr>\n    <tr>\n      <th>min</th>\n      <td>-5.640751e+01</td>\n      <td>-7.271573e+01</td>\n      <td>-4.832559e+01</td>\n      <td>-5.683171e+00</td>\n      <td>-1.137433e+02</td>\n      <td>-2.616051e+01</td>\n      <td>-4.355724e+01</td>\n      <td>-7.321672e+01</td>\n      <td>-1.343407e+01</td>\n      <td>-2.458826e+01</td>\n      <td>...</td>\n      <td>-5.449772e+01</td>\n      <td>-3.483038e+01</td>\n      <td>-1.093314e+01</td>\n      <td>-4.480774e+01</td>\n      <td>-2.836627e+00</td>\n      <td>-1.029540e+01</td>\n      <td>-2.604551e+00</td>\n      <td>-2.256568e+01</td>\n      <td>-1.543008e+01</td>\n      <td>0.000000</td>\n    </tr>\n    <tr>\n      <th>25%</th>\n      <td>-9.203734e-01</td>\n      <td>-5.985499e-01</td>\n      <td>-8.903648e-01</td>\n      <td>-8.486401e-01</td>\n      <td>-6.915971e-01</td>\n      <td>-7.682956e-01</td>\n      <td>-5.540759e-01</td>\n      <td>-2.086297e-01</td>\n      <td>-6.430976e-01</td>\n      <td>-5.354257e-01</td>\n      <td>...</td>\n      <td>-2.117214e-01</td>\n      <td>-2.283949e-01</td>\n      <td>-5.423504e-01</td>\n      <td>-1.618463e-01</td>\n      <td>-3.545861e-01</td>\n      <td>-3.171451e-01</td>\n      <td>-3.269839e-01</td>\n      <td>-7.083953e-02</td>\n      <td>-5.295979e-02</td>\n      <td>5.600000</td>\n    </tr>\n    <tr>\n      <th>50%</th>\n      <td>1.810880e-02</td>\n      <td>6.548556e-02</td>\n      <td>1.798463e-01</td>\n      <td>-1.984653e-02</td>\n      <td>-5.433583e-02</td>\n      <td>-2.741871e-01</td>\n      <td>4.010308e-02</td>\n      <td>2.235804e-02</td>\n      <td>-5.142873e-02</td>\n      <td>-9.291738e-02</td>\n      <td>...</td>\n      <td>-6.248109e-02</td>\n      <td>-2.945017e-02</td>\n      <td>6.781943e-03</td>\n      <td>-1.119293e-02</td>\n      <td>4.097606e-02</td>\n      <td>1.659350e-02</td>\n      <td>-5.213911e-02</td>\n      <td>1.342146e-03</td>\n      <td>1.124383e-02</td>\n      <td>22.000000</td>\n    </tr>\n    <tr>\n      <th>75%</th>\n      <td>1.315642e+00</td>\n      <td>8.037239e-01</td>\n      <td>1.027196e+00</td>\n      <td>7.433413e-01</td>\n      <td>6.119264e-01</td>\n      <td>3.985649e-01</td>\n      <td>5.704361e-01</td>\n      <td>3.273459e-01</td>\n      <td>5.971390e-01</td>\n      <td>4.539234e-01</td>\n      <td>...</td>\n      <td>1.330408e-01</td>\n      <td>1.863772e-01</td>\n      <td>5.285536e-01</td>\n      <td>1.476421e-01</td>\n      <td>4.395266e-01</td>\n      <td>3.507156e-01</td>\n      <td>2.409522e-01</td>\n      <td>9.104512e-02</td>\n      <td>7.827995e-02</td>\n      <td>77.165000</td>\n    </tr>\n    <tr>\n      <th>max</th>\n      <td>2.454930e+00</td>\n      <td>2.205773e+01</td>\n      <td>9.382558e+00</td>\n      <td>1.687534e+01</td>\n      <td>3.480167e+01</td>\n      <td>7.330163e+01</td>\n      <td>1.205895e+02</td>\n      <td>2.000721e+01</td>\n      <td>1.559499e+01</td>\n      <td>2.374514e+01</td>\n      <td>...</td>\n      <td>3.942090e+01</td>\n      <td>2.720284e+01</td>\n      <td>1.050309e+01</td>\n      <td>2.252841e+01</td>\n      <td>4.584549e+00</td>\n      <td>7.519589e+00</td>\n      <td>3.517346e+00</td>\n      <td>3.161220e+01</td>\n      <td>3.384781e+01</td>\n      <td>25691.160000</td>\n    </tr>\n  </tbody>\n</table>\n<p>8 rows × 29 columns</p>\n</div>"
     },
     "execution_count": 29,
     "metadata": {},
     "output_type": "execute_result"
    }
   ],
   "source": [
    "data_x.describe()"
   ],
   "metadata": {
    "collapsed": false,
    "ExecuteTime": {
     "end_time": "2023-06-06T04:27:46.065507Z",
     "start_time": "2023-06-06T04:27:45.719708Z"
    }
   }
  },
  {
   "cell_type": "code",
   "execution_count": 30,
   "outputs": [
    {
     "data": {
      "text/plain": "                 0             1             2             3             4   \\\ncount  2.848070e+05  2.848070e+05  2.848070e+05  2.848070e+05  2.848070e+05   \nmean  -1.506872e-17 -9.580116e-18 -8.622104e-17 -5.189230e-18  3.832046e-17   \nstd    1.000002e+00  1.000002e+00  1.000002e+00  1.000002e+00  1.000002e+00   \nmin   -2.879855e+01 -4.403529e+01 -3.187173e+01 -4.013919e+00 -8.240810e+01   \n25%   -4.698918e-01 -3.624707e-01 -5.872142e-01 -5.993788e-01 -5.010686e-01   \n50%    9.245351e-03  3.965683e-02  1.186124e-01 -1.401724e-02 -3.936682e-02   \n75%    6.716939e-01  4.867202e-01  6.774569e-01  5.250082e-01  4.433465e-01   \nmax    1.253351e+00  1.335775e+01  6.187993e+00  1.191874e+01  2.521413e+01   \n\n                 5             6             7             8             9   \\\ncount  2.848070e+05  2.848070e+05  2.848070e+05  2.848070e+05  2.848070e+05   \nmean   9.979288e-18  1.237432e-17 -3.193372e-18  7.234983e-19  5.588401e-18   \nstd    1.000002e+00  1.000002e+00  1.000002e+00  1.000002e+00  1.000002e+00   \nmin   -1.963606e+01 -3.520940e+01 -6.130252e+01 -1.222802e+01 -2.258191e+01   \n25%   -5.766822e-01 -4.478860e-01 -1.746805e-01 -5.853631e-01 -4.917360e-01   \n50%   -2.058046e-01  3.241723e-02  1.871982e-02 -4.681169e-02 -8.533551e-02   \n75%    2.991625e-01  4.611107e-01  2.740785e-01  5.435305e-01  4.168842e-01   \nmax    5.502015e+01  9.747824e+01  1.675153e+01  1.419494e+01  2.180758e+01   \n\n       ...            19            20            21            22  \\\ncount  ...  2.848070e+05  2.848070e+05  2.848070e+05  2.848070e+05   \nmean   ... -1.247411e-18 -3.642440e-18  3.193372e-18  8.781773e-18   \nstd    ...  1.000002e+00  1.000002e+00  1.000002e+00  1.000002e+00   \nmin    ... -7.069146e+01 -4.741907e+01 -1.506565e+01 -7.175446e+01   \n25%    ... -2.746334e-01 -3.109433e-01 -7.473476e-01 -2.591784e-01   \n50%    ... -8.104705e-02 -4.009429e-02  9.345377e-03 -1.792420e-02   \n75%    ...  1.725733e-01  2.537392e-01  7.283360e-01  2.364319e-01   \nmax    ...  5.113464e+01  3.703471e+01  1.447304e+01  3.607668e+01   \n\n                 23            24            25            26            27  \\\ncount  2.848070e+05  2.848070e+05  2.848070e+05  2.848070e+05  2.848070e+05   \nmean   9.580116e-18 -5.029561e-17  5.887780e-18  2.444925e-18 -7.908585e-18   \nstd    1.000002e+00  1.000002e+00  1.000002e+00  1.000002e+00  1.000002e+00   \nmin   -4.683638e+00 -1.975033e+01 -5.401098e+00 -5.590660e+01 -4.674612e+01   \n25%   -5.854676e-01 -6.084001e-01 -6.780717e-01 -1.755053e-01 -1.604440e-01   \n50%    6.765678e-02  3.183240e-02 -1.081217e-01  3.325174e-03  3.406368e-02   \n75%    7.257153e-01  6.728006e-01  4.996663e-01  2.255648e-01  2.371526e-01   \nmax    7.569684e+00  1.442532e+01  7.293975e+00  7.831940e+01  1.025434e+02   \n\n                 28  \ncount  2.848070e+05  \nmean   2.913952e-17  \nstd    1.000002e+00  \nmin   -3.532294e-01  \n25%   -3.308401e-01  \n50%   -2.652715e-01  \n75%   -4.471707e-02  \nmax    1.023622e+02  \n\n[8 rows x 29 columns]",
      "text/html": "<div>\n<style scoped>\n    .dataframe tbody tr th:only-of-type {\n        vertical-align: middle;\n    }\n\n    .dataframe tbody tr th {\n        vertical-align: top;\n    }\n\n    .dataframe thead th {\n        text-align: right;\n    }\n</style>\n<table border=\"1\" class=\"dataframe\">\n  <thead>\n    <tr style=\"text-align: right;\">\n      <th></th>\n      <th>0</th>\n      <th>1</th>\n      <th>2</th>\n      <th>3</th>\n      <th>4</th>\n      <th>5</th>\n      <th>6</th>\n      <th>7</th>\n      <th>8</th>\n      <th>9</th>\n      <th>...</th>\n      <th>19</th>\n      <th>20</th>\n      <th>21</th>\n      <th>22</th>\n      <th>23</th>\n      <th>24</th>\n      <th>25</th>\n      <th>26</th>\n      <th>27</th>\n      <th>28</th>\n    </tr>\n  </thead>\n  <tbody>\n    <tr>\n      <th>count</th>\n      <td>2.848070e+05</td>\n      <td>2.848070e+05</td>\n      <td>2.848070e+05</td>\n      <td>2.848070e+05</td>\n      <td>2.848070e+05</td>\n      <td>2.848070e+05</td>\n      <td>2.848070e+05</td>\n      <td>2.848070e+05</td>\n      <td>2.848070e+05</td>\n      <td>2.848070e+05</td>\n      <td>...</td>\n      <td>2.848070e+05</td>\n      <td>2.848070e+05</td>\n      <td>2.848070e+05</td>\n      <td>2.848070e+05</td>\n      <td>2.848070e+05</td>\n      <td>2.848070e+05</td>\n      <td>2.848070e+05</td>\n      <td>2.848070e+05</td>\n      <td>2.848070e+05</td>\n      <td>2.848070e+05</td>\n    </tr>\n    <tr>\n      <th>mean</th>\n      <td>-1.506872e-17</td>\n      <td>-9.580116e-18</td>\n      <td>-8.622104e-17</td>\n      <td>-5.189230e-18</td>\n      <td>3.832046e-17</td>\n      <td>9.979288e-18</td>\n      <td>1.237432e-17</td>\n      <td>-3.193372e-18</td>\n      <td>7.234983e-19</td>\n      <td>5.588401e-18</td>\n      <td>...</td>\n      <td>-1.247411e-18</td>\n      <td>-3.642440e-18</td>\n      <td>3.193372e-18</td>\n      <td>8.781773e-18</td>\n      <td>9.580116e-18</td>\n      <td>-5.029561e-17</td>\n      <td>5.887780e-18</td>\n      <td>2.444925e-18</td>\n      <td>-7.908585e-18</td>\n      <td>2.913952e-17</td>\n    </tr>\n    <tr>\n      <th>std</th>\n      <td>1.000002e+00</td>\n      <td>1.000002e+00</td>\n      <td>1.000002e+00</td>\n      <td>1.000002e+00</td>\n      <td>1.000002e+00</td>\n      <td>1.000002e+00</td>\n      <td>1.000002e+00</td>\n      <td>1.000002e+00</td>\n      <td>1.000002e+00</td>\n      <td>1.000002e+00</td>\n      <td>...</td>\n      <td>1.000002e+00</td>\n      <td>1.000002e+00</td>\n      <td>1.000002e+00</td>\n      <td>1.000002e+00</td>\n      <td>1.000002e+00</td>\n      <td>1.000002e+00</td>\n      <td>1.000002e+00</td>\n      <td>1.000002e+00</td>\n      <td>1.000002e+00</td>\n      <td>1.000002e+00</td>\n    </tr>\n    <tr>\n      <th>min</th>\n      <td>-2.879855e+01</td>\n      <td>-4.403529e+01</td>\n      <td>-3.187173e+01</td>\n      <td>-4.013919e+00</td>\n      <td>-8.240810e+01</td>\n      <td>-1.963606e+01</td>\n      <td>-3.520940e+01</td>\n      <td>-6.130252e+01</td>\n      <td>-1.222802e+01</td>\n      <td>-2.258191e+01</td>\n      <td>...</td>\n      <td>-7.069146e+01</td>\n      <td>-4.741907e+01</td>\n      <td>-1.506565e+01</td>\n      <td>-7.175446e+01</td>\n      <td>-4.683638e+00</td>\n      <td>-1.975033e+01</td>\n      <td>-5.401098e+00</td>\n      <td>-5.590660e+01</td>\n      <td>-4.674612e+01</td>\n      <td>-3.532294e-01</td>\n    </tr>\n    <tr>\n      <th>25%</th>\n      <td>-4.698918e-01</td>\n      <td>-3.624707e-01</td>\n      <td>-5.872142e-01</td>\n      <td>-5.993788e-01</td>\n      <td>-5.010686e-01</td>\n      <td>-5.766822e-01</td>\n      <td>-4.478860e-01</td>\n      <td>-1.746805e-01</td>\n      <td>-5.853631e-01</td>\n      <td>-4.917360e-01</td>\n      <td>...</td>\n      <td>-2.746334e-01</td>\n      <td>-3.109433e-01</td>\n      <td>-7.473476e-01</td>\n      <td>-2.591784e-01</td>\n      <td>-5.854676e-01</td>\n      <td>-6.084001e-01</td>\n      <td>-6.780717e-01</td>\n      <td>-1.755053e-01</td>\n      <td>-1.604440e-01</td>\n      <td>-3.308401e-01</td>\n    </tr>\n    <tr>\n      <th>50%</th>\n      <td>9.245351e-03</td>\n      <td>3.965683e-02</td>\n      <td>1.186124e-01</td>\n      <td>-1.401724e-02</td>\n      <td>-3.936682e-02</td>\n      <td>-2.058046e-01</td>\n      <td>3.241723e-02</td>\n      <td>1.871982e-02</td>\n      <td>-4.681169e-02</td>\n      <td>-8.533551e-02</td>\n      <td>...</td>\n      <td>-8.104705e-02</td>\n      <td>-4.009429e-02</td>\n      <td>9.345377e-03</td>\n      <td>-1.792420e-02</td>\n      <td>6.765678e-02</td>\n      <td>3.183240e-02</td>\n      <td>-1.081217e-01</td>\n      <td>3.325174e-03</td>\n      <td>3.406368e-02</td>\n      <td>-2.652715e-01</td>\n    </tr>\n    <tr>\n      <th>75%</th>\n      <td>6.716939e-01</td>\n      <td>4.867202e-01</td>\n      <td>6.774569e-01</td>\n      <td>5.250082e-01</td>\n      <td>4.433465e-01</td>\n      <td>2.991625e-01</td>\n      <td>4.611107e-01</td>\n      <td>2.740785e-01</td>\n      <td>5.435305e-01</td>\n      <td>4.168842e-01</td>\n      <td>...</td>\n      <td>1.725733e-01</td>\n      <td>2.537392e-01</td>\n      <td>7.283360e-01</td>\n      <td>2.364319e-01</td>\n      <td>7.257153e-01</td>\n      <td>6.728006e-01</td>\n      <td>4.996663e-01</td>\n      <td>2.255648e-01</td>\n      <td>2.371526e-01</td>\n      <td>-4.471707e-02</td>\n    </tr>\n    <tr>\n      <th>max</th>\n      <td>1.253351e+00</td>\n      <td>1.335775e+01</td>\n      <td>6.187993e+00</td>\n      <td>1.191874e+01</td>\n      <td>2.521413e+01</td>\n      <td>5.502015e+01</td>\n      <td>9.747824e+01</td>\n      <td>1.675153e+01</td>\n      <td>1.419494e+01</td>\n      <td>2.180758e+01</td>\n      <td>...</td>\n      <td>5.113464e+01</td>\n      <td>3.703471e+01</td>\n      <td>1.447304e+01</td>\n      <td>3.607668e+01</td>\n      <td>7.569684e+00</td>\n      <td>1.442532e+01</td>\n      <td>7.293975e+00</td>\n      <td>7.831940e+01</td>\n      <td>1.025434e+02</td>\n      <td>1.023622e+02</td>\n    </tr>\n  </tbody>\n</table>\n<p>8 rows × 29 columns</p>\n</div>"
     },
     "execution_count": 30,
     "metadata": {},
     "output_type": "execute_result"
    }
   ],
   "source": [
    "scaled_x.describe()"
   ],
   "metadata": {
    "collapsed": false,
    "ExecuteTime": {
     "end_time": "2023-06-06T04:27:46.386363Z",
     "start_time": "2023-06-06T04:27:46.064262Z"
    }
   }
  },
  {
   "cell_type": "code",
   "execution_count": 31,
   "outputs": [
    {
     "name": "stdout",
     "output_type": "stream",
     "text": [
      "[190820, 93987, 190820, 93987]\n"
     ]
    }
   ],
   "source": [
    "# データの3分の2を訓練セット，残りをテストセットとする．\n",
    "# データ分割用の関数をインポートする．\n",
    "from sklearn.model_selection import train_test_split\n",
    "x_train, x_test, y_train, y_test = \\\n",
    "    train_test_split(scaled_x, data_y,\n",
    "                     test_size=0.33,\n",
    "                     random_state=RANDOM_SEED,\n",
    "                     stratify=data_y) # データの分布が等しくなるように分割する\n",
    "\n",
    "x_train_ae: pd.DataFrame = x_train[y_train==0]\n",
    "x_test_ae: pd.DataFrame = x_test.copy()\n",
    "print(list(map(len, [x_train, x_test, y_train, y_test])))"
   ],
   "metadata": {
    "collapsed": false,
    "ExecuteTime": {
     "end_time": "2023-06-06T04:27:46.519950Z",
     "start_time": "2023-06-06T04:27:46.391101Z"
    }
   }
  },
  {
   "cell_type": "code",
   "execution_count": 32,
   "outputs": [],
   "source": [
    "def anomaly_scores(original_df: pd.DataFrame, reduced_df: pd.DataFrame) -> np.ndarray:\n",
    "    \"\"\"\n",
    "    元の特徴量行列と，新たに再構成された特徴量行列の間の再構成誤差を計算する．\n",
    "    2乗誤差を計算し，正規化して0〜1に納める．\n",
    "    0に近いほど正常，１に近いほど異常\n",
    "    \"\"\"\n",
    "    loss: np.ndarray = np.sum((np.array(original_df) - np.array(reduced_df))**2, axis=1)\n",
    "    loss: pd.Series = pd.Series(loss, index=original_df.index)\n",
    "    loss: np.ndarray = (loss - np.min(loss)) / (np.max(loss) - np.min(loss))\n",
    "    return loss\n"
   ],
   "metadata": {
    "collapsed": false,
    "ExecuteTime": {
     "end_time": "2023-06-06T04:27:46.520111Z",
     "start_time": "2023-06-06T04:27:46.515451Z"
    }
   }
  },
  {
   "cell_type": "code",
   "execution_count": 33,
   "outputs": [],
   "source": [
    "from sklearn.metrics import precision_recall_curve, average_precision_score, roc_curve, auc\n",
    "import matplotlib.pyplot as plt\n",
    "\n",
    "def plot_results(true_labels, anomaly_scores_, return_preds = False):\n",
    "    preds = pd.concat([true_labels, anomaly_scores_], axis=1)\n",
    "    preds.columns = ['true_label', 'anomaly_score']\n",
    "    precision, recall, thresholds = \\\n",
    "    precision_recall_curve(preds['true_label'], preds['anomaly_score'])\n",
    "    average_precision = average_precision_score(\n",
    "        preds['true_label'], preds['anomaly_score']\n",
    "    )\n",
    "    plt.step(recall, precision, color='k', alpha=0.7, where='post')\n",
    "    plt.fill_between(recall, precision, step='post', alpha=0.3, color='k')\n",
    "\n",
    "    plt.xlabel('Recall')\n",
    "    plt.ylabel('Precision')\n",
    "\n",
    "\n",
    "    plt.ylim([0.0, 1.05])\n",
    "    plt.xlim([0.0, 1.0])\n",
    "\n",
    "    plt.title('Precision-Recall curve: Average Precision = '\n",
    "              '{0:0.2f}'.format(average_precision))\n",
    "\n",
    "    fpr, tpr, thresholds =\\\n",
    "        roc_curve(preds['true_label'], preds['anomaly_score'])\n",
    "\n",
    "    area_under_roc = auc(fpr, tpr)\n",
    "\n",
    "    plt.figure()\n",
    "    plt.plot(fpr, tpr, color='r', lw=2, label='ROC curve')\n",
    "    plt.plot([0, 1], [0, 1], color='k', lw=2, linestyle='--')\n",
    "    plt.xlim([0.0, 1.0])\n",
    "    plt.xlabel([0.0, 1.05])\n",
    "    plt.xlabel('False Positive Rate')\n",
    "    plt.ylabel('True Positive Rate')\n",
    "    plt.title('Receiver operating characteristic: Area under the curve = {0:0.2f}'.format(area_under_roc))\n",
    "    plt.legend(loc='lower right')\n",
    "    plt.show()\n",
    "\n",
    "    if return_preds:\n",
    "        return preds, average_precision"
   ],
   "metadata": {
    "collapsed": false,
    "ExecuteTime": {
     "end_time": "2023-06-06T04:27:46.530725Z",
     "start_time": "2023-06-06T04:27:46.528014Z"
    }
   }
  },
  {
   "cell_type": "code",
   "execution_count": 34,
   "outputs": [
    {
     "name": "stdout",
     "output_type": "stream",
     "text": [
      "Epoch 1/10\n",
      "190490/190490 [==============================] - 112s 585us/step - loss: 0.0148 - accuracy: 0.9613 - val_loss: 0.0250 - val_accuracy: 0.9368\n",
      "Epoch 2/10\n",
      "190490/190490 [==============================] - 114s 596us/step - loss: 0.0060 - accuracy: 0.9708 - val_loss: 6.6099e-04 - val_accuracy: 0.9910\n",
      "Epoch 3/10\n",
      "190490/190490 [==============================] - 109s 574us/step - loss: 0.0058 - accuracy: 0.9726 - val_loss: 0.0019 - val_accuracy: 0.9809\n",
      "Epoch 4/10\n",
      "190490/190490 [==============================] - 110s 580us/step - loss: 0.0060 - accuracy: 0.9719 - val_loss: 0.0062 - val_accuracy: 0.9574\n",
      "Epoch 5/10\n",
      "190490/190490 [==============================] - 109s 573us/step - loss: 0.0063 - accuracy: 0.9711 - val_loss: 0.0057 - val_accuracy: 0.9664\n",
      "Epoch 6/10\n",
      "190490/190490 [==============================] - 109s 571us/step - loss: 0.0059 - accuracy: 0.9721 - val_loss: 0.0044 - val_accuracy: 0.9613\n",
      "Epoch 7/10\n",
      "190490/190490 [==============================] - 109s 574us/step - loss: 0.0058 - accuracy: 0.9713 - val_loss: 3.5564e-04 - val_accuracy: 0.9861\n",
      "Epoch 8/10\n",
      "190490/190490 [==============================] - 110s 576us/step - loss: 0.0060 - accuracy: 0.9712 - val_loss: 0.0210 - val_accuracy: 0.8920\n",
      "Epoch 9/10\n",
      "190490/190490 [==============================] - 110s 578us/step - loss: 0.0064 - accuracy: 0.9710 - val_loss: 0.0057 - val_accuracy: 0.9558\n",
      "Epoch 10/10\n",
      "190490/190490 [==============================] - 110s 578us/step - loss: 0.0059 - accuracy: 0.9711 - val_loss: 0.0022 - val_accuracy: 0.9828\n"
     ]
    }
   ],
   "source": [
    "from keras.src.layers import Dense\n",
    "from keras import Sequential\n",
    "\n",
    "# 8.4 最初のオートエンコーダ\n",
    "\n",
    "# SequentialモデルAPIは，複数の層を追加してコンパイルすることで，ニューラルネットワークを構築することができる．\n",
    "model = Sequential()\n",
    "# Encoder\n",
    "model.add(Dense(units=29,  # 中間層の次元数\n",
    "                activation='linear', # 活性化関数\n",
    "                input_dim=29 # 入力層の次元数\n",
    "                ))\n",
    "# Decoder\n",
    "model.add(Dense(\n",
    "    units=29,\n",
    "    activation='linear'\n",
    "))\n",
    "\n",
    "\n",
    "model.compile(\n",
    "    optimizer='adam', # 最適化アルゴリズム -> Adam\n",
    "    loss='mean_squared_error', # 誤差関数 -> 平均二乗誤差\n",
    "    metrics=['accuracy'] # 評価指標を指定する．(正解率`accuracy`の他にも，精度`precision`，再現率`recall`，F1スコア`F1score`などがある)\n",
    ")\n",
    "\"\"\"\n",
    "accuracyについて\n",
    "予測データのうち，出力の最大値が正解ラベルと一致しているものの割合\n",
    "\"\"\"\n",
    "NUM_EPOCHS = 10\n",
    "BATCH_SIZE = 1\n",
    "history = model.fit(\n",
    "    x=x_train_ae,\n",
    "    y=x_train_ae,\n",
    "    epochs=NUM_EPOCHS, # データセットを使って学習する回数\n",
    "    batch_size=BATCH_SIZE,\n",
    "    shuffle=True, # データをシャッフルすることで，．\n",
    "    validation_data=(x_train_ae, x_train_ae), # 評価用データ（検証データ）の指定\n",
    "    verbose=1,\n",
    "    use_multiprocessing=True) # ログを出力するか否か\n"
   ],
   "metadata": {
    "collapsed": false,
    "ExecuteTime": {
     "end_time": "2023-06-06T04:46:08.944313Z",
     "start_time": "2023-06-06T04:27:46.536160Z"
    }
   }
  },
  {
   "cell_type": "code",
   "execution_count": 35,
   "outputs": [
    {
     "name": "stdout",
     "output_type": "stream",
     "text": [
      "2938/2938 [==============================] - 1s 229us/step\n"
     ]
    },
    {
     "data": {
      "text/plain": "<Figure size 640x480 with 1 Axes>",
      "image/png": "[encoded data removed]"
     },
     "metadata": {},
     "output_type": "display_data"
    },
    {
     "data": {
      "text/plain": "<Figure size 640x480 with 1 Axes>",
      "image/png": "[encoded data removed]"
     },
     "metadata": {},
     "output_type": "display_data"
    }
   ],
   "source": [
    "# テストセットを用いた評価\n",
    "predictions = model.predict(x_test, verbose=1)\n",
    "anomaly_scores_ae = anomaly_scores(x_test, predictions)\n",
    "plot_results(y_test, anomaly_scores_ae)"
   ],
   "metadata": {
    "collapsed": false,
    "ExecuteTime": {
     "end_time": "2023-06-06T04:46:10.437033Z",
     "start_time": "2023-06-06T04:46:08.981041Z"
    }
   }
  },
  {
   "cell_type": "markdown",
   "source": [
    "### 平均適合率　→　0.34, 0.14, 0.53, 0.02, 0,72...\n",
    "### **毎回大きく異なる**\n",
    "### -> 正解ラベルの数が極端に少ないデータのため，予測が1つ当たるかどうかで適合率が大きく変化する？"
   ],
   "metadata": {
    "collapsed": false
   }
  },
  {
   "cell_type": "code",
   "execution_count": null,
   "outputs": [
    {
     "name": "stdout",
     "output_type": "stream",
     "text": [
      "Epoch 1/10\n",
      "190490/190490 [==============================] - 108s 568us/step - loss: 0.0188 - accuracy: 0.9585 - val_loss: 0.0021 - val_accuracy: 0.9885\n",
      "Epoch 2/10\n",
      "190490/190490 [==============================] - 109s 574us/step - loss: 0.0060 - accuracy: 0.9720 - val_loss: 0.0226 - val_accuracy: 0.9301\n",
      "Epoch 3/10\n",
      "190490/190490 [==============================] - 108s 568us/step - loss: 0.0060 - accuracy: 0.9715 - val_loss: 0.0186 - val_accuracy: 0.9527\n",
      "Epoch 4/10\n",
      "190490/190490 [==============================] - 108s 569us/step - loss: 0.0060 - accuracy: 0.9709 - val_loss: 0.0032 - val_accuracy: 0.9915\n",
      "Epoch 5/10\n",
      "190490/190490 [==============================] - 108s 569us/step - loss: 0.0061 - accuracy: 0.9703 - val_loss: 6.0119e-04 - val_accuracy: 0.9940\n",
      "Epoch 6/10\n",
      "190490/190490 [==============================] - 109s 570us/step - loss: 0.0065 - accuracy: 0.9711 - val_loss: 0.0014 - val_accuracy: 0.9834\n",
      "Epoch 7/10\n",
      "190490/190490 [==============================] - 108s 569us/step - loss: 0.0062 - accuracy: 0.9712 - val_loss: 0.0131 - val_accuracy: 0.9697\n",
      "Epoch 8/10\n",
      "190490/190490 [==============================] - 109s 571us/step - loss: 0.0059 - accuracy: 0.9715 - val_loss: 0.0015 - val_accuracy: 0.9858\n",
      "Epoch 9/10\n",
      "190490/190490 [==============================] - 109s 572us/step - loss: 0.0064 - accuracy: 0.9710 - val_loss: 0.0017 - val_accuracy: 0.9866\n",
      "Epoch 10/10\n",
      "190489/190490 [============================>.] - ETA: 0s - loss: 0.0061 - accuracy: 0.9717"
     ]
    }
   ],
   "source": [
    "# Repeat the same auto encoder for 10 times.\n",
    "# Define the auto encoder as a function\n",
    "def simple_auto_encoder(model_: Sequential):\n",
    "    # Call neural network API\n",
    "    # Compile the model\n",
    "    model_.compile(optimizer='adam', loss='mean_squared_error', metrics=['accuracy'])\n",
    "\n",
    "    # Train the model\n",
    "    history_ = model_.fit(x=x_train_ae, y=x_train_ae, epochs=NUM_EPOCHS, batch_size=BATCH_SIZE, shuffle=True, validation_data=(x_train_ae, x_train_ae), verbose=1)\n",
    "\n",
    "    # Evaluate on test set\n",
    "    predictions_ = model_.predict(x_test, verbose=1)\n",
    "    anomaly_scores_ae_ = anomaly_scores(x_test, predictions_)\n",
    "    average_precision = average_precision_score(y_test, anomaly_scores_ae_)\n",
    "    return average_precision\n",
    "\n",
    "test_scores = []\n",
    "for _ in range(10):\n",
    "    model = Sequential(\n",
    "        [Dense(units=29, activation='linear', input_dim=29),\n",
    "         Dense(units=29, activation='linear')]\n",
    "    )\n",
    "    avg_precision = simple_auto_encoder(model)\n",
    "    test_scores.append(avg_precision)"
   ],
   "metadata": {
    "collapsed": false,
    "is_executing": true,
    "ExecuteTime": {
     "start_time": "2023-06-06T04:46:10.440618Z"
    }
   }
  },
  {
   "cell_type": "code",
   "execution_count": null,
   "outputs": [],
   "source": [
    "print(test_scores)\n",
    "print(f\"Mean average prediction over 10 runs: {np.mean(test_scores)}\")\n",
    "print(f\"Coefficient of variation over 10 runs: {np.std(test_scores) / np.mean(test_scores)}\")"
   ],
   "metadata": {
    "collapsed": false,
    "is_executing": true
   }
  },
  {
   "cell_type": "markdown",
   "source": [
    "# 8.5 線形活性化関数を用いた2層未完備オートエンコーダ\n",
    "## 隠れ層の次元数を29-> **20**\n"
   ],
   "metadata": {
    "collapsed": false
   }
  },
  {
   "cell_type": "code",
   "execution_count": null,
   "outputs": [],
   "source": [
    "test_scores = []\n",
    "for _ in range(10):\n",
    "    model = Sequential(\n",
    "        [Dense(units=20, activation='linear', input_dim=29),\n",
    "         Dense(units=29, activation='linear')]\n",
    "    )\n",
    "    avg_precision = simple_auto_encoder(model)\n",
    "    test_scores.append(avg_precision)"
   ],
   "metadata": {
    "collapsed": false,
    "is_executing": true
   }
  },
  {
   "cell_type": "code",
   "execution_count": null,
   "outputs": [],
   "source": [
    "print(test_scores)\n",
    "print(f\"Mean average prediction over 10 runs: {np.mean(test_scores)}\")\n",
    "print(f\"Coefficient of variation over 10 runs: {np.std(test_scores) / np.mean(test_scores)}\")"
   ],
   "metadata": {
    "collapsed": false,
    "is_executing": true
   }
  },
  {
   "cell_type": "markdown",
   "source": [
    "# 8.5.1 線形活性化関数を用いた2層未完備オートエンコーダの層を増やす\n",
    "## 隠れ層を1層増やす．\n",
    "## 隠れ層の次元数を29 -> **28** -> **27** -> **29**"
   ],
   "metadata": {
    "collapsed": false
   }
  },
  {
   "cell_type": "code",
   "execution_count": null,
   "outputs": [],
   "source": [
    "test_scores = []\n",
    "for _ in range(10):\n",
    "    model = Sequential(\n",
    "        [Dense(units=28, activation='linear', input_dim=29),\n",
    "         Dense(units=27, activation='linear'),\n",
    "         Dense(units=29, activation='linear'),\n",
    "         ]\n",
    "    )\n",
    "    avg_precision = simple_auto_encoder(model)\n",
    "    test_scores.append(avg_precision)\n",
    "print(test_scores)\n",
    "print(f\"Mean average prediction over 10 runs: {np.mean(test_scores)}\")\n",
    "print(f\"Coefficient of variation over 10 runs: {np.std(test_scores) / np.mean(test_scores)}\")"
   ],
   "metadata": {
    "collapsed": false,
    "is_executing": true
   }
  },
  {
   "cell_type": "markdown",
   "source": [
    "# 8.6 非線形オートエンコーダ\n",
    "## 活性化関数 linear -> leru\n",
    "## 隠れ層の次元数を29 -> **27** -> **22** ->　**27** -> **29**"
   ],
   "metadata": {
    "collapsed": false
   }
  },
  {
   "cell_type": "code",
   "execution_count": null,
   "outputs": [],
   "source": [
    "test_scores = []\n",
    "ACTIVATION = 'relu'\n",
    "for _ in range(10):\n",
    "    model = Sequential(\n",
    "        [Dense(units=27, activation=ACTIVATION, input_dim=29),\n",
    "         Dense(units=22, activation=ACTIVATION),\n",
    "         Dense(units=27, activation=ACTIVATION),\n",
    "         Dense(units=29, activation=ACTIVATION),\n",
    "         ]\n",
    "    )\n",
    "    avg_precision = simple_auto_encoder(model)\n",
    "    test_scores.append(avg_precision)"
   ],
   "metadata": {
    "collapsed": false,
    "is_executing": true
   }
  },
  {
   "cell_type": "code",
   "execution_count": null,
   "outputs": [],
   "source": [
    "print(test_scores)\n",
    "print(f\"Mean average prediction over 10 runs: {np.mean(test_scores)}\")\n",
    "print(f\"Coefficient of variation over 10 runs: {np.std(test_scores) / np.mean(test_scores)}\")"
   ],
   "metadata": {
    "collapsed": false,
    "is_executing": true
   }
  },
  {
   "cell_type": "markdown",
   "source": [
    "# 8.7 線形活性化関数を用いた過完備オートエンコーダ"
   ],
   "metadata": {
    "collapsed": false
   }
  },
  {
   "cell_type": "code",
   "execution_count": null,
   "outputs": [],
   "source": [
    "test_scores = []\n",
    "ACTIVATION = 'linear'\n",
    "for _ in range(10):\n",
    "    model = Sequential(\n",
    "        [Dense(units=40, activation=ACTIVATION, input_dim=29),\n",
    "         Dense(units=29, activation=ACTIVATION),\n",
    "         ]\n",
    "    )\n",
    "    avg_precision = simple_auto_encoder(model)\n",
    "    test_scores.append(avg_precision)"
   ],
   "metadata": {
    "collapsed": false,
    "is_executing": true
   }
  },
  {
   "cell_type": "code",
   "execution_count": null,
   "outputs": [],
   "source": [
    "print(test_scores)\n",
    "print(f\"Mean average prediction over 10 runs: {np.mean(test_scores)}\")\n",
    "print(f\"Coefficient of variation over 10 runs: {np.std(test_scores) / np.mean(test_scores)}\")"
   ],
   "metadata": {
    "collapsed": false,
    "is_executing": true
   }
  },
  {
   "cell_type": "markdown",
   "source": [
    "# 8.8 線形活性化関数を用いドロップアウトを適用した過完備オートエンコーダ"
   ],
   "metadata": {
    "collapsed": false
   }
  },
  {
   "cell_type": "code",
   "execution_count": null,
   "outputs": [],
   "source": [
    "from keras.src.layers import Dropout\n",
    "\n",
    "test_scores = []\n",
    "ACTIVATION = 'linear'\n",
    "for _ in range(10):\n",
    "    model = Sequential(\n",
    "        [Dense(units=40, activation=ACTIVATION, input_dim=29),\n",
    "         Dropout(0.10),\n",
    "         Dense(units=29, activation=ACTIVATION),\n",
    "         ]\n",
    "    )\n",
    "    avg_precision = simple_auto_encoder(model)\n",
    "    test_scores.append(avg_precision)"
   ],
   "metadata": {
    "collapsed": false,
    "is_executing": true
   }
  },
  {
   "cell_type": "code",
   "execution_count": null,
   "outputs": [],
   "source": [
    "print(test_scores)\n",
    "print(f\"Mean average prediction over 10 runs: {np.mean(test_scores)}\")\n",
    "print(f\"Coefficient of variation over 10 runs: {np.std(test_scores) / np.mean(test_scores)}\")"
   ],
   "metadata": {
    "collapsed": false,
    "is_executing": true
   }
  },
  {
   "cell_type": "code",
   "execution_count": null,
   "outputs": [],
   "source": [
    "from keras.src import regularizers\n",
    "\n",
    "# 8.9\n",
    "\n",
    "test_scores = []\n",
    "ACTIVATION = 'linear'\n",
    "for _ in range(10):\n",
    "    model = Sequential(\n",
    "        [Dense(units=40, activation=ACTIVATION, activity_regularizer=regularizers.l1(10e-5),input_dim=29),\n",
    "         Dropout(0.10),\n",
    "         Dense(units=29, activation=ACTIVATION),\n",
    "         ]\n",
    "    )\n",
    "    avg_precision = simple_auto_encoder(model)\n",
    "    test_scores.append(avg_precision)"
   ],
   "metadata": {
    "collapsed": false,
    "is_executing": true
   }
  },
  {
   "cell_type": "code",
   "execution_count": null,
   "outputs": [],
   "source": [
    "print(test_scores)\n",
    "print(f\"Mean average prediction over 10 runs: {np.mean(test_scores)}\")\n",
    "print(f\"Coefficient of variation over 10 runs: {np.std(test_scores) / np.mean(test_scores)}\")"
   ],
   "metadata": {
    "collapsed": false,
    "is_executing": true
   }
  },
  {
   "cell_type": "code",
   "execution_count": null,
   "outputs": [],
   "source": [],
   "metadata": {
    "collapsed": false,
    "is_executing": true
   }
  },
  {
   "cell_type": "code",
   "execution_count": null,
   "outputs": [],
   "source": [],
   "metadata": {
    "collapsed": false,
    "is_executing": true
   }
  }
 ],
 "metadata": {
  "kernelspec": {
   "display_name": "Python 3",
   "language": "python",
   "name": "python3"
  },
  "language_info": {
   "codemirror_mode": {
    "name": "ipython",
    "version": 2
   },
   "file_extension": ".py",
   "mimetype": "text/x-python",
   "name": "python",
   "nbconvert_exporter": "python",
   "pygments_lexer": "ipython2",
   "version": "2.7.6"
  }
 },
 "nbformat": 4,
 "nbformat_minor": 0
}
