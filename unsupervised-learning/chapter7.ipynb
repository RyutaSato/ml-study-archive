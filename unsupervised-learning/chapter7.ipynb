{
 "cells": [
  {
   "cell_type": "markdown",
   "metadata": {},
   "source": [
    "### TensorFlowの実行例"
   ]
  },
  {
   "cell_type": "code",
   "execution_count": 1,
   "metadata": {
    "ExecuteTime": {
     "end_time": "2023-05-22T05:19:52.134454Z",
     "start_time": "2023-05-22T05:19:47.531801Z"
    }
   },
   "outputs": [],
   "source": [
    "import tensorflow as tf"
   ]
  },
  {
   "cell_type": "code",
   "execution_count": 2,
   "metadata": {
    "ExecuteTime": {
     "end_time": "2023-05-22T05:20:58.538195Z",
     "start_time": "2023-05-22T05:20:58.535990Z"
    }
   },
   "outputs": [
    {
     "data": {
      "text/plain": "<tf.Tensor: shape=(), dtype=int32, numpy=50>"
     },
     "execution_count": 2,
     "metadata": {},
     "output_type": "execute_result"
    }
   ],
   "source": [
    "b: tf.Tensor = tf.constant(50)\n",
    "b"
   ]
  },
  {
   "cell_type": "code",
   "execution_count": 4,
   "outputs": [
    {
     "data": {
      "text/plain": "<tf.Tensor: shape=(2, 3), dtype=int32, numpy=\narray([[1, 2, 3],\n       [4, 5, 6]], dtype=int32)>"
     },
     "execution_count": 4,
     "metadata": {},
     "output_type": "execute_result"
    }
   ],
   "source": [
    "matrix: tf.Tensor = tf.constant([[1, 2, 3,], [4, 5, 6]])\n",
    "matrix"
   ],
   "metadata": {
    "collapsed": false,
    "ExecuteTime": {
     "end_time": "2023-05-22T05:36:11.360923Z",
     "start_time": "2023-05-22T05:36:11.353351Z"
    }
   }
  },
  {
   "cell_type": "code",
   "execution_count": 5,
   "outputs": [
    {
     "ename": "AttributeError",
     "evalue": "module 'tensorflow' has no attribute 'Session'",
     "output_type": "error",
     "traceback": [
      "\u001B[0;31m---------------------------------------------------------------------------\u001B[0m",
      "\u001B[0;31mAttributeError\u001B[0m                            Traceback (most recent call last)",
      "Cell \u001B[0;32mIn[5], line 3\u001B[0m\n\u001B[1;32m      1\u001B[0m x \u001B[38;5;241m=\u001B[39m b \u001B[38;5;241m*\u001B[39m \u001B[38;5;241m10\u001B[39m\n\u001B[1;32m      2\u001B[0m y \u001B[38;5;241m=\u001B[39m x \u001B[38;5;241m+\u001B[39m b\n\u001B[0;32m----> 3\u001B[0m \u001B[38;5;28;01mwith\u001B[39;00m \u001B[43mtf\u001B[49m\u001B[38;5;241;43m.\u001B[39;49m\u001B[43mSession\u001B[49m() \u001B[38;5;28;01mas\u001B[39;00m sess:\n\u001B[1;32m      4\u001B[0m     result \u001B[38;5;241m=\u001B[39m y\u001B[38;5;241m.\u001B[39meval()\n\u001B[1;32m      5\u001B[0m     \u001B[38;5;28mprint\u001B[39m(result)\n",
      "\u001B[0;31mAttributeError\u001B[0m: module 'tensorflow' has no attribute 'Session'"
     ]
    }
   ],
   "source": [
    "x = b * 10\n",
    "y = x + b\n",
    "# Tensorflow v1.Xの書き方\n",
    "with tf.Session() as sess:\n",
    "    result = y.eval()\n",
    "    print(result)"
   ],
   "metadata": {
    "collapsed": false,
    "ExecuteTime": {
     "end_time": "2023-05-22T05:54:27.098318Z",
     "start_time": "2023-05-22T05:54:26.446288Z"
    }
   }
  },
  {
   "cell_type": "code",
   "execution_count": 19,
   "outputs": [
    {
     "name": "stdout",
     "output_type": "stream",
     "text": [
      "tf.Tensor(550, shape=(), dtype=int32)\n",
      "numpy(): 550\n",
      "int(): 550\n"
     ]
    }
   ],
   "source": [
    "x = b * 10\n",
    "y:tf.Tensor = x + b\n",
    "print(y)\n",
    "print(f\"numpy(): {y.numpy()}\")\n",
    "print(f\"int(): {int(y)}\")"
   ],
   "metadata": {
    "collapsed": false,
    "ExecuteTime": {
     "end_time": "2023-05-22T06:03:06.333025Z",
     "start_time": "2023-05-22T06:03:06.324189Z"
    }
   }
  },
  {
   "cell_type": "code",
   "execution_count": null,
   "outputs": [],
   "source": [],
   "metadata": {
    "collapsed": false
   }
  }
 ],
 "metadata": {
  "celltoolbar": "スライドショー",
  "kernelspec": {
   "display_name": "Python 3 (ipykernel)",
   "language": "python",
   "name": "python3"
  },
  "language_info": {
   "codemirror_mode": {
    "name": "ipython",
    "version": 3
   },
   "file_extension": ".py",
   "mimetype": "text/x-python",
   "name": "python",
   "nbconvert_exporter": "python",
   "pygments_lexer": "ipython3",
   "version": "3.10.11"
  }
 },
 "nbformat": 4,
 "nbformat_minor": 1
}
