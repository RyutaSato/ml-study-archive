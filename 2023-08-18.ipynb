{
 "cells": [
  {
   "cell_type": "markdown",
   "source": [
    "\n",
    "## ロジスティック回帰モデルとlightGBMモデルを組み合わせる．\n",
    "\n",
    "### 背景\n",
    "- ロジスティック回帰モデルが高精度だった\n",
    "- 一般的により精度が高いとされるLightGBMモデルと組み合わせることで，より高い精度を出せる可能性がある．\n",
    "### 使用するデータセット\n",
    "- KDD99 10%\n",
    "### 手法\n",
    "### 結果\n",
    "### 考察"
   ],
   "metadata": {
    "collapsed": false
   },
   "id": "e001030ed958368b"
  },
  {
   "cell_type": "code",
   "execution_count": 1,
   "id": "initial_id",
   "metadata": {
    "collapsed": true,
    "ExecuteTime": {
     "end_time": "2023-08-17T20:14:37.640712700Z",
     "start_time": "2023-08-17T20:14:31.090983300Z"
    }
   },
   "outputs": [
    {
     "name": "stdout",
     "output_type": "stream",
     "text": [
      "python:      3.10.5\n",
      "sklearn:     1.2.2\n",
      "tensorflow:  2.13.0-rc0\n",
      "keras:       2.13.1rc0\n",
      "numpy:       1.23.5\n",
      "pandas:      1.5.3\n"
     ]
    }
   ],
   "source": [
    "from utils_kdd99 import *\n",
    "\n",
    "print_version()"
   ]
  },
  {
   "cell_type": "code",
   "execution_count": null,
   "outputs": [],
   "source": [
    "# load data\n",
    "with open(\"models/kdd99_features/x_train_df.pkl\", 'rb') as f:\n",
    "    x_train: pd.DataFrame = pickle.load(f)\n",
    "with open(\"models/kdd99_features/x_test_df.pkl\", 'rb') as f:\n",
    "    x_test: pd.DataFrame = pickle.load(f)\n",
    "with open(\"models/kdd99_features/y_train_df.pkl\", 'rb') as f:\n",
    "    y_train: pd.DataFrame = pickle.load(f)\n",
    "with open(\"models/kdd99_features/y_test_df.pkl\", 'rb') as f:\n",
    "    y_test: pd.DataFrame = pickle.load(f)\n",
    "with open(\"models/kdd99_features/x_train+ae_43_df&activation=relu&epochs=5&batch_size=32.pkl\", 'rb') as f:\n",
    "    x_train_with_ae: pd.DataFrame = pickle.load(f)\n",
    "with open(\"models/kdd99_features/x_test+ae_43_df&activation=relu&epochs=5&batch_size=32.pkl\", 'rb') as f:\n",
    "    x_test_with_ae: pd.DataFrame = pickle.load(f)"
   ],
   "metadata": {
    "collapsed": false
   },
   "id": "469c7ca63a84899e"
  }
 ],
 "metadata": {
  "kernelspec": {
   "display_name": "Python 3",
   "language": "python",
   "name": "python3"
  },
  "language_info": {
   "codemirror_mode": {
    "name": "ipython",
    "version": 2
   },
   "file_extension": ".py",
   "mimetype": "text/x-python",
   "name": "python",
   "nbconvert_exporter": "python",
   "pygments_lexer": "ipython2",
   "version": "2.7.6"
  }
 },
 "nbformat": 4,
 "nbformat_minor": 5
}
