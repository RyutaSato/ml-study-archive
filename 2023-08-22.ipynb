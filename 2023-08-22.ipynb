{
 "cells": [
  {
   "cell_type": "code",
   "execution_count": 1,
   "metadata": {
    "collapsed": true,
    "ExecuteTime": {
     "end_time": "2023-08-31T08:04:55.645123Z",
     "start_time": "2023-08-31T08:04:52.229770Z"
    }
   },
   "outputs": [
    {
     "name": "stdout",
     "output_type": "stream",
     "text": [
      "python:      3.10.11\n",
      "sklearn:     1.2.2\n",
      "tensorflow:  2.12.0\n",
      "keras:       2.12.0\n",
      "numpy:       1.23.5\n",
      "pandas:      1.5.3\n"
     ]
    }
   ],
   "source": [
    "import numpy as np\n",
    "\n",
    "from two_step_classification import *\n",
    "print_version()"
   ]
  },
  {
   "cell_type": "code",
   "execution_count": 2,
   "outputs": [],
   "source": [
    "# load data\n",
    "x_train: pd.DataFrame = pd.read_pickle(\"models/kdd99_features/x_train_df.pkl\")\n",
    "x_test: pd.DataFrame = pd.read_pickle(\"models/kdd99_features/x_test_df.pkl\")\n",
    "y_train: pd.Series = pd.read_pickle(\"models/kdd99_features/y_train_df.pkl\")\n",
    "y_test: pd.Series = pd.read_pickle(\"models/kdd99_features/y_test_df.pkl\")\n",
    "x_train_ae_48: pd.DataFrame = pd.read_pickle(\"models/kdd99_features/x_train+ae_48_df&activation=relu&epochs=5&batch_size=32.pkl\")\n",
    "x_test_ae_48: pd.DataFrame = pd.read_pickle(\"models/kdd99_features/x_test+ae_48_df&activation=relu&epochs=5&batch_size=32.pkl\")"
   ],
   "metadata": {
    "collapsed": false,
    "ExecuteTime": {
     "end_time": "2023-08-31T08:04:55.859393Z",
     "start_time": "2023-08-31T08:04:55.647255Z"
    }
   }
  },
  {
   "cell_type": "code",
   "execution_count": 3,
   "outputs": [],
   "source": [
    "lr_binary_dir = 'models/logistic_regression_binary/'\n",
    "lr_anomaly_dir = 'models/logistic_regression_anomaly/'\n",
    "lgb_binary_dir = 'models/lightgbm/'\n"
   ],
   "metadata": {
    "collapsed": false,
    "ExecuteTime": {
     "end_time": "2023-08-31T08:04:55.862673Z",
     "start_time": "2023-08-31T08:04:55.860728Z"
    }
   }
  },
  {
   "cell_type": "code",
   "execution_count": 4,
   "outputs": [
    {
     "name": "stdout",
     "output_type": "stream",
     "text": [
      "0    129201\n",
      "2      1310\n",
      "3       326\n",
      "4         9\n",
      "dtype: int64\n",
      "              precision    recall  f1-score   support\n",
      "\n",
      "           0       0.99      1.00      1.00     32102\n",
      "           1       1.00      1.00      1.00    130925\n",
      "\n",
      "    accuracy                           1.00    163027\n",
      "   macro avg       1.00      1.00      1.00    163027\n",
      "weighted avg       1.00      1.00      1.00    163027\n",
      "\n",
      "              precision    recall  f1-score   support\n",
      "\n",
      "         dos       1.00      1.00      1.00    129181\n",
      "      normal       0.99      1.00      1.00     32102\n",
      "       probe       0.97      0.94      0.96      1355\n",
      "         r2l       0.89      0.78      0.83       372\n",
      "         u2r       0.78      0.41      0.54        17\n",
      "\n",
      "    accuracy                           1.00    163027\n",
      "   macro avg       0.93      0.83      0.86    163027\n",
      "weighted avg       1.00      1.00      1.00    163027\n",
      "\n",
      "              normal  anomaly\n",
      "true_normal    31983      119\n",
      "true_anomaly     198   130727\n",
      "                dos  normal  probe  r2l  u2r\n",
      "true_dos     129137      42      0    2    0\n",
      "true_normal      53   31983     31   34    1\n",
      "true_probe       10      69   1276    0    0\n",
      "true_r2l          1      77      3  290    1\n",
      "true_u2r          0      10      0    0    7\n"
     ]
    },
    {
     "data": {
      "text/plain": "(              normal  anomaly\n true_normal    31983      119\n true_anomaly     198   130727,\n                 dos  normal  probe  r2l  u2r\n true_dos     129137      42      0    2    0\n true_normal      53   31983     31   34    1\n true_probe       10      69   1276    0    0\n true_r2l          1      77      3  290    1\n true_u2r          0      10      0    0    7)"
     },
     "execution_count": 4,
     "metadata": {},
     "output_type": "execute_result"
    }
   ],
   "source": [
    "#\n",
    "with open(\"models/logistic_regression_binary/kdd99+ae_48&penalty=l1&solver=liblinear&C=0.1.pkl\", 'rb') as fp:\n",
    "    model_1st: LogisticRegression = pickle.load(fp)\n",
    "with open(\"models/logistic_regression_anomaly/kdd99+ae_48&penalty=l1&solver=liblinear&C=0.1.pkl\", 'rb') as fp:\n",
    "    model_2nd: LogisticRegression = pickle.load(fp)\n",
    "two_step_classification(x_test_ae_48, y_test, model_1st, model_2nd, verbose=2)\n"
   ],
   "metadata": {
    "collapsed": false,
    "ExecuteTime": {
     "end_time": "2023-08-31T08:04:56.430682Z",
     "start_time": "2023-08-31T08:04:55.861599Z"
    }
   }
  },
  {
   "cell_type": "code",
   "execution_count": 7,
   "outputs": [
    {
     "name": "stdout",
     "output_type": "stream",
     "text": [
      "0    129186\n",
      "2      1335\n",
      "3       352\n",
      "1        25\n",
      "4        12\n",
      "dtype: int64\n",
      "              precision    recall  f1-score   support\n",
      "\n",
      "           0       1.00      1.00      1.00     32102\n",
      "           1       1.00      1.00      1.00    130925\n",
      "\n",
      "    accuracy                           1.00    163027\n",
      "   macro avg       1.00      1.00      1.00    163027\n",
      "weighted avg       1.00      1.00      1.00    163027\n",
      "\n",
      "              precision    recall  f1-score   support\n",
      "\n",
      "         dos       1.00      1.00      1.00    129181\n",
      "      normal       1.00      1.00      1.00     32102\n",
      "       probe       1.00      0.98      0.99      1355\n",
      "         r2l       0.99      0.94      0.96       372\n",
      "         u2r       0.83      0.59      0.69        17\n",
      "\n",
      "    accuracy                           1.00    163027\n",
      "   macro avg       0.96      0.90      0.93    163027\n",
      "weighted avg       1.00      1.00      1.00    163027\n",
      "\n",
      "              normal  anomaly\n",
      "true_normal    32089       13\n",
      "true_anomaly      28   130897\n",
      "                dos  normal  probe  r2l  u2r\n",
      "true_dos     129175       6      0    0    0\n",
      "true_normal       4   32093      1    3    1\n",
      "true_probe        6      15   1334    0    0\n",
      "true_r2l          1      21      0  349    1\n",
      "true_u2r          0       7      0    0   10\n"
     ]
    },
    {
     "data": {
      "text/plain": "(              normal  anomaly\n true_normal    32089       13\n true_anomaly      28   130897,\n                 dos  normal  probe  r2l  u2r\n true_dos     129175       6      0    0    0\n true_normal       4   32093      1    3    1\n true_probe        6      15   1334    0    0\n true_r2l          1      21      0  349    1\n true_u2r          0       7      0    0   10)"
     },
     "execution_count": 7,
     "metadata": {},
     "output_type": "execute_result"
    }
   ],
   "source": [
    "model_1st: lgb.Booster = lgb.Booster(model_file=\"models/lightgbm/lgb_binary_tuned_booster.model\")\n",
    "model_2nd: lgb.Booster = lgb.Booster(model_file=\"models/lightgbm/lgb_tuned_booster.model\")\n",
    "two_step_classification(x_test, y_test, model_1st, model_2nd, verbose=2)"
   ],
   "metadata": {
    "collapsed": false,
    "ExecuteTime": {
     "end_time": "2023-08-31T08:07:54.015409Z",
     "start_time": "2023-08-31T08:07:53.169386Z"
    }
   }
  },
  {
   "cell_type": "code",
   "execution_count": 6,
   "outputs": [
    {
     "ename": "AxisError",
     "evalue": "axis 1 is out of bounds for array of dimension 1",
     "output_type": "error",
     "traceback": [
      "\u001B[0;31m---------------------------------------------------------------------------\u001B[0m",
      "\u001B[0;31mAxisError\u001B[0m                                 Traceback (most recent call last)",
      "Cell \u001B[0;32mIn[6], line 2\u001B[0m\n\u001B[1;32m      1\u001B[0m tmp \u001B[38;5;241m=\u001B[39m np\u001B[38;5;241m.\u001B[39marray([\u001B[38;5;241m0.1\u001B[39m, \u001B[38;5;241m0.5\u001B[39m, \u001B[38;5;241m1.2\u001B[39m])\n\u001B[0;32m----> 2\u001B[0m \u001B[43mnp\u001B[49m\u001B[38;5;241;43m.\u001B[39;49m\u001B[43margmax\u001B[49m\u001B[43m(\u001B[49m\u001B[43mtmp\u001B[49m\u001B[43m,\u001B[49m\u001B[43m \u001B[49m\u001B[43maxis\u001B[49m\u001B[38;5;241;43m=\u001B[39;49m\u001B[38;5;241;43m1\u001B[39;49m\u001B[43m)\u001B[49m\n",
      "File \u001B[0;32m<__array_function__ internals>:180\u001B[0m, in \u001B[0;36margmax\u001B[0;34m(*args, **kwargs)\u001B[0m\n",
      "File \u001B[0;32m~/anaconda3/lib/python3.10/site-packages/numpy/core/fromnumeric.py:1216\u001B[0m, in \u001B[0;36margmax\u001B[0;34m(a, axis, out, keepdims)\u001B[0m\n\u001B[1;32m   1129\u001B[0m \u001B[38;5;250m\u001B[39m\u001B[38;5;124;03m\"\"\"\u001B[39;00m\n\u001B[1;32m   1130\u001B[0m \u001B[38;5;124;03mReturns the indices of the maximum values along an axis.\u001B[39;00m\n\u001B[1;32m   1131\u001B[0m \n\u001B[0;32m   (...)\u001B[0m\n\u001B[1;32m   1213\u001B[0m \u001B[38;5;124;03m(2, 1, 4)\u001B[39;00m\n\u001B[1;32m   1214\u001B[0m \u001B[38;5;124;03m\"\"\"\u001B[39;00m\n\u001B[1;32m   1215\u001B[0m kwds \u001B[38;5;241m=\u001B[39m {\u001B[38;5;124m'\u001B[39m\u001B[38;5;124mkeepdims\u001B[39m\u001B[38;5;124m'\u001B[39m: keepdims} \u001B[38;5;28;01mif\u001B[39;00m keepdims \u001B[38;5;129;01mis\u001B[39;00m \u001B[38;5;129;01mnot\u001B[39;00m np\u001B[38;5;241m.\u001B[39m_NoValue \u001B[38;5;28;01melse\u001B[39;00m {}\n\u001B[0;32m-> 1216\u001B[0m \u001B[38;5;28;01mreturn\u001B[39;00m \u001B[43m_wrapfunc\u001B[49m\u001B[43m(\u001B[49m\u001B[43ma\u001B[49m\u001B[43m,\u001B[49m\u001B[43m \u001B[49m\u001B[38;5;124;43m'\u001B[39;49m\u001B[38;5;124;43margmax\u001B[39;49m\u001B[38;5;124;43m'\u001B[39;49m\u001B[43m,\u001B[49m\u001B[43m \u001B[49m\u001B[43maxis\u001B[49m\u001B[38;5;241;43m=\u001B[39;49m\u001B[43maxis\u001B[49m\u001B[43m,\u001B[49m\u001B[43m \u001B[49m\u001B[43mout\u001B[49m\u001B[38;5;241;43m=\u001B[39;49m\u001B[43mout\u001B[49m\u001B[43m,\u001B[49m\u001B[43m \u001B[49m\u001B[38;5;241;43m*\u001B[39;49m\u001B[38;5;241;43m*\u001B[39;49m\u001B[43mkwds\u001B[49m\u001B[43m)\u001B[49m\n",
      "File \u001B[0;32m~/anaconda3/lib/python3.10/site-packages/numpy/core/fromnumeric.py:57\u001B[0m, in \u001B[0;36m_wrapfunc\u001B[0;34m(obj, method, *args, **kwds)\u001B[0m\n\u001B[1;32m     54\u001B[0m     \u001B[38;5;28;01mreturn\u001B[39;00m _wrapit(obj, method, \u001B[38;5;241m*\u001B[39margs, \u001B[38;5;241m*\u001B[39m\u001B[38;5;241m*\u001B[39mkwds)\n\u001B[1;32m     56\u001B[0m \u001B[38;5;28;01mtry\u001B[39;00m:\n\u001B[0;32m---> 57\u001B[0m     \u001B[38;5;28;01mreturn\u001B[39;00m \u001B[43mbound\u001B[49m\u001B[43m(\u001B[49m\u001B[38;5;241;43m*\u001B[39;49m\u001B[43margs\u001B[49m\u001B[43m,\u001B[49m\u001B[43m \u001B[49m\u001B[38;5;241;43m*\u001B[39;49m\u001B[38;5;241;43m*\u001B[39;49m\u001B[43mkwds\u001B[49m\u001B[43m)\u001B[49m\n\u001B[1;32m     58\u001B[0m \u001B[38;5;28;01mexcept\u001B[39;00m \u001B[38;5;167;01mTypeError\u001B[39;00m:\n\u001B[1;32m     59\u001B[0m     \u001B[38;5;66;03m# A TypeError occurs if the object does have such a method in its\u001B[39;00m\n\u001B[1;32m     60\u001B[0m     \u001B[38;5;66;03m# class, but its signature is not identical to that of NumPy's. This\u001B[39;00m\n\u001B[0;32m   (...)\u001B[0m\n\u001B[1;32m     64\u001B[0m     \u001B[38;5;66;03m# Call _wrapit from within the except clause to ensure a potential\u001B[39;00m\n\u001B[1;32m     65\u001B[0m     \u001B[38;5;66;03m# exception has a traceback chain.\u001B[39;00m\n\u001B[1;32m     66\u001B[0m     \u001B[38;5;28;01mreturn\u001B[39;00m _wrapit(obj, method, \u001B[38;5;241m*\u001B[39margs, \u001B[38;5;241m*\u001B[39m\u001B[38;5;241m*\u001B[39mkwds)\n",
      "\u001B[0;31mAxisError\u001B[0m: axis 1 is out of bounds for array of dimension 1"
     ]
    }
   ],
   "source": [
    "tmp = np.array([0.1, 0.5, 1.2])\n",
    "np.argmax(tmp, axis=1)"
   ],
   "metadata": {
    "collapsed": false,
    "ExecuteTime": {
     "end_time": "2023-08-31T08:04:57.552452Z",
     "start_time": "2023-08-31T08:04:57.039855Z"
    }
   }
  },
  {
   "cell_type": "code",
   "execution_count": null,
   "outputs": [],
   "source": [
    "pd.Series(np.argmax(model_2nd.predict(x_train), axis=1)).value_counts()"
   ],
   "metadata": {
    "collapsed": false,
    "ExecuteTime": {
     "start_time": "2023-08-31T08:04:57.552064Z"
    }
   }
  },
  {
   "cell_type": "code",
   "execution_count": null,
   "outputs": [],
   "source": [
    "model_1st: lgb.Booster = lgb.Booster(model_file=\"models/lightgbm/lgb+ae_48_binary_tuned_booster.model\")\n",
    "model_2nd: lgb.Booster = lgb.Booster(model_file=\"models/lightgbm/lgb+ae_48_anomaly_tuned_booster.model\")\n",
    "two_step_classification(x_test_ae_48, y_test, model_1st, model_2nd, verbose=2)\n"
   ],
   "metadata": {
    "collapsed": false
   }
  },
  {
   "cell_type": "code",
   "execution_count": null,
   "outputs": [],
   "source": [],
   "metadata": {
    "collapsed": false
   }
  },
  {
   "cell_type": "code",
   "execution_count": null,
   "outputs": [],
   "source": [],
   "metadata": {
    "collapsed": false
   }
  },
  {
   "cell_type": "code",
   "execution_count": null,
   "outputs": [],
   "source": [],
   "metadata": {
    "collapsed": false
   }
  },
  {
   "cell_type": "code",
   "execution_count": null,
   "outputs": [],
   "source": [],
   "metadata": {
    "collapsed": false
   }
  }
 ],
 "metadata": {
  "kernelspec": {
   "display_name": "Python 3",
   "language": "python",
   "name": "python3"
  },
  "language_info": {
   "codemirror_mode": {
    "name": "ipython",
    "version": 2
   },
   "file_extension": ".py",
   "mimetype": "text/x-python",
   "name": "python",
   "nbconvert_exporter": "python",
   "pygments_lexer": "ipython2",
   "version": "2.7.6"
  }
 },
 "nbformat": 4,
 "nbformat_minor": 0
}
