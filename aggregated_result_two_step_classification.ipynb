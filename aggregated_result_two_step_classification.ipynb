{
 "cells": [
  {
   "cell_type": "code",
   "execution_count": 1,
   "metadata": {
    "collapsed": true,
    "ExecuteTime": {
     "end_time": "2023-09-13T23:43:45.898212Z",
     "start_time": "2023-09-13T23:43:42.661932Z"
    }
   },
   "outputs": [
    {
     "name": "stdout",
     "output_type": "stream",
     "text": [
      "ran:  2023-09-14 08:43:45.597134\n",
      "python:      3.10.11\n",
      "sklearn:     1.2.2\n",
      "tensorflow:  2.12.0\n",
      "keras:       2.12.0\n",
      "numpy:       1.23.5\n",
      "pandas:      1.5.3\n"
     ]
    }
   ],
   "source": [
    "from two_step_classification import *\n",
    "print_version()"
   ]
  },
  {
   "cell_type": "code",
   "execution_count": 2,
   "outputs": [],
   "source": [
    "results: list[dict[str, ]] = []"
   ],
   "metadata": {
    "collapsed": false,
    "ExecuteTime": {
     "end_time": "2023-09-13T23:43:45.898383Z",
     "start_time": "2023-09-13T23:43:45.600597Z"
    }
   }
  },
  {
   "cell_type": "code",
   "execution_count": 3,
   "outputs": [],
   "source": [
    "# load data\n",
    "data_names = [\"models/kdd99_features/y_test_df.pkl\",\n",
    "              \"models/kdd99_features/x_test_df.pkl\",\n",
    "              \"models/kdd99_features/x_test-drop_25_df.pkl\",\n",
    "              \"models/kdd99_features/x_test-drop+ae_30_df&activation=relu&epochs=5&batch_size=32.pkl\",\n",
    "              \"models/kdd99_features/x_test-drop+ae_35_df&activation=relu&epochs=5&batch_size=32.pkl\",\n",
    "              \"models/kdd99_features/x_test-drop+ae_40_df&activation=relu&epochs=5&batch_size=32.pkl\",\n",
    "              \"models/kdd99_features/x_test+ae_43_df&activation=relu&epochs=5&batch_size=32.pkl\",\n",
    "              \"models/kdd99_features/x_test+ae_48_df&activation=relu&epochs=5&batch_size=32.pkl\",\n",
    "              ]\n",
    "lgb_names = [\"models/lightgbm/lgb_dropped+ae_30_\"]\n",
    "y_test: pd.Series = pd.read_pickle()\n",
    "y_test_binary: pd.Series = y_test.apply(lambda x: 0 if x == 1 else 1)\n",
    "y_test_anomaly: pd.Series = pd.read_pickle(\"models/kdd99_features/y_test_dropped_mapped_series.pkl\")"
   ],
   "metadata": {
    "collapsed": false,
    "ExecuteTime": {
     "end_time": "2023-09-13T23:43:45.898452Z",
     "start_time": "2023-09-13T23:43:45.603249Z"
    }
   }
  },
  {
   "cell_type": "code",
   "execution_count": 4,
   "outputs": [],
   "source": [
    "dir_names_1st = \"models/logistic_regression_binary/\"\n",
    "dir_names_2nd = \"models/logistic_regression_anomaly/\"\n",
    "model_names = []\n",
    "os.listdir(dir_name2)\n"
   ],
   "metadata": {
    "collapsed": false,
    "ExecuteTime": {
     "end_time": "2023-09-13T23:43:45.898522Z",
     "start_time": "2023-09-13T23:43:45.605769Z"
    }
   }
  },
  {
   "cell_type": "code",
   "execution_count": 7,
   "outputs": [],
   "source": [],
   "metadata": {
    "collapsed": false,
    "ExecuteTime": {
     "end_time": "2023-09-13T23:46:05.984840Z",
     "start_time": "2023-09-13T23:46:05.934326Z"
    }
   }
  }
 ],
 "metadata": {
  "kernelspec": {
   "display_name": "Python 3",
   "language": "python",
   "name": "python3"
  },
  "language_info": {
   "codemirror_mode": {
    "name": "ipython",
    "version": 2
   },
   "file_extension": ".py",
   "mimetype": "text/x-python",
   "name": "python",
   "nbconvert_exporter": "python",
   "pygments_lexer": "ipython2",
   "version": "2.7.6"
  }
 },
 "nbformat": 4,
 "nbformat_minor": 0
}
