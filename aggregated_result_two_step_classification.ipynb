{
 "cells": [
  {
   "cell_type": "code",
   "execution_count": 2,
   "metadata": {
    "collapsed": true,
    "ExecuteTime": {
     "end_time": "2023-09-14T00:08:44.743482Z",
     "start_time": "2023-09-14T00:08:41.125898Z"
    }
   },
   "outputs": [
    {
     "name": "stdout",
     "output_type": "stream",
     "text": [
      "ran:  2023-09-14 09:08:44.740982\n",
      "python:      3.10.11\n",
      "sklearn:     1.2.2\n",
      "tensorflow:  2.12.0\n",
      "keras:       2.12.0\n",
      "numpy:       1.23.5\n",
      "pandas:      1.5.3\n"
     ]
    }
   ],
   "source": [
    "from two_step_classification import *\n",
    "print_version()"
   ]
  },
  {
   "cell_type": "code",
   "execution_count": 3,
   "outputs": [],
   "source": [
    "results: list[dict[str, ]] = []"
   ],
   "metadata": {
    "collapsed": false,
    "ExecuteTime": {
     "end_time": "2023-09-14T00:08:44.747181Z",
     "start_time": "2023-09-14T00:08:44.744674Z"
    }
   }
  },
  {
   "cell_type": "code",
   "execution_count": 4,
   "outputs": [],
   "source": [
    "# load data\n",
    "data_paths = [\"models/kdd99_features/x_test_df.pkl\",\n",
    "              \"models/kdd99_features/x_test-drop_25_df.pkl\",\n",
    "              \"models/kdd99_features/x_test-drop+ae_30_df&activation=relu&epochs=5&batch_size=32.pkl\",\n",
    "              \"models/kdd99_features/x_test-drop+ae_35_df&activation=relu&epochs=5&batch_size=32.pkl\",\n",
    "              \"models/kdd99_features/x_test-drop+ae_40_df&activation=relu&epochs=5&batch_size=32.pkl\",\n",
    "              \"models/kdd99_features/x_test+ae_43_df&activation=relu&epochs=5&batch_size=32.pkl\",\n",
    "              \"models/kdd99_features/x_test+ae_48_df&activation=relu&epochs=5&batch_size=32.pkl\",\n",
    "              ]\n",
    "lgb_binary_paths = [\"models/lightgbm/lgb_dropped_binary_tuned_booster.model\",\n",
    "                    \"models/lightgbm/lgb_dropped_25_binary_tuned_booster.model\",\n",
    "                    \"models/lightgbm/lgb_dropped+ae_30_binary_tuned_booster.model\",\n",
    "                    \"models/lightgbm/lgb_dropped+ae_35_binary_tuned_booster.model\",\n",
    "                    \"models/lightgbm/lgb_dropped+ae_40_binary_tuned_booster.model\",\n",
    "                    \"models/lightgbm/lgb+ae_43_binary_tuned_booster.model\",\n",
    "                    \"models/lightgbm/lgb+ae_48_binary_tuned_booster.model\",\n",
    "                    ]\n",
    "lgb_anomaly_paths = [\"models/lightgbm/lgb_anomaly_tuned_booster.model\",\n",
    "                    \"models/lightgbm/lgb_dropped_25_mapped_anomaly_tuned_booster.model\",\n",
    "                    \"models/lightgbm/lgb_dropped+ae_30_mapped_anomaly_tuned_booster.model\",\n",
    "                    \"models/lightgbm/lgb_dropped+ae_35_mapped_anomaly_tuned_booster.model\",\n",
    "                    \"models/lightgbm/lgb_dropped+ae_40_mapped_anomaly_tuned_booster.model\",\n",
    "                    \"models/lightgbm/lgb+ae_43_mapped_anomaly_tuned_booster.model\",\n",
    "                    \"models/lightgbm/lgb+ae_48_mapped_anomaly_tuned_booster.model\",]\n",
    "\n"
   ],
   "metadata": {
    "collapsed": false,
    "ExecuteTime": {
     "end_time": "2023-09-14T00:08:44.750989Z",
     "start_time": "2023-09-14T00:08:44.748198Z"
    }
   }
  },
  {
   "cell_type": "code",
   "execution_count": 5,
   "outputs": [],
   "source": [
    "y_test: pd.Series = pd.read_pickle(\"models/kdd99_features/y_test_df.pkl\")\n",
    "y_test_binary: pd.Series = y_test.apply(lambda x: 0 if x == 1 else 1)\n",
    "y_test_anomaly: pd.Series = pd.read_pickle(\"models/kdd99_features/y_test_dropped_mapped_series.pkl\")\n",
    "\n",
    "def predict(x_path, path_1st, path_2nd):\n",
    "    x_test = pd.read_pickle(x_path)\n",
    "    model_1st: lgb.Booster = lgb.Booster(model_file=path_1st)\n",
    "    model_2nd: lgb.Booster = lgb.Booster(model_file=path_2nd)\n",
    "    y_pred_binary = classification_normal_and_anomaly(x_test, model_1st)\n",
    "    predicted_indexes = y_pred_binary[y_pred_binary == 1].index\n",
    "    x_anomalies = x_test.loc[predicted_indexes]\n",
    "    y_pred_anomalies: pd.Series = classification_anomalies(x_anomalies, model_2nd)\n",
    "    y_pred_anomalies = y_pred_anomalies.apply(lambda x: wrapper[x])\n",
    "    y_pred_normal: pd.Series = y_pred_binary[y_pred_binary == 0].apply(lambda _: 1)\n",
    "    y_pred = pd.concat([y_pred_normal, y_pred_anomalies])\n",
    "    \n",
    "    y_test_binary = y_test.apply(lambda x: 0 if x == 1 else 1)\n",
    "    \n",
    "    cm_1st = confusion_matrix_df(y_test_binary.sort_index(), y_pred_binary.sort_index(), labels=['normal', 'anomaly'])\n",
    "    \n",
    "    cm_2nd = confusion_matrix_df(y_test.sort_index(), y_pred.sort_index())\n",
    "    \n",
    "    print(classification_report(y_test.sort_index(), y_pred.sort_index()))"
   ],
   "metadata": {
    "collapsed": false,
    "ExecuteTime": {
     "end_time": "2023-09-14T00:08:44.786514Z",
     "start_time": "2023-09-14T00:08:44.752776Z"
    }
   }
  },
  {
   "cell_type": "code",
   "execution_count": 7,
   "outputs": [],
   "source": [],
   "metadata": {
    "collapsed": false,
    "ExecuteTime": {
     "end_time": "2023-09-13T23:46:05.984840Z",
     "start_time": "2023-09-13T23:46:05.934326Z"
    }
   }
  }
 ],
 "metadata": {
  "kernelspec": {
   "display_name": "Python 3",
   "language": "python",
   "name": "python3"
  },
  "language_info": {
   "codemirror_mode": {
    "name": "ipython",
    "version": 2
   },
   "file_extension": ".py",
   "mimetype": "text/x-python",
   "name": "python",
   "nbconvert_exporter": "python",
   "pygments_lexer": "ipython2",
   "version": "2.7.6"
  }
 },
 "nbformat": 4,
 "nbformat_minor": 0
}
