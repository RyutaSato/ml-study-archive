{
 "cells": [
  {
   "cell_type": "code",
   "execution_count": 15,
   "metadata": {},
   "outputs": [],
   "source": [
    "import base64\n",
    "import json\n",
    "import pandas as pd\n",
    "import numpy as np\n",
    "preprocesses = (\n",
    "    'none',\n",
    "    'ae_standardization',\n",
    "    'ae_normalization',\n",
    "    'standardization',\n",
    "    'normalization'\n",
    ")\n",
    "layers = (\n",
    "    [0],\n",
    "    [20, 10, 5],\n",
    "    [20, 15, 10],\n",
    "    [20, 15, 10, 5]\n",
    ")\n",
    "models = ('lr', 'svm', 'rf', 'mp', 'lgb')\n",
    "\n",
    "datasets = ('kdd99', 'kdd99_dropped', 'creditcardfraud', 'ecoli', 'optical_digits', 'satimage', 'pen_digits', 'abalone', 'sick_euthyroid',\n",
    "              'spectrometer', 'car_eval_34', 'isolet', 'us_crime', 'yeast_ml8', 'scene', 'libras_move', 'thyroid_sick', 'coil_2000',\n",
    "              'arrhythmia', 'solar_flare_m0', 'oil', 'car_eval_4', 'wine_quality', 'letter_img', 'yeast_me2', 'webpage',\n",
    "              'ozone_level', 'mammography', 'protein_homo', 'abalone_19')\n",
    "\n",
    "used_classes = ('all', 'minority', 'majority')\n",
    "\n",
    "\n",
    "def gen_hash(preprocess, layer, model, dataset, used_class, optuna) -> str:\n",
    "    return base64.b64encode(\"\".join([\n",
    "        str(preprocess),\n",
    "        str(layer),\n",
    "        str(model),\n",
    "        str(dataset),\n",
    "        str(used_class),\n",
    "        str(optuna)\n",
    "    ]).encode()).decode()"
   ]
  },
  {
   "cell_type": "code",
   "execution_count": 21,
   "metadata": {},
   "outputs": [],
   "source": [
    "with open(\"results/results.json\") as f:\n",
    "        data = json.load(f)\n",
    "results = dict()\n",
    "for result in data:\n",
    "    results[result['hash']] = {\n",
    "        'minority': result['result']['minority']['f1'],\n",
    "        'macro': result['result']['macro']['f1'],\n",
    "    }"
   ]
  },
  {
   "cell_type": "code",
   "execution_count": 22,
   "metadata": {},
   "outputs": [
    {
     "data": {
      "text/plain": [
       "{'minority': 0.0, 'macro': 0.4017}"
      ]
     },
     "execution_count": 22,
     "metadata": {},
     "output_type": "execute_result"
    }
   ],
   "source": [
    "results[gen_hash('none', [0], 'lr','kdd99', 'all', False)]"
   ]
  },
  {
   "cell_type": "code",
   "execution_count": 24,
   "metadata": {},
   "outputs": [],
   "source": [
    "pp = preprocesses[0]\n",
    "mdl = models[0]\n",
    "aeclass = used_classes[0]\n",
    "minority_df = pd.DataFrame({\n",
    "    dataset: {\n",
    "        str(layer): results[gen_hash(pp, layer, mdl, dataset, aeclass, False)]['minority']\n",
    "        for layer in layers\n",
    "    } for dataset in datasets\n",
    "})\n",
    "macro_df = pd.DataFrame({\n",
    "    dataset: {\n",
    "        str(layer): results[gen_hash(pp, layer, mdl, dataset, aeclass, False)]['macro']\n",
    "        for layer in layers\n",
    "    } for dataset in datasets\n",
    "})"
   ]
  },
  {
   "cell_type": "code",
   "execution_count": 28,
   "metadata": {},
   "outputs": [],
   "source": [
    "minority_df.T.to_latex('results/minority.tex')"
   ]
  },
  {
   "cell_type": "code",
   "execution_count": null,
   "metadata": {},
   "outputs": [],
   "source": []
  }
 ],
 "metadata": {
  "kernelspec": {
   "display_name": ".venv",
   "language": "python",
   "name": "python3"
  },
  "language_info": {
   "codemirror_mode": {
    "name": "ipython",
    "version": 3
   },
   "file_extension": ".py",
   "mimetype": "text/x-python",
   "name": "python",
   "nbconvert_exporter": "python",
   "pygments_lexer": "ipython3",
   "version": "3.9.6"
  }
 },
 "nbformat": 4,
 "nbformat_minor": 2
}
