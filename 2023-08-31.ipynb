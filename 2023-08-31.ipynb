{
 "cells": [
  {
   "cell_type": "code",
   "execution_count": 1,
   "metadata": {
    "collapsed": true,
    "ExecuteTime": {
     "end_time": "2023-09-11T12:53:13.656679Z",
     "start_time": "2023-09-11T12:53:09.932503Z"
    }
   },
   "outputs": [
    {
     "name": "stdout",
     "output_type": "stream",
     "text": [
      "python:      3.10.11\n",
      "sklearn:     1.2.2\n",
      "tensorflow:  2.12.0\n",
      "keras:       2.12.0\n",
      "numpy:       1.23.5\n",
      "pandas:      1.5.3\n"
     ]
    }
   ],
   "source": [
    "import numpy as np\n",
    "\n",
    "from two_step_classification import *\n",
    "print_version()"
   ]
  },
  {
   "cell_type": "code",
   "execution_count": 2,
   "outputs": [],
   "source": [
    "# load data\n",
    "x_test: pd.DataFrame = pd.read_pickle(\"models/kdd99_features/x_test-drop_25_df.pkl\")\n",
    "y_test: pd.Series = pd.read_pickle(\"models/kdd99_features/y_test_df.pkl\")\n",
    "y_test_binary: pd.Series = y_test.apply(lambda x: 0 if x == 1 else 1)\n",
    "y_test_anomaly: pd.Series = pd.read_pickle(\"models/kdd99_features/y_test_dropped_mapped_series.pkl\")\n",
    "x_test_ae_35: pd.DataFrame = pd.read_pickle(\"models/kdd99_features/x_test-drop+ae_35_df&activation=relu&epochs=5&batch_size=32.pkl\")"
   ],
   "metadata": {
    "collapsed": false,
    "ExecuteTime": {
     "end_time": "2023-09-11T12:53:13.793382Z",
     "start_time": "2023-09-11T12:53:13.657460Z"
    }
   }
  },
  {
   "cell_type": "code",
   "execution_count": 3,
   "outputs": [],
   "source": [
    "# load models\n",
    "with open(\"models/logistic_regression_binary/kdd99-drop_25&penalty=l1&solver=liblinear&C=0.1.pkl\", 'rb') as fp:\n",
    "    model_1st: LogisticRegression = pickle.load(fp)\n",
    "with open(\"models/logistic_regression_anomaly/kdd99-dropped_mapped&penalty=l1&solver=liblinear&C=1.pkl\", 'rb') as fp:\n",
    "    model_2nd: LogisticRegression = pickle.load(fp)"
   ],
   "metadata": {
    "collapsed": false,
    "ExecuteTime": {
     "end_time": "2023-09-11T12:53:13.836788Z",
     "start_time": "2023-09-11T12:53:13.760991Z"
    }
   }
  },
  {
   "cell_type": "code",
   "execution_count": 4,
   "outputs": [
    {
     "data": {
      "text/plain": "1    129863\n0     33164\ndtype: int64"
     },
     "execution_count": 4,
     "metadata": {},
     "output_type": "execute_result"
    }
   ],
   "source": [
    "# 第1段階: 正常と異常の2値分類\n",
    "y_pred_binary:pd.Series = classification_normal_and_anomaly(x_test, model_1st)\n",
    "predicted_indexes = y_pred_binary[y_pred_binary == 1].index\n",
    "y_pred_binary.value_counts()"
   ],
   "metadata": {
    "collapsed": false,
    "ExecuteTime": {
     "end_time": "2023-09-11T12:53:13.862529Z",
     "start_time": "2023-09-11T12:53:13.766932Z"
    }
   }
  },
  {
   "cell_type": "code",
   "execution_count": 5,
   "outputs": [
    {
     "data": {
      "text/plain": "1    33164\ndtype: int64"
     },
     "execution_count": 5,
     "metadata": {},
     "output_type": "execute_result"
    }
   ],
   "source": [
    "y_pred_normal: pd.Series = y_pred_binary[y_pred_binary == 0].apply(lambda _: 1)\n",
    "y_pred_normal.value_counts()"
   ],
   "metadata": {
    "collapsed": false,
    "ExecuteTime": {
     "end_time": "2023-09-11T12:53:13.863380Z",
     "start_time": "2023-09-11T12:53:13.846117Z"
    }
   }
  },
  {
   "cell_type": "code",
   "execution_count": 6,
   "outputs": [],
   "source": [
    "cm_1st = confusion_matrix_df(y_test_binary.sort_index(), y_pred_binary.sort_index(), labels=['normal', 'anomaly'])"
   ],
   "metadata": {
    "collapsed": false,
    "ExecuteTime": {
     "end_time": "2023-09-11T12:53:13.923378Z",
     "start_time": "2023-09-11T12:53:13.860744Z"
    }
   }
  },
  {
   "cell_type": "code",
   "execution_count": 7,
   "outputs": [
    {
     "data": {
      "text/plain": "0    128719\n2       929\n3       197\n4        18\ndtype: int64"
     },
     "execution_count": 7,
     "metadata": {},
     "output_type": "execute_result"
    }
   ],
   "source": [
    "# 第二段階\n",
    "x_anomalies: pd.DataFrame = x_test.loc[predicted_indexes]\n",
    "y_pred_anomalies: pd.Series = classification_anomalies(x_anomalies, model_2nd)\n",
    "wrapper = {0: 0, 1: 2, 2: 3, 3: 4}\n",
    "y_pred_anomalies = y_pred_anomalies.apply(lambda x: wrapper[x])\n",
    "y_pred_anomalies.value_counts()"
   ],
   "metadata": {
    "collapsed": false,
    "ExecuteTime": {
     "end_time": "2023-09-11T12:53:14.017416Z",
     "start_time": "2023-09-11T12:53:13.922102Z"
    }
   }
  },
  {
   "cell_type": "code",
   "execution_count": 8,
   "outputs": [],
   "source": [
    "y_pred = pd.concat([y_pred_normal, y_pred_anomalies])\n",
    "cm_2nd = confusion_matrix_df(y_test.sort_index(), y_pred.sort_index())"
   ],
   "metadata": {
    "collapsed": false,
    "ExecuteTime": {
     "end_time": "2023-09-11T12:53:14.102350Z",
     "start_time": "2023-09-11T12:53:14.055471Z"
    }
   }
  },
  {
   "cell_type": "code",
   "execution_count": 9,
   "outputs": [
    {
     "data": {
      "text/plain": "0    128719\n1     33164\n2       929\n3       197\n4        18\ndtype: int64"
     },
     "execution_count": 9,
     "metadata": {},
     "output_type": "execute_result"
    }
   ],
   "source": [
    "y_pred.value_counts()"
   ],
   "metadata": {
    "collapsed": false,
    "ExecuteTime": {
     "end_time": "2023-09-11T12:53:14.116513Z",
     "start_time": "2023-09-11T12:53:14.103494Z"
    }
   }
  },
  {
   "cell_type": "code",
   "execution_count": 10,
   "outputs": [
    {
     "data": {
      "text/plain": "              normal  anomaly\ntrue_normal    31666      436\ntrue_anomaly    1498   129427",
      "text/html": "<div>\n<style scoped>\n    .dataframe tbody tr th:only-of-type {\n        vertical-align: middle;\n    }\n\n    .dataframe tbody tr th {\n        vertical-align: top;\n    }\n\n    .dataframe thead th {\n        text-align: right;\n    }\n</style>\n<table border=\"1\" class=\"dataframe\">\n  <thead>\n    <tr style=\"text-align: right;\">\n      <th></th>\n      <th>normal</th>\n      <th>anomaly</th>\n    </tr>\n  </thead>\n  <tbody>\n    <tr>\n      <th>true_normal</th>\n      <td>31666</td>\n      <td>436</td>\n    </tr>\n    <tr>\n      <th>true_anomaly</th>\n      <td>1498</td>\n      <td>129427</td>\n    </tr>\n  </tbody>\n</table>\n</div>"
     },
     "execution_count": 10,
     "metadata": {},
     "output_type": "execute_result"
    }
   ],
   "source": [
    "cm_1st"
   ],
   "metadata": {
    "collapsed": false,
    "ExecuteTime": {
     "end_time": "2023-09-11T12:53:14.130045Z",
     "start_time": "2023-09-11T12:53:14.115093Z"
    }
   }
  },
  {
   "cell_type": "code",
   "execution_count": 11,
   "outputs": [
    {
     "data": {
      "text/plain": "                dos  normal  probe  r2l  u2r\ntrue_dos     128429     750      0    2    0\ntrue_normal     285   31666     36  106    9\ntrue_probe        2     459    892    1    1\ntrue_r2l          3     280      1   88    0\ntrue_u2r          0       9      0    0    8",
      "text/html": "<div>\n<style scoped>\n    .dataframe tbody tr th:only-of-type {\n        vertical-align: middle;\n    }\n\n    .dataframe tbody tr th {\n        vertical-align: top;\n    }\n\n    .dataframe thead th {\n        text-align: right;\n    }\n</style>\n<table border=\"1\" class=\"dataframe\">\n  <thead>\n    <tr style=\"text-align: right;\">\n      <th></th>\n      <th>dos</th>\n      <th>normal</th>\n      <th>probe</th>\n      <th>r2l</th>\n      <th>u2r</th>\n    </tr>\n  </thead>\n  <tbody>\n    <tr>\n      <th>true_dos</th>\n      <td>128429</td>\n      <td>750</td>\n      <td>0</td>\n      <td>2</td>\n      <td>0</td>\n    </tr>\n    <tr>\n      <th>true_normal</th>\n      <td>285</td>\n      <td>31666</td>\n      <td>36</td>\n      <td>106</td>\n      <td>9</td>\n    </tr>\n    <tr>\n      <th>true_probe</th>\n      <td>2</td>\n      <td>459</td>\n      <td>892</td>\n      <td>1</td>\n      <td>1</td>\n    </tr>\n    <tr>\n      <th>true_r2l</th>\n      <td>3</td>\n      <td>280</td>\n      <td>1</td>\n      <td>88</td>\n      <td>0</td>\n    </tr>\n    <tr>\n      <th>true_u2r</th>\n      <td>0</td>\n      <td>9</td>\n      <td>0</td>\n      <td>0</td>\n      <td>8</td>\n    </tr>\n  </tbody>\n</table>\n</div>"
     },
     "execution_count": 11,
     "metadata": {},
     "output_type": "execute_result"
    }
   ],
   "source": [
    "cm_2nd"
   ],
   "metadata": {
    "collapsed": false,
    "ExecuteTime": {
     "end_time": "2023-09-11T12:53:14.192829Z",
     "start_time": "2023-09-11T12:53:14.129453Z"
    }
   }
  },
  {
   "cell_type": "code",
   "execution_count": 12,
   "outputs": [
    {
     "name": "stdout",
     "output_type": "stream",
     "text": [
      "0    129631\n",
      "1       761\n",
      "2       380\n",
      "3       144\n",
      "dtype: int64\n"
     ]
    }
   ],
   "source": [
    "# TODO: ここから先が完成していない．\n",
    "\n",
    "model_1st: lgb.Booster = lgb.Booster(model_file=\"models/lightgbm/lgb_dropped_binary_tuned_booster.model\")\n",
    "model_2nd: lgb.Booster = lgb.Booster(model_file=\"models/lightgbm/lgb_dropped_mapped_anomaly_tuned_booster.model\")\n",
    "y_pred_binary = classification_normal_and_anomaly(x_test, model_1st)\n",
    "predicted_indexes = y_pred_binary[y_pred_binary == 1].index\n",
    "x_anomalies = x_test.loc[predicted_indexes]\n",
    "y_pred_anomalies: pd.Series = classification_anomalies(x_anomalies, model_2nd)\n",
    "print(y_pred_anomalies.value_counts())\n",
    "y_pred_normal = y_pred_binary[y_pred_binary == 0].apply(lambda _: 1)\n",
    "y_pred = pd.concat([y_pred_normal, y_pred_anomalies])\n",
    "\n",
    "y_test_binary = y_test.apply(lambda x: 0 if x == 1 else 1)\n",
    "\n",
    "cm_1st = confusion_matrix_df(y_test_binary.sort_index(), y_pred_binary.sort_index(), labels=['normal', 'anomaly'])\n",
    "\n",
    "cm_2nd = confusion_matrix_df(y_test.sort_index(), y_pred.sort_index())"
   ],
   "metadata": {
    "collapsed": false,
    "ExecuteTime": {
     "end_time": "2023-09-11T12:53:14.463645Z",
     "start_time": "2023-09-11T12:53:14.139403Z"
    }
   }
  },
  {
   "cell_type": "code",
   "execution_count": 13,
   "outputs": [
    {
     "ename": "NameError",
     "evalue": "name 'x_train' is not defined",
     "output_type": "error",
     "traceback": [
      "\u001B[0;31m---------------------------------------------------------------------------\u001B[0m",
      "\u001B[0;31mNameError\u001B[0m                                 Traceback (most recent call last)",
      "Cell \u001B[0;32mIn[13], line 1\u001B[0m\n\u001B[0;32m----> 1\u001B[0m pd\u001B[38;5;241m.\u001B[39mSeries(np\u001B[38;5;241m.\u001B[39margmax(model_2nd\u001B[38;5;241m.\u001B[39mpredict(\u001B[43mx_train\u001B[49m), axis\u001B[38;5;241m=\u001B[39m\u001B[38;5;241m1\u001B[39m))\u001B[38;5;241m.\u001B[39mvalue_counts()\n",
      "\u001B[0;31mNameError\u001B[0m: name 'x_train' is not defined"
     ]
    }
   ],
   "source": [
    "pd.Series(np.argmax(model_2nd.predict(x_train), axis=1)).value_counts()"
   ],
   "metadata": {
    "collapsed": false,
    "ExecuteTime": {
     "end_time": "2023-09-11T12:53:14.911446Z",
     "start_time": "2023-09-11T12:53:14.463900Z"
    }
   }
  },
  {
   "cell_type": "code",
   "execution_count": null,
   "outputs": [],
   "source": [
    "model_1st: lgb.Booster = lgb.Booster(model_file=\"models/lightgbm/lgb_dropped_binary_tuned_booster.model\")\n",
    "model_2nd: lgb.Booster = lgb.Booster(model_file=\"models/lightgbm/lgb_dropped_mapped_anomaly_tuned_booster.model\")\n",
    "y_pred_binary = classification_normal_and_anomaly(x_test, model_1st)\n",
    "predicted_indexes = y_pred_binary[y_pred_binary == 1].index\n",
    "x_anomalies = x_test.loc[predicted_indexes]\n",
    "y_pred_anomalies: pd.Series = classification_anomalies(x_anomalies, model_2nd)\n",
    "print(y_pred_anomalies.value_counts())\n",
    "y_pred_normal = y_pred_binary[y_pred_binary == 0].apply(lambda _: 1)\n",
    "y_pred = pd.concat([y_pred_normal, y_pred_anomalies])\n",
    "\n",
    "y_test_binary = y_test.apply(lambda x: 0 if x == 1 else 1)\n",
    "\n",
    "cm_1st = confusion_matrix_df(y_test_binary.sort_index(), y_pred_binary.sort_index(), labels=['normal', 'anomaly'])\n",
    "\n",
    "cm_2nd = confusion_matrix_df(y_test.sort_index(), y_pred.sort_index(), labels=correspondences_anomaly.keys())"
   ],
   "metadata": {
    "collapsed": false
   }
  },
  {
   "cell_type": "code",
   "execution_count": null,
   "outputs": [],
   "source": [
    "cm_1st"
   ],
   "metadata": {
    "collapsed": false
   }
  },
  {
   "cell_type": "code",
   "execution_count": null,
   "outputs": [],
   "source": [
    "cm_2nd"
   ],
   "metadata": {
    "collapsed": false
   }
  },
  {
   "cell_type": "code",
   "execution_count": null,
   "outputs": [],
   "source": [
    "confusion_matrix(y_test.sort_index(), y_pred.sort_index())"
   ],
   "metadata": {
    "collapsed": false
   }
  },
  {
   "cell_type": "code",
   "execution_count": null,
   "outputs": [],
   "source": [],
   "metadata": {
    "collapsed": false
   }
  }
 ],
 "metadata": {
  "kernelspec": {
   "display_name": "Python 3",
   "language": "python",
   "name": "python3"
  },
  "language_info": {
   "codemirror_mode": {
    "name": "ipython",
    "version": 2
   },
   "file_extension": ".py",
   "mimetype": "text/x-python",
   "name": "python",
   "nbconvert_exporter": "python",
   "pygments_lexer": "ipython2",
   "version": "2.7.6"
  }
 },
 "nbformat": 4,
 "nbformat_minor": 0
}
