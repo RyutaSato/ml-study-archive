{
 "cells": [
  {
   "cell_type": "code",
   "execution_count": 1,
   "metadata": {
    "collapsed": true,
    "ExecuteTime": {
     "end_time": "2023-09-05T01:29:17.791783Z",
     "start_time": "2023-09-05T01:29:14.970604Z"
    }
   },
   "outputs": [
    {
     "name": "stdout",
     "output_type": "stream",
     "text": [
      "python:      3.10.11\n",
      "sklearn:     1.2.2\n",
      "tensorflow:  2.12.0\n",
      "keras:       2.12.0\n",
      "numpy:       1.23.5\n",
      "pandas:      1.5.3\n"
     ]
    }
   ],
   "source": [
    "import numpy as np\n",
    "\n",
    "from two_step_classification import *\n",
    "print_version()"
   ]
  },
  {
   "cell_type": "code",
   "execution_count": 2,
   "outputs": [],
   "source": [
    "# load data\n",
    "x_train: pd.DataFrame = pd.read_pickle(\"models/kdd99_features/x_train-drop_25_df.pkl\")\n",
    "x_test: pd.DataFrame = pd.read_pickle(\"models/kdd99_features/x_test-drop_25_df.pkl\")\n",
    "y_train: pd.Series = pd.read_pickle(\"models/kdd99_features/y_train_df.pkl\")\n",
    "y_test: pd.Series = pd.read_pickle(\"models/kdd99_features/y_test_df.pkl\")\n",
    "x_train_ae_35: pd.DataFrame = pd.read_pickle(\"models/kdd99_features/x_train-drop+ae_35_df&activation=relu&epochs=5&batch_size=32.pkl\")\n",
    "x_test_ae_35: pd.DataFrame = pd.read_pickle(\"models/kdd99_features/x_test-drop+ae_35_df&activation=relu&epochs=5&batch_size=32.pkl\")"
   ],
   "metadata": {
    "collapsed": false,
    "ExecuteTime": {
     "end_time": "2023-09-05T01:29:17.938837Z",
     "start_time": "2023-09-05T01:29:17.793416Z"
    }
   }
  },
  {
   "cell_type": "code",
   "execution_count": 3,
   "outputs": [],
   "source": [
    "lr_binary_dir = 'models/logistic_regression_binary/'\n",
    "lr_anomaly_dir = 'models/logistic_regression_anomaly/'\n",
    "lgb_binary_dir = 'models/lightgbm/'\n"
   ],
   "metadata": {
    "collapsed": false,
    "ExecuteTime": {
     "end_time": "2023-09-05T01:29:17.941364Z",
     "start_time": "2023-09-05T01:29:17.938395Z"
    }
   }
  },
  {
   "cell_type": "code",
   "execution_count": 4,
   "outputs": [
    {
     "name": "stdout",
     "output_type": "stream",
     "text": [
      "0    129863\n",
      "dtype: int64\n"
     ]
    }
   ],
   "source": [
    "#\n",
    "with open(\"models/logistic_regression_binary/kdd99-drop_25&penalty=l1&solver=liblinear&C=0.1.pkl\", 'rb') as fp:\n",
    "    model_1st: LogisticRegression = pickle.load(fp)\n",
    "with open(\"models/logistic_regression_anomaly/kdd99-dropped_mapped&penalty=l1&solver=liblinear&C=1e-05.pkl\", 'rb') as fp:\n",
    "    model_2nd: LogisticRegression = pickle.load(fp)\n",
    "y_pred_binary = classification_normal_and_anomaly(x_test, model_1st)\n",
    "predicted_indexes = y_pred_binary[y_pred_binary == 1].index\n",
    "x_anomalies: pd.DataFrame = x_test.loc[predicted_indexes]\n",
    "y_pred_anomalies: pd.Series = classification_anomalies(x_anomalies, model_2nd)\n",
    "print(y_pred_anomalies.value_counts())\n",
    "y_pred_normal = y_pred_binary[y_pred_binary == 0].apply(lambda _: 1)\n",
    "y_pred = pd.concat([y_pred_normal, y_pred_anomalies])\n",
    "\n",
    "y_test_binary = y_test.apply(lambda x: 0 if x == 1 else 1)\n",
    "\n",
    "cm_1st = confusion_matrix_df(y_test_binary.sort_index(), y_pred_binary.sort_index(), labels=['normal', 'anomaly'])\n",
    "\n",
    "cm_2nd = confusion_matrix_df(y_test.sort_index(), y_pred.sort_index())\n"
   ],
   "metadata": {
    "collapsed": false,
    "ExecuteTime": {
     "end_time": "2023-09-05T01:29:18.131025Z",
     "start_time": "2023-09-05T01:29:17.941619Z"
    }
   }
  },
  {
   "cell_type": "code",
   "execution_count": 5,
   "outputs": [
    {
     "data": {
      "text/plain": "              normal  anomaly\ntrue_normal    31666      436\ntrue_anomaly    1498   129427",
      "text/html": "<div>\n<style scoped>\n    .dataframe tbody tr th:only-of-type {\n        vertical-align: middle;\n    }\n\n    .dataframe tbody tr th {\n        vertical-align: top;\n    }\n\n    .dataframe thead th {\n        text-align: right;\n    }\n</style>\n<table border=\"1\" class=\"dataframe\">\n  <thead>\n    <tr style=\"text-align: right;\">\n      <th></th>\n      <th>normal</th>\n      <th>anomaly</th>\n    </tr>\n  </thead>\n  <tbody>\n    <tr>\n      <th>true_normal</th>\n      <td>31666</td>\n      <td>436</td>\n    </tr>\n    <tr>\n      <th>true_anomaly</th>\n      <td>1498</td>\n      <td>129427</td>\n    </tr>\n  </tbody>\n</table>\n</div>"
     },
     "execution_count": 5,
     "metadata": {},
     "output_type": "execute_result"
    }
   ],
   "source": [
    "cm_1st"
   ],
   "metadata": {
    "collapsed": false,
    "ExecuteTime": {
     "end_time": "2023-09-05T01:29:18.239360Z",
     "start_time": "2023-09-05T01:29:18.145205Z"
    }
   }
  },
  {
   "cell_type": "code",
   "execution_count": 6,
   "outputs": [
    {
     "data": {
      "text/plain": "                dos  normal  probe  r2l  u2r\ntrue_dos     128431     750      0    0    0\ntrue_normal     436   31666      0    0    0\ntrue_probe      896     459      0    0    0\ntrue_r2l         92     280      0    0    0\ntrue_u2r          8       9      0    0    0",
      "text/html": "<div>\n<style scoped>\n    .dataframe tbody tr th:only-of-type {\n        vertical-align: middle;\n    }\n\n    .dataframe tbody tr th {\n        vertical-align: top;\n    }\n\n    .dataframe thead th {\n        text-align: right;\n    }\n</style>\n<table border=\"1\" class=\"dataframe\">\n  <thead>\n    <tr style=\"text-align: right;\">\n      <th></th>\n      <th>dos</th>\n      <th>normal</th>\n      <th>probe</th>\n      <th>r2l</th>\n      <th>u2r</th>\n    </tr>\n  </thead>\n  <tbody>\n    <tr>\n      <th>true_dos</th>\n      <td>128431</td>\n      <td>750</td>\n      <td>0</td>\n      <td>0</td>\n      <td>0</td>\n    </tr>\n    <tr>\n      <th>true_normal</th>\n      <td>436</td>\n      <td>31666</td>\n      <td>0</td>\n      <td>0</td>\n      <td>0</td>\n    </tr>\n    <tr>\n      <th>true_probe</th>\n      <td>896</td>\n      <td>459</td>\n      <td>0</td>\n      <td>0</td>\n      <td>0</td>\n    </tr>\n    <tr>\n      <th>true_r2l</th>\n      <td>92</td>\n      <td>280</td>\n      <td>0</td>\n      <td>0</td>\n      <td>0</td>\n    </tr>\n    <tr>\n      <th>true_u2r</th>\n      <td>8</td>\n      <td>9</td>\n      <td>0</td>\n      <td>0</td>\n      <td>0</td>\n    </tr>\n  </tbody>\n</table>\n</div>"
     },
     "execution_count": 6,
     "metadata": {},
     "output_type": "execute_result"
    }
   ],
   "source": [
    "cm_2nd"
   ],
   "metadata": {
    "collapsed": false,
    "ExecuteTime": {
     "end_time": "2023-09-05T01:29:18.243084Z",
     "start_time": "2023-09-05T01:29:18.192558Z"
    }
   }
  },
  {
   "cell_type": "code",
   "execution_count": 7,
   "outputs": [
    {
     "name": "stdout",
     "output_type": "stream",
     "text": [
      "0    129631\n",
      "1       761\n",
      "2       380\n",
      "3       144\n",
      "dtype: int64\n"
     ]
    }
   ],
   "source": [
    "model_1st: lgb.Booster = lgb.Booster(model_file=\"models/lightgbm/lgb_dropped_binary_tuned_booster.model\")\n",
    "model_2nd: lgb.Booster = lgb.Booster(model_file=\"models/lightgbm/lgb_dropped_mapped_anomaly_tuned_booster.model\")\n",
    "y_pred_binary = classification_normal_and_anomaly(x_test, model_1st)\n",
    "predicted_indexes = y_pred_binary[y_pred_binary == 1].index\n",
    "x_anomalies = x_test.loc[predicted_indexes]\n",
    "y_pred_anomalies: pd.Series = classification_anomalies(x_anomalies, model_2nd)\n",
    "print(y_pred_anomalies.value_counts())\n",
    "y_pred_normal = y_pred_binary[y_pred_binary == 0].apply(lambda _: 1)\n",
    "y_pred = pd.concat([y_pred_normal, y_pred_anomalies])\n",
    "\n",
    "y_test_binary = y_test.apply(lambda x: 0 if x == 1 else 1)\n",
    "\n",
    "cm_1st = confusion_matrix_df(y_test_binary.sort_index(), y_pred_binary.sort_index(), labels=['normal', 'anomaly'])\n",
    "\n",
    "cm_2nd = confusion_matrix_df(y_test.sort_index(), y_pred.sort_index())"
   ],
   "metadata": {
    "collapsed": false,
    "ExecuteTime": {
     "end_time": "2023-09-05T01:29:18.502324Z",
     "start_time": "2023-09-05T01:29:18.224996Z"
    }
   }
  },
  {
   "cell_type": "code",
   "execution_count": 8,
   "outputs": [
    {
     "data": {
      "text/plain": "0    297823\n1     15490\n2     15043\n3      2638\ndtype: int64"
     },
     "execution_count": 8,
     "metadata": {},
     "output_type": "execute_result"
    }
   ],
   "source": [
    "pd.Series(np.argmax(model_2nd.predict(x_train), axis=1)).value_counts()"
   ],
   "metadata": {
    "collapsed": false,
    "ExecuteTime": {
     "end_time": "2023-09-05T01:29:18.605597Z",
     "start_time": "2023-09-05T01:29:18.502112Z"
    }
   }
  },
  {
   "cell_type": "code",
   "execution_count": 19,
   "outputs": [
    {
     "name": "stdout",
     "output_type": "stream",
     "text": [
      "0    129631\n",
      "1       761\n",
      "2       380\n",
      "3       144\n",
      "dtype: int64\n"
     ]
    },
    {
     "ename": "ValueError",
     "evalue": "Shape of passed values is (5, 5), indices imply (4, 4)",
     "output_type": "error",
     "traceback": [
      "\u001B[0;31m---------------------------------------------------------------------------\u001B[0m",
      "\u001B[0;31mValueError\u001B[0m                                Traceback (most recent call last)",
      "Cell \u001B[0;32mIn[19], line 15\u001B[0m\n\u001B[1;32m     11\u001B[0m y_test_binary \u001B[38;5;241m=\u001B[39m y_test\u001B[38;5;241m.\u001B[39mapply(\u001B[38;5;28;01mlambda\u001B[39;00m x: \u001B[38;5;241m0\u001B[39m \u001B[38;5;28;01mif\u001B[39;00m x \u001B[38;5;241m==\u001B[39m \u001B[38;5;241m1\u001B[39m \u001B[38;5;28;01melse\u001B[39;00m \u001B[38;5;241m1\u001B[39m)\n\u001B[1;32m     13\u001B[0m cm_1st \u001B[38;5;241m=\u001B[39m confusion_matrix_df(y_test_binary\u001B[38;5;241m.\u001B[39msort_index(), y_pred_binary\u001B[38;5;241m.\u001B[39msort_index(), labels\u001B[38;5;241m=\u001B[39m[\u001B[38;5;124m'\u001B[39m\u001B[38;5;124mnormal\u001B[39m\u001B[38;5;124m'\u001B[39m, \u001B[38;5;124m'\u001B[39m\u001B[38;5;124manomaly\u001B[39m\u001B[38;5;124m'\u001B[39m])\n\u001B[0;32m---> 15\u001B[0m cm_2nd \u001B[38;5;241m=\u001B[39m \u001B[43mconfusion_matrix_df\u001B[49m\u001B[43m(\u001B[49m\u001B[43my_test\u001B[49m\u001B[38;5;241;43m.\u001B[39;49m\u001B[43msort_index\u001B[49m\u001B[43m(\u001B[49m\u001B[43m)\u001B[49m\u001B[43m,\u001B[49m\u001B[43m \u001B[49m\u001B[43my_pred\u001B[49m\u001B[38;5;241;43m.\u001B[39;49m\u001B[43msort_index\u001B[49m\u001B[43m(\u001B[49m\u001B[43m)\u001B[49m\u001B[43m,\u001B[49m\u001B[43m \u001B[49m\u001B[43mlabels\u001B[49m\u001B[38;5;241;43m=\u001B[39;49m\u001B[43mcorrespondences_anomaly\u001B[49m\u001B[38;5;241;43m.\u001B[39;49m\u001B[43mkeys\u001B[49m\u001B[43m(\u001B[49m\u001B[43m)\u001B[49m\u001B[43m)\u001B[49m\n",
      "File \u001B[0;32m~/DataspellProjects/ml/utils_kdd99.py:174\u001B[0m, in \u001B[0;36mconfusion_matrix_df\u001B[0;34m(y_true, y_pred, labels)\u001B[0m\n\u001B[1;32m    172\u001B[0m \u001B[38;5;28;01mdef\u001B[39;00m \u001B[38;5;21mconfusion_matrix_df\u001B[39m(y_true, y_pred, labels\u001B[38;5;241m=\u001B[39mcorrespondences\u001B[38;5;241m.\u001B[39mkeys()):\n\u001B[0;32m--> 174\u001B[0m     \u001B[38;5;28;01mreturn\u001B[39;00m \u001B[43mpd\u001B[49m\u001B[38;5;241;43m.\u001B[39;49m\u001B[43mDataFrame\u001B[49m\u001B[43m(\u001B[49m\u001B[43mconfusion_matrix\u001B[49m\u001B[43m(\u001B[49m\u001B[43my_true\u001B[49m\u001B[43m,\u001B[49m\u001B[43m \u001B[49m\u001B[43my_pred\u001B[49m\u001B[43m)\u001B[49m\u001B[43m,\u001B[49m\n\u001B[1;32m    175\u001B[0m \u001B[43m                        \u001B[49m\u001B[43mindex\u001B[49m\u001B[38;5;241;43m=\u001B[39;49m\u001B[43m[\u001B[49m\u001B[38;5;124;43m\"\u001B[39;49m\u001B[38;5;124;43mtrue_\u001B[39;49m\u001B[38;5;124;43m\"\u001B[39;49m\u001B[43m \u001B[49m\u001B[38;5;241;43m+\u001B[39;49m\u001B[43m \u001B[49m\u001B[43mlabel\u001B[49m\u001B[43m \u001B[49m\u001B[38;5;28;43;01mfor\u001B[39;49;00m\u001B[43m \u001B[49m\u001B[43mlabel\u001B[49m\u001B[43m \u001B[49m\u001B[38;5;129;43;01min\u001B[39;49;00m\u001B[43m \u001B[49m\u001B[43mlabels\u001B[49m\u001B[43m]\u001B[49m\u001B[43m,\u001B[49m\n\u001B[1;32m    176\u001B[0m \u001B[43m                        \u001B[49m\u001B[43mcolumns\u001B[49m\u001B[38;5;241;43m=\u001B[39;49m\u001B[43mlabels\u001B[49m\u001B[43m)\u001B[49m\n",
      "File \u001B[0;32m~/anaconda3/lib/python3.10/site-packages/pandas/core/frame.py:722\u001B[0m, in \u001B[0;36mDataFrame.__init__\u001B[0;34m(self, data, index, columns, dtype, copy)\u001B[0m\n\u001B[1;32m    712\u001B[0m         mgr \u001B[38;5;241m=\u001B[39m dict_to_mgr(\n\u001B[1;32m    713\u001B[0m             \u001B[38;5;66;03m# error: Item \"ndarray\" of \"Union[ndarray, Series, Index]\" has no\u001B[39;00m\n\u001B[1;32m    714\u001B[0m             \u001B[38;5;66;03m# attribute \"name\"\u001B[39;00m\n\u001B[0;32m   (...)\u001B[0m\n\u001B[1;32m    719\u001B[0m             typ\u001B[38;5;241m=\u001B[39mmanager,\n\u001B[1;32m    720\u001B[0m         )\n\u001B[1;32m    721\u001B[0m     \u001B[38;5;28;01melse\u001B[39;00m:\n\u001B[0;32m--> 722\u001B[0m         mgr \u001B[38;5;241m=\u001B[39m \u001B[43mndarray_to_mgr\u001B[49m\u001B[43m(\u001B[49m\n\u001B[1;32m    723\u001B[0m \u001B[43m            \u001B[49m\u001B[43mdata\u001B[49m\u001B[43m,\u001B[49m\n\u001B[1;32m    724\u001B[0m \u001B[43m            \u001B[49m\u001B[43mindex\u001B[49m\u001B[43m,\u001B[49m\n\u001B[1;32m    725\u001B[0m \u001B[43m            \u001B[49m\u001B[43mcolumns\u001B[49m\u001B[43m,\u001B[49m\n\u001B[1;32m    726\u001B[0m \u001B[43m            \u001B[49m\u001B[43mdtype\u001B[49m\u001B[38;5;241;43m=\u001B[39;49m\u001B[43mdtype\u001B[49m\u001B[43m,\u001B[49m\n\u001B[1;32m    727\u001B[0m \u001B[43m            \u001B[49m\u001B[43mcopy\u001B[49m\u001B[38;5;241;43m=\u001B[39;49m\u001B[43mcopy\u001B[49m\u001B[43m,\u001B[49m\n\u001B[1;32m    728\u001B[0m \u001B[43m            \u001B[49m\u001B[43mtyp\u001B[49m\u001B[38;5;241;43m=\u001B[39;49m\u001B[43mmanager\u001B[49m\u001B[43m,\u001B[49m\n\u001B[1;32m    729\u001B[0m \u001B[43m        \u001B[49m\u001B[43m)\u001B[49m\n\u001B[1;32m    731\u001B[0m \u001B[38;5;66;03m# For data is list-like, or Iterable (will consume into list)\u001B[39;00m\n\u001B[1;32m    732\u001B[0m \u001B[38;5;28;01melif\u001B[39;00m is_list_like(data):\n",
      "File \u001B[0;32m~/anaconda3/lib/python3.10/site-packages/pandas/core/internals/construction.py:349\u001B[0m, in \u001B[0;36mndarray_to_mgr\u001B[0;34m(values, index, columns, dtype, copy, typ)\u001B[0m\n\u001B[1;32m    344\u001B[0m \u001B[38;5;66;03m# _prep_ndarraylike ensures that values.ndim == 2 at this point\u001B[39;00m\n\u001B[1;32m    345\u001B[0m index, columns \u001B[38;5;241m=\u001B[39m _get_axes(\n\u001B[1;32m    346\u001B[0m     values\u001B[38;5;241m.\u001B[39mshape[\u001B[38;5;241m0\u001B[39m], values\u001B[38;5;241m.\u001B[39mshape[\u001B[38;5;241m1\u001B[39m], index\u001B[38;5;241m=\u001B[39mindex, columns\u001B[38;5;241m=\u001B[39mcolumns\n\u001B[1;32m    347\u001B[0m )\n\u001B[0;32m--> 349\u001B[0m \u001B[43m_check_values_indices_shape_match\u001B[49m\u001B[43m(\u001B[49m\u001B[43mvalues\u001B[49m\u001B[43m,\u001B[49m\u001B[43m \u001B[49m\u001B[43mindex\u001B[49m\u001B[43m,\u001B[49m\u001B[43m \u001B[49m\u001B[43mcolumns\u001B[49m\u001B[43m)\u001B[49m\n\u001B[1;32m    351\u001B[0m \u001B[38;5;28;01mif\u001B[39;00m typ \u001B[38;5;241m==\u001B[39m \u001B[38;5;124m\"\u001B[39m\u001B[38;5;124marray\u001B[39m\u001B[38;5;124m\"\u001B[39m:\n\u001B[1;32m    353\u001B[0m     \u001B[38;5;28;01mif\u001B[39;00m \u001B[38;5;28missubclass\u001B[39m(values\u001B[38;5;241m.\u001B[39mdtype\u001B[38;5;241m.\u001B[39mtype, \u001B[38;5;28mstr\u001B[39m):\n",
      "File \u001B[0;32m~/anaconda3/lib/python3.10/site-packages/pandas/core/internals/construction.py:420\u001B[0m, in \u001B[0;36m_check_values_indices_shape_match\u001B[0;34m(values, index, columns)\u001B[0m\n\u001B[1;32m    418\u001B[0m passed \u001B[38;5;241m=\u001B[39m values\u001B[38;5;241m.\u001B[39mshape\n\u001B[1;32m    419\u001B[0m implied \u001B[38;5;241m=\u001B[39m (\u001B[38;5;28mlen\u001B[39m(index), \u001B[38;5;28mlen\u001B[39m(columns))\n\u001B[0;32m--> 420\u001B[0m \u001B[38;5;28;01mraise\u001B[39;00m \u001B[38;5;167;01mValueError\u001B[39;00m(\u001B[38;5;124mf\u001B[39m\u001B[38;5;124m\"\u001B[39m\u001B[38;5;124mShape of passed values is \u001B[39m\u001B[38;5;132;01m{\u001B[39;00mpassed\u001B[38;5;132;01m}\u001B[39;00m\u001B[38;5;124m, indices imply \u001B[39m\u001B[38;5;132;01m{\u001B[39;00mimplied\u001B[38;5;132;01m}\u001B[39;00m\u001B[38;5;124m\"\u001B[39m)\n",
      "\u001B[0;31mValueError\u001B[0m: Shape of passed values is (5, 5), indices imply (4, 4)"
     ]
    }
   ],
   "source": [
    "model_1st: lgb.Booster = lgb.Booster(model_file=\"models/lightgbm/lgb_dropped_binary_tuned_booster.model\")\n",
    "model_2nd: lgb.Booster = lgb.Booster(model_file=\"models/lightgbm/lgb_dropped_mapped_anomaly_tuned_booster.model\")\n",
    "y_pred_binary = classification_normal_and_anomaly(x_test, model_1st)\n",
    "predicted_indexes = y_pred_binary[y_pred_binary == 1].index\n",
    "x_anomalies = x_test.loc[predicted_indexes]\n",
    "y_pred_anomalies: pd.Series = classification_anomalies(x_anomalies, model_2nd)\n",
    "print(y_pred_anomalies.value_counts())\n",
    "y_pred_normal = y_pred_binary[y_pred_binary == 0].apply(lambda _: 1)\n",
    "y_pred = pd.concat([y_pred_normal, y_pred_anomalies])\n",
    "\n",
    "y_test_binary = y_test.apply(lambda x: 0 if x == 1 else 1)\n",
    "\n",
    "cm_1st = confusion_matrix_df(y_test_binary.sort_index(), y_pred_binary.sort_index(), labels=['normal', 'anomaly'])\n",
    "\n",
    "cm_2nd = confusion_matrix_df(y_test.sort_index(), y_pred.sort_index(), labels=correspondences_anomaly.keys())"
   ],
   "metadata": {
    "collapsed": false,
    "ExecuteTime": {
     "end_time": "2023-09-05T01:31:35.626866Z",
     "start_time": "2023-09-05T01:31:35.335099Z"
    }
   }
  },
  {
   "cell_type": "code",
   "execution_count": 17,
   "outputs": [
    {
     "data": {
      "text/plain": "              normal  anomaly\ntrue_normal    32083       19\ntrue_anomaly      28   130897",
      "text/html": "<div>\n<style scoped>\n    .dataframe tbody tr th:only-of-type {\n        vertical-align: middle;\n    }\n\n    .dataframe tbody tr th {\n        vertical-align: top;\n    }\n\n    .dataframe thead th {\n        text-align: right;\n    }\n</style>\n<table border=\"1\" class=\"dataframe\">\n  <thead>\n    <tr style=\"text-align: right;\">\n      <th></th>\n      <th>normal</th>\n      <th>anomaly</th>\n    </tr>\n  </thead>\n  <tbody>\n    <tr>\n      <th>true_normal</th>\n      <td>32083</td>\n      <td>19</td>\n    </tr>\n    <tr>\n      <th>true_anomaly</th>\n      <td>28</td>\n      <td>130897</td>\n    </tr>\n  </tbody>\n</table>\n</div>"
     },
     "execution_count": 17,
     "metadata": {},
     "output_type": "execute_result"
    }
   ],
   "source": [
    "cm_1st"
   ],
   "metadata": {
    "collapsed": false,
    "ExecuteTime": {
     "end_time": "2023-09-05T01:31:22.486101Z",
     "start_time": "2023-09-05T01:31:22.479661Z"
    }
   }
  },
  {
   "cell_type": "code",
   "execution_count": 18,
   "outputs": [
    {
     "data": {
      "text/plain": "                dos  normal  probe  r2l  u2r\ntrue_dos     129166       7      5    3    0\ntrue_normal       2   32092      6    2    0\ntrue_probe      463     757      5  130    0\ntrue_r2l          0       9    359    4    0\ntrue_u2r          0       7      5    5    0",
      "text/html": "<div>\n<style scoped>\n    .dataframe tbody tr th:only-of-type {\n        vertical-align: middle;\n    }\n\n    .dataframe tbody tr th {\n        vertical-align: top;\n    }\n\n    .dataframe thead th {\n        text-align: right;\n    }\n</style>\n<table border=\"1\" class=\"dataframe\">\n  <thead>\n    <tr style=\"text-align: right;\">\n      <th></th>\n      <th>dos</th>\n      <th>normal</th>\n      <th>probe</th>\n      <th>r2l</th>\n      <th>u2r</th>\n    </tr>\n  </thead>\n  <tbody>\n    <tr>\n      <th>true_dos</th>\n      <td>129166</td>\n      <td>7</td>\n      <td>5</td>\n      <td>3</td>\n      <td>0</td>\n    </tr>\n    <tr>\n      <th>true_normal</th>\n      <td>2</td>\n      <td>32092</td>\n      <td>6</td>\n      <td>2</td>\n      <td>0</td>\n    </tr>\n    <tr>\n      <th>true_probe</th>\n      <td>463</td>\n      <td>757</td>\n      <td>5</td>\n      <td>130</td>\n      <td>0</td>\n    </tr>\n    <tr>\n      <th>true_r2l</th>\n      <td>0</td>\n      <td>9</td>\n      <td>359</td>\n      <td>4</td>\n      <td>0</td>\n    </tr>\n    <tr>\n      <th>true_u2r</th>\n      <td>0</td>\n      <td>7</td>\n      <td>5</td>\n      <td>5</td>\n      <td>0</td>\n    </tr>\n  </tbody>\n</table>\n</div>"
     },
     "execution_count": 18,
     "metadata": {},
     "output_type": "execute_result"
    }
   ],
   "source": [
    "cm_2nd"
   ],
   "metadata": {
    "collapsed": false,
    "ExecuteTime": {
     "end_time": "2023-09-05T01:31:22.999452Z",
     "start_time": "2023-09-05T01:31:22.995834Z"
    }
   }
  },
  {
   "cell_type": "code",
   "execution_count": 20,
   "outputs": [
    {
     "data": {
      "text/plain": "array([[129166,      7,      5,      3,      0],\n       [     2,  32092,      6,      2,      0],\n       [   463,    757,      5,    130,      0],\n       [     0,      9,    359,      4,      0],\n       [     0,      7,      5,      5,      0]])"
     },
     "execution_count": 20,
     "metadata": {},
     "output_type": "execute_result"
    }
   ],
   "source": [
    "confusion_matrix(y_test.sort_index(), y_pred.sort_index())"
   ],
   "metadata": {
    "collapsed": false,
    "ExecuteTime": {
     "end_time": "2023-09-05T01:32:12.479334Z",
     "start_time": "2023-09-05T01:32:12.427282Z"
    }
   }
  },
  {
   "cell_type": "code",
   "execution_count": null,
   "outputs": [],
   "source": [],
   "metadata": {
    "collapsed": false
   }
  }
 ],
 "metadata": {
  "kernelspec": {
   "display_name": "Python 3",
   "language": "python",
   "name": "python3"
  },
  "language_info": {
   "codemirror_mode": {
    "name": "ipython",
    "version": 2
   },
   "file_extension": ".py",
   "mimetype": "text/x-python",
   "name": "python",
   "nbconvert_exporter": "python",
   "pygments_lexer": "ipython2",
   "version": "2.7.6"
  }
 },
 "nbformat": 4,
 "nbformat_minor": 0
}
